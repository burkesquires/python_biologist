{
 "cells": [
  {
   "cell_type": "markdown",
   "metadata": {},
   "source": [
    "# Introduction to SQL with SQLite and Python"
   ]
  },
  {
   "cell_type": "markdown",
   "metadata": {},
   "source": [
    "[<img src=\"https://www.sqlite.org/images/sqlite370_banner.gif\">](https://www.sqlite.org/index.html)\n",
    "\n",
    "\"SQLite is an in-process library that implements a self-contained, serverless, zero-configuration, transactional SQL database engine. The code for SQLite is in the public domain and is thus free for use for any purpose, commercial or private. SQLite is the most widely deployed database in the world with more applications than we can count, including several high-profile projects.\n",
    "\n",
    "SQLite is an embedded SQL database engine. Unlike most other SQL databases, SQLite does not have a separate server process. SQLite reads and writes directly to ordinary disk files. A complete SQL database with multiple tables, indices, triggers, and views, is contained in a single disk file. The database file format is cross-platform - you can freely copy a database between 32-bit and 64-bit systems or between big-endian and little-endian architectures. These features make SQLite a popular choice as an Application File Format. SQLite database files are a recommended storage format by the US Library of Congress.\"\n",
    "\n",
    "__Executive Summary__\n",
    "\n",
    "- Full-featured SQL\n",
    "- Billions and billions of deployments\n",
    "- Single-file database\n",
    "- Public domain source code\n",
    "- All source code in one file (sqlite3.c)\n",
    "- Small footprint\n",
    "- Max DB size: 140 terabytes (247 bytes)\n",
    "- Max row size: 1 gigabyte\n",
    "- Faster than direct file I/O\n",
    "- Aviation-grade quality and testing\n",
    "- Zero-configuration\n",
    "- ACID transactions, even after power loss\n",
    "- Stable, enduring file format\n",
    "- Extensive, detailed documentation\n",
    "- Long-term support"
   ]
  },
  {
   "cell_type": "markdown",
   "metadata": {},
   "source": [
    "---"
   ]
  },
  {
   "cell_type": "markdown",
   "metadata": {},
   "source": [
    "### How to install SQLite3:"
   ]
  },
  {
   "cell_type": "code",
   "execution_count": null,
   "metadata": {},
   "outputs": [],
   "source": [
    "conda install -y sqlite"
   ]
  },
  {
   "cell_type": "markdown",
   "metadata": {},
   "source": [
    "### How to quickly use on the command line:\n",
    "\n",
    "* <b>To start:</b> ubuntu@ubuntu:~$ sqlite3\n",
    "    \n",
    "* <b>To quit:</b>  sqlite> .quit\n",
    "    \n",
    "* <b>To create:</b> ubuntu@ubuntu:~$  sqlite3 database_name.db\n",
    "    \n",
    "* <b>To check:</b> sqlite> .databases"
   ]
  },
  {
   "cell_type": "markdown",
   "metadata": {},
   "source": [
    "### Check `sqlite3` Module & Version\n"
   ]
  },
  {
   "cell_type": "code",
   "execution_count": null,
   "metadata": {},
   "outputs": [],
   "source": [
    "import sqlite3\n",
    "dir(sqlite3)"
   ]
  },
  {
   "cell_type": "code",
   "execution_count": null,
   "metadata": {},
   "outputs": [],
   "source": [
    "# sqlite3 module version\n",
    "print(sqlite3.version)\n",
    "print(sqlite3.version_info)"
   ]
  },
  {
   "cell_type": "code",
   "execution_count": null,
   "metadata": {},
   "outputs": [],
   "source": [
    "# sqlite3 db version\n",
    "print(sqlite3.sqlite_version)\n",
    "print(sqlite3.sqlite_version_info)"
   ]
  },
  {
   "cell_type": "markdown",
   "metadata": {},
   "source": [
    "### How To Use the sqlite_version function For Checking Version in sqlites"
   ]
  },
  {
   "cell_type": "code",
   "execution_count": null,
   "metadata": {},
   "outputs": [],
   "source": [
    "import sqlite3\n",
    "\n",
    "def sqlite_version() :\n",
    "\n",
    "    try :\n",
    "        conn = sqlite3.connect('sql_test.db')\n",
    "        cur = conn.cursor()\n",
    "        sql = \"select sqlite_version() AS 'SQLite Version';\"\n",
    "        \n",
    "        cur.execute(sql)\n",
    "        print(cur.fetchone())\n",
    "        \n",
    "        conn.close()\n",
    "        print(\"sqlite_version sucess\")   \n",
    "    \n",
    "    except Exception as err :\n",
    "        print('error', err)\n",
    "        \n",
    "sqlite_version()"
   ]
  },
  {
   "cell_type": "markdown",
   "metadata": {},
   "source": [
    "## Running DB Server "
   ]
  },
  {
   "cell_type": "markdown",
   "metadata": {},
   "source": [
    "### DB Connection"
   ]
  },
  {
   "cell_type": "code",
   "execution_count": null,
   "metadata": {},
   "outputs": [],
   "source": [
    "import sqlite3\n",
    "conn = sqlite3.connect('sql_test.db')"
   ]
  },
  {
   "cell_type": "code",
   "execution_count": null,
   "metadata": {},
   "outputs": [],
   "source": [
    "print(type(conn))"
   ]
  },
  {
   "cell_type": "code",
   "execution_count": null,
   "metadata": {},
   "outputs": [],
   "source": [
    "print(dir(conn))"
   ]
  },
  {
   "cell_type": "markdown",
   "metadata": {},
   "source": [
    "### Sqlite3.cursor"
   ]
  },
  {
   "cell_type": "code",
   "execution_count": null,
   "metadata": {},
   "outputs": [],
   "source": [
    "import sqlite3\n",
    "conn = sqlite3.connect('sql_test')\n",
    "cur = conn.cursor()\n",
    "\n",
    "print(type(conn))\n",
    "\n",
    "for i in dir(cur) :\n",
    "    if not i.startswith(\"__\") :\n",
    "        print(i)\n",
    "cur.close()"
   ]
  },
  {
   "cell_type": "markdown",
   "metadata": {},
   "source": [
    "### cursor.excute"
   ]
  },
  {
   "cell_type": "code",
   "execution_count": null,
   "metadata": {},
   "outputs": [],
   "source": [
    "# Making student table\n",
    "import sqlite3\n",
    "conn = sqlite3.connect('data/sql_test.db')\n",
    "cur = conn.cursor()\n",
    "\n",
    "sql = \"create table student(name text, age int)\"\n",
    "\n",
    "cur.execute(sql)\n",
    "conn.commit()\n",
    "conn.close()"
   ]
  },
  {
   "cell_type": "code",
   "execution_count": null,
   "metadata": {},
   "outputs": [],
   "source": [
    "# END"
   ]
  },
  {
   "cell_type": "markdown",
   "metadata": {},
   "source": [
    "# SQLite - Python Quick Guide\n"
   ]
  },
  {
   "cell_type": "markdown",
   "metadata": {},
   "source": [
    "### Cotents of Table\n",
    "```\n",
    "(0) CONNECT TO DATABASE\n",
    "(1) CREATE TABLE\n",
    "(2) DROP TABLE\n",
    "(3) INSERT QUERY\n",
    "(4) SELECT QUERY\n",
    "(5) UPDATE QUERY\n",
    "(6) DELETE QUERY\n",
    "```"
   ]
  },
  {
   "cell_type": "markdown",
   "metadata": {},
   "source": [
    "### (0) CONNECT TO DATABASE\n",
    "\n",
    "Following Python code shows how to <b>connect</b> to an existing database. If the database does not exist, then it will be created and finally a database object will be returned."
   ]
  },
  {
   "cell_type": "code",
   "execution_count": null,
   "metadata": {},
   "outputs": [],
   "source": [
    "import sqlite3\n",
    "\n",
    "conn = sqlite3.connect('data/test.db')\n",
    "\n",
    "print(\"Opened database successfully\")"
   ]
  },
  {
   "cell_type": "markdown",
   "metadata": {},
   "source": [
    "### (1) CREATE TABLE\n",
    "\n",
    "#### Definition\n",
    "\n",
    "* SQLite <b>CREATE TABLE</b> statement is used to <b>create</b> a new table in any of the given database. Creating a basic table involves naming the table and defining its columns and each column's data type."
   ]
  },
  {
   "cell_type": "markdown",
   "metadata": {},
   "source": [
    "#### Syntax\n",
    "```\n",
    "CREATE TABLE table_name(\n",
    "    column1 datatype PRIMARY KEY(one or more columns),\n",
    "    column2 datatype,\n",
    "    column3 datatype,\n",
    "    .....\n",
    "    columnN datatype\n",
    ");\n",
    "```"
   ]
  },
  {
   "cell_type": "markdown",
   "metadata": {},
   "source": [
    "Following Python program will be used to <b>create a table</b> in the previously created database."
   ]
  },
  {
   "cell_type": "code",
   "execution_count": null,
   "metadata": {},
   "outputs": [],
   "source": [
    "import sqlite3\n",
    "\n",
    "conn = sqlite3.connect('data/test.db')\n",
    "print(\"Opened database successfully\")\n",
    "\n",
    "conn.execute('''DROP TABLE COMPANY;''')\n",
    "print(\"Table dropped if present\")\n",
    "\n",
    "\n",
    "conn.execute('''CREATE TABLE COMPANY\n",
    "         (ID INT PRIMARY KEY     NOT NULL,\n",
    "         NAME           TEXT    NOT NULL,\n",
    "         AGE            INT     NOT NULL,\n",
    "         ADDRESS        CHAR(50),\n",
    "         SALARY         REAL);''')\n",
    "print(\"Table created successfully\")\n",
    "\n",
    "conn.close()"
   ]
  },
  {
   "cell_type": "markdown",
   "metadata": {},
   "source": [
    "### (2) DROP TABLE"
   ]
  },
  {
   "cell_type": "markdown",
   "metadata": {},
   "source": [
    "#### Definition\n",
    "* SQLite <b>DROP TABLE</b> statement is used to <b>remove</b> a table definition and all associated data, indexes, triggers, constraints, and permission specifications for that table.\n",
    "\n",
    "#### Syntax\n",
    "```\n",
    "DROP TABLE table_name; \n",
    "```"
   ]
  },
  {
   "cell_type": "markdown",
   "metadata": {},
   "source": [
    "                     We can also use from SQLite DB Browser."
   ]
  },
  {
   "cell_type": "markdown",
   "metadata": {},
   "source": [
    "<img src=\"https://github.com/leehaesung/SQLite-Python_Quick_Guide/blob/master/HowDeleteTableAtSQLite3.png?raw=true\" height=\"500\" width=\"550\">"
   ]
  },
  {
   "cell_type": "code",
   "execution_count": null,
   "metadata": {},
   "outputs": [],
   "source": [
    "# Deleting the student table in Python\n",
    "import sqlite3\n",
    "conn = sqlite3.connect('data/sql_test.db')\n",
    "cur = conn.cursor()\n",
    "sql = \"DROP TABLE student;\"\n",
    "cur.execute(sql)\n",
    "conn.commit()\n",
    "conn.close()"
   ]
  },
  {
   "cell_type": "markdown",
   "metadata": {},
   "source": [
    "### (3) INSERT QUERY"
   ]
  },
  {
   "cell_type": "markdown",
   "metadata": {},
   "source": [
    "#### Definition\n",
    "* SQLite <b>INSERT INTO</b> Statement is used to <b>add</b> new rows of data into a table in the database.\n",
    "\n",
    "#### Syntax\n",
    "```\n",
    "TABLE_NAME [(column1, column2, column3,...columnN)] \\\n",
    "VALUES (value1, value2, value3,...valueN);\n",
    "```"
   ]
  },
  {
   "cell_type": "markdown",
   "metadata": {},
   "source": [
    "Following Python program shows how to <b>create records</b> in the COMPANY table created in the above example."
   ]
  },
  {
   "cell_type": "code",
   "execution_count": null,
   "metadata": {},
   "outputs": [],
   "source": [
    "import sqlite3\n",
    "\n",
    "conn = sqlite3.connect('data/test.db')\n",
    "print(\"Opened database successfully\")\n",
    "\n",
    "conn.execute(\"INSERT INTO COMPANY (ID,NAME,AGE,ADDRESS,SALARY) \\\n",
    "      VALUES (1, 'Paul', 32, 'California', 20000.00 )\");\n",
    "\n",
    "conn.execute(\"INSERT INTO COMPANY (ID,NAME,AGE,ADDRESS,SALARY) \\\n",
    "      VALUES (2, 'Allen', 25, 'Texas', 15000.00 )\");\n",
    "\n",
    "conn.execute(\"INSERT INTO COMPANY (ID,NAME,AGE,ADDRESS,SALARY) \\\n",
    "      VALUES (3, 'Teddy', 23, 'Norway', 20000.00 )\");\n",
    "\n",
    "conn.execute(\"INSERT INTO COMPANY (ID,NAME,AGE,ADDRESS,SALARY) \\\n",
    "      VALUES (4, 'Mark', 25, 'Rich-Mond ', 65000.00 )\");\n",
    "\n",
    "conn.commit()\n",
    "print(\"Records created successfully\")\n",
    "conn.close()"
   ]
  },
  {
   "cell_type": "markdown",
   "metadata": {},
   "source": [
    "                     You can also check from SQLite DB Browser.\n",
    "\n",
    "<img src = \"https://github.com/leehaesung/SQLite-Python_Quick_Guide/blob/master/INSERTOperation.png?raw=true\" height=\"500\" width=\"550\">"
   ]
  },
  {
   "cell_type": "markdown",
   "metadata": {},
   "source": [
    "### (4) SELECT QUERY"
   ]
  },
  {
   "cell_type": "markdown",
   "metadata": {},
   "source": [
    "#### Definition\n",
    "* SQLite <b>SELECT</b> statement is used to <b>fetch</b> the data from a SQLite database table which returns data in the form of a result table. These result tables are also called result sets.\n",
    "\n",
    "#### Syntax\n",
    "```\n",
    "SELECT column1, column2, columnN FROM table_name;\n",
    "\n",
    "SELECT * FROM table_name;\n",
    "```"
   ]
  },
  {
   "cell_type": "markdown",
   "metadata": {},
   "source": [
    "Following Python program shows how to <b>fetch and display records</b> from the COMPANY table created in the above example. "
   ]
  },
  {
   "cell_type": "code",
   "execution_count": null,
   "metadata": {},
   "outputs": [],
   "source": [
    "import sqlite3\n",
    "\n",
    "conn = sqlite3.connect('data/test.db')\n",
    "print(\"Opened database successfully\")\n",
    "\n",
    "cursor = conn.execute(\"SELECT id, name, address, salary from COMPANY\")\n",
    "\n",
    "for row in cursor:\n",
    "    print(\"ID = \", row[0])\n",
    "    print(\"NAME = \", row[1])\n",
    "    print(\"ADDRESS = \", row[2])\n",
    "    print(\"SALARY = \", row[3], \"\\n\")\n",
    "\n",
    "print(\"Operation done successfully\")\n",
    "\n",
    "conn.close()"
   ]
  },
  {
   "cell_type": "markdown",
   "metadata": {},
   "source": [
    "### (5) UPDATE QUERY"
   ]
  },
  {
   "cell_type": "markdown",
   "metadata": {},
   "source": [
    "#### Definition\n",
    "* SQLite <b>UPDATE QUERY</b> is used to <b>modify</b> the existing records in a table. You can use <b>WHERE</b> clause with <b>UPDATE QUERY</b> to <b>update</b> selected rows, otherwise all the rows would <b>be updated.</b>\n",
    "\n",
    "#### Syntax\n",
    "```\n",
    "UPDATE table_name\n",
    "SET column1 = value1, column2 = value2...., columnN = valueN\n",
    "WHERE [condition];\n",
    "```"
   ]
  },
  {
   "cell_type": "markdown",
   "metadata": {},
   "source": [
    "Following Python code shows how to use UPDATE statement to <b>update any record</b> and then fetch and display the updated records from the COMPANY table."
   ]
  },
  {
   "cell_type": "code",
   "execution_count": null,
   "metadata": {},
   "outputs": [],
   "source": [
    "import sqlite3\n",
    "\n",
    "conn = sqlite3.connect('data/test.db')\n",
    "print(\"Opened database successfully\")\n",
    "\n",
    "conn.execute(\"UPDATE COMPANY set SALARY = 40000.00 where ID = 1\")\n",
    "conn.commit\n",
    "print(\"Total number of rows updated :\", conn.total_changes)\n",
    "\n",
    "cursor = conn.execute(\"SELECT id, name, address, salary from COMPANY\")\n",
    "for row in cursor:\n",
    "    print(\"ID = \", row[0])\n",
    "    print(\"NAME = \", row[1])\n",
    "    print(\"ADDRESS = \", row[2])\n",
    "    print(\"SALARY = \", row[3], \"\\n\")\n",
    "\n",
    "print(\"Operation done successfully\")\n",
    "conn.close()"
   ]
  },
  {
   "cell_type": "markdown",
   "metadata": {},
   "source": [
    "### (6) DELETE QUERY"
   ]
  },
  {
   "cell_type": "markdown",
   "metadata": {},
   "source": [
    "#### Definition\n",
    "\n",
    "* SQLite <b>DELETE QUERY</b> is used to <b>delete</b> the existing records from a table. You can use WHERE clause with <b>DELETE QUERY</b> to <b>delete</b> the selected rows, otherwise all the records would be deleted.\n",
    "\n",
    "#### Syntax\n",
    "```\n",
    "DELETE FROM table_name\n",
    "WHERE [condition];\n",
    "```"
   ]
  },
  {
   "cell_type": "markdown",
   "metadata": {},
   "source": [
    "Following Python code shows how to use DELETE statement to <b>delete any record</b> and then fetch and display the remaining records from the COMPANY table."
   ]
  },
  {
   "cell_type": "code",
   "execution_count": null,
   "metadata": {},
   "outputs": [],
   "source": [
    "import sqlite3\n",
    "\n",
    "conn = sqlite3.connect('data/test.db')\n",
    "\n",
    "print(\"Opened database successfully\")\n",
    "\n",
    "conn.execute(\"DELETE from COMPANY where ID = 2;\")\n",
    "conn.commit()\n",
    "\n",
    "print(\"Total number of rows deleted :\", conn.total_changes)\n",
    "\n",
    "cursor = conn.execute(\"SELECT id, name, address, salary from COMPANY\")\n",
    "\n",
    "for row in cursor:\n",
    "    print(\"ID = \", row[0])\n",
    "    print(\"NAME = \", row[1])\n",
    "    print(\"ADDRESS = \", row[2])\n",
    "    print(\"SALARY = \", row[3], \"\\n\")\n",
    "\n",
    "print(\"Operation done successfully\")\n",
    "      \n",
    "conn.close()"
   ]
  },
  {
   "cell_type": "markdown",
   "metadata": {},
   "source": [
    "                        You can also check from SQLite DB Browser."
   ]
  },
  {
   "cell_type": "markdown",
   "metadata": {},
   "source": [
    "<img src=\"https://github.com/leehaesung/SQLite-Python_Quick_Guide/blob/master/DELETEOperation.png?raw=true\" height=\"500\" width=\"550\">"
   ]
  },
  {
   "cell_type": "markdown",
   "metadata": {},
   "source": [
    "## Applications"
   ]
  },
  {
   "cell_type": "markdown",
   "metadata": {},
   "source": [
    "* [SQLite3_with_Monitoring_IoT_Arduino_Temp_Sensor_MQTT.ipynb](http://nbviewer.jupyter.org/github/leehaesung/NodeRED/blob/master/02_CodeFiles/11_SigFox/02_SourceCodes/SQLite3_with_Monitoring_IoT_Arduino_Temp_Sensor_MQTT.ipynb)\n",
    "\n",
    "* [SQLite3_with_Monitoring_IoT_ESP8266-01_Temp_Hum_Sensor_MQTT.ipynb](http://nbviewer.jupyter.org/github/leehaesung/NodeRED/blob/master/02_CodeFiles/10_ESP8266-01/02_Codes/SQLite3_with_Monitoring_IoT_ESP8266-01_Temp_Hum_Sensor_MQTT.ipynb)\n",
    "\n",
    "* [SQLite3_with_Monitoring_Server_Temperature_MQTT.ipynb](http://nbviewer.jupyter.org/github/leehaesung/Monitor_MyServer_CPUTemperature/blob/master/02_Source_Codes/SQLite3_with_Monitoring_Server_Temperature_MQTT.ipynb)\n"
   ]
  },
  {
   "cell_type": "markdown",
   "metadata": {},
   "source": [
    "## References"
   ]
  },
  {
   "cell_type": "markdown",
   "metadata": {},
   "source": [
    "* SQLite Tutorial: https://www.tutorialspoint.com/sqlite/\n",
    "* SQLite Quick Guide: https://www.tutorialspoint.com/sqlite/sqlite_quick_guide.htm\n",
    "* SQLite - Python Tuotorial: https://www.tutorialspoint.com/sqlite/sqlite_python.htm\n",
    "* SQLite - Python Quick Guide: https://github.com/leehaesung/SQLite-Python_Quick_Guide"
   ]
  },
  {
   "cell_type": "code",
   "execution_count": null,
   "metadata": {},
   "outputs": [],
   "source": [
    "# END"
   ]
  }
 ],
 "metadata": {
  "kernelspec": {
   "display_name": "Python 3 (ipykernel)",
   "language": "python",
   "name": "python3"
  },
  "language_info": {
   "codemirror_mode": {
    "name": "ipython",
    "version": 3
   },
   "file_extension": ".py",
   "mimetype": "text/x-python",
   "name": "python",
   "nbconvert_exporter": "python",
   "pygments_lexer": "ipython3",
   "version": "3.9.12"
  },
  "nteract": {
   "version": "0.15.0"
  }
 },
 "nbformat": 4,
 "nbformat_minor": 4
}
