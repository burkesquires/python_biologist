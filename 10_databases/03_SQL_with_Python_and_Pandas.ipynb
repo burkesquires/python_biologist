{
 "cells": [
  {
   "cell_type": "markdown",
   "id": "48014a4d-9178-4b67-b9da-2ec3dffafe2f",
   "metadata": {},
   "source": [
    "# Accessing SQLite Databases Using Python and Pandas"
   ]
  },
  {
   "cell_type": "markdown",
   "id": "38ad4789-58e7-4795-ad58-2d5012bed3ed",
   "metadata": {},
   "source": [
    "Source: [The Carpentries / Data Carpentries](https://github.com/datacarpentry/python-ecology-lesson)"
   ]
  },
  {
   "cell_type": "markdown",
   "id": "6cbf6c1e-4a0b-4d38-802f-f8b0fd3c5253",
   "metadata": {},
   "source": [
    "---"
   ]
  },
  {
   "cell_type": "markdown",
   "id": "e42377b8-46e8-4f63-bae5-0018ce48ddcb",
   "metadata": {},
   "source": [
    "- Questions:\n",
    "    - \"What if my data are stored in an SQL database? Can I manage them with Python?\"\n",
    "    - \"How can I write data from Python to be used with SQL?\"\n",
    "- Objectives:\n",
    "    - \"Use the sqlite3 module to interact with a SQL database.\"\n",
    "    - \"Access data stored in SQLite using Python.\"\n",
    "    - \"Describe the difference in interacting with data stored as a CSV file versus in SQLite.\"\n",
    "    - \"Describe the benefits of accessing data using a database compared to a CSV file.\"\n",
    "- Keypoints:\n",
    "    - \"sqlite3 provides a SQL-like interface to read, query, and write SQL databases from Python.\"\n",
    "    - \"sqlite3 can be used with Pandas to read SQL data to the familiar Pandas DataFrame.\"\n",
    "    - \"Pandas and sqlite3 can also be used to transfer between the CSV and SQL formats.\""
   ]
  },
  {
   "cell_type": "markdown",
   "id": "0ec903b6-5753-44ad-820d-136ce5a8eee9",
   "metadata": {},
   "source": [
    "---"
   ]
  },
  {
   "cell_type": "markdown",
   "id": "ade6050c-48f3-47f5-8364-3437fc3ac24b",
   "metadata": {},
   "source": [
    "## Python and SQL\n",
    "\n",
    "When you open a CSV in python, and assign it to a variable name, you are using\n",
    "your computers memory to save that variable. Accessing data from a database like\n",
    "SQL is not only more efficient, but also it allows you to subset and import only\n",
    "the parts of the data that you need.\n",
    "\n",
    "In the following lesson, we'll see some approaches that can be taken to do so."
   ]
  },
  {
   "cell_type": "markdown",
   "id": "3ee3d501-96ea-4a84-999a-dc4c864bf36b",
   "metadata": {},
   "source": [
    "### The `sqlite3` module\n",
    "\n",
    "The [sqlite3] module provides a straightforward interface for interacting with\n",
    "SQLite databases. A connection object is created using `sqlite3.connect()`; the\n",
    "connection must be closed at the end of the session with the `.close()` command.\n",
    "While the connection is open, any interactions with the database require you to\n",
    "make a cursor object with the `.cursor()` command. The cursor is then ready to\n",
    "perform all kinds of operations with `.execute()`.\n",
    "\n",
    "[sqlite3]: https://docs.python.org/3/library/sqlite3.html"
   ]
  },
  {
   "cell_type": "markdown",
   "id": "8a38197e-0cca-4817-b032-f9d6f4659171",
   "metadata": {},
   "source": [
    "~~~"
   ]
  },
  {
   "cell_type": "code",
   "execution_count": null,
   "id": "4d4c0fa3-672c-44cc-a157-2a0c6108658b",
   "metadata": {},
   "outputs": [],
   "source": [
    "import sqlite3\n",
    "\n",
    "# Create a SQL connection to our SQLite database\n",
    "con = sqlite3.connect(\"data/portal_mammals.sqlite\")\n",
    "\n",
    "cur = con.cursor()\n",
    "\n",
    "# The result of a \"cursor.execute\" can be iterated over by row\n",
    "for row in cur.execute('SELECT * FROM species;'):\n",
    "    print(row)\n",
    "\n",
    "# Be sure to close the connection\n",
    "con.close()"
   ]
  },
  {
   "cell_type": "code",
   "execution_count": null,
   "id": "c30a659c-5a82-4c76-b28b-6ec8fc9eb921",
   "metadata": {},
   "outputs": [],
   "source": []
  },
  {
   "cell_type": "markdown",
   "id": "388c229e-9154-4e5e-9eec-156add6ea701",
   "metadata": {},
   "source": [
    "### Queries\n",
    "\n",
    "One of the most common ways to interact with a database is by querying:\n",
    "retrieving data based on some search parameters. Use a SELECT statement string.\n",
    "The query is returned as a single tuple or a tuple of tuples. Add a WHERE\n",
    "statement to filter your results based on some parameter."
   ]
  },
  {
   "cell_type": "code",
   "execution_count": null,
   "id": "1c3dc0ff-297f-4caa-8db5-083a9354b5d1",
   "metadata": {},
   "outputs": [],
   "source": [
    "import sqlite3\n",
    "\n",
    "# Create a SQL connection to our SQLite database\n",
    "con = sqlite3.connect(\"data/portal_mammals.sqlite\")\n",
    "\n",
    "cur = con.cursor()\n",
    "\n",
    "# Return all results of query\n",
    "cur.execute('SELECT plot_id FROM plots WHERE plot_type=\"Control\"')\n",
    "cur.fetchall()\n",
    "\n",
    "# Return first result of query\n",
    "cur.execute('SELECT species FROM species WHERE taxa=\"Bird\"')\n",
    "cur.fetchone()\n",
    "\n",
    "# Be sure to close the connection\n",
    "con.close()"
   ]
  },
  {
   "cell_type": "markdown",
   "id": "d2358de7-cddc-4889-8cd7-0ccafff9f03d",
   "metadata": {},
   "source": [
    "## Accessing data stored in SQLite using Python and Pandas\n",
    "\n",
    "Using pandas, we can import results of a SQLite query into a dataframe. Note\n",
    "that you can use the same SQL commands / syntax that we used in the SQLite\n",
    "lesson. An example of using pandas together with sqlite is below:"
   ]
  },
  {
   "cell_type": "code",
   "execution_count": null,
   "id": "2eaa15f4-af96-435b-8695-2501f3da74da",
   "metadata": {},
   "outputs": [],
   "source": [
    "import pandas as pd\n",
    "import sqlite3\n",
    "\n",
    "# Read sqlite query results into a pandas DataFrame\n",
    "con = sqlite3.connect(\"data/portal_mammals.sqlite\")\n",
    "df = pd.read_sql_query(\"SELECT * from surveys\", con)\n",
    "\n",
    "# Verify that result of SQL query is stored in the dataframe\n",
    "print(df.head())\n",
    "\n",
    "con.close()"
   ]
  },
  {
   "cell_type": "markdown",
   "id": "0d9e5d78-7aa5-4240-9a27-49fa06146c84",
   "metadata": {},
   "source": [
    "## Storing data: CSV vs SQLite\n",
    "\n",
    "Storing your data in an SQLite database can provide substantial performance\n",
    "improvements when reading/writing compared to CSV. The difference in performance\n",
    "becomes more noticeable as the size of the dataset grows (see for example [these\n",
    "benchmarks]).\n",
    "\n",
    "[these benchmarks]: http://sebastianraschka.com/Articles/2013_sqlite_database.html#results-and-conclusions"
   ]
  },
  {
   "cell_type": "markdown",
   "id": "fe88748b-bb3b-43bd-b426-9805bd263bf9",
   "metadata": {},
   "source": [
    "> ## Challenge - SQL\n",
    ">\n",
    "> 1. Create a query that contains survey data collected between 1998 - 2001 for\n",
    ">   observations of sex \"male\" or \"female\" that includes observation's genus and\n",
    ">   species and site type for the sample. How many records are returned?\n",
    ">\n",
    "> 2. Create a dataframe that contains the total number of observations (count)\n",
    ">   made for all years, and sum of observation weights for each site, ordered by\n",
    ">   site ID."
   ]
  },
  {
   "cell_type": "markdown",
   "id": "b5d6d875-9d91-46bb-bf2f-ca392f0bebb5",
   "metadata": {},
   "source": [
    "## Storing data: Create new tables using Pandas\n",
    "\n",
    "We can also us pandas to create new tables within an SQLite database. Here, we run we re-do an\n",
    "exercise we did before with CSV files using our SQLite database. We first read in our survey data,\n",
    "then select only those survey results for 2002, and then save it out to its own table so we can work\n",
    "with it on its own later."
   ]
  },
  {
   "cell_type": "markdown",
   "id": "b018fd60-f0f9-491e-98d0-92b623f9e63c",
   "metadata": {},
   "source": [
    "---"
   ]
  },
  {
   "cell_type": "code",
   "execution_count": null,
   "id": "8d6a2be4-531f-45b3-9136-f343ad06fafd",
   "metadata": {},
   "outputs": [],
   "source": [
    "import pandas as pd\n",
    "import sqlite3\n",
    "\n",
    "con = sqlite3.connect(\"data/portal_mammals.sqlite\")\n",
    "\n",
    "# Load the data into a DataFrame\n",
    "surveys_df = pd.read_sql_query(\"SELECT * from surveys\", con)\n",
    "\n",
    "# Select only data for 2002\n",
    "surveys2002 = surveys_df[surveys_df.year == 2002]\n",
    "\n",
    "# Write the new DataFrame to a new SQLite table\n",
    "surveys2002.to_sql(\"surveys2002\", con, if_exists=\"replace\")\n",
    "\n",
    "con.close()"
   ]
  },
  {
   "cell_type": "markdown",
   "id": "6e9ff75a-99e5-48c5-b943-e5f27508479a",
   "metadata": {},
   "source": [
    "> ## Challenge - Saving your work\n",
    ">\n",
    "> 1. For each of the challenges in the previous challenge block, modify your code to save the\n",
    ">   results to their own tables in the portal database.\n",
    ">\n",
    "> 2. What are some of the reasons you might want to save the results of your queries back into the\n",
    ">   database? What are some of the reasons you might avoid doing this."
   ]
  },
  {
   "cell_type": "code",
   "execution_count": null,
   "id": "6175621d-0a0b-4f41-a973-27a201af495d",
   "metadata": {},
   "outputs": [],
   "source": []
  }
 ],
 "metadata": {
  "kernelspec": {
   "display_name": "Python 3 (ipykernel)",
   "language": "python",
   "name": "python3"
  },
  "language_info": {
   "codemirror_mode": {
    "name": "ipython",
    "version": 3
   },
   "file_extension": ".py",
   "mimetype": "text/x-python",
   "name": "python",
   "nbconvert_exporter": "python",
   "pygments_lexer": "ipython3",
   "version": "3.9.12"
  }
 },
 "nbformat": 4,
 "nbformat_minor": 5
}
