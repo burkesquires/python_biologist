{
 "cells": [
  {
   "cell_type": "markdown",
   "metadata": {},
   "source": [
    "# Introduction to Programming\n",
    "\n",
    "### Python Programming for Biologists Seminar Series\n",
    "\n",
    "#### R. Burke Squires\n",
    "#### NIAID BCBB"
   ]
  },
  {
   "cell_type": "markdown",
   "metadata": {},
   "source": [
    "---"
   ]
  },
  {
   "cell_type": "markdown",
   "metadata": {},
   "source": [
    "## Printing “Hello World!”\n",
    "C++\n",
    "```C++\n",
    "#include <iostream>\n",
    "int main()\n",
    "{\n",
    "\tstd::count << \"Hello World” << std::endl;\n",
    "\treturn 0;\n",
    "}\n",
    "```\n",
    "Java\n",
    "```java\n",
    "public class HelloWorld { \n",
    "\tpublic static void main (String[] args) {\n",
    " \t\tSystem.out.println(\"Hello World!\"); \n",
    "\t}\n",
    "}\n",
    "```\n",
    "Python\n",
    "```python\n",
    "print(“Hello World!”)\n",
    "```\n",
    "\n",
    "R\n",
    "```r\n",
    "print(\"Hello World!\", quote = FALSE)\n",
    "```"
   ]
  },
  {
   "cell_type": "markdown",
   "metadata": {},
   "source": [
    "# What Are The Parts Of  ",
    "A Programming Language?"
   ]
  },
  {
   "cell_type": "markdown",
   "metadata": {},
   "source": [
    "__Variables__: In simple terms, variables are the name given to methods of storing information in any program. Calling the variable retrieves the stored information.\n",
    "\n",
    "__Control structures__: Control structures in a program determine which variables to use based on the existing parameters. If...then...else statements, for example, is one of the simplest control structures in many languages, that tells the program how to proceed.\n",
    "\n",
    "__Data structures__: Different methods of storing and accessing data in a computer.\n",
    "\n",
    "__Syntax__: The set of rules that define the grammar of a programming language.\n",
    "\n",
    "__Tools__: A piece of software that can help you program faster.\n",
    "\n",
    "[Source](https://www.freelancer.com/articles/programming/tips-for-beginning-coders)\n"
   ]
  },
  {
   "cell_type": "markdown",
   "metadata": {},
   "source": [
    "### Writing Our Program"
   ]
  },
  {
   "cell_type": "markdown",
   "metadata": {},
   "source": [
    "All programming languages share many of the same concepts\n",
    "Data types\n",
    "Data structures\n",
    "Conditionals\n",
    "Loops\n",
    "Functions\n",
    "Files input/output"
   ]
  },
  {
   "cell_type": "markdown",
   "metadata": {},
   "source": [
    "### Data Types"
   ]
  },
  {
   "cell_type": "code",
   "execution_count": null,
   "metadata": {},
   "outputs": [],
   "source": [
    "# Integer\n",
    "conc = 10"
   ]
  },
  {
   "cell_type": "code",
   "execution_count": null,
   "metadata": {},
   "outputs": [],
   "source": [
    "# Floating-point number, Float”\n",
    "pi = 3.14"
   ]
  },
  {
   "cell_type": "code",
   "execution_count": null,
   "metadata": {},
   "outputs": [],
   "source": [
    "# Boolean\n",
    "test1 = True \n",
    "test2 = False"
   ]
  },
  {
   "cell_type": "code",
   "execution_count": null,
   "metadata": {},
   "outputs": [],
   "source": [
    "# Character\n",
    "grade1 = 'A'\n",
    "grade2 = \"B\""
   ]
  },
  {
   "cell_type": "code",
   "execution_count": null,
   "metadata": {},
   "outputs": [],
   "source": [
    "#String (of characters)\n",
    "dna = 'ATCG'"
   ]
  },
  {
   "cell_type": "code",
   "execution_count": null,
   "metadata": {},
   "outputs": [],
   "source": [
    "type(dna)"
   ]
  },
  {
   "cell_type": "code",
   "execution_count": null,
   "metadata": {},
   "outputs": [],
   "source": [
    "dna."
   ]
  },
  {
   "cell_type": "code",
   "execution_count": null,
   "metadata": {},
   "outputs": [],
   "source": [
    "print(\"Hello world!\")"
   ]
  },
  {
   "cell_type": "markdown",
   "metadata": {},
   "source": [
    "# Data Structures"
   ]
  },
  {
   "cell_type": "markdown",
   "metadata": {},
   "source": [
    "### Sequence Data Types\n",
    "\n",
    "- Array (List)\n",
    "    - Ordered; duplicates allowed; can change"
   ]
  },
  {
   "cell_type": "code",
   "execution_count": null,
   "metadata": {},
   "outputs": [],
   "source": [
    "list1 = [1, 2, 2, 3]\n",
    "list2 = ['A', 'B', 'C']\n",
    "list3 = ['a', 1, 'b', 2]"
   ]
  },
  {
   "cell_type": "code",
   "execution_count": null,
   "metadata": {},
   "outputs": [],
   "source": [
    "list1.append(9)\n",
    "list1"
   ]
  },
  {
   "cell_type": "code",
   "execution_count": null,
   "metadata": {},
   "outputs": [],
   "source": [
    "type(list1)"
   ]
  },
  {
   "cell_type": "markdown",
   "metadata": {},
   "source": [
    "### Tuple\n",
    "    - Ordered; duplicates allowed; cannot change"
   ]
  },
  {
   "cell_type": "code",
   "execution_count": null,
   "metadata": {},
   "outputs": [],
   "source": [
    "tpl = (\"a\", \"t\", \"g\", \"c\")\n",
    "tpl"
   ]
  },
  {
   "cell_type": "code",
   "execution_count": null,
   "metadata": {},
   "outputs": [],
   "source": [
    "type(tpl)"
   ]
  },
  {
   "cell_type": "markdown",
   "metadata": {},
   "source": [
    "### Mapping Data Types\n",
    "\n",
    "- Hash (Dictionary)\n",
    "- Key / value pair\n",
    "- Unordered; no duplicate keys, can change"
   ]
  },
  {
   "cell_type": "code",
   "execution_count": null,
   "metadata": {},
   "outputs": [],
   "source": [
    "dct = { \"BRCA1\": \"cancer gene\" }\n",
    "dct"
   ]
  },
  {
   "cell_type": "markdown",
   "metadata": {},
   "source": [
    "## Variables"
   ]
  },
  {
   "cell_type": "markdown",
   "metadata": {},
   "source": [
    "A specific string that stores a value during the runtime of a program\n",
    "\n",
    "Refer to a place in memory where the value is held"
   ]
  },
  {
   "cell_type": "code",
   "execution_count": null,
   "metadata": {},
   "outputs": [],
   "source": [
    "conc = 10\n",
    "print(conc)"
   ]
  },
  {
   "cell_type": "code",
   "execution_count": null,
   "metadata": {},
   "outputs": [],
   "source": [
    "conc = 10\n",
    "conc # jupyter notebook only"
   ]
  },
  {
   "cell_type": "markdown",
   "metadata": {},
   "source": [
    "## Keywords / Reserved Words (python)\n",
    "- and, assert, break, class, continue, def, del, elif, else, except, exec, finally, for, from, global, if, import, in, is, lambda, not, or, pass, print, raise, return, try, while, with, yield"
   ]
  },
  {
   "cell_type": "markdown",
   "metadata": {},
   "source": [
    "## Operators"
   ]
  },
  {
   "cell_type": "markdown",
   "metadata": {},
   "source": [
    "Definition\n",
    "An object that is capable of manipulating a value or operator \n",
    "\n",
    "For example, in \"1 + 2\", the \"1\" and \"2\" are the operands and the plus symbol is the operator"
   ]
  },
  {
   "cell_type": "markdown",
   "metadata": {},
   "source": [
    "## Order of Operators"
   ]
  },
  {
   "cell_type": "markdown",
   "metadata": {},
   "source": [
    "\n",
    "|Operators|Meaning|\n",
    "|---|---|\n",
    "|()|Parentheses|\n",
    "|**|Exponent|\n",
    "|+x, -x, ~x|Unary plus, Unary minus, Bitwise NOT|\n",
    "|*, /, //, %|Multiplication, Division, Floor division, Modulus|\n",
    "|+, -|Addition, Subtraction|\n",
    "|<<, >>|Bitwise shift operators|\n",
    "|&|Bitwise AND|\n",
    "|^|Bitwise XOR|\n",
    "|||Bitwise OR|\n",
    "|==, !=, >, >=, <, <=, is, is not, in, not in|Comparisions, Identity, Membership operators|\n",
    "|not|Logical NOT|\n",
    "|and|Logical AND|\n",
    "|or|Logical OR|\n",
    "\n"
   ]
  },
  {
   "cell_type": "markdown",
   "metadata": {},
   "source": [
    "## Conditional Statements"
   ]
  },
  {
   "cell_type": "markdown",
   "metadata": {},
   "source": [
    "__Definition__: A statement that is true only for certain values (conditions) of the variables or symbols\n"
   ]
  },
  {
   "cell_type": "code",
   "execution_count": null,
   "metadata": {},
   "outputs": [],
   "source": [
    "conc = 8\n",
    "if conc == 10:\n",
    "    print(\"Concentrations is 10 mm\")\n",
    "elif conc == 9:\n",
    "    print(\"Conc is 9\")\n",
    "else:\n",
    "    print('Concentration is not 10 mm')"
   ]
  },
  {
   "cell_type": "markdown",
   "metadata": {},
   "source": [
    "## Loops"
   ]
  },
  {
   "cell_type": "markdown",
   "metadata": {},
   "source": [
    "### For loop…"
   ]
  },
  {
   "cell_type": "markdown",
   "metadata": {},
   "source": [
    "- Execute a known number of times\n",
    "- Measure some strings: ... "
   ]
  },
  {
   "cell_type": "code",
   "execution_count": null,
   "metadata": {},
   "outputs": [],
   "source": [
    "words = ['cat', 'window', 'defenestrate']\n",
    "for w in words:\n",
    "    print(w, len(w))"
   ]
  },
  {
   "cell_type": "markdown",
   "metadata": {},
   "source": [
    "### While loop"
   ]
  },
  {
   "cell_type": "markdown",
   "metadata": {},
   "source": [
    "- Execute while some condition is met\n",
    "- Write Fibonacci series up to n \"\"Print a Fibonacci series up to n.\"\"\" "
   ]
  },
  {
   "cell_type": "code",
   "execution_count": null,
   "metadata": {},
   "outputs": [],
   "source": [
    "a, b = 0, 1\n",
    "n = 10\n",
    "while a < n:\n",
    "    print(a, end=' ') \n",
    "    a, b = b, a+b\n",
    "print()"
   ]
  },
  {
   "cell_type": "markdown",
   "metadata": {},
   "source": [
    "## Functions"
   ]
  },
  {
   "cell_type": "markdown",
   "metadata": {},
   "source": [
    "__Definition__: A basic task of a computer, especially one that corresponds to a single instruction from the user.\n",
    "\n",
    "When an task needs to be performed more then once, it is a good opportunity to convert that code into a function"
   ]
  },
  {
   "cell_type": "code",
   "execution_count": null,
   "metadata": {},
   "outputs": [],
   "source": [
    "def multiply(num1, num2):\n",
    "    return num1 * num2\n",
    "\n",
    "multiply(4,5)"
   ]
  },
  {
   "cell_type": "markdown",
   "metadata": {},
   "source": [
    "## Input / Output"
   ]
  },
  {
   "cell_type": "markdown",
   "metadata": {},
   "source": [
    "File I/O\n",
    "- Read a file\n",
    "    - Text files\n",
    "    - Binary files\n",
    "\n",
    "- Write a file\n",
    "    - Text file\n",
    "    - Binary file"
   ]
  },
  {
   "cell_type": "markdown",
   "metadata": {},
   "source": [
    "Network (Socket) IO\n",
    "- Read from a socket / network connection\n",
    "- Write to a socket / network connection"
   ]
  },
  {
   "cell_type": "markdown",
   "metadata": {},
   "source": [
    "---"
   ]
  },
  {
   "cell_type": "markdown",
   "metadata": {},
   "source": [
    "Resources\n",
    "Algorithms\n",
    "https://www.manning.com/books/grokking-algorithms\n",
    "https://www.toptal.com/developers/sorting-algorithms\n",
    "\n",
    "General python\n",
    "https://docs.python.org/3/tutorial/index.html"
   ]
  },
  {
   "cell_type": "code",
   "execution_count": null,
   "metadata": {},
   "outputs": [],
   "source": []
  }
 ],
 "metadata": {
  "kernelspec": {
   "display_name": "Python 3 (ipykernel)",
   "language": "python",
   "name": "python3"
  },
  "language_info": {
   "codemirror_mode": {
    "name": "ipython",
    "version": 3
   },
   "file_extension": ".py",
   "mimetype": "text/x-python",
   "name": "python",
   "nbconvert_exporter": "python",
   "pygments_lexer": "ipython3",
   "version": "3.9.12"
  }
 },
 "nbformat": 4,
 "nbformat_minor": 4
}
