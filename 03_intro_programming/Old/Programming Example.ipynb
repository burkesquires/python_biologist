{
 "cells": [
  {
   "cell_type": "markdown",
   "metadata": {
    "slideshow": {
     "slide_type": "slide"
    }
   },
   "source": [
    "# Programming Example"
   ]
  },
  {
   "cell_type": "markdown",
   "metadata": {
    "slideshow": {
     "slide_type": "slide"
    }
   },
   "source": [
    "## Our problem:\n",
    "\n",
    "We would like to plot life expectancy data versus health over many decades for all countries of the world. The Gapminder project has such data.\n",
    "\n",
    "Steps:\n",
    "- Understand\n",
    "- Plan\n",
    "- Divide\n",
    "\n",
    "\n",
    "Are we Stuck?\n",
    "- Debug\n",
    "- Reassess\n",
    "- Research\n",
    "\n",
    "Practice\n",
    "\n"
   ]
  },
  {
   "cell_type": "markdown",
   "metadata": {
    "slideshow": {
     "slide_type": "skip"
    }
   },
   "source": [
    "---"
   ]
  },
  {
   "cell_type": "markdown",
   "metadata": {
    "slideshow": {
     "slide_type": "slide"
    }
   },
   "source": [
    "__Gapminder Data__\n",
    "\n",
    "[Gapminder](https://www.gapminder.org/) is an educational foundation with no religious, political or economic dependencies, promoting a fact-based worldview everyone can understand. You can view all of the data here: https://www.gapminder.org/data/\n",
    "\n",
    "We are going to use a CSV export of some data titled \"gapminder.csv\" but the original source of our data  could be downloaded here:"
   ]
  },
  {
   "cell_type": "markdown",
   "metadata": {
    "slideshow": {
     "slide_type": "slide"
    }
   },
   "source": [
    "Lets look at our data:"
   ]
  },
  {
   "cell_type": "code",
   "execution_count": null,
   "metadata": {
    "slideshow": {
     "slide_type": "fragment"
    }
   },
   "outputs": [],
   "source": [
    "import psutil\n",
    "if psutil.WINDOWS:\n",
    "    !gc gapminder.csv -head 10\n",
    "else:\n",
    "    !head gapminder.csv"
   ]
  },
  {
   "cell_type": "markdown",
   "metadata": {
    "slideshow": {
     "slide_type": "skip"
    }
   },
   "source": [
    "---"
   ]
  },
  {
   "cell_type": "markdown",
   "metadata": {
    "slideshow": {
     "slide_type": "slide"
    }
   },
   "source": [
    "Questions:\n",
    "- What are the data types you will need to use / manage?\n",
    "- How will you store your data (i.e. what data structures will you need to use?)\n",
    "- Are there any loops?\n",
    "- Are there any conditions?\n",
    "- Do you need to write any functions?"
   ]
  },
  {
   "cell_type": "markdown",
   "metadata": {
    "slideshow": {
     "slide_type": "slide"
    }
   },
   "source": [
    "### Divide"
   ]
  },
  {
   "cell_type": "markdown",
   "metadata": {
    "slideshow": {
     "slide_type": "fragment"
    }
   },
   "source": [
    "How do we analze this data? \n",
    "\n",
    "What are the steps we need to take?"
   ]
  },
  {
   "cell_type": "markdown",
   "metadata": {
    "slideshow": {
     "slide_type": "slide"
    }
   },
   "source": [
    "### Outline\n",
    "\n",
    "    Open file\n",
    "\n",
    "    loop through file\n",
    "\n",
    "    test if country is united states\n",
    "\n",
    "    if so, print\n",
    "    "
   ]
  },
  {
   "cell_type": "markdown",
   "metadata": {
    "slideshow": {
     "slide_type": "slide"
    }
   },
   "source": [
    "### Pseudocode\n",
    "\n",
    "    Open file\n",
    "\n",
    "    loop through file\n",
    "\n",
    "    test if country is united states\n",
    "\n",
    "    if so, print"
   ]
  },
  {
   "cell_type": "markdown",
   "metadata": {
    "slideshow": {
     "slide_type": "skip"
    }
   },
   "source": [
    "---"
   ]
  },
  {
   "cell_type": "markdown",
   "metadata": {
    "slideshow": {
     "slide_type": "slide"
    }
   },
   "source": [
    "## Our Program!"
   ]
  },
  {
   "cell_type": "markdown",
   "metadata": {
    "slideshow": {
     "slide_type": "slide"
    }
   },
   "source": [
    "__Step 1__\n",
    "\n",
    "Open file\n",
    "\n",
    "Lets search for \"open file python\"\n",
    "\n",
    "Review search results and cut and paste code if possible"
   ]
  },
  {
   "cell_type": "markdown",
   "metadata": {
    "slideshow": {
     "slide_type": "slide"
    }
   },
   "source": [
    "__Step 1__\n",
    "\n",
    "Open file\n",
    "\n",
    "Lets search for \"open csv file python\"\n",
    "\n",
    "Review search results and cut and paste code if possible"
   ]
  },
  {
   "cell_type": "markdown",
   "metadata": {
    "slideshow": {
     "slide_type": "slide"
    }
   },
   "source": [
    "__Step 2__\n",
    "\n",
    "loop through file\n",
    "\n",
    "Lets search for \"loop through csv file python\"\n",
    "\n",
    "Review search results and cut and paste code if possible"
   ]
  },
  {
   "cell_type": "markdown",
   "metadata": {
    "slideshow": {
     "slide_type": "slide"
    }
   },
   "source": [
    "__Step 3__\n",
    "\n",
    "test if country is united states\n",
    "\n",
    "Lets search for \"search text python\"\n",
    "\n",
    "Review search results and cut and paste code if possible\n",
    "\n",
    "\n",
    "\n",
    "\n"
   ]
  },
  {
   "cell_type": "code",
   "execution_count": null,
   "metadata": {
    "slideshow": {
     "slide_type": "slide"
    }
   },
   "outputs": [],
   "source": [
    "import csv\n",
    "\n",
    "#Open file\n",
    "with open('gapminder.csv') as gap_file:\n",
    "    \n",
    "    gap_reader = csv.reader(gap_file)\n",
    "    \n",
    "    #loop through file\n",
    "    for row in gap_reader:\n",
    "    \n",
    "        #test if country is united states\n",
    "        if row[0] == \"United States\":\n",
    "            \n",
    "            #if so, print\n",
    "            print(row)"
   ]
  },
  {
   "cell_type": "markdown",
   "metadata": {
    "tags": []
   },
   "source": [
    "---\n",
    "\n",
    "## Resources:\n",
    "- https://pybit.es/python-interpreters.html"
   ]
  },
  {
   "cell_type": "code",
   "execution_count": null,
   "metadata": {},
   "outputs": [],
   "source": []
  },
  {
   "cell_type": "code",
   "execution_count": null,
   "metadata": {},
   "outputs": [],
   "source": [
    " #Test Average and Grade\n",
    "\n",
    "#Enter 5 test scores\n",
    "test1 = int(input('Enter score 1: '))\n",
    "test2 = int(input('Enter score 2: '))\n",
    "test3 = int(input('Enter score 3: '))\n",
    "test4 = int(input('Enter score 4: '))\n",
    "test5 = int(input('Enter score 5: '))\n",
    "\n",
    "total =(test1 + test2 + test3 + test4 + test5)\n",
    "\n",
    "    #Calculate average\n",
    "    def calc_average(total):\n",
    "        return total / 5\n",
    "\n",
    "    #Grading scale\n",
    "    def determine_score(grade):\n",
    "        if 90 <= grade <= 100:\n",
    "            return 'A'\n",
    "        elif 80 <= grade <= 89:\n",
    "            return 'B'\n",
    "        elif 70 <= grade <= 79:\n",
    "            return 'C'\n",
    "        elif 60 <= grade <= 69:\n",
    "            return 'D'\n",
    "        else:\n",
    "            return 'F'\n",
    "\n",
    "    grade = total\n",
    "    avg = calc_average(total)\n",
    "    abc_grade = determine_score(grade)\n",
    "\n",
    "    print(\"Score 1:\", determine_score(test1)) \n",
    "    print(\"Score 2:\", determine_score(test2)) \n",
    "    print(\"Score 3:\", determine_score(test3)) \n",
    "    print(\"Score 4:\", determine_score(test4)) \n",
    "    print(\"Score 5:\", determine_score(test5)) \n",
    "    print(\"The average grade is: %s which is a(n): %s \" % (str(avg), abc_grade))"
   ]
  },
  {
   "cell_type": "code",
   "execution_count": null,
   "metadata": {},
   "outputs": [],
   "source": []
  },
  {
   "cell_type": "code",
   "execution_count": null,
   "metadata": {},
   "outputs": [],
   "source": [
    "#Calculate average\n",
    "def calc_average(total):\n",
    "    return total / 5\n",
    "\n",
    "#Grading scale\n",
    "def determine_score(grade):\n",
    "    if 90 <= grade <= 100:\n",
    "        return 'A'\n",
    "    elif 80 <= grade <= 89:\n",
    "        return 'B'\n",
    "    elif 70 <= grade <= 79:\n",
    "        return 'C'\n",
    "    elif 60 <= grade <= 69:\n",
    "        return 'D'\n",
    "    else:\n",
    "        return 'F'\n",
    "\n",
    "#Enter 5 test scores\n",
    "scores = []\n",
    "for i in range(1, 6):\n",
    "    score = int(input('Enter score {0}: '.format(i)))\n",
    "    print 'That\\'s a(n): ' + determine_score(score)\n",
    "    scores.append(score)\n",
    "\n",
    "total = sum(scores)\n",
    "avg = calc_average(total)\n",
    "abc_grade = determine_score(avg)\n",
    "\n",
    "\n",
    "print('Average grade is: ' + str(avg))\n",
    "print(\"That's a(n): \" + str(abc_grade))"
   ]
  }
 ],
 "metadata": {
  "celltoolbar": "Slideshow",
  "kernelspec": {
   "display_name": "Python 3 (ipykernel)",
   "language": "python",
   "name": "python3"
  },
  "language_info": {
   "codemirror_mode": {
    "name": "ipython",
    "version": 3
   },
   "file_extension": ".py",
   "mimetype": "text/x-python",
   "name": "python",
   "nbconvert_exporter": "python",
   "pygments_lexer": "ipython3",
   "version": "3.9.12"
  }
 },
 "nbformat": 4,
 "nbformat_minor": 4
}
