{
 "cells": [
  {
   "cell_type": "markdown",
   "metadata": {
    "slideshow": {
     "slide_type": "slide"
    }
   },
   "source": [
    "# Programming Example"
   ]
  },
  {
   "cell_type": "markdown",
   "metadata": {
    "slideshow": {
     "slide_type": "slide"
    }
   },
   "source": [
    "## Our problem:\n",
    "\n",
    "We would like to plot life expectancy data versus health over many decades for all countries of the world. The Gapminder project has such data.\n",
    "\n",
    "Steps:\n",
    "- Understand\n",
    "- Plan\n",
    "- Divide\n",
    "\n",
    "\n",
    "Are we Stuck?\n",
    "- Debug\n",
    "- Reassess\n",
    "- Research\n",
    "\n",
    "Practice\n",
    "\n"
   ]
  },
  {
   "cell_type": "markdown",
   "metadata": {
    "slideshow": {
     "slide_type": "skip"
    }
   },
   "source": [
    "---"
   ]
  },
  {
   "cell_type": "markdown",
   "metadata": {
    "slideshow": {
     "slide_type": "slide"
    }
   },
   "source": [
    "__Gapminder Data__\n",
    "\n",
    "[Gapminder](https://www.gapminder.org/) is an educational foundation with no religious, political or economic dependencies, promoting a fact-based worldview everyone can understand. You can view all of the data here: https://www.gapminder.org/data/\n",
    "\n",
    "We are going to use a CSV export of some data titled \"gapminder.csv\" but the original source of our data  could be downloaded here:"
   ]
  },
  {
   "cell_type": "markdown",
   "metadata": {
    "slideshow": {
     "slide_type": "slide"
    }
   },
   "source": [
    "Lets look at our data:"
   ]
  },
  {
   "cell_type": "code",
   "execution_count": null,
   "metadata": {
    "slideshow": {
     "slide_type": "fragment"
    },
    "tags": []
   },
   "outputs": [],
   "source": [
    "import psutil\n",
    "if psutil.WINDOWS:\n",
    "    !gc gapminder.csv -head 10\n",
    "else:\n",
    "    !head gapminder.csv"
   ]
  },
  {
   "cell_type": "markdown",
   "metadata": {
    "slideshow": {
     "slide_type": "skip"
    }
   },
   "source": [
    "---"
   ]
  },
  {
   "cell_type": "markdown",
   "metadata": {
    "slideshow": {
     "slide_type": "slide"
    }
   },
   "source": [
    "Questions:\n",
    "- What are the data types you will need to use / manage?\n",
    "- How will you store your data (i.e. what data structures will you need to use?)\n",
    "- Are there any loops?\n",
    "- Are there any conditions?\n",
    "- Do you need to write any functions?"
   ]
  },
  {
   "cell_type": "markdown",
   "metadata": {
    "slideshow": {
     "slide_type": "slide"
    }
   },
   "source": [
    "### Divide"
   ]
  },
  {
   "cell_type": "markdown",
   "metadata": {
    "slideshow": {
     "slide_type": "fragment"
    }
   },
   "source": [
    "How do we analze this data? \n",
    "\n",
    "What are the steps we need to take?"
   ]
  },
  {
   "cell_type": "markdown",
   "metadata": {
    "slideshow": {
     "slide_type": "slide"
    }
   },
   "source": [
    "### Outline\n",
    "\n",
    "    Open file\n",
    "\n",
    "    loop through file\n",
    "\n",
    "    test if country is united states\n",
    "\n",
    "    if so, print\n",
    "    "
   ]
  },
  {
   "cell_type": "markdown",
   "metadata": {
    "slideshow": {
     "slide_type": "slide"
    }
   },
   "source": [
    "### Pseudocode\n",
    "\n",
    "    Open file\n",
    "\n",
    "    loop through file\n",
    "\n",
    "    test if country is united states\n",
    "\n",
    "    if so, print"
   ]
  },
  {
   "cell_type": "markdown",
   "metadata": {
    "slideshow": {
     "slide_type": "skip"
    }
   },
   "source": [
    "---"
   ]
  },
  {
   "cell_type": "code",
   "execution_count": null,
   "metadata": {
    "jupyter": {
     "source_hidden": true
    },
    "tags": []
   },
   "outputs": [],
   "source": [
    "f = open(\"gapminder.csv\", \"r\")\n",
    "print(f.read())"
   ]
  },
  {
   "cell_type": "code",
   "execution_count": null,
   "metadata": {
    "jupyter": {
     "source_hidden": true
    },
    "tags": []
   },
   "outputs": [],
   "source": [
    "import csv\n",
    "with open('gapminder.csv', newline='') as csvfile:\n",
    "    data = csv.reader(csvfile, delimiter=',')\n",
    "    for row in data:\n",
    "        # print(', '.join(row))\n",
    "        print(row)"
   ]
  },
  {
   "cell_type": "code",
   "execution_count": null,
   "metadata": {
    "tags": []
   },
   "outputs": [],
   "source": [
    "import csv\n",
    "\n",
    "with open('gapminder.csv') as csv_file:\n",
    "\n",
    "    csv_reader = csv.reader(csv_file, delimiter=',')\n",
    "\n",
    "    for row in csv_reader:\n",
    "    \n",
    "        if row[0] == \"United States\":\n",
    "           \n",
    "            print(row[2], row[3])"
   ]
  },
  {
   "cell_type": "markdown",
   "metadata": {
    "slideshow": {
     "slide_type": "slide"
    }
   },
   "source": [
    "## Our Program!"
   ]
  },
  {
   "cell_type": "markdown",
   "metadata": {
    "slideshow": {
     "slide_type": "slide"
    }
   },
   "source": [
    "__Step 1__\n",
    "\n",
    "Open file\n",
    "\n",
    "Lets search for \"open file python\"\n",
    "\n",
    "Review search results and cut and paste code if possible"
   ]
  },
  {
   "cell_type": "markdown",
   "metadata": {
    "slideshow": {
     "slide_type": "slide"
    }
   },
   "source": [
    "__Step 1__\n",
    "\n",
    "Open file\n",
    "\n",
    "Lets search for \"open csv file python\"\n",
    "\n",
    "Review search results and cut and paste code if possible"
   ]
  },
  {
   "cell_type": "markdown",
   "metadata": {
    "slideshow": {
     "slide_type": "slide"
    }
   },
   "source": [
    "__Step 2__\n",
    "\n",
    "loop through file\n",
    "\n",
    "Lets search for \"loop through csv file python\"\n",
    "\n",
    "Review search results and cut and paste code if possible"
   ]
  },
  {
   "cell_type": "markdown",
   "metadata": {
    "slideshow": {
     "slide_type": "slide"
    }
   },
   "source": [
    "__Step 3__\n",
    "\n",
    "test if country is united states\n",
    "\n",
    "Lets search for \"search text python\"\n",
    "\n",
    "Review search results and cut and paste code if possible\n",
    "\n",
    "\n",
    "\n",
    "\n"
   ]
  },
  {
   "cell_type": "code",
   "execution_count": null,
   "metadata": {
    "slideshow": {
     "slide_type": "slide"
    },
    "tags": []
   },
   "outputs": [],
   "source": [
    "import csv\n",
    "\n",
    "#Open file\n",
    "with open('gapminder.csv') as gap_file:\n",
    "    \n",
    "    gap_reader = csv.reader(gap_file)\n",
    "    \n",
    "    #loop through file\n",
    "    for row in gap_reader:\n",
    "    \n",
    "        #test if country is united states\n",
    "        if row[0] == \"United States\":\n",
    "            \n",
    "            #if so, print\n",
    "            print(row)"
   ]
  },
  {
   "cell_type": "markdown",
   "metadata": {},
   "source": [
    "Now let's try it with `pandas`"
   ]
  },
  {
   "cell_type": "code",
   "execution_count": null,
   "metadata": {
    "tags": []
   },
   "outputs": [],
   "source": [
    "import pandas\n",
    "\n",
    "import matplotlib.pyplot as plt\n",
    "\n",
    "df = pandas.read_csv(\"gapminder.csv\")\n",
    "\n",
    "# df.plot()  # plots all columns against index\n",
    "\n",
    "df.plot(kind='scatter',x='year',y='lifeExp'); # scatter plot\n",
    "\n",
    "# df.plot(kind='density')  # estimate density function\n",
    "\n",
    "# df.plot(kind='hist')  # histogram"
   ]
  },
  {
   "cell_type": "code",
   "execution_count": null,
   "metadata": {
    "tags": []
   },
   "outputs": [],
   "source": [
    "pip install pandas"
   ]
  },
  {
   "cell_type": "code",
   "execution_count": null,
   "metadata": {
    "tags": []
   },
   "outputs": [],
   "source": [
    "import pandas as pd\n",
    "\n",
    "import matplotlib.pyplot as plt\n",
    "\n",
    "df = pd.read_csv(\"C:\\Downloads\\gapminder.csv\"); \n",
    "\n",
    "# df"
   ]
  },
  {
   "cell_type": "code",
   "execution_count": null,
   "metadata": {
    "tags": []
   },
   "outputs": [],
   "source": [
    "df.plot.scatter(x='year',y='lifeExp');"
   ]
  },
  {
   "cell_type": "code",
   "execution_count": null,
   "metadata": {
    "tags": []
   },
   "outputs": [],
   "source": [
    "df.plot."
   ]
  },
  {
   "cell_type": "markdown",
   "metadata": {},
   "source": [
    "---\n",
    "\n",
    "## Resources:\n",
    "- https://pybit.es/python-interpreters.html"
   ]
  }
 ],
 "metadata": {
  "celltoolbar": "Slideshow",
  "kernelspec": {
   "display_name": "Python 3 (ipykernel)",
   "language": "python",
   "name": "python3"
  },
  "language_info": {
   "codemirror_mode": {
    "name": "ipython",
    "version": 3
   },
   "file_extension": ".py",
   "mimetype": "text/x-python",
   "name": "python",
   "nbconvert_exporter": "python",
   "pygments_lexer": "ipython3",
   "version": "3.11.4"
  }
 },
 "nbformat": 4,
 "nbformat_minor": 4
}
