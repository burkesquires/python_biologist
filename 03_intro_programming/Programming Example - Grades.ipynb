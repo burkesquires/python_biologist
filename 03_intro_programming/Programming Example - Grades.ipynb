{
 "cells": [
  {
   "cell_type": "markdown",
   "metadata": {
    "slideshow": {
     "slide_type": "slide"
    }
   },
   "source": [
    "# Programming Example"
   ]
  },
  {
   "cell_type": "markdown",
   "metadata": {
    "slideshow": {
     "slide_type": "slide"
    }
   },
   "source": [
    "## Our problem:\n",
    "\n",
    "We would like to plot life expectancy data versus health over many decades for all countries of the world. The Gapminder project has such data.\n",
    "\n",
    "Steps:\n",
    "- Understand\n",
    "- Plan\n",
    "- Divide\n",
    "\n",
    "\n",
    "Are we Stuck?\n",
    "- Debug\n",
    "- Reassess\n",
    "- Research\n",
    "\n",
    "Practice\n",
    "\n"
   ]
  },
  {
   "cell_type": "markdown",
   "metadata": {
    "slideshow": {
     "slide_type": "skip"
    }
   },
   "source": [
    "---"
   ]
  },
  {
   "cell_type": "markdown",
   "metadata": {
    "slideshow": {
     "slide_type": "slide"
    }
   },
   "source": [
    "Questions:\n",
    "- What are the data types you will need to use / manage?\n",
    "- How will you store your data (i.e. what data structures will you need to use?)\n",
    "- Are there any loops?\n",
    "- Are there any conditions?\n",
    "- Do you need to write any functions?"
   ]
  },
  {
   "cell_type": "markdown",
   "metadata": {
    "slideshow": {
     "slide_type": "slide"
    }
   },
   "source": [
    "### Divide"
   ]
  },
  {
   "cell_type": "markdown",
   "metadata": {
    "slideshow": {
     "slide_type": "fragment"
    }
   },
   "source": [
    "How do we analze this data? \n",
    "\n",
    "What are the steps we need to take?"
   ]
  },
  {
   "cell_type": "markdown",
   "metadata": {
    "slideshow": {
     "slide_type": "slide"
    }
   },
   "source": [
    "### Outline\n",
    "\n",
    "    Open file\n",
    "\n",
    "    loop through file\n",
    "\n",
    "    average grades\n",
    "\n",
    "    print\n",
    "    "
   ]
  },
  {
   "cell_type": "markdown",
   "metadata": {
    "slideshow": {
     "slide_type": "slide"
    }
   },
   "source": [
    "### Pseudocode\n",
    "\n",
    "    Open file\n",
    "\n",
    "    loop through file\n",
    "\n",
    "    average grades\n",
    "\n",
    "    print\n",
    " "
   ]
  },
  {
   "cell_type": "markdown",
   "metadata": {
    "slideshow": {
     "slide_type": "skip"
    }
   },
   "source": [
    "---"
   ]
  },
  {
   "cell_type": "markdown",
   "metadata": {
    "slideshow": {
     "slide_type": "slide"
    }
   },
   "source": [
    "## Our Program!"
   ]
  },
  {
   "cell_type": "markdown",
   "metadata": {
    "slideshow": {
     "slide_type": "slide"
    }
   },
   "source": [
    "__Step 1__\n",
    "\n",
    "Open file\n",
    "\n",
    "Lets search for \"open file python\"\n",
    "\n",
    "Review search results and cut and paste code if possible"
   ]
  },
  {
   "cell_type": "markdown",
   "metadata": {
    "slideshow": {
     "slide_type": "slide"
    }
   },
   "source": [
    "__Step 1__\n",
    "\n",
    "Open file\n",
    "\n",
    "Lets search for \"open csv file python\"\n",
    "\n",
    "Review search results and cut and paste code if possible"
   ]
  },
  {
   "cell_type": "markdown",
   "metadata": {
    "slideshow": {
     "slide_type": "slide"
    }
   },
   "source": [
    "__Step 2__\n",
    "\n",
    "loop through file\n",
    "\n",
    "Lets search for \"python average integers\"\n",
    "\n",
    "Review search results and cut and paste code if possible"
   ]
  },
  {
   "cell_type": "markdown",
   "metadata": {
    "slideshow": {
     "slide_type": "slide"
    }
   },
   "source": [
    "__Step 3__\n",
    "\n",
    "test if country is united states\n",
    "\n",
    "Lets search for \"python print number and string\"\n",
    "\n",
    "Review search results and cut and paste code if possible\n"
   ]
  },
  {
   "cell_type": "markdown",
   "metadata": {},
   "source": [
    "---"
   ]
  },
  {
   "cell_type": "code",
   "execution_count": null,
   "metadata": {},
   "outputs": [],
   "source": [
    "%%writefile grades.csv\n",
    "student01, 100,100,100,100\n",
    "student02, 100,95,100,95\n",
    "student03, 100,90,100,90\n",
    "student04, 100,80,80,100\n",
    "student05, 100,80,80,100"
   ]
  },
  {
   "cell_type": "code",
   "execution_count": null,
   "metadata": {},
   "outputs": [],
   "source": [
    "import csv\n",
    "\n",
    "with open('grades.csv', 'r') as f:\n",
    "    \n",
    "    rows = csv.reader(f)\n",
    "    \n",
    "    for row in rows:\n",
    "        student = row[0]\n",
    "        scores = [int(x) for x in row[1:]]\n",
    "        avg = 1.0 * sum(scores) / len(scores)\n",
    "\n",
    "        print(\"name: {} avg: {}\".format(student, avg))\n",
    "        \n",
    "f.close()"
   ]
  },
  {
   "cell_type": "code",
   "execution_count": null,
   "metadata": {},
   "outputs": [],
   "source": [
    "# Want to expand this? Try \"grading\" each average\n",
    "\n",
    "#Grading scale\n",
    "def determine_score(grade):\n",
    "    if 90 <= grade <= 100:\n",
    "        return 'A'\n",
    "    elif 80 <= grade <= 89:\n",
    "        return 'B'\n",
    "    elif 70 <= grade <= 79:\n",
    "        return 'C'\n",
    "    elif 60 <= grade <= 69:\n",
    "        return 'D'\n",
    "    else:\n",
    "        return 'F'"
   ]
  }
 ],
 "metadata": {
  "celltoolbar": "Slideshow",
  "kernelspec": {
   "display_name": "Python 3 (ipykernel)",
   "language": "python",
   "name": "python3"
  },
  "language_info": {
   "codemirror_mode": {
    "name": "ipython",
    "version": 3
   },
   "file_extension": ".py",
   "mimetype": "text/x-python",
   "name": "python",
   "nbconvert_exporter": "python",
   "pygments_lexer": "ipython3",
   "version": "3.9.12"
  }
 },
 "nbformat": 4,
 "nbformat_minor": 4
}
