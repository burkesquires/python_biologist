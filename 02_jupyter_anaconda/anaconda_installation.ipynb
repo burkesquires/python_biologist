{
 "cells": [
  {
   "cell_type": "markdown",
   "id": "0",
   "metadata": {},
   "source": [
    "# How to run a Jupyter Notebook?"
   ]
  },
  {
   "cell_type": "markdown",
   "id": "1",
   "metadata": {},
   "source": [
    "---"
   ]
  },
  {
   "cell_type": "markdown",
   "id": "2",
   "metadata": {},
   "source": [
    "## `Anaconda` Distribution\n",
    "\n",
    "2 Options:\n",
    "- Full `Anaconda` installer (440MBs)\n",
    "    - Takes more space, better for beginners\n",
    "- Minimum `miniconda` installer (~60MB)\n",
    "    - Takes less space, requires you to be comfortable working with the command line"
   ]
  },
  {
   "cell_type": "markdown",
   "id": "3",
   "metadata": {},
   "source": [
    "---"
   ]
  },
  {
   "cell_type": "markdown",
   "id": "4",
   "metadata": {
    "tags": []
   },
   "source": [
    "### `Anaconda` Full installer\n",
    "\n",
    "- One click installer for:\n",
    "    - Python programming langauge (v3.8 currently)\n",
    "    - R programming language (optional)\n",
    "    - `conda` installer for future installs and updates\n",
    "    - `anaconda` graphical user interface (GUI) for working with `conda`\n",
    "    - Popular python packages:\n",
    "        - `jupyter lab`, `jupyter notebook`\n",
    "        - `numpy`\n",
    "        - `pandas`\n",
    "        - `matplotlib`, `seaborn`\n",
    "        - `scitik-learn`\n",
    "        - Many others...\n",
    "\n",
    "__Anaconda installer is 440MBs__"
   ]
  },
  {
   "cell_type": "markdown",
   "id": "5",
   "metadata": {},
   "source": [
    "---"
   ]
  },
  {
   "cell_type": "markdown",
   "id": "6",
   "metadata": {},
   "source": [
    "### `miniconda` Minimum installer\n",
    "\n",
    "- Just the minimum needed to run `conda`\n",
    "- \"Miniconda is a free minimal installer for conda. It is a small, bootstrap version of Anaconda that includes only conda, Python, the packages they depend on, and a small number of other useful packages, including pip, zlib and a few others.\"\n",
    "- You are required to install any packages that you want or need to use\n",
    "- Install package with `conda` package manager\n",
    "    - `conda install ...`"
   ]
  },
  {
   "cell_type": "markdown",
   "id": "7",
   "metadata": {},
   "source": [
    "---"
   ]
  },
  {
   "cell_type": "markdown",
   "id": "8",
   "metadata": {},
   "source": [
    "## How to install:"
   ]
  },
  {
   "cell_type": "markdown",
   "id": "9",
   "metadata": {},
   "source": [
    "1. To Install the __full `Anaconda` distribution__:\n",
    "\n",
    "    1. Open a web browser\n",
    "    1. Go to `https://anaconda.org`\n",
    "    1. Click on `Download Anaconda` at the top of the webpage\n",
    "        - You should be forwarded to this webpage: https://www.anaconda.com/products/individual\n",
    "    1. Click `Download`\n",
    "        - If a new window pops up, click on the `X` to close it\n",
    "    1. Find the installer\n",
    "        - As an example the current macOS installer is called `Anaconda3-2021.05-MacOSX-x86_64.pkg`\n",
    "    1. Double-click the installer and follow the instructions.\n",
    "        - __NOTE__: When asked, install the software __only for your use__. __NOT for all users of the computer__. \n",
    "        - You should NOT need admin priledges to install this way.\n",
    "        - If you have any problems, please read the help offered here: https://docs.anaconda.com/anaconda/install/\n",
    "\n",
    "\n",
    "1. To install the __minimum `miniconda` distribution__:\n",
    "\n",
    "    1. Open a web browser\n",
    "    1. Go to `https://docs.conda.io/en/latest/miniconda.html`\n",
    "    1. Scroll, or move, down to the header __Latest Miniconda Installer Links__\n",
    "    1. Pick the installer for your computer operating system (Linux, MacOS, Windows)\n",
    "        - You will most likely want othe 64-bit version\n",
    "    1. Run the installer (after it completes downloading)\n",
    "    1. Open a `Terminal` application\n",
    "    1. Install the packages you would like to use."
   ]
  }
 ],
 "metadata": {
  "kernelspec": {
   "display_name": "Python 3 (ipykernel)",
   "language": "python",
   "name": "python3"
  },
  "language_info": {
   "codemirror_mode": {
    "name": "ipython",
    "version": 3
   },
   "file_extension": ".py",
   "mimetype": "text/x-python",
   "name": "python",
   "nbconvert_exporter": "python",
   "pygments_lexer": "ipython3",
   "version": "3.10.9"
  }
 },
 "nbformat": 4,
 "nbformat_minor": 5
}
