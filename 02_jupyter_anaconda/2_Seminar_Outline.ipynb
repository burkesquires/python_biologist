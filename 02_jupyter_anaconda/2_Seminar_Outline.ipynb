{
 "cells": [
  {
   "cell_type": "markdown",
   "metadata": {},
   "source": [
    "NIAID / OCICB / BCBB __Python Programming for Biologist__ Seminar Series\n",
    "\n",
    "Instructor: R. Burke Squires\n",
    "\n",
    "richard.squires@nih.gov\n",
    "\n",
    "\n",
    "- To see recorded videos and materials (archived) the NIAID Bioinformatics Portal: https://bioinformatics.niaid.nih.gov\n",
    "- To download materials for each class please see: https://github.com/burkesquires\n",
    "\n",
    "Source(s): [Jupyter Tutorial](https://jupyter.org/documentation)"
   ]
  },
  {
   "cell_type": "markdown",
   "metadata": {},
   "source": [
    "---"
   ]
  },
  {
   "cell_type": "markdown",
   "metadata": {},
   "source": [
    "# Introduction to Jupyter and Anaconda"
   ]
  },
  {
   "cell_type": "markdown",
   "metadata": {},
   "source": [
    "---"
   ]
  },
  {
   "cell_type": "markdown",
   "metadata": {},
   "source": [
    "<img src='notebooks/images/labpreview.png' style=\"width: 800px;\">\n",
    "\n",
    "\n",
    "\n",
    "\n",
    "### Introduction\n",
    "- [Introduction](./notebooks/0-Intro/0_Jupyter_training.ipynb) (Presentation)\n",
    "\n",
    "### Anaconda\n",
    "\n",
    "- [Anaconda distribution overview](./notebooks/1-Anaconda/1-1-Anaconda-Overview.ipynb)\n",
    "- [Anaconda installation walkthrough](./notebooks/1-Anaconda/1-2-Anaconda-Installation.ipynb)\n",
    "    \n",
    "### Jupyter\n",
    "- [Introduction to Jupyter ecosystem](./notebooks/2-Jupyter/2-1-jupyter-ecosystem.ipynb)\n",
    "- [Jupyter architecture](./notebooks/2-Jupyter/2-2-jupyter-architecture.ipynb)\n",
    "- [Jupyter basics](./notebooks/2-Jupyter/2-3-jupyter-notebook-basics.ipynb)\n",
    "- [Writing narrative text](./notebooks/2-Jupyter/2-4-jupyter-markdown.ipynb)\n",
    "- Running code\n",
    "    - [Python](./notebooks/2-Jupyter/2-5-jupyter-code-python.ipynb)\n",
    "    - [R](./notebooks/2-Jupyter/2-6-jupyter-code-r.ipynb)\n",
    "    - [Bash](./notebooks/2-Jupyter/2-7-jupyter-command-line.ipynb)\n",
    "- [Magic commands](./notebooks/2-Jupyter/2-8-jupyter-magics.ipynb)\n",
    "\n",
    "- Optional: Setup GitHub account following guide [here](./notebooks/2-Jupyter/2-9-jupyter-sharing/2-9-2-Jupyter-sharing-github.ipynb)\n",
    "\n",
    "### Sharing\n",
    "- [Sharing notebooks](./notebooks/2-Jupyter/2-9-jupyter-sharing/2-9-1-Jupyter-sharing.ipynb)\n",
    "- [Creating a GitHub project](./notebooks/2-Jupyter/2-9-jupyter-sharing/2-9-2-Jupyter-sharing-github.ipynb)\n",
    "- [Using myBinder](./notebooks/2-Jupyter/2-9-jupyter-sharing/2-9-3-Intro_to_binder.ipynb)\n",
    "\n",
    "### Building a bioinformatics workflow\n",
    "- [Installing `bioconda`](./notebooks/3-Build-Bioinfo-Workflow/3-1-install-bioconda.ipynb)\n",
    "- [Building a variant calling pipeline](./notebooks/3-Build-Bioinfo-Workflow/3-2-variant-calling-workflow.ipynb)\n",
    "\n",
    "### [Demos / Walkthroughs](./notebooks/4-Last-things/4-1-Demos.ipynb)\n",
    "- Jupyter in the Cloud\n",
    "- Jupyter extensions\n",
    "- JupyterHub\n",
    "- nteract (Mac desktop software to run notebook)"
   ]
  },
  {
   "cell_type": "markdown",
   "metadata": {},
   "source": [
    "---"
   ]
  },
  {
   "cell_type": "markdown",
   "metadata": {},
   "source": [
    "Resources:\n",
    "\n",
    "- http://www.blog.pythonlibrary.org/2018/10/09/how-to-export-jupyter-notebooks-into-other-formats/"
   ]
  },
  {
   "cell_type": "code",
   "execution_count": null,
   "metadata": {},
   "outputs": [],
   "source": []
  }
 ],
 "metadata": {
  "kernelspec": {
   "display_name": "Python 3 (ipykernel)",
   "language": "python",
   "name": "python3"
  },
  "language_info": {
   "codemirror_mode": {
    "name": "ipython",
    "version": 3
   },
   "file_extension": ".py",
   "mimetype": "text/x-python",
   "name": "python",
   "nbconvert_exporter": "python",
   "pygments_lexer": "ipython3",
   "version": "3.11.4"
  }
 },
 "nbformat": 4,
 "nbformat_minor": 4
}
