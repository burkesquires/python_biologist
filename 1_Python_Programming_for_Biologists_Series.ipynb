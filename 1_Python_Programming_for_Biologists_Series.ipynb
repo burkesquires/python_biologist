{
 "cells": [
  {
   "cell_type": "markdown",
   "metadata": {},
   "source": [
    "## NIAID / OCICB / BCBB\n",
    "\n",
    "# __Python Programming for Biologist__ Seminar Series\n",
    "\n",
    "---\n",
    "\n",
    "### Instructor: R. Burke Squires\n",
    "- To see recorded videos and materials (archived) the NIAID Bioinformatics Portal: https://bioinformatics.niaid.nih.gov\n",
    "- To download materials for each class please see: https://github.com/burkesquires\n",
    " "
   ]
  },
  {
   "cell_type": "markdown",
   "metadata": {},
   "source": [
    "---"
   ]
  },
  {
   "cell_type": "markdown",
   "metadata": {},
   "source": [
    "This seminar series is brought to you, at no cost, by the NIAID Bioinformatics and Computational Biosciences Branch (BCBB), part of the Office of Cyber Infrastructure and Computational Biology (OCICB). Please email us with any questions, concerns, or comments at bioinformatics at niaid.nih.gov.\n",
    "\n",
    "## Download the materials for each seminar from: \n",
    "- https://github.com/burkesquires/python_biologist/tree/master/zip_archives\n",
    "\n",
    "Topics:\n",
    "-------------------------------------------------------------------------\n",
    "- Introduction to Jupyter Notebooks\n",
    "- Introduction to Programming (with Python)\n",
    "- The Python Programming Language (for experienced programmers)\n",
    "- Data Analysis with Python and Pandas Part I\n",
    "- Data Analysis with Python and Pandas Part II\n",
    "- Data Visualization with Python\n",
    "- Intermediate Python Programming and Best Practices\n",
    "- Bioinformatics Programming with Python\n",
    "\n",
    "Attendees need to install the Anaconda software. NOTE: No admin privledges are needed; install for your use only. Please see instructions here: https://docs.anaconda.com/anaconda/install/\n",
    "\n",
    "These seminars will be recorded. Please see our Bioinformatics portal for more seminars, seminar recordings, and training materials at http://bioinformatics.niaid.nih.gov"
   ]
  },
  {
   "cell_type": "code",
   "execution_count": null,
   "metadata": {},
   "outputs": [],
   "source": []
  }
 ],
 "metadata": {
  "kernelspec": {
   "display_name": "Python 3 (ipykernel)",
   "language": "python",
   "name": "python3"
  },
  "language_info": {
   "codemirror_mode": {
    "name": "ipython",
    "version": 3
   },
   "file_extension": ".py",
   "mimetype": "text/x-python",
   "name": "python",
   "nbconvert_exporter": "python",
   "pygments_lexer": "ipython3",
   "version": "3.10.9"
  }
 },
 "nbformat": 4,
 "nbformat_minor": 4
}
