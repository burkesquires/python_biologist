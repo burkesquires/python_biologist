{
 "cells": [
  {
   "cell_type": "markdown",
   "metadata": {},
   "source": [
    "## NIAID / OCICB / BCBB\n",
    "\n",
    "# __Python Programming for Biologist__ Seminar Series\n",
    "\n",
    "---\n",
    "\n",
    "### Instructor: R. Burke Squires\n",
    "- To see recorded videos and materials (archived) the NIAID Bioinformatics Portal: https://bioinformatics.niaid.nih.gov\n",
    "- To download materials for each class please see: https://github.com/burkesquires\n",
    " "
   ]
  },
  {
   "cell_type": "markdown",
   "metadata": {},
   "source": [
    "---"
   ]
  },
  {
   "cell_type": "markdown",
   "metadata": {},
   "source": [
    "This seminar series is brought to you, at no cost, by the NIAID Bioinformatics and Computational Biosciences Branch (BCBB), part of the Office of Cyber Infrastructure and Computational Biology (OCICB). Please email us with any questions, concerns, or comments at bioinformatics at niaid.nih.gov.\n",
    "\n",
    "Instructor: R. Burke Squires\n",
    "\n",
    "# Download the materials for each seminar from: __bit.ly/NIAID-python-2020__\n",
    "\n",
    "Dates and topics (every Monday and Wednesday of April 2020):\n",
    "-------------------------------------------------------------------------\n",
    "    - Introduction to Jupyter Notebooks and Anaconda..................3/30/20\n",
    "    - Introduction to Programming (for non-programmers)................4/1/20\n",
    "    - Python Programming for Scientists................................4/6/20\n",
    "    - Data Analysis with Python and Pandas.............................4/8/20\n",
    "    - Data Visualization with Python..................................4/13/20\n",
    "    - Intermediate Python Programming.................................4/15/20\n",
    "    - Bioinformatics Programming with Python..........................4/20/20\n",
    "    - Building Workflows with Python..................................4/22/20\n",
    "    - Introduction to Machine Learning with Python and scikit-learn...4/27/20\n",
    "    - Enabling Reproducible Science with Python and Jupyter...........4/29/20\n",
    "\n",
    "Attendees need to install the Anaconda Individual Edition (Python V3.7) software. NOTE: No admin privledges are needed; install for your use only. Please see instructions here: https://docs.anaconda.com/anaconda/install/\n",
    "\n",
    "These seminars will be recorded. Please see our Bioinformatics portal for more seminars, seminar recordings, and training materials at http://bioinformatics.niaid.nih.gov"
   ]
  },
  {
   "cell_type": "code",
   "execution_count": null,
   "metadata": {},
   "outputs": [],
   "source": []
  }
 ],
 "metadata": {
  "kernelspec": {
   "display_name": "Python 3",
   "language": "python",
   "name": "python3"
  },
  "language_info": {
   "codemirror_mode": {
    "name": "ipython",
    "version": 3
   },
   "file_extension": ".py",
   "mimetype": "text/x-python",
   "name": "python",
   "nbconvert_exporter": "python",
   "pygments_lexer": "ipython3",
   "version": "3.8.5"
  }
 },
 "nbformat": 4,
 "nbformat_minor": 4
}
