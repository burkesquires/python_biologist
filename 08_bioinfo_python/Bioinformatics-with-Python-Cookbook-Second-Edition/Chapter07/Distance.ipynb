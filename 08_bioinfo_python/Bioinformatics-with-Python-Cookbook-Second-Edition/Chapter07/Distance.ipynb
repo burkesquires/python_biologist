{
 "cells": [
  {
   "cell_type": "code",
   "execution_count": null,
   "metadata": {},
   "outputs": [],
   "source": [
    "import math\n",
    "import timeit\n",
    "\n",
    "from Bio import PDB"
   ]
  },
  {
   "cell_type": "code",
   "execution_count": null,
   "metadata": {},
   "outputs": [],
   "source": [
    "repository = PDB.PDBList()\n",
    "parser = PDB.PDBParser()\n",
    "repository.retrieve_pdb_file('1TUP', file_format='pdb', pdir='.')  # XXX\n",
    "p53_1tup = parser.get_structure('P 53', 'pdb1tup.ent')"
   ]
  },
  {
   "cell_type": "code",
   "execution_count": null,
   "metadata": {},
   "outputs": [],
   "source": [
    "zns = []\n",
    "for atom in p53_1tup.get_atoms():\n",
    "    if atom.element == 'ZN':\n",
    "        #print(atom, dir(atom), atom.mass, atom.element, atom.coord[0])\n",
    "        zns.append(atom)\n",
    "for zn in zns:\n",
    "        print(zn, zn.coord)"
   ]
  },
  {
   "cell_type": "code",
   "execution_count": null,
   "metadata": {},
   "outputs": [],
   "source": [
    "#Suggest a pymol viewing"
   ]
  },
  {
   "cell_type": "code",
   "execution_count": null,
   "metadata": {},
   "outputs": [],
   "source": [
    "#Try this in numba?\n",
    "def get_closest_atoms(pdb_struct, ref_atom, distance):\n",
    "    atoms = {}\n",
    "    rx, ry, rz = ref_atom.coord\n",
    "    for atom in pdb_struct.get_atoms():\n",
    "        if atom == ref_atom:\n",
    "            continue\n",
    "        x, y, z = atom.coord\n",
    "        my_dist = math.sqrt((x - rx)**2 + (y - ry)**2 + (z - rz)**2) \n",
    "        if my_dist < distance:\n",
    "            atoms[atom] = my_dist\n",
    "    return atoms"
   ]
  },
  {
   "cell_type": "code",
   "execution_count": null,
   "metadata": {},
   "outputs": [],
   "source": [
    "for zn in zns:\n",
    "    print()\n",
    "    print(zn.coord)\n",
    "    atoms = get_closest_atoms(p53_1tup, zn, 4)\n",
    "    for atom, distance in atoms.items():\n",
    "        print(atom.element, distance, atom.coord)"
   ]
  },
  {
   "cell_type": "code",
   "execution_count": null,
   "metadata": {},
   "outputs": [],
   "source": [
    "for distance in [1, 2, 4, 8, 16, 32, 64, 128]:\n",
    "    my_atoms = []\n",
    "    for zn in zns:\n",
    "        atoms = get_closest_atoms(p53_1tup, zn, distance)\n",
    "        my_atoms.append(len(atoms))\n",
    "    print(distance, my_atoms)"
   ]
  },
  {
   "cell_type": "code",
   "execution_count": null,
   "metadata": {},
   "outputs": [],
   "source": [
    "nexecs = 10\n",
    "print(timeit.timeit('get_closest_atoms(p53_1tup, zns[0], 4.0)',\n",
    "                    'from __main__ import get_closest_atoms, p53_1tup, zns',\n",
    "                    number=nexecs) / nexecs * 1000)"
   ]
  },
  {
   "cell_type": "code",
   "execution_count": null,
   "metadata": {},
   "outputs": [],
   "source": [
    "def get_closest_alternative(pdb_struct, ref_atom, distance):\n",
    "    atoms = {}\n",
    "    rx, ry, rz = ref_atom.coord\n",
    "    for atom in pdb_struct.get_atoms():\n",
    "        if atom == ref_atom:\n",
    "            continue\n",
    "        x, y, z = atom.coord\n",
    "        if abs(x - rx) > distance or abs(y - ry) > distance or abs(z - rz) > distance:\n",
    "            continue\n",
    "        my_dist = math.sqrt((x - rx)**2 + (y - ry)**2 + (z - rz)**2) \n",
    "        if my_dist < distance:\n",
    "            atoms[atom] = my_dist\n",
    "    return atoms"
   ]
  },
  {
   "cell_type": "code",
   "execution_count": null,
   "metadata": {},
   "outputs": [],
   "source": [
    "print(timeit.timeit('get_closest_alternative(p53_1tup, zns[0], 4.0)',\n",
    "                    'from __main__ import get_closest_alternative, p53_1tup, zns',\n",
    "                    number=nexecs) / nexecs * 1000)"
   ]
  },
  {
   "cell_type": "code",
   "execution_count": null,
   "metadata": {},
   "outputs": [],
   "source": [
    "print('Standard')\n",
    "for distance in [1, 4, 16, 64, 128]:\n",
    "    print(timeit.timeit('get_closest_atoms(p53_1tup, zns[0], distance)',\n",
    "                        'from __main__ import get_closest_atoms, p53_1tup, zns, distance',\n",
    "                        number=nexecs) / nexecs * 1000)\n",
    "print('Optimized')\n",
    "for distance in [1, 4, 16, 64, 128]:\n",
    "    print(timeit.timeit('get_closest_alternative(p53_1tup, zns[0], distance)',\n",
    "                        'from __main__ import get_closest_alternative, p53_1tup, zns, distance',\n",
    "                        number=nexecs) / nexecs * 1000)"
   ]
  },
  {
   "cell_type": "code",
   "execution_count": null,
   "metadata": {},
   "outputs": [],
   "source": []
  },
  {
   "cell_type": "code",
   "execution_count": null,
   "metadata": {},
   "outputs": [],
   "source": [
    "#for interesting distances"
   ]
  }
 ],
 "metadata": {
  "kernelspec": {
   "display_name": "Python 3",
   "language": "python",
   "name": "python3"
  },
  "language_info": {
   "codemirror_mode": {
    "name": "ipython",
    "version": 3
   },
   "file_extension": ".py",
   "mimetype": "text/x-python",
   "name": "python",
   "nbconvert_exporter": "python",
   "pygments_lexer": "ipython3",
   "version": "3.6.5"
  }
 },
 "nbformat": 4,
 "nbformat_minor": 1
}
