{
 "cells": [
  {
   "cell_type": "code",
   "execution_count": null,
   "metadata": {},
   "outputs": [],
   "source": [
    "from Bio import PDB"
   ]
  },
  {
   "cell_type": "code",
   "execution_count": null,
   "metadata": {},
   "outputs": [],
   "source": [
    "!rm -f 1tup.cif 2>/dev/null\n",
    "!wget \"http://www.rcsb.org/pdb/download/downloadFile.do?fileFormat=cif&compression=NO&structureId=1TUP\" -O 1tup.cif"
   ]
  },
  {
   "cell_type": "code",
   "execution_count": null,
   "metadata": {},
   "outputs": [],
   "source": [
    "parser = PDB.MMCIFParser()\n",
    "p53_1tup = parser.get_structure('P53_HUMAN', '1tup.cif')"
   ]
  },
  {
   "cell_type": "code",
   "execution_count": null,
   "metadata": {},
   "outputs": [],
   "source": [
    "def describe_model(name, pdb):\n",
    "    print()\n",
    "    for model in p53_1tup:\n",
    "        for chain in model:\n",
    "            print('%s - Chain: %s. Number of residues: %d. Number of atoms: %d.' %\n",
    "                  (name, chain.id, len(chain), len(list(chain.get_atoms()))))\n",
    "describe_model('1TUP', p53_1tup)"
   ]
  },
  {
   "cell_type": "code",
   "execution_count": null,
   "metadata": {},
   "outputs": [],
   "source": [
    "done_chain = set()\n",
    "for residue in p53_1tup.get_residues():\n",
    "    chain = residue.parent\n",
    "    if chain.id in done_chain:\n",
    "        continue\n",
    "    done_chain.add(chain.id)\n",
    "    print(chain.id, residue.id)"
   ]
  },
  {
   "cell_type": "code",
   "execution_count": null,
   "metadata": {},
   "outputs": [],
   "source": [
    "mmcif_dict = PDB.MMCIF2Dict.MMCIF2Dict('1tup.cif')"
   ]
  },
  {
   "cell_type": "code",
   "execution_count": null,
   "metadata": {},
   "outputs": [],
   "source": [
    "for k, v in mmcif_dict.items():\n",
    "    print(k, v)\n",
    "    print()"
   ]
  },
  {
   "cell_type": "code",
   "execution_count": null,
   "metadata": {},
   "outputs": [],
   "source": []
  }
 ],
 "metadata": {
  "kernelspec": {
   "display_name": "Python 3",
   "language": "python",
   "name": "python3"
  },
  "language_info": {
   "codemirror_mode": {
    "name": "ipython",
    "version": 3
   },
   "file_extension": ".py",
   "mimetype": "text/x-python",
   "name": "python",
   "nbconvert_exporter": "python",
   "pygments_lexer": "ipython3",
   "version": "3.6.5"
  }
 },
 "nbformat": 4,
 "nbformat_minor": 1
}
