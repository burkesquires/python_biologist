{
 "cells": [
  {
   "cell_type": "code",
   "execution_count": null,
   "metadata": {},
   "outputs": [],
   "source": [
    "from collections import defaultdict\n",
    "import sys\n",
    "\n",
    "import matplotlib.pyplot as plt\n",
    "from mpl_toolkits.mplot3d import Axes3D\n",
    "%matplotlib inline\n",
    "\n",
    "from Bio import PDB"
   ]
  },
  {
   "cell_type": "code",
   "execution_count": null,
   "metadata": {},
   "outputs": [],
   "source": [
    "repository = PDB.PDBList()\n",
    "parser = PDB.PDBParser()\n",
    "repository.retrieve_pdb_file('1TUP', pdir='.', file_format='pdb') #XXX\n",
    "p53_1tup = parser.get_structure('P 53', 'pdb1tup.ent')"
   ]
  },
  {
   "cell_type": "code",
   "execution_count": null,
   "metadata": {},
   "outputs": [],
   "source": [
    "atom_cnt = defaultdict(int)\n",
    "atom_chain = defaultdict(int)\n",
    "atom_res_types = defaultdict(int)\n",
    "\n",
    "for atom in p53_1tup.get_atoms():\n",
    "    my_residue = atom.parent\n",
    "    my_chain = my_residue.parent\n",
    "    atom_chain[my_chain.id] += 1\n",
    "    if my_residue.resname != 'HOH':\n",
    "        atom_cnt[atom.element] += 1\n",
    "    atom_res_types[my_residue.resname] += 1\n",
    "print(dict(atom_res_types))\n",
    "print(dict(atom_chain))\n",
    "print(dict(atom_cnt))"
   ]
  },
  {
   "cell_type": "code",
   "execution_count": null,
   "metadata": {},
   "outputs": [],
   "source": [
    "res_types = defaultdict(int)\n",
    "res_per_chain = defaultdict(int)\n",
    "for residue in p53_1tup.get_residues():\n",
    "    res_types[residue.resname] += 1\n",
    "    res_per_chain[residue.parent.id] +=1\n",
    "print(dict(res_types))\n",
    "print(dict(res_per_chain))"
   ]
  },
  {
   "cell_type": "code",
   "execution_count": null,
   "metadata": {},
   "outputs": [],
   "source": [
    "def get_bounds(my_atoms):\n",
    "    my_min = [sys.maxsize] * 3\n",
    "    my_max = [-sys.maxsize] * 3\n",
    "    for atom in my_atoms:\n",
    "        for i, coord in enumerate(atom.coord):\n",
    "            if coord < my_min[i]:\n",
    "                my_min[i] = coord\n",
    "            if coord > my_max[i]:\n",
    "                my_max[i] = coord\n",
    "    return my_min, my_max"
   ]
  },
  {
   "cell_type": "code",
   "execution_count": null,
   "metadata": {},
   "outputs": [],
   "source": [
    "chain_bounds = {}\n",
    "for chain in p53_1tup.get_chains():\n",
    "    print(chain.id, get_bounds(chain.get_atoms()))\n",
    "    chain_bounds[chain.id] = get_bounds(chain.get_atoms())\n",
    "print(get_bounds(p53_1tup.get_atoms()))"
   ]
  },
  {
   "cell_type": "code",
   "execution_count": null,
   "metadata": {},
   "outputs": [],
   "source": [
    "#matplotlib 3d plot\n",
    "fig = plt.figure(figsize=(16, 9))\n",
    "ax3d = fig.add_subplot(111, projection='3d')\n",
    "ax_xy = fig.add_subplot(331)\n",
    "ax_xy.set_title('X/Y')\n",
    "ax_xz = fig.add_subplot(334)\n",
    "ax_xz.set_title('X/Z')\n",
    "ax_zy = fig.add_subplot(337)\n",
    "ax_zy.set_title('Z/Y')\n",
    "color = {'A': 'r', 'B': 'g', 'C': 'b', 'E': '0.5', 'F': '0.75'}\n",
    "zx, zy, zz = [], [], []\n",
    "for chain in p53_1tup.get_chains():\n",
    "    xs, ys, zs = [], [], []\n",
    "    for residue in chain.get_residues():\n",
    "        ref_atom = next(residue.get_iterator())\n",
    "        x, y, z = ref_atom.coord\n",
    "        if ref_atom.element == 'ZN':\n",
    "            zx.append(x)\n",
    "            zy.append(y)\n",
    "            zz.append(z)\n",
    "            continue\n",
    "        xs.append(x)\n",
    "        ys.append(y)\n",
    "        zs.append(z)\n",
    "    ax3d.scatter(xs, ys, zs, color=color[chain.id])\n",
    "    ax_xy.scatter(xs, ys, marker='.', color=color[chain.id])\n",
    "    ax_xz.scatter(xs, zs, marker='.', color=color[chain.id])\n",
    "    ax_zy.scatter(zs, ys, marker='.', color=color[chain.id])\n",
    "ax3d.set_xlabel('X')\n",
    "ax3d.set_ylabel('Y')\n",
    "ax3d.set_zlabel('Z')\n",
    "ax3d.scatter(zx, zy, zz, color='k', marker='v', s=300)\n",
    "ax_xy.scatter(zx, zy, color='k', marker='v', s=80)\n",
    "ax_xz.scatter(zx, zz, color='k', marker='v', s=80)\n",
    "ax_zy.scatter(zz, zy, color='k', marker='v', s=80)\n",
    "for ax in [ax_xy, ax_xz, ax_zy]:\n",
    "    ax.get_yaxis().set_visible(False)\n",
    "    ax.get_xaxis().set_visible(False)"
   ]
  },
  {
   "cell_type": "code",
   "execution_count": null,
   "metadata": {},
   "outputs": [],
   "source": []
  }
 ],
 "metadata": {
  "kernelspec": {
   "display_name": "Python 3",
   "language": "python",
   "name": "python3"
  },
  "language_info": {
   "codemirror_mode": {
    "name": "ipython",
    "version": 3
   },
   "file_extension": ".py",
   "mimetype": "text/x-python",
   "name": "python",
   "nbconvert_exporter": "python",
   "pygments_lexer": "ipython3",
   "version": "3.6.5"
  }
 },
 "nbformat": 4,
 "nbformat_minor": 1
}
