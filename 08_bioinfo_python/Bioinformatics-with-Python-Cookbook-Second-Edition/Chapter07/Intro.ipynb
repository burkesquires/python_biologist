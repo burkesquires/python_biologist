{
 "cells": [
  {
   "cell_type": "code",
   "execution_count": null,
   "metadata": {},
   "outputs": [],
   "source": [
    "from collections import defaultdict\n",
    "\n",
    "import requests\n",
    "\n",
    "from Bio import ExPASy, SwissProt"
   ]
  },
  {
   "cell_type": "code",
   "execution_count": null,
   "metadata": {},
   "outputs": [],
   "source": [
    "#explain why not biopython\n",
    "server = 'http://www.uniprot.org/uniprot'\n",
    "def do_request(server, ID='', **kwargs):\n",
    "    params = ''\n",
    "    req = requests.get('%s/%s%s' % (server, ID, params),params=kwargs)\n",
    "    if not req.ok:\n",
    "        req.raise_for_status()\n",
    "    return req"
   ]
  },
  {
   "cell_type": "code",
   "execution_count": null,
   "metadata": {},
   "outputs": [],
   "source": [
    "req = do_request(server, query='gene:p53 AND reviewed:yes',# AND organism:Human',\n",
    "                 format='tab',\n",
    "                 columns='id,entry name,length,organism,organism-id,database(PDB),database(HGNC)',\n",
    "                 limit='50')\n",
    "#We might revisit this for KEGG"
   ]
  },
  {
   "cell_type": "code",
   "execution_count": null,
   "metadata": {},
   "outputs": [],
   "source": [
    "#XXX - stringio\n",
    "import pandas as pd\n",
    "import io\n",
    "\n",
    "uniprot_list = pd.read_table(io.StringIO(req.text))\n",
    "uniprot_list.rename(columns={'Organism ID': 'ID'}, inplace=True)\n",
    "uniprot_list"
   ]
  },
  {
   "cell_type": "code",
   "execution_count": null,
   "metadata": {},
   "outputs": [],
   "source": [
    "p53_human = uniprot_list[uniprot_list.ID == 9606]['Entry'].tolist()[0]"
   ]
  },
  {
   "cell_type": "code",
   "execution_count": null,
   "metadata": {},
   "outputs": [],
   "source": [
    "handle = ExPASy.get_sprot_raw(p53_human)"
   ]
  },
  {
   "cell_type": "code",
   "execution_count": null,
   "metadata": {},
   "outputs": [],
   "source": [
    "sp_rec= SwissProt.read(handle)"
   ]
  },
  {
   "cell_type": "code",
   "execution_count": null,
   "metadata": {},
   "outputs": [],
   "source": [
    "print(sp_rec.entry_name, sp_rec.sequence_length, sp_rec.gene_name)\n",
    "print(sp_rec.description)\n",
    "print(sp_rec.organism, sp_rec.seqinfo)\n",
    "print(sp_rec.sequence)"
   ]
  },
  {
   "cell_type": "code",
   "execution_count": null,
   "metadata": {},
   "outputs": [],
   "source": [
    "print(sp_rec.comments)\n",
    "print(sp_rec.keywords)"
   ]
  },
  {
   "cell_type": "code",
   "execution_count": null,
   "metadata": {},
   "outputs": [],
   "source": [
    "help(sp_rec)"
   ]
  },
  {
   "cell_type": "code",
   "execution_count": null,
   "metadata": {},
   "outputs": [],
   "source": [
    "done_features = set()\n",
    "print(len(sp_rec.features))\n",
    "for feature in sp_rec.features:\n",
    "    if feature[0] in done_features:\n",
    "        continue\n",
    "    else:\n",
    "        done_features.add(feature[0])\n",
    "        print(feature)\n",
    "print(len(sp_rec.cross_references))\n",
    "per_source = defaultdict(list)\n",
    "for xref in sp_rec.cross_references:\n",
    "    source = xref[0]\n",
    "    per_source[source].append(xref[1:])\n",
    "print(per_source.keys())\n",
    "done_GOs = set()\n",
    "print(len(per_source['GO']))\n",
    "for annot in per_source['GO']:\n",
    "    if annot[1][0] in done_GOs:\n",
    "        continue\n",
    "    else:\n",
    "        done_GOs.add(annot[1][0])\n",
    "        print(annot)"
   ]
  }
 ],
 "metadata": {
  "kernelspec": {
   "display_name": "Python 3",
   "language": "python",
   "name": "python3"
  },
  "language_info": {
   "codemirror_mode": {
    "name": "ipython",
    "version": 3
   },
   "file_extension": ".py",
   "mimetype": "text/x-python",
   "name": "python",
   "nbconvert_exporter": "python",
   "pygments_lexer": "ipython3",
   "version": "3.6.5"
  }
 },
 "nbformat": 4,
 "nbformat_minor": 1
}
