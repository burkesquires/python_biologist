{
 "cells": [
  {
   "cell_type": "code",
   "execution_count": null,
   "metadata": {},
   "outputs": [],
   "source": [
    "import numpy as np\n",
    "import pandas as pd\n",
    "\n",
    "from Bio import PDB"
   ]
  },
  {
   "cell_type": "code",
   "execution_count": null,
   "metadata": {},
   "outputs": [],
   "source": [
    "#!rm -f 1tup.cif 2>/dev/null\n",
    "#!wget \"http://www.rcsb.org/pdb/download/downloadFile.do?fileFormat=cif&compression=NO&structureId=1TUP\" -O 1tup.cif\n",
    "#parser = PDB.MMCIFParser()\n",
    "#p53_1tup = parser.get_structure('P53', '1tup.cif')"
   ]
  },
  {
   "cell_type": "code",
   "execution_count": null,
   "metadata": {},
   "outputs": [],
   "source": [
    "repository = PDB.PDBList()\n",
    "parser = PDB.PDBParser()\n",
    "repository.retrieve_pdb_file('1TUP', pdir='.', file_format='pdb')\n",
    "p53_1tup = parser.get_structure('P 53', 'pdb1tup.ent')"
   ]
  },
  {
   "cell_type": "code",
   "execution_count": null,
   "metadata": {},
   "outputs": [],
   "source": [
    "my_residues = set()\n",
    "for residue in p53_1tup.get_residues():\n",
    "    my_residues.add(residue.id[0])\n",
    "print(my_residues)"
   ]
  },
  {
   "cell_type": "code",
   "execution_count": null,
   "metadata": {},
   "outputs": [],
   "source": [
    "def get_mass(atoms, accept_fun=lambda atom: atom.parent.id[0] != 'W'):\n",
    "    return sum([atom.mass for atom in atoms if accept_fun(atom)])\n",
    "\n",
    "chain_names = [chain.id for chain in p53_1tup.get_chains()]\n",
    "my_mass = np.ndarray((len(chain_names), 3))\n",
    "for i, chain in enumerate(p53_1tup.get_chains()):\n",
    "    my_mass[i, 0] = get_mass(chain.get_atoms())\n",
    "    my_mass[i, 1] = get_mass(chain.get_atoms(), accept_fun=lambda atom: atom.parent.id[0] not in [' ', 'W'])\n",
    "    my_mass[i, 2] = get_mass(chain.get_atoms(), accept_fun=lambda atom: atom.parent.id[0] == 'W')\n",
    "masses = pd.DataFrame(my_mass, index=chain_names, columns=['No Water', 'Zincs', 'Water'])\n",
    "masses"
   ]
  },
  {
   "cell_type": "code",
   "execution_count": null,
   "metadata": {},
   "outputs": [],
   "source": [
    "def get_center(atoms, weight_fun=lambda atom: 1 if atom.parent.id[0] != 'W' else 0):\n",
    "    xsum = ysum = zsum = 0.0\n",
    "    acum = 0.0\n",
    "    for atom in atoms:\n",
    "        x, y, z = atom.coord\n",
    "        weight = weight_fun(atom)\n",
    "        acum += weight\n",
    "        xsum += weight * x\n",
    "        ysum += weight * y\n",
    "        zsum += weight * z\n",
    "    return xsum / acum, ysum / acum, zsum / acum"
   ]
  },
  {
   "cell_type": "code",
   "execution_count": null,
   "metadata": {},
   "outputs": [],
   "source": [
    "print(get_center(p53_1tup.get_atoms()))\n",
    "print(get_center(p53_1tup.get_atoms(),\n",
    "                 weight_fun=lambda atom: atom.mass if atom.parent.id[0] != 'W' else 0))"
   ]
  },
  {
   "cell_type": "code",
   "execution_count": null,
   "metadata": {},
   "outputs": [],
   "source": [
    "my_center = np.ndarray((len(chain_names), 6))\n",
    "for i, chain in enumerate(p53_1tup.get_chains()):\n",
    "    x, y, z = get_center(chain.get_atoms())\n",
    "    my_center[i, 0] = x\n",
    "    my_center[i, 1] = y\n",
    "    my_center[i, 2] = z\n",
    "    x, y, z = get_center(chain.get_atoms(), weight_fun=lambda atom: atom.mass if atom.parent.id[0] != 'W' else 0)\n",
    "    my_center[i, 3] = x\n",
    "    my_center[i, 4] = y\n",
    "    my_center[i, 5] = z\n",
    "weights = pd.DataFrame(my_center, index=chain_names, columns=['X', 'Y', 'Z', 'X (Mass)', 'Y (Mass)', 'Z (Mass)'])\n",
    "weights"
   ]
  },
  {
   "cell_type": "code",
   "execution_count": null,
   "metadata": {},
   "outputs": [],
   "source": [
    "#Pymol viz"
   ]
  }
 ],
 "metadata": {
  "kernelspec": {
   "display_name": "Python 3",
   "language": "python",
   "name": "python3"
  },
  "language_info": {
   "codemirror_mode": {
    "name": "ipython",
    "version": 3
   },
   "file_extension": ".py",
   "mimetype": "text/x-python",
   "name": "python",
   "nbconvert_exporter": "python",
   "pygments_lexer": "ipython3",
   "version": "3.6.5"
  }
 },
 "nbformat": 4,
 "nbformat_minor": 1
}
