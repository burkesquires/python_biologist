{
 "cells": [
  {
   "cell_type": "code",
   "execution_count": null,
   "metadata": {},
   "outputs": [],
   "source": [
    "from collections import defaultdict, OrderedDict\n",
    "from copy import deepcopy\n",
    "\n",
    "import seaborn as sns\n",
    "sns.set_style('white')\n",
    "import matplotlib.pyplot as plt\n",
    "\n",
    "import simuPOP as sp\n",
    "from simuPOP import demography\n",
    "%matplotlib inline"
   ]
  },
  {
   "cell_type": "code",
   "execution_count": null,
   "metadata": {},
   "outputs": [],
   "source": [
    "num_loci = 10\n",
    "pop_size = 50\n",
    "num_gens = 101\n",
    "num_pops = 10\n",
    "migs = [0, 0.005, 0.01, 0.02, 0.05, 0.1]"
   ]
  },
  {
   "cell_type": "code",
   "execution_count": null,
   "metadata": {},
   "outputs": [],
   "source": [
    "init_ops = OrderedDict()\n",
    "pre_ops = OrderedDict()\n",
    "post_ops = OrderedDict()"
   ]
  },
  {
   "cell_type": "code",
   "execution_count": null,
   "metadata": {},
   "outputs": [],
   "source": [
    "def init_accumulators(pop, param):\n",
    "    accumulators = param\n",
    "    for accumulator in accumulators:\n",
    "        if accumulator.endswith('_sp'):\n",
    "            pop.vars()[accumulator] = defaultdict(list)\n",
    "        else:\n",
    "            pop.vars()[accumulator] = []\n",
    "    return True\n",
    "\n",
    "def update_accumulator(pop, param):\n",
    "    accumulator, var = param\n",
    "    if  var.endswith('_sp'):\n",
    "        for sp in range(pop.numSubPop()):\n",
    "            pop.vars()[accumulator][sp].append(deepcopy(pop.vars(sp)[var[:-3]]))\n",
    "    else:\n",
    "        pop.vars()[accumulator].append(deepcopy(pop.vars()[var]))\n",
    "    return True"
   ]
  },
  {
   "cell_type": "code",
   "execution_count": null,
   "metadata": {},
   "outputs": [],
   "source": [
    "pops = sp.Population([pop_size] * num_pops, loci=[1] * num_loci, infoFields=['migrate_to'])"
   ]
  },
  {
   "cell_type": "code",
   "execution_count": null,
   "metadata": {},
   "outputs": [],
   "source": [
    "init_ops['accumulators'] = sp.PyOperator(init_accumulators, param=['fst'])\n",
    "init_ops['Sex'] = sp.InitSex()\n",
    "init_ops['Freq'] = sp.InitGenotype(freq=[0.5, 0.5])\n",
    "for i, mig in enumerate(migs):\n",
    "    post_ops['mig-%d' % i] = sp.Migrator(demography.migrIslandRates(mig, num_pops), reps=[i])\n",
    "post_ops['Stat-fst'] = sp.Stat(structure=sp.ALL_AVAIL)\n",
    "post_ops['fst_accumulation'] = sp.PyOperator(update_accumulator, param=('fst', 'F_st'))"
   ]
  },
  {
   "cell_type": "code",
   "execution_count": null,
   "metadata": {},
   "outputs": [],
   "source": [
    "mating_scheme = sp.RandomMating()"
   ]
  },
  {
   "cell_type": "code",
   "execution_count": null,
   "metadata": {},
   "outputs": [],
   "source": [
    "sim = sp.Simulator(pops, rep=len(migs))\n",
    "sim.evolve(initOps=list(init_ops.values()), preOps=list(pre_ops.values()), postOps=list(post_ops.values()),\n",
    "           matingScheme=mating_scheme, gen=num_gens)"
   ]
  },
  {
   "cell_type": "code",
   "execution_count": null,
   "metadata": {},
   "outputs": [],
   "source": [
    "fig = plt.figure(figsize=(16, 9))\n",
    "ax = fig.add_subplot(111)\n",
    "for i, pop in enumerate(sim.populations()):\n",
    "    ax.plot(pop.dvars().fst, label='mig rate %.4f' % migs[i])\n",
    "ax.legend(loc=2)\n",
    "ax.set_ylabel('FST')\n",
    "ax.set_xlabel('Generation')"
   ]
  },
  {
   "cell_type": "code",
   "execution_count": null,
   "metadata": {},
   "outputs": [],
   "source": [
    "num_gens = 400\n",
    "num_loci = 5\n",
    "init_ops = OrderedDict()\n",
    "pre_ops = OrderedDict()\n",
    "post_ops = OrderedDict()\n",
    "init_ops['Sex'] = sp.InitSex()\n",
    "init_ops['Freq'] = sp.InitGenotype(freq=[0.5, 0.5])\n",
    "post_ops['Stat-freq'] = sp.Stat(alleleFreq=sp.ALL_AVAIL, vars=['alleleFreq', 'alleleFreq_sp'])\n",
    "init_ops['accumulators'] = sp.PyOperator(init_accumulators, param=['allele_freq', 'allele_freq_sp'])\n",
    "post_ops['freq_accumulation'] = sp.PyOperator(update_accumulator, param=('allele_freq', 'alleleFreq'))\n",
    "post_ops['freq_sp_accumulation'] = sp.PyOperator(update_accumulator,\n",
    "                                                 param=('allele_freq_sp', 'alleleFreq_sp'))"
   ]
  },
  {
   "cell_type": "code",
   "execution_count": null,
   "metadata": {},
   "outputs": [],
   "source": [
    "for i, mig in enumerate(migs):\n",
    "    post_ops['mig-%d' % i] = sp.Migrator(demography.migrSteppingStoneRates(mig, num_pops), reps=[i])\n",
    "#two 2 - talk\n",
    "pops = sp.Population([pop_size] * num_pops, loci=[1] * num_loci, infoFields=['migrate_to'])"
   ]
  },
  {
   "cell_type": "code",
   "execution_count": null,
   "metadata": {},
   "outputs": [],
   "source": [
    "sim = sp.Simulator(pops, rep=len(migs))\n",
    "sim.evolve(initOps=list(init_ops.values()), preOps=list(pre_ops.values()), postOps=list(post_ops.values()),\n",
    "           matingScheme=mating_scheme, gen=num_gens)"
   ]
  },
  {
   "cell_type": "code",
   "execution_count": null,
   "metadata": {},
   "outputs": [],
   "source": [
    "def get_maf(var):\n",
    "    locus_data = [gen[locus] for gen in var]\n",
    "    maf = [min(freq.values()) for freq in locus_data]\n",
    "    maf = [v if v != 1 else 0 for v in maf]\n",
    "    return maf\n",
    "    \n",
    "fig, axs = plt.subplots(3, num_pops // 2 + 1, figsize=(16, 9), sharex=True, sharey=True, squeeze=False)\n",
    "fig.suptitle('Minimum allele frequency at the meta-population and 5 demes', fontsize='xx-large')\n",
    "for line, pop in enumerate([sim.population(0), sim.population(1), sim.population(len(migs) - 1)]):\n",
    "    for locus in range(num_loci):\n",
    "        maf = get_maf(pop.dvars().allele_freq)\n",
    "        axs[line, 0].plot(maf)\n",
    "        axs[line, 0].set_facecolor('black')\n",
    "    for nsp in range(num_pops // 2):\n",
    "        for locus in range(num_loci):\n",
    "            maf = get_maf(pop.dvars().allele_freq_sp[nsp * 2])\n",
    "            axs[line, nsp + 1].plot(maf)\n",
    "fig.subplots_adjust(hspace=0, wspace=0)"
   ]
  },
  {
   "cell_type": "code",
   "execution_count": null,
   "metadata": {},
   "outputs": [],
   "source": []
  }
 ],
 "metadata": {
  "kernelspec": {
   "display_name": "Python 3",
   "language": "python",
   "name": "python3"
  },
  "language_info": {
   "codemirror_mode": {
    "name": "ipython",
    "version": 3
   },
   "file_extension": ".py",
   "mimetype": "text/x-python",
   "name": "python",
   "nbconvert_exporter": "python",
   "pygments_lexer": "ipython3",
   "version": "3.6.5"
  }
 },
 "nbformat": 4,
 "nbformat_minor": 2
}
