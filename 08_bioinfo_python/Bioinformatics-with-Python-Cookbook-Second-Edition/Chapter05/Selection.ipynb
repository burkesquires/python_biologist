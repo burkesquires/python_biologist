{
 "cells": [
  {
   "cell_type": "code",
   "execution_count": null,
   "metadata": {},
   "outputs": [],
   "source": [
    "from collections import OrderedDict\n",
    "from copy import deepcopy\n",
    "\n",
    "import seaborn as sns\n",
    "import matplotlib.pyplot as plt\n",
    "\n",
    "import simuPOP as sp\n",
    "%matplotlib inline"
   ]
  },
  {
   "cell_type": "code",
   "execution_count": null,
   "metadata": {},
   "outputs": [],
   "source": [
    "num_loci = 10\n",
    "pop_size = 1000\n",
    "num_gens = 101"
   ]
  },
  {
   "cell_type": "code",
   "execution_count": null,
   "metadata": {},
   "outputs": [],
   "source": [
    "init_ops = OrderedDict()\n",
    "pre_ops = OrderedDict()\n",
    "post_ops = OrderedDict()"
   ]
  },
  {
   "cell_type": "code",
   "execution_count": null,
   "metadata": {},
   "outputs": [],
   "source": [
    "def init_accumulators(pop, param):\n",
    "    accumulators = param\n",
    "    for accumulator in accumulators:\n",
    "        pop.vars()[accumulator] = []\n",
    "    return True\n",
    "\n",
    "def update_accumulator(pop, param):\n",
    "    accumulator, var = param\n",
    "    pop.vars()[accumulator].append(deepcopy(pop.vars()[var]))\n",
    "    return True"
   ]
  },
  {
   "cell_type": "code",
   "execution_count": null,
   "metadata": {},
   "outputs": [],
   "source": [
    "pops = sp.Population(pop_size, loci=[1] * num_loci, infoFields=['fitness'])"
   ]
  },
  {
   "cell_type": "code",
   "execution_count": null,
   "metadata": {},
   "outputs": [],
   "source": [
    "def create_derived_by_count(pop, param):\n",
    "    #Assumes everything is autosomal and that derived is low (<0.5)\n",
    "    locus, cnt = param\n",
    "    for i, ind in enumerate(pop.individuals()):\n",
    "        for marker in range(pop.totNumLoci()):\n",
    "            if i < cnt and locus == marker:\n",
    "                ind.setAllele(1, marker, 0)\n",
    "            else:\n",
    "                ind.setAllele(0, marker, 0)\n",
    "            ind.setAllele(0, marker, 1)\n",
    "    return True"
   ]
  },
  {
   "cell_type": "code",
   "execution_count": null,
   "metadata": {},
   "outputs": [],
   "source": [
    "init_ops['Sex'] = sp.InitSex()\n",
    "init_ops['Freq-sel'] = sp.PyOperator(create_derived_by_count, param=(0, 10))\n",
    "#careful above\n",
    "init_ops['Freq-neutral'] = sp.InitGenotype(freq=[0.5, 0.5], loci=range(1, num_loci))\n",
    "post_ops['Stat-freq'] = sp.Stat(alleleFreq=sp.ALL_AVAIL)\n",
    "post_ops['Stat-freq-eval'] = sp.PyEval(r\"'%d %.3f\\n' % (gen, alleleFreq[0][1])\", reps=[0], step=10)"
   ]
  },
  {
   "cell_type": "code",
   "execution_count": null,
   "metadata": {},
   "outputs": [],
   "source": [
    "ms = sp.MapSelector(loci=0, fitness={\n",
    "                (0, 0): 0.90,\n",
    "                (0, 1): 1,\n",
    "                (1, 1): 1})\n",
    "pre_ops['Selection'] = ms\n",
    "mating_scheme = sp.RandomMating()"
   ]
  },
  {
   "cell_type": "code",
   "execution_count": null,
   "metadata": {},
   "outputs": [],
   "source": [
    "def get_freq_deriv(pop, param):\n",
    "    marker, name = param\n",
    "    expHe = {}\n",
    "    pop.vars()[name] = pop.dvars().alleleFreq[marker][1]\n",
    "    return True"
   ]
  },
  {
   "cell_type": "code",
   "execution_count": null,
   "metadata": {},
   "outputs": [],
   "source": [
    "init_ops['accumulators'] = sp.PyOperator(init_accumulators, param=['freq_sel'])\n",
    "post_ops['FreqSel'] = sp.PyOperator(get_freq_deriv, param=(0, 'freqDeriv'))\n",
    "post_ops['freq_sel_accumulation'] = sp.PyOperator(update_accumulator, param=('freq_sel', 'freqDeriv'))"
   ]
  },
  {
   "cell_type": "code",
   "execution_count": null,
   "metadata": {},
   "outputs": [],
   "source": [
    "sim = sp.Simulator(pops, rep=100)  # talk about threads\n",
    "sim.evolve(initOps=list(init_ops.values()), preOps=list(pre_ops.values()), postOps=list(post_ops.values()),\n",
    "           matingScheme=mating_scheme, gen=num_gens)\n",
    "None"
   ]
  },
  {
   "cell_type": "code",
   "execution_count": null,
   "metadata": {},
   "outputs": [],
   "source": [
    "sns.set_style('white')\n",
    "fig = plt.figure(figsize=(16, 9))\n",
    "ax = fig.add_subplot(111)\n",
    "ax.set_title('Frequency of selected alleles in 100 replicates over time')\n",
    "ax.set_xlabel('Generation')\n",
    "ax.set_ylabel('Frequency of selected allele')\n",
    "for pop in sim.populations():\n",
    "    ax.plot(pop.vars()['freq_sel'])"
   ]
  },
  {
   "cell_type": "code",
   "execution_count": null,
   "metadata": {},
   "outputs": [],
   "source": [
    "pop_size = 100\n",
    "pops = sp.Population(pop_size, loci=[1] * num_loci, infoFields=['fitness'])"
   ]
  },
  {
   "cell_type": "code",
   "execution_count": null,
   "metadata": {},
   "outputs": [],
   "source": [
    "#XXX change\n",
    "init_ops['Freq-sel'] = sp.PyOperator(create_derived_by_count, param=(0, 1))\n",
    "sim = sp.Simulator(pops, rep=100)  # talk about threads\n",
    "sim.evolve(initOps=list(init_ops.values()), preOps=list(pre_ops.values()), postOps=list(post_ops.values()),\n",
    "           matingScheme=mating_scheme, gen=num_gens)\n",
    "None"
   ]
  },
  {
   "cell_type": "code",
   "execution_count": null,
   "metadata": {},
   "outputs": [],
   "source": [
    "fig = plt.figure(figsize=(16, 9))\n",
    "ax = fig.add_subplot(111)\n",
    "ax.set_xlabel('Generation')\n",
    "ax.set_ylabel('Frequency of selected allele')\n",
    "ax.set_title('Frequency of selected alleles in 100 replicates over time')\n",
    "for pop in sim.populations():\n",
    "    ax.plot(pop.vars()['freq_sel'])"
   ]
  },
  {
   "cell_type": "code",
   "execution_count": null,
   "metadata": {},
   "outputs": [],
   "source": [
    "#suggest comparing with neutral"
   ]
  },
  {
   "cell_type": "code",
   "execution_count": null,
   "metadata": {},
   "outputs": [],
   "source": [
    "hz_ms = sp.MapSelector(loci=0, fitness={\n",
    "                (0, 0): 0.9,\n",
    "                (0, 1): 0.9,\n",
    "                (1, 1): 1})\n",
    "hz_mating_scheme = sp.RandomMating(ops=[sp.MendelianGenoTransmitter(), hz_ms])"
   ]
  },
  {
   "cell_type": "code",
   "execution_count": null,
   "metadata": {},
   "outputs": [],
   "source": [
    "recessive_ms = sp.MapSelector(loci=0, fitness={\n",
    "                (0, 0): 0.9,\n",
    "                (0, 1): 0.9,\n",
    "                (1, 1): 1})\n",
    "recessive_mating_scheme = sp.RandomMating(ops=[sp.MendelianGenoTransmitter(), recessive_ms])"
   ]
  },
  {
   "cell_type": "code",
   "execution_count": null,
   "metadata": {},
   "outputs": [],
   "source": [
    "# talk about multi-loci"
   ]
  },
  {
   "cell_type": "code",
   "execution_count": null,
   "metadata": {},
   "outputs": [],
   "source": [
    "pop_size = 5000\n",
    "num_gens = 100\n",
    "pops = sp.Population(pop_size, loci=[1] * num_loci, infoFields=['fitness'])"
   ]
  },
  {
   "cell_type": "code",
   "execution_count": null,
   "metadata": {},
   "outputs": [],
   "source": [
    "def example_epistasis(geno):\n",
    "    if geno[0] + geno[1] == 0:\n",
    "        return 0.7\n",
    "    elif geno[2] + geno[3] == 0:\n",
    "        return 0.8\n",
    "    else:\n",
    "        return 0.9 + 0.1 * (geno[2] + geno[3] - 1)"
   ]
  },
  {
   "cell_type": "code",
   "execution_count": null,
   "metadata": {},
   "outputs": [],
   "source": [
    "init_ops = OrderedDict()\n",
    "pre_ops = OrderedDict()\n",
    "post_ops = OrderedDict()\n",
    "init_ops['Sex'] = sp.InitSex()\n",
    "init_ops['Freq-sel'] = sp.InitGenotype(freq=[0.99, 0.01], loci=[0, 1])\n",
    "init_ops['Freq-neutral'] = sp.InitGenotype(freq=[0.5, 0.5], loci=range(2, num_loci))\n",
    "pre_ops['Selection'] = sp.PySelector(loci=[0, 1], func=example_epistasis)\n",
    "init_ops['accumulators'] = sp.PyOperator(init_accumulators, param=['freq_sel_major', 'freq_sel_minor'])\n",
    "post_ops['Stat-freq'] = sp.Stat(alleleFreq=sp.ALL_AVAIL)\n",
    "post_ops['FreqSelMajor'] = sp.PyOperator(get_freq_deriv, param=(0, 'FreqSelMajor'))\n",
    "post_ops['FreqSelMinor'] = sp.PyOperator(get_freq_deriv, param=(1, 'FreqSelMinor'))\n",
    "post_ops['freq_sel_major_accumulation'] = sp.PyOperator(update_accumulator,\n",
    "                                                        param=('freq_sel_major', 'FreqSelMajor'))\n",
    "post_ops['freq_sel_minor_accumulation'] = sp.PyOperator(update_accumulator,\n",
    "                                                        param=('freq_sel_minor', 'FreqSelMinor'))"
   ]
  },
  {
   "cell_type": "code",
   "execution_count": null,
   "metadata": {},
   "outputs": [],
   "source": [
    "#XXX change\n",
    "sim = sp.Simulator(pops, rep=15)\n",
    "sim.evolve(initOps=list(init_ops.values()), preOps=list(pre_ops.values()), postOps=list(post_ops.values()),\n",
    "           matingScheme=mating_scheme, gen=num_gens)\n",
    "None"
   ]
  },
  {
   "cell_type": "code",
   "execution_count": null,
   "metadata": {},
   "outputs": [],
   "source": [
    "fig = plt.figure(figsize=(16, 9))\n",
    "ax1 = fig.add_subplot(111)\n",
    "ax1.set_xlabel('Generation')\n",
    "ax1.set_ylabel('Frequency of selected allele')\n",
    "ax1.set_title('Frequency of selected alleles (principal and supporting) over time in 15 replicates')\n",
    "for pop in sim.populations():\n",
    "    ax1.plot(pop.vars()['freq_sel_major'])\n",
    "    ax1.plot(pop.vars()['freq_sel_minor'], '--')"
   ]
  },
  {
   "cell_type": "code",
   "execution_count": null,
   "metadata": {},
   "outputs": [],
   "source": []
  }
 ],
 "metadata": {
  "kernelspec": {
   "display_name": "Python 3",
   "language": "python",
   "name": "python3"
  },
  "language_info": {
   "codemirror_mode": {
    "name": "ipython",
    "version": 3
   },
   "file_extension": ".py",
   "mimetype": "text/x-python",
   "name": "python",
   "nbconvert_exporter": "python",
   "pygments_lexer": "ipython3",
   "version": "3.6.5"
  }
 },
 "nbformat": 4,
 "nbformat_minor": 2
}
