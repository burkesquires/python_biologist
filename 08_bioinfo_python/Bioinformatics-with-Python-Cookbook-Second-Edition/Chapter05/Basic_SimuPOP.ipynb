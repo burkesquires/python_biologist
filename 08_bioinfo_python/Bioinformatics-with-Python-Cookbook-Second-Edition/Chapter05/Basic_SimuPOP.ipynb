{
 "cells": [
  {
   "cell_type": "code",
   "execution_count": null,
   "metadata": {},
   "outputs": [],
   "source": [
    "from collections import OrderedDict\n",
    "from copy import deepcopy\n",
    "\n",
    "import numpy as np\n",
    "import seaborn as sns\n",
    "import matplotlib.pyplot as plt\n",
    "\n",
    "import simuPOP as sp\n",
    "%matplotlib inline"
   ]
  },
  {
   "cell_type": "code",
   "execution_count": null,
   "metadata": {},
   "outputs": [],
   "source": [
    "num_loci = 10\n",
    "pop_size = 100\n",
    "num_gens = 10"
   ]
  },
  {
   "cell_type": "code",
   "execution_count": null,
   "metadata": {},
   "outputs": [],
   "source": [
    "init_ops = OrderedDict()\n",
    "pre_ops = OrderedDict()\n",
    "post_ops = OrderedDict()"
   ]
  },
  {
   "cell_type": "code",
   "execution_count": null,
   "metadata": {},
   "outputs": [],
   "source": [
    "pops = sp.Population(pop_size, loci=[1] * num_loci)"
   ]
  },
  {
   "cell_type": "code",
   "execution_count": null,
   "metadata": {},
   "outputs": [],
   "source": [
    "init_ops['Sex'] = sp.InitSex()\n",
    "init_ops['Freq'] = sp.InitGenotype(freq=[0.5, 0.5])\n",
    "post_ops['Stat-freq'] = sp.Stat(alleleFreq=sp.ALL_AVAIL)\n",
    "post_ops['Stat-freq-eval'] = sp.PyEval(r\"'%d %.2f\\n' % (gen, alleleFreq[0][0])\")"
   ]
  },
  {
   "cell_type": "code",
   "execution_count": null,
   "metadata": {},
   "outputs": [],
   "source": [
    "mating_scheme = sp.RandomMating()"
   ]
  },
  {
   "cell_type": "code",
   "execution_count": null,
   "metadata": {},
   "outputs": [],
   "source": [
    "sim = sp.Simulator(pops, rep=1)\n",
    "sim.evolve(initOps=list(init_ops.values()), preOps=list(pre_ops.values()), postOps=list(post_ops.values()),\n",
    "           matingScheme=mating_scheme, gen=num_gens)"
   ]
  },
  {
   "cell_type": "code",
   "execution_count": null,
   "metadata": {},
   "outputs": [],
   "source": [
    "def init_accumulators(pop, param):\n",
    "    accumulators = param\n",
    "    for accumulator in accumulators:\n",
    "        pop.vars()[accumulator] = []\n",
    "    return True\n",
    "\n",
    "def update_accumulator(pop, param):\n",
    "    accumulator, var = param\n",
    "    pop.vars()[accumulator].append(deepcopy(pop.vars()[var]))\n",
    "    return True"
   ]
  },
  {
   "cell_type": "code",
   "execution_count": null,
   "metadata": {},
   "outputs": [],
   "source": [
    "def calc_exp_he(pop):\n",
    "    #assuming bi-allelic markers coded as 0 and 1\n",
    "    #sample size not corrected - OK\n",
    "    pop.dvars().expHe = {}\n",
    "    for locus, freqs in pop.dvars().alleleFreq.items():\n",
    "        f0 = freqs[0]\n",
    "        pop.dvars().expHe[locus] = 1 - f0**2 - (1 - f0)**2\n",
    "    return True"
   ]
  },
  {
   "cell_type": "code",
   "execution_count": null,
   "metadata": {},
   "outputs": [],
   "source": [
    "init_ops['accumulators'] = sp.PyOperator(init_accumulators, param=['num_males', 'exp_he'])\n",
    "post_ops['Stat-males'] = sp.Stat(numOfMales=True)\n",
    "post_ops['ExpHe'] = sp.PyOperator(calc_exp_he)\n",
    "post_ops['male_accumulation'] = sp.PyOperator(update_accumulator, param=('num_males', 'numOfMales'))\n",
    "post_ops['expHe_accumulation'] = sp.PyOperator(update_accumulator, param=('exp_he', 'expHe'))\n",
    "#remember ordering\n",
    "#generation step"
   ]
  },
  {
   "cell_type": "code",
   "execution_count": null,
   "metadata": {},
   "outputs": [],
   "source": [
    "del post_ops['Stat-freq-eval']\n"
   ]
  },
  {
   "cell_type": "code",
   "execution_count": null,
   "metadata": {},
   "outputs": [],
   "source": [
    "num_gens = 100\n",
    "pops_500 = sp.Population(500, loci=[1] * num_loci)\n",
    "sim = sp.Simulator(pops_500, rep=1)\n",
    "sim.evolve(initOps=list(init_ops.values()), preOps=list(pre_ops.values()), postOps=list(post_ops.values()),\n",
    "           matingScheme=mating_scheme, gen=num_gens)"
   ]
  },
  {
   "cell_type": "code",
   "execution_count": null,
   "metadata": {},
   "outputs": [],
   "source": [
    "pop_500_after = deepcopy(sim.population(0))"
   ]
  },
  {
   "cell_type": "code",
   "execution_count": null,
   "metadata": {},
   "outputs": [],
   "source": [
    "pops_40 = sp.Population(40, loci=[1] * num_loci)\n",
    "sim = sp.Simulator(pops_40, rep=1)\n",
    "sim.evolve(initOps=list(init_ops.values()), preOps=list(pre_ops.values()), postOps=list(post_ops.values()),\n",
    "           matingScheme=mating_scheme, gen=num_gens)"
   ]
  },
  {
   "cell_type": "code",
   "execution_count": null,
   "metadata": {},
   "outputs": [],
   "source": [
    "pop_40_after = deepcopy(sim.population(0))"
   ]
  },
  {
   "cell_type": "code",
   "execution_count": null,
   "metadata": {},
   "outputs": [],
   "source": [
    "def calc_loci_stat(var, fun):\n",
    "    stat = []\n",
    "    for gen_data in var:\n",
    "        stat.append(fun(list(gen_data.values())))\n",
    "    return stat"
   ]
  },
  {
   "cell_type": "code",
   "execution_count": null,
   "metadata": {},
   "outputs": [],
   "source": [
    "sns.set_style('white')\n",
    "fig, axs = plt.subplots(1, 2, figsize=(16, 9), sharey=True, squeeze=False)\n",
    "def plot_pop(ax1, pop):\n",
    "    for locus in range(num_loci):\n",
    "        ax1.plot([x[locus] for x in pop.dvars().exp_he], color=(0.75, 0.75, 0.75))\n",
    "    mean_exp_he = calc_loci_stat(pop.dvars().exp_he, np.mean)\n",
    "    ax1.plot(mean_exp_he, color='r')\n",
    "\n",
    "axs[0, 0].set_title('PopSize: 40')\n",
    "axs[0, 1].set_title('PopSize: 500')\n",
    "axs[0, 0].set_ylabel('Expected heterozygosity')\n",
    "plot_pop(axs[0, 0], pop_40_after)\n",
    "plot_pop(axs[0, 1], pop_500_after)\n",
    "ax = fig.add_subplot(4, 4, 6)\n",
    "ax.set_title('Distribution of number of males')\n",
    "ax.boxplot(pop_40_after.dvars().num_males)\n",
    "ax = fig.add_subplot(4, 4, 16)\n",
    "ax.set_title('Distribution of number of males')\n",
    "ax.boxplot(pop_500_after.dvars().num_males)\n",
    "fig.tight_layout()"
   ]
  },
  {
   "cell_type": "code",
   "execution_count": null,
   "metadata": {},
   "outputs": [],
   "source": []
  }
 ],
 "metadata": {
  "kernelspec": {
   "display_name": "Python 3",
   "language": "python",
   "name": "python3"
  },
  "language_info": {
   "codemirror_mode": {
    "name": "ipython",
    "version": 3
   },
   "file_extension": ".py",
   "mimetype": "text/x-python",
   "name": "python",
   "nbconvert_exporter": "python",
   "pygments_lexer": "ipython3",
   "version": "3.6.5"
  }
 },
 "nbformat": 4,
 "nbformat_minor": 2
}
