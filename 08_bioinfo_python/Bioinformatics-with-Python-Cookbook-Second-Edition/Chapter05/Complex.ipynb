{
 "cells": [
  {
   "cell_type": "code",
   "execution_count": null,
   "metadata": {},
   "outputs": [],
   "source": [
    "#XXX seaborn removed\n",
    "from collections import defaultdict, OrderedDict\n",
    "from copy import deepcopy\n",
    "import random\n",
    "\n",
    "import numpy as np\n",
    "\n",
    "import matplotlib.pyplot as plt\n",
    "\n",
    "import simuPOP as sp\n",
    "%matplotlib inline"
   ]
  },
  {
   "cell_type": "code",
   "execution_count": null,
   "metadata": {},
   "outputs": [],
   "source": [
    "def kill(pop):\n",
    "    kills = []\n",
    "    for i in pop.individuals():\n",
    "        if i.sex() == 1:\n",
    "            cut = pop.dvars().survival_male[int(i.age)]\n",
    "        else:\n",
    "            cut = pop.dvars().survival_female[int(i.age)]\n",
    "            if pop.dvars().gen > pop.dvars().cut_gen and i.age == 2:\n",
    "                cut = 0\n",
    "        if random.random() > cut:\n",
    "            kills.append(i.ind_id)\n",
    "    pop.removeIndividuals(IDs=kills)\n",
    "    return True"
   ]
  },
  {
   "cell_type": "code",
   "execution_count": null,
   "metadata": {},
   "outputs": [],
   "source": [
    "def choose_parents(pop):\n",
    "    #name convention required\n",
    "    fathers = []\n",
    "    mothers = []\n",
    "\n",
    "    for ind in pop.individuals():\n",
    "        if ind.sex() == 1:\n",
    "            fathers.extend([ind] * pop.dvars().male_age_fecundity[int(ind.age)])\n",
    "        else:\n",
    "            ind.num_kids = 0\n",
    "            mothers.append(ind)\n",
    "    while True:\n",
    "        father = random.choice(fathers)\n",
    "        mother_ok = False\n",
    "        while not mother_ok:\n",
    "            mother = random.choice(mothers)\n",
    "            if mother.num_kids < pop.dvars().max_kids[int(mother.age)]:\n",
    "                mother.num_kids += 1\n",
    "                mother_ok = True\n",
    "        yield father, mother\n",
    "        \n",
    "def calc_demo(gen, pop):\n",
    "    if gen > pop.dvars().cut_gen:\n",
    "        add_females = len([ind for ind in pop.individuals([0, 2]) if ind.sex() == 2])\n",
    "    else:\n",
    "        add_females = 0\n",
    "    return pop_size + pop.subPopSize([0, 3]) + add_females"
   ]
  },
  {
   "cell_type": "code",
   "execution_count": null,
   "metadata": {},
   "outputs": [],
   "source": [
    "mating_scheme = sp.HeteroMating([\n",
    "    sp.HomoMating(\n",
    "        sp.PyParentsChooser(choose_parents),\n",
    "        sp.OffspringGenerator(numOffspring=1, ops=[\n",
    "            sp.MendelianGenoTransmitter(), sp.IdTagger()]),\n",
    "        weight=1),\n",
    "    sp.CloneMating(weight=-1)],\n",
    "    subPopSize=calc_demo)"
   ]
  },
  {
   "cell_type": "code",
   "execution_count": null,
   "metadata": {},
   "outputs": [],
   "source": [
    "pop_size = 300\n",
    "num_loci = 50\n",
    "num_alleles = 10\n",
    "num_gens = 90\n",
    "cut_gen = 50\n",
    "#max_age = 3\n",
    "max_kids = [0, 0, float('inf'), 1]\n",
    "male_age_fecundity = [0, 0, 2, 1]\n",
    "survival_male = [1, 0.8, 0.8, 0]\n",
    "survival_female = [1, 0.9, 0.9, 0]"
   ]
  },
  {
   "cell_type": "code",
   "execution_count": null,
   "metadata": {},
   "outputs": [],
   "source": [
    "pops = sp.Population(pop_size, loci=[1] * num_loci, infoFields=['age', 'ind_id', 'num_kids'])\n",
    "pops.setVirtualSplitter(sp.InfoSplitter(field='age', cutoff=[1, 2, 3]))"
   ]
  },
  {
   "cell_type": "code",
   "execution_count": null,
   "metadata": {},
   "outputs": [],
   "source": [
    "init_ops = OrderedDict()\n",
    "pre_ops = OrderedDict()\n",
    "post_ops = OrderedDict()"
   ]
  },
  {
   "cell_type": "code",
   "execution_count": null,
   "metadata": {},
   "outputs": [],
   "source": [
    "def init_age(pop):\n",
    "    pop.dvars().male_age_fecundity = male_age_fecundity\n",
    "    pop.dvars().survival_male = survival_male\n",
    "    pop.dvars().survival_female = survival_female\n",
    "    pop.dvars().max_kids = max_kids\n",
    "    pop.dvars().cut_gen = cut_gen\n",
    "    return True"
   ]
  },
  {
   "cell_type": "code",
   "execution_count": null,
   "metadata": {},
   "outputs": [],
   "source": [
    "def init_accumulators(pop, param):\n",
    "    accumulators = param\n",
    "    for accumulator in accumulators:\n",
    "        pop.vars()[accumulator] = []\n",
    "    return True\n",
    "\n",
    "def update_pyramid(pop):\n",
    "    pyr = defaultdict(int)\n",
    "    for ind in pop.individuals():\n",
    "        pyr[(int(ind.age), int(ind.sex()))] += 1\n",
    "    pop.vars()['age_pyramid'].append(pyr)\n",
    "    return True\n",
    "\n",
    "def update_ldne(pop):\n",
    "    pop.vars()['ldne'].append(pop.dvars().Ne_LD[0.05])\n",
    "    return True"
   ]
  },
  {
   "cell_type": "code",
   "execution_count": null,
   "metadata": {},
   "outputs": [],
   "source": [
    "init_ops['Sex'] = sp.InitSex()\n",
    "init_ops['ID'] = sp.IdTagger()\n",
    "init_ops['accumulators'] = sp.PyOperator(init_accumulators, param=['ldne', 'age_pyramid'])\n",
    "init_ops['Freq'] = sp.InitGenotype(freq=[1 / num_alleles] * num_alleles)\n",
    "init_ops['Age-prepare'] = sp.PyOperator(init_age)\n",
    "init_ops['Age'] = sp.InitInfo(lambda: random.randint(0, len(survival_male) - 1), infoFields='age')\n",
    "pre_ops['Kill'] = sp.PyOperator(kill)\n",
    "pre_ops['Age'] = sp.InfoExec('age += 1')\n",
    "pre_ops['pyramid_accumulator'] = sp.PyOperator(update_pyramid)\n",
    "post_ops['Ne'] = sp.Stat(effectiveSize=sp.ALL_AVAIL, subPops=[[0, 0]], vars=['Ne_LD'])\n",
    "post_ops['Ne_accumulator'] = sp.PyOperator(update_ldne)\n",
    "#post_ops['count'] = sp.PyEval(r'\"gen %d, size %d\\n\" % (gen, pop.popSize())', exposePop='pop')"
   ]
  },
  {
   "cell_type": "code",
   "execution_count": null,
   "metadata": {},
   "outputs": [],
   "source": [
    "sim = sp.Simulator(pops, rep=1)\n",
    "sim.evolve(initOps=list(init_ops.values()), preOps=list(pre_ops.values()), postOps=list(post_ops.values()),\n",
    "           matingScheme=mating_scheme, gen=num_gens)"
   ]
  },
  {
   "cell_type": "code",
   "execution_count": null,
   "metadata": {},
   "outputs": [],
   "source": [
    "ld_ne = sim.population(0).dvars().ldne\n",
    "pyramid = sim.population(0).dvars().age_pyramid"
   ]
  },
  {
   "cell_type": "code",
   "execution_count": null,
   "metadata": {},
   "outputs": [],
   "source": [
    "fig = plt.figure(figsize=(16, 9))\n",
    "ax_ldne = fig.add_subplot(211)\n",
    "ax_ldne.plot([x[0] for x in ld_ne[10:]], 'pink')\n",
    "ax_ldne.plot([x[1] for x in ld_ne[10:]], 'k--')\n",
    "ax_ldne.plot([x[2] for x in ld_ne[10:]], 'k--')\n",
    "ax_ldne.set_xticks(range(0, 81, 10))\n",
    "ax_ldne.set_xticklabels([str(x) for x in range(10, 91, 10)])\n",
    "ax_ldne.axvline(cut_gen - 10)\n",
    "ax_ldne.set_xlabel('Cycle')\n",
    "ax_ldne.set_ylabel('Effective population size (Est)')\n",
    "\n",
    "def plot_pyramid(ax_bp, pyramids):  #XXX change here: big\n",
    "    bp_data = [[] for group in range(3 * 2)]\n",
    "    for my_pyramid in pyramids:\n",
    "        for (age, sex), cnt in my_pyramid.items():\n",
    "            bp_data[(age - 1) * 2 + (sex - 1)].append(cnt)\n",
    "    skip = 0\n",
    "    for group in range(6):\n",
    "        if group in [2, 4]:\n",
    "            skip += 1\n",
    "        bp = ax_bp.boxplot([bp_data[group]], positions = [skip + group + 1], notch=True, patch_artist=True)\n",
    "        bp['boxes'][0].set_facecolor('yellow' if group % 2 == 1 else 'red')\n",
    "    for group in range(3):\n",
    "        ax_bp.text(1 + 3 * group, 90, 'M', va='top', ha='center')\n",
    "        ax_bp.text(2 + 3 * group, 90, 'F', va='top', ha='center')\n",
    "    ax_bp.set_xlim(0, 9)\n",
    "    ax_bp.set_ylim(20, 90)\n",
    "    ax_bp.set_xticklabels(['1', '2', '3'])\n",
    "    ax_bp.set_xticks([1.5, 4.5, 7.5])\n",
    "    ax_bp.legend()\n",
    "\n",
    "pre_decline = pyramid[10:50]\n",
    "post_decline = pyramid[51:]\n",
    "\n",
    "\n",
    "ax_bp = fig.add_subplot(2, 2, 3)\n",
    "plot_pyramid(ax_bp, pre_decline)\n",
    "\n",
    "\n",
    "ax_bp = fig.add_subplot(2, 2, 4)\n",
    "plot_pyramid(ax_bp, post_decline)"
   ]
  },
  {
   "cell_type": "code",
   "execution_count": null,
   "metadata": {},
   "outputs": [],
   "source": [
    "print(post_decline[10])"
   ]
  },
  {
   "cell_type": "code",
   "execution_count": null,
   "metadata": {},
   "outputs": [],
   "source": []
  }
 ],
 "metadata": {
  "kernelspec": {
   "display_name": "Python 3",
   "language": "python",
   "name": "python3"
  },
  "language_info": {
   "codemirror_mode": {
    "name": "ipython",
    "version": 3
   },
   "file_extension": ".py",
   "mimetype": "text/x-python",
   "name": "python",
   "nbconvert_exporter": "python",
   "pygments_lexer": "ipython3",
   "version": "3.6.5"
  }
 },
 "nbformat": 4,
 "nbformat_minor": 2
}
