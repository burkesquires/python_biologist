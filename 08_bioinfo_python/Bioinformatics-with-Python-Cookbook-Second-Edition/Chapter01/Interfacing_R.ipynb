{
 "cells": [
  {
   "cell_type": "markdown",
   "metadata": {},
   "source": [
    "## The next cell will get a ~65 MB data file 'sequence.index', you only need to run the cell once"
   ]
  },
  {
   "cell_type": "code",
   "execution_count": null,
   "metadata": {},
   "outputs": [],
   "source": [
    "!rm sequence.index 2>/dev/null\n",
    "!wget -nd ftp://ftp.1000genomes.ebi.ac.uk/vol1/ftp/historical_data/former_toplevel/sequence.index -O sequence.index"
   ]
  },
  {
   "cell_type": "markdown",
   "metadata": {},
   "source": [
    "# Interfacing with R"
   ]
  },
  {
   "cell_type": "code",
   "execution_count": null,
   "metadata": {},
   "outputs": [],
   "source": [
    "import os\n",
    "\n",
    "from IPython.display import Image\n",
    "\n",
    "import rpy2.robjects as robjects\n",
    "import rpy2.robjects.lib.ggplot2 as ggplot2\n",
    "from rpy2.robjects.functions import SignatureTranslatedFunction\n",
    "\n",
    "import pandas as pd\n",
    "\n",
    "from rpy2.robjects import pandas2ri\n",
    "from rpy2.robjects import default_converter\n",
    "from rpy2.robjects.conversion import localconverter"
   ]
  },
  {
   "cell_type": "code",
   "execution_count": null,
   "metadata": {},
   "outputs": [],
   "source": [
    "read_delim = robjects.r('read.delim')\n",
    "seq_data = read_delim('sequence.index', header=True, stringsAsFactors=False)\n",
    "#In R:\n",
    "#  seq.data <- read.delim('sequence.index', header=TRUE, stringsAsFactors=FALSE)"
   ]
  },
  {
   "cell_type": "code",
   "execution_count": null,
   "metadata": {},
   "outputs": [],
   "source": [
    "print('This data frame has %d columns and %d rows' % (seq_data.ncol, seq_data.nrow))\n",
    "print(seq_data.colnames)\n",
    "#In R:\n",
    "#  print(colnames(seq.data))\n",
    "#  print(nrow(seq.data))\n",
    "#  print(ncol(seq.data))\n",
    "\n",
    "print('Columns in Python %d ' % robjects.r.ncol(seq_data)[0])\n",
    "\n",
    "#access some functions\n",
    "as_integer = robjects.r('as.integer')\n",
    "match = robjects.r.match\n",
    "\n",
    "my_col = match('READ_COUNT', seq_data.colnames)[0] # Vector returned\n",
    "print('Type of read count before as.integer: %s' % seq_data[my_col - 1].rclass[0])\n",
    "seq_data[my_col - 1] = as_integer(seq_data[my_col - 1])\n",
    "print('Type of read count after as.integer: %s' % seq_data[my_col - 1].rclass[0])\n",
    "\n",
    "my_col = match('BASE_COUNT', seq_data.colnames)[0] # Vector returned\n",
    "seq_data[my_col - 1] = as_integer(seq_data[my_col - 1])\n",
    "\n",
    "my_col = match('CENTER_NAME', seq_data.colnames)[0]\n",
    "seq_data[my_col - 1] = robjects.r.toupper(seq_data[my_col - 1])\n",
    "robjects.r.assign('seq.data', seq_data)\n",
    "robjects.r('print(c(\"Column names in R: \",colnames(seq.data)))')\n",
    "\n",
    "robjects.r('seq.data <- seq.data[seq.data$WITHDRAWN==0, ]')\n",
    "#Lets remove all withdrawn sequences\n",
    "\n",
    "robjects.r(\"seq.data <- seq.data[, c('STUDY_ID', 'STUDY_NAME', 'CENTER_NAME', 'SAMPLE_ID', 'SAMPLE_NAME', 'POPULATION', 'INSTRUMENT_PLATFORM', 'LIBRARY_LAYOUT', 'PAIRED_FASTQ', 'READ_COUNT', 'BASE_COUNT', 'ANALYSIS_GROUP')]\")\n",
    "#Lets shorten the dataframe\n",
    "\n",
    "#Population as factor\n",
    "robjects.r('seq.data$POPULATION <- as.factor(seq.data$POPULATION)')"
   ]
  },
  {
   "cell_type": "code",
   "execution_count": null,
   "metadata": {},
   "outputs": [],
   "source": [
    "ggplot2.theme = SignatureTranslatedFunction(ggplot2.theme,\n",
    "                                            init_prm_translate = {'axis_text_x': 'axis.text.x'})\n",
    "bar = ggplot2.ggplot(seq_data) + ggplot2.geom_bar() + ggplot2.aes_string(x='CENTER_NAME') + ggplot2.theme(axis_text_x=ggplot2.element_text(angle=90, hjust=1))\n",
    "robjects.r.png('out.png', type='cairo-png')\n",
    "bar.plot()\n",
    "dev_off = robjects.r('dev.off')\n",
    "dev_off()\n",
    "Image(filename='out.png')"
   ]
  },
  {
   "cell_type": "code",
   "execution_count": null,
   "metadata": {},
   "outputs": [],
   "source": [
    "#Get Yoruba and CEU\n",
    "robjects.r('yri_ceu <- seq.data[seq.data$POPULATION %in% c(\"YRI\", \"CEU\") & seq.data$BASE_COUNT < 2E9 & seq.data$READ_COUNT < 3E7, ]')\n",
    "yri_ceu = robjects.r('yri_ceu')"
   ]
  },
  {
   "cell_type": "code",
   "execution_count": null,
   "metadata": {},
   "outputs": [],
   "source": [
    "scatter = ggplot2.ggplot(yri_ceu) + ggplot2.aes_string(x='BASE_COUNT', y='READ_COUNT', shape='factor(POPULATION)', col='factor(ANALYSIS_GROUP)') + ggplot2.geom_point()\n",
    "robjects.r.png('out.png')\n",
    "scatter.plot()\n",
    "dev_off = robjects.r('dev.off')\n",
    "dev_off()\n",
    "Image(filename='out.png')"
   ]
  },
  {
   "cell_type": "code",
   "execution_count": null,
   "metadata": {},
   "outputs": [],
   "source": [
    "pd_yri_ceu = pandas2ri.ri2py(yri_ceu)\n",
    "print(type(pd_yri_ceu))\n",
    "pd_yri_ceu"
   ]
  },
  {
   "cell_type": "code",
   "execution_count": null,
   "metadata": {},
   "outputs": [],
   "source": [
    "del pd_yri_ceu['PAIRED_FASTQ']\n",
    "no_paired = pandas2ri.py2ri(pd_yri_ceu)\n",
    "robjects.r.assign('no.paired', no_paired)\n",
    "robjects.r(\"print(colnames(no.paired))\")"
   ]
  },
  {
   "cell_type": "code",
   "execution_count": null,
   "metadata": {},
   "outputs": [],
   "source": []
  }
 ],
 "metadata": {
  "kernelspec": {
   "display_name": "Python 3",
   "language": "python",
   "name": "python3"
  },
  "language_info": {
   "codemirror_mode": {
    "name": "ipython",
    "version": 3
   },
   "file_extension": ".py",
   "mimetype": "text/x-python",
   "name": "python",
   "nbconvert_exporter": "python",
   "pygments_lexer": "ipython3",
   "version": "3.6.5"
  }
 },
 "nbformat": 4,
 "nbformat_minor": 2
}
