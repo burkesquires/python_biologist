{
 "cells": [
  {
   "cell_type": "code",
   "execution_count": null,
   "metadata": {},
   "outputs": [],
   "source": [
    "from collections import defaultdict\n",
    "import os\n",
    "\n",
    "import matplotlib.pyplot as plt\n",
    "\n",
    "from genomics.popgen.admix import cluster, plot\n",
    "\n",
    "%matplotlib notebook"
   ]
  },
  {
   "cell_type": "code",
   "execution_count": null,
   "metadata": {},
   "outputs": [],
   "source": [
    "k_range = range(2, 10)  # 2..9"
   ]
  },
  {
   "cell_type": "markdown",
   "metadata": {},
   "source": [
    "### The next cell is very slow. Example outputs are provided (so you can avoid running it)"
   ]
  },
  {
   "cell_type": "code",
   "execution_count": null,
   "metadata": {},
   "outputs": [],
   "source": [
    "#for k in k_range:\n",
    "#    os.system('admixture --cv=10 hapmap10_auto_noofs_ld.bed %d > admix.%d' % (k, k))"
   ]
  },
  {
   "cell_type": "markdown",
   "metadata": {},
   "source": [
    "## Individual order"
   ]
  },
  {
   "cell_type": "code",
   "execution_count": null,
   "metadata": {},
   "outputs": [],
   "source": [
    "f = open('hapmap10_auto_noofs_ld.fam')\n",
    "ind_order = []\n",
    "for l in f:\n",
    "    toks = l.rstrip().replace(' ', '\\t').split('\\t')\n",
    "    fam_id = toks[0]\n",
    "    ind_id = toks[1]\n",
    "    ind_order.append((fam_id, ind_id))\n",
    "f.close()"
   ]
  },
  {
   "cell_type": "markdown",
   "metadata": {},
   "source": [
    "## CV-plot"
   ]
  },
  {
   "cell_type": "code",
   "execution_count": null,
   "metadata": {},
   "outputs": [],
   "source": [
    "CVs = []\n",
    "for k in k_range:\n",
    "    f = open('admix.%d' % k)\n",
    "    for l in f:\n",
    "        if l.find('CV error') > -1:\n",
    "            CVs.append(float(l.rstrip().split(' ')[-1]))\n",
    "            break\n",
    "    f.close()\n",
    "fig = plt.figure(figsize=(16, 9))\n",
    "ax = fig.add_subplot(111)\n",
    "ax.plot(k_range, CVs)\n",
    "ax.set_title('Cross-Validation error')\n",
    "ax.set_xlabel('K')"
   ]
  },
  {
   "cell_type": "markdown",
   "metadata": {},
   "source": [
    "## Load meta-data"
   ]
  },
  {
   "cell_type": "code",
   "execution_count": null,
   "metadata": {},
   "outputs": [],
   "source": [
    "f = open('relationships_w_pops_121708.txt')\n",
    "pop_ind = defaultdict(list)\n",
    "f.readline()  # header\n",
    "for l in f:\n",
    "    toks = l.rstrip().split('\\t')\n",
    "    fam_id = toks[0]\n",
    "    ind_id = toks[1]\n",
    "    if (fam_id, ind_id) not in ind_order:\n",
    "        continue\n",
    "    mom = toks[2]\n",
    "    dad = toks[3]\n",
    "    if mom != '0' or dad != '0':\n",
    "        continue\n",
    "    pop = toks[-1]\n",
    "    pop_ind[pop].append((fam_id, ind_id))\n",
    "#ind_pop[('2469', 'NA20281')] = ind_pop[('2805', 'NA20281')]\n",
    "f.close()"
   ]
  },
  {
   "cell_type": "code",
   "execution_count": null,
   "metadata": {},
   "outputs": [],
   "source": [
    "def load_Q(fname, ind_order):\n",
    "    ind_comps = {}\n",
    "    f = open(fname)\n",
    "    for i, l in enumerate(f):\n",
    "        comps = [float(x) for x in l.rstrip().split(' ')]\n",
    "        ind_comps[ind_order[i]] = comps\n",
    "    f.close()\n",
    "    return ind_comps"
   ]
  },
  {
   "cell_type": "code",
   "execution_count": null,
   "metadata": {},
   "outputs": [],
   "source": [
    "comps = {}\n",
    "for k in k_range:\n",
    "    comps[k] = load_Q('hapmap10_auto_noofs_ld.%d.Q' % k, ind_order)"
   ]
  },
  {
   "cell_type": "code",
   "execution_count": null,
   "metadata": {},
   "outputs": [],
   "source": [
    "ordering = {}\n",
    "for k in k_range:\n",
    "    ordering[k] = cluster(comps[k], pop_ind)"
   ]
  },
  {
   "cell_type": "code",
   "execution_count": null,
   "metadata": {},
   "outputs": [],
   "source": [
    "fig = plt.figure(figsize=(9, 9))\n",
    "plot.single(comps[4], ordering[4], fig)\n",
    "None"
   ]
  },
  {
   "cell_type": "code",
   "execution_count": null,
   "metadata": {},
   "outputs": [],
   "source": [
    "fig = plt.figure(figsize=(16, 9))\n",
    "plot.stacked(comps, ordering[7], fig)"
   ]
  },
  {
   "cell_type": "markdown",
   "metadata": {},
   "source": [
    "## Q files?"
   ]
  },
  {
   "cell_type": "markdown",
   "metadata": {},
   "source": [
    "## Log-likelihood"
   ]
  },
  {
   "cell_type": "code",
   "execution_count": null,
   "metadata": {},
   "outputs": [],
   "source": []
  }
 ],
 "metadata": {
  "kernelspec": {
   "display_name": "Python 3",
   "language": "python",
   "name": "python3"
  },
  "language_info": {
   "codemirror_mode": {
    "name": "ipython",
    "version": 3
   },
   "file_extension": ".py",
   "mimetype": "text/x-python",
   "name": "python",
   "nbconvert_exporter": "python",
   "pygments_lexer": "ipython3",
   "version": "3.6.5"
  }
 },
 "nbformat": 4,
 "nbformat_minor": 2
}
