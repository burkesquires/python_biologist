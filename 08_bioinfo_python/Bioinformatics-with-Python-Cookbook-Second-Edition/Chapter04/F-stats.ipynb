{
 "cells": [
  {
   "cell_type": "code",
   "execution_count": null,
   "metadata": {},
   "outputs": [],
   "source": [
    "#from collections import defaultdict\n",
    "\n",
    "import seaborn as sns\n",
    "import numpy as np\n",
    "import matplotlib.pyplot as plt\n",
    "\n",
    "from Bio.PopGen.GenePop import Controller as gpc\n",
    "%matplotlib inline"
   ]
  },
  {
   "cell_type": "code",
   "execution_count": null,
   "metadata": {},
   "outputs": [],
   "source": [
    "my_pops = [l.rstrip() for l in open('hapmap10_auto_noofs_2.pops')]\n",
    "num_pops = len(my_pops)"
   ]
  },
  {
   "cell_type": "code",
   "execution_count": null,
   "metadata": {},
   "outputs": [],
   "source": [
    "ctrl = gpc.GenePopController()"
   ]
  },
  {
   "cell_type": "code",
   "execution_count": null,
   "metadata": {},
   "outputs": [],
   "source": [
    "(multi_fis, multi_fst, multi_fit), f_iter = ctrl.calc_fst_all('hapmap10_auto_noofs_2.gp')"
   ]
  },
  {
   "cell_type": "code",
   "execution_count": null,
   "metadata": {},
   "outputs": [],
   "source": [
    "print(multi_fis, multi_fst, multi_fit)"
   ]
  },
  {
   "cell_type": "code",
   "execution_count": null,
   "metadata": {},
   "outputs": [],
   "source": [
    "fst_vals = []\n",
    "fis_vals = []\n",
    "fit_vals = []\n",
    "for f_case in f_iter:\n",
    "    name, fis, fst, fit, qinter, qintra = f_case\n",
    "    fst_vals.append(fst)\n",
    "    fis_vals.append(fis)\n",
    "    fit_vals.append(fit)"
   ]
  },
  {
   "cell_type": "code",
   "execution_count": null,
   "metadata": {},
   "outputs": [],
   "source": [
    "sns.set_style(\"whitegrid\")\n",
    "fig = plt.figure(figsize=(16, 9))\n",
    "ax = fig.add_subplot(1, 1, 1)\n",
    "ax.hist(fst_vals, 50, color='r')\n",
    "ax.set_title('FST, FIS and FIT distributions')\n",
    "ax.set_xlabel('FST')\n",
    "ax = fig.add_subplot(2, 3, 2)\n",
    "sns.violinplot([fis_vals], ax=ax, vert=False)\n",
    "ax.set_yticklabels(['FIS'])\n",
    "ax.set_xlim(-.15, 0.4)\n",
    "ax = fig.add_subplot(2, 3, 3)\n",
    "sns.violinplot([fit_vals], ax=ax, vert=False)\n",
    "ax.set_yticklabels(['FIT'])\n",
    "ax.set_xlim(-.15, 0.4)"
   ]
  },
  {
   "cell_type": "code",
   "execution_count": null,
   "metadata": {},
   "outputs": [],
   "source": [
    "fpair_iter, avg = ctrl.calc_fst_pair('hapmap10_auto_noofs_2.gp')"
   ]
  },
  {
   "cell_type": "code",
   "execution_count": null,
   "metadata": {},
   "outputs": [],
   "source": [
    "min_pair = min(avg.values())\n",
    "max_pair = max(avg.values())\n",
    "arr = np.ones((num_pops - 1, num_pops - 1, 3), dtype=float)"
   ]
  },
  {
   "cell_type": "code",
   "execution_count": null,
   "metadata": {},
   "outputs": [],
   "source": [
    "sns.set_style(\"white\")\n",
    "fig = plt.figure(figsize=(16,9))\n",
    "ax = fig.add_subplot(111)\n",
    "for row in range(num_pops - 1):\n",
    "    for col in range(row + 1, num_pops):\n",
    "        val = avg[(col, row)]\n",
    "        norm_val = (val - min_pair) / (max_pair - min_pair)\n",
    "        ax.text(col - 1, row, '%.3f' % val, ha='center')\n",
    "        if norm_val == 0.0:\n",
    "            arr[row, col - 1, 0] = 1\n",
    "            arr[row, col - 1, 1] = 1\n",
    "            arr[row, col - 1, 2] = 0\n",
    "        elif norm_val == 1.0:\n",
    "            arr[row, col - 1, 0] = 1\n",
    "            arr[row, col - 1, 1] = 0\n",
    "            arr[row, col - 1, 2] = 1\n",
    "        else:\n",
    "            arr[row, col - 1, 0] = 1 - norm_val\n",
    "            arr[row, col - 1, 1] = 1\n",
    "            arr[row, col - 1, 2] = 1\n",
    "ax.imshow(arr, interpolation='none')\n",
    "ax.set_title('Multilocus Pairwise FST')\n",
    "ax.set_xticks(range(num_pops - 1))\n",
    "ax.set_xticklabels(my_pops[1:])\n",
    "ax.set_yticks(range(num_pops - 1))\n",
    "ax.set_yticklabels(my_pops[:-1])"
   ]
  },
  {
   "cell_type": "code",
   "execution_count": null,
   "metadata": {},
   "outputs": [],
   "source": [
    "pop_ceu = my_pops.index('CEU')\n",
    "pop_yri = my_pops.index('YRI')\n",
    "start_pos = 136261886  # b36\n",
    "end_pos = 136350481\n",
    "all_fsts = []\n",
    "inside_fsts = []\n",
    "for locus_pfst in fpair_iter:\n",
    "    name = locus_pfst[0]\n",
    "    pfst = locus_pfst[1]\n",
    "    pos = int(name.split('/')[-1])  # dependent\n",
    "    my_fst = pfst[(pop_yri, pop_ceu)]\n",
    "    if my_fst == '-':  # Can be this\n",
    "        continue\n",
    "    all_fsts.append(my_fst)\n",
    "    if pos >= start_pos and pos <= end_pos:\n",
    "        inside_fsts.append(my_fst)"
   ]
  },
  {
   "cell_type": "code",
   "execution_count": null,
   "metadata": {},
   "outputs": [],
   "source": [
    "print(inside_fsts)\n",
    "print('%.2f/%.2f/%.2f' % (np.median(all_fsts), np.mean(all_fsts), np.percentile(all_fsts, 90)))"
   ]
  },
  {
   "cell_type": "code",
   "execution_count": null,
   "metadata": {},
   "outputs": [],
   "source": [
    "100 * (end_pos - start_pos) / 242000000.0"
   ]
  },
  {
   "cell_type": "code",
   "execution_count": null,
   "metadata": {},
   "outputs": [],
   "source": []
  }
 ],
 "metadata": {
  "kernelspec": {
   "display_name": "Python 3",
   "language": "python",
   "name": "python3"
  },
  "language_info": {
   "codemirror_mode": {
    "name": "ipython",
    "version": 3
   },
   "file_extension": ".py",
   "mimetype": "text/x-python",
   "name": "python",
   "nbconvert_exporter": "python",
   "pygments_lexer": "ipython3",
   "version": "3.6.5"
  }
 },
 "nbformat": 4,
 "nbformat_minor": 2
}
