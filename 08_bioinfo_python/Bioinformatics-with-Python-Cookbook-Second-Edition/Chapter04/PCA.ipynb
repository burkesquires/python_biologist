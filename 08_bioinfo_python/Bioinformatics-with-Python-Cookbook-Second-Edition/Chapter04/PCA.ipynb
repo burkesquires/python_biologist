{
 "cells": [
  {
   "cell_type": "code",
   "execution_count": null,
   "metadata": {},
   "outputs": [],
   "source": [
    "import os\n",
    "\n",
    "from genomics.popgen.plink.convert import to_eigen\n",
    "from genomics.popgen.pca import plot, smart\n",
    "%matplotlib inline"
   ]
  },
  {
   "cell_type": "markdown",
   "metadata": {},
   "source": [
    "## Meta-data load"
   ]
  },
  {
   "cell_type": "code",
   "execution_count": null,
   "metadata": {},
   "outputs": [],
   "source": [
    "f = open('relationships_w_pops_121708.txt')\n",
    "ind_pop = {}\n",
    "f.readline()  # header\n",
    "for l in f:\n",
    "    toks = l.rstrip().split('\\t')\n",
    "    fam_id = toks[0]\n",
    "    ind_id = toks[1]\n",
    "    pop = toks[-1]\n",
    "    ind_pop['/'.join([fam_id, ind_id])] = pop\n",
    "f.close()\n",
    "ind_pop['2469/NA20281'] = ind_pop['2805/NA20281']"
   ]
  },
  {
   "cell_type": "markdown",
   "metadata": {},
   "source": [
    "## Requires plink from data preparation"
   ]
  },
  {
   "cell_type": "code",
   "execution_count": null,
   "metadata": {},
   "outputs": [],
   "source": [
    "to_eigen('hapmap10_auto_noofs_ld_12', 'hapmap10_auto_noofs_ld_12')"
   ]
  },
  {
   "cell_type": "markdown",
   "metadata": {},
   "source": [
    "## Running smartpca"
   ]
  },
  {
   "cell_type": "code",
   "execution_count": null,
   "metadata": {},
   "outputs": [],
   "source": [
    "ctrl = smart.SmartPCAController('hapmap10_auto_noofs_ld_12')\n",
    "ctrl.run()"
   ]
  },
  {
   "cell_type": "code",
   "execution_count": null,
   "metadata": {},
   "outputs": [],
   "source": [
    "wei, wei_perc, ind_comp = smart.parse_evec('hapmap10_auto_noofs_ld_12.evec', 'hapmap10_auto_noofs_ld_12.eval')"
   ]
  },
  {
   "cell_type": "code",
   "execution_count": null,
   "metadata": {},
   "outputs": [],
   "source": [
    "plot.render_pca(ind_comp, 1, 2, cluster=ind_pop)\n",
    "#put weights"
   ]
  },
  {
   "cell_type": "code",
   "execution_count": null,
   "metadata": {},
   "outputs": [],
   "source": [
    "plot.render_pca_eight(ind_comp, cluster=ind_pop)"
   ]
  },
  {
   "cell_type": "code",
   "execution_count": null,
   "metadata": {},
   "outputs": [],
   "source": [
    "markers = { 'CHB': '*', 'CHD': '*', 'JPT': '*', 'GIH': '*',\n",
    "           'CEU': 'v', 'TSI': 'v', 'MEX': 'v',\n",
    "           'ASW': 'o', 'LWK': 'o', 'YRI': 'o', 'MKK': 'o'\n",
    "           }\n"
   ]
  },
  {
   "cell_type": "markdown",
   "metadata": {},
   "source": [
    "## With scikit-learn"
   ]
  },
  {
   "cell_type": "code",
   "execution_count": null,
   "metadata": {},
   "outputs": [],
   "source": [
    "from sklearn.decomposition import PCA\n",
    "import numpy as np"
   ]
  },
  {
   "cell_type": "code",
   "execution_count": null,
   "metadata": {},
   "outputs": [],
   "source": [
    "f = open('hapmap10_auto_noofs_ld_12.ped')\n",
    "ninds = 0\n",
    "ind_order = []\n",
    "for line in f:\n",
    "    ninds += 1\n",
    "    toks = line[:100].replace(' ', '\\t').split('\\t') #  for speed\n",
    "    fam_id = toks[0]\n",
    "    ind_id = toks[1]\n",
    "    ind_order.append('%s/%s' % (fam_id, ind_id))\n",
    "nsnps = (len(line.replace(' ', '\\t').split('\\t')) - 6) // 2\n",
    "print (nsnps)\n",
    "f.close()"
   ]
  },
  {
   "cell_type": "code",
   "execution_count": null,
   "metadata": {},
   "outputs": [],
   "source": [
    "pca_array = np.empty((ninds, nsnps), dtype=int)\n",
    "print(pca_array.shape)\n",
    "f = open('hapmap10_auto_noofs_ld_12.ped')\n",
    "for ind, line in enumerate(f):\n",
    "    snps = line.replace(' ', '\\t').split('\\t')[6:]\n",
    "    for pos in range(len(snps) // 2):\n",
    "        a1 = int(snps[2 * pos])\n",
    "        a2 = int(snps[2 * pos])\n",
    "        my_code = a1 + a2 - 2\n",
    "        pca_array[ind, pos] = my_code\n",
    "f.close()\n",
    "#slow"
   ]
  },
  {
   "cell_type": "code",
   "execution_count": null,
   "metadata": {},
   "outputs": [],
   "source": [
    "my_pca = PCA(n_components=8)\n",
    "my_pca.fit(pca_array)\n",
    "trans = my_pca.transform(pca_array)\n",
    "#Memory required"
   ]
  },
  {
   "cell_type": "code",
   "execution_count": null,
   "metadata": {},
   "outputs": [],
   "source": [
    "sc_ind_comp = {}\n",
    "for i, ind_pca in enumerate(trans):\n",
    "    sc_ind_comp[ind_order[i]] = ind_pca\n",
    "plot.render_pca_eight(sc_ind_comp, cluster=ind_pop)"
   ]
  },
  {
   "cell_type": "code",
   "execution_count": null,
   "metadata": {},
   "outputs": [],
   "source": []
  }
 ],
 "metadata": {
  "kernelspec": {
   "display_name": "Python 3",
   "language": "python",
   "name": "python3"
  },
  "language_info": {
   "codemirror_mode": {
    "name": "ipython",
    "version": 3
   },
   "file_extension": ".py",
   "mimetype": "text/x-python",
   "name": "python",
   "nbconvert_exporter": "python",
   "pygments_lexer": "ipython3",
   "version": "3.6.5"
  }
 },
 "nbformat": 4,
 "nbformat_minor": 2
}
