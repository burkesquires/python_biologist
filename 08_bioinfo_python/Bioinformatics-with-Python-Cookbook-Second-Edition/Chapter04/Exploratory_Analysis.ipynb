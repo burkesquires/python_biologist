{
 "cells": [
  {
   "cell_type": "code",
   "execution_count": null,
   "metadata": {},
   "outputs": [],
   "source": [
    "from collections import defaultdict\n",
    "\n",
    "import numpy as np\n",
    "import matplotlib.pyplot as plt\n",
    "\n",
    "from Bio.PopGen.GenePop import Controller as gpc\n",
    "\n",
    "%matplotlib inline"
   ]
  },
  {
   "cell_type": "code",
   "execution_count": null,
   "metadata": {},
   "outputs": [],
   "source": [
    "ctrl = gpc.GenePopController()\n",
    "my_pops = [l.rstrip() for l in open('hapmap10_auto_noofs_2.pops')]\n",
    "num_pops = len(my_pops)\n",
    "pop_iter, loci_iter = ctrl.calc_allele_genotype_freqs('hapmap10_auto_noofs_2.gp')"
   ]
  },
  {
   "cell_type": "code",
   "execution_count": null,
   "metadata": {},
   "outputs": [],
   "source": [
    "num_pops = len(my_pops)\n",
    "fix_pops = [0 for i in range(num_pops)]\n",
    "num_reads = [defaultdict(int) for i in range(num_pops)]\n",
    "num_buckets = 20\n",
    "MAFs = []\n",
    "for i in range(num_pops):\n",
    "    MAFs.append([0] * num_buckets)\n",
    "for locus_data in loci_iter:\n",
    "    locus_name = locus_data[0]\n",
    "    allele_list = locus_data[1]\n",
    "    pop_of_loci = locus_data[2]\n",
    "    for i in range(num_pops):\n",
    "        locus_num_reads = pop_of_loci[i][2]\n",
    "        num_reads[i][locus_num_reads] += 1\n",
    "        maf = min(pop_of_loci[i][1])\n",
    "        if maf == 0:\n",
    "            fix_pops[i] += 1\n",
    "        else:\n",
    "            bucket = min([num_buckets - 1, int(maf * 2 * num_buckets)])\n",
    "            MAFs[i][bucket] += 1"
   ]
  },
  {
   "cell_type": "code",
   "execution_count": null,
   "metadata": {},
   "outputs": [],
   "source": [
    "fig, axs = plt.subplots(3, figsize=(16, 9), squeeze=False)\n",
    "axs[0, 0].bar(range(num_pops), fix_pops)\n",
    "axs[0, 0].set_xlim(0, 11)\n",
    "axs[0, 0].set_xticks(0.5 + np.arange(num_pops))\n",
    "axs[0, 0].set_xticklabels(my_pops)\n",
    "axs[0, 0].set_title('Monomorphic positions')\n",
    "\n",
    "axs[1, 0].bar(range(num_pops), [np.max(list(vals.keys())) for vals in num_reads])\n",
    "axs[1, 0].set_xlim(0, 11)\n",
    "axs[1, 0].set_xticks(0.5 + np.arange(num_pops))\n",
    "axs[1, 0].set_xticklabels(my_pops)\n",
    "axs[1, 0].set_title('Maximum number of allele reads per loci')\n",
    "\n",
    "for pop in [0, 7, 8]:\n",
    "    axs[2, 0].plot(MAFs[pop], label=my_pops[pop])\n",
    "axs[2, 0].legend()\n",
    "axs[2, 0].set_xticks(range(num_buckets + 1))\n",
    "axs[2, 0].set_xticklabels(['%.3f' % (x / (num_buckets * 2.)) for x in range(num_buckets + 1)])\n",
    "axs[2, 0].set_title('MAF bundled in bins of 0.025')\n",
    "None"
   ]
  },
  {
   "cell_type": "code",
   "execution_count": null,
   "metadata": {},
   "outputs": [],
   "source": [
    "#for pop_data in pop_iter:\n",
    "#    pop_name, allele = pop_data\n",
    "#    print(pop_name)\n",
    "#    for locus_name, vals in allele.items():\n",
    "#        geno_list, heterozygosity, allele_cnts, summary = vals\n",
    "#        print(locus_name, vals)\n",
    "#        break\n",
    "#    break"
   ]
  },
  {
   "cell_type": "code",
   "execution_count": null,
   "metadata": {},
   "outputs": [],
   "source": [
    "exp_hes = []\n",
    "for pop_data in pop_iter:\n",
    "    pop_name, allele = pop_data\n",
    "    print(pop_name)\n",
    "    exp_vals = []\n",
    "    for locus_name, vals in allele.items():\n",
    "        geno_list, heterozygosity, allele_cnts, summary = vals\n",
    "        cexp_ho, cobs_ho, cexp_he, cobs_he = heterozygosity\n",
    "        exp_vals.append(cexp_he / (cexp_he + cexp_ho))\n",
    "    exp_hes.append(exp_vals)"
   ]
  },
  {
   "cell_type": "code",
   "execution_count": null,
   "metadata": {},
   "outputs": [],
   "source": [
    "#XXX correct this\n",
    "fig = plt.figure(figsize=(16, 9))\n",
    "ax = fig.add_subplot(111)\n",
    "bplot = ax.boxplot(exp_hes, notch=True, patch_artist=True)\n",
    "#print(bplot.keys())\n",
    "#bplot['boxes'][0].set_facecolor('red')\n",
    "#bplot['boxes'][0].set_edgecolor('red')\n",
    "ax.set_title('Distribution of expected Heterozygosity')\n",
    "ax.set_xticks(1 + np.arange(num_pops))\n",
    "ax.set_xticklabels(my_pops)\n",
    "None"
   ]
  },
  {
   "cell_type": "code",
   "execution_count": null,
   "metadata": {},
   "outputs": [],
   "source": []
  }
 ],
 "metadata": {
  "kernelspec": {
   "display_name": "Python 3",
   "language": "python",
   "name": "python3"
  },
  "language_info": {
   "codemirror_mode": {
    "name": "ipython",
    "version": 3
   },
   "file_extension": ".py",
   "mimetype": "text/x-python",
   "name": "python",
   "nbconvert_exporter": "python",
   "pygments_lexer": "ipython3",
   "version": "3.6.5"
  }
 },
 "nbformat": 4,
 "nbformat_minor": 2
}
