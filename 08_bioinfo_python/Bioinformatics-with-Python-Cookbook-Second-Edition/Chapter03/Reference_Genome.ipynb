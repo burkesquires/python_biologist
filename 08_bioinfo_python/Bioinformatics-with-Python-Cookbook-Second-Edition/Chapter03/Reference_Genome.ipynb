{
 "cells": [
  {
   "cell_type": "code",
   "execution_count": null,
   "metadata": {},
   "outputs": [],
   "source": [
    "# conda install reportlab"
   ]
  },
  {
   "cell_type": "code",
   "execution_count": null,
   "metadata": {},
   "outputs": [],
   "source": [
    "from IPython.core.display import Image\n",
    "\n",
    "from reportlab.lib import colors\n",
    "from reportlab.lib.units import cm\n",
    "from Bio import SeqIO\n",
    "from Bio.Graphics import BasicChromosome"
   ]
  },
  {
   "cell_type": "code",
   "execution_count": null,
   "metadata": {},
   "outputs": [],
   "source": [
    "!rm -f PlasmoDB-9.3_Pfalciparum3D7_Genome.fasta 2>/dev/null\n",
    "!wget http://plasmodb.org/common/downloads/release-9.3/Pfalciparum3D7/fasta/data/PlasmoDB-9.3_Pfalciparum3D7_Genome.fasta"
   ]
  },
  {
   "cell_type": "code",
   "execution_count": null,
   "metadata": {},
   "outputs": [],
   "source": [
    "genome_name = 'PlasmoDB-9.3_Pfalciparum3D7_Genome.fasta'"
   ]
  },
  {
   "cell_type": "code",
   "execution_count": null,
   "metadata": {},
   "outputs": [],
   "source": [
    "recs = SeqIO.parse(genome_name, 'fasta')\n",
    "chroms = {}\n",
    "for rec in recs:\n",
    "    print(rec.description)"
   ]
  },
  {
   "cell_type": "code",
   "execution_count": null,
   "metadata": {},
   "outputs": [],
   "source": [
    "from Bio import SeqUtils\n",
    "\n",
    "chrom_sizes = {}\n",
    "chrom_GC = {}\n",
    "recs = SeqIO.parse(genome_name, 'fasta')\n",
    "block_size = 50000\n",
    "min_GC = 100.0\n",
    "max_GC = 0.0\n",
    "for rec in recs:\n",
    "    if rec.description.find('SO=chromosome') == -1:\n",
    "        continue\n",
    "    chrom = int(rec.description.split('_')[1])\n",
    "    chrom_GC[chrom] = []\n",
    "    size = len(rec.seq)\n",
    "    chrom_sizes[chrom] = size\n",
    "    num_blocks = size // block_size + 1\n",
    "    for block in range(num_blocks):\n",
    "        start = block_size * block\n",
    "        if block == num_blocks - 1:\n",
    "            end = size\n",
    "        else:\n",
    "            end = block_size + start + 1\n",
    "        block_seq = rec.seq[start:end]\n",
    "        block_GC = SeqUtils.GC(block_seq)\n",
    "        if block_GC < min_GC:\n",
    "            min_GC = block_GC\n",
    "        if block_GC > max_GC:\n",
    "            max_GC = block_GC\n",
    "        chrom_GC[chrom].append(block_GC)\n",
    "print(min_GC, max_GC)"
   ]
  },
  {
   "cell_type": "code",
   "execution_count": null,
   "metadata": {},
   "outputs": [],
   "source": [
    "chroms = list(chrom_sizes.keys())\n",
    "chroms.sort()\n",
    "\n",
    "biggest_chrom = max(chrom_sizes.values())\n",
    "\n",
    "my_genome = BasicChromosome.Organism(output_format=\"png\")\n",
    "\n",
    "my_genome.page_size = (29.7*cm, 21*cm) # check\n",
    "telomere_length = 10\n",
    "\n",
    "bottom_GC = 17.5\n",
    "top_GC = 22.0\n",
    "for chrom in chroms:\n",
    "    chrom_size = chrom_sizes[chrom]\n",
    "    chrom_representation = BasicChromosome.Chromosome('Cr %d' % chrom)\n",
    "    chrom_representation.scale_num = biggest_chrom\n",
    "\n",
    "    tel = BasicChromosome.TelomereSegment()\n",
    "    tel.scale = telomere_length\n",
    "    chrom_representation.add(tel)\n",
    "\n",
    "    num_blocks = len(chrom_GC[chrom])\n",
    "    for block, gc in enumerate(chrom_GC[chrom]):\n",
    "        my_GC = chrom_GC[chrom][block]\n",
    "        body = BasicChromosome.ChromosomeSegment()\n",
    "        if my_GC > top_GC:\n",
    "            body.fill_color = colors.Color(1, 0, 0)\n",
    "        elif my_GC < bottom_GC:\n",
    "            body.fill_color = colors.Color(1, 1, 0)\n",
    "        else:\n",
    "            my_color = (my_GC - bottom_GC) / (top_GC - bottom_GC)\n",
    "            body.fill_color = colors.Color(my_color, my_color, 1)\n",
    "        if block < num_blocks - 1:\n",
    "            body.scale = block_size\n",
    "        else:\n",
    "            body.scale = chrom_size % block_size\n",
    "        chrom_representation.add(body)\n",
    "\n",
    "    tel = BasicChromosome.TelomereSegment(inverted=True)\n",
    "    tel.scale = telomere_length\n",
    "    chrom_representation.add(tel)\n",
    "\n",
    "    my_genome.add(chrom_representation)\n",
    "\n",
    "my_genome.draw(\"falciparum.png\", \"Plasmodium falciparum\")\n",
    "Image(\"falciparum.png\")"
   ]
  },
  {
   "cell_type": "code",
   "execution_count": null,
   "metadata": {},
   "outputs": [],
   "source": []
  }
 ],
 "metadata": {
  "kernelspec": {
   "display_name": "Python 3 (ipykernel)",
   "language": "python",
   "name": "python3"
  },
  "language_info": {
   "codemirror_mode": {
    "name": "ipython",
    "version": 3
   },
   "file_extension": ".py",
   "mimetype": "text/x-python",
   "name": "python",
   "nbconvert_exporter": "python",
   "pygments_lexer": "ipython3",
   "version": "3.8.12"
  }
 },
 "nbformat": 4,
 "nbformat_minor": 4
}
