{
 "cells": [
  {
   "cell_type": "code",
   "execution_count": null,
   "metadata": {},
   "outputs": [],
   "source": [
    "import requests\n",
    " \n",
    "ensembl_server = 'http://rest.ensembl.org'\n",
    "\n",
    "def do_request(server, service, *args, **kwargs):\n",
    "    url_params = ''\n",
    "    for a in args:\n",
    "        if a is not None:\n",
    "            url_params += '/' + a\n",
    "    req = requests.get('%s/%s%s' % (server, service, url_params),\n",
    "                       params=kwargs,\n",
    "                       headers={'Content-Type': 'application/json'})\n",
    " \n",
    "    if not req.ok:\n",
    "        req.raise_for_status()\n",
    "    return req.json()"
   ]
  },
  {
   "cell_type": "code",
   "execution_count": null,
   "metadata": {},
   "outputs": [],
   "source": [
    "answer = do_request(ensembl_server, 'info/species')\n",
    "for i, sp in enumerate(answer['species']):\n",
    "    print(i, sp['name'])"
   ]
  },
  {
   "cell_type": "code",
   "execution_count": null,
   "metadata": {},
   "outputs": [],
   "source": [
    "ext_dbs = do_request(ensembl_server, 'info/external_dbs', 'homo_sapiens', filter='HGNC%')\n",
    "print(ext_dbs)"
   ]
  },
  {
   "cell_type": "code",
   "execution_count": null,
   "metadata": {},
   "outputs": [],
   "source": [
    "answer = do_request(ensembl_server, 'lookup/symbol', 'homo_sapiens', 'LCT')\n",
    "print(answer)\n",
    "lct_id = answer['id']"
   ]
  },
  {
   "cell_type": "code",
   "execution_count": null,
   "metadata": {},
   "outputs": [],
   "source": [
    "lct_seq = do_request(ensembl_server, 'sequence/id', lct_id)\n",
    "print(lct_seq)"
   ]
  },
  {
   "cell_type": "code",
   "execution_count": null,
   "metadata": {},
   "outputs": [],
   "source": [
    "lct_xrefs = do_request(ensembl_server, 'xrefs/id', lct_id)\n",
    "for xref in lct_xrefs:\n",
    "    print(xref['db_display_name'])\n",
    "    print(xref)"
   ]
  },
  {
   "cell_type": "code",
   "execution_count": null,
   "metadata": {},
   "outputs": [],
   "source": [
    "refs = do_request(ensembl_server, 'xrefs/id', lct_id, external_db='GO', all_levels='1')\n",
    "print(lct_id, refs)"
   ]
  },
  {
   "cell_type": "code",
   "execution_count": null,
   "metadata": {},
   "outputs": [],
   "source": [
    "hom_response = do_request(ensembl_server, 'homology/id', lct_id, type='orthologues', sequence='none')\n",
    "#print(hom_response['data'][0]['homologies'])\n",
    "homologies = hom_response['data'][0]['homologies']\n",
    "for homology in homologies:\n",
    "    print(homology['target']['species'])\n",
    "    if homology['target']['species'] != 'equus_caballus':\n",
    "        continue\n",
    "    print(homology)\n",
    "    print(homology['taxonomy_level'])\n",
    "    horse_id = homology['target']['id']"
   ]
  },
  {
   "cell_type": "code",
   "execution_count": null,
   "metadata": {},
   "outputs": [],
   "source": [
    "horse_req = do_request(ensembl_server, 'lookup/id', horse_id)\n",
    "print(horse_req)"
   ]
  },
  {
   "cell_type": "code",
   "execution_count": null,
   "metadata": {},
   "outputs": [],
   "source": [
    "#maybe synteny of MCM6 and LCT with caballus and gorilla"
   ]
  }
 ],
 "metadata": {
  "kernelspec": {
   "display_name": "Python 3",
   "language": "python",
   "name": "python3"
  },
  "language_info": {
   "codemirror_mode": {
    "name": "ipython",
    "version": 3
   },
   "file_extension": ".py",
   "mimetype": "text/x-python",
   "name": "python",
   "nbconvert_exporter": "python",
   "pygments_lexer": "ipython3",
   "version": "3.6.5"
  }
 },
 "nbformat": 4,
 "nbformat_minor": 2
}
