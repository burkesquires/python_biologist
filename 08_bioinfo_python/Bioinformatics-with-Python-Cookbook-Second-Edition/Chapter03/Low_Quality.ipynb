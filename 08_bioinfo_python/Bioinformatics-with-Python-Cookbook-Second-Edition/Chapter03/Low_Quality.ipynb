{
 "cells": [
  {
   "cell_type": "code",
   "execution_count": null,
   "metadata": {},
   "outputs": [],
   "source": [
    "import gzip\n",
    "\n",
    "import numpy as np\n",
    "import matplotlib.pyplot as plt\n",
    "\n",
    "from Bio import SeqIO, SeqUtils\n",
    "\n",
    "%matplotlib inline"
   ]
  },
  {
   "cell_type": "code",
   "execution_count": null,
   "metadata": {},
   "outputs": [],
   "source": [
    "!rm -f atroparvus.fa.gz gambiae.fa.gz 2>/dev/null\n",
    "!wget ftp://ftp.vectorbase.org/public_data/organism_data/agambiae/Genome/agambiae.CHROMOSOMES-PEST.AgamP3.fa.gz -O gambiae.fa.gz\n",
    "!wget https://vectorbase.org/common/downloads/Pre-VEuPathDB%20VectorBase%20files/Anopheles-atroparvus-EBRO_SCAFFOLDS_AatrE1.fa.gz -O atroparvus.fa.gz"
   ]
  },
  {
   "cell_type": "code",
   "execution_count": null,
   "metadata": {},
   "outputs": [],
   "source": [
    "gambiae_name = 'gambiae.fa.gz'\n",
    "atroparvus_name = 'atroparvus.fa.gz'"
   ]
  },
  {
   "cell_type": "code",
   "execution_count": null,
   "metadata": {},
   "outputs": [],
   "source": [
    "recs = SeqIO.parse(gzip.open(gambiae_name, 'rt', encoding='utf-8'), 'fasta')\n",
    "for rec in recs:\n",
    "    print(rec.description)\n",
    "#Do not do this with atroparvus"
   ]
  },
  {
   "cell_type": "code",
   "execution_count": null,
   "metadata": {},
   "outputs": [],
   "source": [
    "recs = SeqIO.parse(gzip.open(gambiae_name, 'rt', encoding='utf-8'), 'fasta')\n",
    "chrom_Ns = {}\n",
    "chrom_sizes = {}\n",
    "for rec in recs:\n",
    "    chrom = rec.description.split(':')[2]\n",
    "    if chrom in ['UNKN', 'Y_unplaced']:\n",
    "        continue\n",
    "    chrom_Ns[chrom] = []\n",
    "    on_N = False\n",
    "    curr_size = 0\n",
    "    for pos, nuc in enumerate(rec.seq):\n",
    "        if nuc in ['N', 'n']:\n",
    "            curr_size += 1\n",
    "            on_N = True\n",
    "        else:\n",
    "            if on_N:\n",
    "                chrom_Ns[chrom].append(curr_size)\n",
    "                curr_size = 0\n",
    "            on_N = False\n",
    "    if on_N:\n",
    "        chrom_Ns[chrom].append(curr_size)\n",
    "    chrom_sizes[chrom] = len(rec.seq)"
   ]
  },
  {
   "cell_type": "code",
   "execution_count": null,
   "metadata": {},
   "outputs": [],
   "source": [
    "for chrom, Ns in chrom_Ns.items():\n",
    "    size = chrom_sizes[chrom]\n",
    "    print('%s (%s): %%Ns (%.1f), num Ns: %d, max N: %d' % (chrom, size, 100 * sum(Ns) / size, len(Ns), max(Ns)))"
   ]
  },
  {
   "cell_type": "markdown",
   "metadata": {},
   "source": [
    "## Atroparvus super-contigs"
   ]
  },
  {
   "cell_type": "code",
   "execution_count": null,
   "metadata": {},
   "outputs": [],
   "source": [
    "recs = SeqIO.parse(gzip.open(atroparvus_name, 'rt', encoding='utf-8'), 'fasta')\n",
    "sizes = []\n",
    "size_N = []\n",
    "for rec in recs:\n",
    "    size = len(rec.seq)\n",
    "    sizes.append(size)\n",
    "    count_N = 0\n",
    "    for nuc in rec.seq:\n",
    "        if nuc in ['n', 'N']:\n",
    "            count_N += 1\n",
    "    size_N.append((size, count_N / size))"
   ]
  },
  {
   "cell_type": "code",
   "execution_count": null,
   "metadata": {},
   "outputs": [],
   "source": [
    "print(len(sizes), np.median(sizes), np.mean(sizes), max(sizes), min(sizes),\n",
    "      np.percentile(sizes, 10), np.percentile(sizes, 90))"
   ]
  },
  {
   "cell_type": "code",
   "execution_count": null,
   "metadata": {},
   "outputs": [],
   "source": [
    "small_split = 4800\n",
    "large_split = 540000\n",
    "fig, axs = plt.subplots(1, 3, figsize=(16, 9), squeeze=False, sharey=True)\n",
    "xs, ys = zip(*[(x, 100 * y) for x, y in size_N if x <= small_split])\n",
    "axs[0, 0].plot(xs, ys, '.')\n",
    "xs, ys = zip(*[(x, 100 * y) for x, y in size_N if x > small_split and x <= large_split])\n",
    "axs[0, 1].plot(xs, ys, '.')\n",
    "axs[0, 1].set_xlim(small_split, large_split)\n",
    "xs, ys = zip(*[(x, 100 * y) for x, y in size_N if x > large_split])\n",
    "axs[0, 2].plot(xs, ys, '.')\n",
    "axs[0, 0].set_ylabel('Fraction of Ns', fontsize=12)\n",
    "axs[0, 1].set_xlabel('Contig size', fontsize=12)\n",
    "fig.suptitle('Fraction of Ns per contig size', fontsize=26)"
   ]
  },
  {
   "cell_type": "code",
   "execution_count": null,
   "metadata": {},
   "outputs": [],
   "source": []
  }
 ],
 "metadata": {
  "kernelspec": {
   "display_name": "Python 3",
   "language": "python",
   "name": "python3"
  },
  "language_info": {
   "codemirror_mode": {
    "name": "ipython",
    "version": 3
   },
   "file_extension": ".py",
   "mimetype": "text/x-python",
   "name": "python",
   "nbconvert_exporter": "python",
   "pygments_lexer": "ipython3",
   "version": "3.6.11"
  }
 },
 "nbformat": 4,
 "nbformat_minor": 2
}
