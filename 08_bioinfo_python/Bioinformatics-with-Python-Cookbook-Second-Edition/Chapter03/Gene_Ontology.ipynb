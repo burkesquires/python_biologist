{
 "cells": [
  {
   "cell_type": "code",
   "execution_count": null,
   "metadata": {},
   "outputs": [],
   "source": [
    "#use pip install as conda install requires a lot of downgrades at this stage\n",
    "import pygraphviz as pgv\n",
    "from IPython.core.display import Image"
   ]
  },
  {
   "cell_type": "markdown",
   "metadata": {},
   "source": [
    "## The cell below comes from the Orthology notebook"
   ]
  },
  {
   "cell_type": "code",
   "execution_count": null,
   "metadata": {},
   "outputs": [],
   "source": [
    "import requests\n",
    " \n",
    "ensembl_server = 'http://rest.ensembl.org'\n",
    "\n",
    "def do_request(server, service, *args, **kwargs):\n",
    "    params = ''\n",
    "    for a in args:\n",
    "        if a is not None:\n",
    "            params += '/' + a\n",
    "    req = requests.get('%s/%s%s' % (server, service, params),\n",
    "                       params=kwargs,\n",
    "                       headers={'Content-Type': 'application/json'})\n",
    " \n",
    "    if not req.ok:\n",
    "        req.raise_for_status()\n",
    "    return req.json()"
   ]
  },
  {
   "cell_type": "code",
   "execution_count": null,
   "metadata": {},
   "outputs": [],
   "source": [
    "lct_id = 'ENSG00000115850'"
   ]
  },
  {
   "cell_type": "code",
   "execution_count": null,
   "metadata": {},
   "outputs": [],
   "source": [
    "refs = do_request(ensembl_server, 'xrefs/id', lct_id, external_db='GO', all_levels='1')\n",
    "print(len(refs))\n",
    "print(refs[0].keys())\n",
    "for ref in refs:\n",
    "    go_id = ref['primary_id']\n",
    "    details = do_request(ensembl_server, 'ontology/id', go_id)\n",
    "    print('%s %s %s' % (go_id,  details['namespace'], ref['description']))\n",
    "    print('%s\\n' % details['definition'])"
   ]
  },
  {
   "cell_type": "code",
   "execution_count": null,
   "metadata": {},
   "outputs": [],
   "source": [
    "go_id = 'GO:0000016'\n",
    "my_data = do_request(ensembl_server, 'ontology/id', go_id)\n",
    "for k, v in my_data.items():\n",
    "    if k == 'parents':\n",
    "        for parent in v:\n",
    "            print(parent)\n",
    "            parent_id = parent['accession']\n",
    "    else:\n",
    "        print('%s: %s' % (k, str(v)))\n",
    "print()\n",
    "parent_data = do_request(ensembl_server, 'ontology/id', parent_id)\n",
    "print(parent_id, len(parent_data['children']))"
   ]
  },
  {
   "cell_type": "code",
   "execution_count": null,
   "metadata": {},
   "outputs": [],
   "source": [
    "refs = do_request(ensembl_server, 'ontology/ancestors/chart', go_id)\n",
    "for go, entry in refs.items():\n",
    "    print(go)\n",
    "    term = entry['term']\n",
    "    print('%s %s' % (term['name'], term['definition']))\n",
    "    is_a = entry.get('is_a', [])\n",
    "    print('\\t is a: %s\\n' % ', '.join([x['accession'] for x in is_a]))\n"
   ]
  },
  {
   "cell_type": "code",
   "execution_count": null,
   "metadata": {},
   "outputs": [],
   "source": [
    "def get_upper(go_id):\n",
    "    parents = {}\n",
    "    node_data = {}\n",
    "    refs = do_request(ensembl_server, 'ontology/ancestors/chart', go_id)\n",
    "    for ref, entry in refs.items():\n",
    "        my_data = do_request(ensembl_server, 'ontology/id', ref)\n",
    "        node_data[ref] = {'name': entry['term']['name'], 'children': my_data['children']}\n",
    "        try:\n",
    "            parents[ref] = [x['accession'] for x in entry['is_a']]\n",
    "        except KeyError:\n",
    "            pass  # Top of hierarchy\n",
    "    return parents, node_data"
   ]
  },
  {
   "cell_type": "code",
   "execution_count": null,
   "metadata": {},
   "outputs": [],
   "source": [
    "parents, node_data = get_upper(go_id)"
   ]
  },
  {
   "cell_type": "code",
   "execution_count": null,
   "metadata": {},
   "outputs": [],
   "source": [
    "g = pgv.AGraph(directed=True)\n",
    "for ofs, ofs_parents in parents.items():\n",
    "    ofs_text = '%s\\n(%s)' % (node_data[ofs]['name'].replace(', ', '\\n'), ofs)\n",
    "    for parent in ofs_parents:\n",
    "        parent_text = '%s\\n(%s)' % (node_data[parent]['name'].replace(', ', '\\n'), parent)\n",
    "        children = node_data[parent]['children']\n",
    "        if len(children) < 3:\n",
    "            for child in children:\n",
    "                if child['accession'] in node_data:\n",
    "                    continue\n",
    "                g.add_edge(parent_text, child['accession'])\n",
    "        else:\n",
    "            g.add_edge(parent_text, '...%d...' % (len(children) - 1))\n",
    "        g.add_edge(parent_text, ofs_text)\n",
    "print(g)\n",
    "g.graph_attr['label']='Ontology tree for Lactase activity'\n",
    "g.node_attr['shape']='rectangle'\n",
    "g.layout(prog='dot')\n",
    "g.draw('graph.png')\n",
    "Image(\"graph.png\")"
   ]
  },
  {
   "cell_type": "code",
   "execution_count": null,
   "metadata": {},
   "outputs": [],
   "source": [
    "print(go_id)\n",
    "refs = do_request(ensembl_server, 'ontology/descendants', go_id)\n",
    "for go in refs:\n",
    "    print(go['accession'], go['name'], go['definition'])"
   ]
  },
  {
   "cell_type": "code",
   "execution_count": null,
   "metadata": {},
   "outputs": [],
   "source": []
  }
 ],
 "metadata": {
  "kernelspec": {
   "display_name": "Python 3",
   "language": "python",
   "name": "python3"
  },
  "language_info": {
   "codemirror_mode": {
    "name": "ipython",
    "version": 3
   },
   "file_extension": ".py",
   "mimetype": "text/x-python",
   "name": "python",
   "nbconvert_exporter": "python",
   "pygments_lexer": "ipython3",
   "version": "3.6.11"
  }
 },
 "nbformat": 4,
 "nbformat_minor": 2
}
