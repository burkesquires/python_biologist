{
 "cells": [
  {
   "cell_type": "code",
   "execution_count": null,
   "metadata": {},
   "outputs": [],
   "source": [
    "# conda install gffutils"
   ]
  },
  {
   "cell_type": "code",
   "execution_count": null,
   "metadata": {},
   "outputs": [],
   "source": [
    "#pip install gffutils\n",
    "from collections import defaultdict\n",
    "\n",
    "import gffutils\n",
    "import sqlite3"
   ]
  },
  {
   "cell_type": "code",
   "execution_count": null,
   "metadata": {},
   "outputs": [],
   "source": [
    "!rm -f ag.db"
   ]
  },
  {
   "cell_type": "code",
   "execution_count": null,
   "metadata": {},
   "outputs": [],
   "source": [
    "try:\n",
    "    db = gffutils.create_db('https://vectorbase.org/common/downloads/Pre-VEuPathDB%20VectorBase%20files/Anopheles-gambiae-PEST_BASEFEATURES_AgamP4.2.gff3.gz', 'ag.db')\n",
    "except sqlite3.OperationalError:\n",
    "    db = gffutils.FeatureDB('ag.db')"
   ]
  },
  {
   "cell_type": "code",
   "execution_count": null,
   "metadata": {},
   "outputs": [],
   "source": [
    "print(list(db.featuretypes()))\n",
    "for feat_type in db.featuretypes():\n",
    "    print(feat_type, db.count_features_of_type(feat_type))"
   ]
  },
  {
   "cell_type": "code",
   "execution_count": null,
   "metadata": {},
   "outputs": [],
   "source": [
    "for contig in db.features_of_type('contig'):\n",
    "    print(contig)"
   ]
  },
  {
   "cell_type": "code",
   "execution_count": null,
   "metadata": {},
   "outputs": [],
   "source": [
    "num_mRNAs = defaultdict(int)\n",
    "num_exons = defaultdict(int)\n",
    "max_exons = 0\n",
    "max_span = 0\n",
    "for contig in db.features_of_type('contig'):\n",
    "    cnt = 0\n",
    "    for gene in db.region((contig.seqid, contig.start, contig.end), featuretype='gene'):\n",
    "        cnt += 1\n",
    "        span = abs(gene.start - gene.end) # strand\n",
    "        if span > max_span:\n",
    "            max_span = span\n",
    "            max_span_gene = gene\n",
    "        my_mRNAs = list(db.children(gene, featuretype='mRNA'))\n",
    "        num_mRNAs[len(my_mRNAs)] += 1\n",
    "        if len(my_mRNAs) == 0:\n",
    "            exon_check = [gene]\n",
    "        else:\n",
    "            exon_check = my_mRNAs\n",
    "        for check in exon_check:\n",
    "            my_exons = list(db.children(check, featuretype='exon'))\n",
    "            num_exons[len(my_exons)] += 1\n",
    "            if len(my_exons) > max_exons:\n",
    "                max_exons = len(my_exons)\n",
    "                max_exons_gene = gene\n",
    "    print('contig %s, number of genes %d' % (contig.seqid, cnt))\n",
    "print('Max number of exons: %s (%d)' % (max_exons_gene.id, max_exons))\n",
    "print('Max span: %s (%d)' % (max_span_gene.id, max_span))\n",
    "print(num_mRNAs)\n",
    "print(num_exons)"
   ]
  },
  {
   "cell_type": "code",
   "execution_count": null,
   "metadata": {},
   "outputs": [],
   "source": []
  }
 ],
 "metadata": {
  "kernelspec": {
   "display_name": "Python 3 (ipykernel)",
   "language": "python",
   "name": "python3"
  },
  "language_info": {
   "codemirror_mode": {
    "name": "ipython",
    "version": 3
   },
   "file_extension": ".py",
   "mimetype": "text/x-python",
   "name": "python",
   "nbconvert_exporter": "python",
   "pygments_lexer": "ipython3",
   "version": "3.8.12"
  }
 },
 "nbformat": 4,
 "nbformat_minor": 4
}
