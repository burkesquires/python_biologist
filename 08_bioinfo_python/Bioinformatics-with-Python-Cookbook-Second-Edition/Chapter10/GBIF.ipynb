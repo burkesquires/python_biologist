{
 "cells": [
  {
   "cell_type": "code",
   "execution_count": 1,
   "metadata": {},
   "outputs": [],
   "source": [
    "from collections import defaultdict\n",
    "\n",
    "import requests\n",
    "\n",
    "import numpy as np\n",
    "import matplotlib.pyplot as plt\n",
    "%matplotlib inline"
   ]
  },
  {
   "cell_type": "code",
   "execution_count": 2,
   "metadata": {},
   "outputs": [],
   "source": [
    "def do_request(service, a1=None, a2=None, a3=None, **kwargs):\n",
    "    server = 'http://api.gbif.org/v1'\n",
    "    params = ''\n",
    "    for a in [a1, a2, a3]:\n",
    "        if a is not None:\n",
    "            params += '/' + a\n",
    "    req = requests.get('%s/%s%s' % (server, service, params),\n",
    "                       params=kwargs,\n",
    "                       headers={'Content-Type': 'application/json'})\n",
    "    if not req.ok:\n",
    "        req.raise_for_status()\n",
    "    return req.json()"
   ]
  },
  {
   "cell_type": "code",
   "execution_count": 3,
   "metadata": {},
   "outputs": [
    {
     "name": "stdout",
     "output_type": "stream",
     "text": [
      "19154\n"
     ]
    },
    {
     "data": {
      "text/plain": [
       "{'key': 9701974,\n",
       " 'datasetKey': 'd7dddbf4-2cf0-4f39-9b2a-bb099caae36c',\n",
       " 'constituentKey': 'e01b0cbb-a10a-420c-b5f3-a3b20cc266ad',\n",
       " 'parentKey': 9661213,\n",
       " 'parent': 'Mammarenavirus',\n",
       " 'kingdom': 'Viruses',\n",
       " 'family': 'Arenaviridae',\n",
       " 'genus': 'Mammarenavirus',\n",
       " 'species': 'Bear Canyon mammarenavirus',\n",
       " 'kingdomKey': 8,\n",
       " 'familyKey': 6230,\n",
       " 'genusKey': 9661213,\n",
       " 'speciesKey': 9701974,\n",
       " 'scientificName': 'Bear Canyon mammarenavirus',\n",
       " 'authorship': '',\n",
       " 'nameType': 'VIRUS',\n",
       " 'taxonomicStatus': 'ACCEPTED',\n",
       " 'rank': 'SPECIES',\n",
       " 'origin': 'SOURCE',\n",
       " 'numDescendants': 0,\n",
       " 'numOccurrences': 0,\n",
       " 'habitats': [],\n",
       " 'nomenclaturalStatus': [],\n",
       " 'threatStatuses': [],\n",
       " 'descriptions': [],\n",
       " 'vernacularNames': [],\n",
       " 'higherClassificationMap': {'8': 'Viruses',\n",
       "  '6230': 'Arenaviridae',\n",
       "  '9661213': 'Mammarenavirus'},\n",
       " 'synonym': False}"
      ]
     },
     "execution_count": 3,
     "metadata": {},
     "output_type": "execute_result"
    }
   ],
   "source": [
    "req = do_request('species', 'search', q='bear')\n",
    "print(req['count'])\n",
    "req['results'][0]"
   ]
  },
  {
   "cell_type": "code",
   "execution_count": 4,
   "metadata": {},
   "outputs": [
    {
     "name": "stdout",
     "output_type": "stream",
     "text": [
      "389\n"
     ]
    },
    {
     "data": {
      "text/plain": [
       "{'key': 121515844,\n",
       " 'datasetKey': 'c33ce2f2-c3cc-43a5-a380-fe4526d63650',\n",
       " 'nubKey': 9681,\n",
       " 'parentKey': 121513412,\n",
       " 'parent': 'Arctoidea',\n",
       " 'phylum': 'Chordata',\n",
       " 'order': 'Carnivora',\n",
       " 'phylumKey': 121445866,\n",
       " 'classKey': 121453723,\n",
       " 'orderKey': 121507052,\n",
       " 'scientificName': 'Ursidae Gray, 1825',\n",
       " 'canonicalName': 'Ursidae',\n",
       " 'authorship': 'Gray, 1825',\n",
       " 'nameType': 'SCIENTIFIC',\n",
       " 'taxonomicStatus': 'ACCEPTED',\n",
       " 'rank': 'FAMILY',\n",
       " 'origin': 'SOURCE',\n",
       " 'numDescendants': 153,\n",
       " 'numOccurrences': 0,\n",
       " 'extinct': False,\n",
       " 'habitats': [],\n",
       " 'nomenclaturalStatus': [],\n",
       " 'threatStatuses': [],\n",
       " 'descriptions': [],\n",
       " 'vernacularNames': [{'vernacularName': 'bear', 'language': 'eng'}],\n",
       " 'higherClassificationMap': {'121445866': 'Chordata',\n",
       "  '121453723': 'Mammalia',\n",
       "  '121507052': 'Carnivora',\n",
       "  '121513412': 'Arctoidea'},\n",
       " 'synonym': False,\n",
       " 'class': 'Mammalia'}"
      ]
     },
     "execution_count": 4,
     "metadata": {},
     "output_type": "execute_result"
    }
   ],
   "source": [
    "req_short = do_request('species', 'search', q='bear', rank='family')\n",
    "print(req_short['count'])\n",
    "bear = req_short['results'][0]\n",
    "bear"
   ]
  },
  {
   "cell_type": "code",
   "execution_count": 5,
   "metadata": {
    "scrolled": false
   },
   "outputs": [],
   "source": [
    "import time\n",
    "def get_all_records(rec_field, service, a1=None, a2=None, a3=None, **kwargs):\n",
    "    records = []\n",
    "    all_done = False\n",
    "    offset = 0\n",
    "    num_iter = 0\n",
    "    while not all_done and num_iter < 100:  # arbitrary\n",
    "        req = do_request(service, a1=a1, a2=a2, a3=a3, offset=offset, **kwargs)\n",
    "        all_done = req['endOfRecords']\n",
    "        if not all_done:\n",
    "            time.sleep(1)\n",
    "        offset += req['limit']\n",
    "        records.extend(req[rec_field])\n",
    "        num_iter += 1\n",
    "    return records"
   ]
  },
  {
   "cell_type": "code",
   "execution_count": 6,
   "metadata": {},
   "outputs": [],
   "source": [
    "#XXX\n",
    "def get_leaves(nub):\n",
    "    leaves = []\n",
    "    recs = get_all_records('results', 'species', str(nub), 'children')\n",
    "    if len(recs) == 0:\n",
    "        return None\n",
    "    for rec in recs:\n",
    "        if 'nubKey' not in rec:  # XXX why?\n",
    "            continue\n",
    "        rec_leaves = get_leaves(rec['nubKey'])\n",
    "        if rec_leaves is None:\n",
    "            leaves.append(rec)\n",
    "        else:\n",
    "            leaves.extend(rec_leaves)\n",
    "    return leaves"
   ]
  },
  {
   "cell_type": "code",
   "execution_count": 7,
   "metadata": {},
   "outputs": [],
   "source": [
    "records = get_all_records('results', 'species', str(bear['nubKey']), 'children')\n",
    "leaves = get_leaves(bear['nubKey'])"
   ]
  },
  {
   "cell_type": "code",
   "execution_count": 8,
   "metadata": {
    "scrolled": false
   },
   "outputs": [
    {
     "name": "stdout",
     "output_type": "stream",
     "text": [
      "Agriarctos Kretzoi, 1942 GENUS \n",
      "Ailurarctos Qiu Zhanxiang & Qi Guoquin, 1989 GENUS \n",
      "Ailuropoda microta Pei, 1962 SPECIES \n",
      "Cynodon helveticus (Rütimeyer, 1862) SPECIES \n",
      "Arctodus pristinus Leidy, 1854 SPECIES \n",
      "Arctodus simus SPECIES giant short-faced bear\n",
      "Harpaleocyon Hürzeler, 1944 GENUS \n",
      "Helarctos malayanus euryspilus Horsfield, 1825 SUBSPECIES \n",
      "Helarctos malayanus malayanus SUBSPECIES \n",
      "Indarctos anthracitis Weithofer, 1888 SPECIES \n",
      "Indarctos arctoides Deperet, 1895 SPECIES \n",
      "Indarctos atticus Weithofer, 1888 SPECIES \n",
      "Indarctos nevadensis Macdonald, 1959 SPECIES \n",
      "Indarctos oregonensis Merriam & al., 1925 SPECIES \n",
      "Indarctos salmontanus Pilgrim, 1913 SPECIES \n",
      "Indarctos vireti Villalta & Crusafont, 1943 SPECIES \n",
      "Indarctos zdanskyi Qiu & Tedford, 2003 SPECIES \n",
      "Melursus ursinus inornatus Pucheran, 1855 SUBSPECIES \n",
      "Melursus ursinus ursinus SUBSPECIES \n",
      "Metarctos Gaudry, 1860 GENUS \n",
      "Phoberocyon huerzeleri Ginsburg, 1955 SPECIES \n",
      "Plionarctos edensis Frick, 1926 SPECIES \n",
      "Plionarctos harroldorum Tedford & Martin, 2001 SPECIES \n",
      "Thalarctos Gray, 1825 GENUS \n",
      "Thaumastocyon Stehlin & Helbing, 1925 GENUS \n",
      "Ursavus brevirhinus Hofmann, 1887 SPECIES \n",
      "Ursavus elmensis Stehlin, 1917 SPECIES \n",
      "Ursavus pawniensis Frick, 1926 SPECIES \n",
      "Ursavus primaevus Gaillard, 1899 SPECIES \n",
      "Ursus abstrusus Bjork, 1970 SPECIES \n",
      "Ursus americanus altifrontalis Elliot, 1903 SUBSPECIES \n",
      "Ursus americanus amblyceps Baird, 1859 SUBSPECIES \n",
      "Ursus americanus americanus SUBSPECIES American black bear\n",
      "Ursus americanus californiensis Miller, 1900 SUBSPECIES \n",
      "Ursus americanus carlottae Osgood, 1901 SUBSPECIES \n",
      "Ursus americanus cinnamomum Audubon & Bachman, 1854 SUBSPECIES \n",
      "Ursus americanus emmonsii Dall, 1895 SUBSPECIES \n",
      "Ursus americanus eremicus Merriam, 1904 SUBSPECIES \n",
      "Ursus americanus floridanus Merriam, 1896 SUBSPECIES \n",
      "Ursus americanus hamiltoni Cameron, 1957 SUBSPECIES \n",
      "Ursus americanus kermodei Hornaday, 1905 SUBSPECIES \n",
      "Ursus americanus luteolus Griffith, 1821 SUBSPECIES Louisiana black bear\n",
      "Ursus americanus machetes Elliot, 1903 SUBSPECIES \n",
      "Ursus americanus perniger J.A.Allen, 1910 SUBSPECIES \n",
      "Ursus americanus pugnax Swarth, 1911 SUBSPECIES \n",
      "Ursus americanus vancouveri Hall, 1928 SUBSPECIES \n",
      "Ursus arctos alascensis Merriam, 1896 SUBSPECIES \n",
      "Ursus arctos arctos SUBSPECIES brown bear\n",
      "Ursus arctos beringianus Middendorff, 1851 SUBSPECIES Siberian brown bear\n",
      "Ursus arctos californicus Merriam, 1896 SUBSPECIES \n",
      "Ursus arctos collaris F.G.Cuvier, 1824 SUBSPECIES \n",
      "Ursus arctos crowtheri Schinz, 1844 SUBSPECIES \n",
      "Ursus arctos dalli Merriam, 1896 SUBSPECIES \n",
      "Ursus arctos gyas Merriam, 1902 SUBSPECIES \n",
      "Ursus arctos horribilis Ord, 1815 SUBSPECIES brown bear\n",
      "Ursus arctos isabellinus Horsfield, 1826 SUBSPECIES \n",
      "Ursus arctos lasiotus Gray, 1867 SUBSPECIES \n",
      "Ursus arctos middendorffi Merriam, 1896 SUBSPECIES Kodiak bear\n",
      "Ursus arctos pruinosus Blyth, 1854 SUBSPECIES brown bear\n",
      "Ursus arctos sitkensis Merriam, 1896 SUBSPECIES \n",
      "Ursus arctos stikeenensis Merriam, 1914 SUBSPECIES \n",
      "Ursus arctos syriacus Hemprich & Ehrenberg, 1828 SUBSPECIES \n",
      "Ursus spelaeus Rosenmüller, 1794 SPECIES cave bear\n"
     ]
    }
   ],
   "source": [
    "#[leaf['nameType'] for leaf in leaves]\n",
    "for rec in leaves:\n",
    "    print(rec['scientificName'], rec['rank'], end=' ')\n",
    "    vernaculars = do_request('species', str(rec['nubKey']), 'vernacularNames', language='en')['results']\n",
    "    for vernacular in vernaculars:\n",
    "        if vernacular['language'] == 'eng':\n",
    "            print(vernacular['vernacularName'], end='')\n",
    "            break\n",
    "    print()"
   ]
  },
  {
   "cell_type": "code",
   "execution_count": 9,
   "metadata": {
    "scrolled": false
   },
   "outputs": [],
   "source": [
    "basis_of_record = defaultdict(int)\n",
    "country = defaultdict(int)\n",
    "zero_occurrences = 0\n",
    "count_extinct = 0\n",
    "for rec in leaves:\n",
    "    #print(rec['scientificName'], rec['rank'], rec['taxonID'])\n",
    "    occurrences = get_all_records('results', 'occurrence', 'search', taxonKey=rec['nubKey'])\n",
    "    for occurrence in occurrences:\n",
    "        basis_of_record[occurrence['basisOfRecord']] += 1\n",
    "        country[occurrence.get('country', 'NA')] += 1\n",
    "        #there is also publisingCountry\n",
    "    if len(occurrences) > 0:\n",
    "        zero_occurrences += 1\n",
    "    profiles = do_request('species', str(rec['nubKey']), 'speciesProfiles')['results']\n",
    "    for profile in profiles:\n",
    "        if profile.get('extinct', False):\n",
    "            count_extinct += 1\n",
    "            break"
   ]
  },
  {
   "cell_type": "code",
   "execution_count": 10,
   "metadata": {},
   "outputs": [
    {
     "data": {
      "text/plain": [
       "Text(0.5,1,'Status for each species')"
      ]
     },
     "execution_count": 10,
     "metadata": {},
     "output_type": "execute_result"
    },
    {
     "data": {
      "image/png": "[encoded data removed]",
      "text/plain": [
       "<Figure size 1152x648 with 3 Axes>"
      ]
     },
     "metadata": {},
     "output_type": "display_data"
    }
   ],
   "source": [
    "countries, obs_countries = zip(*sorted(country.items(), key=lambda x: x[1]))\n",
    "basis_name, basis_cnt = zip(*sorted(basis_of_record.items(), key=lambda x: x[1]))\n",
    "fig = plt.figure(figsize=(16, 9))\n",
    "ax = fig.add_subplot(1, 2, 1)\n",
    "ax.barh(np.arange(10) - 0.5, obs_countries[-10:])\n",
    "ax.set_title('Top 10 countries per occurences')\n",
    "ax.set_yticks(range(10))\n",
    "ax.set_ylim(0.5, 9.5)\n",
    "ax.set_yticklabels(countries[-10:])\n",
    "#refer metadata problems\n",
    "\n",
    "ax = fig.add_subplot(2, 2, 2)\n",
    "ax.set_title('Basis of record')\n",
    "ax.bar(np.arange(len(basis_name)), basis_cnt, color='g')\n",
    "basis_name = [x.replace('OBSERVATION', 'OBS').replace('_SPECIMEN', '') for x in basis_name]\n",
    "ax.set_xticks(0.5 + np.arange(len(basis_name)))\n",
    "ax.set_xticklabels(basis_name, size='x-small')\n",
    "\n",
    "ax = fig.add_subplot(2, 2, 4)\n",
    "other = len(leaves) - zero_occurrences - count_extinct\n",
    "pie_values = [zero_occurrences, count_extinct, other]\n",
    "labels = ['No occurence (%d)' % zero_occurrences,\n",
    "          'Extinct (%d)' % count_extinct, 'Other (%d)' % other]\n",
    "ax.pie(pie_values, labels=labels,\n",
    "       colors=['cyan', 'magenta', 'yellow'])\n",
    "ax.set_title('Status for each species')"
   ]
  },
  {
   "cell_type": "code",
   "execution_count": 11,
   "metadata": {},
   "outputs": [],
   "source": [
    "#distribution of observations of horribilis per year\n",
    "#probably not put..."
   ]
  },
  {
   "cell_type": "code",
   "execution_count": 12,
   "metadata": {},
   "outputs": [],
   "source": [
    "horribilis = get_all_records('results', 'occurrence', 'search', taxonKey=6163845)"
   ]
  },
  {
   "cell_type": "code",
   "execution_count": 13,
   "metadata": {},
   "outputs": [
    {
     "data": {
      "text/plain": [
       "[<matplotlib.lines.Line2D at 0x7f676d035160>]"
      ]
     },
     "execution_count": 13,
     "metadata": {},
     "output_type": "execute_result"
    },
    {
     "data": {
      "image/png": "[encoded data removed]",
      "text/plain": [
       "<Figure size 432x288 with 1 Axes>"
      ]
     },
     "metadata": {},
     "output_type": "display_data"
    }
   ],
   "source": [
    "years = defaultdict(int)\n",
    "for x in horribilis:\n",
    "    years[x.get('year', None)] += 1\n",
    "xs, ys = zip(*[(y, cnt) for y, cnt in years.items() if y is not None])\n",
    "fig = plt.figure()\n",
    "ax = fig.add_subplot(111)\n",
    "ax.plot(xs, ys, '.')"
   ]
  },
  {
   "cell_type": "code",
   "execution_count": null,
   "metadata": {},
   "outputs": [],
   "source": []
  }
 ],
 "metadata": {
  "kernelspec": {
   "display_name": "Python 3",
   "language": "python",
   "name": "python3"
  },
  "language_info": {
   "codemirror_mode": {
    "name": "ipython",
    "version": 3
   },
   "file_extension": ".py",
   "mimetype": "text/x-python",
   "name": "python",
   "nbconvert_exporter": "python",
   "pygments_lexer": "ipython3",
   "version": "3.5.5"
  }
 },
 "nbformat": 4,
 "nbformat_minor": 1
}
