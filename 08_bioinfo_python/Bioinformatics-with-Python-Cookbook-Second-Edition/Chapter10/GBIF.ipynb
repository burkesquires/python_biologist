{
 "cells": [
  {
   "cell_type": "code",
   "execution_count": null,
   "metadata": {},
   "outputs": [],
   "source": [
    "from collections import defaultdict\n",
    "\n",
    "import requests\n",
    "\n",
    "import numpy as np\n",
    "import matplotlib.pyplot as plt\n",
    "%matplotlib inline"
   ]
  },
  {
   "cell_type": "code",
   "execution_count": null,
   "metadata": {},
   "outputs": [],
   "source": [
    "def do_request(service, a1=None, a2=None, a3=None, **kwargs):\n",
    "    server = 'http://api.gbif.org/v1'\n",
    "    params = ''\n",
    "    for a in [a1, a2, a3]:\n",
    "        if a is not None:\n",
    "            params += '/' + a\n",
    "    req = requests.get('%s/%s%s' % (server, service, params),\n",
    "                       params=kwargs,\n",
    "                       headers={'Content-Type': 'application/json'})\n",
    "    if not req.ok:\n",
    "        req.raise_for_status()\n",
    "    return req.json()"
   ]
  },
  {
   "cell_type": "code",
   "execution_count": null,
   "metadata": {},
   "outputs": [],
   "source": [
    "req = do_request('species', 'search', q='bear')\n",
    "print(req['count'])\n",
    "req['results'][0]"
   ]
  },
  {
   "cell_type": "code",
   "execution_count": null,
   "metadata": {},
   "outputs": [],
   "source": [
    "req_short = do_request('species', 'search', q='bear', rank='family')\n",
    "print(req_short['count'])\n",
    "bear = req_short['results'][0]\n",
    "bear"
   ]
  },
  {
   "cell_type": "code",
   "execution_count": null,
   "metadata": {},
   "outputs": [],
   "source": [
    "import time\n",
    "def get_all_records(rec_field, service, a1=None, a2=None, a3=None, **kwargs):\n",
    "    records = []\n",
    "    all_done = False\n",
    "    offset = 0\n",
    "    num_iter = 0\n",
    "    while not all_done and num_iter < 100:  # arbitrary\n",
    "        req = do_request(service, a1=a1, a2=a2, a3=a3, offset=offset, **kwargs)\n",
    "        all_done = req['endOfRecords']\n",
    "        if not all_done:\n",
    "            time.sleep(1)\n",
    "        offset += req['limit']\n",
    "        records.extend(req[rec_field])\n",
    "        num_iter += 1\n",
    "    return records"
   ]
  },
  {
   "cell_type": "code",
   "execution_count": null,
   "metadata": {},
   "outputs": [],
   "source": [
    "#XXX\n",
    "def get_leaves(nub):\n",
    "    leaves = []\n",
    "    recs = get_all_records('results', 'species', str(nub), 'children')\n",
    "    if len(recs) == 0:\n",
    "        return None\n",
    "    for rec in recs:\n",
    "        if 'nubKey' not in rec:  # XXX why?\n",
    "            continue\n",
    "        rec_leaves = get_leaves(rec['nubKey'])\n",
    "        if rec_leaves is None:\n",
    "            leaves.append(rec)\n",
    "        else:\n",
    "            leaves.extend(rec_leaves)\n",
    "    return leaves"
   ]
  },
  {
   "cell_type": "code",
   "execution_count": null,
   "metadata": {},
   "outputs": [],
   "source": [
    "records = get_all_records('results', 'species', str(bear['nubKey']), 'children')\n",
    "leaves = get_leaves(bear['nubKey'])"
   ]
  },
  {
   "cell_type": "code",
   "execution_count": null,
   "metadata": {},
   "outputs": [],
   "source": [
    "#[leaf['nameType'] for leaf in leaves]\n",
    "for rec in leaves:\n",
    "    print(rec['scientificName'], rec['rank'], end=' ')\n",
    "    vernaculars = do_request('species', str(rec['nubKey']), 'vernacularNames', language='en')['results']\n",
    "    for vernacular in vernaculars:\n",
    "        if vernacular['language'] == 'eng':\n",
    "            print(vernacular['vernacularName'], end='')\n",
    "            break\n",
    "    print()"
   ]
  },
  {
   "cell_type": "code",
   "execution_count": null,
   "metadata": {},
   "outputs": [],
   "source": [
    "basis_of_record = defaultdict(int)\n",
    "country = defaultdict(int)\n",
    "zero_occurrences = 0\n",
    "count_extinct = 0\n",
    "for rec in leaves:\n",
    "    #print(rec['scientificName'], rec['rank'], rec['taxonID'])\n",
    "    occurrences = get_all_records('results', 'occurrence', 'search', taxonKey=rec['nubKey'])\n",
    "    for occurrence in occurrences:\n",
    "        basis_of_record[occurrence['basisOfRecord']] += 1\n",
    "        country[occurrence.get('country', 'NA')] += 1\n",
    "        #there is also publisingCountry\n",
    "    if len(occurrences) > 0:\n",
    "        zero_occurrences += 1\n",
    "    profiles = do_request('species', str(rec['nubKey']), 'speciesProfiles')['results']\n",
    "    for profile in profiles:\n",
    "        if profile.get('extinct', False):\n",
    "            count_extinct += 1\n",
    "            break"
   ]
  },
  {
   "cell_type": "code",
   "execution_count": null,
   "metadata": {},
   "outputs": [],
   "source": [
    "countries, obs_countries = zip(*sorted(country.items(), key=lambda x: x[1]))\n",
    "basis_name, basis_cnt = zip(*sorted(basis_of_record.items(), key=lambda x: x[1]))\n",
    "fig = plt.figure(figsize=(16, 9))\n",
    "ax = fig.add_subplot(1, 2, 1)\n",
    "ax.barh(np.arange(10) - 0.5, obs_countries[-10:])\n",
    "ax.set_title('Top 10 countries per occurences')\n",
    "ax.set_yticks(range(10))\n",
    "ax.set_ylim(0.5, 9.5)\n",
    "ax.set_yticklabels(countries[-10:])\n",
    "#refer metadata problems\n",
    "\n",
    "ax = fig.add_subplot(2, 2, 2)\n",
    "ax.set_title('Basis of record')\n",
    "ax.bar(np.arange(len(basis_name)), basis_cnt, color='g')\n",
    "basis_name = [x.replace('OBSERVATION', 'OBS').replace('_SPECIMEN', '') for x in basis_name]\n",
    "ax.set_xticks(0.5 + np.arange(len(basis_name)))\n",
    "ax.set_xticklabels(basis_name, size='x-small')\n",
    "\n",
    "ax = fig.add_subplot(2, 2, 4)\n",
    "other = len(leaves) - zero_occurrences - count_extinct\n",
    "pie_values = [zero_occurrences, count_extinct, other]\n",
    "labels = ['No occurence (%d)' % zero_occurrences,\n",
    "          'Extinct (%d)' % count_extinct, 'Other (%d)' % other]\n",
    "ax.pie(pie_values, labels=labels,\n",
    "       colors=['cyan', 'magenta', 'yellow'])\n",
    "ax.set_title('Status for each species')"
   ]
  },
  {
   "cell_type": "code",
   "execution_count": null,
   "metadata": {},
   "outputs": [],
   "source": [
    "#distribution of observations of horribilis per year\n",
    "#probably not put..."
   ]
  },
  {
   "cell_type": "code",
   "execution_count": null,
   "metadata": {},
   "outputs": [],
   "source": [
    "horribilis = get_all_records('results', 'occurrence', 'search', taxonKey=6163845)"
   ]
  },
  {
   "cell_type": "code",
   "execution_count": null,
   "metadata": {},
   "outputs": [],
   "source": [
    "years = defaultdict(int)\n",
    "for x in horribilis:\n",
    "    years[x.get('year', None)] += 1\n",
    "xs, ys = zip(*[(y, cnt) for y, cnt in years.items() if y is not None])\n",
    "fig = plt.figure()\n",
    "ax = fig.add_subplot(111)\n",
    "ax.plot(xs, ys, '.')"
   ]
  },
  {
   "cell_type": "code",
   "execution_count": null,
   "metadata": {},
   "outputs": [],
   "source": []
  }
 ],
 "metadata": {
  "kernelspec": {
   "display_name": "Python 3",
   "language": "python",
   "name": "python3"
  },
  "language_info": {
   "codemirror_mode": {
    "name": "ipython",
    "version": 3
   },
   "file_extension": ".py",
   "mimetype": "text/x-python",
   "name": "python",
   "nbconvert_exporter": "python",
   "pygments_lexer": "ipython3",
   "version": "3.5.5"
  }
 },
 "nbformat": 4,
 "nbformat_minor": 1
}
