{
 "cells": [
  {
   "cell_type": "code",
   "execution_count": null,
   "metadata": {},
   "outputs": [],
   "source": [
    "import math\n",
    "\n",
    "from IPython import display\n",
    "import PIL.Image\n",
    "\n",
    "import requests\n",
    "\n",
    "import sys\n",
    "from io import StringIO\n",
    "from io import BytesIO"
   ]
  },
  {
   "cell_type": "code",
   "execution_count": null,
   "metadata": {},
   "outputs": [],
   "source": [
    "def get_osm_tile(x, y, z):\n",
    "    url = 'http://tile.openstreetmap.org/%d/%d/%d.png' % (z, x, y)\n",
    "    req = requests.get(url)\n",
    "    if not req.ok:\n",
    "        req.raise_for_status()\n",
    "    return req\n",
    "\n",
    "def deg_xy(lat, lon, zoom):\n",
    "    lat_rad = math.radians(lat)\n",
    "    n = 2 ** zoom\n",
    "    x = int((lon + 180) / 360 * n)\n",
    "    y = int((1 - math.log(math.tan(lat_rad) + (1 / math.cos(lat_rad))) / math.pi) / 2 * n)\n",
    "    return x, y"
   ]
  },
  {
   "cell_type": "code",
   "execution_count": null,
   "metadata": {},
   "outputs": [],
   "source": [
    "#XXX\n",
    "lat, lon = -0.666667, -90.55\n",
    "\n",
    "pils = []\n",
    "for zoom in [0, 1, 5, 8]:\n",
    "    x, y = deg_xy(lat, lon, zoom)\n",
    "    print(x, y, zoom)\n",
    "    osm_tile = get_osm_tile(x, y, zoom)\n",
    "    pil_img = PIL.Image.open(BytesIO(osm_tile.content))\n",
    "    #StringIO(osm_tile.content)\n",
    "    #pil_img = PIL.Image.open(osm_tile.content)\n",
    "    pils.append(pil_img)\n",
    "composite = PIL.Image.new('RGBA', (520, 520))\n",
    "composite.paste(pils[0], (0, 0,256, 256))\n",
    "composite.paste(pils[1], (264, 0, 520, 256))\n",
    "composite.paste(pils[2], (0, 264, 256, 520))\n",
    "composite.paste(pils[3], (264, 264, 520, 520))"
   ]
  },
  {
   "cell_type": "code",
   "execution_count": null,
   "metadata": {},
   "outputs": [],
   "source": [
    "def convert_pil(img):\n",
    "    b = BytesIO()\n",
    "    img.save(b, format='png')\n",
    "    return display.Image(data=b.getvalue())"
   ]
  },
  {
   "cell_type": "code",
   "execution_count": null,
   "metadata": {},
   "outputs": [],
   "source": [
    "convert_pil(composite)"
   ]
  },
  {
   "cell_type": "code",
   "execution_count": null,
   "metadata": {},
   "outputs": [],
   "source": [
    "#XXX\n",
    "def get_surrounding(x, y, z, tile_fun):\n",
    "    composite = PIL.Image.new('RGBA', (768, 768))\n",
    "    for xi, x_ in enumerate([x - 1, x, x + 1]):\n",
    "        for yi, y_ in enumerate([y - 1, y, y + 1]):\n",
    "            tile_req = tile_fun(x_, y_, z)\n",
    "            pos = (xi * 256, yi * 256, xi * 256 + 256, yi * 256 + 256)\n",
    "            img = PIL.Image.open(BytesIO(tile_req.content))\n",
    "            composite.paste(img, pos)\n",
    "    return composite"
   ]
  },
  {
   "cell_type": "code",
   "execution_count": null,
   "metadata": {},
   "outputs": [],
   "source": [
    "zoom = 8\n",
    "x, y = deg_xy(lat, lon, zoom)\n",
    "osm_big = get_surrounding(x, y, zoom, get_osm_tile)\n",
    "convert_pil(osm_big)"
   ]
  },
  {
   "cell_type": "code",
   "execution_count": null,
   "metadata": {},
   "outputs": [],
   "source": [
    "def get_gbif_tile(x, y, z, **kwargs):\n",
    "    server = 'http://api.gbif.org/v1'\n",
    "    kwargs['x'] = str(x)\n",
    "    kwargs['y'] = str(y)\n",
    "    kwargs['z'] = str(z)\n",
    "    req = requests.get('%s/map/density/tile' % server,\n",
    "                       params=kwargs,\n",
    "                       headers={})\n",
    "    if not req.ok:\n",
    "        req.raise_for_status()\n",
    "    return req"
   ]
  },
  {
   "cell_type": "code",
   "execution_count": null,
   "metadata": {},
   "outputs": [],
   "source": [
    "gbif_tile = get_gbif_tile(0, 0, 0, resolution='4',\n",
    "                       type='TAXON', key='6163845')\n",
    "#do wee need to add copyright? (both osm and gbif)\n",
    "img = PIL.Image.open(BytesIO(gbif_tile.content))\n",
    "convert_pil(img)"
   ]
  },
  {
   "cell_type": "code",
   "execution_count": null,
   "metadata": {},
   "outputs": [],
   "source": [
    "import functools\n",
    "zoom = 8\n",
    "x, y = deg_xy(lat, lon, zoom)\n",
    "gbif_big = get_surrounding(x, y, zoom,\n",
    "                           functools.partial(get_gbif_tile, hue='0.1',\n",
    "                                             resolution='2',\n",
    "                                             saturation='True'))\n",
    "convert_pil(gbif_big)"
   ]
  },
  {
   "cell_type": "code",
   "execution_count": null,
   "metadata": {},
   "outputs": [],
   "source": [
    "compose = PIL.Image.alpha_composite(osm_big, gbif_big)"
   ]
  },
  {
   "cell_type": "code",
   "execution_count": null,
   "metadata": {},
   "outputs": [],
   "source": [
    "convert_pil(compose)"
   ]
  },
  {
   "cell_type": "code",
   "execution_count": null,
   "metadata": {},
   "outputs": [],
   "source": [
    "#not on recipe\n",
    "zoom = 15\n",
    "x, y = deg_xy(1.6783, -92.0012, zoom)\n",
    "osm_tile = get_osm_tile(x, y, zoom)\n",
    "darwin_big = get_surrounding(x, y, zoom, get_osm_tile)\n",
    "convert_pil(darwin_big)"
   ]
  },
  {
   "cell_type": "code",
   "execution_count": null,
   "metadata": {},
   "outputs": [],
   "source": [
    "def do_request(service, a1=None, a2=None, a3=None, **kwargs):\n",
    "    server = 'http://api.gbif.org/v1'\n",
    "    params = ''\n",
    "    for a in [a1, a2, a3]:\n",
    "        if a is not None:\n",
    "            params += '/' + a\n",
    "    req = requests.get('%s/%s%s' % (server, service, params),\n",
    "                       params=kwargs,\n",
    "                       headers={'Content-Type': 'application/json'})\n",
    "    if not req.ok:\n",
    "        req.raise_for_status()\n",
    "    return req.json()\n",
    "\n",
    "\n",
    "def get_all_records(rec_field, service, a1=None, a2=None, a3=None, **kwargs):\n",
    "    records = []\n",
    "    all_done = False\n",
    "    offset = 0\n",
    "    num_iter = 0\n",
    "    while not all_done and num_iter < 100:\n",
    "        req = do_request(service, a1=a1, a2=a2, a3=a3, offset=offset, **kwargs)\n",
    "        all_done = req['endOfRecords']\n",
    "        offset += req['limit']\n",
    "        records.extend(req[rec_field])\n",
    "        num_iter += 1\n",
    "    return records\n",
    "\n",
    "#tighter polygon coordinates\n",
    "start = 2, -93\n",
    "end = 1, -91\n",
    "geom = 'POLYGON(({xi} {yi}, {xf} {yi}, {xf} {yf}, {xi} {yf}, {xi} {yi}))'.format(\n",
    "    xi=start[1], xf=end[1], yi=start[0], yf=end[0])\n",
    "print(geom)\n",
    "recs = get_all_records('results', 'occurrence', 'search', geometry=geom)"
   ]
  },
  {
   "cell_type": "code",
   "execution_count": null,
   "metadata": {},
   "outputs": [],
   "source": [
    "recs[0]"
   ]
  }
 ],
 "metadata": {
  "kernelspec": {
   "display_name": "Python 3",
   "language": "python",
   "name": "python3"
  },
  "language_info": {
   "codemirror_mode": {
    "name": "ipython",
    "version": 3
   },
   "file_extension": ".py",
   "mimetype": "text/x-python",
   "name": "python",
   "nbconvert_exporter": "python",
   "pygments_lexer": "ipython3",
   "version": "3.5.5"
  }
 },
 "nbformat": 4,
 "nbformat_minor": 1
}
