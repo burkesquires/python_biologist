{
 "cells": [
  {
   "cell_type": "markdown",
   "metadata": {},
   "source": [
    "# Important: Read this!\n",
    "\n",
    "This recipe does not work with the standard conda environment.\n",
    "\n",
    "If you are in the standard environment, do this:\n",
    "\n",
    "1. Stop Jupyter\n",
    "2. Activate QIIME2 environment on conda\n",
    "3. Do `jupyter serverextension enable --py qiime2 --sys-prefix`\n",
    "4. Start Jupyter inside QIIME2 environment\n",
    "\n",
    "Note that other recipes will not work inside this environment. "
   ]
  },
  {
   "cell_type": "markdown",
   "metadata": {},
   "source": [
    "# Check this out!\n",
    "\n",
    "This is based on on [QIIME2 Fecal Microbiota Transpant example](https://docs.qiime2.org/2018.8/tutorials/fmt/) (for the command line). You are strongly advised to read it before proceeding.\n",
    "\n",
    "There is an [amazing example](http://nbviewer.jupyter.org/gist/tkosciol/29de5198a4be81559a075756c2490fde) of using the Artifact API using the \"Moving Pictures\" tutorial of QIIME 2 produced by Tomasz Kościółek. I use a more convoluted approach than Tomasz's in order to go a little deeper in terms of understanding of the Python internals. That is more of a learning experience on the internals than a practical recommendatin. **My recommendation is to use Tomasz's dialect, not mine**.\n"
   ]
  },
  {
   "cell_type": "markdown",
   "metadata": {},
   "source": [
    "# Getting the data"
   ]
  },
  {
   "cell_type": "code",
   "execution_count": null,
   "metadata": {},
   "outputs": [],
   "source": [
    "!wget https://data.qiime2.org/2018.8/tutorials/fmt/sample_metadata.tsv\n",
    "!wget https://data.qiime2.org/2018.8/tutorials/fmt/fmt-tutorial-demux-1-10p.qza\n",
    "!wget https://data.qiime2.org/2018.8/tutorials/fmt/fmt-tutorial-demux-2-10p.qza"
   ]
  },
  {
   "cell_type": "markdown",
   "metadata": {},
   "source": [
    "# The recipe"
   ]
  },
  {
   "cell_type": "code",
   "execution_count": null,
   "metadata": {},
   "outputs": [],
   "source": [
    "import pandas as pd\n",
    "\n",
    "from qiime2.metadata.metadata import Metadata\n",
    "from qiime2.metadata.metadata import CategoricalMetadataColumn\n",
    "from qiime2.sdk import Artifact\n",
    "from qiime2.sdk import PluginManager\n",
    "from qiime2.sdk import Result"
   ]
  },
  {
   "cell_type": "code",
   "execution_count": null,
   "metadata": {},
   "outputs": [],
   "source": [
    "pm = PluginManager()\n",
    "demux_plugin = pm.plugins['demux']\n",
    "#demux_emp_single = demux_plugin.actions['emp_single']\n",
    "demux_summarize = demux_plugin.actions['summarize']\n",
    "pm.plugins"
   ]
  },
  {
   "cell_type": "code",
   "execution_count": null,
   "metadata": {},
   "outputs": [],
   "source": [
    "print(demux_summarize.description)\n",
    "demux_summarize_signature = demux_summarize.signature\n",
    "print(demux_summarize_signature.inputs)\n",
    "print(demux_summarize_signature.parameters)\n",
    "print(demux_summarize_signature.outputs)"
   ]
  },
  {
   "cell_type": "code",
   "execution_count": null,
   "metadata": {},
   "outputs": [],
   "source": [
    "seqs1 = Result.load('fmt-tutorial-demux-1-10p.qza')\n",
    "sum_data1 = demux_summarize(seqs1)\n",
    "\n",
    "print(dir(sum_data1))\n",
    "print(type(sum_data1.visualization))\n",
    "print(dir(sum_data1.visualization))\n",
    "sum_data1.visualization"
   ]
  },
  {
   "cell_type": "code",
   "execution_count": null,
   "metadata": {},
   "outputs": [],
   "source": [
    "seqs2 = Result.load('fmt-tutorial-demux-2-10p.qza')\n",
    "sum_data2 = demux_summarize(seqs2)\n",
    "\n",
    "print(dir(sum_data2))\n",
    "print(type(sum_data2.visualization))\n",
    "print(dir(sum_data2.visualization))\n",
    "sum_data2.visualization"
   ]
  },
  {
   "cell_type": "code",
   "execution_count": null,
   "metadata": {},
   "outputs": [],
   "source": [
    "#Quality control\n",
    "dada2_plugin = pm.plugins['dada2']\n",
    "dada2_denoise_single = dada2_plugin.actions['denoise_single']\n",
    "qual_control1 = dada2_denoise_single(demultiplexed_seqs=seqs1,\n",
    "                                    trunc_len=150, trim_left=13)"
   ]
  },
  {
   "cell_type": "code",
   "execution_count": null,
   "metadata": {},
   "outputs": [],
   "source": [
    "qual_control2 = dada2_denoise_single(demultiplexed_seqs=seqs2,\n",
    "                                    trunc_len=150, trim_left=13)"
   ]
  },
  {
   "cell_type": "code",
   "execution_count": null,
   "metadata": {},
   "outputs": [],
   "source": [
    "metadata_plugin = pm.plugins['metadata']\n",
    "metadata_tabulate = metadata_plugin.actions['tabulate']\n",
    "stats_meta1 = metadata_tabulate(input=qual_control1.denoising_stats.view(Metadata))\n",
    "stats_meta1.visualization"
   ]
  },
  {
   "cell_type": "code",
   "execution_count": null,
   "metadata": {},
   "outputs": [],
   "source": [
    "stats_meta2 = metadata_tabulate(input=qual_control2.denoising_stats.view(Metadata))\n",
    "stats_meta2.visualization"
   ]
  },
  {
   "cell_type": "code",
   "execution_count": null,
   "metadata": {},
   "outputs": [],
   "source": [
    "ft_plugin = pm.plugins['feature-table']\n",
    "ft_merge = ft_plugin.actions['merge']\n",
    "ft_merge_seqs = ft_plugin.actions['merge_seqs']\n",
    "ft_summarize = ft_plugin.actions['summarize']\n",
    "ft_tab_seqs = ft_plugin.actions['tabulate_seqs']\n",
    "\n",
    "table_merge = ft_merge(tables=[qual_control1.table, qual_control2.table])\n",
    "seqs_merge = ft_merge_seqs(data=[qual_control1.representative_sequences, qual_control2.representative_sequences])"
   ]
  },
  {
   "cell_type": "code",
   "execution_count": null,
   "metadata": {},
   "outputs": [],
   "source": [
    "ft_sum = ft_summarize(table=table_merge.merged_table)\n",
    "ft_sum.visualization"
   ]
  },
  {
   "cell_type": "code",
   "execution_count": null,
   "metadata": {},
   "outputs": [],
   "source": [
    "tab_seqs = ft_tab_seqs(data=seqs_merge.merged_data)\n",
    "tab_seqs.visualization"
   ]
  },
  {
   "cell_type": "code",
   "execution_count": null,
   "metadata": {},
   "outputs": [],
   "source": []
  }
 ],
 "metadata": {
  "kernelspec": {
   "display_name": "Python 3",
   "language": "python",
   "name": "python3"
  },
  "language_info": {
   "codemirror_mode": {
    "name": "ipython",
    "version": 3
   },
   "file_extension": ".py",
   "mimetype": "text/x-python",
   "name": "python",
   "nbconvert_exporter": "python",
   "pygments_lexer": "ipython3",
   "version": "3.5.5"
  }
 },
 "nbformat": 4,
 "nbformat_minor": 2
}
