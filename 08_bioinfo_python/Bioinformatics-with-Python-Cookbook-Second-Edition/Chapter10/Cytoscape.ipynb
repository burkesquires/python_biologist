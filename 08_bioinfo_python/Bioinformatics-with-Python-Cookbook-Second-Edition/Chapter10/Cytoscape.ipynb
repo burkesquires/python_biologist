{
 "cells": [
  {
   "cell_type": "code",
   "execution_count": null,
   "metadata": {},
   "outputs": [],
   "source": [
    "from collections import defaultdict\n",
    "import json\n",
    "import requests\n",
    "\n",
    "from IPython.display import Image\n",
    "import networkx as nx\n",
    "\n",
    "from py2cytoscape.util import from_networkx"
   ]
  },
  {
   "cell_type": "code",
   "execution_count": null,
   "metadata": {},
   "outputs": [],
   "source": [
    "#XXX\n",
    "def get_psiquic_uniprot(query, **kwargs):\n",
    "    kwargs['format'] = kwargs.get('format', 'tab27')\n",
    "    server = 'http://www.ebi.ac.uk/Tools/webservices/psicquic/uniprot/webservices/current/search/query'\n",
    "    req = requests.get('%s/%s' % (server, query), params=kwargs)\n",
    "    return req.content.decode('utf-8')  #XXX"
   ]
  },
  {
   "cell_type": "code",
   "execution_count": null,
   "metadata": {},
   "outputs": [],
   "source": [
    "genes_species = defaultdict(set)\n",
    "interactions = {}\n",
    "\n",
    "def get_gene_name(my_id, alt_names):\n",
    "    toks = alt_names.split('|')\n",
    "    for tok in toks:\n",
    "        if tok.endswith('(gene name)'):\n",
    "            return tok[tok.find(':') + 1: tok.find('(')]\n",
    "    return my_id + '?'  # no name...\n",
    "\n",
    "def get_vernacular_tax(tax):\n",
    "    return tax.split('|')[0][tax.find('(') + 1:-1]\n",
    "\n",
    "def add_interactions(species):\n",
    "    for rec in species.split('\\n'):\n",
    "        toks = rec.rstrip().split('\\t')\n",
    "        if len(toks) < 15:\n",
    "            continue  # empty line at the end\n",
    "        id1 = toks[0][toks[0].find(':') + 1:]\n",
    "        id2 = toks[1][toks[1].find(':') + 1:]\n",
    "        gene1, gene2 = get_gene_name(id1, toks[4]), get_gene_name(id2, toks[5])\n",
    "        #print(toks[6])\n",
    "\n",
    "        tax1, tax2 = get_vernacular_tax(toks[9]), get_vernacular_tax(toks[10])\n",
    "        inter_type = toks[11][toks[11].find('(') + 1:-1]\n",
    "        miscore = float(toks[14].split(':')[1])\n",
    "        genes_species[tax1].add(gene1)\n",
    "        genes_species[tax2].add(gene2)\n",
    "        interactions[((tax1, gene1), (tax2, gene2))] = {'score': miscore, 'type': inter_type}"
   ]
  },
  {
   "cell_type": "code",
   "execution_count": null,
   "metadata": {},
   "outputs": [],
   "source": [
    "human = get_psiquic_uniprot('uniprotkb:P04637')\n",
    "add_interactions(human)\n",
    "rat = get_psiquic_uniprot('uniprotkb:P10361')\n",
    "add_interactions(rat)\n",
    "mouse = get_psiquic_uniprot('uniprotkb:P02340')\n",
    "add_interactions(mouse)"
   ]
  },
  {
   "cell_type": "code",
   "execution_count": null,
   "metadata": {},
   "outputs": [],
   "source": [
    "def get_node_id(species, gene):\n",
    "    if species == 'human':\n",
    "        return gene\n",
    "    elif species in ['mouse', 'rat']:\n",
    "        return '%s (%s)' % (gene, species[0])\n",
    "    else:\n",
    "        return  '%s (%s)' % (gene, species)\n",
    "\n",
    "graph = nx.Graph()\n",
    "for species, genes in genes_species.items():\n",
    "    #print(species)\n",
    "    for gene in genes:\n",
    "        name = get_node_id(species, gene)\n",
    "        #print(gene, name)\n",
    "        graph.add_node(get_node_id(species, gene),\n",
    "                       species=species, gene=gene)\n",
    "\n",
    "for (i1, i2), attribs in interactions.items():\n",
    "    tax1, gene1 = i1\n",
    "    tax2, gene2 = i2\n",
    "    graph.add_edge(get_node_id(tax1, gene1),\n",
    "                   get_node_id(tax2, gene2),\n",
    "                   interaction=attribs['type'],\n",
    "                   score=attribs['score'])"
   ]
  },
  {
   "cell_type": "code",
   "execution_count": null,
   "metadata": {},
   "outputs": [],
   "source": [
    "#XXX\n",
    "server = 'http://localhost:1234/v1'\n",
    "\n",
    "p53_interactions = from_networkx(graph)\n",
    "p53_net = requests.post(server + '/networks', data=json.dumps(p53_interactions),\n",
    "                        headers={'Content-Type': 'application/json'})\n",
    "net_id = p53_net.json()['networkSUID']\n",
    "requests.get('%s/apply/layouts/circular/%d' % (server, net_id))\n",
    "requests.get('%s/apply/styles/Gradient1/%d' % (server, net_id))  #XXX\n",
    "Image('%s/networks/%d/views/first.png' % (server, net_id))"
   ]
  },
  {
   "cell_type": "code",
   "execution_count": null,
   "metadata": {},
   "outputs": [],
   "source": [
    "res = requests.get(server + '/networks',\n",
    "                     headers={'Content-Type': 'application/json'})\n",
    "print(res.content)"
   ]
  },
  {
   "cell_type": "code",
   "execution_count": null,
   "metadata": {},
   "outputs": [],
   "source": [
    "res = requests.get(server + '/apply/styles',\n",
    "                     headers={'Content-Type': 'application/json'})\n",
    "print(res.json())"
   ]
  },
  {
   "cell_type": "code",
   "execution_count": null,
   "metadata": {},
   "outputs": [],
   "source": [
    "res = requests.get(server + '/styles',\n",
    "                     headers={'Content-Type': 'application/json'})\n",
    "res.content\n",
    "res = requests.get(server + '/styles/default',\n",
    "                     headers={'Content-Type': 'application/json'})\n",
    "print(json.dumps(json.loads(res.content), indent=4))"
   ]
  },
  {
   "cell_type": "code",
   "execution_count": null,
   "metadata": {},
   "outputs": [],
   "source": [
    "ustyle = {\n",
    "    'title': 'Color style',\n",
    "    'mappings': [\n",
    "        {'mappingType': 'discrete',\n",
    "         'map': [\n",
    "                {'key': 'human', 'value': '#00FF00'},\n",
    "                {'key': 'rat', 'value': '#FF00FF'},\n",
    "                {'key': 'mouse', 'value': '#00FFFF'}],\n",
    "         'visualProperty': 'NODE_FILL_COLOR',\n",
    "         'mappingColumnType': 'String',\n",
    "         'mappingColumn': 'species'},\n",
    "        {\n",
    "            'mappingType': 'passthrough', \n",
    "            'visualProperty': 'NODE_LABEL', \n",
    "            'mappingColumnType': 'String', \n",
    "            'mappingColumn': 'gene'}, \n",
    "        {\n",
    "            'mappingType': 'passthrough', \n",
    "            'visualProperty': 'EDGE_TOOLTIP', \n",
    "            'mappingColumnType': 'String', \n",
    "            'mappingColumn': 'interaction'\n",
    "        }],\n",
    "    'defaults': [ {\"visualProperty\": \"NODE_FILL_COLOR\", \n",
    "            \"value\": \"#FFFFFF\"}]}"
   ]
  },
  {
   "cell_type": "code",
   "execution_count": null,
   "metadata": {},
   "outputs": [],
   "source": [
    "res = requests.post(server + \"/styles\", data=json.dumps(ustyle),\n",
    "                   headers={'Content-Type': 'application/json'})\n",
    "\n",
    "requests.get('%s/apply/layouts/force-directed/%d' % (server, net_id))\n",
    "res = requests.get('%s/apply/styles/Color style/%d' % (server, net_id),\n",
    "                     headers={'Content-Type': 'application/json'})\n",
    "Image('%s/networks/%s/views/first.png' % (server, net_id))"
   ]
  },
  {
   "cell_type": "code",
   "execution_count": null,
   "metadata": {},
   "outputs": [],
   "source": []
  }
 ],
 "metadata": {
  "kernelspec": {
   "display_name": "Python 3",
   "language": "python",
   "name": "python3"
  },
  "language_info": {
   "codemirror_mode": {
    "name": "ipython",
    "version": 3
   },
   "file_extension": ".py",
   "mimetype": "text/x-python",
   "name": "python",
   "nbconvert_exporter": "python",
   "pygments_lexer": "ipython3",
   "version": "3.5.5"
  }
 },
 "nbformat": 4,
 "nbformat_minor": 1
}
