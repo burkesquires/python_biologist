{
 "cells": [
  {
   "cell_type": "markdown",
   "metadata": {},
   "source": [
    "# Getting the necessary data"
   ]
  },
  {
   "cell_type": "markdown",
   "metadata": {},
   "source": [
    "You just need to do this only once"
   ]
  },
  {
   "cell_type": "code",
   "execution_count": 1,
   "metadata": {},
   "outputs": [],
   "source": [
    "!rm -f genotypes.vcf.gz 2>/dev/null\n",
    "!tabix -fh ftp://ftp-trace.ncbi.nih.gov/1000genomes/ftp/release/20130502/supporting/vcf_with_sample_level_annotation/ALL.chr22.phase3_shapeit2_mvncall_integrated_v5_extra_anno.20130502.genotypes.vcf.gz 22:1-17000000|bgzip -c > genotypes.vcf.gz\n",
    "!tabix -p vcf genotypes.vcf.gz"
   ]
  },
  {
   "cell_type": "code",
   "execution_count": 2,
   "metadata": {},
   "outputs": [
    {
     "name": "stderr",
     "output_type": "stream",
     "text": [
      "/home/tiago/anaconda3/lib/python3.5/importlib/_bootstrap.py:222: RuntimeWarning: numpy.dtype size changed, may indicate binary incompatibility. Expected 96, got 88\n",
      "  return f(*args, **kwds)\n",
      "/home/tiago/anaconda3/lib/python3.5/importlib/_bootstrap.py:222: RuntimeWarning: numpy.dtype size changed, may indicate binary incompatibility. Expected 96, got 88\n",
      "  return f(*args, **kwds)\n"
     ]
    }
   ],
   "source": [
    "from collections import defaultdict\n",
    "\n",
    "%matplotlib inline\n",
    "import seaborn as sns\n",
    "import matplotlib.pyplot as plt\n",
    "\n",
    "import vcf"
   ]
  },
  {
   "cell_type": "code",
   "execution_count": 3,
   "metadata": {},
   "outputs": [
    {
     "name": "stdout",
     "output_type": "stream",
     "text": [
      "Variant Level information\n",
      "CIEND\n",
      "CIPOS\n",
      "CS\n",
      "END\n",
      "IMPRECISE\n",
      "MC\n",
      "MEINFO\n",
      "MEND\n",
      "MLEN\n",
      "MSTART\n",
      "SVLEN\n",
      "SVTYPE\n",
      "TSD\n",
      "AC\n",
      "AF\n",
      "NS\n",
      "AN\n",
      "ASN_AF\n",
      "EUR_AF\n",
      "AFR_AF\n",
      "AMR_AF\n",
      "SAN_AF\n",
      "DP\n",
      "Sample Level information\n",
      "GT\n",
      "DP\n"
     ]
    }
   ],
   "source": [
    "v = vcf.Reader(filename='genotypes.vcf.gz')\n",
    "\n",
    "print('Variant Level information')\n",
    "infos = v.infos\n",
    "for info in infos:\n",
    "    print(info)\n",
    "\n",
    "print('Sample Level information')\n",
    "fmts = v.formats\n",
    "for fmt in fmts:\n",
    "    print(fmt)"
   ]
  },
  {
   "cell_type": "code",
   "execution_count": 4,
   "metadata": {},
   "outputs": [
    {
     "name": "stdout",
     "output_type": "stream",
     "text": [
      "22 16050075 None A [G] 100 []\n",
      "{'NS': 2504, 'SAN_AF': [0.0], 'AN': 5008, 'AF': [0.000199681], 'AMR_AF': [0.0], 'EAS_AF': [''], 'DP': [8012], 'EUR_AF': [0.0], 'ASN_AF': [0.0], 'SAS_AF': ['0.0010'], 'AC': [1], 'AFR_AF': [0.0]}\n",
      "GT:DP\n",
      "2504\n",
      "True ['0', '0'] False False True\n",
      "1\n"
     ]
    }
   ],
   "source": [
    "v = vcf.Reader(filename='genotypes.vcf.gz')\n",
    "rec = next(v)\n",
    "print(rec.CHROM, rec.POS, rec.ID, rec.REF, rec.ALT, rec.QUAL, rec.FILTER)\n",
    "print(rec.INFO)\n",
    "print(rec.FORMAT)\n",
    "samples = rec.samples\n",
    "print(len(samples))\n",
    "sample = samples[0]\n",
    "print(sample.called, sample.gt_alleles, sample.is_het, sample.is_variant, sample.phased)\n",
    "print(int(sample['DP']))"
   ]
  },
  {
   "cell_type": "code",
   "execution_count": 5,
   "metadata": {},
   "outputs": [
    {
     "name": "stdout",
     "output_type": "stream",
     "text": [
      "defaultdict(<class 'int'>, {('sv', 'DEL'): 6, ('indel', 'del'): 273, ('snp', 'ts'): 10054, ('indel', 'ins'): 127, ('snp', 'tv'): 5917, ('sv', 'CNV'): 2, ('snp', 'unknown'): 79, ('sv', 'SVA'): 1, ('indel', 'unknown'): 13})\n",
      "defaultdict(<class 'int'>, {1: 15971, 2: 79})\n"
     ]
    }
   ],
   "source": [
    "f = vcf.Reader(filename='genotypes.vcf.gz')\n",
    "\n",
    "my_type = defaultdict(int)\n",
    "num_alts = defaultdict(int)\n",
    "\n",
    "for rec in f:\n",
    "    my_type[rec.var_type, rec.var_subtype] += 1\n",
    "    if rec.is_snp:\n",
    "        num_alts[len(rec.ALT)] += 1\n",
    "print(my_type)\n",
    "print(num_alts)"
   ]
  },
  {
   "cell_type": "code",
   "execution_count": 6,
   "metadata": {},
   "outputs": [],
   "source": [
    "f = vcf.Reader(filename='genotypes.vcf.gz')\n",
    "\n",
    "sample_dp = defaultdict(int)\n",
    "for rec in f:\n",
    "    if not rec.is_snp or len(rec.ALT) != 1:\n",
    "        continue\n",
    "    for sample in rec.samples:\n",
    "        dp = sample['DP']\n",
    "        if dp is None:\n",
    "            dp = 0\n",
    "        dp = int(dp)\n",
    "        sample_dp[dp] += 1"
   ]
  },
  {
   "cell_type": "code",
   "execution_count": 7,
   "metadata": {},
   "outputs": [
    {
     "data": {
      "text/plain": [
       "<matplotlib.lines.Line2D at 0x7fa4cfc124a8>"
      ]
     },
     "execution_count": 7,
     "metadata": {},
     "output_type": "execute_result"
    },
    {
     "data": {
      "image/png": "[encoded data removed]",
      "text/plain": [
       "<Figure size 1152x648 with 1 Axes>"
      ]
     },
     "metadata": {},
     "output_type": "display_data"
    }
   ],
   "source": [
    "dps = list(sample_dp.keys())\n",
    "dps.sort()\n",
    "dp_dist = [sample_dp[x] for x in dps]\n",
    "fig, ax = plt.subplots(figsize=(16, 9))\n",
    "ax.plot(dp_dist[:50], 'r')\n",
    "ax.axvline(dp_dist.index(max(dp_dist)))"
   ]
  },
  {
   "cell_type": "code",
   "execution_count": null,
   "metadata": {},
   "outputs": [],
   "source": []
  }
 ],
 "metadata": {
  "kernelspec": {
   "display_name": "Python 3",
   "language": "python",
   "name": "python3"
  },
  "language_info": {
   "codemirror_mode": {
    "name": "ipython",
    "version": 3
   },
   "file_extension": ".py",
   "mimetype": "text/x-python",
   "name": "python",
   "nbconvert_exporter": "python",
   "pygments_lexer": "ipython3",
   "version": "3.5.5"
  }
 },
 "nbformat": 4,
 "nbformat_minor": 2
}
