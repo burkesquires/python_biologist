{
 "cells": [
  {
   "cell_type": "markdown",
   "metadata": {},
   "source": [
    "# Getting the necessary data"
   ]
  },
  {
   "cell_type": "markdown",
   "metadata": {},
   "source": [
    "You will need to do this only once"
   ]
  },
  {
   "cell_type": "code",
   "execution_count": null,
   "metadata": {},
   "outputs": [],
   "source": [
    "!rm -rf centro.vcf.gz 2>/dev/null\n",
    "!rm -rf standard.vcf.gz 2>/dev/null\n",
    "!tabix -fh ftp://ngs.sanger.ac.uk/production/ag1000g/phase1/preview/ag1000g.AC.phase1.AR1.vcf.gz 3L:1-200000 |bgzip -c > centro.vcf.gz\n",
    "!tabix -fh ftp://ngs.sanger.ac.uk/production/ag1000g/phase1/preview/ag1000g.AC.phase1.AR1.vcf.gz 3L:21000000-21200000 |bgzip -c > standard.vcf.gz       \n",
    "!tabix -p vcf centro.vcf.gz\n",
    "!tabix -p vcf standard.vcf.gz"
   ]
  },
  {
   "cell_type": "markdown",
   "metadata": {},
   "source": [
    "# Recipe"
   ]
  },
  {
   "cell_type": "code",
   "execution_count": null,
   "metadata": {},
   "outputs": [],
   "source": [
    "from collections import defaultdict\n",
    "import functools\n",
    "\n",
    "import numpy as np\n",
    "\n",
    "%matplotlib inline\n",
    "import seaborn as sns\n",
    "import matplotlib.pyplot as plt\n",
    "\n",
    "import vcf"
   ]
  },
  {
   "cell_type": "code",
   "execution_count": null,
   "metadata": {},
   "outputs": [],
   "source": [
    "def do_window(recs, size, fun):\n",
    "    start = None\n",
    "    win_res = []\n",
    "    for rec in recs:\n",
    "        if not rec.is_snp or len(rec.ALT) > 1:\n",
    "            continue\n",
    "        if start is None:\n",
    "            start = rec.POS\n",
    "        my_win = 1 + (rec.POS - start) // size\n",
    "        while len(win_res) < my_win:\n",
    "            win_res.append([])\n",
    "        win_res[my_win - 1].extend(fun(rec))\n",
    "    return win_res"
   ]
  },
  {
   "cell_type": "code",
   "execution_count": null,
   "metadata": {},
   "outputs": [],
   "source": [
    "def apply_win_funs(wins, funs):\n",
    "    fun_results = []\n",
    "    for win in wins:\n",
    "        my_funs = {}\n",
    "        for name, fun in funs.items():\n",
    "            try:\n",
    "                my_funs[name] = fun(win)\n",
    "            except:\n",
    "                my_funs[name] = None\n",
    "        fun_results.append(my_funs)\n",
    "    return fun_results"
   ]
  },
  {
   "cell_type": "code",
   "execution_count": null,
   "metadata": {},
   "outputs": [],
   "source": [
    "wins = {}\n",
    "size = 2000\n",
    "names = ['centro.vcf.gz', 'standard.vcf.gz']\n",
    "for name in names:\n",
    "    recs = vcf.Reader(filename=name)\n",
    "    wins[name] = do_window(recs, size, lambda x: [1])"
   ]
  },
  {
   "cell_type": "code",
   "execution_count": null,
   "metadata": {},
   "outputs": [],
   "source": [
    "stats = {}\n",
    "fig, ax = plt.subplots(figsize=(16, 9))\n",
    "for name, nwins in wins.items():\n",
    "    stats[name] = apply_win_funs(nwins, {'sum': sum})\n",
    "    x_lim = [i * size  for i in range(len(stats[name]))]\n",
    "    ax.plot(x_lim, [x['sum'] for x in stats[name]], label=name)\n",
    "ax.legend()\n",
    "ax.set_xlabel('Genomic location in the downloaded segment')\n",
    "ax.set_ylabel('Number of variant sites (bi-allelic SNPs)')\n",
    "fig.suptitle('Number of bi-allelic SNPs along the genome', fontsize='xx-large')"
   ]
  },
  {
   "cell_type": "code",
   "execution_count": null,
   "metadata": {},
   "outputs": [],
   "source": [
    "mq0_wins = {}\n",
    "size = 5000\n",
    "def get_sample(rec, annot, my_type):\n",
    "    #We will ignore Nones\n",
    "    res = []\n",
    "    samples = rec.samples\n",
    "    for sample in samples:\n",
    "        if sample[annot] is None:\n",
    "            continue\n",
    "        res.append(my_type(sample[annot]))\n",
    "    return res\n",
    "\n",
    "for name in names:\n",
    "    recs = vcf.Reader(filename=name)\n",
    "    mq0_wins[name] = do_window(recs, size, functools.partial(get_sample, annot='MQ0', my_type=int))"
   ]
  },
  {
   "cell_type": "code",
   "execution_count": null,
   "metadata": {},
   "outputs": [],
   "source": [
    "stats = {}\n",
    "colors = ['b', 'g']\n",
    "i = 0\n",
    "fig, ax = plt.subplots(figsize=(16, 9))\n",
    "for name, nwins in mq0_wins.items():\n",
    "    stats[name] = apply_win_funs(nwins, {'median': np.median, '75': functools.partial(np.percentile, q=95)})\n",
    "    x_lim = [j * size  for j in range(len(stats[name]))]\n",
    "    ax.plot(x_lim, [x['median'] for x in stats[name]], label=name, color=colors[i])\n",
    "    ax.plot(x_lim, [x['75'] for x in stats[name]], '--', color=colors[i])\n",
    "    i += 1\n",
    "#ax.set_ylim(0, 40)\n",
    "ax.legend()\n",
    "ax.set_xlabel('Genomic location in the downloaded segment')\n",
    "ax.set_ylabel('MQ0')\n",
    "fig.suptitle('Distribution of MQ0 along the genome', fontsize='xx-large')"
   ]
  },
  {
   "cell_type": "code",
   "execution_count": null,
   "metadata": {},
   "outputs": [],
   "source": [
    "def get_sample_relation(recs, f1, f2):\n",
    "    rel = defaultdict(int)\n",
    "    for rec in recs:\n",
    "        if not rec.is_snp:\n",
    "             continue\n",
    "        for sample in rec.samples:\n",
    "            try:\n",
    "                v1 = f1(sample)\n",
    "                v2 = f2(sample)\n",
    "                if v1 is None or v2 is None:\n",
    "                    continue  # We ignore Nones\n",
    "                rel[(v1, v2)] += 1\n",
    "                #careful with the size, floats: round?\n",
    "            except:\n",
    "                # This is outside the domain (typically None)\n",
    "                pass\n",
    "    return rel"
   ]
  },
  {
   "cell_type": "code",
   "execution_count": null,
   "metadata": {},
   "outputs": [],
   "source": [
    "rels = {}\n",
    "for name in names:\n",
    "    recs = vcf.Reader(filename=name)\n",
    "    rels[name] = get_sample_relation(recs, lambda s: 1 if s.is_het else 0, lambda s: int(s['DP']))"
   ]
  },
  {
   "cell_type": "code",
   "execution_count": null,
   "metadata": {},
   "outputs": [],
   "source": [
    "fig, ax = plt.subplots(figsize=(16, 9))\n",
    "\n",
    "def plot_hz_rel(dps, ax, ax2, name, rel):\n",
    "    frac_hz = []\n",
    "    cnt_dp = []\n",
    "    for dp in dps:\n",
    "        hz = 0.0\n",
    "        cnt = 0\n",
    "\n",
    "        for khz, kdp in rel.keys():\n",
    "            if kdp != dp:\n",
    "                continue\n",
    "            cnt += rel[(khz, dp)]\n",
    "            if khz == 1:\n",
    "                hz += rel[(khz, dp)]\n",
    "        frac_hz.append(hz / cnt)\n",
    "        cnt_dp.append(cnt)\n",
    "    ax.plot(dps, frac_hz, label=name)\n",
    "    ax2.plot(dps, cnt_dp, '--', label=name)\n",
    "\n",
    "ax2 = ax.twinx()\n",
    "for name, rel in rels.items():\n",
    "    dps = list(set([x[1] for x in rel.keys()]))\n",
    "    dps.sort()\n",
    "    plot_hz_rel(dps, ax, ax2, name, rel)\n",
    "ax.set_xlim(0, 75)\n",
    "ax.set_ylim(0, 0.2)\n",
    "ax2.set_ylabel('Quantity of calls')\n",
    "ax.set_ylabel('Fraction of Heterozygote calls')\n",
    "ax.set_xlabel('Sample Read Depth (DP)')\n",
    "ax.legend()\n",
    "fig.suptitle('Number of calls per depth and fraction of calls which are Hz',\n",
    "             fontsize='xx-large')"
   ]
  },
  {
   "cell_type": "code",
   "execution_count": null,
   "metadata": {},
   "outputs": [],
   "source": [
    "def get_variant_relation(recs, f1, f2):\n",
    "    rel = defaultdict(int)\n",
    "    for rec in recs:\n",
    "        if not rec.is_snp:\n",
    "             continue\n",
    "        try:\n",
    "            v1 = f1(rec)\n",
    "            v2 = f2(rec)\n",
    "            if v1 is None or v2 is None:\n",
    "                continue  # We ignore Nones\n",
    "            rel[(v1, v2)] += 1\n",
    "            #careful with the size, floats: round?\n",
    "        except:\n",
    "            # This is outside the domain (typically None)\n",
    "            pass\n",
    "    return rel"
   ]
  },
  {
   "cell_type": "code",
   "execution_count": null,
   "metadata": {},
   "outputs": [],
   "source": [
    "accepted_eff = ['INTERGENIC', 'INTRON', 'NON_SYNONYMOUS_CODING', 'SYNONYMOUS_CODING']\n",
    "\n",
    "def eff_to_int(rec):\n",
    "    try:\n",
    "        for annot in rec.INFO['EFF']:\n",
    "            #We use the first annotation\n",
    "            master_type = annot.split('(')[0]\n",
    "            return accepted_eff.index(master_type)\n",
    "    except ValueError:\n",
    "        return len(accepted_eff)"
   ]
  },
  {
   "cell_type": "code",
   "execution_count": null,
   "metadata": {},
   "outputs": [],
   "source": [
    "eff_mq0s = {}\n",
    "for name in names:\n",
    "    recs = vcf.Reader(filename=name)\n",
    "    eff_mq0s[name] = get_variant_relation(recs, lambda r: eff_to_int(r), lambda r: int(r.INFO['DP']))"
   ]
  },
  {
   "cell_type": "code",
   "execution_count": null,
   "metadata": {},
   "outputs": [],
   "source": [
    "fig, ax = plt.subplots(figsize=(16,9))\n",
    "name = 'standard.vcf.gz'\n",
    "bp_vals = [[] for x in range(len(accepted_eff) + 1)]\n",
    "for k, cnt in eff_mq0s[name].items():\n",
    "    my_eff, mq0 = k\n",
    "    bp_vals[my_eff].extend([mq0] * cnt)\n",
    "    #memory usage\n",
    "#print(bp_vals[-2])\n",
    "sns.boxplot(data=bp_vals, sym='', ax=ax)\n",
    "ax.set_xticklabels(accepted_eff + ['OTHER'])\n",
    "ax.set_ylabel('DP (variant)')\n",
    "fig.suptitle('Distribution of variant DP per SNP type',\n",
    "             fontsize='xx-large')"
   ]
  },
  {
   "cell_type": "code",
   "execution_count": null,
   "metadata": {},
   "outputs": [],
   "source": [
    "name = 'standard.vcf.gz'\n",
    "recs = vcf.Reader(filename=name)\n",
    "#mq0_dp = get_sample_relation(recs, lambda r: int(r['DP']), lambda r: int(r['GQ']))\n",
    "mq0_dp = get_variant_relation(recs, lambda r: int(r.INFO['DP']) // 10, lambda r: int(float(r.INFO['MQ'])* 10))"
   ]
  },
  {
   "cell_type": "code",
   "execution_count": null,
   "metadata": {},
   "outputs": [],
   "source": [
    "max0 = 0\n",
    "max1 = 0\n",
    "min0 = float('inf')\n",
    "min1 = float('inf')\n",
    "for v0, v1 in mq0_dp.keys():\n",
    "    if v0 > max0:\n",
    "        max0 = v0\n",
    "    if v1 > max1:\n",
    "        max1 = v1\n",
    "    if v0 < min0:\n",
    "        min0 = v0\n",
    "    if v1 < min1:\n",
    "        min1 = v1\n",
    "print(min0, min1, max0, max1)\n",
    "min1 = 300\n",
    "max1 = 600\n",
    "max0 = 400\n",
    "mat = np.zeros((max0 + 1, max1 - min1 + 1), dtype=np.int)\n",
    "for k, cnt in mq0_dp.items():\n",
    "    v0, v1 = k\n",
    "    if v0 > max0:\n",
    "        continue\n",
    "    if v1 < min1 or v1 > max1:\n",
    "        continue\n",
    "    mat[v0, v1 - min1] = cnt"
   ]
  },
  {
   "cell_type": "code",
   "execution_count": null,
   "metadata": {},
   "outputs": [],
   "source": [
    "from matplotlib import colors\n",
    "fig, ax = plt.subplots(figsize=(16,9))\n",
    "mtax = ax.matshow(mat, norm=colors.LogNorm(), cmap=plt.get_cmap('spring'))\n",
    "ax.set_xlabel('DP')\n",
    "ax.set_xlabel('GQ')\n",
    "cbar = fig.colorbar(mtax, orientation='vertical')"
   ]
  },
  {
   "cell_type": "code",
   "execution_count": null,
   "metadata": {},
   "outputs": [],
   "source": []
  }
 ],
 "metadata": {
  "kernelspec": {
   "display_name": "Python 3",
   "language": "python",
   "name": "python3"
  },
  "language_info": {
   "codemirror_mode": {
    "name": "ipython",
    "version": 3
   },
   "file_extension": ".py",
   "mimetype": "text/x-python",
   "name": "python",
   "nbconvert_exporter": "python",
   "pygments_lexer": "ipython3",
   "version": "3.5.5"
  }
 },
 "nbformat": 4,
 "nbformat_minor": 2
}
