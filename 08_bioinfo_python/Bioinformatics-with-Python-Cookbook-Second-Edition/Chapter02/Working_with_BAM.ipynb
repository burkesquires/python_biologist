{
 "cells": [
  {
   "cell_type": "markdown",
   "metadata": {},
   "source": [
    "# Getting the necessary data"
   ]
  },
  {
   "cell_type": "markdown",
   "metadata": {},
   "source": [
    "You just need to do this only once"
   ]
  },
  {
   "cell_type": "code",
   "execution_count": null,
   "metadata": {},
   "outputs": [],
   "source": [
    "!rm -f NA18489.chrom20.ILLUMINA.bwa.YRI.exome.20121211.bam 2>/dev/null\n",
    "!rm -f NA18489.chrom20.ILLUMINA.bwa.YRI.exome.20121211.bam.bai 2>/dev/null\n",
    "!wget ftp://ftp.1000genomes.ebi.ac.uk/vol1/ftp/phase3/data/NA18489/exome_alignment/NA18489.chrom20.ILLUMINA.bwa.YRI.exome.20121211.bam\n",
    "!wget ftp://ftp.1000genomes.ebi.ac.uk/vol1/ftp/phase3/data/NA18489/exome_alignment/NA18489.chrom20.ILLUMINA.bwa.YRI.exome.20121211.bam.bai"
   ]
  },
  {
   "cell_type": "markdown",
   "metadata": {},
   "source": [
    "# The recipe"
   ]
  },
  {
   "cell_type": "code",
   "execution_count": null,
   "metadata": {},
   "outputs": [],
   "source": [
    "#pip install pysam\n",
    "from collections import defaultdict\n",
    "\n",
    "import numpy as np\n",
    "\n",
    "%matplotlib inline\n",
    "import seaborn as sns\n",
    "import matplotlib.pyplot as plt\n",
    "\n",
    "import pysam"
   ]
  },
  {
   "cell_type": "code",
   "execution_count": null,
   "metadata": {},
   "outputs": [],
   "source": [
    "bam = pysam.AlignmentFile('NA18489.chrom20.ILLUMINA.bwa.YRI.exome.20121211.bam', 'rb')"
   ]
  },
  {
   "cell_type": "code",
   "execution_count": null,
   "metadata": {},
   "outputs": [],
   "source": [
    "headers = bam.header\n",
    "for record_type, records in headers.items():\n",
    "    print (record_type)\n",
    "    for i, record in enumerate(records):\n",
    "        if type(record) == dict:\n",
    "            print('\\t%d' % (i + 1))\n",
    "            for field, value in record.items():\n",
    "                print('\\t\\t%s\\t%s' % (field, value))\n",
    "        else:\n",
    "            print('\\t\\t%s' % record)"
   ]
  },
  {
   "cell_type": "code",
   "execution_count": null,
   "metadata": {},
   "outputs": [],
   "source": [
    "#0-based\n",
    "for rec in bam:\n",
    "    if rec.cigarstring.find('M') > -1 and rec.cigarstring.find('S') > -1 and not rec.is_unmapped and not rec.mate_is_unmapped:\n",
    "        break\n",
    "print(rec.query_name, rec.reference_id, bam.getrname(rec.reference_id), rec.reference_start, rec.reference_end)\n",
    "print(rec.cigarstring)\n",
    "print(rec.query_alignment_start, rec.query_alignment_end, rec.query_alignment_length)\n",
    "print(rec.next_reference_id, rec.next_reference_start, rec.template_length)\n",
    "print(rec.is_paired, rec.is_proper_pair, rec.is_unmapped, rec.mapping_quality)\n",
    "print(rec.query_qualities)\n",
    "print(rec.query_alignment_qualities)\n",
    "print(rec.query_sequence)"
   ]
  },
  {
   "cell_type": "code",
   "execution_count": null,
   "metadata": {},
   "outputs": [],
   "source": [
    "counts = [0] * 76\n",
    "for n, rec in enumerate(bam.fetch('20', 0, 10000000)):\n",
    "    for i in range(rec.query_alignment_start, rec.query_alignment_end):\n",
    "        counts[i] += 1\n",
    "freqs = [x / (n + 1.) for x in counts]\n",
    "fig, ax = plt.subplots(figsize=(16,9))\n",
    "ax.plot(range(1, 77), freqs)"
   ]
  },
  {
   "cell_type": "code",
   "execution_count": null,
   "metadata": {},
   "outputs": [],
   "source": [
    "phreds = defaultdict(list)\n",
    "for rec in bam.fetch('20', 0, None):\n",
    "    for i in range(rec.query_alignment_start, rec.query_alignment_end):\n",
    "        phreds[i].append(rec.query_qualities[i])"
   ]
  },
  {
   "cell_type": "code",
   "execution_count": null,
   "metadata": {},
   "outputs": [],
   "source": [
    "maxs = [max(phreds[i]) for i in range(76)]\n",
    "tops = [np.percentile(phreds[i], 95) for i in range(76)]\n",
    "medians = [np.percentile(phreds[i], 50) for i in range(76)]\n",
    "bottoms = [np.percentile(phreds[i], 5) for i in range(76)]\n",
    "medians_fig = [x - y for x, y in zip(medians, bottoms)]\n",
    "tops_fig = [x - y for x, y in zip(tops, medians)]\n",
    "maxs_fig = [x - y for x, y in zip(maxs, tops)]"
   ]
  },
  {
   "cell_type": "code",
   "execution_count": null,
   "metadata": {},
   "outputs": [],
   "source": [
    "fig, ax = plt.subplots(figsize=(16,9))\n",
    "ax.stackplot(range(1, 77), (bottoms, medians_fig, tops_fig, maxs_fig))\n",
    "ax.plot(range(1, 77), maxs, 'k-')"
   ]
  },
  {
   "cell_type": "code",
   "execution_count": null,
   "metadata": {},
   "outputs": [],
   "source": []
  }
 ],
 "metadata": {
  "kernelspec": {
   "display_name": "Python 3",
   "language": "python",
   "name": "python3"
  },
  "language_info": {
   "codemirror_mode": {
    "name": "ipython",
    "version": 3
   },
   "file_extension": ".py",
   "mimetype": "text/x-python",
   "name": "python",
   "nbconvert_exporter": "python",
   "pygments_lexer": "ipython3",
   "version": "3.5.5"
  }
 },
 "nbformat": 4,
 "nbformat_minor": 2
}
