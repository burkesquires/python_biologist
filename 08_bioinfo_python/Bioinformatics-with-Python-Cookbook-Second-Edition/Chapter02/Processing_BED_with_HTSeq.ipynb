{
 "cells": [
  {
   "cell_type": "code",
   "execution_count": null,
   "metadata": {},
   "outputs": [],
   "source": [
    "from collections import defaultdict\n",
    "import re\n",
    "import HTSeq"
   ]
  },
  {
   "cell_type": "code",
   "execution_count": null,
   "metadata": {},
   "outputs": [],
   "source": [
    "lct_bed = HTSeq.BED_Reader('LCT.bed')"
   ]
  },
  {
   "cell_type": "code",
   "execution_count": null,
   "metadata": {},
   "outputs": [],
   "source": [
    "feature_types = defaultdict(int)\n",
    "\n",
    "for rec in lct_bed:\n",
    "    last_rec = rec\n",
    "    feature_types[re.search('([A-Z]+)', rec.name).group(0)] += 1\n",
    "\n",
    "print(feature_types)\n",
    "\n",
    "#Code specific to this dataset, document"
   ]
  },
  {
   "cell_type": "code",
   "execution_count": null,
   "metadata": {},
   "outputs": [],
   "source": [
    "print(last_rec)\n",
    "print(last_rec.name)\n",
    "print(type(last_rec))\n",
    "interval = last_rec.iv\n",
    "print(interval)\n",
    "print(type(interval))"
   ]
  },
  {
   "cell_type": "code",
   "execution_count": null,
   "metadata": {},
   "outputs": [],
   "source": [
    "print(interval.chrom, interval.start, interval.end)\n",
    "print(interval.strand)\n",
    "print(interval.length)\n",
    "print(interval.start_d)\n",
    "print(interval.start_as_pos)\n",
    "print(type(interval.start_as_pos))\n",
    "\n",
    "#talk about overlaps\n"
   ]
  },
  {
   "cell_type": "code",
   "execution_count": null,
   "metadata": {},
   "outputs": [],
   "source": [
    "exon_start = None\n",
    "exon_end = None\n",
    "sizes = []\n",
    "for rec in lct_bed:\n",
    "    if not rec.name.startswith('CCDS'):\n",
    "        continue\n",
    "    interval = rec.iv\n",
    "    exon_start = min(interval.start, exon_start or interval.start)\n",
    "    exon_end = max(interval.length, exon_end or interval.end)\n",
    "    sizes.append(interval.length)\n",
    "sizes.sort()\n",
    "print(\"Num exons: %d / Begin: %d / End %d\" % (len(sizes), exon_start, exon_end))\n",
    "print(\"Smaller exon: %d / Larger exon: %d / Mean size: %.1f\" % (sizes[0], sizes[-1], sum(sizes)/len(sizes)))"
   ]
  }
 ],
 "metadata": {
  "kernelspec": {
   "display_name": "Python 3",
   "language": "python",
   "name": "python3"
  },
  "language_info": {
   "codemirror_mode": {
    "name": "ipython",
    "version": 3
   },
   "file_extension": ".py",
   "mimetype": "text/x-python",
   "name": "python",
   "nbconvert_exporter": "python",
   "pygments_lexer": "ipython3",
   "version": "3.6.6"
  }
 },
 "nbformat": 4,
 "nbformat_minor": 2
}
