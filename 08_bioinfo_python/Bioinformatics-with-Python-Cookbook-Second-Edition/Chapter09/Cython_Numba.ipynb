{
 "cells": [
  {
   "cell_type": "code",
   "execution_count": null,
   "metadata": {},
   "outputs": [],
   "source": [
    "import math\n",
    "\n",
    "%load_ext Cython\n",
    "\n",
    "from Bio import PDB"
   ]
  },
  {
   "cell_type": "code",
   "execution_count": null,
   "metadata": {},
   "outputs": [],
   "source": [
    "#XXX\n",
    "repository = PDB.PDBList()\n",
    "parser = PDB.PDBParser()\n",
    "repository.retrieve_pdb_file('1TUP', pdir='.', file_format='pdb')\n",
    "p53_1tup = parser.get_structure('P 53', 'pdb1tup.ent')"
   ]
  },
  {
   "cell_type": "code",
   "execution_count": null,
   "metadata": {},
   "outputs": [],
   "source": [
    "def get_distance(atoms):\n",
    "    atoms = list(atoms)  # not great\n",
    "    natoms = len(atoms)\n",
    "    for i in range(natoms - 1):\n",
    "        xi, yi, zi = atoms[i].coord\n",
    "        for j in range(i + 1, natoms):\n",
    "            xj, yj, zj = atoms[j].coord\n",
    "            my_dist = math.sqrt((xi - xj)**2 + (yi - yj)**2 + (zi - zj)**2) "
   ]
  },
  {
   "cell_type": "code",
   "execution_count": null,
   "metadata": {},
   "outputs": [],
   "source": [
    "%time get_distance(p53_1tup.get_atoms())\n",
    "#XXX time, not timeit"
   ]
  },
  {
   "cell_type": "code",
   "execution_count": null,
   "metadata": {},
   "outputs": [],
   "source": [
    "%%cython\n",
    "import math\n",
    "def get_distance_cython_0(atoms):\n",
    "    atoms = list(atoms)\n",
    "    natoms = len(atoms)\n",
    "    for i in range(natoms - 1):\n",
    "        xi, yi, zi = atoms[i].coord\n",
    "        for j in range(i + 1, natoms):\n",
    "            xj, yj, zj = atoms[j].coord\n",
    "            my_dist = math.sqrt((xi - xj)**2 + (yi - yj)**2 + (zi - zj)**2) "
   ]
  },
  {
   "cell_type": "code",
   "execution_count": null,
   "metadata": {},
   "outputs": [],
   "source": [
    "%time get_distance_cython_0(p53_1tup.get_atoms())"
   ]
  },
  {
   "cell_type": "code",
   "execution_count": null,
   "metadata": {},
   "outputs": [],
   "source": [
    "%%cython\n",
    "cimport cython\n",
    "from libc.math cimport sqrt, pow\n",
    "\n",
    "cdef double get_dist_cython(double xi, double yi, double zi,\n",
    "                     double xj, double yj, double zj):\n",
    "    return sqrt(pow(xi - xj, 2) + pow(yi - yj, 2) + pow(zi - zj, 2))\n",
    "\n",
    "def get_distance_cython_1(object atoms):\n",
    "    natoms = len(atoms)\n",
    "    cdef double x1, xj, yi, yj, zi, zj\n",
    "    for i in range(natoms - 1):\n",
    "        xi, yi, zi = atoms[i]\n",
    "        for j in range(i + 1, natoms):\n",
    "            xj, yj, zj = atoms[j]\n",
    "            my_dist = get_dist_cython(xi, yi, zi, xj, yj, zj)"
   ]
  },
  {
   "cell_type": "code",
   "execution_count": null,
   "metadata": {},
   "outputs": [],
   "source": [
    "%timeit get_distance_cython_1([atom.coord for atom in p53_1tup.get_atoms()])"
   ]
  },
  {
   "cell_type": "markdown",
   "metadata": {},
   "source": [
    "## Numba"
   ]
  },
  {
   "cell_type": "code",
   "execution_count": null,
   "metadata": {},
   "outputs": [],
   "source": [
    "from numba import float_\n",
    "from numba.decorators import jit"
   ]
  },
  {
   "cell_type": "code",
   "execution_count": null,
   "metadata": {},
   "outputs": [],
   "source": [
    "get_distance_numba_0 = jit(get_distance)"
   ]
  },
  {
   "cell_type": "code",
   "execution_count": null,
   "metadata": {},
   "outputs": [],
   "source": [
    "%time get_distance_numba_0(p53_1tup.get_atoms())"
   ]
  },
  {
   "cell_type": "code",
   "execution_count": null,
   "metadata": {},
   "outputs": [],
   "source": [
    "@jit\n",
    "def get_dist_numba(xi, yi, zi, xj, yj, zj):\n",
    "    return math.sqrt((xi - xj)**2 + (yi - yj)**2 + (zi - zj)**2) \n",
    "\n",
    "def get_distance_numba_1(atoms):\n",
    "    natoms = len(atoms)\n",
    "    for i in range(natoms - 1):\n",
    "        xi, yi, zi = atoms[i]\n",
    "        for j in range(i + 1, natoms):\n",
    "            xj, yj, zj = atoms[j]\n",
    "            my_dist = get_dist_numba(xi, yi, zi, xj, yj, zj)"
   ]
  },
  {
   "cell_type": "code",
   "execution_count": null,
   "metadata": {},
   "outputs": [],
   "source": [
    "%timeit get_distance_numba_1([atom.coord for atom in p53_1tup.get_atoms()])"
   ]
  },
  {
   "cell_type": "code",
   "execution_count": null,
   "metadata": {},
   "outputs": [],
   "source": []
  }
 ],
 "metadata": {
  "kernelspec": {
   "display_name": "Python 3",
   "language": "python",
   "name": "python3"
  },
  "language_info": {
   "codemirror_mode": {
    "name": "ipython",
    "version": 3
   },
   "file_extension": ".py",
   "mimetype": "text/x-python",
   "name": "python",
   "nbconvert_exporter": "python",
   "pygments_lexer": "ipython3",
   "version": "3.6.5"
  }
 },
 "nbformat": 4,
 "nbformat_minor": 1
}
