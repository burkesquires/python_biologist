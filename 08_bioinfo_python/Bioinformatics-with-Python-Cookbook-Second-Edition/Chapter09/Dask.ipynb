{
 "cells": [
  {
   "cell_type": "code",
   "execution_count": null,
   "metadata": {},
   "outputs": [],
   "source": [
    "#!wget -c ftp://ngs.sanger.ac.uk/production/ag1000g/phase1/AR3/variation/main/hdf5/ag1000g.phase1.ar3.pass.3L.h5\n"
   ]
  },
  {
   "cell_type": "code",
   "execution_count": null,
   "metadata": {},
   "outputs": [],
   "source": [
    "from multiprocessing.pool import Pool\n",
    "from math import ceil\n",
    "\n",
    "import numpy as np\n",
    "\n",
    "import h5py\n",
    "\n",
    "import dask\n",
    "import dask.array as da\n",
    "import dask.multiprocessing\n",
    "dask.__version__"
   ]
  },
  {
   "cell_type": "code",
   "execution_count": null,
   "metadata": {},
   "outputs": [],
   "source": [
    "h5_3L = h5py.File('ag1000g.phase1.ar3.pass.3L.h5', 'r')\n",
    "samples = h5_3L['/3L/samples']\n",
    "positions = h5_3L['/3L/variants/POS']\n",
    "num_samples = len(samples)\n",
    "del samples"
   ]
  },
  {
   "cell_type": "code",
   "execution_count": null,
   "metadata": {},
   "outputs": [],
   "source": [
    "window_size = 50000\n",
    "last_position = positions[-1]\n",
    "num_windows = ceil(last_position / window_size)\n",
    "limits = np.full((num_windows, 2), -1)\n",
    "curr_window = positions[0] // window_size\n",
    "limits[curr_window][0] = 0\n",
    "for index, position in enumerate(positions):\n",
    "    my_window = position // window_size\n",
    "    if index % 1000000 == 0:\n",
    "        print(index, position)\n",
    "    if my_window != curr_window:\n",
    "        limits[my_window, 0] = index\n",
    "        limits[curr_window, 1] = index - 1\n",
    "        curr_window = my_window\n",
    "limits[num_windows - 1, 1] = len(positions)"
   ]
  },
  {
   "cell_type": "code",
   "execution_count": null,
   "metadata": {},
   "outputs": [],
   "source": [
    "limits = da.from_array(limits, chunks=(60, 2))"
   ]
  },
  {
   "cell_type": "code",
   "execution_count": null,
   "metadata": {},
   "outputs": [],
   "source": [
    "print(limits[0], limits[-1])"
   ]
  },
  {
   "cell_type": "code",
   "execution_count": null,
   "metadata": {},
   "outputs": [],
   "source": [
    "print(positions[-1] // window_size, num_windows)"
   ]
  },
  {
   "cell_type": "code",
   "execution_count": null,
   "metadata": {},
   "outputs": [],
   "source": [
    "h5_3L.close()\n",
    "del h5_3L, positions"
   ]
  },
  {
   "cell_type": "code",
   "execution_count": null,
   "metadata": {},
   "outputs": [],
   "source": [
    "def get_hdf5():\n",
    "    global calldata_genotype, alt_alleles, is_snp, num_samples\n",
    "    \n",
    "    try:\n",
    "        calldata_genotype\n",
    "    except NameError:\n",
    "        import os\n",
    "        print('Open', os.getpid())\n",
    "        h5_3L = h5py.File('ag1000g.phase1.ar3.pass.3L.h5', 'r')\n",
    "        samples = h5_3L['/3L/samples']\n",
    "        calldata_genotype = h5_3L['/3L/calldata/genotype']\n",
    "        alt_alleles = h5_3L['/3L/variants/ALT']\n",
    "        is_snp = h5_3L['/3L/variants/is_snp']\n",
    "    \n",
    "    return calldata_genotype, is_snp, alt_alleles, num_samples\n",
    "    \n",
    "@da.as_gufunc(signature=\"(i)->()\", output_dtypes=dict, vectorize=True)\n",
    "def calc_statistics(v):\n",
    "    calldata_genotype, is_snp, alt_alleles, num_samples = get_hdf5()\n",
    "    start, end = v[0], v[1]\n",
    "    min_maf = 0.5\n",
    "    max_maf = 0.0\n",
    "    non_bi = 0\n",
    "    missing = 0\n",
    "    non_snp = 0\n",
    "    print(v)\n",
    "    for pos in range(start, end + 1):\n",
    "        if not is_snp[pos]:\n",
    "            non_snp += 1\n",
    "            continue\n",
    "        if np.max(calldata_genotype[pos]) > 1:  \n",
    "               non_bi += 1\n",
    "               continue\n",
    "        if np.min(calldata_genotype[pos]) < 0:  \n",
    "               missing += 1\n",
    "               continue\n",
    "        num_alt = np.sum(calldata_genotype[pos])  # Because they are coded as 1\n",
    "        num_ref = num_samples * 2 - num_alt  # (because all are called)\n",
    "        min_called = min(num_ref, num_alt)\n",
    "        maf = min_called / (2 * num_samples)\n",
    "        if maf < min_maf:\n",
    "            min_maf = maf\n",
    "        if maf > max_maf:\n",
    "            max_maf = maf\n",
    "    return {'total': end - start + 1, 'missing': missing,\n",
    "            'non_snp': non_snp, 'non_bi': non_bi,\n",
    "            'min_maf': min_maf, 'max_maf': max_maf}"
   ]
  },
  {
   "cell_type": "code",
   "execution_count": null,
   "metadata": {},
   "outputs": [],
   "source": [
    "stats = None\n",
    "with dask.config.set(scheduler='multiprocessing'):\n",
    "    stats = calc_statistics(limits).compute()"
   ]
  },
  {
   "cell_type": "code",
   "execution_count": null,
   "metadata": {},
   "outputs": [],
   "source": [
    "limits[0,0].compute()"
   ]
  },
  {
   "cell_type": "code",
   "execution_count": null,
   "metadata": {},
   "outputs": [],
   "source": [
    "limits[0]"
   ]
  },
  {
   "cell_type": "code",
   "execution_count": null,
   "metadata": {},
   "outputs": [],
   "source": [
    "#persist"
   ]
  },
  {
   "cell_type": "code",
   "execution_count": null,
   "metadata": {},
   "outputs": [],
   "source": [
    "stats"
   ]
  },
  {
   "cell_type": "code",
   "execution_count": null,
   "metadata": {},
   "outputs": [],
   "source": [
    "\n",
    "#dask.config.set(scheduler='synchronous')\n",
    "#dask.config.set(scheduler='threads')\n"
   ]
  }
 ],
 "metadata": {
  "kernelspec": {
   "display_name": "Python 3",
   "language": "python",
   "name": "python3"
  },
  "language_info": {
   "codemirror_mode": {
    "name": "ipython",
    "version": 3
   },
   "file_extension": ".py",
   "mimetype": "text/x-python",
   "name": "python",
   "nbconvert_exporter": "python",
   "pygments_lexer": "ipython3",
   "version": "3.6.5"
  }
 },
 "nbformat": 4,
 "nbformat_minor": 2
}
