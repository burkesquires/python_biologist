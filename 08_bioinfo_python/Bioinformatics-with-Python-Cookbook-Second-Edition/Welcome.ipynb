{
 "cells": [
  {
   "cell_type": "markdown",
   "metadata": {},
   "source": [
    "# Python for Bioinformatics"
   ]
  },
  {
   "cell_type": "markdown",
   "metadata": {},
   "source": [
    "Put book details here"
   ]
  },
  {
   "cell_type": "markdown",
   "metadata": {},
   "source": [
    "## Datasets"
   ]
  },
  {
   "cell_type": "markdown",
   "metadata": {},
   "source": [
    "[Click here for the datasets used in the book](Datasets.ipynb). You only need this if you do _not_ use the notebooks (as the notebooks will take care of the data)"
   ]
  },
  {
   "cell_type": "markdown",
   "metadata": {},
   "source": [
    "<div align=\"center\">\n",
    "<h3 style=\"border-color: red; border-style: solid; width: 50%; text-align: center\">If you are seeing this on github,for some reason opening notebooks in new tabs does not work. Please open notebooks in the same tab here.</h3>\n",
    "</div>"
   ]
  },
  {
   "cell_type": "markdown",
   "metadata": {},
   "source": [
    "## Python and the surrounding software ecology"
   ]
  },
  {
   "cell_type": "markdown",
   "metadata": {},
   "source": [
    "![example](Chapter01/example.png)\n",
    "\n",
    "* [Interfacing with R](Chapter01/Interfacing_R.ipynb)\n",
    "* [R Magic](Chapter01/R_magic.ipynb)"
   ]
  },
  {
   "cell_type": "markdown",
   "metadata": {},
   "source": [
    "## Next Generation Sequencing"
   ]
  },
  {
   "cell_type": "markdown",
   "metadata": {},
   "source": [
    "![example](Chapter02/example.png)\n",
    "\n",
    "* [Accessing Databases](Chapter02/Accessing_Databases.ipynb)\n",
    "* [Basic Sequence Processing](Chapter02/Basic_Sequence_Processing.ipynb)\n",
    "* [Working with FASTQ files](Chapter02/Working_with_FASTQ.ipynb)\n",
    "* [Working with BAM files](Chapter02/Working_with_BAM.ipynb)\n",
    "* [Working with VCF files](Chapter02/Working_with_VCF.ipynb)\n",
    "* [Filtering SNPs](Chapter02/Filtering_SNPs.ipynb)"
   ]
  },
  {
   "cell_type": "markdown",
   "metadata": {},
   "source": [
    "## Genomics"
   ]
  },
  {
   "cell_type": "markdown",
   "metadata": {},
   "source": [
    "![example](Chapter03/example.png)\n",
    "\n",
    "* [Working with high-quality reference genomes](Chapter03/Reference_Genome.ipynb)\n",
    "* [Dealing with low-quality Reference Genomes](Chapter03/Low_Quality.ipynb)\n",
    "* [Traversing Genome Annotations](Chapter03/Annotations.ipynb)\n",
    "* [Extracting Genes from a reference using annotations](Chapter03/Getting_Gene.ipynb)\n",
    "* [Finding orthologues with the Ensembl REST API](Chapter03/Orthology.ipynb)\n",
    "* [Retrieving Gene Ontology information from Ensembl](Chapter03/Gene_Ontology.ipynb)"
   ]
  },
  {
   "cell_type": "markdown",
   "metadata": {},
   "source": [
    "## Population Genetics"
   ]
  },
  {
   "cell_type": "markdown",
   "metadata": {},
   "source": [
    "![example](Chapter04/example.png)\n",
    "\n",
    "* [Data Formats with PLINK](Chapter04/Data_Formats.ipynb)\n",
    "* [The Genepop Format](Chapter04/Genepop_Format.ipynb)\n",
    "* [Exploratory Analysis](Chapter04/Exploratory_Analysis.ipynb)\n",
    "* [F statistics](Chapter04/F-stats.ipynb)\n",
    "* [Principal Components Analysis (PCA)](Chapter04/PCA.ipynb)\n",
    "* [Admixture/Structure](Chapter04/Admixture.ipynb)\n"
   ]
  },
  {
   "cell_type": "markdown",
   "metadata": {},
   "source": [
    "## Simulation in Population Genetics"
   ]
  },
  {
   "cell_type": "markdown",
   "metadata": {},
   "source": [
    "![example](Chapter05/example.png)\n",
    "\n",
    "* [Introducing Forward-time simulations](Chapter05/Basic_SimuPOP.ipynb)\n",
    "* [Simulating selection](Chapter05/Selection.ipynb)\n",
    "* [Doing population structure with island and stepping-stone models](Chapter05/Pop_Structure.ipynb)\n",
    "* [Modeling complex demographic scenarios](Chapter05/Complex.ipynb)\n"
   ]
  },
  {
   "cell_type": "markdown",
   "metadata": {},
   "source": [
    "## Phylogenetics\n",
    "\n",
    "Note: image to be changed"
   ]
  },
  {
   "cell_type": "markdown",
   "metadata": {},
   "source": [
    "![example](Chapter06/example.png)\n",
    "\n",
    "* [Preparing the Ebola dataset](Chapter06/Exploration.ipynb)\n",
    "* [Aligning genetic and genomic data](Chapter06/Alignment.ipynb)\n",
    "* [Comparing sequences](Chapter06/Comparison.ipynb)\n",
    "* [Reconstructing Phylogenetic trees](Chapter06/Reconstruction.ipynb)\n",
    "* [Playing recursively with trees](Chapter06/Trees.ipynb)\n",
    "* [Visualizing Phylogenetic data](Chapter06/Visualization.ipynb)\n"
   ]
  },
  {
   "cell_type": "markdown",
   "metadata": {},
   "source": [
    "## Proteomics"
   ]
  },
  {
   "cell_type": "markdown",
   "metadata": {},
   "source": [
    "![example](Chapter07/example.png)\n",
    "\n",
    "* [Finding a protein in multiple databases](Chapter07/Intro.ipynb)\n",
    "* [Introducing Bio.PDB](Chapter07/PDB.ipynb)\n",
    "* [Extracting more information from a PDB file](Chapter07/Stats.ipynb)\n",
    "* [Computing distances on a PDB file](Chapter07/Distance.ipynb)\n",
    "* [Doing geometric operations](Chapter07/Mass.ipynb)\n",
    "* [Implementing a basic PDB parser](Chapter07/Parser.ipynb)\n",
    "* [Parsing mmCIF files with Biopython](Chapter07/mmCIF.ipynb)\n",
    "\n",
    "The code for the PyMol recipe can be found on the pymol directory of the [github project](https://github.com/PacktPublishing/Bioinformatics-with-Python-Cookbook-Second-Edition)"
   ]
  },
  {
   "cell_type": "markdown",
   "metadata": {},
   "source": [
    "## Advanced Python for Bioinformatics"
   ]
  },
  {
   "cell_type": "markdown",
   "metadata": {},
   "source": [
    "* [Setting the stage for high performance computing](08_Advanced/Intro.ipynb)\n",
    "* [Designing a poor-human concurrent executor](08_Advanced/Multiprocessing.ipynb)\n",
    "* [Doing parallel computing with IPython](08_Advanced/IPythonParallel.ipynb)\n",
    "* [Approximating the median in a large dataset](08_Advanced/Median.ipynb)\n",
    "* [Optimizing code with Cython and Numba](Chapter09/Cython_Numba.ipynb)\n",
    "* [Programming with lazyness](08_Advanced/Lazy.ipynb)\n",
    "* [Thinking with generators](08_Advanced/Generators.ipynb)\n"
   ]
  },
  {
   "cell_type": "markdown",
   "metadata": {},
   "source": [
    "## Other topics"
   ]
  },
  {
   "cell_type": "markdown",
   "metadata": {},
   "source": [
    "![example](Chapter10/example.png)\n",
    "\n",
    "* [Inferring shared chromosomal segments with Germline](Chapter10/Germline.ipynb)\n",
    "* [Accessing the Global Biodiversity Information Facility (GBIF) via REST](Chapter10/GBIF.ipynb)\n",
    "* [Geo-referencing GBIF datasets](Chapter10/GBIF_extra.ipynb)\n",
    "* [Plotting protein interactions with Cytoscape the hard way](Chapter10/Cytoscape.ipynb)"
   ]
  },
  {
   "cell_type": "code",
   "execution_count": null,
   "metadata": {},
   "outputs": [],
   "source": []
  }
 ],
 "metadata": {
  "kernelspec": {
   "display_name": "Python 3 (ipykernel)",
   "language": "python",
   "name": "python3"
  },
  "language_info": {
   "codemirror_mode": {
    "name": "ipython",
    "version": 3
   },
   "file_extension": ".py",
   "mimetype": "text/x-python",
   "name": "python",
   "nbconvert_exporter": "python",
   "pygments_lexer": "ipython3",
   "version": "3.8.12"
  }
 },
 "nbformat": 4,
 "nbformat_minor": 4
}
