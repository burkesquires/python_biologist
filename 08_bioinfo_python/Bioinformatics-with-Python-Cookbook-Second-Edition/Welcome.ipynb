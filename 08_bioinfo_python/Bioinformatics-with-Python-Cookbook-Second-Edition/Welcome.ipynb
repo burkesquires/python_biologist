{
 "cells": [
  {
   "cell_type": "markdown",
   "metadata": {},
   "source": [
    "# Python for Bioinformatics"
   ]
  },
  {
   "cell_type": "markdown",
   "metadata": {},
   "source": [
    "Put book details here"
   ]
  },
  {
   "cell_type": "markdown",
   "metadata": {},
   "source": [
    "## Datasets"
   ]
  },
  {
   "cell_type": "markdown",
   "metadata": {},
   "source": [
    "[Click here for the datasets used in the book](Datasets.ipynb). You only need this if you do _not_ use the notebooks (as the notebooks will take care of the data)"
   ]
  },
  {
   "cell_type": "markdown",
   "metadata": {},
   "source": [
    "<div align=\"center\">\n",
    "<h3 style=\"border-color: red; border-style: solid; width: 50%; text-align: center\">If you are seeing this on github,for some reason opening notebooks in new tabs does not work. Please open notebooks in the same tab here.</h3>\n",
    "</div>"
   ]
  },
  {
   "cell_type": "markdown",
   "metadata": {},
   "source": [
    "## Python and the surrounding software ecology"
   ]
  },
  {
   "cell_type": "markdown",
   "metadata": {},
   "source": [
    "![example](00_Intro/example.png)\n",
    "\n",
    "* [Interfacing with R](00_Intro/Interfacing_R.ipynb)\n",
    "* [R Magic](00_Intro/R_magic.ipynb)"
   ]
  },
  {
   "cell_type": "markdown",
   "metadata": {},
   "source": [
    "## Next Generation Sequencing"
   ]
  },
  {
   "cell_type": "markdown",
   "metadata": {},
   "source": [
    "![example](01_NGS/example.png)\n",
    "\n",
    "* [Accessing Databases](01_NGS/Accessing_Databases.ipynb)\n",
    "* [Basic Sequence Processing](01_NGS/Basic_Sequence_Processing.ipynb)\n",
    "* [Working with FASTQ files](01_NGS/Working_with_FASTQ.ipynb)\n",
    "* [Working with BAM files](01_NGS/Working_with_BAM.ipynb)\n",
    "* [Working with VCF files](01_NGS/Working_with_VCF.ipynb)\n",
    "* [Filtering SNPs](01_NGS/Filtering_SNPs.ipynb)"
   ]
  },
  {
   "cell_type": "markdown",
   "metadata": {},
   "source": [
    "## Genomics"
   ]
  },
  {
   "cell_type": "markdown",
   "metadata": {},
   "source": [
    "![example](02_Genomes/example.png)\n",
    "\n",
    "* [Working with high-quality reference genomes](02_Genomes/Reference_Genome.ipynb)\n",
    "* [Dealing with low-quality Reference Genomes](02_Genomes/Low_Quality.ipynb)\n",
    "* [Traversing Genome Annotations](02_Genomes/Annotations.ipynb)\n",
    "* [Extracting Genes from a reference using annotations](02_Genomes/Getting_Gene.ipynb)\n",
    "* [Finding orthologues with the Ensembl REST API](02_Genomes/Orthology.ipynb)\n",
    "* [Retrieving Gene Ontology information from Ensembl](02_Genomes/Gene_Ontology.ipynb)"
   ]
  },
  {
   "cell_type": "markdown",
   "metadata": {},
   "source": [
    "## Population Genetics"
   ]
  },
  {
   "cell_type": "markdown",
   "metadata": {},
   "source": [
    "![example](03_PopGen/example.png)\n",
    "\n",
    "* [Data Formats with PLINK](03_PopGen/Data_Formats.ipynb)\n",
    "* [The Genepop Format](03_PopGen/Genepop_Format.ipynb)\n",
    "* [Exploratory Analysis](03_PopGen/Exploratory_Analysis.ipynb)\n",
    "* [F statistics](03_PopGen/F-stats.ipynb)\n",
    "* [Principal Components Analysis (PCA)](03_PopGen/PCA.ipynb)\n",
    "* [Admixture/Structure](03_PopGen/Admixture.ipynb)\n"
   ]
  },
  {
   "cell_type": "markdown",
   "metadata": {},
   "source": [
    "## Simulation in Population Genetics"
   ]
  },
  {
   "cell_type": "markdown",
   "metadata": {},
   "source": [
    "![example](04_PopSim/example.png)\n",
    "\n",
    "* [Introducing Forward-time simulations](04_PopSim/Basic_SimuPOP.ipynb)\n",
    "* [Simulating selection](04_PopSim/Selection.ipynb)\n",
    "* [Doing population structure with island and stepping-stone models](04_PopSim/Pop_Structure.ipynb)\n",
    "* [Modeling complex demographic scenarios](04_PopSim/Complex.ipynb)\n"
   ]
  },
  {
   "cell_type": "markdown",
   "metadata": {},
   "source": [
    "## Phylogenetics\n",
    "\n",
    "Note: image to be changed"
   ]
  },
  {
   "cell_type": "markdown",
   "metadata": {},
   "source": [
    "![example](05_Phylo/example.png)\n",
    "\n",
    "* [Preparing the Ebola dataset](05_Phylo/Exploration.ipynb)\n",
    "* [Aligning genetic and genomic data](05_Phylo/Alignment.ipynb)\n",
    "* [Comparing sequences](05_Phylo/Comparison.ipynb)\n",
    "* [Reconstructing Phylogenetic trees](05_Phylo/Reconstruction.ipynb)\n",
    "* [Playing recursively with trees](05_Phylo/Trees.ipynb)\n",
    "* [Visualizing Phylogenetic data](05_Phylo/Visualization.ipynb)\n"
   ]
  },
  {
   "cell_type": "markdown",
   "metadata": {},
   "source": [
    "## Proteomics"
   ]
  },
  {
   "cell_type": "markdown",
   "metadata": {},
   "source": [
    "![example](06_Prot/example.png)\n",
    "\n",
    "* [Finding a protein in multiple databases](06_Prot/Intro.ipynb)\n",
    "* [Introducing Bio.PDB](06_Prot/PDB.ipynb)\n",
    "* [Extracting more information from a PDB file](06_Prot/Stats.ipynb)\n",
    "* [Computing distances on a PDB file](06_Prot/Distance.ipynb)\n",
    "* [Doing geometric operations](06_Prot/Mass.ipynb)\n",
    "* [Implementing a basic PDB parser](06_Prot/Parser.ipynb)\n",
    "* [Parsing mmCIF files with Biopython](06_Prot/mmCIF.ipynb)\n",
    "\n",
    "The code for the PyMol recipe can be found on the pymol directory of the [github project](https://github.com/PacktPublishing/Bioinformatics-with-Python-Cookbook-Second-Edition)"
   ]
  },
  {
   "cell_type": "markdown",
   "metadata": {},
   "source": [
    "## Advanced Python for Bioinformatics"
   ]
  },
  {
   "cell_type": "markdown",
   "metadata": {},
   "source": [
    "* [Setting the stage for high performance computing](08_Advanced/Intro.ipynb)\n",
    "* [Designing a poor-human concurrent executor](08_Advanced/Multiprocessing.ipynb)\n",
    "* [Doing parallel computing with IPython](08_Advanced/IPythonParallel.ipynb)\n",
    "* [Approximating the median in a large dataset](08_Advanced/Median.ipynb)\n",
    "* [Optimizing code with Cython and Numba](08_Advanced/Cython_Numba.ipynb)\n",
    "* [Programming with lazyness](08_Advanced/Lazy.ipynb)\n",
    "* [Thinking with generators](08_Advanced/Generators.ipynb)\n"
   ]
  },
  {
   "cell_type": "markdown",
   "metadata": {},
   "source": [
    "## Other topics"
   ]
  },
  {
   "cell_type": "markdown",
   "metadata": {},
   "source": [
    "![example](09_Other/example.png)\n",
    "\n",
    "* [Inferring shared chromosomal segments with Germline](09_Other/Germline.ipynb)\n",
    "* [Accessing the Global Biodiversity Information Facility (GBIF) via REST](09_Other/GBIF.ipynb)\n",
    "* [Geo-referencing GBIF datasets](09_Other/GBIF_extra.ipynb)\n",
    "* [Plotting protein interactions with Cytoscape the hard way](09_Other/Cytoscape.ipynb)"
   ]
  },
  {
   "cell_type": "code",
   "execution_count": null,
   "metadata": {},
   "outputs": [],
   "source": []
  }
 ],
 "metadata": {
  "kernelspec": {
   "display_name": "Python 3",
   "language": "python",
   "name": "python3"
  },
  "language_info": {
   "codemirror_mode": {
    "name": "ipython",
    "version": 3
   },
   "file_extension": ".py",
   "mimetype": "text/x-python",
   "name": "python",
   "nbconvert_exporter": "python",
   "pygments_lexer": "ipython3",
   "version": "3.5.5"
  }
 },
 "nbformat": 4,
 "nbformat_minor": 2
}
