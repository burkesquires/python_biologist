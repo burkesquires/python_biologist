{
 "cells": [
  {
   "cell_type": "code",
   "execution_count": null,
   "metadata": {},
   "outputs": [],
   "source": [
    "import random\n",
    "import matplotlib.pyplot as plt\n",
    "%matplotlib inline"
   ]
  },
  {
   "cell_type": "markdown",
   "metadata": {},
   "source": [
    "# Mendelian simulations"
   ]
  },
  {
   "cell_type": "code",
   "execution_count": null,
   "metadata": {},
   "outputs": [],
   "source": [
    "num_sims = 100000\n",
    "num_ofs = 20"
   ]
  },
  {
   "cell_type": "code",
   "execution_count": null,
   "metadata": {},
   "outputs": [],
   "source": [
    "num_hets_AA_AT = []\n",
    "for sim in range(num_sims):\n",
    "    sim_hets = 0\n",
    "    for ofs in range(20):\n",
    "        sim_hets += 1 if random.choice([0, 1]) == 1 else 0\n",
    "    num_hets_AA_AT.append(sim_hets)\n",
    "    \n",
    "fig, ax = plt.subplots(1,1, figsize=(16,9))\n",
    "ax.hist(num_hets_AA_AT, bins=range(20))\n",
    "print(len([num_hets for num_hets in num_hets_AA_AT if num_hets==20]))"
   ]
  },
  {
   "cell_type": "code",
   "execution_count": null,
   "metadata": {},
   "outputs": [],
   "source": [
    "num_AAs_AT_AT = []\n",
    "num_hets_AT_AT = []\n",
    "for sim in range(num_sims):\n",
    "    sim_AAs = 0\n",
    "    sim_hets = 0\n",
    "    for ofs in range(20):\n",
    "        derived_cnt = sum(random.choices([0, 1], k=2))\n",
    "        sim_AAs += 1 if derived_cnt == 0 else 0\n",
    "        sim_hets += 1 if derived_cnt == 1 else 0\n",
    "    num_AAs_AT_AT.append(sim_AAs)\n",
    "    num_hets_AT_AT.append(sim_hets)\n",
    "fig, ax = plt.subplots(1,1, figsize=(16,9))\n",
    "ax.hist([num_hets_AT_AT, num_AAs_AT_AT], histtype='step', fill=False, bins=range(20), label=['het', 'AA'])\n",
    "plt.legend()"
   ]
  },
  {
   "cell_type": "markdown",
   "metadata": {},
   "source": [
    "# Balanced output"
   ]
  },
  {
   "cell_type": "code",
   "execution_count": null,
   "metadata": {},
   "outputs": [],
   "source": [
    "import gzip\n",
    "import pickle\n",
    "import random\n",
    "\n",
    "import numpy as np"
   ]
  },
  {
   "cell_type": "code",
   "execution_count": null,
   "metadata": {},
   "outputs": [],
   "source": [
    "mendelian_errors = pickle.load(gzip.open('mendelian_errors.pickle.gz', 'rb'))\n",
    "feature_fit = np.load(gzip.open('feature_fit.npy.gz', 'rb'))\n",
    "ordered_features = np.load(open('ordered_features', 'rb'))\n",
    "num_features = len(ordered_features)"
   ]
  },
  {
   "cell_type": "code",
   "execution_count": null,
   "metadata": {},
   "outputs": [],
   "source": [
    "len(mendelian_errors), len(list(filter(lambda x: x[0] > 0,mendelian_errors.values())))"
   ]
  },
  {
   "cell_type": "code",
   "execution_count": null,
   "metadata": {},
   "outputs": [],
   "source": [
    "total_observations = len(mendelian_errors)\n",
    "error_observations = len(list(filter(lambda x: x[0] > 0,mendelian_errors.values())))\n",
    "ok_observations = total_observations - error_observations\n",
    "fraction_errors = error_observations/total_observations\n",
    "print (total_observations, ok_observations, error_observations, 100*fraction_errors)\n",
    "del mendelian_errors"
   ]
  },
  {
   "cell_type": "code",
   "execution_count": null,
   "metadata": {},
   "outputs": [],
   "source": [
    "prob_ok_choice = error_observations / ok_observations\n",
    "\n",
    "def accept_entry(row):\n",
    "    if row[-1] == 1:\n",
    "        return True\n",
    "    return random.random() <= prob_ok_choice\n",
    "\n",
    "accept_entry_v = np.vectorize(accept_entry, signature='(i)->()')\n",
    "\n",
    "accepted_entries = accept_entry_v(feature_fit)\n",
    "balanced_fit = feature_fit[accepted_entries]\n",
    "del feature_fit\n",
    "balanced_fit.shape\n",
    "len([x for x in balanced_fit if x[-1] == 1]), len([x for x in balanced_fit if x[-1] == 0])"
   ]
  },
  {
   "cell_type": "code",
   "execution_count": null,
   "metadata": {},
   "outputs": [],
   "source": [
    "np.save(gzip.open('balanced_fit.npy.gz', 'wb'), balanced_fit, allow_pickle=False, fix_imports=False)"
   ]
  },
  {
   "cell_type": "code",
   "execution_count": null,
   "metadata": {},
   "outputs": [],
   "source": []
  }
 ],
 "metadata": {
  "kernelspec": {
   "display_name": "Python 3",
   "language": "python",
   "name": "python3"
  },
  "language_info": {
   "codemirror_mode": {
    "name": "ipython",
    "version": 3
   },
   "file_extension": ".py",
   "mimetype": "text/x-python",
   "name": "python",
   "nbconvert_exporter": "python",
   "pygments_lexer": "ipython3",
   "version": "3.6.7"
  }
 },
 "nbformat": 4,
 "nbformat_minor": 2
}
