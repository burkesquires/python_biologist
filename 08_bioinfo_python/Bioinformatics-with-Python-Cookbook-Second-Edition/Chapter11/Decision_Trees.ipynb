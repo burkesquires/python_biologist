{
 "cells": [
  {
   "cell_type": "code",
   "execution_count": null,
   "metadata": {
    "autoscroll": false,
    "ein.hycell": false,
    "ein.tags": "worksheet-0",
    "slideshow": {
     "slide_type": "-"
    }
   },
   "outputs": [],
   "source": [
    "import gzip\n",
    "import pickle\n",
    "\n",
    "import numpy as np\n",
    "import graphviz\n",
    "from sklearn import tree"
   ]
  },
  {
   "cell_type": "code",
   "execution_count": null,
   "metadata": {
    "autoscroll": false,
    "ein.hycell": false,
    "ein.tags": "worksheet-0",
    "slideshow": {
     "slide_type": "-"
    }
   },
   "outputs": [],
   "source": [
    "balanced_fit = np.load(gzip.open('balanced_fit.npy.gz', 'rb'))\n",
    "ordered_features = pickle.load(open('ordered_features', 'rb'))\n",
    "ordered_features"
   ]
  },
  {
   "cell_type": "markdown",
   "metadata": {
    "ein.tags": "worksheet-0",
    "slideshow": {
     "slide_type": "-"
    }
   },
   "source": [
    "# Decision Tree"
   ]
  },
  {
   "cell_type": "code",
   "execution_count": null,
   "metadata": {
    "autoscroll": false,
    "ein.hycell": false,
    "ein.tags": "worksheet-0",
    "slideshow": {
     "slide_type": "-"
    }
   },
   "outputs": [],
   "source": [
    "train_X = balanced_fit[:,:-2]  #POS and errors\n",
    "train_Y = balanced_fit[:,-1]"
   ]
  },
  {
   "cell_type": "code",
   "execution_count": null,
   "metadata": {
    "autoscroll": false,
    "ein.hycell": false,
    "ein.tags": "worksheet-0",
    "slideshow": {
     "slide_type": "-"
    }
   },
   "outputs": [],
   "source": [
    "estimator = tree.DecisionTreeClassifier(max_depth=4)\n",
    "tree_fit = estimator.fit(train_X, train_Y)\n",
    "tree_fit.feature_importances_"
   ]
  },
  {
   "cell_type": "code",
   "execution_count": null,
   "metadata": {
    "autoscroll": false,
    "ein.hycell": false,
    "ein.tags": "worksheet-0",
    "slideshow": {
     "slide_type": "-"
    }
   },
   "outputs": [],
   "source": [
    "graphviz_representation = tree.export_graphviz(tree_fit, out_file=None,\n",
    "                                               max_depth=3,\n",
    "                                               feature_names=ordered_features,\n",
    "                                               class_names = ['OK', 'error'],\n",
    "                                               filled=True, rounded=True, special_characters=True)\n",
    "graph = graphviz.Source(graphviz_representation)\n",
    "graph"
   ]
  },
  {
   "cell_type": "code",
   "execution_count": null,
   "metadata": {},
   "outputs": [],
   "source": [
    "ordered_features2 = list(ordered_features)\n",
    "del ordered_features2[-2]\n",
    "train_X2 = balanced_fit[:,:-4]\n",
    "train_X2 = np.concatenate((train_X2, balanced_fit[:,-3:-2]), 1)\n",
    "ordered_features2"
   ]
  },
  {
   "cell_type": "code",
   "execution_count": null,
   "metadata": {},
   "outputs": [],
   "source": [
    "estimator = tree.DecisionTreeClassifier(max_depth=3)\n",
    "tree_fit2 = estimator.fit(train_X2, train_Y)\n",
    "tree_fit2.feature_importances_"
   ]
  },
  {
   "cell_type": "code",
   "execution_count": null,
   "metadata": {},
   "outputs": [],
   "source": [
    "graphviz_representation = tree.export_graphviz(tree_fit2, out_file=None,\n",
    "                                               max_depth=3,\n",
    "                                               feature_names=ordered_features2,\n",
    "                                               class_names = ['OK', 'error'],\n",
    "                                               filled=True, rounded=True, special_characters=True)\n",
    "graph = graphviz.Source(graphviz_representation)\n",
    "graph.render('1', format='png')\n",
    "graph"
   ]
  },
  {
   "cell_type": "code",
   "execution_count": null,
   "metadata": {},
   "outputs": [],
   "source": []
  }
 ],
 "metadata": {
  "kernelspec": {
   "display_name": "Python 3",
   "language": "python",
   "name": "python3"
  },
  "language_info": {
   "codemirror_mode": {
    "name": "ipython",
    "version": 3
   },
   "file_extension": ".py",
   "mimetype": "text/x-python",
   "name": "python",
   "nbconvert_exporter": "python",
   "pygments_lexer": "ipython3",
   "version": "3.6.7"
  },
  "name": "Decision_Trees.ipynb"
 },
 "nbformat": 4,
 "nbformat_minor": 2
}
