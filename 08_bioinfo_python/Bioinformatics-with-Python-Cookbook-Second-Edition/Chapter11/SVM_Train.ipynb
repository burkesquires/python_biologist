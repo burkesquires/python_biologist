{
 "cells": [
  {
   "cell_type": "code",
   "execution_count": null,
   "metadata": {},
   "outputs": [],
   "source": [
    "import gzip\n",
    "import os\n",
    "import pickle\n",
    "\n",
    "import numpy as np\n",
    "from sklearn import svm\n",
    "from sklearn.model_selection import GridSearchCV\n",
    "from sklearn.linear_model import SGDClassifier\n"
   ]
  },
  {
   "cell_type": "code",
   "execution_count": null,
   "metadata": {},
   "outputs": [],
   "source": [
    "scaled_balanced_fit_1_test = np.load(gzip.open('scaled_balanced_fit_1_test.npy.gz', 'rb'))\n",
    "scaled_balanced_fit_10_test = np.load(gzip.open('scaled_balanced_fit_10_test.npy.gz', 'rb'))\n",
    "scaled_balanced_fit_10_test = np.load(gzip.open('scaled_balanced_fit_10_test.npy.gz', 'rb'))\n",
    "\n",
    "scaled_balanced_fit_cv = np.load(gzip.open('scaled_balanced_fit_cv.npy.gz', 'rb'))\n",
    "\n",
    "ordered_features = pickle.load(open('ordered_features', 'rb'))"
   ]
  },
  {
   "cell_type": "code",
   "execution_count": null,
   "metadata": {},
   "outputs": [],
   "source": [
    "scaled_balanced_fit_10_test.shape"
   ]
  },
  {
   "cell_type": "code",
   "execution_count": null,
   "metadata": {},
   "outputs": [],
   "source": [
    "train_1_X = scaled_balanced_fit_1_test[:,:-1]\n",
    "train_1_Y = scaled_balanced_fit_1_test[:,-1]\n",
    "train_10_X = scaled_balanced_fit_10_test[:,:-1]\n",
    "train_10_Y = scaled_balanced_fit_10_test[:,-1]\n",
    "train_100_X = scaled_balanced_fit_10_test[:,:-1]\n",
    "train_100_Y = scaled_balanced_fit_10_test[:,-1]\n",
    "\n",
    "cv_X = scaled_balanced_fit_cv[:,:-1]\n",
    "cv_Y = scaled_balanced_fit_cv[:,-1]"
   ]
  },
  {
   "cell_type": "code",
   "execution_count": null,
   "metadata": {},
   "outputs": [],
   "source": [
    "my_svm_1 = svm.SVC(kernel='linear')\n",
    "my_svm_1.fit(train_1_X, train_1_Y)\n",
    "my_svm_1.score(cv_X, cv_Y)"
   ]
  },
  {
   "cell_type": "code",
   "execution_count": null,
   "metadata": {},
   "outputs": [],
   "source": [
    "my_svm_10 = svm.SVC(kernel='linear')\n",
    "my_svm_10.fit(train_10_X, train_10_Y)\n",
    "my_svm_10.score(cv_X, cv_Y)"
   ]
  },
  {
   "cell_type": "code",
   "execution_count": null,
   "metadata": {},
   "outputs": [],
   "source": [
    "my_svm_1_rbf = svm.SVC(C=10,kernel='rbf')\n",
    "my_svm_1_rbf.fit(train_1_X, train_1_Y)\n",
    "my_svm_1_rbf.score(cv_X, cv_Y)"
   ]
  },
  {
   "cell_type": "code",
   "execution_count": null,
   "metadata": {},
   "outputs": [],
   "source": [
    "predictions = my_svm_10_rbf.predict(cv_X)"
   ]
  },
  {
   "cell_type": "code",
   "execution_count": null,
   "metadata": {},
   "outputs": [],
   "source": [
    "join = np.array([predictions, cv_Y])"
   ]
  },
  {
   "cell_type": "code",
   "execution_count": null,
   "metadata": {},
   "outputs": [],
   "source": [
    "my_svm_10_C = svm.SVC(C=10, kernel='rbf')\n",
    "my_svm_10_C.fit(train_10_X, train_10_Y)\n",
    "my_svm_10_C.score(cv_X, cv_Y)"
   ]
  },
  {
   "cell_type": "code",
   "execution_count": null,
   "metadata": {},
   "outputs": [],
   "source": [
    "parameters = {'kernel': ['linear', 'rbf'], 'C':[0.1, 1, 10]}\n",
    "svc = svm.SVC()\n",
    "clf = GridSearchCV(estimator=svc, param_grid=parameters, cv=5, n_jobs=8)\n",
    "clf.fit(train_1_X, train_1_Y)\n",
    "clf.best_score_ clf.best_params_"
   ]
  },
  {
   "cell_type": "code",
   "execution_count": null,
   "metadata": {},
   "outputs": [],
   "source": [
    "parameters = {'kernel': ['poly'], 'C':[10, 100], 'degree': [2, 3, 4, 5]}\n",
    "svc2 = svm.SVC()\n",
    "clf2 = GridSearchCV(estimator=svc2, param_grid=parameters, cv=5, n_jobs=8)\n",
    "clf2.fit(train_1_X, train_1_Y)\n",
    "clf2.best_params_, clf2.best_score_"
   ]
  },
  {
   "cell_type": "code",
   "execution_count": null,
   "metadata": {},
   "outputs": [],
   "source": [
    "clf2.best_params_, clf2.best_score_"
   ]
  },
  {
   "cell_type": "code",
   "execution_count": null,
   "metadata": {},
   "outputs": [],
   "source": [
    "parameters = {'kernel': ['sigmoid'], 'C':[0.1, 1, 10]}\n",
    "svc3 = svm.SVC()\n",
    "clf3 = GridSearchCV(estimator=svc3, param_grid=parameters, cv=5, n_jobs=8)\n",
    "clf3.fit(train_1_X, train_1_Y)\n",
    "clf3.best_score_, clf3.best_params_"
   ]
  },
  {
   "cell_type": "code",
   "execution_count": null,
   "metadata": {},
   "outputs": [],
   "source": [
    "scaled_fit = np.load(gzip.open('scaled_fit.npy.gz', 'rb'))\n",
    "scaled_X = scaled_fit[:,:-1]\n",
    "scaled_Y = scaled_fit[:,-1]"
   ]
  },
  {
   "cell_type": "code",
   "execution_count": null,
   "metadata": {},
   "outputs": [],
   "source": [
    "my_svm_1_rbf.score(scaled_X, scaled_Y)"
   ]
  },
  {
   "cell_type": "code",
   "execution_count": null,
   "metadata": {},
   "outputs": [],
   "source": [
    "sgd = SGDClassifier()\n",
    "\n",
    "parameters = {'alpha': [0.00001, 0.0001, 0.001], 'loss':['hinge'], 'tol': [1e-3]}\n",
    "csgd = GridSearchCV(estimator=sgd, param_grid=parameters, cv=5, n_jobs=3)\n",
    "\n",
    "csgd.fit(scaled_X, scaled_Y)"
   ]
  },
  {
   "cell_type": "code",
   "execution_count": null,
   "metadata": {},
   "outputs": [],
   "source": [
    "csgd.best_score_, csgd.best_params_"
   ]
  },
  {
   "cell_type": "code",
   "execution_count": null,
   "metadata": {},
   "outputs": [],
   "source": [
    "sgd.score(scaled_X, scaled_Y)"
   ]
  },
  {
   "cell_type": "code",
   "execution_count": null,
   "metadata": {},
   "outputs": [],
   "source": [
    "from sklearn.kernel_approximation import RBFSampler\n",
    "rbf_feature = RBFSampler(gamma=1, random_state=1)\n",
    "X_features = rbf_feature.fit_transform(train_100_X)\n",
    "clfxx = SGDClassifier()\n",
    "clfxx.fit(X_features, train_100_Y)"
   ]
  },
  {
   "cell_type": "code",
   "execution_count": null,
   "metadata": {},
   "outputs": [],
   "source": [
    "fff = rbf_feature.transform(scaled_X[:200000])\n",
    "clfxx.score(fff, scaled_Y[:200000])"
   ]
  },
  {
   "cell_type": "code",
   "execution_count": null,
   "metadata": {},
   "outputs": [],
   "source": [
    "from sklearn.ensemble import RandomForestClassifier\n",
    "forest_estimator = RandomForestClassifier(n_estimators=100)\n",
    "forest_fit = forest_estimator.fit(train_10_X, train_10_Y)"
   ]
  },
  {
   "cell_type": "code",
   "execution_count": null,
   "metadata": {},
   "outputs": [],
   "source": [
    "forest_fit.score(scaled_X, scaled_Y)"
   ]
  },
  {
   "cell_type": "code",
   "execution_count": null,
   "metadata": {},
   "outputs": [],
   "source": []
  }
 ],
 "metadata": {
  "kernelspec": {
   "display_name": "Python 3",
   "language": "python",
   "name": "python3"
  },
  "language_info": {
   "codemirror_mode": {
    "name": "ipython",
    "version": 3
   },
   "file_extension": ".py",
   "mimetype": "text/x-python",
   "name": "python",
   "nbconvert_exporter": "python",
   "pygments_lexer": "ipython3",
   "version": "3.6.5"
  }
 },
 "nbformat": 4,
 "nbformat_minor": 2
}
