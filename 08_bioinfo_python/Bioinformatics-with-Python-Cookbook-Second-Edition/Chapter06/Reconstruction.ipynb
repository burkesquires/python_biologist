{
 "cells": [
  {
   "cell_type": "code",
   "execution_count": null,
   "metadata": {},
   "outputs": [],
   "source": [
    "import os\n",
    "import random\n",
    "import shutil\n",
    "import sys\n",
    "\n",
    "import dendropy\n",
    "from dendropy.interop import raxml"
   ]
  },
  {
   "cell_type": "code",
   "execution_count": null,
   "metadata": {},
   "outputs": [],
   "source": [
    "ebola_data = dendropy.DnaCharacterMatrix.get_from_path('trim.fasta', 'fasta')\n",
    "rx = raxml.RaxmlRunner()\n",
    "ebola_tree = rx.estimate_tree(ebola_data, ['-m', 'GTRGAMMA', '-N', '10'])\n",
    "print('RAxML temporary directory: %s' % rx.working_dir_path)\n",
    "del ebola_data"
   ]
  },
  {
   "cell_type": "code",
   "execution_count": null,
   "metadata": {},
   "outputs": [],
   "source": [
    "ebola_tree.write_to_path('my_ebola.nex', 'nexus')"
   ]
  },
  {
   "cell_type": "code",
   "execution_count": null,
   "metadata": {},
   "outputs": [],
   "source": [
    "import matplotlib.pyplot as plt\n",
    "from Bio import Phylo\n",
    "%matplotlib inline\n",
    "my_ebola_tree = Phylo.read('my_ebola.nex', 'nexus')\n",
    "my_ebola_tree.name = 'Our Ebolavirus tree'\n",
    "\n",
    "fig = plt.figure(figsize=(16, 18))\n",
    "ax = fig.add_subplot(1, 1, 1)\n",
    "Phylo.draw(my_ebola_tree, axes=ax)"
   ]
  },
  {
   "cell_type": "markdown",
   "metadata": {},
   "source": [
    "## RAxML with Biopython"
   ]
  },
  {
   "cell_type": "code",
   "execution_count": null,
   "metadata": {},
   "outputs": [],
   "source": [
    "# XXX change\n",
    "from Bio.Phylo.Applications import RaxmlCommandline\n",
    "raxml_cline = RaxmlCommandline(sequences='trim.fasta',\n",
    "                               model='GTRGAMMA', name='biopython',\n",
    "                               num_replicates='10',\n",
    "                               parsimony_seed=random.randint(0, sys.maxsize),\n",
    "                               working_dir=os.getcwd() + os.sep + 'bp_rx')\n",
    "print(raxml_cline)\n",
    "try:\n",
    "    os.mkdir('bp_rx')\n",
    "except OSError:\n",
    "    shutil.rmtree('bp_rx')\n",
    "    os.mkdir('bp_rx')\n",
    "out, err = raxml_cline()"
   ]
  },
  {
   "cell_type": "code",
   "execution_count": null,
   "metadata": {},
   "outputs": [],
   "source": [
    "from Bio import Phylo\n",
    "biopython_tree = Phylo.read('bp_rx/RAxML_bestTree.biopython', 'newick')"
   ]
  },
  {
   "cell_type": "code",
   "execution_count": null,
   "metadata": {},
   "outputs": [],
   "source": [
    "print(biopython_tree)"
   ]
  },
  {
   "cell_type": "code",
   "execution_count": null,
   "metadata": {},
   "outputs": [],
   "source": []
  }
 ],
 "metadata": {
  "kernelspec": {
   "display_name": "Python 3",
   "language": "python",
   "name": "python3"
  },
  "language_info": {
   "codemirror_mode": {
    "name": "ipython",
    "version": 3
   },
   "file_extension": ".py",
   "mimetype": "text/x-python",
   "name": "python",
   "nbconvert_exporter": "python",
   "pygments_lexer": "ipython3",
   "version": "3.6.5"
  }
 },
 "nbformat": 4,
 "nbformat_minor": 2
}
