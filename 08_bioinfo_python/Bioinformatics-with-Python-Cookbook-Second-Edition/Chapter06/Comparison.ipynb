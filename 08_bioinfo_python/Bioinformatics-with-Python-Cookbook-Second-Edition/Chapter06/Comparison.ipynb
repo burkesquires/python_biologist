{
 "cells": [
  {
   "cell_type": "code",
   "execution_count": null,
   "metadata": {},
   "outputs": [],
   "source": [
    "import os\n",
    "from collections import OrderedDict\n",
    "\n",
    "import numpy as np\n",
    "import pandas as pd\n",
    "\n",
    "import dendropy\n",
    "from dendropy.calculate import popgenstat"
   ]
  },
  {
   "cell_type": "markdown",
   "metadata": {},
   "source": [
    "## Genes"
   ]
  },
  {
   "cell_type": "code",
   "execution_count": null,
   "metadata": {},
   "outputs": [],
   "source": [
    "genes_species = OrderedDict()\n",
    "my_species = ['RESTV', 'SUDV']\n",
    "my_genes = ['NP', 'L', 'VP35', 'VP40']\n",
    "\n",
    "\n",
    "for name in my_genes:\n",
    "    gene_name = name.split('.')[0]\n",
    "    char_mat = dendropy.DnaCharacterMatrix.get_from_path('%s_align.fasta' % name, 'fasta')\n",
    "    genes_species[gene_name] = {}\n",
    "    \n",
    "    for species in my_species:\n",
    "        genes_species[gene_name][species] = dendropy.DnaCharacterMatrix()\n",
    "    for taxon, char_map in char_mat.items():\n",
    "        species = taxon.label.split('_')[0]\n",
    "        if species in my_species:\n",
    "            genes_species[gene_name][species].taxon_namespace.add_taxon(taxon)\n",
    "            genes_species[gene_name][species][taxon] = char_map"
   ]
  },
  {
   "cell_type": "code",
   "execution_count": null,
   "metadata": {},
   "outputs": [],
   "source": [
    "summary = np.ndarray(shape=(len(genes_species), 4 * len(my_species)))\n",
    "stats = ['seg_sites', 'nuc_div', 'taj_d', 'wat_theta']\n",
    "for row, (gene, species_data) in enumerate(genes_species.items()):\n",
    "    for col_base, species in enumerate(my_species):\n",
    "        summary[row, col_base * 4] = popgenstat.num_segregating_sites(species_data[species])\n",
    "        summary[row, col_base * 4 + 1] = popgenstat.nucleotide_diversity(species_data[species])\n",
    "        summary[row, col_base * 4 + 2] = popgenstat.tajimas_d(species_data[species])\n",
    "        summary[row, col_base * 4 + 3] = popgenstat.wattersons_theta(species_data[species])\n",
    "columns = []\n",
    "for species in my_species:\n",
    "    columns.extend(['%s (%s)' % (stat, species) for stat in stats])\n",
    "df = pd.DataFrame(summary, index=genes_species.keys(), columns=columns)\n",
    "df # vs print(df)"
   ]
  },
  {
   "cell_type": "markdown",
   "metadata": {},
   "source": [
    "## Genomes"
   ]
  },
  {
   "cell_type": "code",
   "execution_count": null,
   "metadata": {},
   "outputs": [],
   "source": [
    "def do_basic_popgen(seqs):\n",
    "    num_seg_sites = popgenstat.num_segregating_sites(seqs)\n",
    "    avg_pair = popgenstat.average_number_of_pairwise_differences(seqs)\n",
    "    nuc_div = popgenstat.nucleotide_diversity(seqs)\n",
    "    print('Segregating sites: %d, Avg pairwise diffs: %.2f, Nucleotide diversity %.6f' % (num_seg_sites, avg_pair, nuc_div))\n",
    "    print(\"Watterson's theta: %s\" % popgenstat.wattersons_theta(seqs))\n",
    "    print(\"Tajima's D: %s\" % popgenstat.tajimas_d(seqs))"
   ]
  },
  {
   "cell_type": "code",
   "execution_count": null,
   "metadata": {},
   "outputs": [],
   "source": [
    "#XXX change\n",
    "ebov_seqs = dendropy.DnaCharacterMatrix.get_from_path(\n",
    "    'trim.fasta', schema='fasta', data_type='dna')\n",
    "sl_2014 = []\n",
    "drc_2007 = []\n",
    "ebov2007_set = dendropy.DnaCharacterMatrix()\n",
    "ebov2014_set = dendropy.DnaCharacterMatrix()\n",
    "for taxon, char_map in ebov_seqs.items():\n",
    "    print(taxon.label)\n",
    "    if taxon.label.startswith('EBOV_2014') and len(sl_2014) < 8:\n",
    "        sl_2014.append(char_map)\n",
    "        ebov2014_set.taxon_namespace.add_taxon(taxon)\n",
    "        ebov2014_set[taxon] = char_map\n",
    "    elif taxon.label.startswith('EBOV_2007'):\n",
    "        drc_2007.append(char_map)\n",
    "        ebov2007_set.taxon_namespace.add_taxon(taxon)\n",
    "        ebov2007_set[taxon] = char_map\n",
    "        #ebov2007_set.extend_map({taxon: char_map})\n",
    "del ebov_seqs"
   ]
  },
  {
   "cell_type": "code",
   "execution_count": null,
   "metadata": {},
   "outputs": [],
   "source": [
    "print('2007 outbreak:')\n",
    "print('Number of individuals: %s' % len(ebov2007_set.taxon_namespace))\n",
    "do_basic_popgen(ebov2007_set)\n",
    "\n",
    "print('\\n2014 outbreak:')\n",
    "print('Number of individuals: %s' % len(ebov2014_set.taxon_namespace))\n",
    "do_basic_popgen(ebov2014_set)"
   ]
  },
  {
   "cell_type": "code",
   "execution_count": null,
   "metadata": {},
   "outputs": [],
   "source": [
    "print(len(sl_2014))\n",
    "print(len(drc_2007))"
   ]
  },
  {
   "cell_type": "code",
   "execution_count": null,
   "metadata": {},
   "outputs": [],
   "source": [
    "pair_stats = popgenstat.PopulationPairSummaryStatistics(sl_2014, drc_2007)"
   ]
  },
  {
   "cell_type": "code",
   "execution_count": null,
   "metadata": {},
   "outputs": [],
   "source": [
    "print('Average number of pairwise differences irrespective of population: %.2f' %\n",
    "      pair_stats.average_number_of_pairwise_differences)\n",
    "print('Average number of pairwise differences between populations: %.2f' %\n",
    "      pair_stats.average_number_of_pairwise_differences_between)\n",
    "print('Average number of pairwise differences within populations: %.2f' %\n",
    "      pair_stats.average_number_of_pairwise_differences_within)\n",
    "print('Average number of net pairwise differences : %.2f' %\n",
    "      pair_stats.average_number_of_pairwise_differences_net)\n",
    "print('Number of segregating sites: %d' %\n",
    "      pair_stats.num_segregating_sites)\n",
    "print(\"Watterson's theta: %.2f\" %\n",
    "      pair_stats.wattersons_theta)\n",
    "print(\"Wakeley's Psi: %.3f\" % pair_stats.wakeleys_psi)\n",
    "print(\"Tajima's D: %.2f\" % pair_stats.tajimas_d)"
   ]
  },
  {
   "cell_type": "code",
   "execution_count": null,
   "metadata": {},
   "outputs": [],
   "source": []
  }
 ],
 "metadata": {
  "kernelspec": {
   "display_name": "Python 3",
   "language": "python",
   "name": "python3"
  },
  "language_info": {
   "codemirror_mode": {
    "name": "ipython",
    "version": 3
   },
   "file_extension": ".py",
   "mimetype": "text/x-python",
   "name": "python",
   "nbconvert_exporter": "python",
   "pygments_lexer": "ipython3",
   "version": "3.6.5"
  }
 },
 "nbformat": 4,
 "nbformat_minor": 2
}
