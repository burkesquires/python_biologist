{
 "cells": [
  {
   "cell_type": "code",
   "execution_count": null,
   "metadata": {},
   "outputs": [],
   "source": [
    "from copy import deepcopy\n",
    "import matplotlib.pyplot as plt\n",
    "from Bio import Phylo\n",
    "#import dendropy\n",
    "\n",
    "%matplotlib inline"
   ]
  },
  {
   "cell_type": "code",
   "execution_count": null,
   "metadata": {},
   "outputs": [],
   "source": [
    "ebola_tree = Phylo.read('my_ebola.nex', 'nexus')\n",
    "ebola_tree.name = 'Ebolavirus tree'\n",
    "ebola_simple_tree = Phylo.read('ebola_simple.nex', 'nexus')\n",
    "ebola_simple_tree.name = 'Ebolavirus simplified tree'"
   ]
  },
  {
   "cell_type": "code",
   "execution_count": null,
   "metadata": {},
   "outputs": [],
   "source": [
    "Phylo.draw_ascii(ebola_simple_tree)\n",
    "Phylo.draw_ascii(ebola_tree)"
   ]
  },
  {
   "cell_type": "code",
   "execution_count": null,
   "metadata": {},
   "outputs": [],
   "source": [
    "fig = plt.figure(figsize=(16, 22))\n",
    "ax = fig.add_subplot(111)\n",
    "Phylo.draw(ebola_simple_tree, axes=ax, branch_labels=\n",
    "           lambda c: c.branch_length if c.branch_length > 0.02 else None)"
   ]
  },
  {
   "cell_type": "code",
   "execution_count": null,
   "metadata": {},
   "outputs": [],
   "source": [
    "fig = plt.figure(figsize=(16, 22))\n",
    "ax = fig.add_subplot(111)\n",
    "from collections import OrderedDict\n",
    "my_colors = OrderedDict({\n",
    "'EBOV_2014': 'red',\n",
    "'EBOV': 'magenta',\n",
    "'BDBV': 'cyan',\n",
    "'SUDV': 'blue',\n",
    "'RESTV' : 'green',\n",
    "'TAFV' : 'yellow'\n",
    "})\n",
    "\n",
    "def get_color(name):\n",
    "    for pref, color in my_colors.items():\n",
    "        if name.find(pref) > -1:\n",
    "            return color\n",
    "    return 'grey'\n",
    "\n",
    "def color_tree(node, fun_color=get_color):\n",
    "    if node.is_terminal():\n",
    "        node.color = fun_color(node.name)\n",
    "    else:\n",
    "        my_children = set()\n",
    "        for child in node.clades:\n",
    "            color_tree(child, fun_color)\n",
    "            my_children.add(child.color.to_hex())\n",
    "        if len(my_children) == 1:\n",
    "            node.color = child.color\n",
    "        else:\n",
    "            node.color = 'grey'\n",
    "\n",
    "ebola_color_tree = deepcopy(ebola_tree)\n",
    "color_tree(ebola_color_tree.root)\n",
    "Phylo.draw(ebola_color_tree, axes=ax, label_func=\n",
    "           lambda x: x.name.split(' ')[0][1:] if x.name is not None else None)"
   ]
  },
  {
   "cell_type": "code",
   "execution_count": null,
   "metadata": {},
   "outputs": [],
   "source": []
  }
 ],
 "metadata": {
  "kernelspec": {
   "display_name": "Python 3",
   "language": "python",
   "name": "python3"
  },
  "language_info": {
   "codemirror_mode": {
    "name": "ipython",
    "version": 3
   },
   "file_extension": ".py",
   "mimetype": "text/x-python",
   "name": "python",
   "nbconvert_exporter": "python",
   "pygments_lexer": "ipython3",
   "version": "3.6.5"
  }
 },
 "nbformat": 4,
 "nbformat_minor": 2
}
