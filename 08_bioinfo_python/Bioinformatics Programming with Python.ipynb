{
 "cells": [
  {
   "cell_type": "markdown",
   "metadata": {},
   "source": [
    "# Bioinformatics and Python"
   ]
  },
  {
   "cell_type": "markdown",
   "metadata": {},
   "source": [
    "Source: Burke Squires [GitHub](https://github.com/burkesquires)"
   ]
  },
  {
   "cell_type": "markdown",
   "metadata": {},
   "source": [
    "---"
   ]
  },
  {
   "cell_type": "markdown",
   "metadata": {},
   "source": [
    "## Why Python for Bioinformatics?\n",
    "\n",
    "Python offer many advantages as a general programming language (please see the [Introduction to Programming](https://github.com/burkesquires/python_biologist/tree/master/03_intro_programming) and [Python Programming](https://github.com/burkesquires/python_biologist/tree/master/04_python_programming) seminars materials for a discussion of specific advantages of python)\n",
    "\n",
    "In our previous seminars we discussed _the python community_ as a strength of python. One such community is [GitHub](github.com). Recall that GitHub is a reprository of no-cost, open source software, trianing materials, etc. Another is the Python Package Index or [PyPI](pypi.org).\n",
    "\n",
    "Some examples of python and bioinformatics communities:\n",
    "- [Bioinformatics Project on GitHub](https://github.com/search?utf8=%E2%9C%93&q=bioinformatics&type=)\n",
    "    - Click on `python` to the lower left corner to see only _python_ based projects\n",
    "- [Bioinformatics packages in the Python Package Index (PyPI)](https://pypi.org/search/?q=bioinformatics)\n",
    "- [bioconda Project](https://bioconda.github.io)"
   ]
  },
  {
   "cell_type": "markdown",
   "metadata": {},
   "source": [
    "---"
   ]
  },
  {
   "cell_type": "markdown",
   "metadata": {},
   "source": [
    "### Python Packages for Bioinformatics"
   ]
  },
  {
   "cell_type": "markdown",
   "metadata": {},
   "source": [
    "- [__biopython__](biopython.org) - python molecular biology\n",
    "- [__dna_feature_viewer__](https://github.com/Edinburgh-Genome-Foundry/DnaFeaturesViewer) - genomics / proteomics visualization\n",
    "- [bcbio](https://github.com/chapmanb/bcbb) - Blue colar bioinformatics\n",
    "- [biotite](https://www.biotite-python.org) - general bioinformatic tools\n",
    "- [PyBedTools](https://github.com/daler/pybedtools) - bedtools - NIH scientist / developer Ryan Dale"
   ]
  },
  {
   "cell_type": "markdown",
   "metadata": {},
   "source": [
    "---"
   ]
  },
  {
   "cell_type": "markdown",
   "metadata": {},
   "source": [
    "## `biopython` package"
   ]
  },
  {
   "cell_type": "markdown",
   "metadata": {},
   "source": [
    "- [The `biopython` Project website](http://biopython.org/)\n",
    "    - [The `biopython` tutorial](http://biopython.org/DIST/docs/tutorial/Tutorial.html)\n",
    "- [Bioinformatics with Python Cookbook (First Edition)](https://www.packtpub.com/application-development/bioinformatics-python-cookbook) by Tiago Antao\n",
    "    - [GitHub page](https://github.com/tiagoantao/biopython-notebook)\n",
    "    - [Jupyter notebooks](biopython-notebook/index.ipynb)\n",
    "- [Bioinformatics with Python Cookbook (Second Edition)](https://www.packtpub.com/big-data-and-business-intelligence/bioinformatics-python-cookbook-second-edition) by Tiago Antao\n",
    "    - [GitHub page](https://github.com/PacktPublishing/Bioinformatics-with-Python-Cookbook-Second-Edition)\n",
    "    - [__Jupyter notebooks__](Bioinformatics-with-Python-Cookbook-Second-Edition/Welcome.ipynb)"
   ]
  },
  {
   "cell_type": "markdown",
   "metadata": {},
   "source": [
    "---"
   ]
  },
  {
   "cell_type": "markdown",
   "metadata": {},
   "source": [
    "## Installing bioinformatics software"
   ]
  },
  {
   "cell_type": "markdown",
   "metadata": {},
   "source": [
    "- __bioconda__\n",
    "\n",
    "    - [bioconda](https://bioconda.github.io/) (See available (Mac OS, Linux) packages [here](https://bioconda.github.io/conda-recipe_index.html))\n",
    "\n",
    "    - [Biocontainers](http://biocontainers.pro/) are created for each bioconda package."
   ]
  },
  {
   "cell_type": "markdown",
   "metadata": {},
   "source": [
    "- __EMBOSS__\n",
    "\n",
    "    - [EMBOSS](http://emboss.sourceforge.net/) European Molecular Biology Open Source Suite - (small specialized bioinformatics command line softwares)\n",
    "    - Has not been updated since 2016"
   ]
  },
  {
   "cell_type": "markdown",
   "metadata": {},
   "source": [
    "---"
   ]
  },
  {
   "cell_type": "markdown",
   "metadata": {},
   "source": [
    "## Workflows\n",
    "\n",
    "- [snakemake](https://snakemake.readthedocs.io) - we will cover this in the workflow seminar"
   ]
  },
  {
   "cell_type": "markdown",
   "metadata": {},
   "source": [
    "---"
   ]
  },
  {
   "cell_type": "markdown",
   "metadata": {},
   "source": [
    "### Resources:\n",
    "\n",
    "- [Illustrating Python via Examples from Bioinformatics](http://hplgit.github.io/bioinf-py/doc/pub/html/index.html)\n",
    "- [Awesome Bioinformatics](https://github.com/danielecook/Awesome-Bioinformatics) resource collection on GitHub (not strictly python related)\n",
    "- [A gallery of interesting Jupyter Notebooks](https://github.com/jupyter/jupyter/wiki/A-gallery-of-interesting-Jupyter-Notebooks)\n",
    "- [JHU Compitational Genomics Class](https://github.com/BenLangmead/comp-genomics-class) Jupyter notebooks\n",
    "- [Stephen Turner's Bash one-liners](https://github.com/stephenturner/oneliners)\n"
   ]
  },
  {
   "cell_type": "code",
   "execution_count": null,
   "metadata": {},
   "outputs": [],
   "source": []
  }
 ],
 "metadata": {
  "kernelspec": {
   "display_name": "Python 3 (ipykernel)",
   "language": "python",
   "name": "python3"
  },
  "language_info": {
   "codemirror_mode": {
    "name": "ipython",
    "version": 3
   },
   "file_extension": ".py",
   "mimetype": "text/x-python",
   "name": "python",
   "nbconvert_exporter": "python",
   "pygments_lexer": "ipython3",
   "version": "3.8.12"
  }
 },
 "nbformat": 4,
 "nbformat_minor": 4
}
