{
 "cells": [
  {
   "cell_type": "markdown",
   "metadata": {},
   "source": [
    "**Source of the materials**: Biopython cookbook (adapted)"
   ]
  },
  {
   "cell_type": "markdown",
   "metadata": {},
   "source": [
    "# Quick Start"
   ]
  },
  {
   "cell_type": "markdown",
   "metadata": {},
   "source": [
    "This section is designed to get you started quickly with Biopython, and to give a general overview of what is available and how to use it. All of the examples in this section assume that you have some general working knowledge of Python, and that you have successfully installed Biopython on your system. If you think you need to brush up on your Python, the main Python web site provides quite a bit of free documentation to get started with (http://www.python.org/doc/).\n",
    "\n",
    "Since much biological work on the computer involves connecting with databases on the internet, some of the examples will also require a working internet connection in order to run.\n",
    "\n",
    "Now that that is all out of the way, let’s get into what we can do with Biopython."
   ]
  },
  {
   "cell_type": "markdown",
   "metadata": {},
   "source": [
    "## General overview of what Biopython provides"
   ]
  },
  {
   "cell_type": "markdown",
   "metadata": {},
   "source": [
    "As mentioned in the introduction, Biopython is a set of libraries to provide the ability to deal with “things” of interest to biologists working on the computer. In general this means that you will need to have at least some programming experience (in Python, of course!) or at least an interest in learning to program. Biopython’s job is to make your job easier as a programmer by supplying reusable libraries so that you can focus on answering your specific question of interest, instead of focusing on the internals of parsing a particular file format (of course, if you want to help by writing a parser that doesn’t exist and contributing it to Biopython, please go ahead!). So Biopython’s job is to make you happy!\n",
    "\n",
    "One thing to note about Biopython is that it often provides multiple ways of “doing the same thing.” Things have improved in recent releases, but this can still be frustrating as in Python there should ideally be one right way to do something. However, this can also be a real benefit because it gives you lots of flexibility and control over the libraries. The tutorial helps to show you the common or easy ways to do things so that you can just make things work. To learn more about the alternative possibilities, look in the Cookbook, the Advanced section, the built in “docstrings” (via the Python help command, or the API documentation) or ultimately the code itself."
   ]
  },
  {
   "cell_type": "markdown",
   "metadata": {},
   "source": [
    "## Working with sequences"
   ]
  },
  {
   "cell_type": "markdown",
   "metadata": {},
   "source": [
    "We’ll start with a quick introduction to the Biopython mechanisms for dealing with sequences, the Seq object, which we’ll discuss in more detail later.\n",
    "\n",
    "Most of the time when we think about sequences we have in my mind a string of letters like ‘AGTACACTGGT’. You can create such Seq object with this sequence as follows:"
   ]
  },
  {
   "cell_type": "code",
   "execution_count": null,
   "metadata": {},
   "outputs": [],
   "source": [
    "import pandas as pd"
   ]
  },
  {
   "cell_type": "code",
   "execution_count": 2,
   "metadata": {
    "collapsed": false,
    "jupyter": {
     "outputs_hidden": false
    }
   },
   "outputs": [
    {
     "data": {
      "text/plain": [
       "Seq('AGTACACTGGT')"
      ]
     },
     "execution_count": 2,
     "metadata": {},
     "output_type": "execute_result"
    }
   ],
   "source": [
    "from Bio.Seq import Seq\n",
    "my_seq = Seq(\"AGTACACTGGT\")\n",
    "my_seq"
   ]
  },
  {
   "cell_type": "code",
   "execution_count": 6,
   "metadata": {},
   "outputs": [],
   "source": [
    "my_string = \"AGTACACTGGT\""
   ]
  },
  {
   "cell_type": "code",
   "execution_count": 7,
   "metadata": {},
   "outputs": [
    {
     "data": {
      "text/plain": [
       "str"
      ]
     },
     "execution_count": 7,
     "metadata": {},
     "output_type": "execute_result"
    }
   ],
   "source": [
    "type(my_string)"
   ]
  },
  {
   "cell_type": "code",
   "execution_count": 5,
   "metadata": {
    "collapsed": false,
    "jupyter": {
     "outputs_hidden": false
    }
   },
   "outputs": [
    {
     "name": "stdout",
     "output_type": "stream",
     "text": [
      "AGTACACTGGT\n"
     ]
    }
   ],
   "source": [
    "print(my_seq)"
   ]
  },
  {
   "cell_type": "markdown",
   "metadata": {},
   "source": [
    "The Seq object differs from the Python string in the methods it supports. You can’t do this with a plain string:"
   ]
  },
  {
   "cell_type": "code",
   "execution_count": 8,
   "metadata": {
    "collapsed": false,
    "jupyter": {
     "outputs_hidden": false
    }
   },
   "outputs": [
    {
     "data": {
      "text/plain": [
       "Seq('TCATGTGACCA')"
      ]
     },
     "execution_count": 8,
     "metadata": {},
     "output_type": "execute_result"
    }
   ],
   "source": [
    "my_seq.complement()"
   ]
  },
  {
   "cell_type": "code",
   "execution_count": 9,
   "metadata": {
    "collapsed": false,
    "jupyter": {
     "outputs_hidden": false
    }
   },
   "outputs": [
    {
     "data": {
      "text/plain": [
       "Seq('ACCAGTGTACT')"
      ]
     },
     "execution_count": 9,
     "metadata": {},
     "output_type": "execute_result"
    }
   ],
   "source": [
    "my_seq.reverse_complement()"
   ]
  },
  {
   "cell_type": "code",
   "execution_count": 10,
   "metadata": {},
   "outputs": [
    {
     "ename": "AttributeError",
     "evalue": "'str' object has no attribute 'complement'",
     "output_type": "error",
     "traceback": [
      "\u001b[0;31m---------------------------------------------------------------------------\u001b[0m",
      "\u001b[0;31mAttributeError\u001b[0m                            Traceback (most recent call last)",
      "\u001b[0;32m/var/folders/d7/8vn6rd1d6f37gtgy_13h3b95mx3fmv/T/ipykernel_17119/2900554724.py\u001b[0m in \u001b[0;36m<module>\u001b[0;34m\u001b[0m\n\u001b[0;32m----> 1\u001b[0;31m \u001b[0mmy_string\u001b[0m\u001b[0;34m.\u001b[0m\u001b[0mcomplement\u001b[0m\u001b[0;34m(\u001b[0m\u001b[0;34m)\u001b[0m\u001b[0;34m\u001b[0m\u001b[0;34m\u001b[0m\u001b[0m\n\u001b[0m",
      "\u001b[0;31mAttributeError\u001b[0m: 'str' object has no attribute 'complement'"
     ]
    }
   ],
   "source": [
    "my_string.complement()"
   ]
  },
  {
   "cell_type": "code",
   "execution_count": null,
   "metadata": {},
   "outputs": [],
   "source": [
    "my_seq."
   ]
  },
  {
   "cell_type": "markdown",
   "metadata": {},
   "source": [
    "The next most important class is the **SeqRecord** or Sequence Record. This holds a sequence (as a **Seq** object) with additional annotation including an identifier, name and description. The **Bio.SeqIO** module for reading and writing sequence file formats works with SeqRecord objects, which will be introduced below and covered in more detail later.\n",
    "\n",
    "This covers the basic features and uses of the Biopython sequence class. Now that you’ve got some idea of what it is like to interact with the Biopython libraries, it’s time to delve into the fun, fun world of dealing with biological file formats!"
   ]
  },
  {
   "cell_type": "markdown",
   "metadata": {},
   "source": [
    "## A usage example"
   ]
  },
  {
   "cell_type": "markdown",
   "metadata": {},
   "source": [
    "Before we jump right into parsers and everything else to do with Biopython, let’s set up an example to motivate everything we do and make life more interesting. After all, if there wasn’t any biology in this tutorial, why would you want you read it?\n",
    "\n",
    "Since I love plants, I think we’re just going to have to have a plant based example (sorry to all the fans of other organisms out there!). Having just completed a recent trip to our local greenhouse, we’ve suddenly developed an incredible obsession with Lady Slipper Orchids.\n",
    "\n",
    "Of course, orchids are not only beautiful to look at, they are also extremely interesting for people studying evolution and systematics. So let’s suppose we’re thinking about writing a funding proposal to do a molecular study of Lady Slipper evolution, and would like to see what kind of research has already been done and how we can add to that.\n",
    "\n",
    "After a little bit of reading up we discover that the Lady Slipper Orchids are in the Orchidaceae family and the Cypripedioideae sub-family and are made up of 5 genera: _Cypripedium_, _Paphiopedilum_, _Phragmipedium_, _Selenipedium_ and _Mexipedium_.\n",
    "\n",
    "That gives us enough to get started delving for more information. So, let’s look at how the Biopython tools can help us. We’ll start with sequence parsing, but the orchids will be back later on as well - for example we’ll search PubMed for papers about orchids and extract sequence data from GenBank, extract data from Swiss-Prot from certain orchid proteins and work with ClustalW multiple sequence alignments of orchid proteins."
   ]
  },
  {
   "cell_type": "markdown",
   "metadata": {},
   "source": [
    "## Parsing sequence file formats"
   ]
  },
  {
   "cell_type": "markdown",
   "metadata": {},
   "source": [
    "A large part of much bioinformatics work involves dealing with the many types of file formats designed to hold biological data. These files are loaded with interesting biological data, and a special challenge is parsing these files into a format so that you can manipulate them with some kind of programming language. However the task of parsing these files can be frustrated by the fact that the formats can change quite regularly, and that formats may contain small subtleties which can break even the most well designed parsers.\n",
    "\n",
    "We are now going to briefly introduce the **Bio.SeqIO** module – you can find out later. We’ll start with an online search for our friends, the lady slipper orchids. To keep this introduction simple, we’re just using the NCBI website by hand. Let’s just take a look through the nucleotide databases at NCBI, using an Entrez online search (http://www.ncbi.nlm.nih.gov:80/entrez/query.fcgi?db=Nucleotide) for everything mentioning the text _Cypripedioideae_ (this is the subfamily of lady slipper orchids).\n",
    "\n",
    "When this tutorial was originally written, this search gave us only 94 hits, which we saved as a FASTA formatted text file and as a GenBank formatted text file (files ls_orchid.fasta and ls_orchid.gbk, also included with the Biopython source code under docs/tutorial/examples/).\n",
    "\n",
    "If you run the search today, you’ll get hundreds of results! When following the tutorial, if you want to see the same list of genes, just download the two files above or copy them from docs/examples/ in the Biopython source code. Below we will look at how to do a search like this from within Python."
   ]
  },
  {
   "cell_type": "markdown",
   "metadata": {},
   "source": [
    "### Simple FASTA parsing example"
   ]
  },
  {
   "cell_type": "markdown",
   "metadata": {},
   "source": [
    "If you open the lady slipper orchids FASTA file <a href=\"../data/ls_orchid.fasta\">ls_orchid.fasta</a> in your favourite text editor, you’ll see that the file starts like this:\n",
    "\n",
    "> \\>gi|2765658|emb|Z78533.1|CIZ78533 C.irapeanum 5.8S rRNA gene and ITS1 and ITS2 DNA\n",
    "CGTAACAAGGTTTCCGTAGGTGAACCTGCGGAAGGATCATTGATGAGACCGTGGAATAAACGATCGAGTG\n",
    "AATCCGGAGGACCGGTGTACTCAGCTCACCGGGGGCATTGCTCCCGTGGTGACCCTGATTTGTTGTTGGG\n",
    "...\n",
    "\n",
    "It contains 94 records, each has a line starting with “>” (greater-than symbol) followed by the sequence on one or more lines. Now try this in Python (printing the first 5 records):"
   ]
  },
  {
   "cell_type": "code",
   "execution_count": 11,
   "metadata": {
    "collapsed": false,
    "jupyter": {
     "outputs_hidden": false
    }
   },
   "outputs": [
    {
     "name": "stdout",
     "output_type": "stream",
     "text": [
      "gi|2765658|emb|Z78533.1|CIZ78533\n",
      "Seq('CGTAACAAGGTTTCCGTAGGTGAACCTGCGGAAGGATCATTGATGAGACCGTGG...CGC')\n",
      "740\n",
      "gi|2765657|emb|Z78532.1|CCZ78532\n",
      "Seq('CGTAACAAGGTTTCCGTAGGTGAACCTGCGGAAGGATCATTGTTGAGACAACAG...GGC')\n",
      "753\n",
      "gi|2765656|emb|Z78531.1|CFZ78531\n",
      "Seq('CGTAACAAGGTTTCCGTAGGTGAACCTGCGGAAGGATCATTGTTGAGACAGCAG...TAA')\n",
      "748\n",
      "gi|2765655|emb|Z78530.1|CMZ78530\n",
      "Seq('CGTAACAAGGTTTCCGTAGGTGAACCTGCGGAAGGATCATTGTTGAAACAACAT...CAT')\n",
      "744\n",
      "gi|2765654|emb|Z78529.1|CLZ78529\n",
      "Seq('ACGGCGAGCTGCCGAAGGACATTGTTGAGACAGCAGAATATACGATTGAGTGAA...AAA')\n",
      "733\n"
     ]
    }
   ],
   "source": [
    "from Bio import SeqIO\n",
    "for seq_record in list(SeqIO.parse(\"data/ls_orchid.fasta\", \"fasta\"))[:5]:\n",
    "    print(seq_record.id)\n",
    "    print(repr(seq_record.seq))\n",
    "    print(len(seq_record))"
   ]
  },
  {
   "cell_type": "markdown",
   "metadata": {},
   "source": [
    "### Simple GenBank parsing example"
   ]
  },
  {
   "cell_type": "markdown",
   "metadata": {},
   "source": [
    "Now let’s load the GenBank file <a href=\"../data/ls_orchid.gbk\">ls_orchid.gbk</a> instead - notice that the code to do this is almost identical to the snippet used above for the FASTA file - the only difference is we change the filename and the format string:"
   ]
  },
  {
   "cell_type": "code",
   "execution_count": 12,
   "metadata": {
    "collapsed": false,
    "jupyter": {
     "outputs_hidden": false
    }
   },
   "outputs": [
    {
     "name": "stdout",
     "output_type": "stream",
     "text": [
      "Z78533.1\n",
      "Seq('CGTAACAAGGTTTCCGTAGGTGAACCTGCGGAAGGATCATTGATGAGACCGTGG...CGC')\n",
      "740\n",
      "Z78532.1\n",
      "Seq('CGTAACAAGGTTTCCGTAGGTGAACCTGCGGAAGGATCATTGTTGAGACAACAG...GGC')\n",
      "753\n",
      "Z78531.1\n",
      "Seq('CGTAACAAGGTTTCCGTAGGTGAACCTGCGGAAGGATCATTGTTGAGACAGCAG...TAA')\n",
      "748\n",
      "Z78530.1\n",
      "Seq('CGTAACAAGGTTTCCGTAGGTGAACCTGCGGAAGGATCATTGTTGAAACAACAT...CAT')\n",
      "744\n",
      "Z78529.1\n",
      "Seq('ACGGCGAGCTGCCGAAGGACATTGTTGAGACAGCAGAATATACGATTGAGTGAA...AAA')\n",
      "733\n"
     ]
    }
   ],
   "source": [
    "from Bio import SeqIO\n",
    "for seq_record in list(SeqIO.parse(\"data/ls_orchid.gbk\", \"genbank\"))[:5]:\n",
    "    print(seq_record.id)\n",
    "    print(repr(seq_record.seq))\n",
    "    print(len(seq_record))"
   ]
  },
  {
   "cell_type": "code",
   "execution_count": 13,
   "metadata": {
    "collapsed": true,
    "jupyter": {
     "outputs_hidden": true
    },
    "tags": []
   },
   "outputs": [
    {
     "name": "stdout",
     "output_type": "stream",
     "text": [
      "Help on package Bio.SeqIO in Bio:\n",
      "\n",
      "NAME\n",
      "    Bio.SeqIO - Sequence input/output as SeqRecord objects.\n",
      "\n",
      "DESCRIPTION\n",
      "    Bio.SeqIO is also documented at SeqIO_ and by a whole chapter in our tutorial:\n",
      "    \n",
      "      - `HTML Tutorial`_\n",
      "      - `PDF Tutorial`_\n",
      "    \n",
      "    .. _SeqIO: http://biopython.org/wiki/SeqIO\n",
      "    .. _`HTML Tutorial`: http://biopython.org/DIST/docs/tutorial/Tutorial.html\n",
      "    .. _`PDF Tutorial`: http://biopython.org/DIST/docs/tutorial/Tutorial.pdf\n",
      "    \n",
      "    Input\n",
      "    -----\n",
      "    The main function is Bio.SeqIO.parse(...) which takes an input file handle\n",
      "    (or in recent versions of Biopython alternatively a filename as a string),\n",
      "    and format string.  This returns an iterator giving SeqRecord objects:\n",
      "    \n",
      "    >>> from Bio import SeqIO\n",
      "    >>> for record in SeqIO.parse(\"Fasta/f002\", \"fasta\"):\n",
      "    ...     print(\"%s %i\" % (record.id, len(record)))\n",
      "    gi|1348912|gb|G26680|G26680 633\n",
      "    gi|1348917|gb|G26685|G26685 413\n",
      "    gi|1592936|gb|G29385|G29385 471\n",
      "    \n",
      "    Note that the parse() function will invoke the relevant parser for the\n",
      "    format with its default settings.  You may want more control, in which case\n",
      "    you need to create a format specific sequence iterator directly.\n",
      "    \n",
      "    Some of these parsers are wrappers around low-level parsers which build up\n",
      "    SeqRecord objects for the consistent SeqIO interface. In cases where the\n",
      "    run-time is critical, such as large FASTA or FASTQ files, calling these\n",
      "    underlying parsers will be much faster - in this case these generator\n",
      "    functions which return tuples of strings:\n",
      "    \n",
      "    >>> from Bio.SeqIO.FastaIO import SimpleFastaParser\n",
      "    >>> from Bio.SeqIO.QualityIO import FastqGeneralIterator\n",
      "    \n",
      "    \n",
      "    Input - Single Records\n",
      "    ----------------------\n",
      "    If you expect your file to contain one-and-only-one record, then we provide\n",
      "    the following 'helper' function which will return a single SeqRecord, or\n",
      "    raise an exception if there are no records or more than one record:\n",
      "    \n",
      "    >>> from Bio import SeqIO\n",
      "    >>> record = SeqIO.read(\"Fasta/f001\", \"fasta\")\n",
      "    >>> print(\"%s %i\" % (record.id, len(record)))\n",
      "    gi|3318709|pdb|1A91| 79\n",
      "    \n",
      "    This style is useful when you expect a single record only (and would\n",
      "    consider multiple records an error).  For example, when dealing with GenBank\n",
      "    files for bacterial genomes or chromosomes, there is normally only a single\n",
      "    record.  Alternatively, use this with a handle when downloading a single\n",
      "    record from the internet.\n",
      "    \n",
      "    However, if you just want the first record from a file containing multiple\n",
      "    record, use the next() function on the iterator:\n",
      "    \n",
      "    >>> from Bio import SeqIO\n",
      "    >>> record = next(SeqIO.parse(\"Fasta/f002\", \"fasta\"))\n",
      "    >>> print(\"%s %i\" % (record.id, len(record)))\n",
      "    gi|1348912|gb|G26680|G26680 633\n",
      "    \n",
      "    The above code will work as long as the file contains at least one record.\n",
      "    Note that if there is more than one record, the remaining records will be\n",
      "    silently ignored.\n",
      "    \n",
      "    \n",
      "    Input - Multiple Records\n",
      "    ------------------------\n",
      "    For non-interlaced files (e.g. Fasta, GenBank, EMBL) with multiple records\n",
      "    using a sequence iterator can save you a lot of memory (RAM).  There is\n",
      "    less benefit for interlaced file formats (e.g. most multiple alignment file\n",
      "    formats).  However, an iterator only lets you access the records one by one.\n",
      "    \n",
      "    If you want random access to the records by number, turn this into a list:\n",
      "    \n",
      "    >>> from Bio import SeqIO\n",
      "    >>> records = list(SeqIO.parse(\"Fasta/f002\", \"fasta\"))\n",
      "    >>> len(records)\n",
      "    3\n",
      "    >>> print(records[1].id)\n",
      "    gi|1348917|gb|G26685|G26685\n",
      "    \n",
      "    If you want random access to the records by a key such as the record id,\n",
      "    turn the iterator into a dictionary:\n",
      "    \n",
      "    >>> from Bio import SeqIO\n",
      "    >>> record_dict = SeqIO.to_dict(SeqIO.parse(\"Fasta/f002\", \"fasta\"))\n",
      "    >>> len(record_dict)\n",
      "    3\n",
      "    >>> print(len(record_dict[\"gi|1348917|gb|G26685|G26685\"]))\n",
      "    413\n",
      "    \n",
      "    However, using list() or the to_dict() function will load all the records\n",
      "    into memory at once, and therefore is not possible on very large files.\n",
      "    Instead, for *some* file formats Bio.SeqIO provides an indexing approach\n",
      "    providing dictionary like access to any record. For example,\n",
      "    \n",
      "    >>> from Bio import SeqIO\n",
      "    >>> record_dict = SeqIO.index(\"Fasta/f002\", \"fasta\")\n",
      "    >>> len(record_dict)\n",
      "    3\n",
      "    >>> print(len(record_dict[\"gi|1348917|gb|G26685|G26685\"]))\n",
      "    413\n",
      "    >>> record_dict.close()\n",
      "    \n",
      "    Many but not all of the supported input file formats can be indexed like\n",
      "    this. For example \"fasta\", \"fastq\", \"qual\" and even the binary format \"sff\"\n",
      "    work, but alignment formats like \"phylip\", \"clustalw\" and \"nexus\" will not.\n",
      "    \n",
      "    In most cases you can also use SeqIO.index to get the record from the file\n",
      "    as a raw string (not a SeqRecord). This can be useful for example to extract\n",
      "    a sub-set of records from a file where SeqIO cannot output the file format\n",
      "    (e.g. the plain text SwissProt format, \"swiss\") or where it is important to\n",
      "    keep the output 100% identical to the input). For example,\n",
      "    \n",
      "    >>> from Bio import SeqIO\n",
      "    >>> record_dict = SeqIO.index(\"Fasta/f002\", \"fasta\")\n",
      "    >>> len(record_dict)\n",
      "    3\n",
      "    >>> print(record_dict.get_raw(\"gi|1348917|gb|G26685|G26685\").decode())\n",
      "    >gi|1348917|gb|G26685|G26685 human STS STS_D11734.\n",
      "    CGGAGCCAGCGAGCATATGCTGCATGAGGACCTTTCTATCTTACATTATGGCTGGGAATCTTACTCTTTC\n",
      "    ATCTGATACCTTGTTCAGATTTCAAAATAGTTGTAGCCTTATCCTGGTTTTACAGATGTGAAACTTTCAA\n",
      "    GAGATTTACTGACTTTCCTAGAATAGTTTCTCTACTGGAAACCTGATGCTTTTATAAGCCATTGTGATTA\n",
      "    GGATGACTGTTACAGGCTTAGCTTTGTGTGAAANCCAGTCACCTTTCTCCTAGGTAATGAGTAGTGCTGT\n",
      "    TCATATTACTNTAAGTTCTATAGCATACTTGCNATCCTTTANCCATGCTTATCATANGTACCATTTGAGG\n",
      "    AATTGNTTTGCCCTTTTGGGTTTNTTNTTGGTAAANNNTTCCCGGGTGGGGGNGGTNNNGAAA\n",
      "    <BLANKLINE>\n",
      "    >>> print(record_dict[\"gi|1348917|gb|G26685|G26685\"].format(\"fasta\"))\n",
      "    >gi|1348917|gb|G26685|G26685 human STS STS_D11734.\n",
      "    CGGAGCCAGCGAGCATATGCTGCATGAGGACCTTTCTATCTTACATTATGGCTGGGAATC\n",
      "    TTACTCTTTCATCTGATACCTTGTTCAGATTTCAAAATAGTTGTAGCCTTATCCTGGTTT\n",
      "    TACAGATGTGAAACTTTCAAGAGATTTACTGACTTTCCTAGAATAGTTTCTCTACTGGAA\n",
      "    ACCTGATGCTTTTATAAGCCATTGTGATTAGGATGACTGTTACAGGCTTAGCTTTGTGTG\n",
      "    AAANCCAGTCACCTTTCTCCTAGGTAATGAGTAGTGCTGTTCATATTACTNTAAGTTCTA\n",
      "    TAGCATACTTGCNATCCTTTANCCATGCTTATCATANGTACCATTTGAGGAATTGNTTTG\n",
      "    CCCTTTTGGGTTTNTTNTTGGTAAANNNTTCCCGGGTGGGGGNGGTNNNGAAA\n",
      "    <BLANKLINE>\n",
      "    >>> record_dict.close()\n",
      "    \n",
      "    Here the original file and what Biopython would output differ in the line\n",
      "    wrapping. Also note that the get_raw method will return a bytes object,\n",
      "    hence the use of decode to turn it into a string.\n",
      "    \n",
      "    Also note that the get_raw method will preserve the newline endings. This\n",
      "    example FASTQ file uses Unix style endings (b\"\\n\" only),\n",
      "    \n",
      "    >>> from Bio import SeqIO\n",
      "    >>> fastq_dict = SeqIO.index(\"Quality/example.fastq\", \"fastq\")\n",
      "    >>> len(fastq_dict)\n",
      "    3\n",
      "    >>> raw = fastq_dict.get_raw(\"EAS54_6_R1_2_1_540_792\")\n",
      "    >>> raw.count(b\"\\n\")\n",
      "    4\n",
      "    >>> raw.count(b\"\\r\\n\")\n",
      "    0\n",
      "    >>> b\"\\r\" in raw\n",
      "    False\n",
      "    >>> len(raw)\n",
      "    78\n",
      "    >>> fastq_dict.close()\n",
      "    \n",
      "    Here is the same file but using DOS/Windows new lines (b\"\\r\\n\" instead),\n",
      "    \n",
      "    >>> from Bio import SeqIO\n",
      "    >>> fastq_dict = SeqIO.index(\"Quality/example_dos.fastq\", \"fastq\")\n",
      "    >>> len(fastq_dict)\n",
      "    3\n",
      "    >>> raw = fastq_dict.get_raw(\"EAS54_6_R1_2_1_540_792\")\n",
      "    >>> raw.count(b\"\\n\")\n",
      "    4\n",
      "    >>> raw.count(b\"\\r\\n\")\n",
      "    4\n",
      "    >>> b\"\\r\\n\" in raw\n",
      "    True\n",
      "    >>> len(raw)\n",
      "    82\n",
      "    >>> fastq_dict.close()\n",
      "    \n",
      "    Because this uses two bytes for each new line, the file is longer than\n",
      "    the Unix equivalent with only one byte.\n",
      "    \n",
      "    \n",
      "    Input - Alignments\n",
      "    ------------------\n",
      "    You can read in alignment files as alignment objects using Bio.AlignIO.\n",
      "    Alternatively, reading in an alignment file format via Bio.SeqIO will give\n",
      "    you a SeqRecord for each row of each alignment:\n",
      "    \n",
      "    >>> from Bio import SeqIO\n",
      "    >>> for record in SeqIO.parse(\"Clustalw/hedgehog.aln\", \"clustal\"):\n",
      "    ...     print(\"%s %i\" % (record.id, len(record)))\n",
      "    gi|167877390|gb|EDS40773.1| 447\n",
      "    gi|167234445|ref|NP_001107837. 447\n",
      "    gi|74100009|gb|AAZ99217.1| 447\n",
      "    gi|13990994|dbj|BAA33523.2| 447\n",
      "    gi|56122354|gb|AAV74328.1| 447\n",
      "    \n",
      "    \n",
      "    Output\n",
      "    ------\n",
      "    Use the function Bio.SeqIO.write(...), which takes a complete set of\n",
      "    SeqRecord objects (either as a list, or an iterator), an output file handle\n",
      "    (or in recent versions of Biopython an output filename as a string) and of\n",
      "    course the file format::\n",
      "    \n",
      "      from Bio import SeqIO\n",
      "      records = ...\n",
      "      SeqIO.write(records, \"example.faa\", \"fasta\")\n",
      "    \n",
      "    Or, using a handle::\n",
      "    \n",
      "        from Bio import SeqIO\n",
      "        records = ...\n",
      "        with open(\"example.faa\", \"w\") as handle:\n",
      "          SeqIO.write(records, handle, \"fasta\")\n",
      "    \n",
      "    You are expected to call this function once (with all your records) and if\n",
      "    using a handle, make sure you close it to flush the data to the hard disk.\n",
      "    \n",
      "    \n",
      "    Output - Advanced\n",
      "    -----------------\n",
      "    The effect of calling write() multiple times on a single file will vary\n",
      "    depending on the file format, and is best avoided unless you have a strong\n",
      "    reason to do so.\n",
      "    \n",
      "    If you give a filename, then each time you call write() the existing file\n",
      "    will be overwritten. For sequential files formats (e.g. fasta, genbank) each\n",
      "    \"record block\" holds a single sequence.  For these files it would probably\n",
      "    be safe to call write() multiple times by re-using the same handle.\n",
      "    \n",
      "    However, trying this for certain alignment formats (e.g. phylip, clustal,\n",
      "    stockholm) would have the effect of concatenating several multiple sequence\n",
      "    alignments together.  Such files are created by the PHYLIP suite of programs\n",
      "    for bootstrap analysis, but it is clearer to do this via Bio.AlignIO instead.\n",
      "    \n",
      "    Worse, many fileformats have an explicit header and/or footer structure\n",
      "    (e.g. any XMl format, and most binary file formats like SFF). Here making\n",
      "    multiple calls to write() will result in an invalid file.\n",
      "    \n",
      "    \n",
      "    Conversion\n",
      "    ----------\n",
      "    The Bio.SeqIO.convert(...) function allows an easy interface for simple\n",
      "    file format conversions. Additionally, it may use file format specific\n",
      "    optimisations so this should be the fastest way too.\n",
      "    \n",
      "    In general however, you can combine the Bio.SeqIO.parse(...) function with\n",
      "    the Bio.SeqIO.write(...) function for sequence file conversion. Using\n",
      "    generator expressions or generator functions provides a memory efficient way\n",
      "    to perform filtering or other extra operations as part of the process.\n",
      "    \n",
      "    \n",
      "    File Formats\n",
      "    ------------\n",
      "    When specifying the file format, use lowercase strings.  The same format\n",
      "    names are also used in Bio.AlignIO and include the following:\n",
      "    \n",
      "        - abi     - Applied Biosystem's sequencing trace format\n",
      "        - abi-trim - Same as \"abi\" but with quality trimming with Mott's algorithm\n",
      "        - ace     - Reads the contig sequences from an ACE assembly file.\n",
      "        - cif-atom - Uses Bio.PDB.MMCIFParser to determine the (partial) protein\n",
      "          sequence as it appears in the structure based on the atomic coordinates.\n",
      "        - cif-seqres - Reads a macromolecular Crystallographic Information File\n",
      "          (mmCIF) file to determine the complete protein sequence as defined by the\n",
      "          _pdbx_poly_seq_scheme records.\n",
      "        - embl    - The EMBL flat file format. Uses Bio.GenBank internally.\n",
      "        - fasta   - The generic sequence file format where each record starts with\n",
      "          an identifier line starting with a \">\" character, followed by\n",
      "          lines of sequence.\n",
      "        - fasta-2line - Stricter interpretation of the FASTA format using exactly\n",
      "          two lines per record (no line wrapping).\n",
      "        - fastq   - A \"FASTA like\" format used by Sanger which also stores PHRED\n",
      "          sequence quality values (with an ASCII offset of 33).\n",
      "        - fastq-sanger - An alias for \"fastq\" for consistency with BioPerl and EMBOSS\n",
      "        - fastq-solexa - Original Solexa/Illumnia variant of the FASTQ format which\n",
      "          encodes Solexa quality scores (not PHRED quality scores) with an\n",
      "          ASCII offset of 64.\n",
      "        - fastq-illumina - Solexa/Illumina 1.3 to 1.7 variant of the FASTQ format\n",
      "          which encodes PHRED quality scores with an ASCII offset of 64\n",
      "          (not 33). Note as of version 1.8 of the CASAVA pipeline Illumina\n",
      "          will produce FASTQ files using the standard Sanger encoding.\n",
      "        - gck     - Gene Construction Kit's format.\n",
      "        - genbank - The GenBank or GenPept flat file format.\n",
      "        - gb      - An alias for \"genbank\", for consistency with NCBI Entrez Utilities\n",
      "        - ig      - The IntelliGenetics file format, apparently the same as the\n",
      "          MASE alignment format.\n",
      "        - imgt    - An EMBL like format from IMGT where the feature tables are more\n",
      "          indented to allow for longer feature types.\n",
      "        - nib     - UCSC's nib file format for nucleotide sequences, which uses one\n",
      "          nibble (4 bits) to represent each nucleotide, and stores two nucleotides in\n",
      "          one byte.\n",
      "        - pdb-seqres -  Reads a Protein Data Bank (PDB) file to determine the\n",
      "          complete protein sequence as it appears in the header (no dependencies).\n",
      "        - pdb-atom - Uses Bio.PDB to determine the (partial) protein sequence as\n",
      "          it appears in the structure based on the atom coordinate section of the\n",
      "          file (requires NumPy for Bio.PDB).\n",
      "        - phd     - Output from PHRED, used by PHRAP and CONSED for input.\n",
      "        - pir     - A \"FASTA like\" format introduced by the National Biomedical\n",
      "          Research Foundation (NBRF) for the Protein Information Resource\n",
      "          (PIR) database, now part of UniProt.\n",
      "        - seqxml  - SeqXML, simple XML format described in Schmitt et al (2011).\n",
      "        - sff     - Standard Flowgram Format (SFF), typical output from Roche 454.\n",
      "        - sff-trim - Standard Flowgram Format (SFF) with given trimming applied.\n",
      "        - snapgene - SnapGene's native format.\n",
      "        - swiss   - Plain text Swiss-Prot aka UniProt format.\n",
      "        - tab     - Simple two column tab separated sequence files, where each\n",
      "          line holds a record's identifier and sequence. For example,\n",
      "          this is used as by Aligent's eArray software when saving\n",
      "          microarray probes in a minimal tab delimited text file.\n",
      "        - qual    - A \"FASTA like\" format holding PHRED quality values from\n",
      "          sequencing DNA, but no actual sequences (usually provided\n",
      "          in separate FASTA files).\n",
      "        - uniprot-xml - The UniProt XML format (replacement for the SwissProt plain\n",
      "          text format which we call \"swiss\")\n",
      "        - xdna        - DNA Strider's and SerialCloner's native format.\n",
      "    \n",
      "    Note that while Bio.SeqIO can read all the above file formats, it cannot\n",
      "    write to all of them.\n",
      "    \n",
      "    You can also use any file format supported by Bio.AlignIO, such as \"nexus\",\n",
      "    \"phylip\" and \"stockholm\", which gives you access to the individual sequences\n",
      "    making up each alignment as SeqRecords.\n",
      "\n",
      "PACKAGE CONTENTS\n",
      "    AbiIO\n",
      "    AceIO\n",
      "    FastaIO\n",
      "    GckIO\n",
      "    IgIO\n",
      "    InsdcIO\n",
      "    Interfaces\n",
      "    NibIO\n",
      "    PdbIO\n",
      "    PhdIO\n",
      "    PirIO\n",
      "    QualityIO\n",
      "    SeqXmlIO\n",
      "    SffIO\n",
      "    SnapGeneIO\n",
      "    SwissIO\n",
      "    TabIO\n",
      "    TwoBitIO\n",
      "    UniprotIO\n",
      "    XdnaIO\n",
      "    _index\n",
      "    _twoBitIO\n",
      "\n",
      "FUNCTIONS\n",
      "    convert(in_file, in_format, out_file, out_format, molecule_type=None)\n",
      "        Convert between two sequence file formats, return number of records.\n",
      "        \n",
      "        Arguments:\n",
      "         - in_file - an input handle or filename\n",
      "         - in_format - input file format, lower case string\n",
      "         - out_file - an output handle or filename\n",
      "         - out_format - output file format, lower case string\n",
      "         - molecule_type - optional molecule type to apply, string containing\n",
      "           \"DNA\", \"RNA\" or \"protein\".\n",
      "        \n",
      "        **NOTE** - If you provide an output filename, it will be opened which will\n",
      "        overwrite any existing file without warning.\n",
      "        \n",
      "        The idea here is that while doing this will work::\n",
      "        \n",
      "            from Bio import SeqIO\n",
      "            records = SeqIO.parse(in_handle, in_format)\n",
      "            count = SeqIO.write(records, out_handle, out_format)\n",
      "        \n",
      "        it is shorter to write::\n",
      "        \n",
      "            from Bio import SeqIO\n",
      "            count = SeqIO.convert(in_handle, in_format, out_handle, out_format)\n",
      "        \n",
      "        Also, Bio.SeqIO.convert is faster for some conversions as it can make some\n",
      "        optimisations.\n",
      "        \n",
      "        For example, going from a filename to a handle:\n",
      "        \n",
      "        >>> from Bio import SeqIO\n",
      "        >>> from io import StringIO\n",
      "        >>> handle = StringIO(\"\")\n",
      "        >>> SeqIO.convert(\"Quality/example.fastq\", \"fastq\", handle, \"fasta\")\n",
      "        3\n",
      "        >>> print(handle.getvalue())\n",
      "        >EAS54_6_R1_2_1_413_324\n",
      "        CCCTTCTTGTCTTCAGCGTTTCTCC\n",
      "        >EAS54_6_R1_2_1_540_792\n",
      "        TTGGCAGGCCAAGGCCGATGGATCA\n",
      "        >EAS54_6_R1_2_1_443_348\n",
      "        GTTGCTTCTGGCGTGGGTGGGGGGG\n",
      "        <BLANKLINE>\n",
      "        \n",
      "        Note some formats like SeqXML require you to specify the molecule type\n",
      "        when it cannot be determined by the parser:\n",
      "        \n",
      "        >>> from Bio import SeqIO\n",
      "        >>> from io import BytesIO\n",
      "        >>> handle = BytesIO()\n",
      "        >>> SeqIO.convert(\"Quality/example.fastq\", \"fastq\", handle, \"seqxml\", \"DNA\")\n",
      "        3\n",
      "    \n",
      "    index(filename, format, alphabet=None, key_function=None)\n",
      "        Indexes a sequence file and returns a dictionary like object.\n",
      "        \n",
      "        Arguments:\n",
      "         - filename - string giving name of file to be indexed\n",
      "         - format   - lower case string describing the file format\n",
      "         - alphabet - no longer used, leave as None\n",
      "         - key_function - Optional callback function which when given a\n",
      "           SeqRecord identifier string should return a unique key for the\n",
      "           dictionary.\n",
      "        \n",
      "        This indexing function will return a dictionary like object, giving the\n",
      "        SeqRecord objects as values.\n",
      "        \n",
      "        As of Biopython 1.69, this will preserve the ordering of the records in\n",
      "        file when iterating over the entries.\n",
      "        \n",
      "        >>> from Bio import SeqIO\n",
      "        >>> records = SeqIO.index(\"Quality/example.fastq\", \"fastq\")\n",
      "        >>> len(records)\n",
      "        3\n",
      "        >>> list(records)  # make a list of the keys\n",
      "        ['EAS54_6_R1_2_1_413_324', 'EAS54_6_R1_2_1_540_792', 'EAS54_6_R1_2_1_443_348']\n",
      "        >>> print(records[\"EAS54_6_R1_2_1_540_792\"].format(\"fasta\"))\n",
      "        >EAS54_6_R1_2_1_540_792\n",
      "        TTGGCAGGCCAAGGCCGATGGATCA\n",
      "        <BLANKLINE>\n",
      "        >>> \"EAS54_6_R1_2_1_540_792\" in records\n",
      "        True\n",
      "        >>> print(records.get(\"Missing\", None))\n",
      "        None\n",
      "        >>> records.close()\n",
      "        \n",
      "        If the file is BGZF compressed, this is detected automatically. Ordinary\n",
      "        GZIP files are not supported:\n",
      "        \n",
      "        >>> from Bio import SeqIO\n",
      "        >>> records = SeqIO.index(\"Quality/example.fastq.bgz\", \"fastq\")\n",
      "        >>> len(records)\n",
      "        3\n",
      "        >>> print(records[\"EAS54_6_R1_2_1_540_792\"].seq)\n",
      "        TTGGCAGGCCAAGGCCGATGGATCA\n",
      "        >>> records.close()\n",
      "        \n",
      "        When you call the index function, it will scan through the file, noting\n",
      "        the location of each record. When you access a particular record via the\n",
      "        dictionary methods, the code will jump to the appropriate part of the\n",
      "        file and then parse that section into a SeqRecord.\n",
      "        \n",
      "        Note that not all the input formats supported by Bio.SeqIO can be used\n",
      "        with this index function. It is designed to work only with sequential\n",
      "        file formats (e.g. \"fasta\", \"gb\", \"fastq\") and is not suitable for any\n",
      "        interlaced file format (e.g. alignment formats such as \"clustal\").\n",
      "        \n",
      "        For small files, it may be more efficient to use an in memory Python\n",
      "        dictionary, e.g.\n",
      "        \n",
      "        >>> from Bio import SeqIO\n",
      "        >>> records = SeqIO.to_dict(SeqIO.parse(\"Quality/example.fastq\", \"fastq\"))\n",
      "        >>> len(records)\n",
      "        3\n",
      "        >>> list(records)  # make a list of the keys\n",
      "        ['EAS54_6_R1_2_1_413_324', 'EAS54_6_R1_2_1_540_792', 'EAS54_6_R1_2_1_443_348']\n",
      "        >>> print(records[\"EAS54_6_R1_2_1_540_792\"].format(\"fasta\"))\n",
      "        >EAS54_6_R1_2_1_540_792\n",
      "        TTGGCAGGCCAAGGCCGATGGATCA\n",
      "        <BLANKLINE>\n",
      "        \n",
      "        As with the to_dict() function, by default the id string of each record\n",
      "        is used as the key. You can specify a callback function to transform\n",
      "        this (the record identifier string) into your preferred key. For example:\n",
      "        \n",
      "        >>> from Bio import SeqIO\n",
      "        >>> def make_tuple(identifier):\n",
      "        ...     parts = identifier.split(\"_\")\n",
      "        ...     return int(parts[-2]), int(parts[-1])\n",
      "        >>> records = SeqIO.index(\"Quality/example.fastq\", \"fastq\",\n",
      "        ...                       key_function=make_tuple)\n",
      "        >>> len(records)\n",
      "        3\n",
      "        >>> list(records)  # make a list of the keys\n",
      "        [(413, 324), (540, 792), (443, 348)]\n",
      "        >>> print(records[(540, 792)].format(\"fasta\"))\n",
      "        >EAS54_6_R1_2_1_540_792\n",
      "        TTGGCAGGCCAAGGCCGATGGATCA\n",
      "        <BLANKLINE>\n",
      "        >>> (540, 792) in records\n",
      "        True\n",
      "        >>> \"EAS54_6_R1_2_1_540_792\" in records\n",
      "        False\n",
      "        >>> print(records.get(\"Missing\", None))\n",
      "        None\n",
      "        >>> records.close()\n",
      "        \n",
      "        Another common use case would be indexing an NCBI style FASTA file,\n",
      "        where you might want to extract the GI number from the FASTA identifier\n",
      "        to use as the dictionary key.\n",
      "        \n",
      "        Notice that unlike the to_dict() function, here the key_function does\n",
      "        not get given the full SeqRecord to use to generate the key. Doing so\n",
      "        would impose a severe performance penalty as it would require the file\n",
      "        to be completely parsed while building the index. Right now this is\n",
      "        usually avoided.\n",
      "        \n",
      "        See Also: Bio.SeqIO.index_db() and Bio.SeqIO.to_dict()\n",
      "    \n",
      "    index_db(index_filename, filenames=None, format=None, alphabet=None, key_function=None)\n",
      "        Index several sequence files and return a dictionary like object.\n",
      "        \n",
      "        The index is stored in an SQLite database rather than in memory (as in the\n",
      "        Bio.SeqIO.index(...) function).\n",
      "        \n",
      "        Arguments:\n",
      "         - index_filename - Where to store the SQLite index\n",
      "         - filenames - list of strings specifying file(s) to be indexed, or when\n",
      "           indexing a single file this can be given as a string.\n",
      "           (optional if reloading an existing index, but must match)\n",
      "         - format   - lower case string describing the file format\n",
      "           (optional if reloading an existing index, but must match)\n",
      "         - alphabet - no longer used, leave as None.\n",
      "         - key_function - Optional callback function which when given a\n",
      "           SeqRecord identifier string should return a unique\n",
      "           key for the dictionary.\n",
      "        \n",
      "        This indexing function will return a dictionary like object, giving the\n",
      "        SeqRecord objects as values:\n",
      "        \n",
      "        >>> from Bio import SeqIO\n",
      "        >>> files = [\"GenBank/NC_000932.faa\", \"GenBank/NC_005816.faa\"]\n",
      "        >>> def get_gi(name):\n",
      "        ...     parts = name.split(\"|\")\n",
      "        ...     i = parts.index(\"gi\")\n",
      "        ...     assert i != -1\n",
      "        ...     return parts[i+1]\n",
      "        >>> idx_name = \":memory:\" #use an in memory SQLite DB for this test\n",
      "        >>> records = SeqIO.index_db(idx_name, files, \"fasta\", key_function=get_gi)\n",
      "        >>> len(records)\n",
      "        95\n",
      "        >>> records[\"7525076\"].description\n",
      "        'gi|7525076|ref|NP_051101.1| Ycf2 [Arabidopsis thaliana]'\n",
      "        >>> records[\"45478717\"].description\n",
      "        'gi|45478717|ref|NP_995572.1| pesticin [Yersinia pestis biovar Microtus str. 91001]'\n",
      "        >>> records.close()\n",
      "        \n",
      "        In this example the two files contain 85 and 10 records respectively.\n",
      "        \n",
      "        BGZF compressed files are supported, and detected automatically. Ordinary\n",
      "        GZIP compressed files are not supported.\n",
      "        \n",
      "        See Also: Bio.SeqIO.index() and Bio.SeqIO.to_dict(), and the Python module\n",
      "        glob which is useful for building lists of files.\n",
      "    \n",
      "    parse(handle, format, alphabet=None)\n",
      "        Turn a sequence file into an iterator returning SeqRecords.\n",
      "        \n",
      "        Arguments:\n",
      "         - handle   - handle to the file, or the filename as a string\n",
      "           (note older versions of Biopython only took a handle).\n",
      "         - format   - lower case string describing the file format.\n",
      "         - alphabet - no longer used, should be None.\n",
      "        \n",
      "        Typical usage, opening a file to read in, and looping over the record(s):\n",
      "        \n",
      "        >>> from Bio import SeqIO\n",
      "        >>> filename = \"Fasta/sweetpea.nu\"\n",
      "        >>> for record in SeqIO.parse(filename, \"fasta\"):\n",
      "        ...    print(\"ID %s\" % record.id)\n",
      "        ...    print(\"Sequence length %i\" % len(record))\n",
      "        ID gi|3176602|gb|U78617.1|LOU78617\n",
      "        Sequence length 309\n",
      "        \n",
      "        If you have a string 'data' containing the file contents, you must\n",
      "        first turn this into a handle in order to parse it:\n",
      "        \n",
      "        >>> data = \">Alpha\\nACCGGATGTA\\n>Beta\\nAGGCTCGGTTA\\n\"\n",
      "        >>> from Bio import SeqIO\n",
      "        >>> from io import StringIO\n",
      "        >>> for record in SeqIO.parse(StringIO(data), \"fasta\"):\n",
      "        ...     print(\"%s %s\" % (record.id, record.seq))\n",
      "        Alpha ACCGGATGTA\n",
      "        Beta AGGCTCGGTTA\n",
      "        \n",
      "        Use the Bio.SeqIO.read(...) function when you expect a single record\n",
      "        only.\n",
      "    \n",
      "    read(handle, format, alphabet=None)\n",
      "        Turn a sequence file into a single SeqRecord.\n",
      "        \n",
      "        Arguments:\n",
      "         - handle   - handle to the file, or the filename as a string\n",
      "           (note older versions of Biopython only took a handle).\n",
      "         - format   - string describing the file format.\n",
      "         - alphabet - no longer used, should be None.\n",
      "        \n",
      "        This function is for use parsing sequence files containing\n",
      "        exactly one record.  For example, reading a GenBank file:\n",
      "        \n",
      "        >>> from Bio import SeqIO\n",
      "        >>> record = SeqIO.read(\"GenBank/arab1.gb\", \"genbank\")\n",
      "        >>> print(\"ID %s\" % record.id)\n",
      "        ID AC007323.5\n",
      "        >>> print(\"Sequence length %i\" % len(record))\n",
      "        Sequence length 86436\n",
      "        \n",
      "        If the handle contains no records, or more than one record,\n",
      "        an exception is raised.  For example:\n",
      "        \n",
      "        >>> from Bio import SeqIO\n",
      "        >>> record = SeqIO.read(\"GenBank/cor6_6.gb\", \"genbank\")\n",
      "        Traceback (most recent call last):\n",
      "            ...\n",
      "        ValueError: More than one record found in handle\n",
      "        \n",
      "        If however you want the first record from a file containing\n",
      "        multiple records this function would raise an exception (as\n",
      "        shown in the example above).  Instead use:\n",
      "        \n",
      "        >>> from Bio import SeqIO\n",
      "        >>> record = next(SeqIO.parse(\"GenBank/cor6_6.gb\", \"genbank\"))\n",
      "        >>> print(\"First record's ID %s\" % record.id)\n",
      "        First record's ID X55053.1\n",
      "        \n",
      "        Use the Bio.SeqIO.parse(handle, format) function if you want\n",
      "        to read multiple records from the handle.\n",
      "    \n",
      "    to_dict(sequences, key_function=None)\n",
      "        Turn a sequence iterator or list into a dictionary.\n",
      "        \n",
      "        Arguments:\n",
      "         - sequences  - An iterator that returns SeqRecord objects,\n",
      "           or simply a list of SeqRecord objects.\n",
      "         - key_function - Optional callback function which when given a\n",
      "           SeqRecord should return a unique key for the dictionary.\n",
      "        \n",
      "        e.g. key_function = lambda rec : rec.name\n",
      "        or,  key_function = lambda rec : rec.description.split()[0]\n",
      "        \n",
      "        If key_function is omitted then record.id is used, on the assumption\n",
      "        that the records objects returned are SeqRecords with a unique id.\n",
      "        \n",
      "        If there are duplicate keys, an error is raised.\n",
      "        \n",
      "        Since Python 3.7, the default dict class maintains key order, meaning\n",
      "        this dictionary will reflect the order of records given to it. For\n",
      "        CPython and PyPy, this was already implemented for Python 3.6, so\n",
      "        effectively you can always assume the record order is preserved.\n",
      "        \n",
      "        Example usage, defaulting to using the record.id as key:\n",
      "        \n",
      "        >>> from Bio import SeqIO\n",
      "        >>> filename = \"GenBank/cor6_6.gb\"\n",
      "        >>> format = \"genbank\"\n",
      "        >>> id_dict = SeqIO.to_dict(SeqIO.parse(filename, format))\n",
      "        >>> print(list(id_dict))\n",
      "        ['X55053.1', 'X62281.1', 'M81224.1', 'AJ237582.1', 'L31939.1', 'AF297471.1']\n",
      "        >>> print(id_dict[\"L31939.1\"].description)\n",
      "        Brassica rapa (clone bif72) kin mRNA, complete cds\n",
      "        \n",
      "        A more complex example, using the key_function argument in order to\n",
      "        use a sequence checksum as the dictionary key:\n",
      "        \n",
      "        >>> from Bio import SeqIO\n",
      "        >>> from Bio.SeqUtils.CheckSum import seguid\n",
      "        >>> filename = \"GenBank/cor6_6.gb\"\n",
      "        >>> format = \"genbank\"\n",
      "        >>> seguid_dict = SeqIO.to_dict(SeqIO.parse(filename, format),\n",
      "        ...               key_function = lambda rec : seguid(rec.seq))\n",
      "        >>> for key, record in sorted(seguid_dict.items()):\n",
      "        ...     print(\"%s %s\" % (key, record.id))\n",
      "        /wQvmrl87QWcm9llO4/efg23Vgg AJ237582.1\n",
      "        BUg6YxXSKWEcFFH0L08JzaLGhQs L31939.1\n",
      "        SabZaA4V2eLE9/2Fm5FnyYy07J4 X55053.1\n",
      "        TtWsXo45S3ZclIBy4X/WJc39+CY M81224.1\n",
      "        l7gjJFE6W/S1jJn5+1ASrUKW/FA X62281.1\n",
      "        uVEYeAQSV5EDQOnFoeMmVea+Oow AF297471.1\n",
      "        \n",
      "        This approach is not suitable for very large sets of sequences, as all\n",
      "        the SeqRecord objects are held in memory. Instead, consider using the\n",
      "        Bio.SeqIO.index() function (if it supports your particular file format).\n",
      "        \n",
      "        Since Python 3.6, the default dict class maintains key order, meaning\n",
      "        this dictionary will reflect the order of records given to it. As of\n",
      "        Biopython 1.72, on older versions of Python we explicitly use an\n",
      "        OrderedDict so that you can always assume the record order is preserved.\n",
      "    \n",
      "    write(sequences, handle, format)\n",
      "        Write complete set of sequences to a file.\n",
      "        \n",
      "        Arguments:\n",
      "         - sequences - A list (or iterator) of SeqRecord objects, or a single\n",
      "           SeqRecord.\n",
      "         - handle    - File handle object to write to, or filename as string.\n",
      "         - format    - lower case string describing the file format to write.\n",
      "        \n",
      "        Note if providing a file handle, your code should close the handle\n",
      "        after calling this function (to ensure the data gets flushed to disk).\n",
      "        \n",
      "        Returns the number of records written (as an integer).\n",
      "\n",
      "FILE\n",
      "    /Users/squiresrb/opt/anaconda3/lib/python3.8/site-packages/Bio/SeqIO/__init__.py\n",
      "\n",
      "\n"
     ]
    }
   ],
   "source": [
    "help(SeqIO)"
   ]
  },
  {
   "cell_type": "markdown",
   "metadata": {},
   "source": [
    "You’ll also notice that a shorter string has been used as the **seq_record.id** in this case."
   ]
  },
  {
   "cell_type": "markdown",
   "metadata": {},
   "source": [
    "### I love parsing – please don’t stop talking about it!"
   ]
  },
  {
   "cell_type": "markdown",
   "metadata": {},
   "source": [
    "Biopython has a lot of parsers, and each has its own little special niches based on the sequence format it is parsing and all of that.\n",
    "\n",
    "While the most popular file formats have parsers integrated into *Bio.SeqIO* and/or *Bio.AlignIO*, for some of the rarer and unloved file formats there is either no parser at all, or an old parser which has not been linked in yet. Please also check the wiki pages http://biopython.org/wiki/SeqIO and http://biopython.org/wiki/AlignIO for the latest information, or ask on the mailing list. The wiki pages should include an up to date list of supported file types, and some additional examples.\n",
    "\n",
    "The next place to look for information about specific parsers and how to do cool things with them is in the Cookbook. If you don’t find the information you are looking for, please consider helping out your poor overworked documentors and submitting a cookbook entry about it! (once you figure out how to do it, that is!)"
   ]
  },
  {
   "cell_type": "markdown",
   "metadata": {},
   "source": [
    "## Connecting with biological databases"
   ]
  },
  {
   "cell_type": "markdown",
   "metadata": {},
   "source": [
    "One of the very common things that you need to do in bioinformatics is extract information from biological databases. It can be quite tedious to access these databases manually, especially if you have a lot of repetitive work to do. Biopython attempts to save you time and energy by making some on-line databases available from Python scripts. Currently, Biopython has code to extract information from the following databases:\n",
    "\n",
    "- Entrez (and PubMed) from the NCBI\n",
    "- ExPASy\n",
    "- SCOP\n",
    "\n",
    "The code in these modules basically makes it easy to write Python code that interact with the CGI scripts on these pages, so that you can get results in an easy to deal with format. In some cases, the results can be tightly integrated with the Biopython parsers to make it even easier to extract information."
   ]
  },
  {
   "cell_type": "markdown",
   "metadata": {},
   "source": [
    "## What to do next"
   ]
  },
  {
   "cell_type": "markdown",
   "metadata": {},
   "source": [
    "Now that you’ve made it this far, you hopefully have a good understanding of the basics of Biopython and are ready to start using it for doing useful work. The best thing to do now is finish reading this tutorial, and then if you want start snooping around in the source code, and looking at the automatically generated documentation.\n",
    "\n",
    "Once you get a picture of what you want to do, and what libraries in Biopython will do it, you should take a peak at the Cookbook (Chapter 18), which may have example code to do something similar to what you want to do.\n",
    "\n",
    "If you know what you want to do, but can’t figure out how to do it, please feel free to post questions to the main Biopython list (see http://biopython.org/wiki/Mailing_lists). This will not only help us answer your question, it will also allow us to improve the documentation so it can help the next person do what you want to do.\n",
    "\n",
    "Enjoy the code!"
   ]
  },
  {
   "cell_type": "code",
   "execution_count": null,
   "metadata": {
    "collapsed": false,
    "jupyter": {
     "outputs_hidden": false
    }
   },
   "outputs": [],
   "source": []
  }
 ],
 "metadata": {
  "kernelspec": {
   "display_name": "Python 3 (ipykernel)",
   "language": "python",
   "name": "python3"
  },
  "language_info": {
   "codemirror_mode": {
    "name": "ipython",
    "version": 3
   },
   "file_extension": ".py",
   "mimetype": "text/x-python",
   "name": "python",
   "nbconvert_exporter": "python",
   "pygments_lexer": "ipython3",
   "version": "3.8.12"
  }
 },
 "nbformat": 4,
 "nbformat_minor": 4
}
