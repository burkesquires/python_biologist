{
 "cells": [
  {
   "cell_type": "markdown",
   "metadata": {},
   "source": [
    "**Source of the materials**: Biopython cookbook (adapted)\n",
    "<font color='red'>Status: Draft</font>"
   ]
  },
  {
   "cell_type": "markdown",
   "metadata": {},
   "source": [
    "# About the contents"
   ]
  },
  {
   "cell_type": "markdown",
   "metadata": {},
   "source": [
    "The contents of these notebooks have several sources (mostly the Biopython Tutorial and Peter Cock's workshop). Credit to the source of will be given at the start of the notebook.\n",
    "\n",
    "The current version of these notebooks losely follows the structure of the Tutorial.\n",
    "\n",
    "As IPython Notebook is generaly available with matplotlib, NumPy and SciPy I will make use of these if I found it relevant."
   ]
  },
  {
   "cell_type": "markdown",
   "metadata": {},
   "source": [
    "## Authorship"
   ]
  },
  {
   "cell_type": "markdown",
   "metadata": {},
   "source": [
    "The authors of the Biopython tutorial and cookbook are: Jeff Chang, Brad Chapman, Iddo Friedberg, Thomas Hamelryck,\n",
    "Michiel de Hoon, Peter Cock, Tiago Antao, Eric Talevich, Bartek Wilczynski"
   ]
  },
  {
   "cell_type": "markdown",
   "metadata": {},
   "source": [
    "The people doing the conversion to IPython Notebook format are: Vincent Davis and Tiago Antao"
   ]
  }
 ],
 "metadata": {
  "kernelspec": {
   "display_name": "Python 3",
   "language": "python",
   "name": "python3"
  },
  "language_info": {
   "codemirror_mode": {
    "name": "ipython",
    "version": 3
   },
   "file_extension": ".py",
   "mimetype": "text/x-python",
   "name": "python",
   "nbconvert_exporter": "python",
   "pygments_lexer": "ipython3",
   "version": "3.5.1"
  }
 },
 "nbformat": 4,
 "nbformat_minor": 0
}
