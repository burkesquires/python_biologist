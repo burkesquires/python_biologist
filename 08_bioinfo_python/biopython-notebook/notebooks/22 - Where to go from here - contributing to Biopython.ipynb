{
 "cells": [
  {
   "cell_type": "markdown",
   "metadata": {},
   "source": [
    "**Source of the materials**: Biopython cookbook (adapted)\n",
    "<font color='red'>Status: Draft</font>"
   ]
  },
  {
   "cell_type": "markdown",
   "metadata": {},
   "source": [
    "Where to go from here – contributing to Biopython\n",
    "=================================================\n",
    "\n",
    "Bug Reports + Feature Requests\n",
    "------------------------------\n",
    "\n",
    "Getting feedback on the Biopython modules is very important to us.\n",
    "Open-source projects like this benefit greatly from feedback,\n",
    "bug-reports (and patches!) from a wide variety of contributors.\n",
    "\n",
    "The main forums for discussing feature requests and potential bugs are\n",
    "the [Biopython mailing lists](http://biopython.org/wiki/Mailing_lists):\n",
    "\n",
    "-   – An unmoderated list for discussion of anything to do\n",
    "    with Biopython.\n",
    "\n",
    "-   – A more development oriented list that is mainly used by developers\n",
    "    (but anyone is free to contribute!).\n",
    "\n",
    "Additionally, if you think you’ve found a new bug, you can submit it to\n",
    "our issue tracker at <https://github.com/biopython/biopython/issues>\n",
    "(this has replaced the older tracker hosted at\n",
    "<http://redmine.open-bio.org/projects/biopython>). This way, it won’t\n",
    "get buried in anyone’s Inbox and forgotten about.\n",
    "\n",
    "Mailing lists and helping newcomers\n",
    "-----------------------------------\n",
    "\n",
    "We encourage all our uses to sign up to the main Biopython mailing list.\n",
    "Once you’ve got the hang of an area of Biopython, we’d encourage you to\n",
    "help answer questions from beginners. After all, you were a beginner\n",
    "once.\n",
    "\n",
    "Contributing Documentation\n",
    "--------------------------\n",
    "\n",
    "We’re happy to take feedback or contributions - either via a bug-report\n",
    "or on the Mailing List. While reading this tutorial, perhaps you noticed\n",
    "some topics you were interested in which were missing, or not clearly\n",
    "explained. There is also Biopython’s built in documentation (the\n",
    "docstrings, these are also\n",
    "[online](http://biopython.org/DIST/docs/api)), where again, you may be\n",
    "able to help fill in any blanks.\n",
    "\n",
    "Contributing cookbook examples\n",
    "------------------------------\n",
    "\n",
    "As explained in Chapter \\[chapter:cookbook\\], Biopython now has a wiki\n",
    "collection of user contributed “cookbook” examples,\n",
    "<http://biopython.org/wiki/Category:Cookbook> – maybe you can add to\n",
    "this?\n",
    "\n",
    "Maintaining a distribution for a platform {#sec:maintain_dist}\n",
    "-----------------------------------------\n",
    "\n",
    "We currently provide source code archives (suitable for any OS, if you\n",
    "have the right build tools installed), and Windows Installers which are\n",
    "just click and run. This covers all the major operating systems.\n",
    "\n",
    "Most major Linux distributions have volunteers who take these source\n",
    "code releases, and compile them into packages for Linux users to easily\n",
    "install (taking care of dependencies etc). This is really great and we\n",
    "are of course very grateful. If you would like to contribute to this\n",
    "work, please find out more about how your Linux distribution handles\n",
    "this.\n",
    "\n",
    "Below are some tips for certain platforms to maybe get people started\n",
    "with helping out:\n",
    "\n",
    "Windows\n",
    "\n",
    ":   – Windows products typically have a nice graphical installer that\n",
    "    installs all of the essential components in the right place. We use\n",
    "    Distutils to create a installer of this type fairly easily.\n",
    "\n",
    "    You must first make sure you have a C compiler on your Windows\n",
    "    computer, and that you can compile and install things (this is the\n",
    "    hard bit - see the Biopython installation instructions for info on\n",
    "    how to do this).\n",
    "\n",
    "    Once you are setup with a C compiler, making the installer just\n",
    "    requires doing:\n",
    "\n"
   ]
  },
  {
   "cell_type": "markdown",
   "metadata": {},
   "source": [
    "```\n",
    "python setup.py bdist_wininst\n",
    "\n",
    "```"
   ]
  },
  {
   "cell_type": "markdown",
   "metadata": {},
   "source": [
    "\n",
    "    Now you’ve got a Windows installer. Congrats! At the moment we have\n",
    "    no trouble shipping installers built on 32 bit windows. If anyone\n",
    "    would like to look into supporting 64 bit Windows that would\n",
    "    be great.\n",
    "\n",
    "RPMs\n",
    "\n",
    ":   – RPMs are pretty popular package systems on some Linux platforms.\n",
    "    There is lots of documentation on RPMs available at\n",
    "    <http://www.rpm.org> to help you get started with them. To create an\n",
    "    RPM for your platform is really easy. You just need to be able to\n",
    "    build the package from source (having a C compiler that works is\n",
    "    thus essential) – see the Biopython installation instructions for\n",
    "    more info on this.\n",
    "\n",
    "    To make the RPM, you just need to do:\n",
    "\n"
   ]
  },
  {
   "cell_type": "markdown",
   "metadata": {},
   "source": [
    "```\n",
    "python setup.py bdist_rpm\n",
    "\n",
    "```"
   ]
  }
 ],
 "metadata": {
  "kernelspec": {
   "display_name": "Python 3",
   "language": "python",
   "name": "python3"
  },
  "language_info": {
   "codemirror_mode": {
    "name": "ipython",
    "version": 3
   },
   "file_extension": ".py",
   "mimetype": "text/x-python",
   "name": "python",
   "nbconvert_exporter": "python",
   "pygments_lexer": "ipython3",
   "version": "3.5.1"
  }
 },
 "nbformat": 4,
 "nbformat_minor": 0
}
