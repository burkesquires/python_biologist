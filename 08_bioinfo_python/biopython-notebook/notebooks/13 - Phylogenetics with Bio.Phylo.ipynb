{
 "cells": [
  {
   "cell_type": "markdown",
   "metadata": {},
   "source": [
    "**Source of the materials**: Biopython Tutorial and Cookbook (adapted)"
   ]
  },
  {
   "cell_type": "markdown",
   "metadata": {},
   "source": [
    "# Phylogenetics with Bio.Phylo"
   ]
  },
  {
   "cell_type": "markdown",
   "metadata": {},
   "source": [
    "## Demo: what is in a tree?"
   ]
  },
  {
   "cell_type": "markdown",
   "metadata": {},
   "source": [
    "Lets open an example newick file"
   ]
  },
  {
   "cell_type": "code",
   "execution_count": 1,
   "metadata": {
    "collapsed": false
   },
   "outputs": [],
   "source": [
    "import copy\n",
    "from io import StringIO\n",
    "\n",
    "from Bio import Phylo\n",
    "from Bio.Phylo.Applications import PhymlCommandline\n",
    "from Bio.Phylo.PAML import codeml\n",
    "from Bio.Phylo.PhyloXML import Phylogeny\n",
    "\n",
    "%matplotlib inline\n",
    "\n",
    "tree = Phylo.read(\"data/simple.dnd\", \"newick\")"
   ]
  },
  {
   "cell_type": "markdown",
   "metadata": {},
   "source": [
    "Printing the tree object as a string gives us a look at the entire object hierarchy."
   ]
  },
  {
   "cell_type": "code",
   "execution_count": 2,
   "metadata": {
    "collapsed": false
   },
   "outputs": [
    {
     "name": "stdout",
     "output_type": "stream",
     "text": [
      "Tree(rooted=False, weight=1.0)\n",
      "    Clade()\n",
      "        Clade()\n",
      "            Clade()\n",
      "                Clade(name='A')\n",
      "                Clade(name='B')\n",
      "            Clade()\n",
      "                Clade(name='C')\n",
      "                Clade(name='D')\n",
      "        Clade()\n",
      "            Clade(name='E')\n",
      "            Clade(name='F')\n",
      "            Clade(name='G')\n"
     ]
    }
   ],
   "source": [
    "print(tree)"
   ]
  },
  {
   "cell_type": "markdown",
   "metadata": {},
   "source": [
    "The Tree object contains global information about the tree, such as whether it’s rooted or unrooted. It has one root clade, and under that, it’s nested lists of clades all the way down to the tips.\n",
    "\n",
    "The function draw_ascii creates a simple ASCII-art (plain text) dendrogram. This is a convenient visualization for interactive exploration, in case better graphical tools aren’t available."
   ]
  },
  {
   "cell_type": "code",
   "execution_count": 3,
   "metadata": {
    "collapsed": false
   },
   "outputs": [
    {
     "name": "stdout",
     "output_type": "stream",
     "text": [
      "                                                    ________________________ A\n",
      "                           ________________________|\n",
      "                          |                        |________________________ B\n",
      "  ________________________|\n",
      " |                        |                         ________________________ C\n",
      " |                        |________________________|\n",
      "_|                                                 |________________________ D\n",
      " |\n",
      " |                         ________________________ E\n",
      " |                        |\n",
      " |________________________|________________________ F\n",
      "                          |\n",
      "                          |________________________ G\n",
      "\n"
     ]
    }
   ],
   "source": [
    "Phylo.draw_ascii(tree)"
   ]
  },
  {
   "cell_type": "markdown",
   "metadata": {},
   "source": [
    "you can create a graphic using the draw function"
   ]
  },
  {
   "cell_type": "code",
   "execution_count": 4,
   "metadata": {
    "collapsed": false
   },
   "outputs": [
    {
     "data": {
      "image/png": "[encoded data removed]",
      "text/plain": [
       "<matplotlib.figure.Figure at 0x7f59bc147a20>"
      ]
     },
     "metadata": {},
     "output_type": "display_data"
    }
   ],
   "source": [
    "tree.rooted = True\n",
    "Phylo.draw(tree)"
   ]
  },
  {
   "cell_type": "markdown",
   "metadata": {},
   "source": [
    "### Coloring branches within a tree"
   ]
  },
  {
   "cell_type": "markdown",
   "metadata": {},
   "source": [
    "The functions draw and draw_graphviz support the display of different colors and branch widths in a tree. As of Biopython 1.59, the color and width attributes are available on the basic Clade object and there’s nothing extra required to use them. Both attributes refer to the branch leading the given clade, and apply recursively, so all descendent branches will also inherit the assigned width and color values during display.\n",
    "\n",
    "In earlier versions of Biopython, these were special features of PhyloXML trees, and using the attributes required first converting the tree to a subclass of the basic tree object called Phylogeny, from the Bio.Phylo.PhyloXML module.\n",
    "\n",
    "In Biopython 1.55 and later, this is a convenient tree method:"
   ]
  },
  {
   "cell_type": "code",
   "execution_count": 5,
   "metadata": {
    "collapsed": false
   },
   "outputs": [],
   "source": [
    "tree = tree.as_phyloxml()\n",
    "tree = Phylogeny.from_tree(tree)"
   ]
  },
  {
   "cell_type": "markdown",
   "metadata": {},
   "source": [
    "Note that the file formats Newick and Nexus don’t support branch colors or widths, so if you use these attributes in Bio.Phylo, you will only be able to save the values in PhyloXML format. (You can still save a tree as Newick or Nexus, but the color and width values will be skipped in the output file.)\n",
    "\n",
    "Now we can begin assigning colors. First, we’ll color the root clade gray. We can do that by assigning the 24-bit color value as an RGB triple, an HTML-style hex string, or the name of one of the predefined colors."
   ]
  },
  {
   "cell_type": "code",
   "execution_count": 6,
   "metadata": {
    "collapsed": false
   },
   "outputs": [],
   "source": [
    "tree.root.color = (128, 128, 128)\n",
    "tree.root.color = \"#808080\"        # This is one alternative\n",
    "tree.root.color = \"gray\"           # This is another"
   ]
  },
  {
   "cell_type": "markdown",
   "metadata": {},
   "source": [
    "Colors for a clade are treated as cascading down through the entire clade, so when we colorize the root here, it turns the whole tree gray. We can override that by assigning a different color lower down on the tree.\n",
    "\n",
    "Let’s target the most recent common ancestor (MRCA) of the nodes named “E” and “F”. The common_ancestor method returns a reference to that clade in the original tree, so when we color that clade “salmon”, the color will show up in the original tree."
   ]
  },
  {
   "cell_type": "code",
   "execution_count": 7,
   "metadata": {
    "collapsed": false
   },
   "outputs": [],
   "source": [
    "mrca = tree.common_ancestor({\"name\": \"E\"}, {\"name\": \"F\"})\n",
    "mrca.color = \"salmon\""
   ]
  },
  {
   "cell_type": "markdown",
   "metadata": {},
   "source": [
    "If we happened to know exactly where a certain clade is in the tree, in terms of nested list entries, we can jump directly to that position in the tree by indexing it. Here, the index [0,1] refers to the second child of the first child of the root."
   ]
  },
  {
   "cell_type": "code",
   "execution_count": 8,
   "metadata": {
    "collapsed": false
   },
   "outputs": [],
   "source": [
    "tree.clade[0, 1].color = \"blue\""
   ]
  },
  {
   "cell_type": "code",
   "execution_count": 9,
   "metadata": {
    "collapsed": false
   },
   "outputs": [
    {
     "data": {
      "image/png": "[encoded data removed]",
      "text/plain": [
       "<matplotlib.figure.Figure at 0x7f59bc147080>"
      ]
     },
     "metadata": {},
     "output_type": "display_data"
    }
   ],
   "source": [
    "Phylo.draw(tree)"
   ]
  },
  {
   "cell_type": "markdown",
   "metadata": {},
   "source": [
    "Note that a clade’s color includes the branch leading to that clade, as well as its descendents. The common ancestor of E and F turns out to be just under the root, and with this coloring we can see exactly where the root of the tree is.\n",
    "\n",
    "My, we’ve accomplished a lot! Let’s take a break here and save our work. Call the write function with a file name or handle — here we use standard output, to see what would be written — and the format phyloxml. PhyloXML saves the colors we assigned, so you can open this phyloXML file in another tree viewer like Archaeopteryx, and the colors will show up there, too."
   ]
  },
  {
   "cell_type": "markdown",
   "metadata": {},
   "source": [
    "## I/O functions"
   ]
  },
  {
   "cell_type": "markdown",
   "metadata": {},
   "source": [
    "Like SeqIO and AlignIO, Phylo handles file input and output through four functions: parse, read, write and convert, all of which support the tree file formats Newick, NEXUS, phyloXML and NeXML, as well as the Comparative Data Analysis Ontology (CDAO).\n",
    "\n",
    "The read function parses a single tree in the given file and returns it. Careful; it will raise an error if the file contains more than one tree, or no trees."
   ]
  },
  {
   "cell_type": "code",
   "execution_count": 10,
   "metadata": {
    "collapsed": false
   },
   "outputs": [
    {
     "name": "stdout",
     "output_type": "stream",
     "text": [
      "Tree(rooted=False, weight=1.0)\n",
      "    Clade(branch_length=75.0, name='gymnosperm')\n",
      "        Clade(branch_length=25.0, name='Coniferales')\n",
      "            Clade(branch_length=25.0)\n",
      "                Clade(branch_length=10.0, name='Tax+nonSci')\n",
      "                    Clade(branch_length=90.0, name='Taxaceae')\n",
      "                        Clade(branch_length=125.0, name='Cephalotaxus')\n",
      "                        Clade(branch_length=25.0, name='TT1')\n",
      "                            Clade(branch_length=100.0, name='Taxus')\n",
      "                            Clade(branch_length=100.0, name='Torreya')\n",
      "                    Clade(branch_length=15.0, name='nonSci')\n",
      "                        Clade(branch_length=15.11, name='Taw+others')\n",
      "                            Clade(branch_length=49.060001, name='STCC')\n",
      "                                Clade(branch_length=5.83, name='CupCallTax')\n",
      "                                    Clade(branch_length=30.0, name='CJCPTT')\n",
      "                                        Clade(branch_length=5.0, name='CCJCP')\n",
      "                                            Clade(branch_length=5.0, name='CJCP')\n",
      "                                                Clade(branch_length=5.0, name='CP')\n",
      "                                                    Clade(branch_length=85.0, name='Calocedrus')\n",
      "                                                    Clade(branch_length=85.0, name='Platycladus')\n",
      "                                                Clade(branch_length=5.0, name='CJ')\n",
      "                                                    Clade(branch_length=85.0, name='Cupressus')\n",
      "                                                    Clade(branch_length=85.0, name='Juniperus')\n",
      "                                            Clade(branch_length=95.0, name='Chamaecyparis')\n",
      "                                        Clade(branch_length=92.13, name='TT2')\n",
      "                                            Clade(branch_length=7.87, name='Thuja')\n",
      "                                            Clade(branch_length=7.87, name='Thujopsis')\n",
      "                                    Clade(branch_length=5.0, name='CTG')\n",
      "                                        Clade(branch_length=5.0, name='CT')\n",
      "                                            Clade(branch_length=120.0, name='Cryptomeria')\n",
      "                                            Clade(branch_length=120.0, name='Taxodium')\n",
      "                                        Clade(branch_length=125.0, name='Glyptostrobus')\n",
      "                                Clade(branch_length=5.83, name='Sequoioid')\n",
      "                                    Clade(branch_length=5.0, name='MS')\n",
      "                                        Clade(branch_length=125.0, name='Metasequoia')\n",
      "                                        Clade(branch_length=125.0, name='Sequoia')\n",
      "                                    Clade(branch_length=130.0, name='Sequoiadendron')\n",
      "                            Clade(branch_length=184.889999, name='Taiwania')\n",
      "                        Clade(branch_length=200.0, name='Cunninghamia')\n",
      "                Clade(branch_length=225.0, name='Sciadopitys')\n",
      "            Clade(branch_length=66.0, name='Pinaceae')\n",
      "                Clade(branch_length=24.0, name='NTPAK')\n",
      "                    Clade(branch_length=54.0, name='AK')\n",
      "                        Clade(branch_length=106.0, name='Abies')\n",
      "                        Clade(branch_length=106.0, name='Keteleeria')\n",
      "                    Clade(branch_length=4.0, name='NTP')\n",
      "                        Clade(branch_length=156.0, name='Pseudolarix')\n",
      "                        Clade(branch_length=156.0, name='Tsuga')\n",
      "                Clade(branch_length=16.0, name='Pinoideae')\n",
      "                    Clade(branch_length=81.0, name='LP')\n",
      "                        Clade(branch_length=87.0, name='Larix')\n",
      "                        Clade(branch_length=87.0, name='Pseudotsuga')\n",
      "                    Clade(branch_length=13.0, name='PPC')\n",
      "                        Clade(branch_length=155.0, name='Picea')\n",
      "                        Clade(branch_length=155.0, name='Pinus')\n",
      "        Clade(branch_length=275.0, name='Ginkgo')\n"
     ]
    }
   ],
   "source": [
    "#from Bio import Phylo\n",
    "tree = Phylo.read(\"data/int_node_labels.nwk\", \"newick\")\n",
    "print(tree)"
   ]
  },
  {
   "cell_type": "markdown",
   "metadata": {},
   "source": [
    "To handle multiple (or an unknown number of) trees, use the parse function iterates through each of the trees in the given file:"
   ]
  },
  {
   "cell_type": "code",
   "execution_count": 11,
   "metadata": {
    "collapsed": false
   },
   "outputs": [
    {
     "name": "stdout",
     "output_type": "stream",
     "text": [
      "Phylogeny(description='phyloXML allows to use either a \"branch_length\" attribute...', name='example from Prof. Joe Felsenstein's book \"Inferring Phyl...', rooted=True)\n",
      "    Clade()\n",
      "        Clade(branch_length=0.06)\n",
      "            Clade(branch_length=0.102, name='A')\n",
      "            Clade(branch_length=0.23, name='B')\n",
      "        Clade(branch_length=0.4, name='C')\n",
      "Phylogeny(description='phyloXML allows to use either a \"branch_length\" attribute...', name='example from Prof. Joe Felsenstein's book \"Inferring Phyl...', rooted=True)\n",
      "    Clade()\n",
      "        Clade(branch_length=0.06)\n",
      "            Clade(branch_length=0.102, name='A')\n",
      "            Clade(branch_length=0.23, name='B')\n",
      "        Clade(branch_length=0.4, name='C')\n",
      "Phylogeny(name='same example, with support of type \"bootstrap\"', rooted=True)\n",
      "    Clade()\n",
      "        Clade(branch_length=0.06, name='AB')\n",
      "            Confidence(type='bootstrap', value=89.0)\n",
      "            Clade(branch_length=0.102, name='A')\n",
      "            Clade(branch_length=0.23, name='B')\n",
      "        Clade(branch_length=0.4, name='C')\n",
      "Phylogeny(name='same example, with species and sequence', rooted=True)\n",
      "    Clade()\n",
      "        Clade(name='AB')\n",
      "            Clade(name='A')\n",
      "                Sequence()\n",
      "                    Annotation(desc='alcohol dehydrogenase')\n",
      "                        Confidence(type='probability', value=0.99)\n",
      "                E. coli\n",
      "            Clade(name='B')\n",
      "                Sequence()\n",
      "                    Annotation(desc='alcohol dehydrogenase')\n",
      "                        Confidence(type='probability', value=0.91)\n",
      "                B. subtilis\n",
      "        Clade(name='C')\n",
      "            Sequence()\n",
      "                Annotation(desc='alcohol dehydrogenase')\n",
      "                    Confidence(type='probability', value=0.67)\n",
      "            C. elegans\n",
      "Phylogeny(name='same example, with gene duplication information and seque...', rooted=True)\n",
      "    Clade()\n",
      "        Events(speciations=1)\n",
      "        Clade()\n",
      "            Events(duplications=1)\n",
      "            Clade()\n",
      "                Sequence(id_source='x', name='alcohol dehydrogenase', symbol='adhB')\n",
      "                    ncbi:AAB80874\n",
      "                Bacillus subtilis\n",
      "            Clade()\n",
      "                Sequence(id_source='y', name='alcohol dehydrogenase', symbol='gbsB')\n",
      "                    ncbi:CAB15083\n",
      "                Bacillus subtilis\n",
      "        Clade()\n",
      "            Sequence(id_source='z', name='alcohol dehydrogenase', symbol='ADHX')\n",
      "                ncbi:Q17335\n",
      "                Annotation(ref='InterPro:IPR002085')\n",
      "            Caenorhabditis elegans\n",
      "    SequenceRelation(id_ref_0='x', id_ref_1='y', type='paralogy')\n",
      "    SequenceRelation(id_ref_0='x', id_ref_1='z', type='orthology')\n",
      "    SequenceRelation(id_ref_0='y', id_ref_1='z', type='orthology')\n",
      "Phylogeny(name='similar example, with more detailed sequence data', rooted=True)\n",
      "    Clade()\n",
      "        Clade()\n",
      "            Clade()\n",
      "                Sequence(name='Alcohol dehydrogenase class-3', symbol='ADHX')\n",
      "                    TDATGKPIKCMAAIAWEAKKPLSIEEVEVAPPKSGEVRIKILHSGVCHTD\n",
      "                    UniProtKB:P81431\n",
      "                    Annotation(ref='EC:1.1.1.1')\n",
      "                    Annotation(ref='GO:0004022')\n",
      "                OCTVU\n",
      "                    NCBI:6645\n",
      "            Clade()\n",
      "                Sequence(name='Reticulon-4-interacting protein 1 homolog, mitochondrial ...', symbol='RT4I1')\n",
      "                    MKGILLNGYGESLDLLEYKTDLPVPKPIKSQVLIKIHSTSINPLDNVMRK\n",
      "                    UniProtKB:Q54II4\n",
      "                    Annotation(ref='GO:0008270')\n",
      "                    Annotation(ref='GO:0016491')\n",
      "                DICDI\n",
      "                    NCBI:44689\n",
      "        Clade()\n",
      "            Sequence(name='NADH-dependent butanol dehydrogenase B', symbol='ADHB')\n",
      "                MVDFEYSIPTRIFFGKDKINVLGRELKKYGSKVLIVYGGGSIKRNGIYDK\n",
      "                UniProtKB:Q04945\n",
      "                Annotation(ref='GO:0046872')\n",
      "                Annotation(ref='KEGG:Tetrachloroethene degradation')\n",
      "            CLOAB\n",
      "                NCBI:1488\n",
      "Phylogeny(name='network, node B is connected to TWO nodes: AB and C', rooted=False)\n",
      "    Clade()\n",
      "        Clade(branch_length=0.06, id_source='ab', name='AB')\n",
      "            Clade(branch_length=0.102, id_source='a', name='A')\n",
      "            Clade(branch_length=0.23, id_source='b', name='B')\n",
      "        Clade(branch_length=0.4, id_source='c', name='C')\n",
      "    CladeRelation(id_ref_0='b', id_ref_1='c', type='network_connection')\n",
      "Phylogeny(name='same example, using property elements to indicate a \"dept...', rooted=True)\n",
      "    Clade()\n",
      "        Clade(name='AB')\n",
      "            Clade(name='A')\n",
      "                Property(applies_to='clade', datatype='xsd:integer', ref='NOAA:depth', unit='METRIC:m', value='1200')\n",
      "            Clade(name='B')\n",
      "                Property(applies_to='clade', datatype='xsd:integer', ref='NOAA:depth', unit='METRIC:m', value='2300')\n",
      "        Clade(name='C')\n",
      "            Property(applies_to='clade', datatype='xsd:integer', ref='NOAA:depth', unit='METRIC:m', value='200')\n",
      "Phylogeny(name='same example, using property elements to indicate a \"dept...', rooted=True)\n",
      "    Property(applies_to='node', datatype='xsd:integer', id_ref='id_a', ref='NOAA:depth', unit='METRIC:m', value='1200')\n",
      "    Property(applies_to='node', datatype='xsd:integer', id_ref='id_b', ref='NOAA:depth', unit='METRIC:m', value='2300')\n",
      "    Property(applies_to='node', datatype='xsd:integer', id_ref='id_c', ref='NOAA:depth', unit='METRIC:m', value='200')\n",
      "    Clade()\n",
      "        Clade(name='AB')\n",
      "            Clade(id_source='id_a', name='A')\n",
      "            Clade(id_source='id_b', name='B')\n",
      "        Clade(id_source='id_c', name='C')\n",
      "Phylogeny(description='a pylogeny of some monitor lizards', name='monitor lizards', rooted=True)\n",
      "    Clade()\n",
      "        Varanus\n",
      "            NCBI:8556\n",
      "            http://www.embl-heidelberg.de/~uetz/families/Varanidae.html\n",
      "        Clade()\n",
      "            Distribution(desc='Africa')\n",
      "            Varanus niloticus\n",
      "                NCBI:62046\n",
      "        Clade()\n",
      "            Odatria\n",
      "            Clade()\n",
      "                Distribution(desc='Australia')\n",
      "                Varanus storri\n",
      "                    NCBI:169855\n",
      "            Clade()\n",
      "                Distribution(desc='Asia')\n",
      "                Varanus timorensis\n",
      "                    NCBI:62053\n",
      "Phylogeny(name='A tree with phylogeographic information', rooted=True)\n",
      "    Clade()\n",
      "        Clade()\n",
      "            Clade(name='A')\n",
      "                Distribution(desc='Hirschweg, Winterthur, Switzerland')\n",
      "                    Point(alt=472.0, geodetic_datum='WGS84', lat=47.481277, long=8.769303)\n",
      "            Clade(name='B')\n",
      "                Distribution(desc='Nagoya, Aichi, Japan')\n",
      "                    Point(alt=10.0, geodetic_datum='WGS84', lat=35.155904, long=136.915863)\n",
      "            Clade(name='C')\n",
      "                Distribution(desc='ETH Zürich')\n",
      "                    Point(alt=452.0, geodetic_datum='WGS84', lat=47.376334, long=8.548108)\n",
      "        Clade(name='D')\n",
      "            Distribution(desc='San Diego')\n",
      "                Point(alt=104.0, geodetic_datum='WGS84', lat=32.880933, long=-117.217543)\n",
      "Phylogeny(name='A tree with date information', rooted=True)\n",
      "    Clade()\n",
      "        Clade()\n",
      "            Clade(name='A')\n",
      "                425.0 mya\n",
      "            Clade(name='B')\n",
      "                320.0 mya\n",
      "        Clade(name='C')\n",
      "            600.0 mya\n",
      "Phylogeny(name='Using another XML language to store an alignment', rooted=True)\n",
      "    Clade()\n",
      "        Clade()\n",
      "            Clade(name='A')\n",
      "            Clade(name='B')\n",
      "        Clade(name='C')\n"
     ]
    }
   ],
   "source": [
    "trees = Phylo.parse(\"data/phyloxml_examples.xml\", \"phyloxml\")\n",
    "trees = list(trees)\n",
    "for tree in trees:\n",
    "    print(tree)"
   ]
  },
  {
   "cell_type": "markdown",
   "metadata": {},
   "source": [
    "Write a tree or iterable of trees back to file with the write function:"
   ]
  },
  {
   "cell_type": "code",
   "execution_count": 12,
   "metadata": {
    "collapsed": false
   },
   "outputs": [
    {
     "data": {
      "text/plain": [
       "1"
      ]
     },
     "execution_count": 12,
     "metadata": {},
     "output_type": "execute_result"
    }
   ],
   "source": [
    "tree1 = trees[0]\n",
    "Phylo.write(tree1, \"data/tree1.nwk\", \"newick\")"
   ]
  },
  {
   "cell_type": "code",
   "execution_count": 13,
   "metadata": {
    "collapsed": false
   },
   "outputs": [
    {
     "data": {
      "text/plain": [
       "12"
      ]
     },
     "execution_count": 13,
     "metadata": {},
     "output_type": "execute_result"
    }
   ],
   "source": [
    "others = trees[1:]\n",
    "Phylo.write(others, \"data/other_trees.nwk\", \"newick\")"
   ]
  },
  {
   "cell_type": "markdown",
   "metadata": {},
   "source": [
    "Convert files between any of the supported formats with the convert function:"
   ]
  },
  {
   "cell_type": "code",
   "execution_count": 14,
   "metadata": {
    "collapsed": false
   },
   "outputs": [
    {
     "data": {
      "text/plain": [
       "1"
      ]
     },
     "execution_count": 14,
     "metadata": {},
     "output_type": "execute_result"
    }
   ],
   "source": [
    "Phylo.convert(\"data/tree1.nwk\", \"newick\", \"data/tree1.xml\", \"nexml\")"
   ]
  },
  {
   "cell_type": "code",
   "execution_count": 15,
   "metadata": {
    "collapsed": false
   },
   "outputs": [
    {
     "data": {
      "text/plain": [
       "12"
      ]
     },
     "execution_count": 15,
     "metadata": {},
     "output_type": "execute_result"
    }
   ],
   "source": [
    "Phylo.convert(\"data/other_trees.xml\", \"phyloxml\", \"data/other_trees.nex\", \"nexus\")"
   ]
  },
  {
   "cell_type": "markdown",
   "metadata": {},
   "source": [
    "To use strings as input or output instead of actual files, use StringIO as you would with SeqIO and AlignIO:"
   ]
  },
  {
   "cell_type": "code",
   "execution_count": 16,
   "metadata": {
    "collapsed": false
   },
   "outputs": [],
   "source": [
    "handle = StringIO(\"(((A,B),(C,D)),(E,F,G));\")\n",
    "tree = Phylo.read(handle, \"newick\")"
   ]
  },
  {
   "cell_type": "markdown",
   "metadata": {},
   "source": [
    "## View and export trees"
   ]
  },
  {
   "cell_type": "markdown",
   "metadata": {},
   "source": [
    "The simplest way to get an overview of a Tree object is to print it:"
   ]
  },
  {
   "cell_type": "code",
   "execution_count": 17,
   "metadata": {
    "collapsed": false
   },
   "outputs": [
    {
     "name": "stdout",
     "output_type": "stream",
     "text": [
      "Phylogeny(description='phyloXML allows to use either a \"branch_length\" attribute...', name='example from Prof. Joe Felsenstein's book \"Inferring Phyl...', rooted=True)\n",
      "    Clade()\n",
      "        Clade(branch_length=0.06)\n",
      "            Clade(branch_length=0.102, name='A')\n",
      "            Clade(branch_length=0.23, name='B')\n",
      "        Clade(branch_length=0.4, name='C')\n"
     ]
    }
   ],
   "source": [
    "tree = Phylo.read(\"data/example.xml\", \"phyloxml\")\n",
    "print(tree)"
   ]
  },
  {
   "cell_type": "markdown",
   "metadata": {},
   "source": [
    "This is essentially an outline of the object hierarchy Biopython uses to represent a tree. But more likely, you’d want to see a drawing of the tree. There are three functions to do this.\n",
    "\n",
    "As we saw in the demo, draw_ascii prints an ascii-art drawing of the tree (a rooted phylogram) to standard output, or an open file handle if given. Not all of the available information about the tree is shown, but it provides a way to quickly view the tree without relying on any external dependencies."
   ]
  },
  {
   "cell_type": "code",
   "execution_count": 18,
   "metadata": {
    "collapsed": false
   },
   "outputs": [
    {
     "name": "stdout",
     "output_type": "stream",
     "text": [
      "             __________________ A\n",
      "  __________|\n",
      "_|          |___________________________________________ B\n",
      " |\n",
      " |___________________________________________________________________________ C\n",
      "\n"
     ]
    }
   ],
   "source": [
    "Phylo.draw_ascii(tree)"
   ]
  },
  {
   "cell_type": "markdown",
   "metadata": {},
   "source": [
    "The draw function draws a more attractive image using the matplotlib library. See the API documentation for details on the arguments it accepts to customize the output."
   ]
  },
  {
   "cell_type": "code",
   "execution_count": 19,
   "metadata": {
    "collapsed": false
   },
   "outputs": [
    {
     "data": {
      "image/png": "[encoded data removed]",
      "text/plain": [
       "<matplotlib.figure.Figure at 0x7f5996d47908>"
      ]
     },
     "metadata": {},
     "output_type": "display_data"
    }
   ],
   "source": [
    "Phylo.draw(tree, branch_labels=lambda c: c.branch_length)"
   ]
  },
  {
   "cell_type": "markdown",
   "metadata": {},
   "source": [
    "draw_graphviz draws an unrooted cladogram, but requires that you have Graphviz, PyDot or PyGraphviz, NetworkX, and matplotlib (or pylab) installed. Using the same example as above, and the dot program included with Graphviz, let’s draw a rooted tree (see Fig. 13.3):"
   ]
  },
  {
   "cell_type": "code",
   "execution_count": 22,
   "metadata": {
    "collapsed": false
   },
   "outputs": [],
   "source": [
    "#Sadly we need to monkey patch...\n",
    "import networkx\n",
    "from networkx.drawing import nx_agraph\n",
    "networkx.graphviz_layout = nx_agraph.graphviz_layout"
   ]
  },
  {
   "cell_type": "code",
   "execution_count": 23,
   "metadata": {
    "collapsed": false
   },
   "outputs": [
    {
     "data": {
      "image/png": "[encoded data removed]",
      "text/plain": [
       "<matplotlib.figure.Figure at 0x7f5996aee080>"
      ]
     },
     "metadata": {},
     "output_type": "display_data"
    }
   ],
   "source": [
    "Phylo.draw_graphviz(tree, prog='dot')"
   ]
  },
  {
   "cell_type": "markdown",
   "metadata": {},
   "source": [
    "This exports the tree object to a NetworkX graph, uses Graphviz to lay out the nodes, and displays it using matplotlib. There are a number of keyword arguments that can modify the resulting diagram, including most of those accepted by the NetworkX functions networkx.draw and networkx.draw_graphviz.\n",
    "\n",
    "The display is also affected by the rooted attribute of the given tree object. Rooted trees are shown with a “head” on each branch indicating direction (see Fig. 13.3):"
   ]
  },
  {
   "cell_type": "code",
   "execution_count": 24,
   "metadata": {
    "collapsed": false
   },
   "outputs": [
    {
     "data": {
      "image/png": "[encoded data removed]",
      "text/plain": [
       "<matplotlib.figure.Figure at 0x7f5996d2e2e8>"
      ]
     },
     "metadata": {},
     "output_type": "display_data"
    }
   ],
   "source": [
    "tree = Phylo.read(\"data/simple.dnd\", \"newick\")\n",
    "tree.rooted = True\n",
    "Phylo.draw_graphviz(tree)"
   ]
  },
  {
   "cell_type": "markdown",
   "metadata": {},
   "source": [
    "The “prog” argument specifies the Graphviz engine used for layout. The default, twopi, behaves well for any size tree, reliably avoiding crossed branches. The neato program may draw more attractive moderately-sized trees, but sometimes will cross branches (see Fig. 13.3). The dot program may be useful with small trees, but tends to do surprising things with the layout of larger trees."
   ]
  },
  {
   "cell_type": "code",
   "execution_count": 25,
   "metadata": {
    "collapsed": false
   },
   "outputs": [
    {
     "data": {
      "image/png": "[encoded data removed]",
      "text/plain": [
       "<matplotlib.figure.Figure at 0x7f5996cfe278>"
      ]
     },
     "metadata": {},
     "output_type": "display_data"
    }
   ],
   "source": [
    "Phylo.draw_graphviz(tree, prog=\"neato\")"
   ]
  },
  {
   "cell_type": "markdown",
   "metadata": {},
   "source": [
    "This viewing mode is particularly handy for exploring larger trees, because the matplotlib viewer can zoom in on a selected region, thinning out a cluttered graphic."
   ]
  },
  {
   "cell_type": "code",
   "execution_count": 26,
   "metadata": {
    "collapsed": false
   },
   "outputs": [
    {
     "data": {
      "image/png": "[encoded data removed]",
      "text/plain": [
       "<matplotlib.figure.Figure at 0x7f5996d01550>"
      ]
     },
     "metadata": {},
     "output_type": "display_data"
    }
   ],
   "source": [
    "tree = Phylo.read(\"data/apaf.xml\", \"phyloxml\")\n",
    "Phylo.draw_graphviz(tree, prog=\"neato\", node_size=0)"
   ]
  },
  {
   "cell_type": "markdown",
   "metadata": {},
   "source": [
    "Note that branch lengths are not displayed accurately, because Graphviz ignores them when creating the node layouts. The branch lengths are retained when exporting a tree as a NetworkX graph object (to_networkx), however.\n",
    "\n",
    "See the Phylo page on the Biopython wiki (http://biopython.org/wiki/Phylo) for descriptions and examples of the more advanced functionality in draw_ascii, draw_graphviz and to_networkx."
   ]
  },
  {
   "cell_type": "markdown",
   "metadata": {},
   "source": [
    "## Using Tree and Clade objects"
   ]
  },
  {
   "cell_type": "markdown",
   "metadata": {},
   "source": [
    "The Tree objects produced by parse and read are containers for recursive sub-trees, attached to the Tree object at the root attribute (whether or not the phylogenic tree is actually considered rooted). A Tree has globally applied information for the phylogeny, such as rootedness, and a reference to a single Clade; a Clade has node- and clade-specific information, such as branch length, and a list of its own descendent Clade instances, attached at the clades attribute.\n",
    "\n",
    "So there is a distinction between tree and tree.root. In practice, though, you rarely need to worry about it. To smooth over the difference, both Tree and Clade inherit from TreeMixin, which contains the implementations for methods that would be commonly used to search, inspect or modify a tree or any of its clades. This means that almost all of the methods supported by tree are also available on tree.root and any clade below it. (Clade also has a root property, which returns the clade object itself.)"
   ]
  },
  {
   "cell_type": "markdown",
   "metadata": {},
   "source": [
    "### Search and traversal methods"
   ]
  },
  {
   "cell_type": "markdown",
   "metadata": {},
   "source": [
    "For convenience, we provide a couple of simplified methods that return all external or internal nodes directly as a list:\n",
    "\n",
    "get_terminals\n",
    "makes a list of all of this tree’s terminal (leaf) nodes.\n",
    "get_nonterminals\n",
    "makes a list of all of this tree’s nonterminal (internal) nodes.\n",
    "These both wrap a method with full control over tree traversal, find_clades. Two more traversal methods, find_elements and find_any, rely on the same core functionality and accept the same arguments, which we’ll call a “target specification” for lack of a better description. These specify which objects in the tree will be matched and returned during iteration. The first argument can be any of the following types:\n",
    "\n",
    "A TreeElement instance, which tree elements will match by identity — so searching with a Clade instance as the target will find that clade in the tree;\n",
    "A string, which matches tree elements’ string representation — in particular, a clade’s name (added in Biopython 1.56);\n",
    "A class or type, where every tree element of the same type (or sub-type) will be matched;\n",
    "A dictionary where keys are tree element attributes and values are matched to the corresponding attribute of each tree element. This one gets even more elaborate:\n",
    "If an int is given, it matches numerically equal attributes, e.g. 1 will match 1 or 1.0\n",
    "If a boolean is given (True or False), the corresponding attribute value is evaluated as a boolean and checked for the same\n",
    "None matches None\n",
    "If a string is given, the value is treated as a regular expression (which must match the whole string in the corresponding element attribute, not just a prefix). A given string without special regex characters will match string attributes exactly, so if you don’t use regexes, don’t worry about it. For example, in a tree with clade names Foo1, Foo2 and Foo3, tree.find_clades({\"name\": \"Foo1\"}) matches Foo1, {\"name\": \"Foo.*\"} matches all three clades, and {\"name\": \"Foo\"} doesn’t match anything.\n",
    "Since floating-point arithmetic can produce some strange behavior, we don’t support matching floats directly. Instead, use the boolean True to match every element with a nonzero value in the specified attribute, then filter on that attribute manually with an inequality (or exact number, if you like living dangerously).\n",
    "\n",
    "If the dictionary contains multiple entries, a matching element must match each of the given attribute values — think “and”, not “or”.\n",
    "\n",
    "A function taking a single argument (it will be applied to each element in the tree), returning True or False. For convenience, LookupError, AttributeError and ValueError are silenced, so this provides another safe way to search for floating-point values in the tree, or some more complex characteristic.\n",
    "After the target, there are two optional keyword arguments:\n",
    "\n",
    "terminal\n",
    "— A boolean value to select for or against terminal clades (a.k.a. leaf nodes): True searches for only terminal clades, False for non-terminal (internal) clades, and the default, None, searches both terminal and non-terminal clades, as well as any tree elements lacking the is_terminal method.\n",
    "order\n",
    "— Tree traversal order: \"preorder\" (default) is depth-first search, \"postorder\" is DFS with child nodes preceding parents, and \"level\" is breadth-first search.\n",
    "Finally, the methods accept arbitrary keyword arguments which are treated the same way as a dictionary target specification: keys indicate the name of the element attribute to search for, and the argument value (string, integer, None or boolean) is compared to the value of each attribute found. If no keyword arguments are given, then any TreeElement types are matched. The code for this is generally shorter than passing a dictionary as the target specification: tree.find_clades({\"name\": \"Foo1\"}) can be shortened to tree.find_clades(name=\"Foo1\").\n",
    "\n",
    "(In Biopython 1.56 or later, this can be even shorter: tree.find_clades(\"Foo1\"))\n",
    "\n",
    "Now that we’ve mastered target specifications, here are the methods used to traverse a tree:\n",
    "\n",
    "find_clades\n",
    "Find each clade containing a matching element. That is, find each element as with find_elements, but return the corresponding clade object. (This is usually what you want.)\n",
    "The result is an iterable through all matching objects, searching depth-first by default. This is not necessarily the same order as the elements appear in the Newick, Nexus or XML source file!\n",
    "\n",
    "find_elements\n",
    "Find all tree elements matching the given attributes, and return the matching elements themselves. Simple Newick trees don’t have complex sub-elements, so this behaves the same as find_clades on them. PhyloXML trees often do have complex objects attached to clades, so this method is useful for extracting those.\n",
    "find_any\n",
    "Return the first element found by find_elements(), or None. This is also useful for checking whether any matching element exists in the tree, and can be used in a conditional.\n",
    "Two more methods help navigating between nodes in the tree:\n",
    "\n",
    "get_path\n",
    "List the clades directly between the tree root (or current clade) and the given target. Returns a list of all clade objects along this path, ending with the given target, but excluding the root clade.\n",
    "trace\n",
    "List of all clade object between two targets in this tree. Excluding start, including finish."
   ]
  },
  {
   "cell_type": "markdown",
   "metadata": {},
   "source": [
    "### Information methods"
   ]
  },
  {
   "cell_type": "markdown",
   "metadata": {},
   "source": [
    "These methods provide information about the whole tree (or any clade).\n",
    "\n",
    "common_ancestor\n",
    "Find the most recent common ancestor of all the given targets. (This will be a Clade object). If no target is given, returns the root of the current clade (the one this method is called from); if 1 target is given, this returns the target itself. However, if any of the specified targets are not found in the current tree (or clade), an exception is raised.\n",
    "count_terminals\n",
    "Counts the number of terminal (leaf) nodes within the tree.\n",
    "depths\n",
    "Create a mapping of tree clades to depths. The result is a dictionary where the keys are all of the Clade instances in the tree, and the values are the distance from the root to each clade (including terminals). By default the distance is the cumulative branch length leading to the clade, but with the unit_branch_lengths=True option, only the number of branches (levels in the tree) is counted.\n",
    "distance\n",
    "Calculate the sum of the branch lengths between two targets. If only one target is specified, the other is the root of this tree.\n",
    "total_branch_length\n",
    "Calculate the sum of all the branch lengths in this tree. This is usually just called the “length” of the tree in phylogenetics, but we use a more explicit name to avoid confusion with Python terminology.\n",
    "The rest of these methods are boolean checks:\n",
    "\n",
    "is_bifurcating\n",
    "True if the tree is strictly bifurcating; i.e. all nodes have either 2 or 0 children (internal or external, respectively). The root may have 3 descendents and still be considered part of a bifurcating tree.\n",
    "is_monophyletic\n",
    "Test if all of the given targets comprise a complete subclade — i.e., there exists a clade such that its terminals are the same set as the given targets. The targets should be terminals of the tree. For convenience, this method returns the common ancestor (MCRA) of the targets if they are monophyletic (instead of the value True), and False otherwise.\n",
    "is_parent_of\n",
    "True if target is a descendent of this tree — not required to be a direct descendent. To check direct descendents of a clade, simply use list membership testing: if subclade in clade: ...\n",
    "is_preterminal\n",
    "True if all direct descendents are terminal; False if any direct descendent is not terminal."
   ]
  },
  {
   "cell_type": "markdown",
   "metadata": {},
   "source": [
    "### Modification methods"
   ]
  },
  {
   "cell_type": "markdown",
   "metadata": {},
   "source": [
    "These methods modify the tree in-place. If you want to keep the original tree intact, make a complete copy of the tree first, using Python’s copy module:"
   ]
  },
  {
   "cell_type": "code",
   "execution_count": 27,
   "metadata": {
    "collapsed": false
   },
   "outputs": [],
   "source": [
    "tree = Phylo.read('data/example.xml', 'phyloxml')\n",
    "newtree = copy.deepcopy(tree)"
   ]
  },
  {
   "cell_type": "markdown",
   "metadata": {},
   "source": [
    "collapse\n",
    "Deletes the target from the tree, relinking its children to its parent.\n",
    "collapse_all\n",
    "Collapse all the descendents of this tree, leaving only terminals. Branch lengths are preserved, i.e. the distance to each terminal stays the same. With a target specification (see above), collapses only the internal nodes matching the specification.\n",
    "ladderize\n",
    "Sort clades in-place according to the number of terminal nodes. Deepest clades are placed last by default. Use reverse=True to sort clades deepest-to-shallowest.\n",
    "prune\n",
    "Prunes a terminal clade from the tree. If taxon is from a bifurcation, the connecting node will be collapsed and its branch length added to remaining terminal node. This might no longer be a meaningful value.\n",
    "root_with_outgroup\n",
    "Reroot this tree with the outgroup clade containing the given targets, i.e. the common ancestor of the outgroup. This method is only available on Tree objects, not Clades.\n",
    "If the outgroup is identical to self.root, no change occurs. If the outgroup clade is terminal (e.g. a single terminal node is given as the outgroup), a new bifurcating root clade is created with a 0-length branch to the given outgroup. Otherwise, the internal node at the base of the outgroup becomes a trifurcating root for the whole tree. If the original root was bifurcating, it is dropped from the tree.\n",
    "\n",
    "In all cases, the total branch length of the tree stays the same.\n",
    "\n",
    "root_at_midpoint\n",
    "Reroot this tree at the calculated midpoint between the two most distant tips of the tree. (This uses root_with_outgroup under the hood.)\n",
    "split\n",
    "Generate n (default 2) new descendants. In a species tree, this is a speciation event. New clades have the given branch_length and the same name as this clade’s root plus an integer suffix (counting from 0) — for example, splitting a clade named “A” produces the sub-clades “A0” and “A1”.\n",
    "See the Phylo page on the Biopython wiki (http://biopython.org/wiki/Phylo) for more examples of using the available methods."
   ]
  },
  {
   "cell_type": "markdown",
   "metadata": {},
   "source": [
    "### Features of PhyloXML trees"
   ]
  },
  {
   "cell_type": "markdown",
   "metadata": {},
   "source": [
    "The phyloXML file format includes fields for annotating trees with additional data types and visual cues.\n",
    "\n",
    "See the PhyloXML page on the Biopython wiki (http://biopython.org/wiki/PhyloXML) for descriptions and examples of using the additional annotation features provided by PhyloXML."
   ]
  },
  {
   "cell_type": "markdown",
   "metadata": {},
   "source": [
    "## Running external applications"
   ]
  },
  {
   "cell_type": "markdown",
   "metadata": {},
   "source": [
    "While Bio.Phylo doesn’t infer trees from alignments itself, there are third-party programs available that do. These are supported through the module Bio.Phylo.Applications, using the same general framework as Bio.Emboss.Applications, Bio.Align.Applications and others.\n",
    "\n",
    "Biopython 1.58 introduced a wrapper for PhyML (http://www.atgc-montpellier.fr/phyml/). The program accepts an input alignment in phylip-relaxed format (that’s Phylip format, but without the 10-character limit on taxon names) and a variety of options. A quick example:"
   ]
  },
  {
   "cell_type": "code",
   "execution_count": 29,
   "metadata": {
    "collapsed": false
   },
   "outputs": [],
   "source": [
    "#cmd = PhymlCommandline(input='Tests/Phylip/random.phy')\n",
    "cmd = PhymlCommandline(input='data/random.phy')\n",
    "out_log, err_log = cmd()"
   ]
  },
  {
   "cell_type": "markdown",
   "metadata": {},
   "source": [
    "This generates a tree file and a stats file with the names [input filename]_phyml_tree.txt and [input filename]_phyml_stats.txt. The tree file is in Newick format:"
   ]
  },
  {
   "cell_type": "code",
   "execution_count": 30,
   "metadata": {
    "collapsed": false
   },
   "outputs": [
    {
     "name": "stdout",
     "output_type": "stream",
     "text": [
      "  _________ A\n",
      " |\n",
      "_|__________________ F\n",
      " |\n",
      " |                  , B\n",
      " |__________________|\n",
      "                    |                 , E\n",
      "                    |_________________|\n",
      "                                      |         , G\n",
      "                                      |_________|\n",
      "                                                |_______ I\n",
      "                                                |\n",
      "                                                |      ___ C\n",
      "                                                |_____|\n",
      "                                                      |     _ J\n",
      "                                                      |____|\n",
      "                                                           |      _________ D\n",
      "                                                           |_____|\n",
      "                                                                 | H\n",
      "\n"
     ]
    }
   ],
   "source": [
    "tree = Phylo.read('data/random.phy_phyml_tree.txt', 'newick')\n",
    "Phylo.draw_ascii(tree)"
   ]
  },
  {
   "cell_type": "markdown",
   "metadata": {},
   "source": [
    "A similar wrapper for RAxML (http://sco.h-its.org/exelixis/software.html) was added in Biopython 1.60, and FastTree (http://www.microbesonline.org/fasttree/) in Biopython 1.62.\n",
    "\n",
    "Note that some popular Phylip programs, including dnaml and protml, are already available through the EMBOSS wrappers in Bio.Emboss.Applications if you have the Phylip extensions to EMBOSS installed on your system. See Section 6.4 for some examples and clues on how to use programs like these."
   ]
  },
  {
   "cell_type": "markdown",
   "metadata": {},
   "source": [
    "## PAML integration"
   ]
  },
  {
   "cell_type": "markdown",
   "metadata": {},
   "source": [
    "iopython 1.58 brought support for PAML (http://abacus.gene.ucl.ac.uk/software/paml.html), a suite of programs for phylogenetic analysis by maximum likelihood. Currently the programs codeml, baseml and yn00 are implemented. Due to PAML’s usage of control files rather than command line arguments to control runtime options, usage of this wrapper strays from the format of other application wrappers in Biopython.\n",
    "\n",
    "A typical workflow would be to initialize a PAML object, specifying an alignment file, a tree file, an output file and a working directory. Next, runtime options are set via the set_options() method or by reading an existing control file. Finally, the program is run via the run() method and the output file is automatically parsed to a results dictionary.\n",
    "\n",
    "Here is an example of typical usage of codeml:"
   ]
  },
  {
   "cell_type": "code",
   "execution_count": 32,
   "metadata": {
    "collapsed": false
   },
   "outputs": [
    {
     "name": "stdout",
     "output_type": "stream",
     "text": [
      "0.0001\n"
     ]
    }
   ],
   "source": [
    "cml = codeml.Codeml()\n",
    "cml.alignment = \"data/alignment.phylip\"\n",
    "cml.tree = \"data/species.tree\"\n",
    "cml.out_file = \"data/results.out\"\n",
    "cml.working_dir = \"./\"\n",
    "cml.set_options(seqtype=1,\n",
    "        verbose=0,\n",
    "        noisy=0,\n",
    "        RateAncestor=0,\n",
    "        model=0,\n",
    "        NSsites=[0, 1, 2],\n",
    "        CodonFreq=2,\n",
    "        cleandata=1,\n",
    "        fix_alpha=1,\n",
    "        kappa=4.54006)\n",
    "results = cml.run()\n",
    "ns_sites = results.get(\"NSsites\")\n",
    "m0 = ns_sites.get(0)\n",
    "m0_params = m0.get(\"parameters\")\n",
    "print(m0_params.get(\"omega\"))"
   ]
  },
  {
   "cell_type": "markdown",
   "metadata": {},
   "source": [
    "Existing output files may be parsed as well using a module’s read() function:"
   ]
  },
  {
   "cell_type": "code",
   "execution_count": 33,
   "metadata": {
    "collapsed": false
   },
   "outputs": [
    {
     "name": "stdout",
     "output_type": "stream",
     "text": [
      "F3x4\n"
     ]
    }
   ],
   "source": [
    "results = codeml.read(\"data/results.out\")\n",
    "print(results.get(\"codon model\"))"
   ]
  },
  {
   "cell_type": "markdown",
   "metadata": {},
   "source": [
    "Detailed documentation for this new module currently lives on the Biopython wiki: http://biopython.org/wiki/PAML"
   ]
  },
  {
   "cell_type": "code",
   "execution_count": null,
   "metadata": {
    "collapsed": false
   },
   "outputs": [],
   "source": []
  }
 ],
 "metadata": {
  "kernelspec": {
   "display_name": "Python 3",
   "language": "python",
   "name": "python3"
  },
  "language_info": {
   "codemirror_mode": {
    "name": "ipython",
    "version": 3
   },
   "file_extension": ".py",
   "mimetype": "text/x-python",
   "name": "python",
   "nbconvert_exporter": "python",
   "pygments_lexer": "ipython3",
   "version": "3.5.1"
  }
 },
 "nbformat": 4,
 "nbformat_minor": 0
}
