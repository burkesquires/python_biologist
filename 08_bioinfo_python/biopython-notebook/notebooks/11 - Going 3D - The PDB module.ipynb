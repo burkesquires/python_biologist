{
 "cells": [
  {
   "cell_type": "markdown",
   "metadata": {},
   "source": [
    "**Source of the materials**: Biopython cookbook (adapted)\n",
    "<font color='red'>Status: Draft</font>"
   ]
  },
  {
   "cell_type": "markdown",
   "metadata": {},
   "source": [
    "Going 3D: The PDB module\n",
    "========================\n",
    "\n",
    "Bio.PDB is a Biopython module that focuses on working with crystal\n",
    "structures of biological macromolecules. Among other things, Bio.PDB\n",
    "includes a PDBParser class that produces a Structure object, which can\n",
    "be used to access the atomic data in the file in a convenient manner.\n",
    "There is limited support for parsing the information contained in the\n",
    "PDB header.\n",
    "\n",
    "Reading and writing crystal structure files\n",
    "-------------------------------------------\n",
    "\n",
    "### Reading a PDB file\n",
    "\n",
    "First we create a `PDBParser` object:\n",
    "\n"
   ]
  },
  {
   "cell_type": "code",
   "execution_count": null,
   "metadata": {},
   "outputs": [],
   "source": [
    "from Bio.PDB.PDBParser import PDBParser\n",
    "p = PDBParser(PERMISSIVE=1)"
   ]
  },
  {
   "cell_type": "markdown",
   "metadata": {},
   "source": [
    "\n",
    "The <span>PERMISSIVE</span> flag indicates that a number of common\n",
    "problems (see \\[problem structures\\]) associated with PDB files will be\n",
    "ignored (but note that some atoms and/or residues will be missing). If\n",
    "the flag is not present a <span>PDBConstructionException</span> will be\n",
    "generated if any problems are detected during the parse operation.\n",
    "\n",
    "The Structure object is then produced by letting the `PDBParser` object\n",
    "parse a PDB file (the PDB file in this case is called ’pdb1fat.ent’,\n",
    "’1fat’ is a user defined name for the structure):\n",
    "\n"
   ]
  },
  {
   "cell_type": "code",
   "execution_count": null,
   "metadata": {},
   "outputs": [],
   "source": [
    "structure_id = \"1fat\"\n",
    "filename = \"data/pdb1fat.ent\"\n",
    "structure = p.get_structure(structure_id, filename)"
   ]
  },
  {
   "cell_type": "markdown",
   "metadata": {},
   "source": [
    "\n",
    "You can extract the header and trailer (simple lists of strings) of the\n",
    "PDB file from the PDBParser object with the <span>get\\_header</span> and\n",
    "<span>get\\_trailer</span> methods. Note however that many PDB files\n",
    "contain headers with incomplete or erroneous information. Many of the\n",
    "errors have been fixed in the equivalent mmCIF files. *Hence, if you are\n",
    "interested in the header information, it is a good idea to extract\n",
    "information from mmCIF files using the* `MMCIF2Dict` *tool described\n",
    "below, instead of parsing the PDB header.*\n",
    "\n",
    "Now that is clarified, let’s return to parsing the PDB header. The\n",
    "structure object has an attribute called `header` which is a Python\n",
    "dictionary that maps header records to their values.\n",
    "\n",
    "Example:\n",
    "\n"
   ]
  },
  {
   "cell_type": "code",
   "execution_count": null,
   "metadata": {},
   "outputs": [],
   "source": [
    "resolution = structure.header['resolution']\n",
    "keywords = structure.header['keywords']"
   ]
  },
  {
   "cell_type": "markdown",
   "metadata": {},
   "source": [
    "\n",
    "The available keys are `name`, `head`, `deposition_date`,\n",
    "`release_date`, `structure_method`, `resolution`, `structure_reference`\n",
    "(which maps to a list of references), `journal_reference`, `author`, and\n",
    "`compound` (which maps to a dictionary with various information about\n",
    "the crystallized compound).\n",
    "\n",
    "The dictionary can also be created without creating a `Structure`\n",
    "object, ie. directly from the PDB file:\n",
    "\n"
   ]
  },
  {
   "cell_type": "code",
   "execution_count": null,
   "metadata": {},
   "outputs": [],
   "source": [
    "file = open(filename, 'r')\n",
    "header_dict = parse_pdb_header(file)\n",
    "file.close()"
   ]
  },
  {
   "cell_type": "markdown",
   "metadata": {},
   "source": [
    "\n",
    "### Reading an mmCIF file\n",
    "\n",
    "Similarly to the case the case of PDB files, first create an\n",
    "`MMCIFParser` object:\n",
    "\n"
   ]
  },
  {
   "cell_type": "code",
   "execution_count": null,
   "metadata": {},
   "outputs": [],
   "source": [
    "from Bio.PDB.MMCIFParser import MMCIFParser\n",
    "parser = MMCIFParser()"
   ]
  },
  {
   "cell_type": "markdown",
   "metadata": {},
   "source": [
    "\n",
    "Then use this parser to create a structure object from the mmCIF file:\n",
    "\n"
   ]
  },
  {
   "cell_type": "code",
   "execution_count": null,
   "metadata": {},
   "outputs": [],
   "source": [
    "structure = parser.get_structure('1fat', 'data/1fat.cif')"
   ]
  },
  {
   "cell_type": "markdown",
   "metadata": {},
   "source": [
    "\n",
    "To have some more low level access to an mmCIF file, you can use the\n",
    "`MMCIF2Dict` class to create a Python dictionary that maps all mmCIF\n",
    "tags in an mmCIF file to their values. If there are multiple values\n",
    "(like in the case of tag `_atom_site.Cartn_y`, which holds the $y$\n",
    "coordinates of all atoms), the tag is mapped to a list of values. The\n",
    "dictionary is created from the mmCIF file as follows:\n",
    "\n"
   ]
  },
  {
   "cell_type": "code",
   "execution_count": null,
   "metadata": {},
   "outputs": [],
   "source": [
    "from Bio.PDB.MMCIF2Dict import MMCIF2Dict\n",
    "mmcif_dict = MMCIF2Dict('data/1fat.cif')"
   ]
  },
  {
   "cell_type": "markdown",
   "metadata": {},
   "source": [
    "\n",
    "Example: get the solvent content from an mmCIF file:\n",
    "\n"
   ]
  },
  {
   "cell_type": "code",
   "execution_count": null,
   "metadata": {},
   "outputs": [],
   "source": [
    "sc = mmcif_dict['_exptl_crystal.density_percent_sol']"
   ]
  },
  {
   "cell_type": "markdown",
   "metadata": {},
   "source": [
    "\n",
    "Example: get the list of the $y$ coordinates of all atoms\n",
    "\n"
   ]
  },
  {
   "cell_type": "code",
   "execution_count": null,
   "metadata": {},
   "outputs": [],
   "source": [
    "y_list = mmcif_dict['_atom_site.Cartn_y']"
   ]
  },
  {
   "cell_type": "markdown",
   "metadata": {},
   "source": [
    "\n",
    "### Reading files in the PDB XML format\n",
    "\n",
    "That’s not yet supported, but we are definitely planning to support that\n",
    "in the future (it’s not a lot of work). Contact the Biopython developers\n",
    "() if you need this).\n",
    "\n",
    "### Writing PDB files\n",
    "\n",
    "Use the PDBIO class for this. It’s easy to write out specific parts of a\n",
    "structure too, of course.\n",
    "\n",
    "Example: saving a structure\n",
    "\n"
   ]
  },
  {
   "cell_type": "code",
   "execution_count": null,
   "metadata": {},
   "outputs": [],
   "source": [
    "from Bio.PDB import PDBIO\n",
    "io = PDBIO()\n",
    "io.set_structure(s)\n",
    "io.save('out.pdb')"
   ]
  },
  {
   "cell_type": "markdown",
   "metadata": {},
   "source": [
    "\n",
    "If you want to write out a part of the structure, make use of the\n",
    "`Select` class (also in `PDBIO`). Select has four methods:\n",
    "\n",
    "-   `accept_model(model)`\n",
    "\n",
    "-   `accept_chain(chain)`\n",
    "\n",
    "-   `accept_residue(residue)`\n",
    "\n",
    "-   `accept_atom(atom)`\n",
    "\n",
    "By default, every method returns 1 (which means the\n",
    "model/chain/residue/atom is included in the output). By subclassing\n",
    "`Select` and returning 0 when appropriate you can exclude models,\n",
    "chains, etc. from the output. Cumbersome maybe, but very powerful. The\n",
    "following code only writes out glycine residues:\n",
    "\n"
   ]
  },
  {
   "cell_type": "code",
   "execution_count": null,
   "metadata": {},
   "outputs": [],
   "source": [
    "from Bio.PDB.PDBIO import Select\n",
    "class GlySelect(Select):\n",
    "    def accept_residue(self, residue):\n",
    "        if residue.get_name() == 'GLY':\n",
    "            return True\n",
    "        else:\n",
    "            return False"
   ]
  },
  {
   "cell_type": "code",
   "execution_count": null,
   "metadata": {},
   "outputs": [],
   "source": [
    "io = PDBIO()\n",
    "io.set_structure(s)\n",
    "io.save('gly_only.pdb', GlySelect())"
   ]
  },
  {
   "cell_type": "markdown",
   "metadata": {},
   "source": [
    "\n",
    "If this is all too complicated for you, the `Dice` module contains a\n",
    "handy `extract` function that writes out all residues in a chain between\n",
    "a start and end residue.\n",
    "\n",
    "Structure representation\n",
    "------------------------\n",
    "\n",
    "The overall layout of a `Structure` object follows the so-called SMCRA\n",
    "(Structure/Model/Chain/Residue/Atom) architecture:\n",
    "\n",
    "-   A structure consists of models\n",
    "\n",
    "-   A model consists of chains\n",
    "\n",
    "-   A chain consists of residues\n",
    "\n",
    "-   A residue consists of atoms\n",
    "\n",
    "This is the way many structural biologists/bioinformaticians think about\n",
    "structure, and provides a simple but efficient way to deal with\n",
    "structure. Additional stuff is essentially added when needed. A UML\n",
    "diagram of the `Structure` object (forget about the `Disordered` classes\n",
    "for now) is shown in Fig. \\[fig:smcra\\]. Such a data structure is not\n",
    "necessarily best suited for the representation of the macromolecular\n",
    "content of a structure, but it is absolutely necessary for a good\n",
    "interpretation of the data present in a file that describes the\n",
    "structure (typically a PDB or MMCIF file). If this hierarchy cannot\n",
    "represent the contents of a structure file, it is fairly certain that\n",
    "the file contains an error or at least does not describe the structure\n",
    "unambiguously. If a SMCRA data structure cannot be generated, there is\n",
    "reason to suspect a problem. Parsing a PDB file can thus be used to\n",
    "detect likely problems. We will give several examples of this in section\n",
    "\\[problem structures\\].\n",
    "\n",
    "![UML diagram of SMCRA architecture of the `Structure` class used to\n",
    "represent a macromolecular structure. Full lines with diamonds denote\n",
    "aggregation, full lines with arrows denote referencing, full lines with\n",
    "triangles denote inheritance and dashed lines with triangles denote\n",
    "interface realization.<span\n",
    "data-label=\"fig:smcra\"></span>](images/smcra.png)\n",
    "\n",
    "Structure, Model, Chain and Residue are all subclasses of the Entity\n",
    "base class. The Atom class only (partly) implements the Entity interface\n",
    "(because an Atom does not have children).\n",
    "\n",
    "For each Entity subclass, you can extract a child by using a unique id\n",
    "for that child as a key (e.g. you can extract an Atom object from a\n",
    "Residue object by using an atom name string as a key, you can extract a\n",
    "Chain object from a Model object by using its chain identifier as a\n",
    "key).\n",
    "\n",
    "Disordered atoms and residues are represented by DisorderedAtom and\n",
    "DisorderedResidue classes, which are both subclasses of the\n",
    "DisorderedEntityWrapper base class. They hide the complexity associated\n",
    "with disorder and behave exactly as Atom and Residue objects.\n",
    "\n",
    "In general, a child Entity object (i.e. Atom, Residue, Chain, Model) can\n",
    "be extracted from its parent (i.e. Residue, Chain, Model, Structure,\n",
    "respectively) by using an id as a key.\n",
    "\n"
   ]
  },
  {
   "cell_type": "code",
   "execution_count": null,
   "metadata": {},
   "outputs": [],
   "source": [
    "child_entity = parent_entity[child_id]"
   ]
  },
  {
   "cell_type": "markdown",
   "metadata": {},
   "source": [
    "\n",
    "You can also get a list of all child Entities of a parent Entity object.\n",
    "Note that this list is sorted in a specific way (e.g. according to chain\n",
    "identifier for Chain objects in a Model object).\n",
    "\n"
   ]
  },
  {
   "cell_type": "code",
   "execution_count": null,
   "metadata": {},
   "outputs": [],
   "source": [
    "child_list = parent_entity.get_list()"
   ]
  },
  {
   "cell_type": "markdown",
   "metadata": {},
   "source": [
    "\n",
    "You can also get the parent from a child:\n",
    "\n"
   ]
  },
  {
   "cell_type": "code",
   "execution_count": null,
   "metadata": {},
   "outputs": [],
   "source": [
    "parent_entity = child_entity.get_parent()"
   ]
  },
  {
   "cell_type": "markdown",
   "metadata": {},
   "source": [
    "\n",
    "At all levels of the SMCRA hierarchy, you can also extract a *full id*.\n",
    "The full id is a tuple containing all id’s starting from the top object\n",
    "(Structure) down to the current object. A full id for a Residue object\n",
    "e.g. is something like:\n",
    "\n"
   ]
  },
  {
   "cell_type": "code",
   "execution_count": null,
   "metadata": {},
   "outputs": [],
   "source": [
    "full_id = residue.get_full_id()\n",
    "print(full_id)"
   ]
  },
  {
   "cell_type": "markdown",
   "metadata": {},
   "source": [
    "\n",
    "This corresponds to:\n",
    "\n",
    "-   The Structure with id \\`\"1abc\\`\"\n",
    "\n",
    "-   The Model with id 0\n",
    "\n",
    "-   The Chain with id \\`\"A\\`\"\n",
    "\n",
    "-   The Residue with id (\\`\" \\`\", 10, \\`\"A\\`\").\n",
    "\n",
    "The Residue id indicates that the residue is not a hetero-residue (nor a\n",
    "water) because it has a blank hetero field, that its sequence identifier\n",
    "is 10 and that its insertion code is \\`\"A\\`\".\n",
    "\n",
    "To get the entity’s id, use the `get_id` method:\n",
    "\n"
   ]
  },
  {
   "cell_type": "code",
   "execution_count": null,
   "metadata": {},
   "outputs": [],
   "source": [
    "entity.get_id()"
   ]
  },
  {
   "cell_type": "markdown",
   "metadata": {},
   "source": [
    "\n",
    "You can check if the entity has a child with a given id by using the\n",
    "`has_id` method:\n",
    "\n"
   ]
  },
  {
   "cell_type": "code",
   "execution_count": null,
   "metadata": {},
   "outputs": [],
   "source": [
    "entity.has_id(entity_id)"
   ]
  },
  {
   "cell_type": "markdown",
   "metadata": {},
   "source": [
    "\n",
    "The length of an entity is equal to its number of children:\n",
    "\n"
   ]
  },
  {
   "cell_type": "code",
   "execution_count": null,
   "metadata": {},
   "outputs": [],
   "source": [
    "nr_children = len(entity)"
   ]
  },
  {
   "cell_type": "markdown",
   "metadata": {},
   "source": [
    "\n",
    "It is possible to delete, rename, add, etc. child entities from a parent\n",
    "entity, but this does not include any sanity checks (e.g. it is possible\n",
    "to add two residues with the same id to one chain). This really should\n",
    "be done via a nice Decorator class that includes integrity checking, but\n",
    "you can take a look at the code (Entity.py) if you want to use the raw\n",
    "interface.\n",
    "\n",
    "### Structure\n",
    "\n",
    "The Structure object is at the top of the hierarchy. Its id is a user\n",
    "given string. The Structure contains a number of Model children. Most\n",
    "crystal structures (but not all) contain a single model, while NMR\n",
    "structures typically consist of several models. Disorder in crystal\n",
    "structures of large parts of molecules can also result in several\n",
    "models.\n",
    "\n",
    "### Model\n",
    "\n",
    "The id of the Model object is an integer, which is derived from the\n",
    "position of the model in the parsed file (they are automatically\n",
    "numbered starting from 0). Crystal structures generally have only one\n",
    "model (with id 0), while NMR files usually have several models. Whereas\n",
    "many PDB parsers assume that there is only one model, the `Structure`\n",
    "class in `Bio.PDB` is designed such that it can easily handle PDB files\n",
    "with more than one model.\n",
    "\n",
    "As an example, to get the first model from a Structure object, use\n",
    "\n"
   ]
  },
  {
   "cell_type": "code",
   "execution_count": null,
   "metadata": {},
   "outputs": [],
   "source": [
    "first_model = structure[0]"
   ]
  },
  {
   "cell_type": "markdown",
   "metadata": {},
   "source": [
    "\n",
    "The Model object stores a list of Chain children.\n",
    "\n",
    "### Chain\n",
    "\n",
    "The id of a Chain object is derived from the chain identifier in the\n",
    "PDB/mmCIF file, and is a single character (typically a letter). Each\n",
    "Chain in a Model object has a unique id. As an example, to get the Chain\n",
    "object with identifier “A” from a Model object, use\n",
    "\n"
   ]
  },
  {
   "cell_type": "code",
   "execution_count": null,
   "metadata": {},
   "outputs": [],
   "source": [
    "chain_A = model[\"A\"]"
   ]
  },
  {
   "cell_type": "markdown",
   "metadata": {},
   "source": [
    "\n",
    "The Chain object stores a list of Residue children.\n",
    "\n",
    "### Residue\n",
    "\n",
    "A residue id is a tuple with three elements:\n",
    "\n",
    "-   The **hetero-field** (hetfield): this is\n",
    "\n",
    "    -   `'W'` in the case of a water molecule;\n",
    "\n",
    "    -   `'H_'` followed by the residue name for other hetero\n",
    "        residues (e.g. `'H_GLC'` in the case of a glucose molecule);\n",
    "\n",
    "    -   blank for standard amino and nucleic acids.\n",
    "\n",
    "    This scheme is adopted for reasons described in section\n",
    "    \\[hetero problems\\].\n",
    "\n",
    "-   The **sequence identifier** (resseq), an integer describing the\n",
    "    position of the residue in the chain (e.g., 100);\n",
    "\n",
    "-   The **insertion code** (icode); a string, e.g. ’A’. The insertion\n",
    "    code is sometimes used to preserve a certain desirable residue\n",
    "    numbering scheme. A Ser 80 insertion mutant (inserted e.g. between a\n",
    "    Thr 80 and an Asn 81 residue) could e.g. have sequence identifiers\n",
    "    and insertion codes as follows: Thr 80 A, Ser 80 B, Asn 81. In this\n",
    "    way the residue numbering scheme stays in tune with that of the wild\n",
    "    type structure.\n",
    "\n",
    "The id of the above glucose residue would thus be `(’H_GLC’, 100, ’A’)`.\n",
    "If the hetero-flag and insertion code are blank, the sequence identifier\n",
    "alone can be used:\n",
    "\n"
   ]
  },
  {
   "cell_type": "code",
   "execution_count": null,
   "metadata": {},
   "outputs": [],
   "source": [
    "# Full id\n",
    "residue = chain[(' ', 100, ' ')]"
   ]
  },
  {
   "cell_type": "code",
   "execution_count": null,
   "metadata": {},
   "outputs": [],
   "source": [
    "residue = chain[100]"
   ]
  },
  {
   "cell_type": "markdown",
   "metadata": {},
   "source": [
    "\n",
    "The reason for the hetero-flag is that many, many PDB files use the same\n",
    "sequence identifier for an amino acid and a hetero-residue or a water,\n",
    "which would create obvious problems if the hetero-flag was not used.\n",
    "\n",
    "Unsurprisingly, a Residue object stores a set of Atom children. It also\n",
    "contains a string that specifies the residue name (e.g. “ASN”) and the\n",
    "segment identifier of the residue (well known to X-PLOR users, but not\n",
    "used in the construction of the SMCRA data structure).\n",
    "\n",
    "Let’s look at some examples. Asn 10 with a blank insertion code would\n",
    "have residue id <span>(’ ’, 10, ’ ’)</span>. Water 10 would have residue\n",
    "id <span>(’W’, 10, ’ ’)</span>. A glucose molecule (a hetero residue\n",
    "with residue name GLC) with sequence identifier 10 would have residue id\n",
    "<span>(’H\\_GLC’, 10, ’ ’)</span>. In this way, the three residues (with\n",
    "the same insertion code and sequence identifier) can be part of the same\n",
    "chain because their residue id’s are distinct.\n",
    "\n",
    "In most cases, the hetflag and insertion code fields will be blank, e.g.\n",
    "<span>(’ ’, 10, ’ ’)</span>. In these cases, the sequence identifier can\n",
    "be used as a shortcut for the full id:\n",
    "\n"
   ]
  },
  {
   "cell_type": "code",
   "execution_count": null,
   "metadata": {},
   "outputs": [],
   "source": [
    "# use full id\n",
    "res10 = chain[(' ', 10, ' ')]"
   ]
  },
  {
   "cell_type": "code",
   "execution_count": null,
   "metadata": {},
   "outputs": [],
   "source": [
    "res10 = chain[10]"
   ]
  },
  {
   "cell_type": "markdown",
   "metadata": {},
   "source": [
    "\n",
    "Each Residue object in a Chain object should have a unique id. However,\n",
    "disordered residues are dealt with in a special way, as described in\n",
    "section \\[point mutations\\].\n",
    "\n",
    "A Residue object has a number of additional methods:\n",
    "\n"
   ]
  },
  {
   "cell_type": "code",
   "execution_count": null,
   "metadata": {},
   "outputs": [],
   "source": [
    "residue.get_resname()       # returns the residue name, e.g. \"ASN\"\n",
    "residue.is_disordered()     # returns 1 if the residue has disordered atoms\n",
    "residue.get_segid()         # returns the SEGID, e.g. \"CHN1\"\n",
    "residue.has_id(name)        # test if a residue has a certain atom"
   ]
  },
  {
   "cell_type": "markdown",
   "metadata": {},
   "source": [
    "\n",
    "You can use `is_aa(residue)` to test if a Residue object is an amino\n",
    "acid.\n",
    "\n",
    "### Atom\n",
    "\n",
    "The Atom object stores the data associated with an atom, and has no\n",
    "children. The id of an atom is its atom name (e.g. “OG” for the side\n",
    "chain oxygen of a Ser residue). An Atom id needs to be unique in a\n",
    "Residue. Again, an exception is made for disordered atoms, as described\n",
    "in section \\[disordered atoms\\].\n",
    "\n",
    "The atom id is simply the atom name (eg. `’CA’`). In practice, the atom\n",
    "name is created by stripping all spaces from the atom name in the PDB\n",
    "file.\n",
    "\n",
    "However, in PDB files, a space can be part of an atom name. Often,\n",
    "calcium atoms are called `’CA..’` in order to distinguish them from\n",
    "C$\\alpha$ atoms (which are called `’.CA.’`). In cases were stripping the\n",
    "spaces would create problems (ie. two atoms called `’CA’` in the same\n",
    "residue) the spaces are kept.\n",
    "\n",
    "In a PDB file, an atom name consists of 4 chars, typically with leading\n",
    "and trailing spaces. Often these spaces can be removed for ease of use\n",
    "(e.g. an amino acid C$ \\alpha  $ atom is labeled “.CA.” in a PDB file,\n",
    "where the dots represent spaces). To generate an atom name (and thus an\n",
    "atom id) the spaces are removed, unless this would result in a name\n",
    "collision in a Residue (i.e. two Atom objects with the same atom name\n",
    "and id). In the latter case, the atom name including spaces is tried.\n",
    "This situation can e.g. happen when one residue contains atoms with\n",
    "names “.CA.” and “CA..”, although this is not very likely.\n",
    "\n",
    "The atomic data stored includes the atom name, the atomic coordinates\n",
    "(including standard deviation if present), the B factor (including\n",
    "anisotropic B factors and standard deviation if present), the altloc\n",
    "specifier and the full atom name including spaces. Less used items like\n",
    "the atom element number or the atomic charge sometimes specified in a\n",
    "PDB file are not stored.\n",
    "\n",
    "To manipulate the atomic coordinates, use the `transform` method of the\n",
    "`Atom` object. Use the `set_coord` method to specify the atomic\n",
    "coordinates directly.\n",
    "\n",
    "An Atom object has the following additional methods:\n",
    "\n"
   ]
  },
  {
   "cell_type": "code",
   "execution_count": null,
   "metadata": {},
   "outputs": [],
   "source": [
    "a.get_name()       # atom name (spaces stripped, e.g. \"CA\")\n",
    "a.get_id()         # id (equals atom name)\n",
    "a.get_coord()      # atomic coordinates\n",
    "a.get_vector()     # atomic coordinates as Vector object\n",
    "a.get_bfactor()    # isotropic B factor\n",
    "a.get_occupancy()  # occupancy\n",
    "a.get_altloc()     # alternative location specifier\n",
    "a.get_sigatm()     # standard deviation of atomic parameters\n",
    "a.get_siguij()     # standard deviation of anisotropic B factor\n",
    "a.get_anisou()     # anisotropic B factor\n",
    "a.get_fullname()   # atom name (with spaces, e.g. \".CA.\")"
   ]
  },
  {
   "cell_type": "markdown",
   "metadata": {},
   "source": [
    "\n",
    "To represent the atom coordinates, siguij, anisotropic B factor and\n",
    "sigatm Numpy arrays are used.\n",
    "\n",
    "The `get_vector` method returns a `Vector` object representation of the\n",
    "coordinates of the `Atom` object, allowing you to do vector operations\n",
    "on atomic coordinates. `Vector` implements the full set of 3D vector\n",
    "operations, matrix multiplication (left and right) and some advanced\n",
    "rotation-related operations as well.\n",
    "\n",
    "As an example of the capabilities of Bio.PDB’s `Vector` module, suppose\n",
    "that you would like to find the position of a Gly residue’s C$\\beta$\n",
    "atom, if it had one. Rotating the N atom of the Gly residue along the\n",
    "C$\\alpha$-C bond over -120 degrees roughly puts it in the position of a\n",
    "virtual C$\\beta$ atom. Here’s how to do it, making use of the `rotaxis`\n",
    "method (which can be used to construct a rotation around a certain axis)\n",
    "of the `Vector` module:\n",
    "\n"
   ]
  },
  {
   "cell_type": "code",
   "execution_count": null,
   "metadata": {},
   "outputs": [],
   "source": [
    "# get atom coordinates as vectors\n",
    "n = residue['N'].get_vector()\n",
    "c = residue['C'].get_vector()\n",
    "ca = residue['CA'].get_vector()"
   ]
  },
  {
   "cell_type": "code",
   "execution_count": null,
   "metadata": {},
   "outputs": [],
   "source": [
    "n = n - ca\n",
    "c = c - ca"
   ]
  },
  {
   "cell_type": "code",
   "execution_count": null,
   "metadata": {},
   "outputs": [],
   "source": [
    "rot = rotaxis(-pi * 120.0/180.0, c)"
   ]
  },
  {
   "cell_type": "code",
   "execution_count": null,
   "metadata": {},
   "outputs": [],
   "source": [
    "cb_at_origin = n.left_multiply(rot)"
   ]
  },
  {
   "cell_type": "code",
   "execution_count": null,
   "metadata": {},
   "outputs": [],
   "source": [
    "cb = cb_at_origin + ca"
   ]
  },
  {
   "cell_type": "markdown",
   "metadata": {},
   "source": [
    "\n",
    "This example shows that it’s possible to do some quite nontrivial vector\n",
    "operations on atomic data, which can be quite useful. In addition to all\n",
    "the usual vector operations (cross (use `**`), and dot (use `*`)\n",
    "product, angle, norm, etc.) and the above mentioned `rotaxis` function,\n",
    "the `Vector` module also has methods to rotate (`rotmat`) or reflect\n",
    "(`refmat`) one vector on top of another.\n",
    "\n",
    "### Extracting a specific `Atom/Residue/Chain/Model` from a Structure\n",
    "\n",
    "These are some examples:\n",
    "\n"
   ]
  },
  {
   "cell_type": "code",
   "execution_count": null,
   "metadata": {},
   "outputs": [],
   "source": [
    "model = structure[0]\n",
    "chain = model['A']\n",
    "residue = chain[100]\n",
    "atom = residue['CA']"
   ]
  },
  {
   "cell_type": "markdown",
   "metadata": {},
   "source": [
    "\n",
    "Note that you can use a shortcut:\n",
    "\n"
   ]
  },
  {
   "cell_type": "code",
   "execution_count": null,
   "metadata": {},
   "outputs": [],
   "source": [
    "atom = structure[0]['A'][100]['CA']"
   ]
  },
  {
   "cell_type": "markdown",
   "metadata": {},
   "source": [
    "\n",
    "Disorder\n",
    "--------\n",
    "\n",
    "Bio.PDB can handle both disordered atoms and point mutations (i.e. a Gly\n",
    "and an Ala residue in the same position).\n",
    "\n",
    "### General approach\\[disorder problems\\]\n",
    "\n",
    "Disorder should be dealt with from two points of view: the atom and the\n",
    "residue points of view. In general, we have tried to encapsulate all the\n",
    "complexity that arises from disorder. If you just want to loop over all\n",
    "C$\\alpha$ atoms, you do not care that some residues have a disordered\n",
    "side chain. On the other hand it should also be possible to represent\n",
    "disorder completely in the data structure. Therefore, disordered atoms\n",
    "or residues are stored in special objects that behave as if there is no\n",
    "disorder. This is done by only representing a subset of the disordered\n",
    "atoms or residues. Which subset is picked (e.g. which of the two\n",
    "disordered OG side chain atom positions of a Ser residue is used) can be\n",
    "specified by the user.\n",
    "\n",
    "### Disordered atoms\\[disordered atoms\\]\n",
    "\n",
    "Disordered atoms are represented by ordinary `Atom` objects, but all\n",
    "`Atom` objects that represent the same physical atom are stored in a\n",
    "`DisorderedAtom` object (see Fig. \\[fig:smcra\\]). Each `Atom` object in\n",
    "a `DisorderedAtom` object can be uniquely indexed using its altloc\n",
    "specifier. The `DisorderedAtom` object forwards all uncaught method\n",
    "calls to the selected Atom object, by default the one that represents\n",
    "the atom with the highest occupancy. The user can of course change the\n",
    "selected `Atom` object, making use of its altloc specifier. In this way\n",
    "atom disorder is represented correctly without much additional\n",
    "complexity. In other words, if you are not interested in atom disorder,\n",
    "you will not be bothered by it.\n",
    "\n",
    "Each disordered atom has a characteristic altloc identifier. You can\n",
    "specify that a `DisorderedAtom` object should behave like the `Atom`\n",
    "object associated with a specific altloc identifier:\n",
    "\n"
   ]
  },
  {
   "cell_type": "code",
   "execution_count": null,
   "metadata": {},
   "outputs": [],
   "source": [
    "atom.disordered_select('A') # select altloc A atom\n",
    "print(atom.get_altloc())"
   ]
  },
  {
   "cell_type": "code",
   "execution_count": null,
   "metadata": {},
   "outputs": [],
   "source": [
    "atom.disordered_select('B') # select altloc B atom\n",
    "print(atom.get_altloc())"
   ]
  },
  {
   "cell_type": "markdown",
   "metadata": {},
   "source": [
    "\n",
    "### Disordered residues\n",
    "\n",
    "#### Common case {#common-case .unnumbered}\n",
    "\n",
    "The most common case is a residue that contains one or more disordered\n",
    "atoms. This is evidently solved by using DisorderedAtom objects to\n",
    "represent the disordered atoms, and storing the DisorderedAtom object in\n",
    "a Residue object just like ordinary Atom objects. The DisorderedAtom\n",
    "will behave exactly like an ordinary atom (in fact the atom with the\n",
    "highest occupancy) by forwarding all uncaught method calls to one of the\n",
    "Atom objects (the selected Atom object) it contains.\n",
    "\n",
    "#### Point mutations\\[point mutations\\] {#point-mutationspoint-mutations .unnumbered}\n",
    "\n",
    "A special case arises when disorder is due to a point mutation, i.e.\n",
    "when two or more point mutants of a polypeptide are present in the\n",
    "crystal. An example of this can be found in PDB structure 1EN2.\n",
    "\n",
    "Since these residues belong to a different residue type (e.g. let’s say\n",
    "Ser 60 and Cys 60) they should not be stored in a single `Residue`\n",
    "object as in the common case. In this case, each residue is represented\n",
    "by one `Residue` object, and both `Residue` objects are stored in a\n",
    "single `DisorderedResidue` object (see Fig. \\[fig:smcra\\]).\n",
    "\n",
    "The `DisorderedResidue` object forwards all uncaught methods to the\n",
    "selected `Residue` object (by default the last `Residue` object added),\n",
    "and thus behaves like an ordinary residue. Each `Residue` object in a\n",
    "`DisorderedResidue` object can be uniquely identified by its residue\n",
    "name. In the above example, residue Ser 60 would have id “SER” in the\n",
    "`DisorderedResidue` object, while residue Cys 60 would have id “CYS”.\n",
    "The user can select the active `Residue` object in a `DisorderedResidue`\n",
    "object via this id.\n",
    "\n",
    "Example: suppose that a chain has a point mutation at position 10,\n",
    "consisting of a Ser and a Cys residue. Make sure that residue 10 of this\n",
    "chain behaves as the Cys residue.\n",
    "\n"
   ]
  },
  {
   "cell_type": "code",
   "execution_count": null,
   "metadata": {},
   "outputs": [],
   "source": [
    "residue = chain[10]\n",
    "residue.disordered_select('CYS')"
   ]
  },
  {
   "cell_type": "markdown",
   "metadata": {},
   "source": [
    "\n",
    "In addition, you can get a list of all `Atom` objects (ie. all\n",
    "`DisorderedAtom` objects are ’unpacked’ to their individual `Atom`\n",
    "objects) using the `get_unpacked_list` method of a `(Disordered)Residue`\n",
    "object.\n",
    "\n",
    "Hetero residues\n",
    "---------------\n",
    "\n",
    "### Associated problems\\[hetero problems\\]\n",
    "\n",
    "A common problem with hetero residues is that several hetero and\n",
    "non-hetero residues present in the same chain share the same sequence\n",
    "identifier (and insertion code). Therefore, to generate a unique id for\n",
    "each hetero residue, waters and other hetero residues are treated in a\n",
    "different way.\n",
    "\n",
    "Remember that Residue object have the tuple (hetfield, resseq, icode) as\n",
    "id. The hetfield is blank (“ ”) for amino and nucleic acids, and a\n",
    "string for waters and other hetero residues. The content of the hetfield\n",
    "is explained below.\n",
    "\n",
    "### Water residues\n",
    "\n",
    "The hetfield string of a water residue consists of the letter “W”. So a\n",
    "typical residue id for a water is (“W”, 1, “ ”).\n",
    "\n",
    "### Other hetero residues\n",
    "\n",
    "The hetfield string for other hetero residues starts with “H\\_” followed\n",
    "by the residue name. A glucose molecule e.g. with residue name “GLC”\n",
    "would have hetfield “H\\_GLC”. Its residue id could e.g. be (“H\\_GLC”, 1,\n",
    "“ ”).\n",
    "\n",
    "Navigating through a Structure object\n",
    "-------------------------------------\n",
    "\n",
    "#### Parse a PDB file, and extract some Model, Chain, Residue and Atom objects {#parse-a-pdb-file-and-extract-some-model-chain-residue-and-atom-objects .unnumbered}\n",
    "\n"
   ]
  },
  {
   "cell_type": "code",
   "execution_count": null,
   "metadata": {},
   "outputs": [],
   "source": [
    "from Bio.PDB.PDBParser import PDBParser\n",
    "parser = PDBParser()\n",
    "structure = parser.get_structure(\"test\", \"data/pdb1fat.ent\")\n",
    "model = structure[0]\n",
    "chain = model[\"A\"]\n",
    "residue = chain[1]\n",
    "atom = residue[\"CA\"]"
   ]
  },
  {
   "cell_type": "markdown",
   "metadata": {},
   "source": [
    "\n",
    "#### Iterating through all atoms of a structure {#iterating-through-all-atoms-of-a-structure .unnumbered}\n",
    "\n"
   ]
  },
  {
   "cell_type": "code",
   "execution_count": null,
   "metadata": {},
   "outputs": [],
   "source": [
    "p = PDBParser()\n",
    "structure = p.get_structure('X', 'data/pdb1fat.ent')\n",
    "for model in structure:\n",
    "    for chain in model:\n",
    "        for residue in chain:\n",
    "            for atom in residue:\n",
    "                print(atom)"
   ]
  },
  {
   "cell_type": "markdown",
   "metadata": {},
   "source": [
    "\n",
    "There is a shortcut if you want to iterate over all atoms in a\n",
    "structure:\n",
    "\n"
   ]
  },
  {
   "cell_type": "code",
   "execution_count": null,
   "metadata": {},
   "outputs": [],
   "source": [
    "atoms = structure.get_atoms()\n",
    "for atom in atoms:\n",
    "    print(atom)"
   ]
  },
  {
   "cell_type": "markdown",
   "metadata": {},
   "source": [
    "\n",
    "Similarly, to iterate over all atoms in a chain, use\n",
    "\n"
   ]
  },
  {
   "cell_type": "code",
   "execution_count": null,
   "metadata": {},
   "outputs": [],
   "source": [
    "atoms = chain.get_atoms()\n",
    "for atom in atoms:\n",
    "    print(atom)"
   ]
  },
  {
   "cell_type": "markdown",
   "metadata": {},
   "source": [
    "\n",
    "#### Iterating over all residues of a model {#iterating-over-all-residues-of-a-model .unnumbered}\n",
    "\n",
    "or if you want to iterate over all residues in a model:\n",
    "\n"
   ]
  },
  {
   "cell_type": "code",
   "execution_count": null,
   "metadata": {},
   "outputs": [],
   "source": [
    "residues = model.get_residues()\n",
    "for residue in residues:\n",
    "    print(residue)"
   ]
  },
  {
   "cell_type": "markdown",
   "metadata": {},
   "source": [
    "\n",
    "You can also use the `Selection.unfold_entities` function to get all\n",
    "residues from a structure:\n",
    "\n"
   ]
  },
  {
   "cell_type": "code",
   "execution_count": null,
   "metadata": {},
   "outputs": [],
   "source": [
    "from Bio.PDB import Selection\n",
    "res_list = Selection.unfold_entities(structure, 'R')"
   ]
  },
  {
   "cell_type": "markdown",
   "metadata": {},
   "source": [
    "\n",
    "or to get all atoms from a chain:\n",
    "\n"
   ]
  },
  {
   "cell_type": "code",
   "execution_count": null,
   "metadata": {},
   "outputs": [],
   "source": [
    "atom_list = Selection.unfold_entities(chain, 'A')"
   ]
  },
  {
   "cell_type": "markdown",
   "metadata": {},
   "source": [
    "\n",
    "Obviously, `A=atom, R=residue, C=chain, M=model, S=structure`. You can\n",
    "use this to go up in the hierarchy, e.g. to get a list of (unique)\n",
    "`Residue` or `Chain` parents from a list of `Atoms`:\n",
    "\n"
   ]
  },
  {
   "cell_type": "code",
   "execution_count": null,
   "metadata": {},
   "outputs": [],
   "source": [
    "residue_list = Selection.unfold_entities(atom_list, 'R')\n",
    "chain_list = Selection.unfold_entities(atom_list, 'C')"
   ]
  },
  {
   "cell_type": "markdown",
   "metadata": {},
   "source": [
    "\n",
    "For more info, see the API documentation.\n",
    "\n",
    "#### Extract a hetero residue from a chain (e.g. a glucose (GLC) moiety with resseq 10) {#extract-a-hetero-residue-from-a-chain-e.g.-a-glucose-glc-moiety-with-resseq-10 .unnumbered}\n",
    "\n"
   ]
  },
  {
   "cell_type": "code",
   "execution_count": null,
   "metadata": {},
   "outputs": [],
   "source": [
    "residue_id = (\"H_GLC\", 10, \" \")\n",
    "residue = chain[residue_id]"
   ]
  },
  {
   "cell_type": "markdown",
   "metadata": {},
   "source": [
    "\n",
    "#### Print all hetero residues in chain {#print-all-hetero-residues-in-chain .unnumbered}\n",
    "\n"
   ]
  },
  {
   "cell_type": "code",
   "execution_count": null,
   "metadata": {},
   "outputs": [],
   "source": [
    "for residue in chain.get_list():\n",
    "    residue_id = residue.get_id()\n",
    "    hetfield = residue_id[0]\n",
    "    if hetfield[0]==\"H\":\n",
    "        print(residue_id)"
   ]
  },
  {
   "cell_type": "markdown",
   "metadata": {},
   "source": [
    "\n",
    "#### Print out the coordinates of all CA atoms in a structure with B factor greater than 50 {#print-out-the-coordinates-of-all-ca-atoms-in-a-structure-with-b-factor-greater-than-50 .unnumbered}\n",
    "\n"
   ]
  },
  {
   "cell_type": "code",
   "execution_count": null,
   "metadata": {},
   "outputs": [],
   "source": [
    "for model in structure.get_list():\n",
    "    for chain in model.get_list():\n",
    "        for residue in chain.get_list():\n",
    "            if residue.has_id(\"CA\"):\n",
    "                ca = residue[\"CA\"]\n",
    "            if ca.get_bfactor() > 50.0:\n",
    "                print(ca.get_coord())"
   ]
  },
  {
   "cell_type": "markdown",
   "metadata": {},
   "source": [
    "\n",
    "#### Print out all the residues that contain disordered atoms {#print-out-all-the-residues-that-contain-disordered-atoms .unnumbered}\n",
    "\n"
   ]
  },
  {
   "cell_type": "code",
   "execution_count": null,
   "metadata": {},
   "outputs": [],
   "source": [
    "for model in structure.get_list():\n",
    "    for chain in model.get_list():\n",
    "        for residue in chain.get_list():\n",
    "            if residue.is_disordered():\n",
    "                resseq = residue.get_id()[1]\n",
    "                resname = residue.get_resname()\n",
    "                model_id = model.get_id()\n",
    "                chain_id = chain.get_id()\n",
    "                print(model_id, chain_id, resname, resseq)"
   ]
  },
  {
   "cell_type": "markdown",
   "metadata": {},
   "source": [
    "\n",
    "#### Loop over all disordered atoms, and select all atoms with altloc A (if present) {#loop-over-all-disordered-atoms-and-select-all-atoms-with-altloc-a-if-present .unnumbered}\n",
    "\n",
    "This will make sure that the SMCRA data structure will behave as if only\n",
    "the atoms with altloc A are present.\n",
    "\n"
   ]
  },
  {
   "cell_type": "code",
   "execution_count": null,
   "metadata": {},
   "outputs": [],
   "source": [
    "for model in structure.get_list():\n",
    "    for chain in model.get_list():\n",
    "        for residue in chain.get_list():\n",
    "            if residue.is_disordered():\n",
    "                for atom in residue.get_list():\n",
    "                    if atom.is_disordered() and atom.disordered_has_id(\"A\"):\n",
    "                        atom.disordered_select(\"A\")"
   ]
  },
  {
   "cell_type": "markdown",
   "metadata": {},
   "source": [
    "\n",
    "#### Extracting polypeptides from a `Structure` object\\[subsubsec:extracting\\_polypeptides\\] {#extracting-polypeptides-from-a-structure-objectsubsubsecextracting_polypeptides .unnumbered}\n",
    "\n",
    "To extract polypeptides from a structure, construct a list of\n",
    "`Polypeptide` objects from a `Structure` object using\n",
    "`PolypeptideBuilder` as follows:\n",
    "\n"
   ]
  },
  {
   "cell_type": "code",
   "execution_count": null,
   "metadata": {},
   "outputs": [],
   "source": [
    "model_nr = 1\n",
    "polypeptide_list = build_peptides(structure, model_nr)\n",
    "for polypeptide in polypeptide_list:\n",
    "    print(polypeptide)"
   ]
  },
  {
   "cell_type": "markdown",
   "metadata": {},
   "source": [
    "\n",
    "A Polypeptide object is simply a UserList of Residue objects, and is\n",
    "always created from a single Model (in this case model 1). You can use\n",
    "the resulting `Polypeptide` object to get the sequence as a `Seq` object\n",
    "or to get a list of C$\\alpha$ atoms as well. Polypeptides can be built\n",
    "using a C-N or a C$\\alpha$-C$\\alpha$ distance criterion.\n",
    "\n",
    "Example:\n",
    "\n"
   ]
  },
  {
   "cell_type": "code",
   "execution_count": null,
   "metadata": {},
   "outputs": [],
   "source": [
    "# Using C-N\n",
    "ppb = PPBuilder()\n",
    "for pp in ppb.build_peptides(structure):\n",
    "    print(pp.get_sequence())"
   ]
  },
  {
   "cell_type": "code",
   "execution_count": null,
   "metadata": {},
   "outputs": [],
   "source": [
    "ppb = CaPPBuilder()\n",
    "for pp in ppb.build_peptides(structure):\n",
    "    print(pp.get_sequence())"
   ]
  },
  {
   "cell_type": "markdown",
   "metadata": {},
   "source": [
    "\n",
    "Note that in the above case only model 0 of the structure is considered\n",
    "by `PolypeptideBuilder`. However, it is possible to use\n",
    "`PolypeptideBuilder` to build `Polypeptide` objects from `Model` and\n",
    "`Chain` objects as well.\n",
    "\n",
    "#### Obtaining the sequence of a structure {#obtaining-the-sequence-of-a-structure .unnumbered}\n",
    "\n",
    "The first thing to do is to extract all polypeptides from the structure\n",
    "(as above). The sequence of each polypeptide can then easily be obtained\n",
    "from the `Polypeptide` objects. The sequence is represented as a\n",
    "Biopython `Seq` object, and its alphabet is defined by a\n",
    "`ProteinAlphabet` object.\n",
    "\n",
    "Example:\n",
    "\n"
   ]
  },
  {
   "cell_type": "code",
   "execution_count": null,
   "metadata": {},
   "outputs": [],
   "source": [
    "seq = polypeptide.get_sequence()\n",
    "print(seq)"
   ]
  },
  {
   "cell_type": "markdown",
   "metadata": {},
   "source": [
    "\n",
    "Analyzing structures\n",
    "--------------------\n",
    "\n",
    "### Measuring distances\n",
    "\n",
    "The minus operator for atoms has been overloaded to return the distance\n",
    "between two atoms.\n",
    "\n"
   ]
  },
  {
   "cell_type": "code",
   "execution_count": null,
   "metadata": {},
   "outputs": [],
   "source": [
    "# Get some atoms\n",
    "ca1 = residue1['CA']\n",
    "ca2 = residue2['CA']"
   ]
  },
  {
   "cell_type": "code",
   "execution_count": null,
   "metadata": {},
   "outputs": [],
   "source": [
    "distance = ca1-ca2"
   ]
  },
  {
   "cell_type": "markdown",
   "metadata": {},
   "source": [
    "\n",
    "### Measuring angles\n",
    "\n",
    "Use the vector representation of the atomic coordinates, and the\n",
    "`calc_angle` function from the `Vector` module:\n",
    "\n"
   ]
  },
  {
   "cell_type": "code",
   "execution_count": null,
   "metadata": {},
   "outputs": [],
   "source": [
    "vector1 = atom1.get_vector()\n",
    "vector2 = atom2.get_vector()\n",
    "vector3 = atom3.get_vector()\n",
    "angle = calc_angle(vector1, vector2, vector3)"
   ]
  },
  {
   "cell_type": "markdown",
   "metadata": {},
   "source": [
    "\n",
    "### Measuring torsion angles\n",
    "\n",
    "Use the vector representation of the atomic coordinates, and the\n",
    "`calc_dihedral` function from the `Vector` module:\n",
    "\n"
   ]
  },
  {
   "cell_type": "code",
   "execution_count": null,
   "metadata": {},
   "outputs": [],
   "source": [
    "vector1 = atom1.get_vector()\n",
    "vector2 = atom2.get_vector()\n",
    "vector3 = atom3.get_vector()\n",
    "vector4 = atom4.get_vector()\n",
    "angle = calc_dihedral(vector1, vector2, vector3, vector4)"
   ]
  },
  {
   "cell_type": "markdown",
   "metadata": {},
   "source": [
    "\n",
    "### Determining atom-atom contacts\n",
    "\n",
    "Use `NeighborSearch` to perform neighbor lookup. The neighbor lookup is\n",
    "done using a KD tree module written in C (see `Bio.KDTree`), making it\n",
    "very fast. It also includes a fast method to find all point pairs within\n",
    "a certain distance of each other.\n",
    "\n",
    "### Superimposing two structures\n",
    "\n",
    "Use a `Superimposer` object to superimpose two coordinate sets. This\n",
    "object calculates the rotation and translation matrix that rotates two\n",
    "lists of atoms on top of each other in such a way that their RMSD is\n",
    "minimized. Of course, the two lists need to contain the same number of\n",
    "atoms. The `Superimposer` object can also apply the rotation/translation\n",
    "to a list of atoms. The rotation and translation are stored as a tuple\n",
    "in the `rotran` attribute of the `Superimposer` object (note that the\n",
    "rotation is right multiplying!). The RMSD is stored in the `rmsd`\n",
    "attribute.\n",
    "\n",
    "The algorithm used by `Superimposer` comes from @golub1989 [Golub & Van\n",
    "Loan] and makes use of singular value decomposition (this is implemented\n",
    "in the general `Bio.SVDSuperimposer` module).\n",
    "\n",
    "Example:\n",
    "\n"
   ]
  },
  {
   "cell_type": "code",
   "execution_count": null,
   "metadata": {},
   "outputs": [],
   "source": [
    "from Bio.PDB import Superimposer\n",
    "sup = Superimposer()"
   ]
  },
  {
   "cell_type": "code",
   "execution_count": null,
   "metadata": {},
   "outputs": [],
   "source": [
    "sup.set_atoms(fixed, moving)"
   ]
  },
  {
   "cell_type": "code",
   "execution_count": null,
   "metadata": {},
   "outputs": [],
   "source": [
    "print(sup.rotran)\n",
    "print(sup.rms)"
   ]
  },
  {
   "cell_type": "code",
   "execution_count": null,
   "metadata": {},
   "outputs": [],
   "source": [
    "sup.apply(moving)"
   ]
  },
  {
   "cell_type": "markdown",
   "metadata": {},
   "source": [
    "\n",
    "To superimpose two structures based on their active sites, use the\n",
    "active site atoms to calculate the rotation/translation matrices (as\n",
    "above), and apply these to the whole molecule.\n",
    "\n",
    "### Mapping the residues of two related structures onto each other\n",
    "\n",
    "First, create an alignment file in FASTA format, then use the\n",
    "`StructureAlignment` class. This class can also be used for alignments\n",
    "with more than two structures.\n",
    "\n",
    "### Calculating the Half Sphere Exposure\n",
    "\n",
    "Half Sphere Exposure (HSE) is a new, 2D measure of solvent exposure\n",
    "@hamelryck2005. Basically, it counts the number of C$\\alpha$ atoms\n",
    "around a residue in the direction of its side chain, and in the opposite\n",
    "direction (within a radius of $13 \\AA$). Despite its simplicity, it\n",
    "outperforms many other measures of solvent exposure.\n",
    "\n",
    "HSE comes in two flavors: HSE$\\alpha$ and HSE$\\beta$. The former only\n",
    "uses the C$\\alpha$ atom positions, while the latter uses the C$\\alpha$\n",
    "and C$\\beta$ atom positions. The HSE measure is calculated by the\n",
    "`HSExposure` class, which can also calculate the contact number. The\n",
    "latter class has methods which return dictionaries that map a `Residue`\n",
    "object to its corresponding HSE$\\alpha$, HSE$\\beta$ and contact number\n",
    "values.\n",
    "\n",
    "Example:\n",
    "\n"
   ]
  },
  {
   "cell_type": "code",
   "execution_count": null,
   "metadata": {},
   "outputs": [],
   "source": [
    "from Bio.PDB import HSExposure\n",
    "model = structure[0]\n",
    "hse = HSExposure()"
   ]
  },
  {
   "cell_type": "code",
   "execution_count": null,
   "metadata": {},
   "outputs": [],
   "source": [
    "exp_ca = hse.calc_hs_exposure(model, option='CA3')"
   ]
  },
  {
   "cell_type": "code",
   "execution_count": null,
   "metadata": {},
   "outputs": [],
   "source": [
    "exp_cb=hse.calc_hs_exposure(model, option='CB')"
   ]
  },
  {
   "cell_type": "code",
   "execution_count": null,
   "metadata": {},
   "outputs": [],
   "source": [
    "exp_fs = hse.calc_fs_exposure(model)"
   ]
  },
  {
   "cell_type": "code",
   "execution_count": null,
   "metadata": {},
   "outputs": [],
   "source": [
    "print(exp_ca[some_residue])"
   ]
  },
  {
   "cell_type": "markdown",
   "metadata": {},
   "source": [
    "\n",
    "### Determining the secondary structure\n",
    "\n",
    "For this functionality, you need to install DSSP (and obtain a license\n",
    "for it — free for academic use, see <http://www.cmbi.kun.nl/gv/dssp/>).\n",
    "Then use the `DSSP` class, which maps `Residue` objects to their\n",
    "secondary structure (and accessible surface area). The DSSP codes are\n",
    "listed in Table \\[cap:DSSP-codes\\]. Note that DSSP (the program, and\n",
    "thus by consequence the class) cannot handle multiple models!\n",
    "\n",
    "   Code         Secondary structure\n",
    "  ------ ---------------------------------\n",
    "    H             $\\alpha$-helix\n",
    "    B     Isolated $\\beta$-bridge residue\n",
    "    E                 Strand\n",
    "    G               3-10 helix\n",
    "    I               $\\Pi$-helix\n",
    "    T                  Turn\n",
    "    S                  Bend\n",
    "    -                  Other\n",
    "\n",
    "  : \\[cap:DSSP-codes\\]DSSP codes in Bio.PDB.\n",
    "\n",
    "The `DSSP` class can also be used to calculate the accessible surface\n",
    "area of a residue. But see also section \\[subsec:residue\\_depth\\].\n",
    "\n",
    "### Calculating the residue depth\\[subsec:residue\\_depth\\]\n",
    "\n",
    "Residue depth is the average distance of a residue’s atoms from the\n",
    "solvent accessible surface. It’s a fairly new and very powerful\n",
    "parameterization of solvent accessibility. For this functionality, you\n",
    "need to install Michel Sanner’s MSMS program\n",
    "(<http://www.scripps.edu/pub/olson-web/people/sanner/html/msms_home.html>).\n",
    "Then use the `ResidueDepth` class. This class behaves as a dictionary\n",
    "which maps `Residue` objects to corresponding (residue depth, C$\\alpha$\n",
    "depth) tuples. The C$\\alpha$ depth is the distance of a residue’s\n",
    "C$\\alpha$ atom to the solvent accessible surface.\n",
    "\n",
    "Example:\n",
    "\n"
   ]
  },
  {
   "cell_type": "code",
   "execution_count": null,
   "metadata": {},
   "outputs": [],
   "source": [
    "from Bio.PDB import ResidueDepth\n",
    "model = structure[0]\n",
    "rd = ResidueDepth(model, pdb_file)\n",
    "residue_depth, ca_depth=rd[some_residue]"
   ]
  },
  {
   "cell_type": "markdown",
   "metadata": {},
   "source": [
    "\n",
    "You can also get access to the molecular surface itself (via the\n",
    "`get_surface` function), in the form of a Numeric Python array with the\n",
    "surface points.\n",
    "\n",
    "Common problems in PDB files\n",
    "----------------------------\n",
    "\n",
    "It is well known that many PDB files contain semantic errors (not the\n",
    "structures themselves, but their representation in PDB files). Bio.PDB\n",
    "tries to handle this in two ways. The PDBParser object can behave in two\n",
    "ways: a restrictive way and a permissive way, which is the default.\n",
    "\n",
    "Example:\n",
    "\n"
   ]
  },
  {
   "cell_type": "code",
   "execution_count": null,
   "metadata": {},
   "outputs": [],
   "source": [
    "# Permissive parser\n",
    "parser = PDBParser(PERMISSIVE=1)\n",
    "parser = PDBParser() # The same (default)"
   ]
  },
  {
   "cell_type": "code",
   "execution_count": null,
   "metadata": {},
   "outputs": [],
   "source": [
    "strict_parser = PDBParser(PERMISSIVE=0)"
   ]
  },
  {
   "cell_type": "markdown",
   "metadata": {},
   "source": [
    "\n",
    "In the permissive state (DEFAULT), PDB files that obviously contain\n",
    "errors are “corrected” (i.e. some residues or atoms are left out). These\n",
    "errors include:\n",
    "\n",
    "-   Multiple residues with the same identifier\n",
    "\n",
    "-   Multiple atoms with the same identifier (taking into account the\n",
    "    altloc identifier)\n",
    "\n",
    "These errors indicate real problems in the PDB file (for details see\n",
    "@hamelryck2003a [Hamelryck and Manderick, 2003]). In the restrictive\n",
    "state, PDB files with errors cause an exception to occur. This is useful\n",
    "to find errors in PDB files.\n",
    "\n",
    "Some errors however are automatically corrected. Normally each\n",
    "disordered atom should have a non-blank altloc identifier. However,\n",
    "there are many structures that do not follow this convention, and have a\n",
    "blank and a non-blank identifier for two disordered positions of the\n",
    "same atom. This is automatically interpreted in the right way.\n",
    "\n",
    "Sometimes a structure contains a list of residues belonging to chain A,\n",
    "followed by residues belonging to chain B, and again followed by\n",
    "residues belonging to chain A, i.e. the chains are ’broken’. This is\n",
    "also correctly interpreted.\n",
    "\n",
    "### Examples\\[problem structures\\]\n",
    "\n",
    "The PDBParser/Structure class was tested on about 800 structures (each\n",
    "belonging to a unique SCOP superfamily). This takes about 20 minutes, or\n",
    "on average 1.5 seconds per structure. Parsing the structure of the large\n",
    "ribosomal subunit (1FKK), which contains about 64000 atoms, takes 10\n",
    "seconds on a 1000 MHz PC.\n",
    "\n",
    "Three exceptions were generated in cases where an unambiguous data\n",
    "structure could not be built. In all three cases, the likely cause is an\n",
    "error in the PDB file that should be corrected. Generating an exception\n",
    "in these cases is much better than running the chance of incorrectly\n",
    "describing the structure in a data structure.\n",
    "\n",
    "#### Duplicate residues\n",
    "\n",
    "One structure contains two amino acid residues in one chain with the\n",
    "same sequence identifier (resseq 3) and icode. Upon inspection it was\n",
    "found that this chain contains the residues Thr A3, …, Gly A202, Leu A3,\n",
    "Glu A204. Clearly, Leu A3 should be Leu A203. A couple of similar\n",
    "situations exist for structure 1FFK (which e.g. contains Gly B64, Met\n",
    "B65, Glu B65, Thr B67, i.e. residue Glu B65 should be Glu B66).\n",
    "\n",
    "#### Duplicate atoms\n",
    "\n",
    "Structure 1EJG contains a Ser/Pro point mutation in chain A at position\n",
    "22. In turn, Ser 22 contains some disordered atoms. As expected, all\n",
    "atoms belonging to Ser 22 have a non-blank altloc specifier (B or C).\n",
    "All atoms of Pro 22 have altloc A, except the N atom which has a blank\n",
    "altloc. This generates an exception, because all atoms belonging to two\n",
    "residues at a point mutation should have non-blank altloc. It turns out\n",
    "that this atom is probably shared by Ser and Pro 22, as Ser 22 misses\n",
    "the N atom. Again, this points to a problem in the file: the N atom\n",
    "should be present in both the Ser and the Pro residue, in both cases\n",
    "associated with a suitable altloc identifier.\n",
    "\n",
    "### Automatic correction\n",
    "\n",
    "Some errors are quite common and can be easily corrected without much\n",
    "risk of making a wrong interpretation. These cases are listed below.\n",
    "\n",
    "#### A blank altloc for a disordered atom\n",
    "\n",
    "Normally each disordered atom should have a non-blank altloc identifier.\n",
    "However, there are many structures that do not follow this convention,\n",
    "and have a blank and a non-blank identifier for two disordered positions\n",
    "of the same atom. This is automatically interpreted in the right way.\n",
    "\n",
    "#### Broken chains\n",
    "\n",
    "Sometimes a structure contains a list of residues belonging to chain A,\n",
    "followed by residues belonging to chain B, and again followed by\n",
    "residues belonging to chain A, i.e. the chains are “broken”. This is\n",
    "correctly interpreted.\n",
    "\n",
    "### Fatal errors\n",
    "\n",
    "Sometimes a PDB file cannot be unambiguously interpreted. Rather than\n",
    "guessing and risking a mistake, an exception is generated, and the user\n",
    "is expected to correct the PDB file. These cases are listed below.\n",
    "\n",
    "#### Duplicate residues\n",
    "\n",
    "All residues in a chain should have a unique id. This id is generated\n",
    "based on:\n",
    "\n",
    "-   The sequence identifier (resseq).\n",
    "\n",
    "-   The insertion code (icode).\n",
    "\n",
    "-   The hetfield string (“W” for waters and “H\\_” followed by the\n",
    "    residue name for other hetero residues)\n",
    "\n",
    "-   The residue names of the residues in the case of point mutations (to\n",
    "    store the Residue objects in a DisorderedResidue object).\n",
    "\n",
    "If this does not lead to a unique id something is quite likely wrong,\n",
    "and an exception is generated.\n",
    "\n",
    "#### Duplicate atoms\n",
    "\n",
    "All atoms in a residue should have a unique id. This id is generated\n",
    "based on:\n",
    "\n",
    "-   The atom name (without spaces, or with spaces if a problem arises).\n",
    "\n",
    "-   The altloc specifier.\n",
    "\n",
    "If this does not lead to a unique id something is quite likely wrong,\n",
    "and an exception is generated.\n",
    "\n",
    "Accessing the Protein Data Bank\n",
    "-------------------------------\n",
    "\n",
    "### Downloading structures from the Protein Data Bank\n",
    "\n",
    "Structures can be downloaded from the PDB (Protein Data Bank) by using\n",
    "the `retrieve_pdb_file` method on a `PDBList` object. The argument for\n",
    "this method is the PDB identifier of the structure.\n",
    "\n"
   ]
  },
  {
   "cell_type": "code",
   "execution_count": null,
   "metadata": {},
   "outputs": [],
   "source": [
    "from Bio.PDB import PDBList\n",
    "pdbl = PDBList()\n",
    "pdbl.retrieve_pdb_file('1FAT')"
   ]
  },
  {
   "cell_type": "markdown",
   "metadata": {},
   "source": [
    "\n",
    "The `PDBList` class can also be used as a command-line tool:\n",
    "\n"
   ]
  },
  {
   "cell_type": "markdown",
   "metadata": {},
   "source": [
    "```\n",
    "python PDBList.py 1fat\n",
    "\n",
    "```"
   ]
  },
  {
   "cell_type": "markdown",
   "metadata": {},
   "source": [
    "\n",
    "The downloaded file will be called `pdb1fat.ent` and stored in the\n",
    "current working directory. Note that the `retrieve_pdb_file` method also\n",
    "has an optional argument `pdir` that specifies a specific directory in\n",
    "which to store the downloaded PDB files.\n",
    "\n",
    "The `retrieve_pdb_file` method also has some options to specify the\n",
    "compression format used for the download, and the program used for local\n",
    "decompression (default `.Z` format and `gunzip`). In addition, the PDB\n",
    "ftp site can be specified upon creation of the `PDBList` object. By\n",
    "default, the server of the Worldwide Protein Data Bank\n",
    "(<ftp://ftp.wwpdb.org/pub/pdb/data/structures/divided/pdb/>) is used.\n",
    "See the API documentation for more details. Thanks again to Kristian\n",
    "Rother for donating this module.\n",
    "\n",
    "### Downloading the entire PDB\n",
    "\n",
    "The following commands will store all PDB files in the `/data/pdb`\n",
    "directory:\n",
    "\n"
   ]
  },
  {
   "cell_type": "markdown",
   "metadata": {},
   "source": [
    "```\n",
    "python PDBList.py all /data/pdb\n",
    "\n",
    "python PDBList.py all /data/pdb -d\n",
    "\n",
    "```"
   ]
  },
  {
   "cell_type": "markdown",
   "metadata": {},
   "source": [
    "\n",
    "The API method for this is called `download_entire_pdb`. Adding the `-d`\n",
    "option will store all files in the same directory. Otherwise, they are\n",
    "sorted into PDB-style subdirectories according to their PDB ID’s.\n",
    "Depending on the traffic, a complete download will take 2-4 days.\n",
    "\n",
    "### Keeping a local copy of the PDB up to date\n",
    "\n",
    "This can also be done using the `PDBList` object. One simply creates a\n",
    "`PDBList` object (specifying the directory where the local copy of the\n",
    "PDB is present) and calls the `update_pdb` method:\n",
    "\n"
   ]
  },
  {
   "cell_type": "code",
   "execution_count": null,
   "metadata": {},
   "outputs": [],
   "source": [
    "pl = PDBList(pdb='/tmp/data/pdb')\n",
    "pl.update_pdb()"
   ]
  },
  {
   "cell_type": "code",
   "execution_count": null,
   "metadata": {},
   "outputs": [],
   "source": []
  }
 ],
 "metadata": {
  "kernelspec": {
   "display_name": "Python 3",
   "language": "python",
   "name": "python3"
  },
  "language_info": {
   "codemirror_mode": {
    "name": "ipython",
    "version": 3
   },
   "file_extension": ".py",
   "mimetype": "text/x-python",
   "name": "python",
   "nbconvert_exporter": "python",
   "pygments_lexer": "ipython3",
   "version": "3.5.1"
  }
 },
 "nbformat": 4,
 "nbformat_minor": 0
}
