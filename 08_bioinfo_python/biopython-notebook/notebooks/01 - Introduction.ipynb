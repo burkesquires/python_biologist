{
 "cells": [
  {
   "cell_type": "markdown",
   "metadata": {},
   "source": [
    "**Source of the materials**: Biopython Tutorial and Cookbook (adapted)"
   ]
  },
  {
   "cell_type": "markdown",
   "metadata": {},
   "source": [
    "<img src=\"images/biopython.jpg\">"
   ]
  },
  {
   "cell_type": "markdown",
   "metadata": {},
   "source": [
    "# Introduction"
   ]
  },
  {
   "cell_type": "markdown",
   "metadata": {},
   "source": [
    "## What is Biopython?"
   ]
  },
  {
   "cell_type": "markdown",
   "metadata": {},
   "source": [
    "The Biopython Project is an international association of developers of freely available Python (http://www.python.org) tools for computational molecular biology. Python is an object oriented, interpreted, flexible language that is becoming increasingly popular for scientific computing. Python is easy to learn, has a very clear syntax and can easily be extended with modules written in C, C++ or FORTRAN.\n",
    "\n",
    "The Biopython web site (http://www.biopython.org) provides an online resource for modules, scripts, and web links for developers of Python-based software for bioinformatics use and research. Basically, the goal of Biopython is to make it as easy as possible to use Python for bioinformatics by creating high-quality, reusable modules and classes. Biopython features include parsers for various Bioinformatics file formats (BLAST, Clustalw, FASTA, Genbank,...), access to online services (NCBI, Expasy,...), interfaces to common and not-so-common programs (Clustalw, DSSP, MSMS...), a standard sequence class, various clustering modules, a KD tree data structure etc. and even documentation.\n",
    "\n",
    "Basically, we just like to program in Python and want to make it as easy as possible to use Python for bioinformatics by creating high-quality, reusable modules and scripts."
   ]
  },
  {
   "cell_type": "markdown",
   "metadata": {},
   "source": [
    "## What can I find in the Biopython package"
   ]
  },
  {
   "cell_type": "markdown",
   "metadata": {},
   "source": [
    "The main Biopython releases have lots of functionality, including:\n",
    "\n",
    "- The ability to parse bioinformatics files into Python utilizable data structures, including support for the following formats:\n",
    "  - Blast output – both from standalone and WWW Blast\n",
    "  - Clustalw\n",
    "  - FASTA\n",
    "  - GenBank\n",
    "  - PubMed and Medline\n",
    "  - ExPASy files, like Enzyme and Prosite\n",
    "  - SCOP, including ‘dom’ and ‘lin’ files\n",
    "  - UniGene\n",
    "  - SwissProt\n",
    "- Files in the supported formats can be iterated over record by record or indexed and accessed via a Dictionary interface.\n",
    "- Code to deal with popular on-line bioinformatics destinations such as:\n",
    "  - NCBI – Blast, Entrez and PubMed services\n",
    "  - ExPASy – Swiss-Prot and Prosite entries, as well as Prosite searches\n",
    "- Interfaces to common bioinformatics programs such as:\n",
    "  - Standalone Blast from NCBI\n",
    "  - Clustalw alignment program\n",
    "  - EMBOSS command line tools\n",
    "-A standard sequence class that deals with sequences, ids on sequences, and sequence features.\n",
    "- Tools for performing common operations on sequences, such as translation, transcription and weight calculations.\n",
    "- Code to perform classification of data using k Nearest Neighbors, Naive Bayes or Support Vector Machines.\n",
    "- Code for dealing with alignments, including a standard way to create and deal with substitution matrices.\n",
    "- Code making it easy to split up parallelizable tasks into separate processes.\n",
    "- GUI-based programs to do basic sequence manipulations, translations, BLASTing, etc.\n",
    "- Extensive documentation and help with using the modules, including this file, on-line wiki documentation, the web site, and the mailing list.\n",
    "- Integration with BioSQL, a sequence database schema also supported by the BioPerl and BioJava projects.\n",
    "\n",
    "We hope this gives you plenty of reasons to download and start using Biopython!"
   ]
  },
  {
   "cell_type": "markdown",
   "metadata": {},
   "source": [
    "## About these notebooks"
   ]
  },
  {
   "cell_type": "markdown",
   "metadata": {},
   "source": [
    "These notebooks were prepared on Python 3 for Project Jupyter 4+ (formely IPython Notebook). Biopython should be installed and available (v1.66 or newer recommended).\n",
    "\n",
    "You can check the basic installation and inspect the version by doing:"
   ]
  },
  {
   "cell_type": "code",
   "execution_count": 1,
   "metadata": {
    "collapsed": false
   },
   "outputs": [
    {
     "name": "stdout",
     "output_type": "stream",
     "text": [
      "1.66\n"
     ]
    }
   ],
   "source": [
    "import Bio\n",
    "print(Bio.__version__)"
   ]
  },
  {
   "cell_type": "code",
   "execution_count": null,
   "metadata": {
    "collapsed": false
   },
   "outputs": [],
   "source": []
  }
 ],
 "metadata": {
  "kernelspec": {
   "display_name": "Python 3",
   "language": "python",
   "name": "python3"
  },
  "language_info": {
   "codemirror_mode": {
    "name": "ipython",
    "version": 3
   },
   "file_extension": ".py",
   "mimetype": "text/x-python",
   "name": "python",
   "nbconvert_exporter": "python",
   "pygments_lexer": "ipython3",
   "version": "3.5.1"
  }
 },
 "nbformat": 4,
 "nbformat_minor": 0
}
