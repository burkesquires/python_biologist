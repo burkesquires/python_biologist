{
 "cells": [
  {
   "cell_type": "markdown",
   "metadata": {},
   "source": [
    "**Source of the materials**: Biopython Tutorial and Cookbook (adapted)"
   ]
  },
  {
   "cell_type": "markdown",
   "metadata": {},
   "source": [
    "# Sequence Objects"
   ]
  },
  {
   "cell_type": "markdown",
   "metadata": {},
   "source": [
    "Biological sequences are arguably the central object in Bioinformatics, and in this chapter we’ll introduce the Biopython mechanism for dealing with sequences, the Seq object. Chapter 4 will introduce the related SeqRecord object, which combines the sequence information with any annotation, used again in Chapter 5 for Sequence Input/Output.\n",
    "Sequences are essentially strings of letters like AGTACACTGGT, which seems very natural since this is the\n",
    "most common way that sequences are seen in biological file formats.\n",
    "The most important difference between Seq objects and standard Python strings is they have different methods. Although the Seq object supports many of the same methods as a plain string, its translate() method differs by doing biological translation, and there are also additional biologically relevant methods like reverse_complement().\n"
   ]
  },
  {
   "cell_type": "markdown",
   "metadata": {},
   "source": [
    "## Sequences act like strings"
   ]
  },
  {
   "cell_type": "markdown",
   "metadata": {},
   "source": [
    "In many ways, we can deal with Seq objects as if they were normal Python strings, for example getting the length, or iterating over the elements:"
   ]
  },
  {
   "cell_type": "code",
   "execution_count": 1,
   "metadata": {
    "collapsed": false,
    "jupyter": {
     "outputs_hidden": false
    }
   },
   "outputs": [
    {
     "name": "stdout",
     "output_type": "stream",
     "text": [
      "0 G\n",
      "1 A\n",
      "2 T\n",
      "3 C\n",
      "4 G\n",
      "5\n"
     ]
    }
   ],
   "source": [
    "from Bio.Seq import Seq\n",
    "my_seq = Seq(\"GATCG\")\n",
    "for index, letter in enumerate(my_seq):\n",
    "    print(\"%i %s\" % (index, letter))\n",
    "print(len(my_seq))"
   ]
  },
  {
   "cell_type": "markdown",
   "metadata": {},
   "source": [
    "You can access elements of the sequence in the same way as for strings (but remember, Python counts from zero!):"
   ]
  },
  {
   "cell_type": "code",
   "execution_count": 2,
   "metadata": {
    "collapsed": false,
    "jupyter": {
     "outputs_hidden": false
    }
   },
   "outputs": [
    {
     "name": "stdout",
     "output_type": "stream",
     "text": [
      "G\n",
      "T\n",
      "G\n"
     ]
    }
   ],
   "source": [
    "print(my_seq[0]) #first letter\n",
    "print(my_seq[2]) #third letter\n",
    "print(my_seq[-1]) #last letter"
   ]
  },
  {
   "cell_type": "markdown",
   "metadata": {},
   "source": [
    "The Seq object has a .count() method, just like a string.\n",
    "Note that this means that like a Python string, this gives a\n",
    "non-overlapping count:\n"
   ]
  },
  {
   "cell_type": "code",
   "execution_count": 3,
   "metadata": {
    "collapsed": false,
    "jupyter": {
     "outputs_hidden": false
    }
   },
   "outputs": [
    {
     "name": "stdout",
     "output_type": "stream",
     "text": [
      "2\n",
      "2\n"
     ]
    }
   ],
   "source": [
    "print(\"AAAA\".count(\"AA\"))\n",
    "print(Seq(\"AAAA\").count(\"AA\"))"
   ]
  },
  {
   "cell_type": "markdown",
   "metadata": {},
   "source": [
    "For some biological uses, you may actually want an overlapping count\n",
    "(i.e. $3$ in this trivial example). When searching for single letters, this\n",
    "makes no difference:"
   ]
  },
  {
   "cell_type": "code",
   "execution_count": 4,
   "metadata": {
    "collapsed": false,
    "jupyter": {
     "outputs_hidden": false
    }
   },
   "outputs": [
    {
     "name": "stdout",
     "output_type": "stream",
     "text": [
      "32\n",
      "9\n",
      "46.875\n"
     ]
    }
   ],
   "source": [
    "my_seq = Seq('GATCGATGGGCCTATATAGGATCGAAAATCGC')\n",
    "print(len(my_seq))\n",
    "print(my_seq.count(\"G\"))\n",
    "print(100 * float(my_seq.count(\"G\") + my_seq.count(\"C\")) / len(my_seq))"
   ]
  },
  {
   "cell_type": "markdown",
   "metadata": {},
   "source": [
    "While you could use the above snippet of code to calculate a GC\\%, note that  the __Bio.SeqUtils__ module has several GC functions already built.  For example:\n"
   ]
  },
  {
   "cell_type": "code",
   "execution_count": 8,
   "metadata": {
    "collapsed": false,
    "jupyter": {
     "outputs_hidden": false
    }
   },
   "outputs": [
    {
     "data": {
      "text/plain": [
       "46.875"
      ]
     },
     "execution_count": 8,
     "metadata": {},
     "output_type": "execute_result"
    }
   ],
   "source": [
    "from Bio.SeqUtils import GC\n",
    "\n",
    "my_seq = Seq('GATCGATGGGCCTATATAGGATCGAAAATCGC')\n",
    "GC(my_seq)"
   ]
  },
  {
   "cell_type": "markdown",
   "metadata": {},
   "source": [
    "Note that using the __Bio.SeqUtils.GC()__ function should automatically cope with mixed case sequences and the ambiguous nucleotide S which means G or C.\n",
    "\n",
    "Also note that just like a normal Python string, the __Seq__ object is in some ways ``read-only''.  If you need to edit your sequence, for example simulating a point mutation, look at the Section sec:mutable-seq below which talks about the __MutableSeq__ object."
   ]
  },
  {
   "cell_type": "code",
   "execution_count": null,
   "metadata": {},
   "outputs": [],
   "source": [
    "QUIZ - How do I find what capabilities are built into SeqUtils?"
   ]
  },
  {
   "cell_type": "code",
   "execution_count": 12,
   "metadata": {},
   "outputs": [],
   "source": [
    "import Bio.SeqUtils"
   ]
  },
  {
   "cell_type": "code",
   "execution_count": 14,
   "metadata": {
    "collapsed": true,
    "jupyter": {
     "outputs_hidden": true
    },
    "tags": []
   },
   "outputs": [
    {
     "name": "stdout",
     "output_type": "stream",
     "text": [
      "Help on package Bio.SeqUtils in Bio:\n",
      "\n",
      "NAME\n",
      "    Bio.SeqUtils - Miscellaneous functions for dealing with sequences.\n",
      "\n",
      "PACKAGE CONTENTS\n",
      "    CheckSum\n",
      "    CodonUsage\n",
      "    CodonUsageIndices\n",
      "    IsoelectricPoint\n",
      "    MeltingTemp\n",
      "    ProtParam\n",
      "    ProtParamData\n",
      "    lcc\n",
      "\n",
      "FUNCTIONS\n",
      "    GC(seq)\n",
      "        Calculate G+C content, return percentage (as float between 0 and 100).\n",
      "        \n",
      "        Copes mixed case sequences, and with the ambiguous nucleotide S (G or C)\n",
      "        when counting the G and C content.  The percentage is calculated against\n",
      "        the full length, e.g.:\n",
      "        \n",
      "        >>> from Bio.SeqUtils import GC\n",
      "        >>> GC(\"ACTGN\")\n",
      "        40.0\n",
      "        \n",
      "        Note that this will return zero for an empty sequence.\n",
      "    \n",
      "    GC123(seq)\n",
      "        Calculate G+C content: total, for first, second and third positions.\n",
      "        \n",
      "        Returns a tuple of four floats (percentages between 0 and 100) for the\n",
      "        entire sequence, and the three codon positions.  e.g.\n",
      "        \n",
      "        >>> from Bio.SeqUtils import GC123\n",
      "        >>> GC123(\"ACTGTN\")\n",
      "        (40.0, 50.0, 50.0, 0.0)\n",
      "        \n",
      "        Copes with mixed case sequences, but does NOT deal with ambiguous\n",
      "        nucleotides.\n",
      "    \n",
      "    GC_skew(seq, window=100)\n",
      "        Calculate GC skew (G-C)/(G+C) for multiple windows along the sequence.\n",
      "        \n",
      "        Returns a list of ratios (floats), controlled by the length of the sequence\n",
      "        and the size of the window.\n",
      "        \n",
      "        Returns 0 for windows without any G/C by handling zero division errors.\n",
      "        \n",
      "        Does NOT look at any ambiguous nucleotides.\n",
      "    \n",
      "    cos(x, /)\n",
      "        Return the cosine of x (measured in radians).\n",
      "    \n",
      "    molecular_weight(seq, seq_type='DNA', double_stranded=False, circular=False, monoisotopic=False)\n",
      "        Calculate the molecular mass of DNA, RNA or protein sequences as float.\n",
      "        \n",
      "        Only unambiguous letters are allowed. Nucleotide sequences are assumed to\n",
      "        have a 5' phosphate.\n",
      "        \n",
      "        Arguments:\n",
      "         - seq: String or Biopython sequence object.\n",
      "         - seq_type: The default is to assume DNA; override this with a string\n",
      "           \"DNA\", \"RNA\", or \"protein\".\n",
      "         - double_stranded: Calculate the mass for the double stranded molecule?\n",
      "         - circular: Is the molecule circular (has no ends)?\n",
      "         - monoisotopic: Use the monoisotopic mass tables?\n",
      "        \n",
      "        >>> print(\"%0.2f\" % molecular_weight(\"AGC\"))\n",
      "        949.61\n",
      "        >>> print(\"%0.2f\" % molecular_weight(Seq(\"AGC\")))\n",
      "        949.61\n",
      "        \n",
      "        However, it is better to be explicit - for example with strings:\n",
      "        \n",
      "        >>> print(\"%0.2f\" % molecular_weight(\"AGC\", \"DNA\"))\n",
      "        949.61\n",
      "        >>> print(\"%0.2f\" % molecular_weight(\"AGC\", \"RNA\"))\n",
      "        997.61\n",
      "        >>> print(\"%0.2f\" % molecular_weight(\"AGC\", \"protein\"))\n",
      "        249.29\n",
      "    \n",
      "    nt_search(seq, subseq)\n",
      "        Search for a DNA subseq in sequence, return list of [subseq, positions].\n",
      "        \n",
      "        Use ambiguous values (like N = A or T or C or G, R = A or G etc.),\n",
      "        searches only on forward strand.\n",
      "    \n",
      "    seq1(seq, custom_map=None, undef_code='X')\n",
      "        Convert protein sequence from three-letter to one-letter code.\n",
      "        \n",
      "        The single required input argument 'seq' should be a protein sequence\n",
      "        using three-letter codes, either as a Python string or as a Seq or\n",
      "        MutableSeq object.\n",
      "        \n",
      "        This function returns the amino acid sequence as a string using the one\n",
      "        letter amino acid codes. Output follows the IUPAC standard (including\n",
      "        ambiguous characters \"B\" for \"Asx\", \"J\" for \"Xle\", \"X\" for \"Xaa\", \"U\" for\n",
      "        \"Sel\", and \"O\" for \"Pyl\") plus \"*\" for a terminator given the \"Ter\" code.\n",
      "        Any unknown character (including possible gap characters), is changed\n",
      "        into '-' by default.\n",
      "        \n",
      "        e.g.\n",
      "        \n",
      "        >>> from Bio.SeqUtils import seq1\n",
      "        >>> seq1(\"MetAlaIleValMetGlyArgTrpLysGlyAlaArgTer\")\n",
      "        'MAIVMGRWKGAR*'\n",
      "        \n",
      "        The input is case insensitive, e.g.\n",
      "        \n",
      "        >>> from Bio.SeqUtils import seq1\n",
      "        >>> seq1(\"METalaIlEValMetGLYArgtRplysGlyAlaARGTer\")\n",
      "        'MAIVMGRWKGAR*'\n",
      "        \n",
      "        You can set a custom translation of the codon termination code using the\n",
      "        dictionary \"custom_map\" argument (defaulting to {'Ter': '*'}), e.g.\n",
      "        \n",
      "        >>> seq1(\"MetAlaIleValMetGlyArgTrpLysGlyAla***\", custom_map={\"***\": \"*\"})\n",
      "        'MAIVMGRWKGA*'\n",
      "        \n",
      "        You can also set a custom translation for non-amino acid characters, such\n",
      "        as '-', using the \"undef_code\" argument, e.g.\n",
      "        \n",
      "        >>> seq1(\"MetAlaIleValMetGlyArgTrpLysGlyAla------ArgTer\", undef_code='?')\n",
      "        'MAIVMGRWKGA??R*'\n",
      "        \n",
      "        If not given, \"undef_code\" defaults to \"X\", e.g.\n",
      "        \n",
      "        >>> seq1(\"MetAlaIleValMetGlyArgTrpLysGlyAla------ArgTer\")\n",
      "        'MAIVMGRWKGAXXR*'\n",
      "    \n",
      "    seq3(seq, custom_map=None, undef_code='Xaa')\n",
      "        Convert protein sequence from one-letter to three-letter code.\n",
      "        \n",
      "        The single required input argument 'seq' should be a protein sequence using\n",
      "        single letter codes, either as a Python string or as a Seq or MutableSeq\n",
      "        object.\n",
      "        \n",
      "        This function returns the amino acid sequence as a string using the three\n",
      "        letter amino acid codes. Output follows the IUPAC standard (including\n",
      "        ambiguous characters B for \"Asx\", J for \"Xle\" and X for \"Xaa\", and also U\n",
      "        for \"Sel\" and O for \"Pyl\") plus \"Ter\" for a terminator given as an\n",
      "        asterisk. Any unknown character (including possible gap characters),\n",
      "        is changed into 'Xaa' by default.\n",
      "        \n",
      "        e.g.\n",
      "        \n",
      "        >>> from Bio.SeqUtils import seq3\n",
      "        >>> seq3(\"MAIVMGRWKGAR*\")\n",
      "        'MetAlaIleValMetGlyArgTrpLysGlyAlaArgTer'\n",
      "        \n",
      "        You can set a custom translation of the codon termination code using the\n",
      "        dictionary \"custom_map\" argument (which defaults to {'*': 'Ter'}), e.g.\n",
      "        \n",
      "        >>> seq3(\"MAIVMGRWKGAR*\", custom_map={\"*\": \"***\"})\n",
      "        'MetAlaIleValMetGlyArgTrpLysGlyAlaArg***'\n",
      "        \n",
      "        You can also set a custom translation for non-amino acid characters, such\n",
      "        as '-', using the \"undef_code\" argument, e.g.\n",
      "        \n",
      "        >>> seq3(\"MAIVMGRWKGA--R*\", undef_code='---')\n",
      "        'MetAlaIleValMetGlyArgTrpLysGlyAla------ArgTer'\n",
      "        \n",
      "        If not given, \"undef_code\" defaults to \"Xaa\", e.g.\n",
      "        \n",
      "        >>> seq3(\"MAIVMGRWKGA--R*\")\n",
      "        'MetAlaIleValMetGlyArgTrpLysGlyAlaXaaXaaArgTer'\n",
      "        \n",
      "        This function was inspired by BioPerl's seq3.\n",
      "    \n",
      "    sin(x, /)\n",
      "        Return the sine of x (measured in radians).\n",
      "    \n",
      "    six_frame_translations(seq, genetic_code=1)\n",
      "        Return pretty string showing the 6 frame translations and GC content.\n",
      "        \n",
      "        Nice looking 6 frame translation with GC content - code from xbbtools\n",
      "        similar to DNA Striders six-frame translation\n",
      "        \n",
      "        >>> from Bio.SeqUtils import six_frame_translations\n",
      "        >>> print(six_frame_translations(\"AUGGCCAUUGUAAUGGGCCGCUGA\"))\n",
      "        GC_Frame: a:5 t:0 g:8 c:5 \n",
      "        Sequence: auggccauug ... gggccgcuga, 24 nt, 54.17 %GC\n",
      "        <BLANKLINE>\n",
      "        <BLANKLINE>\n",
      "        1/1\n",
      "          G  H  C  N  G  P  L\n",
      "         W  P  L  *  W  A  A\n",
      "        M  A  I  V  M  G  R  *\n",
      "        auggccauuguaaugggccgcuga   54 %\n",
      "        uaccgguaacauuacccggcgacu\n",
      "        A  M  T  I  P  R  Q \n",
      "         H  G  N  Y  H  A  A  S\n",
      "          P  W  Q  L  P  G  S\n",
      "        <BLANKLINE>\n",
      "        <BLANKLINE>\n",
      "    \n",
      "    xGC_skew(seq, window=1000, zoom=100, r=300, px=100, py=100)\n",
      "        Calculate and plot normal and accumulated GC skew (GRAPHICS !!!).\n",
      "\n",
      "DATA\n",
      "    pi = 3.141592653589793\n",
      "\n",
      "FILE\n",
      "    /Users/squiresrb/opt/anaconda3/lib/python3.8/site-packages/Bio/SeqUtils/__init__.py\n",
      "\n",
      "\n"
     ]
    }
   ],
   "source": [
    "help(Bio.SeqUtils)"
   ]
  },
  {
   "cell_type": "markdown",
   "metadata": {},
   "source": [
    "## Slicing a sequence"
   ]
  },
  {
   "cell_type": "markdown",
   "metadata": {},
   "source": [
    "A more complicated example, let's get a slice of the sequence:"
   ]
  },
  {
   "cell_type": "code",
   "execution_count": 15,
   "metadata": {
    "collapsed": false,
    "jupyter": {
     "outputs_hidden": false
    }
   },
   "outputs": [
    {
     "data": {
      "text/plain": [
       "Seq('GATGGGCC')"
      ]
     },
     "execution_count": 15,
     "metadata": {},
     "output_type": "execute_result"
    }
   ],
   "source": [
    "my_seq = Seq(\"GATCGATGGGCCTATATAGGATCGAAAATCGC\")\n",
    "my_seq[4:12]"
   ]
  },
  {
   "cell_type": "markdown",
   "metadata": {},
   "source": [
    "Note that ‘Seq‘ objects follow the usual indexing conventions for Python strings, with the first element\n",
    "of the sequence numbered 0. When you do a slice the first item is included (i.e. 4 in this case) and the last\n",
    "is excluded (12 in this case).\n",
    "\n",
    "Also like a Python string, you can do slices with a start, stop and _stride_ (the step size, which defaults to one).  For example, we can get the first, second and third codon positions of this DNA sequence:"
   ]
  },
  {
   "cell_type": "code",
   "execution_count": 16,
   "metadata": {
    "collapsed": false,
    "jupyter": {
     "outputs_hidden": false
    }
   },
   "outputs": [
    {
     "name": "stdout",
     "output_type": "stream",
     "text": [
      "GCTGTAGTAAG\n",
      "AGGCATGCATC\n",
      "TAGCTAAGAC\n"
     ]
    }
   ],
   "source": [
    "print(my_seq[0::3])\n",
    "print(my_seq[1::3])\n",
    "print(my_seq[2::3])"
   ]
  },
  {
   "cell_type": "markdown",
   "metadata": {},
   "source": [
    "Another stride trick you might have seen with a Python string is the use of a -1 stride to reverse the string.  You can do this with a Seq object too:\n"
   ]
  },
  {
   "cell_type": "code",
   "execution_count": 17,
   "metadata": {
    "collapsed": false,
    "jupyter": {
     "outputs_hidden": false
    }
   },
   "outputs": [
    {
     "data": {
      "text/plain": [
       "Seq('CGCTAAAAGCTAGGATATATCCGGGTAGCTAG')"
      ]
     },
     "execution_count": 17,
     "metadata": {},
     "output_type": "execute_result"
    }
   ],
   "source": [
    "my_seq[::-1]"
   ]
  },
  {
   "cell_type": "markdown",
   "metadata": {},
   "source": [
    "## Turning Seq objects into strings"
   ]
  },
  {
   "cell_type": "markdown",
   "metadata": {},
   "source": [
    "If you really do just need a plain string, for example to write to a file, or insert into a database, then this is very easy to get:"
   ]
  },
  {
   "cell_type": "code",
   "execution_count": null,
   "metadata": {
    "collapsed": false,
    "jupyter": {
     "outputs_hidden": false
    }
   },
   "outputs": [],
   "source": [
    "str(my_seq)"
   ]
  },
  {
   "cell_type": "markdown",
   "metadata": {},
   "source": [
    "Since calling str() on a Seq object returns the full sequence as a string,\n",
    "you often don't actually have to do this conversion explicitly.\n",
    "Python does this automatically in the print function:"
   ]
  },
  {
   "cell_type": "code",
   "execution_count": null,
   "metadata": {
    "collapsed": false,
    "jupyter": {
     "outputs_hidden": false
    }
   },
   "outputs": [],
   "source": [
    "print(my_seq)"
   ]
  },
  {
   "cell_type": "markdown",
   "metadata": {},
   "source": [
    "You can also use the Seq object directly with a %s placeholder when using the Python string formatting or interpolation operator (%):"
   ]
  },
  {
   "cell_type": "code",
   "execution_count": null,
   "metadata": {
    "collapsed": false,
    "jupyter": {
     "outputs_hidden": false
    }
   },
   "outputs": [],
   "source": [
    "fasta_format_string = \">Name\\n%s\\n\" % my_seq\n",
    "print(fasta_format_string)"
   ]
  },
  {
   "cell_type": "markdown",
   "metadata": {},
   "source": [
    "This line of code constructs a simple FASTA format record (without worrying about line wrapping). Section 4.6 describes a neat way to get a FASTA formatted string from a SeqRecord object, while the more\n",
    "general topic of reading and writing FASTA format sequence files is covered in Chapter 5."
   ]
  },
  {
   "cell_type": "markdown",
   "metadata": {},
   "source": [
    "## Concatenating or adding sequences"
   ]
  },
  {
   "cell_type": "markdown",
   "metadata": {},
   "source": [
    "As of Biopython 1.78, you can add any two Seq objects together."
   ]
  },
  {
   "cell_type": "code",
   "execution_count": null,
   "metadata": {
    "collapsed": false,
    "jupyter": {
     "outputs_hidden": false
    }
   },
   "outputs": [],
   "source": [
    "protein_seq = Seq(\"EVRNAK\")\n",
    "dna_seq = Seq(\"ACGT\")\n",
    "protein_seq + dna_seq\n"
   ]
  },
  {
   "cell_type": "markdown",
   "metadata": {},
   "source": [
    "Deliberately mixing DNA and protein like this is likely a mistake though...\n",
    "You may often have many sequences to add together, which can be done with a for loop like this:\n"
   ]
  },
  {
   "cell_type": "code",
   "execution_count": null,
   "metadata": {},
   "outputs": [],
   "source": [
    "from Bio.Seq import Seq\n",
    "list_of_seqs = [Seq(\"ACGT\"), Seq(\"AACC\"), Seq(\"GGTT\")]\n",
    "concatenated = Seq(\"\")\n",
    "for s in list_of_seqs:\n",
    "    concatenated += s\n",
    "concatenated\n"
   ]
  },
  {
   "cell_type": "markdown",
   "metadata": {},
   "source": [
    "Like Python strings, Biopython Seq also has a .join method:"
   ]
  },
  {
   "cell_type": "code",
   "execution_count": null,
   "metadata": {},
   "outputs": [],
   "source": [
    "from Bio.Seq import Seq\n",
    "contigs = [Seq(\"ATG\"), Seq(\"ATCCCG\"), Seq(\"TTGCA\")]\n",
    "spacer = Seq(\"N\"*10)\n",
    "spacer.join(contigs)\n"
   ]
  },
  {
   "cell_type": "markdown",
   "metadata": {},
   "source": [
    "## Changing case"
   ]
  },
  {
   "cell_type": "markdown",
   "metadata": {},
   "source": [
    "Python strings have very useful upper and lower methods for changing the case. For example,"
   ]
  },
  {
   "cell_type": "code",
   "execution_count": null,
   "metadata": {
    "collapsed": false,
    "jupyter": {
     "outputs_hidden": false
    }
   },
   "outputs": [],
   "source": [
    "dna_seq = Seq(\"acgtACGT\")\n",
    "print(dna_seq)\n",
    "print(dna_seq.upper())\n",
    "print(dna_seq.lower())"
   ]
  },
  {
   "cell_type": "markdown",
   "metadata": {},
   "source": [
    "These are useful for doing case insensitive matching:"
   ]
  },
  {
   "cell_type": "code",
   "execution_count": null,
   "metadata": {
    "collapsed": false,
    "jupyter": {
     "outputs_hidden": false
    }
   },
   "outputs": [],
   "source": [
    "print(\"GTAC\" in dna_seq)\n",
    "print(\"GTAC\" in dna_seq.upper())"
   ]
  },
  {
   "cell_type": "markdown",
   "metadata": {},
   "source": [
    "## Nucleotide sequences and (reverse) complements"
   ]
  },
  {
   "cell_type": "markdown",
   "metadata": {},
   "source": [
    "For nucleotide sequences, you can easily obtain the complement or reverse\n",
    "complement of a Seq object using its built-in methods:"
   ]
  },
  {
   "cell_type": "code",
   "execution_count": null,
   "metadata": {
    "collapsed": false,
    "jupyter": {
     "outputs_hidden": false
    }
   },
   "outputs": [],
   "source": [
    "from Bio.Seq import Seq\n",
    "my_seq = Seq(\"GATCGATGGGCCTATATAGGATCGAAAATCGC\")\n",
    "print(my_seq)\n",
    "print(my_seq.complement())\n",
    "print(my_seq.reverse_complement())\n"
   ]
  },
  {
   "cell_type": "markdown",
   "metadata": {},
   "source": [
    "As mentioned earlier, an easy way to just reverse a Seq object (or a\n",
    "Python string) is slice it with -1 step:"
   ]
  },
  {
   "cell_type": "code",
   "execution_count": null,
   "metadata": {
    "collapsed": false,
    "jupyter": {
     "outputs_hidden": false
    }
   },
   "outputs": [],
   "source": [
    "my_seq[::-1]"
   ]
  },
  {
   "cell_type": "markdown",
   "metadata": {},
   "source": [
    "If you do accidentally end up trying to do something weird like taking the (reverse)complement of a\n",
    "protein sequence, the results are biologically meaningless:\n"
   ]
  },
  {
   "cell_type": "code",
   "execution_count": null,
   "metadata": {
    "collapsed": false,
    "jupyter": {
     "outputs_hidden": false
    }
   },
   "outputs": [],
   "source": [
    "from Bio.Seq import Seq\n",
    "protein_seq = Seq(\"EVRNAK\")\n",
    "protein_seq.complement()\n"
   ]
  },
  {
   "cell_type": "markdown",
   "metadata": {},
   "source": [
    "Here the letter “E” is not a valid IUPAC ambiguity code for nucleotides, so was not complemented.\n",
    "However, “V” means “A”, “C” or “G” and has complement “B“, and so on.\n",
    "The example in Section 5.5.3 combines the Seq object’s reverse complement method with Bio.SeqIO for sequence input/output."
   ]
  },
  {
   "cell_type": "markdown",
   "metadata": {},
   "source": [
    "## Transcription"
   ]
  },
  {
   "cell_type": "markdown",
   "metadata": {},
   "source": [
    "Before talking about transcription, I want to try and clarify the strand issue.\n",
    "Consider the following (made up) stretch of double stranded DNA which\n",
    "encodes a short peptide:"
   ]
  },
  {
   "cell_type": "markdown",
   "metadata": {},
   "source": [
    "\n",
    "|    | DNA coding strand (Crick strand, strand +1)    |    |\n",
    "| -- | ---------------------------------------------- | -- |\n",
    "| 5' | ATGGCCATTGTAATGGGCCGCTGAAAGGGTGCCCGATAG        | 3' |\n",
    "| 3' | TACCGGTAACATTACCCGGCGACTTTCCCACGGGCTATC        | 5' |\n",
    "|    | DNA template strand (Watson strand, strand -1) |    |\n",
    "|    |           __Transcription__                    |    |\n",
    "| 5' | AUGGCCAUUGUAAUGGGCCGCUGAAAGGGUGCCCGAUAG}       | 3' |\n",
    "|    | Single stranded messenger RNA                  |    |\n"
   ]
  },
  {
   "cell_type": "markdown",
   "metadata": {},
   "source": [
    "The actual biological transcription process works from the template strand, doing a reverse complement (TCAG -> CUGA) to give the mRNA.  However, in Biopython and bioinformatics in general, we typically work directly with the coding strand because this means we can get the mRNA sequence just by switching T -> U.\n",
    "\n",
    "Now let's actually get down to doing a transcription in Biopython.  First, let's create Seq objects for the coding and template DNA strands:"
   ]
  },
  {
   "cell_type": "code",
   "execution_count": null,
   "metadata": {
    "collapsed": false,
    "jupyter": {
     "outputs_hidden": false
    }
   },
   "outputs": [],
   "source": [
    "coding_dna = Seq(\"ATGGCCATTGTAATGGGCCGCTGAAAGGGTGCCCGATAG\")\n",
    "print(coding_dna)\n",
    "template_dna = coding_dna.reverse_complement()\n",
    "print(template_dna)"
   ]
  },
  {
   "cell_type": "markdown",
   "metadata": {},
   "source": [
    "These should match the figure above - remember by convention nucleotide sequences are normally read from the 5' to 3' direction, while in the figure the template strand is shown reversed.\n",
    "\n",
    "Now let's transcribe the coding strand into the corresponding mRNA, using the Seq object's built in transcribe method:"
   ]
  },
  {
   "cell_type": "code",
   "execution_count": null,
   "metadata": {
    "collapsed": false,
    "jupyter": {
     "outputs_hidden": false
    }
   },
   "outputs": [],
   "source": [
    "messenger_rna = coding_dna.transcribe()\n",
    "messenger_rna"
   ]
  },
  {
   "cell_type": "markdown",
   "metadata": {},
   "source": [
    "As you can see, all this does is switch T $\\rightarrow$ U.\n",
    "\n",
    "If you do want to do a true biological transcription starting with the template strand, then this becomes a two-step process:"
   ]
  },
  {
   "cell_type": "code",
   "execution_count": null,
   "metadata": {
    "collapsed": false,
    "jupyter": {
     "outputs_hidden": false
    }
   },
   "outputs": [],
   "source": [
    "template_dna.reverse_complement().transcribe()"
   ]
  },
  {
   "cell_type": "markdown",
   "metadata": {},
   "source": [
    "The Seq object also includes a back-transcription method for going from the mRNA to the coding strand of the DNA.  Again, this is a simple U $\\rightarrow$ T substitution:"
   ]
  },
  {
   "cell_type": "code",
   "execution_count": null,
   "metadata": {
    "collapsed": false,
    "jupyter": {
     "outputs_hidden": false
    }
   },
   "outputs": [],
   "source": [
    "messenger_rna.back_transcribe()"
   ]
  },
  {
   "cell_type": "markdown",
   "metadata": {},
   "source": [
    "## Translation"
   ]
  },
  {
   "cell_type": "markdown",
   "metadata": {},
   "source": [
    "Sticking with the same example discussed in the transcription section above,\n",
    "now let's translate this mRNA into the corresponding protein sequence - again taking\n",
    "advantage of one of the Seq object's biological methods:"
   ]
  },
  {
   "cell_type": "code",
   "execution_count": null,
   "metadata": {
    "collapsed": false,
    "jupyter": {
     "outputs_hidden": false
    }
   },
   "outputs": [],
   "source": [
    "messenger_rna.translate()"
   ]
  },
  {
   "cell_type": "markdown",
   "metadata": {},
   "source": [
    "You can also translate directly from the coding strand DNA sequence:"
   ]
  },
  {
   "cell_type": "code",
   "execution_count": null,
   "metadata": {
    "collapsed": false,
    "jupyter": {
     "outputs_hidden": false
    }
   },
   "outputs": [],
   "source": [
    "coding_dna.translate()"
   ]
  },
  {
   "cell_type": "markdown",
   "metadata": {},
   "source": [
    "You should notice in the above protein sequences that in addition to the end stop character, there is an internal stop as well.  This was a deliberate choice of example, as it gives an excuse to talk about some optional arguments, including different translation tables (Genetic Codes).\n",
    "\n",
    "The translation tables available in Biopython are based on those from the NCBI (see the next section of this tutorial). By default, translation will use the standard genetic code (NCBI table id 1). Suppose we are dealing with a mitochondrial sequence. We need to tell the translation function to use the relevant genetic code instead:"
   ]
  },
  {
   "cell_type": "code",
   "execution_count": null,
   "metadata": {
    "collapsed": false,
    "jupyter": {
     "outputs_hidden": false
    }
   },
   "outputs": [],
   "source": [
    "coding_dna.translate(table=\"Vertebrate Mitochondrial\")"
   ]
  },
  {
   "cell_type": "markdown",
   "metadata": {},
   "source": [
    "You can also specify the table using the NCBI table number which is shorter, and often included in the feature annotation of GenBank files:\n"
   ]
  },
  {
   "cell_type": "code",
   "execution_count": null,
   "metadata": {
    "collapsed": false,
    "jupyter": {
     "outputs_hidden": false
    }
   },
   "outputs": [],
   "source": [
    "coding_dna.translate(table=2)"
   ]
  },
  {
   "cell_type": "markdown",
   "metadata": {},
   "source": [
    "Now, you may want to translate the nucleotides up to the first in frame stop codon,\n",
    "and then stop (as happens in nature):"
   ]
  },
  {
   "cell_type": "code",
   "execution_count": null,
   "metadata": {
    "collapsed": false,
    "jupyter": {
     "outputs_hidden": false
    }
   },
   "outputs": [],
   "source": [
    "coding_dna.translate()"
   ]
  },
  {
   "cell_type": "code",
   "execution_count": null,
   "metadata": {
    "collapsed": false,
    "jupyter": {
     "outputs_hidden": false
    }
   },
   "outputs": [],
   "source": [
    "coding_dna.translate(to_stop=True)"
   ]
  },
  {
   "cell_type": "code",
   "execution_count": null,
   "metadata": {
    "collapsed": false,
    "jupyter": {
     "outputs_hidden": false
    }
   },
   "outputs": [],
   "source": [
    "coding_dna.translate(table=2)"
   ]
  },
  {
   "cell_type": "code",
   "execution_count": null,
   "metadata": {
    "collapsed": false,
    "jupyter": {
     "outputs_hidden": false
    }
   },
   "outputs": [],
   "source": [
    "coding_dna.translate(table=2, to_stop=True)"
   ]
  },
  {
   "cell_type": "markdown",
   "metadata": {},
   "source": [
    "Notice that when you use the to_stop argument, the stop codon itself\n",
    "is not translated - and the stop symbol is not included at the end of your protein\n",
    "sequence.\n",
    "\n",
    "You can even specify the stop symbol if you don't like the default asterisk:"
   ]
  },
  {
   "cell_type": "code",
   "execution_count": null,
   "metadata": {
    "collapsed": false,
    "jupyter": {
     "outputs_hidden": false
    }
   },
   "outputs": [],
   "source": [
    "coding_dna.translate(table=2, stop_symbol=\"@\")"
   ]
  },
  {
   "cell_type": "markdown",
   "metadata": {},
   "source": [
    "Now, suppose you have a complete coding sequence CDS, which is to say a\n",
    "nucleotide sequence (e.g. mRNA -- after any splicing) which is a whole number\n",
    "of codons (i.e. the length is a multiple of three), commences with a start\n",
    "codon, ends with a stop codon, and has no internal in-frame stop codons.\n",
    "In general, given a complete CDS, the default translate method will do what\n",
    "you want (perhaps with the to_stop option). However, what if your\n",
    "sequence uses a non-standard start codon? This happens a lot in bacteria --\n",
    "for example the gene yaaX in *E. coli* K12:"
   ]
  },
  {
   "cell_type": "code",
   "execution_count": null,
   "metadata": {
    "collapsed": false,
    "jupyter": {
     "outputs_hidden": false
    }
   },
   "outputs": [],
   "source": [
    "gene = Seq(\"GTGAAAAAGATGCAATCTATCGTACTCGCACTTTCCCTGGTTCTGGTCGCTCCCATGGCA\" +\n",
    "           \"GCACAGGCTGCGGAAATTACGTTAGTCCCGTCAGTAAAATTACAGATAGGCGATCGTGAT\" + \n",
    "           \"AATCGTGGCTATTACTGGGATGGAGGTCACTGGCGCGACCACGGCTGGTGGAAACAACAT\" + \n",
    "           \"TATGAATGGCGAGGCAATCGCTGGCACCTACACGGACCGCCGCCACCGCCGCGCCACCAT\" + \n",
    "           \"AAGAAAGCTCCTCATGATCATCACGGCGGTCATGGTCCAGGCAAACATCACCGCTAA\")\n",
    "gene.translate(table=\"Bacterial\")"
   ]
  },
  {
   "cell_type": "code",
   "execution_count": null,
   "metadata": {
    "collapsed": false,
    "jupyter": {
     "outputs_hidden": false
    }
   },
   "outputs": [],
   "source": [
    "gene.translate(table=\"Bacterial\", to_stop=True)"
   ]
  },
  {
   "cell_type": "markdown",
   "metadata": {},
   "source": [
    "In the bacterial genetic code GTG is a valid start codon,\n",
    "and while it does *normally* encode Valine, if used as a start codon it\n",
    "should be translated as methionine. This happens if you tell Biopython your\n",
    "sequence is a complete CDS:"
   ]
  },
  {
   "cell_type": "code",
   "execution_count": null,
   "metadata": {
    "collapsed": false,
    "jupyter": {
     "outputs_hidden": false
    }
   },
   "outputs": [],
   "source": [
    "gene.translate(table=\"Bacterial\", cds=True)"
   ]
  },
  {
   "cell_type": "markdown",
   "metadata": {},
   "source": [
    "In addition to telling Biopython to translate an alternative start codon as\n",
    "methionine, using this option also makes sure your sequence really is a valid\n",
    "CDS (you'll get an exception if not)."
   ]
  },
  {
   "cell_type": "markdown",
   "metadata": {},
   "source": [
    "## Translation Tables"
   ]
  },
  {
   "cell_type": "markdown",
   "metadata": {},
   "source": [
    "In the previous sections we talked about the Seq object translation method (and mentioned the equivalent function in the Bio.Seq module – see Section 3.13). Internally these use codon table objects derived from the NCBI information at ftp://ftp.ncbi.nlm.nih.gov/entrez/misc/data/gc.prt, also shown on https://www.ncbi.nlm.nih.gov/Taxonomy/Utils/wprintgc.cgi in a much more readable layout.\n",
    "As before, let’s just focus on two choices: the Standard translation table, and the translation table for Vertebrate Mitochondrial DNA.\n"
   ]
  },
  {
   "cell_type": "code",
   "execution_count": null,
   "metadata": {
    "collapsed": false,
    "jupyter": {
     "outputs_hidden": false
    }
   },
   "outputs": [],
   "source": [
    "from Bio.Data import CodonTable\n",
    "standard_table = CodonTable.unambiguous_dna_by_name[\"Standard\"]\n",
    "mito_table = CodonTable.unambiguous_dna_by_name[\"Vertebrate Mitochondrial\"]"
   ]
  },
  {
   "cell_type": "markdown",
   "metadata": {},
   "source": [
    "Alternatively, these tables are labeled with ID numbers 1 and 2, respectively:"
   ]
  },
  {
   "cell_type": "code",
   "execution_count": null,
   "metadata": {
    "collapsed": false,
    "jupyter": {
     "outputs_hidden": false
    }
   },
   "outputs": [],
   "source": [
    "standard_table = CodonTable.unambiguous_dna_by_id[1]\n",
    "mito_table = CodonTable.unambiguous_dna_by_id[2]"
   ]
  },
  {
   "cell_type": "markdown",
   "metadata": {},
   "source": [
    "You can compare the actual tables visually by printing them:"
   ]
  },
  {
   "cell_type": "code",
   "execution_count": null,
   "metadata": {
    "collapsed": false,
    "jupyter": {
     "outputs_hidden": false
    }
   },
   "outputs": [],
   "source": [
    "print(standard_table)"
   ]
  },
  {
   "cell_type": "code",
   "execution_count": null,
   "metadata": {
    "collapsed": false,
    "jupyter": {
     "outputs_hidden": false
    }
   },
   "outputs": [],
   "source": [
    "print(mito_table)"
   ]
  },
  {
   "cell_type": "markdown",
   "metadata": {},
   "source": [
    "You may find these following properties useful -- for example if you are trying\n",
    "to do your own gene finding:"
   ]
  },
  {
   "cell_type": "code",
   "execution_count": null,
   "metadata": {
    "collapsed": false,
    "jupyter": {
     "outputs_hidden": false
    }
   },
   "outputs": [],
   "source": [
    "print(mito_table.stop_codons)\n",
    "print(mito_table.start_codons)\n",
    "print(mito_table.forward_table[\"ACG\"])"
   ]
  },
  {
   "cell_type": "markdown",
   "metadata": {},
   "source": [
    "## Comparing Seq objects"
   ]
  },
  {
   "cell_type": "markdown",
   "metadata": {},
   "source": [
    "Sequence comparison is actually a very complicated topic, and there is no easy way to decide if two sequences\n",
    "are equal. The basic problem is the meaning of the letters in a sequence are context dependent - the letter\n",
    "“A” could be part of a DNA, RNA or protein sequence. Biopython can track the molecule type, so comparing\n",
    "two Seq objects could mean considering this too.\n",
    "Should a DNA fragment “ACG” and an RNA fragment “ACG” be equal? What about the peptide\n",
    "“ACG“? Or the Python string “ACG“? In everyday use, your sequences will generally all be the same type\n",
    "of (all DNA, all RNA, or all protein). Well, as of Biopython 1.65, sequence comparison only looks at the\n",
    "sequence and compares like the Python string."
   ]
  },
  {
   "cell_type": "code",
   "execution_count": null,
   "metadata": {
    "collapsed": false,
    "jupyter": {
     "outputs_hidden": false
    }
   },
   "outputs": [],
   "source": [
    "from Bio.Seq import Seq\n",
    "seq1 = Seq(\"ACGT\")\n",
    "seq2 = Seq(\"ACGT\")\n",
    "\n"
   ]
  },
  {
   "cell_type": "markdown",
   "metadata": {},
   "source": [
    "So, what does Biopython do? Well, the equality test is the default for Python\n",
    "objects -- it tests to see if they are the same object in memory. This is a\n",
    "very strict test:"
   ]
  },
  {
   "cell_type": "code",
   "execution_count": null,
   "metadata": {
    "collapsed": false,
    "jupyter": {
     "outputs_hidden": false
    }
   },
   "outputs": [],
   "source": [
    "print(seq1 == seq2)\n",
    "print(seq1 == seq1)"
   ]
  },
  {
   "cell_type": "markdown",
   "metadata": {},
   "source": [
    "As an extension to this, while you can use a Python dictionary with\n",
    "__Seq__ objects as keys, it is generally more useful to use the sequence a\n",
    "string for the key."
   ]
  },
  {
   "cell_type": "markdown",
   "metadata": {},
   "source": [
    "## MutableSeq Objects"
   ]
  },
  {
   "cell_type": "markdown",
   "metadata": {},
   "source": [
    "Just like the normal Python string, the __Seq__ object is ``read only'', or in Python terminology, immutable.  Apart from wanting the __Seq__ object to act like a string, this is also a useful default since in many biological applications you want to ensure you are not changing your sequence data:"
   ]
  },
  {
   "cell_type": "code",
   "execution_count": null,
   "metadata": {
    "collapsed": false,
    "jupyter": {
     "outputs_hidden": false
    }
   },
   "outputs": [],
   "source": [
    "my_seq = Seq(\"GCCATTGTAATGGGCCGCTGAAAGGGTGCCCGA\")"
   ]
  },
  {
   "cell_type": "markdown",
   "metadata": {},
   "source": [
    "Observe what happens if you try to edit the sequence:"
   ]
  },
  {
   "cell_type": "code",
   "execution_count": null,
   "metadata": {
    "collapsed": false,
    "jupyter": {
     "outputs_hidden": false
    }
   },
   "outputs": [],
   "source": [
    "my_seq[5] = \"G\""
   ]
  },
  {
   "cell_type": "markdown",
   "metadata": {},
   "source": [
    "However, you can convert it into a mutable sequence (a __MutableSeq__ object) and do pretty much anything you want with it"
   ]
  },
  {
   "cell_type": "code",
   "execution_count": null,
   "metadata": {
    "collapsed": false,
    "jupyter": {
     "outputs_hidden": false
    }
   },
   "outputs": [],
   "source": [
    "mutable_seq = my_seq.tomutable()\n",
    "mutable_seq"
   ]
  },
  {
   "cell_type": "markdown",
   "metadata": {},
   "source": [
    "Alternatively, you can create a __MutableSeq__ object directly from a string:"
   ]
  },
  {
   "cell_type": "code",
   "execution_count": null,
   "metadata": {
    "collapsed": false,
    "jupyter": {
     "outputs_hidden": false
    }
   },
   "outputs": [],
   "source": [
    "from Bio.Seq import MutableSeq\n",
    "mutable_seq = MutableSeq(\"GCCATTGTAATGGGCCGCTGAAAGGGTGCCCGA\")"
   ]
  },
  {
   "cell_type": "markdown",
   "metadata": {},
   "source": [
    "Either way will give you a sequence object which can be changed:\n"
   ]
  },
  {
   "cell_type": "code",
   "execution_count": null,
   "metadata": {
    "collapsed": false,
    "jupyter": {
     "outputs_hidden": false
    }
   },
   "outputs": [],
   "source": [
    "mutable_seq[5] = \"C\"\n",
    "print(mutable_seq)\n",
    "mutable_seq.remove(\"T\")\n",
    "print(mutable_seq)\n",
    "mutable_seq.reverse()\n",
    "print(mutable_seq)"
   ]
  },
  {
   "cell_type": "markdown",
   "metadata": {},
   "source": [
    "Do note that unlike the Seq object, the MutableSeq object's methods like reverse_complement() and reverse() act in-situ!\n",
    "\n",
    "An important technical difference between mutable and immutable objects in Python means that you can't use a MutableSeq object as a dictionary key, but you can use a Python string or \n",
    "a Seq object in this way.\n",
    "\n",
    "Once you have finished editing your a MutableSeq object, it's easy to get back to a read-only Seq object should you need to:"
   ]
  },
  {
   "cell_type": "code",
   "execution_count": null,
   "metadata": {
    "collapsed": false,
    "jupyter": {
     "outputs_hidden": false
    }
   },
   "outputs": [],
   "source": [
    "new_seq = mutable_seq.toseq()\n",
    "new_seq"
   ]
  },
  {
   "cell_type": "markdown",
   "metadata": {},
   "source": [
    "You can also get a string from a MutableSeq object just like from a Seq object."
   ]
  },
  {
   "cell_type": "markdown",
   "metadata": {},
   "source": [
    "## UnknownSeq Objects"
   ]
  },
  {
   "cell_type": "markdown",
   "metadata": {},
   "source": [
    "The UnknownSeq object is a subclass of the basic Seq object\n",
    "and its purpose is to represent a\n",
    "sequence where we know the length, but not the actual letters making it up.\n",
    "You could of course use a normal Seq object in this situation, but it wastes\n",
    "rather a lot of memory to hold a string of a million ``N'' characters when you could\n",
    "just store a single letter ``N'' and the desired length as an integer.\n"
   ]
  },
  {
   "cell_type": "code",
   "execution_count": null,
   "metadata": {
    "collapsed": false,
    "jupyter": {
     "outputs_hidden": false
    }
   },
   "outputs": [],
   "source": [
    "from Bio.Seq import UnknownSeq\n",
    "unk = UnknownSeq(20)\n",
    "unk"
   ]
  },
  {
   "cell_type": "code",
   "execution_count": null,
   "metadata": {
    "collapsed": false,
    "jupyter": {
     "outputs_hidden": false
    }
   },
   "outputs": [],
   "source": [
    "print(unk)\n",
    "print(len(unk))"
   ]
  },
  {
   "cell_type": "markdown",
   "metadata": {},
   "source": [
    "For DNA or RNA sequences, unknown nucleotides are commonly denoted by the letter “N”, while for\n",
    "proteins “X” is commonly used for unknown amino acids. When creating an ‘UnknownSeq‘, you can specify\n",
    "the character to be used instead of “?” to represent unknown letters. For example"
   ]
  },
  {
   "cell_type": "code",
   "execution_count": null,
   "metadata": {
    "collapsed": false,
    "jupyter": {
     "outputs_hidden": false
    }
   },
   "outputs": [],
   "source": [
    "unk_dna = UnknownSeq(20, character= \"N\")\n",
    "unk_dna"
   ]
  },
  {
   "cell_type": "code",
   "execution_count": null,
   "metadata": {
    "collapsed": false,
    "jupyter": {
     "outputs_hidden": false
    }
   },
   "outputs": [],
   "source": [
    "print(unk_dna)"
   ]
  },
  {
   "cell_type": "markdown",
   "metadata": {},
   "source": [
    "You can use all the usual __Seq__ object methods too, note these give back\n",
    "memory saving __UnknownSeq__ objects where appropriate as you might expect:\n"
   ]
  },
  {
   "cell_type": "code",
   "execution_count": null,
   "metadata": {
    "collapsed": false,
    "jupyter": {
     "outputs_hidden": false
    }
   },
   "outputs": [],
   "source": [
    "unk_dna"
   ]
  },
  {
   "cell_type": "code",
   "execution_count": null,
   "metadata": {
    "collapsed": false,
    "jupyter": {
     "outputs_hidden": false
    }
   },
   "outputs": [],
   "source": [
    "unk_dna.complement()"
   ]
  },
  {
   "cell_type": "code",
   "execution_count": null,
   "metadata": {
    "collapsed": false,
    "jupyter": {
     "outputs_hidden": false
    }
   },
   "outputs": [],
   "source": [
    "unk_dna.reverse_complement()"
   ]
  },
  {
   "cell_type": "code",
   "execution_count": null,
   "metadata": {
    "collapsed": false,
    "jupyter": {
     "outputs_hidden": false
    }
   },
   "outputs": [],
   "source": [
    "unk_dna.transcribe()"
   ]
  },
  {
   "cell_type": "code",
   "execution_count": null,
   "metadata": {
    "collapsed": false,
    "jupyter": {
     "outputs_hidden": false
    }
   },
   "outputs": [],
   "source": [
    "unk_protein = unk_dna.translate()\n",
    "unk_protein"
   ]
  },
  {
   "cell_type": "code",
   "execution_count": null,
   "metadata": {
    "collapsed": false,
    "jupyter": {
     "outputs_hidden": false
    }
   },
   "outputs": [],
   "source": [
    "print(unk_protein)\n",
    "print(len(unk_protein))"
   ]
  },
  {
   "cell_type": "markdown",
   "metadata": {},
   "source": [
    "You may be able to find a use for the UnknownSeq object in your own\n",
    "code, but it is more likely that you will first come across them in a\n",
    "SeqRecord object created by Bio.SeqIO.\n",
    "Some sequence file formats don't always include the actual sequence, for\n",
    "example GenBank and EMBL files may include a list of features but for the\n",
    "sequence just present the contig information.  Alternatively, the QUAL files\n",
    "used in sequencing work hold quality scores but they *never* contain a\n",
    "sequence -- instead there is a partner FASTA file which *does* have the\n",
    "sequence."
   ]
  },
  {
   "cell_type": "markdown",
   "metadata": {},
   "source": [
    "## Working with strings directly"
   ]
  },
  {
   "cell_type": "markdown",
   "metadata": {},
   "source": [
    "To close this chapter, for those you who *really* don't want to use the sequence\n",
    "objects (or who prefer a functional programming style to an object orientated one),\n",
    "there are module level functions in Bio.Seq will accept plain Python strings,\n",
    "Seq objects (including UnknownSeq objects) or MutableSeq objects:\n"
   ]
  },
  {
   "cell_type": "code",
   "execution_count": null,
   "metadata": {
    "collapsed": false,
    "jupyter": {
     "outputs_hidden": false
    }
   },
   "outputs": [],
   "source": [
    "from Bio.Seq import reverse_complement, transcribe, back_transcribe, translate\n",
    "my_string = \"GCTGTTATGGGTCGTTGGAAGGGTGGTCGTGCTGCTGGTTAG\"\n",
    "print(reverse_complement(my_string))\n",
    "print(transcribe(my_string))\n",
    "print(back_transcribe(my_string))\n",
    "print(translate(my_string))"
   ]
  },
  {
   "cell_type": "markdown",
   "metadata": {},
   "source": [
    "You are, however, encouraged to work with Seq objects by default."
   ]
  }
 ],
 "metadata": {
  "kernelspec": {
   "display_name": "Python 3 (ipykernel)",
   "language": "python",
   "name": "python3"
  },
  "language_info": {
   "codemirror_mode": {
    "name": "ipython",
    "version": 3
   },
   "file_extension": ".py",
   "mimetype": "text/x-python",
   "name": "python",
   "nbconvert_exporter": "python",
   "pygments_lexer": "ipython3",
   "version": "3.8.12"
  }
 },
 "nbformat": 4,
 "nbformat_minor": 4
}
