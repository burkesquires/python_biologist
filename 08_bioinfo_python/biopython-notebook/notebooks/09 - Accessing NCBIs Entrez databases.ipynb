{
 "cells": [
  {
   "cell_type": "markdown",
   "metadata": {},
   "source": [
    "**Source of the materials**: Biopython cookbook (adapted)\n",
    "<font color='red'>Status: Draft</font>"
   ]
  },
  {
   "cell_type": "markdown",
   "metadata": {},
   "source": [
    "# Accessing NCBI’s Entrez databases\n",
    "\n",
    "[Entrez Guidelines](Entrez Guidelines)\n",
    "\n",
    "[EInfo: Obtaining information about the Entrez databases](#EInfo:-Obtaining-information-about-the-Entrez-databases)\n",
    "\n",
    "[ESearch: Searching the Entrez databases](#ESearch:-Searching-the-Entrez-databases)\n",
    "\n",
    "[EPost: Uploading a list of identifiers](#EPost:-Uploading-a-list-of-identifiers)\n",
    "\n",
    "[EFetch: Downloading full records from Entrez](#EFetch:-Downloading-full-records-from-Entrez)\n",
    "\n",
    "[History and WebEnv](#Using-the-history-and-WebEnv)\n",
    "\n",
    "[Specialized parsers](#Specialized-parsers)\n",
    "\n",
    "[Examples](#Examples)\n",
    "\n",
    "\n",
    "Entrez (<http://www.ncbi.nlm.nih.gov/Entrez>) is a data retrieval system\n",
    "that provides users access to NCBI’s databases such as PubMed, GenBank,\n",
    "GEO, and many others. You can access Entrez from a web browser to\n",
    "manually enter queries, or you can use Biopython’s `Bio.Entrez` module\n",
    "for programmatic access to Entrez. The latter allows you for example to\n",
    "search PubMed or download GenBank records from within a Python script.\n",
    "\n",
    "The `Bio.Entrez` module makes use of the Entrez Programming Utilities\n",
    "(also known as EUtils), consisting of eight tools that are described in\n",
    "detail on NCBI’s page at <http://www.ncbi.nlm.nih.gov/entrez/utils/>.\n",
    "Each of these tools corresponds to one Python function in the\n",
    "`Bio.Entrez` module, as described in the sections below. This module\n",
    "makes sure that the correct URL is used for the queries, and that not\n",
    "more than one request is made every three seconds, as required by NCBI.\n",
    "\n",
    "The output returned by the Entrez Programming Utilities is typically in\n",
    "XML format. To parse such output, you have several options:\n",
    "\n",
    "1.  Use `Bio.Entrez`’s parser to parse the XML output into a Python\n",
    "    object;\n",
    "\n",
    "2.  Use the DOM (Document Object Model) parser in Python’s standard\n",
    "    library;\n",
    "\n",
    "3.  Use the SAX (Simple API for XML) parser in Python’s standard\n",
    "    library;\n",
    "\n",
    "4.  Read the XML output as raw text, and parse it by string searching\n",
    "    and manipulation.\n",
    "\n",
    "For the DOM and SAX parsers, see the Python documentation. The parser in\n",
    "`Bio.Entrez` is discussed below.\n",
    "\n",
    "NCBI uses DTD (Document Type Definition) files to describe the structure\n",
    "of the information contained in XML files. Most of the DTD files used by\n",
    "NCBI are included in the Biopython distribution. The `Bio.Entrez` parser\n",
    "makes use of the DTD files when parsing an XML file returned by NCBI\n",
    "Entrez.\n",
    "\n",
    "Occasionally, you may find that the DTD file associated with a specific\n",
    "XML file is missing in the Biopython distribution. In particular, this\n",
    "may happen when NCBI updates its DTD files. If this happens,\n",
    "`Entrez.read` will show a warning message with the name and URL of the\n",
    "missing DTD file. The parser will proceed to access the missing DTD file\n",
    "through the internet, allowing the parsing of the XML file to continue.\n",
    "However, the parser is much faster if the DTD file is available locally.\n",
    "For this purpose, please download the DTD file from the URL in the\n",
    "warning message and place it in the directory\n",
    "`...site-packages/Bio/Entrez/DTDs`, containing the other DTD files. If\n",
    "you don’t have write access to this directory, you can also place the\n",
    "DTD file in `~/.biopython/Bio/Entrez/DTDs`, where `~` represents your\n",
    "home directory. Since this directory is read before the directory\n",
    "`...site-packages/Bio/Entrez/DTDs`, you can also put newer versions of\n",
    "DTD files there if the ones in `...site-packages/Bio/Entrez/DTDs` become\n",
    "outdated. Alternatively, if you installed Biopython from source, you can\n",
    "add the DTD file to the source code’s `Bio/Entrez/DTDs` directory, and\n",
    "reinstall Biopython. This will install the new DTD file in the correct\n",
    "location together with the other DTD files.\n",
    "\n",
    "The Entrez Programming Utilities can also generate output in other\n",
    "formats, such as the Fasta or GenBank file formats for sequence\n",
    "databases, or the MedLine format for the literature database, discussed\n",
    "in Section [Specialized parsers](#Specialized-parsers)."
   ]
  },
  {
   "cell_type": "markdown",
   "metadata": {},
   "source": [
    "## Entrez Guidelines\n",
    "\n",
    "Before using Biopython to access the NCBI’s online resources (via\n",
    "`Bio.Entrez` or some of the other modules), please read the [NCBI’s Entrez User Requirements](http://www.ncbi.nlm.nih.gov/books/NBK25497/#chapter2.Usage_Guidelines_and_Requiremen).\n",
    "If the NCBI finds you are abusing their systems, they can and will ban\n",
    "your access!\n",
    "\n",
    "To paraphrase:\n",
    "\n",
    "-   For any series of more than 100 requests, do this at weekends or\n",
    "    outside USA peak times. This is up to you to obey.\n",
    "\n",
    "-   Use the <http://eutils.ncbi.nlm.nih.gov> address, not the standard\n",
    "    NCBI Web address. Biopython uses this web address.\n",
    "\n",
    "-   Make no more than three requests every seconds (relaxed from at most\n",
    "    one request every three seconds in early 2009). This is\n",
    "    automatically enforced by Biopython.\n",
    "\n",
    "-   Use the optional email parameter so the NCBI can contact you if\n",
    "    there is a problem. You can either explicitly set this as a\n",
    "    parameter with each call to Entrez (e.g. include\n",
    "    <span>email=“A.N.Other@example.com”</span> in the argument list), or\n",
    "    you can set a global email address:"
   ]
  },
  {
   "cell_type": "code",
   "execution_count": null,
   "metadata": {},
   "outputs": [],
   "source": [
    "from Bio import Entrez\n",
    "Entrez.email = \"A.N.Other@example.com\""
   ]
  },
  {
   "cell_type": "markdown",
   "metadata": {},
   "source": [
    "\n",
    "<span>Bio.Entrez</span> will then use this email address with each\n",
    "call to Entrez. The <span>example.com</span> address is a reserved\n",
    "domain name specifically for documentation (RFC 2606). Please DO NOT\n",
    "use a random email – it’s better not to give an email at all. The\n",
    "email parameter will be mandatory from June 1, 2010. In case of\n",
    "excessive usage, NCBI will attempt to contact a user at the e-mail\n",
    "address provided prior to blocking access to the E-utilities.\n",
    "\n",
    "If you are using Biopython within some larger software suite, use\n",
    "the tool parameter to specify this. You can either explicitly set\n",
    "the tool name as a parameter with each call to Entrez (e.g. include\n",
    "<span>tool=“MyLocalScript”</span> in the argument list), or you can\n",
    "set a global tool name:\n",
    "\n"
   ]
  },
  {
   "cell_type": "code",
   "execution_count": null,
   "metadata": {},
   "outputs": [],
   "source": [
    "from Bio import Entrez\n",
    "Entrez.tool = \"MyLocalScript\""
   ]
  },
  {
   "cell_type": "markdown",
   "metadata": {},
   "source": [
    "\n",
    "    The tool parameter will default to Biopython.\n",
    "\n",
    "-   For large queries, the NCBI also recommend using their session\n",
    "    history feature (the WebEnv session cookie string,\n",
    "    see Section [History and WebEnv](#Using-the-history-and-WebEnv)). This is only slightly\n",
    "    more complicated.\n",
    "\n",
    "In conclusion, be sensible with your usage levels. If you plan to\n",
    "download lots of data, consider other options. For example, if you want\n",
    "easy access to all the human genes, consider fetching each chromosome by\n",
    "FTP as a GenBank file, and importing these into your own BioSQL database\n",
    "(see Section \\[sec:BioSQL\\]).\n",
    "\n",
    "## EInfo: Obtaining information about the Entrez databases\n",
    "\n",
    "- [einfo source](http://biopython.org/DIST/docs/api/Bio.Entrez-pysrc.html#einfo)\n",
    "\n",
    "EInfo provides field index term counts, last update, and available links\n",
    "for each of NCBI’s databases. In addition, you can use EInfo to obtain a\n",
    "list of all database names accessible through the Entrez utilities. The variable `result` now contains a list of databases in XML format:\n"
   ]
  },
  {
   "cell_type": "code",
   "execution_count": null,
   "metadata": {},
   "outputs": [],
   "source": [
    "from Bio import Entrez\n",
    "Entrez.email = \"A.N.Other@example.com\"     # Always tell NCBI who you are\n",
    "handle = Entrez.einfo()\n",
    "result = handle.read()\n",
    "print(result)\n"
   ]
  },
  {
   "cell_type": "markdown",
   "metadata": {},
   "source": [
    "\n",
    "Since this is a fairly simple XML file, we could extract the information\n",
    "it contains simply by string searching. Using `Bio.Entrez`’s parser\n",
    "instead, we can directly parse this XML file into a Python object:\n",
    "\n"
   ]
  },
  {
   "cell_type": "code",
   "execution_count": null,
   "metadata": {},
   "outputs": [],
   "source": [
    "from Bio import Entrez\n",
    "handle = Entrez.einfo()\n",
    "record = Entrez.read(handle)"
   ]
  },
  {
   "cell_type": "markdown",
   "metadata": {},
   "source": [
    "\n",
    "Now `record` is a dictionary with exactly one key:\n",
    "\n"
   ]
  },
  {
   "cell_type": "code",
   "execution_count": null,
   "metadata": {},
   "outputs": [],
   "source": [
    "record.keys()"
   ]
  },
  {
   "cell_type": "markdown",
   "metadata": {},
   "source": [
    "\n",
    "The values stored in this key is the list of database names shown in the\n",
    "XML above:\n",
    "\n"
   ]
  },
  {
   "cell_type": "code",
   "execution_count": null,
   "metadata": {},
   "outputs": [],
   "source": [
    "record[\"DbList\"]"
   ]
  },
  {
   "cell_type": "markdown",
   "metadata": {},
   "source": [
    "\n",
    "For each of these databases, we can use EInfo again to obtain more\n",
    "information:\n",
    "\n"
   ]
  },
  {
   "cell_type": "code",
   "execution_count": null,
   "metadata": {},
   "outputs": [],
   "source": [
    "from Bio import Entrez\n",
    "handle = Entrez.einfo(db=\"pubmed\")\n",
    "record = Entrez.read(handle)\n",
    "record[\"DbInfo\"][\"Description\"]"
   ]
  },
  {
   "cell_type": "code",
   "execution_count": null,
   "metadata": {},
   "outputs": [],
   "source": [
    "record['DbInfo'].keys()"
   ]
  },
  {
   "cell_type": "code",
   "execution_count": null,
   "metadata": {},
   "outputs": [],
   "source": [
    "handle = Entrez.einfo(db=\"pubmed\")\n",
    "record = Entrez.read(handle)\n",
    "record[\"DbInfo\"][\"Description\"]"
   ]
  },
  {
   "cell_type": "code",
   "execution_count": null,
   "metadata": {},
   "outputs": [],
   "source": [
    "record[\"DbInfo\"][\"Count\"]"
   ]
  },
  {
   "cell_type": "code",
   "execution_count": null,
   "metadata": {},
   "outputs": [],
   "source": [
    "record[\"DbInfo\"][\"LastUpdate\"]"
   ]
  },
  {
   "cell_type": "markdown",
   "metadata": {},
   "source": [
    "\n",
    "Try `record[\"DbInfo\"].keys()` for other information stored in this\n",
    "record. One of the most useful is a list of possible search fields for\n",
    "use with ESearch:\n",
    "\n"
   ]
  },
  {
   "cell_type": "code",
   "execution_count": null,
   "metadata": {},
   "outputs": [],
   "source": [
    "for field in record[\"DbInfo\"][\"FieldList\"]:\n",
    "    print(\"%(Name)s, %(FullName)s, %(Description)s\" % field)"
   ]
  },
  {
   "cell_type": "markdown",
   "metadata": {},
   "source": [
    "\n",
    "That’s a long list, but indirectly this tells you that for the PubMed\n",
    "database, you can do things like `Jones[AUTH]` to search the author\n",
    "field, or `Sanger[AFFL]` to restrict to authors at the Sanger Centre.\n",
    "This can be very handy - especially if you are not so familiar with a\n",
    "particular database.\n",
    "\n",
    "ESearch: Searching the Entrez databases\n",
    "-------------------------------------\n",
    "\n",
    "To search any of these databases, we use `Bio.Entrez.esearch()`. For\n",
    "example, let’s search in PubMed for publications related to Biopython:\n",
    "\n"
   ]
  },
  {
   "cell_type": "code",
   "execution_count": null,
   "metadata": {},
   "outputs": [],
   "source": [
    "from Bio import Entrez\n",
    "Entrez.email = \"A.N.Other@example.com\"     # Always tell NCBI who you are\n",
    "handle = Entrez.esearch(db=\"pubmed\", term=\"biopython\")\n",
    "record = Entrez.read(handle)\n",
    "record[\"IdList\"]"
   ]
  },
  {
   "cell_type": "code",
   "execution_count": null,
   "metadata": {},
   "outputs": [],
   "source": [
    "record"
   ]
  },
  {
   "cell_type": "markdown",
   "metadata": {},
   "source": [
    "\n",
    "In this output, you see seven PubMed IDs (including 19304878 which is\n",
    "the PMID for the Biopython application), which can be retrieved by\n",
    "EFetch (see section [EFetch: Downloading full records from Entrez](#EFetch:-Downloading-full-records-from-Entrez)).\n",
    "\n",
    "You can also use ESearch to search GenBank. Here we’ll do a quick search\n",
    "for the *matK* gene in *Cypripedioideae* orchids (see\n",
    "Section \\[sec:entrez-einfo\\] about EInfo for one way to find out which\n",
    "fields you can search in each Entrez database):\n",
    "\n"
   ]
  },
  {
   "cell_type": "code",
   "execution_count": null,
   "metadata": {},
   "outputs": [],
   "source": [
    "handle = Entrez.esearch(db=\"nucleotide\", term=\"Cypripedioideae[Orgn] AND matK[Gene]\")\n",
    "record = Entrez.read(handle)\n",
    "record[\"Count\"]"
   ]
  },
  {
   "cell_type": "code",
   "execution_count": null,
   "metadata": {},
   "outputs": [],
   "source": [
    "record[\"IdList\"]"
   ]
  },
  {
   "cell_type": "markdown",
   "metadata": {},
   "source": [
    "\n",
    "Each of the IDs (126789333, 37222967, 37222966, …) is a GenBank\n",
    "identifier. See section [EFetch: Downloading full records from Entrez](#EFetch:-Downloading-full-records-from-Entrez) for information on how to\n",
    "actually download these GenBank records.\n",
    "\n",
    "Note that instead of a species name like `Cypripedioideae[Orgn]`, you\n",
    "can restrict the search using an NCBI taxon identifier, here this would\n",
    "be `txid158330[Orgn]`. This isn’t currently documented on the ESearch\n",
    "help page - the NCBI explained this in reply to an email query. You can\n",
    "often deduce the search term formatting by playing with the Entrez web\n",
    "interface. For example, including `complete[prop]` in a genome search\n",
    "restricts to just completed genomes.\n",
    "\n",
    "As a final example, let’s get a list of computational journal titles:\n",
    "\n"
   ]
  },
  {
   "cell_type": "code",
   "execution_count": null,
   "metadata": {},
   "outputs": [],
   "source": [
    "# nlmcatalog\n",
    "# handle = Entrez.esearch(db=\"nlmcatalog\", term=\"computational\")\n",
    "# record = Entrez.read(handle)\n",
    "# record[\"Count\"]\n",
    "handle = Entrez.esearch(db=\"nlmcatalog\", term=\"biopython[Journal]\", RetMax='20')\n",
    "record = Entrez.read(handle)\n",
    "print(\"{} computational Journals found\".format(record[\"Count\"]))\n",
    "print(\"The first 20 are\\n{}\".format(record['IdList']))"
   ]
  },
  {
   "cell_type": "markdown",
   "metadata": {},
   "source": [
    "\n",
    "Again, we could use EFetch to obtain more information for each of these\n",
    "journal IDs.\n",
    "\n",
    "ESearch has many useful options — see the [ESearch help\n",
    "page](http://www.ncbi.nlm.nih.gov/entrez/query/static/esearch_help.html)\n",
    "for more information.\n",
    "\n",
    "EPost: Uploading a list of identifiers\n",
    "------------------------------------\n",
    "\n",
    "EPost uploads a list of UIs for use in subsequent search strategies; see\n",
    "the [EPost help\n",
    "page](http://www.ncbi.nlm.nih.gov/entrez/query/static/epost_help.html)\n",
    "for more information. It is available from Biopython through the\n",
    "`Bio.Entrez.epost()` function.\n",
    "\n",
    "To give an example of when this is useful, suppose you have a long list\n",
    "of IDs you want to download using EFetch (maybe sequences, maybe\n",
    "citations – anything). When you make a request with EFetch your list of\n",
    "IDs, the database etc, are all turned into a long URL sent to the\n",
    "server. If your list of IDs is long, this URL gets long, and long URLs\n",
    "can break (e.g. some proxies don’t cope well).\n",
    "\n",
    "Instead, you can break this up into two steps, first uploading the list\n",
    "of IDs using EPost (this uses an “HTML post” internally, rather than an\n",
    "“HTML get”, getting round the long URL problem). With the history\n",
    "support, you can then refer to this long list of IDs, and download the\n",
    "associated data with EFetch.\n",
    "\n",
    "Let’s look at a simple example to see how EPost works – uploading some\n",
    "PubMed identifiers:\n",
    "\n"
   ]
  },
  {
   "cell_type": "code",
   "execution_count": null,
   "metadata": {},
   "outputs": [],
   "source": [
    "from Bio import Entrez\n",
    "Entrez.email = \"A.N.Other@example.com\"     # Always tell NCBI who you are\n",
    "id_list = [\"19304878\", \"18606172\", \"16403221\", \"16377612\", \"14871861\", \"14630660\"]\n",
    "print(Entrez.epost(\"pubmed\", id=\",\".join(id_list)).read())"
   ]
  },
  {
   "cell_type": "markdown",
   "metadata": {},
   "source": [
    "\n",
    "The returned XML includes two important strings, `QueryKey` and `WebEnv`\n",
    "which together define your history session. You would extract these\n",
    "values for use with another Entrez call such as EFetch:\n",
    "\n"
   ]
  },
  {
   "cell_type": "code",
   "execution_count": null,
   "metadata": {},
   "outputs": [],
   "source": [
    "from Bio import Entrez\n",
    "Entrez.email = \"A.N.Other@example.com\"     # Always tell NCBI who you are\n",
    "id_list = [\"19304878\", \"18606172\", \"16403221\", \"16377612\", \"14871861\", \"14630660\"]\n",
    "search_results = Entrez.read(Entrez.epost(\"pubmed\", id=\",\".join(id_list)))\n",
    "webenv = search_results[\"WebEnv\"]\n",
    "query_key = search_results[\"QueryKey\"]"
   ]
  },
  {
   "cell_type": "markdown",
   "metadata": {},
   "source": [
    "\n",
    "Section [History and WebEnv](#Using-the-history-and-WebEnv) shows how to use the history feature.\n",
    "\n",
    "ESummary: Retrieving summaries from primary IDs\n",
    "-----------------------------------------------\n",
    "\n",
    "ESummary retrieves document summaries from a list of primary IDs (see\n",
    "the [ESummary help\n",
    "page](http://www.ncbi.nlm.nih.gov/entrez/query/static/esummary_help.html)\n",
    "for more information). In Biopython, ESummary is available as\n",
    "`Bio.Entrez.esummary()`. Using the search result above, we can for\n",
    "example find out more about the journal with ID 30367:\n",
    "\n"
   ]
  },
  {
   "cell_type": "code",
   "execution_count": null,
   "metadata": {},
   "outputs": [],
   "source": [
    "from Bio import Entrez\n",
    "Entrez.email = \"A.N.Other@example.com\"     # Always tell NCBI who you are\n",
    "handle = Entrez.esummary(db=\"nlmcatalog\", term=\"[journal]\", id=\"101660833\")\n",
    "record = Entrez.read(handle)\n",
    "info = record[0]['TitleMainList'][0]\n",
    "print(\"Journal info\\nid: {}\\nTitle: {}\".format(record[0][\"Id\"], info[\"Title\"]))"
   ]
  },
  {
   "cell_type": "markdown",
   "metadata": {},
   "source": [
    "\n",
    "EFetch: Downloading full records from Entrez\n",
    "-----------------------------------------\n",
    "\n",
    "EFetch is what you use when you want to retrieve a full record from\n",
    "Entrez. This covers several possible databases, as described on the main\n",
    "[EFetch Help\n",
    "page](http://eutils.ncbi.nlm.nih.gov/entrez/query/static/efetch_help.html).\n",
    "\n",
    "For most of their databases, the NCBI support several different file\n",
    "formats. Requesting a specific file format from Entrez using\n",
    "`Bio.Entrez.efetch()` requires specifying the `rettype` and/or `retmode`\n",
    "optional arguments. The different combinations are described for each\n",
    "database type on the pages linked to on [NCBI efetch\n",
    "webpage](http://www.ncbi.nlm.nih.gov/entrez/query/static/efetch_help.html)\n",
    "(e.g.\n",
    "[literature](http://eutils.ncbi.nlm.nih.gov/corehtml/query/static/efetchlit_help.html),\n",
    "[sequences](http://eutils.ncbi.nlm.nih.gov/corehtml/query/static/efetchseq_help.html)\n",
    "and\n",
    "[taxonomy](http://eutils.ncbi.nlm.nih.gov/corehtml/query/static/efetchtax_help.html)).\n",
    "\n",
    "One common usage is downloading sequences in the FASTA or\n",
    "GenBank/GenPept plain text formats (which can then be parsed with\n",
    "`Bio.SeqIO`, see Sections \\[sec:SeqIO\\_GenBank\\_Online\\]\n",
    "and [EFetch: Downloading full records from Entrez](#EFetch:-Downloading-full-records-from-Entrez)). From the *Cypripedioideae* example above, we can\n",
    "download GenBank record 186972394 using `Bio.Entrez.efetch`:\n",
    "\n"
   ]
  },
  {
   "cell_type": "code",
   "execution_count": null,
   "metadata": {},
   "outputs": [],
   "source": [
    "from Bio import Entrez\n",
    "Entrez.email = \"A.N.Other@example.com\"     # Always tell NCBI who you are\n",
    "handle = Entrez.efetch(db=\"nucleotide\", id=\"186972394\", rettype=\"gb\", retmode=\"text\")\n",
    "print(handle.read())"
   ]
  },
  {
   "cell_type": "markdown",
   "metadata": {},
   "source": [
    "\n",
    "The arguments `rettype=\"gb\"` and `retmode=\"text\"` let us download this\n",
    "record in the GenBank format.\n",
    "\n",
    "Note that until Easter 2009, the Entrez EFetch API let you use “genbank”\n",
    "as the return type, however the NCBI now insist on using the official\n",
    "return types of “gb” or “gbwithparts” (or “gp” for proteins) as\n",
    "described on online. Also not that until Feb 2012, the Entrez EFetch API\n",
    "would default to returning plain text files, but now defaults to XML.\n",
    "\n",
    "Alternatively, you could for example use `rettype=\"fasta\"` to get the\n",
    "Fasta-format; see the [EFetch Sequences Help\n",
    "page](http://www.ncbi.nlm.nih.gov/entrez/query/static/efetchseq_help.html)\n",
    "for other options. Remember – the available formats depend on which\n",
    "database you are downloading from - see the main [EFetch Help\n",
    "page](http://eutils.ncbi.nlm.nih.gov/entrez/query/static/efetch_help.html).\n",
    "\n",
    "If you fetch the record in one of the formats accepted by `Bio.SeqIO`\n",
    "(see Chapter \\[chapter:Bio.SeqIO\\]), you could directly parse it into a\n",
    "`SeqRecord`:\n",
    "\n"
   ]
  },
  {
   "cell_type": "code",
   "execution_count": null,
   "metadata": {},
   "outputs": [],
   "source": [
    "from Bio import Entrez, SeqIO\n",
    "handle = Entrez.efetch(db=\"nucleotide\", id=\"186972394\", rettype=\"gb\", retmode=\"text\")\n",
    "record = SeqIO.read(handle, \"genbank\")\n",
    "handle.close()\n",
    "print(record)"
   ]
  },
  {
   "cell_type": "markdown",
   "metadata": {},
   "source": [
    "\n",
    "Note that a more typical use would be to save the sequence data to a\n",
    "local file, and *then* parse it with `Bio.SeqIO`. This can save you\n",
    "having to re-download the same file repeatedly while working on your\n",
    "script, and places less load on the NCBI’s servers. For example:\n",
    "\n"
   ]
  },
  {
   "cell_type": "code",
   "execution_count": null,
   "metadata": {},
   "outputs": [],
   "source": [
    "import os\n",
    "from Bio import SeqIO\n",
    "from Bio import Entrez\n",
    "Entrez.email = \"A.N.Other@example.com\"     # Always tell NCBI who you are\n",
    "filename = \"gi_186972394.gbk\"\n",
    "if not os.path.isfile(filename):\n",
    "    # Downloading...\n",
    "    with Entrez.efetch(db=\"nucleotide\",id=\"186972394\",rettype=\"gb\", retmode=\"text\") as net_handle:\n",
    "        with open(filename, \"w\") as out_handle:\n",
    "            out_handle.write(net_handle.read())\n",
    "        print(\"Saved\")\n",
    "\n",
    "print(\"Parsing...\")\n",
    "record = SeqIO.read(filename, \"genbank\")\n",
    "print(record)"
   ]
  },
  {
   "cell_type": "markdown",
   "metadata": {},
   "source": [
    "\n",
    "To get the output in XML format, which you can parse using the\n",
    "`Bio.Entrez.read()` function, use `retmode=\"xml\"`:\n",
    "\n"
   ]
  },
  {
   "cell_type": "code",
   "execution_count": null,
   "metadata": {},
   "outputs": [],
   "source": [
    "from Bio import Entrez\n",
    "handle = Entrez.efetch(db=\"nucleotide\", id=\"186972394\", retmode=\"xml\")\n",
    "record = Entrez.read(handle)\n",
    "handle.close()\n",
    "record[0][\"GBSeq_definition\"]"
   ]
  },
  {
   "cell_type": "code",
   "execution_count": null,
   "metadata": {},
   "outputs": [],
   "source": [
    "record[0][\"GBSeq_source\"]"
   ]
  },
  {
   "cell_type": "markdown",
   "metadata": {},
   "source": [
    "\n",
    "So, that dealt with sequences. For examples of parsing file formats\n",
    "specific to the other databases (e.g. the `MEDLINE` format used in\n",
    "PubMed), see Section [Specialized parsers](#Specialized-parsers).\n",
    "\n",
    "If you want to perform a search with `Bio.Entrez.esearch()`, and then\n",
    "download the records with `Bio.Entrez.efetch()`, you should use the\n",
    "WebEnv history feature – see Section [History and WebEnv](#Using-the-history-and-WebEnv).\n",
    "\n",
    "## ELink: Searching for related items in NCBI Entrez\n",
    "\n",
    "ELink, available from Biopython as `Bio.Entrez.elink()`, can be used to\n",
    "find related items in the NCBI Entrez databases. For example, you can us\n",
    "this to find nucleotide entries for an entry in the gene database, and\n",
    "other cool stuff.\n",
    "\n",
    "Let’s use ELink to find articles related to the Biopython application\n",
    "note published in *Bioinformatics* in 2009. The PubMed ID of this\n",
    "article is 19304878:\n",
    "\n"
   ]
  },
  {
   "cell_type": "code",
   "execution_count": null,
   "metadata": {},
   "outputs": [],
   "source": [
    "from Bio import Entrez\n",
    "Entrez.email = \"A.N.Other@example.com\"\n",
    "pmid = \"19304878\"\n",
    "record = Entrez.read(Entrez.elink(dbfrom=\"pubmed\", id=pmid))\n",
    "print(record[0].keys())\n",
    "print('The record is from the {} database.'.format(record[0][\"DbFrom\"]))\n",
    "print('The IdList is {}.'.format(record[0][\"IdList\"]))"
   ]
  },
  {
   "cell_type": "markdown",
   "metadata": {},
   "source": [
    "\n",
    "The `record` variable consists of a Python list, one for each database\n",
    "in which we searched. Since we specified only one PubMed ID to search\n",
    "for, `record` contains only one item. This item is a dictionary\n",
    "containing information about our search term, as well as all the related\n",
    "items that were found:\n",
    "\n"
   ]
  },
  {
   "cell_type": "markdown",
   "metadata": {},
   "source": [
    "\n",
    "The `\"LinkSetDb\"` key contains the search results, stored as a list\n",
    "consisting of one item for each target database. In our search results,\n",
    "we only find hits in the PubMed database (although sub-divided into\n",
    "categories):\n",
    "\n"
   ]
  },
  {
   "cell_type": "code",
   "execution_count": null,
   "metadata": {},
   "outputs": [],
   "source": [
    "print('There are {} search results'.format(len(record[0][\"LinkSetDb\"])))\n",
    "for linksetdb in record[0][\"LinkSetDb\"]:\n",
    "    print(linksetdb[\"DbTo\"], linksetdb[\"LinkName\"], len(linksetdb[\"Link\"]))"
   ]
  },
  {
   "cell_type": "markdown",
   "metadata": {},
   "source": [
    "\n",
    "The actual search results are stored as under the `\"Link\"` key. In\n",
    "total, 110 items were found under standard search. Let’s now at the\n",
    "first search result:\n",
    "\n"
   ]
  },
  {
   "cell_type": "code",
   "execution_count": null,
   "metadata": {},
   "outputs": [],
   "source": [
    "record[0][\"LinkSetDb\"][0][\"Link\"][0]"
   ]
  },
  {
   "cell_type": "markdown",
   "metadata": {},
   "source": [
    "\n",
    "This is the article we searched for, which doesn’t help us much, so\n",
    "let’s look at the second search result:\n",
    "\n"
   ]
  },
  {
   "cell_type": "code",
   "execution_count": null,
   "metadata": {},
   "outputs": [],
   "source": [
    "record[0][\"LinkSetDb\"][0][\"Link\"][1]"
   ]
  },
  {
   "cell_type": "markdown",
   "metadata": {},
   "source": [
    "\n",
    "This paper, with PubMed ID 14630660, is about the Biopython PDB parser.\n",
    "\n",
    "We can use a loop to print out all PubMed IDs:\n",
    "\n"
   ]
  },
  {
   "cell_type": "code",
   "execution_count": null,
   "metadata": {},
   "outputs": [],
   "source": [
    "for link in record[0][\"LinkSetDb\"][0][\"Link\"]:\n",
    "    print(link[\"Id\"])"
   ]
  },
  {
   "cell_type": "markdown",
   "metadata": {},
   "source": [
    "\n",
    "Now that was nice, but personally I am often more interested to find out\n",
    "if a paper has been cited. Well, ELink can do that too – at least for\n",
    "journals in Pubmed Central (see Section \\[sec:elink-citations\\]).\n",
    "\n",
    "For help on ELink, see the [ELink help\n",
    "page](http://www.ncbi.nlm.nih.gov/entrez/query/static/elink_help.html).\n",
    "There is an entire sub-page just for the [link\n",
    "names](http://eutils.ncbi.nlm.nih.gov/corehtml/query/static/entrezlinks.html),\n",
    "describing how different databases can be cross referenced.\n",
    "\n",
    "EGQuery: Global Query - counts for search terms\n",
    "-----------------------------------------------\n",
    "\n",
    "EGQuery provides counts for a search term in each of the Entrez\n",
    "databases (i.e. a global query). This is particularly useful to find out\n",
    "how many items your search terms would find in each database without\n",
    "actually performing lots of separate searches with ESearch (see the\n",
    "example in \\[subsec:entrez\\_example\\_genbank\\] below).\n",
    "\n",
    "In this example, we use `Bio.Entrez.egquery()` to obtain the counts for\n",
    "“Biopython”:\n",
    "\n"
   ]
  },
  {
   "cell_type": "code",
   "execution_count": null,
   "metadata": {},
   "outputs": [],
   "source": [
    "from Bio import Entrez\n",
    "Entrez.email = \"A.N.Other@example.com\"     # Always tell NCBI who you are\n",
    "handle = Entrez.egquery(term=\"biopython\")\n",
    "record = Entrez.read(handle)\n",
    "for row in record[\"eGQueryResult\"]:\n",
    "    print(row[\"DbName\"], row[\"Count\"])"
   ]
  },
  {
   "cell_type": "markdown",
   "metadata": {},
   "source": [
    "\n",
    "See the [EGQuery help\n",
    "page](http://www.ncbi.nlm.nih.gov/entrez/query/static/egquery_help.html)\n",
    "for more information.\n",
    "\n",
    "ESpell: Obtaining spelling suggestions\n",
    "--------------------------------------\n",
    "\n",
    "ESpell retrieves spelling suggestions. In this example, we use\n",
    "`Bio.Entrez.espell()` to obtain the correct spelling of Biopython:\n",
    "\n"
   ]
  },
  {
   "cell_type": "code",
   "execution_count": null,
   "metadata": {},
   "outputs": [],
   "source": [
    "from Bio import Entrez\n",
    "Entrez.email = \"A.N.Other@example.com\"     # Always tell NCBI who you are\n",
    "handle = Entrez.espell(term=\"biopythooon\")\n",
    "record = Entrez.read(handle)\n",
    "record[\"Query\"]"
   ]
  },
  {
   "cell_type": "code",
   "execution_count": null,
   "metadata": {},
   "outputs": [],
   "source": [
    "record[\"CorrectedQuery\"]"
   ]
  },
  {
   "cell_type": "markdown",
   "metadata": {},
   "source": [
    "\n",
    "See the [ESpell help\n",
    "page](http://www.ncbi.nlm.nih.gov/entrez/query/static/espell_help.html)\n",
    "for more information. The main use of this is for GUI tools to provide\n",
    "automatic suggestions for search terms.\n",
    "\n",
    "Parsing huge Entrez XML files\n",
    "-----------------------------\n",
    "\n",
    "The `Entrez.read` function reads the entire XML file returned by Entrez\n",
    "into a single Python object, which is kept in memory. To parse Entrez\n",
    "XML files too large to fit in memory, you can use the function\n",
    "`Entrez.parse`. This is a generator function that reads records in the\n",
    "XML file one by one. This function is only useful if the XML file\n",
    "reflects a Python list object (in other words, if `Entrez.read` on a\n",
    "computer with infinite memory resources would return a Python list).\n",
    "\n",
    "For example, you can download the entire Entrez Gene database for a\n",
    "given organism as a file from NCBI’s ftp site. These files can be very\n",
    "large. As an example, on September 4, 2009, the file\n",
    "`Homo_sapiens.ags.gz`, containing the Entrez Gene database for human,\n",
    "had a size of 116576 kB. This file, which is in the `ASN` format, can be\n",
    "converted into an XML file using NCBI’s `gene2xml` program (see NCBI’s\n",
    "ftp site for more information):\n",
    "\n"
   ]
  },
  {
   "cell_type": "markdown",
   "metadata": {},
   "source": [
    "```\n",
    "gene2xml -b T -i Homo_sapiens.ags -o Homo_sapiens.xml\n",
    "\n",
    "```"
   ]
  },
  {
   "cell_type": "markdown",
   "metadata": {},
   "source": [
    "\n",
    "The resulting XML file has a size of 6.1 GB. Attempting `Entrez.read` on\n",
    "this file will result in a `MemoryError` on many computers.\n",
    "\n",
    "The XML file `Homo_sapiens.xml` consists of a list of Entrez gene\n",
    "records, each corresponding to one Entrez gene in human. `Entrez.parse`\n",
    "retrieves these gene records one by one. You can then print out or store\n",
    "the relevant information in each record by iterating over the records.\n",
    "For example, this script iterates over the Entrez gene records and\n",
    "prints out the gene numbers and names for all current genes:\n",
    "\n"
   ]
  },
  {
   "cell_type": "markdown",
   "metadata": {},
   "source": [
    "<font color='red'>TODO: need alternate example, download option or ...</font>"
   ]
  },
  {
   "cell_type": "markdown",
   "metadata": {},
   "source": [
    "```python\n",
    "from Bio import Entrez\n",
    "handle = open(\"Homo_sapiens.xml\")\n",
    "records = Entrez.parse(handle)\n",
    "```"
   ]
  },
  {
   "cell_type": "markdown",
   "metadata": {},
   "source": [
    "```python\n",
    "for record in records:\n",
    "    status = record['Entrezgene_track-info']['Gene-track']['Gene-track_status']\n",
    "    if status.attributes['value']=='discontinued':\n",
    "        continue\n",
    "    geneid = record['Entrezgene_track-info']['Gene-track']['Gene-track_geneid']\n",
    "    genename = record['Entrezgene_gene']['Gene-ref']['Gene-ref_locus']\n",
    "    print(geneid, genename)\n",
    "```"
   ]
  },
  {
   "cell_type": "markdown",
   "metadata": {},
   "source": [
    "\n",
    "This will print:\n",
    "\n"
   ]
  },
  {
   "cell_type": "markdown",
   "metadata": {},
   "source": [
    "```\n",
    "1 A1BG\n",
    "2 A2M\n",
    "3 A2MP\n",
    "8 AA\n",
    "9 NAT1\n",
    "10 NAT2\n",
    "11 AACP\n",
    "12 SERPINA3\n",
    "13 AADAC\n",
    "14 AAMP\n",
    "15 AANAT\n",
    "16 AARS\n",
    "17 AAVS1\n",
    "...\n",
    "\n",
    "```"
   ]
  },
  {
   "cell_type": "markdown",
   "metadata": {},
   "source": [
    "\n",
    "Handling errors\n",
    "---------------\n",
    "\n",
    "Three things can go wrong when parsing an XML file:\n",
    "\n",
    "-   The file may not be an XML file to begin with;\n",
    "\n",
    "-   The file may end prematurely or otherwise be corrupted;\n",
    "\n",
    "-   The file may be correct XML, but contain items that are not\n",
    "    represented in the associated DTD.\n",
    "\n",
    "The first case occurs if, for example, you try to parse a Fasta file as\n",
    "if it were an XML file:\n",
    "\n"
   ]
  },
  {
   "cell_type": "code",
   "execution_count": null,
   "metadata": {},
   "outputs": [],
   "source": [
    "from Bio import Entrez\n",
    "from Bio.Entrez.Parser import NotXMLError\n",
    "handle = open(\"data/NC_005816.fna\", 'rb') # a Fasta file\n",
    "try:\n",
    "    record = Entrez.read(handle)\n",
    "except NotXMLError as e:\n",
    "    print('We are expecting to get NotXMLError')\n",
    "    print(e)"
   ]
  },
  {
   "cell_type": "markdown",
   "metadata": {},
   "source": [
    "\n",
    "Here, the parser didn’t find the `<?xml ...` tag with which an XML file\n",
    "is supposed to start, and therefore decides (correctly) that the file is\n",
    "not an XML file.\n",
    "\n",
    "When your file is in the XML format but is corrupted (for example, by\n",
    "ending prematurely), the parser will raise a CorruptedXMLError. Here is\n",
    "an example of an XML file that ends prematurely:\n",
    "\n"
   ]
  },
  {
   "cell_type": "markdown",
   "metadata": {},
   "source": [
    "```xml\n",
    "<?xml version=\"1.0\"?>\n",
    "<!DOCTYPE eInfoResult PUBLIC \"-//NLM//DTD eInfoResult, 11 May 2002//EN\" \"http://www.ncbi.nlm.nih.gov/entrez/query/DTD/eInfo_020511.dtd\">\n",
    "<eInfoResult>\n",
    "<DbList>\n",
    "        <DbName>pubmed</DbName>\n",
    "        <DbName>protein</DbName>\n",
    "        <DbName>nucleotide</DbName>\n",
    "        <DbName>nuccore</DbName>\n",
    "        <DbName>nucgss</DbName>\n",
    "        <DbName>nucest</DbName>\n",
    "        <DbName>structure</DbName>\n",
    "        <DbName>genome</DbName>\n",
    "        <DbName>books</DbName>\n",
    "        <DbName>cancerchromosomes</DbName>\n",
    "        <DbName>cdd</DbName>\n",
    "\n",
    "```"
   ]
  },
  {
   "cell_type": "markdown",
   "metadata": {},
   "source": [
    "\n",
    "which will generate the following traceback:\n",
    "\n"
   ]
  },
  {
   "cell_type": "markdown",
   "metadata": {},
   "source": [
    "```python\n",
    "---------------------------------------------------------------------------\n",
    "ExpatError                                Traceback (most recent call last)\n",
    "/Users/vincentdavis/anaconda/envs/py35/lib/python3.5/site-packages/Bio/Entrez/Parser.py in read(self, handle)\n",
    "    214         try:\n",
    "--> 215             self.parser.ParseFile(handle)\n",
    "    216         except expat.ExpatError as e:\n",
    "\n",
    "ExpatError: syntax error: line 1, column 0\n",
    "\n",
    "During handling of the above exception, another exception occurred:\n",
    "\n",
    "NotXMLError                               Traceback (most recent call last)\n",
    "<ipython-input-63-ac0523d72453> in <module>()\n",
    "----> 1 Entrez.read(handle)\n",
    "\n",
    "/Users/vincentdavis/anaconda/envs/py35/lib/python3.5/site-packages/Bio/Entrez/__init__.py in read(handle, validate)\n",
    "    419     from .Parser import DataHandler\n",
    "    420     handler = DataHandler(validate)\n",
    "--> 421     record = handler.read(handle)\n",
    "    422     return record\n",
    "    423 \n",
    "\n",
    "/Users/vincentdavis/anaconda/envs/py35/lib/python3.5/site-packages/Bio/Entrez/Parser.py in read(self, handle)\n",
    "    223                 # We have not seen the initial <!xml declaration, so probably\n",
    "    224                 # the input data is not in XML format.\n",
    "--> 225                 raise NotXMLError(e)\n",
    "    226         try:\n",
    "    227             return self.object\n",
    "\n",
    "NotXMLError: Failed to parse the XML data (syntax error: line 1, column 0). Please make sure that the input data are in XML format.\n",
    "```"
   ]
  },
  {
   "cell_type": "markdown",
   "metadata": {},
   "source": [
    "\n",
    "Note that the error message tells you at what point in the XML file the\n",
    "error was detected.\n",
    "\n",
    "The third type of error occurs if the XML file contains tags that do not\n",
    "have a description in the corresponding DTD file. This is an example of\n",
    "such an XML file:\n",
    "\n"
   ]
  },
  {
   "cell_type": "markdown",
   "metadata": {},
   "source": [
    "```xml\n",
    "<?xml version=\"1.0\"?>\n",
    "<!DOCTYPE eInfoResult PUBLIC \"-//NLM//DTD eInfoResult, 11 May 2002//EN\" \"http://www.ncbi.nlm.nih.gov/entrez/query/DTD/eInfo_020511.dtd\">\n",
    "<eInfoResult>\n",
    "        <DbInfo>\n",
    "        <DbName>pubmed</DbName>\n",
    "        <MenuName>PubMed</MenuName>\n",
    "        <Description>PubMed bibliographic record</Description>\n",
    "        <Count>20161961</Count>\n",
    "        <LastUpdate>2010/09/10 04:52</LastUpdate>\n",
    "        <FieldList>\n",
    "                <Field>\n",
    "...\n",
    "                </Field>\n",
    "        </FieldList>\n",
    "        <DocsumList>\n",
    "                <Docsum>\n",
    "                        <DsName>PubDate</DsName>\n",
    "                        <DsType>4</DsType>\n",
    "                        <DsTypeName>string</DsTypeName>\n",
    "                </Docsum>\n",
    "                <Docsum>\n",
    "                        <DsName>EPubDate</DsName>\n",
    "...\n",
    "        </DbInfo>\n",
    "</eInfoResult>\n",
    "\n",
    "```"
   ]
  },
  {
   "cell_type": "markdown",
   "metadata": {},
   "source": [
    "\n",
    "In this file, for some reason the tag `<DocsumList>` (and several\n",
    "others) are not listed in the DTD file `eInfo_020511.dtd`, which is\n",
    "specified on the second line as the DTD for this XML file. By default,\n",
    "the parser will stop and raise a ValidationError if it cannot find some\n",
    "tag in the DTD:\n",
    "\n"
   ]
  },
  {
   "cell_type": "markdown",
   "metadata": {},
   "source": [
    "```python\n",
    "from Bio import Entrez\n",
    "handle = open(\"data/einfo3.xml\", 'rb')\n",
    "record = Entrez.read(handle)\n",
    "```"
   ]
  },
  {
   "cell_type": "markdown",
   "metadata": {},
   "source": [
    "```python\n",
    "---------------------------------------------------------------------------\n",
    "ValidationError                           Traceback (most recent call last)\n",
    "<ipython-input-65-cfb96ec3d2ca> in <module>()\n",
    "      1 from Bio import Entrez\n",
    "      2 handle = open(\"data/einfo3.xml\", 'rb')\n",
    "----> 3 record = Entrez.read(handle)\n",
    "\n",
    "/Users/vincentdavis/anaconda/envs/py35/lib/python3.5/site-packages/Bio/Entrez/__init__.py in read(handle, validate)\n",
    "    419     from .Parser import DataHandler\n",
    "    420     handler = DataHandler(validate)\n",
    "--> 421     record = handler.read(handle)\n",
    "    422     return record\n",
    "    423 \n",
    "\n",
    "/Users/vincentdavis/anaconda/envs/py35/lib/python3.5/site-packages/Bio/Entrez/Parser.py in read(self, handle)\n",
    "    213             raise IOError(\"Can't parse a closed handle\")\n",
    "    214         try:\n",
    "--> 215             self.parser.ParseFile(handle)\n",
    "    216         except expat.ExpatError as e:\n",
    "    217             if self.parser.StartElementHandler:\n",
    "\n",
    "-------src-dir--------/Python-3.5.1/Modules/pyexpat.c in StartElement()\n",
    "\n",
    "/Users/vincentdavis/anaconda/envs/py35/lib/python3.5/site-packages/Bio/Entrez/Parser.py in startElementHandler(self, name, attrs)\n",
    "    348             # Element not found in DTD\n",
    "    349             if self.validating:\n",
    "--> 350                 raise ValidationError(name)\n",
    "    351             else:\n",
    "    352                 # this will not be stored in the record\n",
    "\n",
    "ValidationError: Failed to find tag 'DocsumList' in the DTD. To skip all tags that are not represented in the DTD, please call Bio.Entrez.read or Bio.Entrez.parse with validate=False.\n",
    "```"
   ]
  },
  {
   "cell_type": "markdown",
   "metadata": {},
   "source": [
    "\n",
    "Optionally, you can instruct the parser to skip such tags instead of\n",
    "raising a ValidationError. This is done by calling `Entrez.read` or\n",
    "`Entrez.parse` with the argument `validate` equal to False:\n",
    "\n"
   ]
  },
  {
   "cell_type": "code",
   "execution_count": null,
   "metadata": {},
   "outputs": [],
   "source": [
    "from Bio import Entrez\n",
    "handle = open(\"data/einfo3.xml\", 'rb')\n",
    "record = Entrez.read(handle, validate=False)"
   ]
  },
  {
   "cell_type": "markdown",
   "metadata": {},
   "source": [
    "\n",
    "Of course, the information contained in the XML tags that are not in the\n",
    "DTD are not present in the record returned by `Entrez.read`.\n",
    "\n",
    "Specialized parsers\n",
    "------------------\n",
    "\n",
    "The `Bio.Entrez.read()` function can parse most (if not all) XML output\n",
    "returned by Entrez. Entrez typically allows you to retrieve records in\n",
    "other formats, which may have some advantages compared to the XML format\n",
    "in terms of readability (or download size).\n",
    "\n",
    "To request a specific file format from Entrez using\n",
    "`Bio.Entrez.efetch()` requires specifying the `rettype` and/or `retmode`\n",
    "optional arguments. The different combinations are described for each\n",
    "database type on the [NCBI efetch\n",
    "webpage](http://www.ncbi.nlm.nih.gov/entrez/query/static/efetch_help.html).\n",
    "\n",
    "One obvious case is you may prefer to download sequences in the FASTA or\n",
    "GenBank/GenPept plain text formats (which can then be parsed with\n",
    "`Bio.SeqIO`, see Sections \\[sec:SeqIO\\_GenBank\\_Online\\]\n",
    "and [EFetch: Downloading full records from Entrez](#EFetch:-Downloading-full-records-from-Entrez)). For the literature databases, Biopython contains a\n",
    "parser for the `MEDLINE` format used in PubMed.\n",
    "\n",
    "### Parsing Medline records {#subsec:entrez-and-medline}\n",
    "\n",
    "You can find the Medline parser in `Bio.Medline`. Suppose we want to\n",
    "parse the file `pubmed_result1.txt`, containing one Medline record. You\n",
    "can find this file in Biopython’s `Tests\\Medline` directory. The file\n",
    "looks like this:\n",
    "\n"
   ]
  },
  {
   "cell_type": "markdown",
   "metadata": {},
   "source": [
    "```\n",
    "PMID- 12230038\n",
    "OWN - NLM\n",
    "STAT- MEDLINE\n",
    "DA  - 20020916\n",
    "DCOM- 20030606\n",
    "LR  - 20041117\n",
    "PUBM- Print\n",
    "IS  - 1467-5463 (Print)\n",
    "VI  - 3\n",
    "IP  - 3\n",
    "DP  - 2002 Sep\n",
    "TI  - The Bio* toolkits--a brief overview.\n",
    "PG  - 296-302\n",
    "AB  - Bioinformatics research is often difficult to do with commercial software. The\n",
    "      Open Source BioPerl, BioPython and Biojava projects provide toolkits with\n",
    "...\n",
    "\n",
    "```"
   ]
  },
  {
   "cell_type": "markdown",
   "metadata": {},
   "source": [
    "\n",
    "We first open the file and then parse it:\n",
    "\n"
   ]
  },
  {
   "cell_type": "code",
   "execution_count": null,
   "metadata": {},
   "outputs": [],
   "source": [
    "from Bio import Medline\n",
    "with open(\"data/pubmed_result1.txt\") as handle:\n",
    "    record = Medline.read(handle)"
   ]
  },
  {
   "cell_type": "markdown",
   "metadata": {},
   "source": [
    "\n",
    "The `record` now contains the Medline record as a Python dictionary:\n",
    "\n"
   ]
  },
  {
   "cell_type": "code",
   "execution_count": null,
   "metadata": {},
   "outputs": [],
   "source": [
    "record[\"PMID\"]"
   ]
  },
  {
   "cell_type": "markdown",
   "metadata": {},
   "source": [
    "\n"
   ]
  },
  {
   "cell_type": "code",
   "execution_count": null,
   "metadata": {},
   "outputs": [],
   "source": [
    "record[\"AB\"]"
   ]
  },
  {
   "cell_type": "markdown",
   "metadata": {},
   "source": [
    "\n",
    "The key names used in a Medline record can be rather obscure; use\n",
    "\n"
   ]
  },
  {
   "cell_type": "code",
   "execution_count": null,
   "metadata": {},
   "outputs": [],
   "source": [
    "help(record)"
   ]
  },
  {
   "cell_type": "markdown",
   "metadata": {},
   "source": [
    "\n",
    "for a brief summary.\n",
    "\n",
    "To parse a file containing multiple Medline records, you can use the\n",
    "`parse` function instead:\n",
    "\n"
   ]
  },
  {
   "cell_type": "code",
   "execution_count": null,
   "metadata": {},
   "outputs": [],
   "source": [
    "from Bio import Medline\n",
    "with open(\"data/pubmed_result2.txt\") as handle:\n",
    "    for record in Medline.parse(handle):\n",
    "        print(record[\"TI\"])"
   ]
  },
  {
   "cell_type": "markdown",
   "metadata": {},
   "source": [
    "\n",
    "Instead of parsing Medline records stored in files, you can also parse\n",
    "Medline records downloaded by `Bio.Entrez.efetch`. For example, let’s\n",
    "look at all Medline records in PubMed related to Biopython:\n",
    "\n"
   ]
  },
  {
   "cell_type": "code",
   "execution_count": null,
   "metadata": {},
   "outputs": [],
   "source": [
    "from Bio import Entrez\n",
    "Entrez.email = \"A.N.Other@example.com\"     # Always tell NCBI who you are\n",
    "handle = Entrez.esearch(db=\"pubmed\", term=\"biopython\")\n",
    "record = Entrez.read(handle)\n",
    "record[\"IdList\"]"
   ]
  },
  {
   "cell_type": "markdown",
   "metadata": {},
   "source": [
    "\n",
    "We now use `Bio.Entrez.efetch` to download these Medline records:\n",
    "\n"
   ]
  },
  {
   "cell_type": "code",
   "execution_count": null,
   "metadata": {},
   "outputs": [],
   "source": [
    "idlist = record[\"IdList\"]\n",
    "handle = Entrez.efetch(db=\"pubmed\", id=idlist, rettype=\"medline\", retmode=\"text\")"
   ]
  },
  {
   "cell_type": "markdown",
   "metadata": {},
   "source": [
    "\n",
    "Here, we specify `rettype=\"medline\", retmode=\"text\"` to obtain the\n",
    "Medline records in plain-text Medline format. Now we use `Bio.Medline`\n",
    "to parse these records:\n",
    "\n"
   ]
  },
  {
   "cell_type": "code",
   "execution_count": null,
   "metadata": {},
   "outputs": [],
   "source": [
    "from Bio import Medline\n",
    "records = Medline.parse(handle)\n",
    "for record in records:\n",
    "    print(record[\"AU\"])"
   ]
  },
  {
   "cell_type": "markdown",
   "metadata": {},
   "source": [
    "\n",
    "For comparison, here we show an example using the XML format:\n",
    "\n"
   ]
  },
  {
   "cell_type": "code",
   "execution_count": null,
   "metadata": {},
   "outputs": [],
   "source": [
    "from Bio import Entrez\n",
    "Entrez.email = \"A.N.Other@example.com\"     # Always tell NCBI who you are\n",
    "handle = Entrez.esearch(db=\"pubmed\", term=\"biopython\")\n",
    "record = Entrez.read(handle)\n",
    "idlist = record[\"IdList\"]\n",
    "handle = Entrez.efetch(db=\"pubmed\", id=idlist, rettype=\"medline\", retmode=\"xml\")\n",
    "records = Entrez.read(handle)\n",
    "for record in records:\n",
    "    print(record[\"MedlineCitation\"][\"Article\"][\"ArticleTitle\"])"
   ]
  },
  {
   "cell_type": "markdown",
   "metadata": {},
   "source": [
    "\n",
    "Note that in both of these examples, for simplicity we have naively\n",
    "combined ESearch and EFetch. In this situation, the NCBI would expect\n",
    "you to use their history feature, as illustrated in\n",
    "Section [History and WebEnv](#Using-the-history-and-WebEnv).\n",
    "\n",
    "### Parsing GEO records\n",
    "\n",
    "GEO ([Gene Expression Omnibus](http://www.ncbi.nlm.nih.gov/geo/)) is a\n",
    "data repository of high-throughput gene expression and hybridization\n",
    "array data. The `Bio.Geo` module can be used to parse GEO-formatted\n",
    "data.\n",
    "\n",
    "The following code fragment shows how to parse the example GEO file\n",
    "`GSE16.txt` into a record and print the record:\n",
    "\n"
   ]
  },
  {
   "cell_type": "code",
   "execution_count": null,
   "metadata": {},
   "outputs": [],
   "source": [
    "from Bio import Geo\n",
    "handle = open(\"data/GSE16.txt\")\n",
    "records = Geo.parse(handle)\n",
    "for record in records:\n",
    "    print(record)"
   ]
  },
  {
   "cell_type": "markdown",
   "metadata": {},
   "source": [
    "\n",
    "You can search the “gds” database (GEO datasets) with ESearch:\n",
    "\n"
   ]
  },
  {
   "cell_type": "code",
   "execution_count": null,
   "metadata": {},
   "outputs": [],
   "source": [
    "from Bio import Entrez\n",
    "Entrez.email = \"A.N.Other@example.com\" # Always tell NCBI who you are\n",
    "handle = Entrez.esearch(db=\"gds\", term=\"GSE16\")\n",
    "record = Entrez.read(handle)\n",
    "record[\"Count\"]"
   ]
  },
  {
   "cell_type": "code",
   "execution_count": null,
   "metadata": {},
   "outputs": [],
   "source": [
    "record[\"IdList\"]"
   ]
  },
  {
   "cell_type": "markdown",
   "metadata": {},
   "source": [
    "\n",
    "From the Entrez website, UID “200000016” is GDS16 while the other hit\n",
    "“100000028” is for the associated platform, GPL28. Unfortunately, at the\n",
    "time of writing the NCBI don’t seem to support downloading GEO files\n",
    "using Entrez (not as XML, nor in the *Simple Omnibus Format in Text*\n",
    "(SOFT) format).\n",
    "\n",
    "However, it is actually pretty straight forward to download the GEO\n",
    "files by FTP or HTTP from [http://ftp.ncbi.nih.gov/pub/geo/](http://ftp.ncbi.nih.gov/pub/geo/) instead. In this\n",
    "case you might want\n",
    "[http://ftp.ncbi.nih.gov/pub/geo/DATA/SOFT/by_series/GSE16/GSE16_family.soft.gz](http://ftp.ncbi.nih.gov/pub/geo/DATA/SOFT/by_series/GSE16/GSE16_family.soft.gz)\n",
    "(a compressed file, see the Python module gzip).\n",
    "\n",
    "### Parsing UniGene records\n",
    "\n",
    "UniGene is an NCBI database of the transcriptome, with each UniGene\n",
    "record showing the set of transcripts that are associated with a\n",
    "particular gene in a specific organism. A typical UniGene record looks\n",
    "like this:\n",
    "\n"
   ]
  },
  {
   "cell_type": "markdown",
   "metadata": {},
   "source": [
    "```\n",
    "ID          Hs.2\n",
    "TITLE       N-acetyltransferase 2 (arylamine N-acetyltransferase)\n",
    "GENE        NAT2\n",
    "CYTOBAND    8p22\n",
    "GENE_ID     10\n",
    "LOCUSLINK   10\n",
    "HOMOL       YES\n",
    "EXPRESS      bone| connective tissue| intestine| liver| liver tumor| normal| soft tissue/muscle tissue tumor| adult\n",
    "RESTR_EXPR   adult\n",
    "CHROMOSOME  8\n",
    "STS         ACC=PMC310725P3 UNISTS=272646\n",
    "STS         ACC=WIAF-2120 UNISTS=44576\n",
    "STS         ACC=G59899 UNISTS=137181\n",
    "...\n",
    "STS         ACC=GDB:187676 UNISTS=155563\n",
    "PROTSIM     ORG=10090; PROTGI=6754794; PROTID=NP_035004.1; PCT=76.55; ALN=288\n",
    "PROTSIM     ORG=9796; PROTGI=149742490; PROTID=XP_001487907.1; PCT=79.66; ALN=288\n",
    "PROTSIM     ORG=9986; PROTGI=126722851; PROTID=NP_001075655.1; PCT=76.90; ALN=288\n",
    "...\n",
    "PROTSIM     ORG=9598; PROTGI=114619004; PROTID=XP_519631.2; PCT=98.28; ALN=288\n",
    "\n",
    "SCOUNT      38\n",
    "SEQUENCE    ACC=BC067218.1; NID=g45501306; PID=g45501307; SEQTYPE=mRNA\n",
    "SEQUENCE    ACC=NM_000015.2; NID=g116295259; PID=g116295260; SEQTYPE=mRNA\n",
    "SEQUENCE    ACC=D90042.1; NID=g219415; PID=g219416; SEQTYPE=mRNA\n",
    "SEQUENCE    ACC=D90040.1; NID=g219411; PID=g219412; SEQTYPE=mRNA\n",
    "SEQUENCE    ACC=BC015878.1; NID=g16198419; PID=g16198420; SEQTYPE=mRNA\n",
    "SEQUENCE    ACC=CR407631.1; NID=g47115198; PID=g47115199; SEQTYPE=mRNA\n",
    "SEQUENCE    ACC=BG569293.1; NID=g13576946; CLONE=IMAGE:4722596; END=5'; LID=6989; SEQTYPE=EST; TRACE=44157214\n",
    "...\n",
    "SEQUENCE    ACC=AU099534.1; NID=g13550663; CLONE=HSI08034; END=5'; LID=8800; SEQTYPE=EST\n",
    "//\n",
    "\n",
    "```"
   ]
  },
  {
   "cell_type": "markdown",
   "metadata": {},
   "source": [
    "\n",
    "This particular record shows the set of transcripts (shown in the\n",
    "`SEQUENCE` lines) that originate from the human gene NAT2, encoding en\n",
    "N-acetyltransferase. The `PROTSIM` lines show proteins with significant\n",
    "similarity to NAT2, whereas the `STS` lines show the corresponding\n",
    "sequence-tagged sites in the genome.\n",
    "\n",
    "To parse UniGene files, use the `Bio.UniGene` module:\n",
    "\n"
   ]
  },
  {
   "cell_type": "markdown",
   "metadata": {},
   "source": [
    "<font color='red'>TODO: Need a working example</font>"
   ]
  },
  {
   "cell_type": "code",
   "execution_count": null,
   "metadata": {},
   "outputs": [],
   "source": [
    "# from Bio import UniGene\n",
    "# input = open(\"data/myunigenefile.data\")\n",
    "# record = UniGene.read(input)"
   ]
  },
  {
   "cell_type": "markdown",
   "metadata": {},
   "source": [
    "\n",
    "The `record` returned by `UniGene.read` is a Python object with\n",
    "attributes corresponding to the fields in the UniGene record. For\n",
    "example,\n",
    "\n"
   ]
  },
  {
   "cell_type": "code",
   "execution_count": null,
   "metadata": {},
   "outputs": [],
   "source": [
    "# record.ID"
   ]
  },
  {
   "cell_type": "code",
   "execution_count": null,
   "metadata": {},
   "outputs": [],
   "source": [
    "# record.title"
   ]
  },
  {
   "cell_type": "markdown",
   "metadata": {},
   "source": [
    "\n",
    "The `EXPRESS` and `RESTR_EXPR` lines are stored as Python lists of\n",
    "strings:\n",
    "\n"
   ]
  },
  {
   "cell_type": "markdown",
   "metadata": {},
   "source": [
    "```\n",
    "['bone', 'connective tissue', 'intestine', 'liver', 'liver tumor', 'normal', 'soft tissue/muscle tissue tumor', 'adult']\n",
    "\n",
    "```"
   ]
  },
  {
   "cell_type": "markdown",
   "metadata": {},
   "source": [
    "\n",
    "Specialized objects are returned for the `STS`, `PROTSIM`, and\n",
    "`SEQUENCE` lines, storing the keys shown in each line as attributes:\n",
    "\n"
   ]
  },
  {
   "cell_type": "code",
   "execution_count": null,
   "metadata": {},
   "outputs": [],
   "source": [
    "# record.sts[0].acc"
   ]
  },
  {
   "cell_type": "code",
   "execution_count": null,
   "metadata": {},
   "outputs": [],
   "source": [
    "# record.sts[0].unists"
   ]
  },
  {
   "cell_type": "markdown",
   "metadata": {},
   "source": [
    "\n",
    "and similarly for the `PROTSIM` and `SEQUENCE` lines.\n",
    "\n",
    "To parse a file containing more than one UniGene record, use the `parse`\n",
    "function in `Bio.UniGene`:\n",
    "\n"
   ]
  },
  {
   "cell_type": "markdown",
   "metadata": {},
   "source": [
    "<font color='red'>TODO: Need a working example</font>"
   ]
  },
  {
   "cell_type": "code",
   "execution_count": null,
   "metadata": {},
   "outputs": [],
   "source": [
    "# from Bio import UniGene\n",
    "# input = open(\"unigenerecords.data\")\n",
    "# records = UniGene.parse(input)\n",
    "# for record in records:\n",
    "#     print(record.ID)"
   ]
  },
  {
   "cell_type": "markdown",
   "metadata": {},
   "source": [
    "\n",
    "Using a proxy\n",
    "-------------\n",
    "\n",
    "Normally you won’t have to worry about using a proxy, but if this is an\n",
    "issue on your network here is how to deal with it. Internally,\n",
    "`Bio.Entrez` uses the standard Python library `urllib` for accessing the\n",
    "NCBI servers. This will check an environment variable called\n",
    "`http_proxy` to configure any simple proxy automatically. Unfortunately\n",
    "this module does not support the use of proxies which require\n",
    "authentication.\n",
    "\n",
    "You may choose to set the `http_proxy` environment variable once (how\n",
    "you do this will depend on your operating system). Alternatively you can\n",
    "set this within Python at the start of your script, for example:\n",
    "\n"
   ]
  },
  {
   "cell_type": "markdown",
   "metadata": {},
   "source": [
    "```\n",
    "import os\n",
    "os.environ[\"http_proxy\"] = \"http://proxyhost.example.com:8080\"\n",
    "\n",
    "```"
   ]
  },
  {
   "cell_type": "markdown",
   "metadata": {},
   "source": [
    "\n",
    "See the [urllib\n",
    "documentation](http://www.python.org/doc/lib/module-urllib.html) for\n",
    "more details.\n",
    "\n",
    "## Examples\n",
    "\n",
    "### PubMed and Medline {#subsec:pub_med}\n",
    "\n",
    "If you are in the medical field or interested in human issues (and many\n",
    "times even if you are not!), PubMed\n",
    "(<http://www.ncbi.nlm.nih.gov/PubMed/>) is an excellent source of all\n",
    "kinds of goodies. So like other things, we’d like to be able to grab\n",
    "information from it and use it in Python scripts.\n",
    "\n",
    "In this example, we will query PubMed for all articles having to do with\n",
    "orchids (see section \\[sec:orchids\\] for our motivation). We first check\n",
    "how many of such articles there are:\n",
    "\n"
   ]
  },
  {
   "cell_type": "code",
   "execution_count": null,
   "metadata": {},
   "outputs": [],
   "source": [
    "from Bio import Entrez\n",
    "Entrez.email = \"A.N.Other@example.com\"     # Always tell NCBI who you are\n",
    "handle = Entrez.egquery(term=\"orchid\")\n",
    "record = Entrez.read(handle)\n",
    "for row in record[\"eGQueryResult\"]:\n",
    "    if row[\"DbName\"]==\"pubmed\":\n",
    "        print(row[\"Count\"])"
   ]
  },
  {
   "cell_type": "markdown",
   "metadata": {},
   "source": [
    "\n",
    "Now we use the `Bio.Entrez.efetch` function to download the PubMed IDs\n",
    "of these 463 articles:\n",
    "\n"
   ]
  },
  {
   "cell_type": "code",
   "execution_count": null,
   "metadata": {},
   "outputs": [],
   "source": [
    "handle = Entrez.esearch(db=\"pubmed\", term=\"orchid\", retmax=463)\n",
    "record = Entrez.read(handle)\n",
    "idlist = record[\"IdList\"]\n",
    "print(\"The first 10 Id's containing all of the PubMed IDs of articles related to orchids:\\n {}\".format(idlist[:10]))"
   ]
  },
  {
   "cell_type": "markdown",
   "metadata": {},
   "source": [
    "\n",
    "Now that we’ve got them, we obviously want to get the corresponding\n",
    "Medline records and extract the information from them. Here, we’ll\n",
    "download the Medline records in the Medline flat-file format, and use\n",
    "the `Bio.Medline` module to parse them:\n",
    "\n"
   ]
  },
  {
   "cell_type": "code",
   "execution_count": null,
   "metadata": {},
   "outputs": [],
   "source": [
    "from Bio import Medline\n",
    "handle = Entrez.efetch(db=\"pubmed\", id=idlist, rettype=\"medline\")"
   ]
  },
  {
   "cell_type": "code",
   "execution_count": null,
   "metadata": {},
   "outputs": [],
   "source": [
    "records = Medline.parse(handle)"
   ]
  },
  {
   "cell_type": "markdown",
   "metadata": {},
   "source": [
    "\n",
    "NOTE - We’ve just done a separate search and fetch here, the NCBI much\n",
    "prefer you to take advantage of their history support in this situation.\n",
    "See Section [History and WebEnv](#Using-the-history-and-WebEnv).\n",
    "\n",
    "Keep in mind that `records` is an iterator, so you can iterate through\n",
    "the records only once. If you want to save the records, you can convert\n",
    "them to a list:\n",
    "\n"
   ]
  },
  {
   "cell_type": "code",
   "execution_count": null,
   "metadata": {},
   "outputs": [],
   "source": [
    "records = list(records)"
   ]
  },
  {
   "cell_type": "markdown",
   "metadata": {},
   "source": [
    "\n",
    "Let’s now iterate over the records to print out some information about\n",
    "each record:\n",
    "\n"
   ]
  },
  {
   "cell_type": "code",
   "execution_count": null,
   "metadata": {},
   "outputs": [],
   "source": [
    "for record in records:\n",
    "    print(\"title:\", record.get(\"TI\", \"?\"))\n",
    "    print(\"authors:\", record.get(\"AU\", \"?\"))\n",
    "    print(\"source:\", record.get(\"SO\", \"?\"))\n",
    "    print(\"\")\n"
   ]
  },
  {
   "cell_type": "markdown",
   "metadata": {},
   "source": [
    "\n",
    "The output for this looks like:\n",
    "\n"
   ]
  },
  {
   "cell_type": "markdown",
   "metadata": {},
   "source": [
    "```\n",
    "title: Sex pheromone mimicry in the early spider orchid (ophrys sphegodes):\n",
    "patterns of hydrocarbons as the key mechanism for pollination by sexual\n",
    "deception [In Process Citation]\n",
    "authors: ['Schiestl FP', 'Ayasse M', 'Paulus HF', 'Lofstedt C', 'Hansson BS',\n",
    "'Ibarra F', 'Francke W']\n",
    "source: J Comp Physiol [A] 2000 Jun;186(6):567-74\n",
    "\n",
    "```"
   ]
  },
  {
   "cell_type": "markdown",
   "metadata": {},
   "source": [
    "\n",
    "Especially interesting to note is the list of authors, which is returned\n",
    "as a standard Python list. This makes it easy to manipulate and search\n",
    "using standard Python tools. For instance, we could loop through a whole\n",
    "bunch of entries searching for a particular author with code like the\n",
    "following:\n",
    "\n"
   ]
  },
  {
   "cell_type": "code",
   "execution_count": null,
   "metadata": {},
   "outputs": [],
   "source": [
    "search_author = \"Waits T\""
   ]
  },
  {
   "cell_type": "code",
   "execution_count": null,
   "metadata": {},
   "outputs": [],
   "source": [
    "for record in records:\n",
    "    if not \"AU\" in record:\n",
    "        continue\n",
    "    if search_author in record[\"AU\"]:\n",
    "        print(\"Author %s found: %s\" % (search_author, record[\"SO\"]))"
   ]
  },
  {
   "cell_type": "markdown",
   "metadata": {},
   "source": [
    "\n",
    "Hopefully this section gave you an idea of the power and flexibility of\n",
    "the Entrez and Medline interfaces and how they can be used together.\n",
    "\n",
    "### Searching, downloading, and parsing Entrez Nucleotide records {#subsec:entrez_example_genbank}\n",
    "\n",
    "Here we’ll show a simple example of performing a remote Entrez query. In\n",
    "section \\[sec:orchids\\] of the parsing examples, we talked about using\n",
    "NCBI’s Entrez website to search the NCBI nucleotide databases for info\n",
    "on Cypripedioideae, our friends the lady slipper orchids. Now, we’ll\n",
    "look at how to automate that process using a Python script. In this\n",
    "example, we’ll just show how to connect, get the results, and parse\n",
    "them, with the Entrez module doing all of the work.\n",
    "\n",
    "First, we use EGQuery to find out the number of results we will get\n",
    "before actually downloading them. EGQuery will tell us how many search\n",
    "results were found in each of the databases, but for this example we are\n",
    "only interested in nucleotides:\n",
    "\n"
   ]
  },
  {
   "cell_type": "code",
   "execution_count": null,
   "metadata": {},
   "outputs": [],
   "source": [
    "from Bio import Entrez\n",
    "Entrez.email = \"A.N.Other@example.com\"     # Always tell NCBI who you are\n",
    "handle = Entrez.egquery(term=\"Cypripedioideae\")\n",
    "record = Entrez.read(handle)\n",
    "for row in record[\"eGQueryResult\"]:\n",
    "    if row[\"DbName\"]==\"nuccore\":\n",
    "        print(row[\"Count\"])"
   ]
  },
  {
   "cell_type": "markdown",
   "metadata": {},
   "source": [
    "\n",
    "So, we expect to find 814 Entrez Nucleotide records (this is the number\n",
    "I obtained in 2008; it is likely to increase in the future). If you find\n",
    "some ridiculously high number of hits, you may want to reconsider if you\n",
    "really want to download all of them, which is our next step:\n",
    "\n"
   ]
  },
  {
   "cell_type": "code",
   "execution_count": null,
   "metadata": {},
   "outputs": [],
   "source": [
    "from Bio import Entrez\n",
    "handle = Entrez.esearch(db=\"nucleotide\", term=\"Cypripedioideae\", retmax=814)\n",
    "record = Entrez.read(handle)"
   ]
  },
  {
   "cell_type": "markdown",
   "metadata": {},
   "source": [
    "\n",
    "Here, `record` is a Python dictionary containing the search results and\n",
    "some auxiliary information. Just for information, let’s look at what is\n",
    "stored in this dictionary:\n",
    "\n"
   ]
  },
  {
   "cell_type": "code",
   "execution_count": null,
   "metadata": {},
   "outputs": [],
   "source": [
    "print(record.keys())"
   ]
  },
  {
   "cell_type": "markdown",
   "metadata": {},
   "source": [
    "\n",
    "First, let’s check how many results were found:\n",
    "\n"
   ]
  },
  {
   "cell_type": "code",
   "execution_count": null,
   "metadata": {},
   "outputs": [],
   "source": [
    "print(record[\"Count\"])"
   ]
  },
  {
   "cell_type": "markdown",
   "metadata": {},
   "source": [
    "\n",
    "which is the number we expected. The 814 results are stored in\n",
    "`record['IdList']`:\n",
    "\n"
   ]
  },
  {
   "cell_type": "code",
   "execution_count": null,
   "metadata": {},
   "outputs": [],
   "source": [
    "len(record[\"IdList\"])"
   ]
  },
  {
   "cell_type": "markdown",
   "metadata": {},
   "source": [
    "\n",
    "Let’s look at the first five results:\n",
    "\n"
   ]
  },
  {
   "cell_type": "code",
   "execution_count": null,
   "metadata": {},
   "outputs": [],
   "source": [
    "record[\"IdList\"][:5]"
   ]
  },
  {
   "cell_type": "markdown",
   "metadata": {},
   "source": [
    "\n",
    "\\[sec:entrez-batched-efetch\\] We can download these records using\n",
    "`efetch`. While you could download these records one by one, to reduce\n",
    "the load on NCBI’s servers, it is better to fetch a bunch of records at\n",
    "the same time, shown below. However, in this situation you should\n",
    "ideally be using the history feature described later in\n",
    "Section [History and WebEnv](#Using-the-history-and-WebEnv).\n",
    "\n"
   ]
  },
  {
   "cell_type": "code",
   "execution_count": null,
   "metadata": {},
   "outputs": [],
   "source": [
    "idlist = \",\".join(record[\"IdList\"][:5])\n",
    "print(idlist)"
   ]
  },
  {
   "cell_type": "code",
   "execution_count": null,
   "metadata": {},
   "outputs": [],
   "source": [
    "handle = Entrez.efetch(db=\"nucleotide\", id=idlist, retmode=\"xml\")\n",
    "records = Entrez.read(handle)\n",
    "len(records)"
   ]
  },
  {
   "cell_type": "markdown",
   "metadata": {},
   "source": [
    "\n",
    "Each of these records corresponds to one GenBank record.\n",
    "\n"
   ]
  },
  {
   "cell_type": "code",
   "execution_count": null,
   "metadata": {},
   "outputs": [],
   "source": [
    "print(records[0].keys())"
   ]
  },
  {
   "cell_type": "code",
   "execution_count": null,
   "metadata": {},
   "outputs": [],
   "source": [
    "print(records[0][\"GBSeq_primary-accession\"])"
   ]
  },
  {
   "cell_type": "code",
   "execution_count": null,
   "metadata": {},
   "outputs": [],
   "source": [
    "print(records[0][\"GBSeq_other-seqids\"])"
   ]
  },
  {
   "cell_type": "code",
   "execution_count": null,
   "metadata": {},
   "outputs": [],
   "source": [
    "print(records[0][\"GBSeq_definition\"])"
   ]
  },
  {
   "cell_type": "code",
   "execution_count": null,
   "metadata": {},
   "outputs": [],
   "source": [
    "print(records[0][\"GBSeq_organism\"])"
   ]
  },
  {
   "cell_type": "markdown",
   "metadata": {},
   "source": [
    "\n",
    "You could use this to quickly set up searches – but for heavy usage, see\n",
    "Section [History and WebEnv](#Using-the-history-and-WebEnv).\n",
    "\n",
    "### Searching, downloading, and parsing GenBank records {#sec:entrez-search-fetch-genbank}\n",
    "\n",
    "The GenBank record format is a very popular method of holding\n",
    "information about sequences, sequence features, and other associated\n",
    "sequence information. The format is a good way to get information from\n",
    "the NCBI databases at <http://www.ncbi.nlm.nih.gov/>.\n",
    "\n",
    "In this example we’ll show how to query the NCBI databases,to retrieve\n",
    "the records from the query, and then parse them using `Bio.SeqIO` -\n",
    "something touched on in Section \\[sec:SeqIO\\_GenBank\\_Online\\]. For\n",
    "simplicity, this example *does not* take advantage of the WebEnv history\n",
    "feature – see Section [History and WebEnv](#Using-the-history-and-WebEnv) for this.\n",
    "\n",
    "First, we want to make a query and find out the ids of the records to\n",
    "retrieve. Here we’ll do a quick search for one of our favorite\n",
    "organisms, *Opuntia* (prickly-pear cacti). We can do quick search and\n",
    "get back the GIs (GenBank identifiers) for all of the corresponding\n",
    "records. First we check how many records there are:\n",
    "\n"
   ]
  },
  {
   "cell_type": "code",
   "execution_count": null,
   "metadata": {},
   "outputs": [],
   "source": [
    "from Bio import Entrez\n",
    "Entrez.email = \"A.N.Other@example.com\"     # Always tell NCBI who you are\n",
    "handle = Entrez.egquery(term=\"Opuntia AND rpl16\")\n",
    "record = Entrez.read(handle)\n",
    "for row in record[\"eGQueryResult\"]:\n",
    "    if row[\"DbName\"]==\"nuccore\":\n",
    "        print(row[\"Count\"])"
   ]
  },
  {
   "cell_type": "markdown",
   "metadata": {},
   "source": [
    "\n",
    "Now we download the list of GenBank identifiers:\n",
    "\n"
   ]
  },
  {
   "cell_type": "code",
   "execution_count": null,
   "metadata": {},
   "outputs": [],
   "source": [
    "handle = Entrez.esearch(db=\"nuccore\", term=\"Opuntia AND rpl16\")\n",
    "record = Entrez.read(handle)\n",
    "gi_list = record[\"IdList\"]\n",
    "gi_list"
   ]
  },
  {
   "cell_type": "markdown",
   "metadata": {},
   "source": [
    "\n",
    "Now we use these GIs to download the GenBank records - note that with\n",
    "older versions of Biopython you had to supply a comma separated list of\n",
    "GI numbers to Entrez, as of Biopython 1.59 you can pass a list and this\n",
    "is converted for you:\n",
    "\n"
   ]
  },
  {
   "cell_type": "code",
   "execution_count": null,
   "metadata": {},
   "outputs": [],
   "source": [
    "gi_str = \",\".join(gi_list)\n",
    "handle = Entrez.efetch(db=\"nuccore\", id=gi_str, rettype=\"gb\", retmode=\"text\")"
   ]
  },
  {
   "cell_type": "markdown",
   "metadata": {},
   "source": [
    "\n",
    "If you want to look at the raw GenBank files, you can read from this\n",
    "handle and print out the result:\n",
    "\n"
   ]
  },
  {
   "cell_type": "code",
   "execution_count": null,
   "metadata": {},
   "outputs": [],
   "source": [
    "text = handle.read()\n",
    "print(text)"
   ]
  },
  {
   "cell_type": "markdown",
   "metadata": {},
   "source": [
    "\n",
    "In this case, we are just getting the raw records. To get the records in\n",
    "a more Python-friendly form, we can use `Bio.SeqIO` to parse the GenBank\n",
    "data into `SeqRecord` objects, including `SeqFeature` objects (see\n",
    "Chapter \\[chapter:Bio.SeqIO\\]):\n",
    "\n"
   ]
  },
  {
   "cell_type": "code",
   "execution_count": null,
   "metadata": {},
   "outputs": [],
   "source": [
    "from Bio import SeqIO\n",
    "handle = Entrez.efetch(db=\"nuccore\", id=gi_str, rettype=\"gb\", retmode=\"text\")\n",
    "records = SeqIO.parse(handle, \"gb\")"
   ]
  },
  {
   "cell_type": "markdown",
   "metadata": {},
   "source": [
    "\n",
    "We can now step through the records and look at the information we are\n",
    "interested in:\n",
    "\n"
   ]
  },
  {
   "cell_type": "code",
   "execution_count": null,
   "metadata": {},
   "outputs": [],
   "source": [
    "for record in records:\n",
    "    print(\"%s, length %i, with %i features\" \\\n",
    "    % (record.name, len(record), len(record.features)))"
   ]
  },
  {
   "cell_type": "markdown",
   "metadata": {},
   "source": [
    "\n",
    "Using these automated query retrieval functionality is a big plus over\n",
    "doing things by hand. Although the module should obey the NCBI’s max\n",
    "three queries per second rule, the NCBI have other recommendations like\n",
    "avoiding peak hours. See Section \\[sec:entrez-guidelines\\]. In\n",
    "particular, please note that for simplicity, this example does not use\n",
    "the WebEnv history feature. You should use this for any non-trivial\n",
    "search and download work, see Section [History and WebEnv](#Using-the-history-and-WebEnv).\n",
    "\n",
    "Finally, if plan to repeat your analysis, rather than downloading the\n",
    "files from the NCBI and parsing them immediately (as shown in this\n",
    "example), you should just download the records *once* and save them to\n",
    "your hard disk, and then parse the local file.\n",
    "\n",
    "### Finding the lineage of an organism\n",
    "\n",
    "Staying with a plant example, let’s now find the lineage of the\n",
    "Cypripedioideae orchid family. First, we search the Taxonomy database\n",
    "for Cypripedioideae, which yields exactly one NCBI taxonomy identifier:\n",
    "\n"
   ]
  },
  {
   "cell_type": "code",
   "execution_count": null,
   "metadata": {},
   "outputs": [],
   "source": [
    "from Bio import Entrez\n",
    "Entrez.email = \"A.N.Other@example.com\"     # Always tell NCBI who you are\n",
    "handle = Entrez.esearch(db=\"Taxonomy\", term=\"Cypripedioideae\")\n",
    "record = Entrez.read(handle)\n",
    "record[\"IdList\"]\n"
   ]
  },
  {
   "cell_type": "code",
   "execution_count": null,
   "metadata": {},
   "outputs": [],
   "source": [
    "record[\"IdList\"][0]\n"
   ]
  },
  {
   "cell_type": "markdown",
   "metadata": {},
   "source": [
    "\n",
    "Now, we use `efetch` to download this entry in the Taxonomy database,\n",
    "and then parse it:\n",
    "\n"
   ]
  },
  {
   "cell_type": "code",
   "execution_count": null,
   "metadata": {},
   "outputs": [],
   "source": [
    "handle = Entrez.efetch(db=\"Taxonomy\", id=\"158330\", retmode=\"xml\")\n",
    "records = Entrez.read(handle)\n"
   ]
  },
  {
   "cell_type": "markdown",
   "metadata": {},
   "source": [
    "\n",
    "Again, this record stores lots of information:\n",
    "\n"
   ]
  },
  {
   "cell_type": "code",
   "execution_count": null,
   "metadata": {},
   "outputs": [],
   "source": [
    "records[0].keys()\n"
   ]
  },
  {
   "cell_type": "markdown",
   "metadata": {},
   "source": [
    "\n",
    "We can get the lineage directly from this record:\n",
    "\n"
   ]
  },
  {
   "cell_type": "code",
   "execution_count": null,
   "metadata": {},
   "outputs": [],
   "source": [
    "records[0][\"Lineage\"]\n"
   ]
  },
  {
   "cell_type": "markdown",
   "metadata": {},
   "source": [
    "\n",
    "The record data contains much more than just the information shown here\n",
    "- for example look under `LineageEx` instead of `Lineage` and you’ll get\n",
    "the NCBI taxon identifiers of the lineage entries too.\n",
    "\n",
    "Using the history and WebEnv\n",
    "---------------------------\n",
    "\n",
    "Often you will want to make a series of linked queries. Most typically,\n",
    "running a search, perhaps refining the search, and then retrieving\n",
    "detailed search results. You *can* do this by making a series of\n",
    "separate calls to Entrez. However, the NCBI prefer you to take advantage\n",
    "of their history support - for example combining ESearch and EFetch.\n",
    "\n",
    "Another typical use of the history support would be to combine EPost and\n",
    "EFetch. You use EPost to upload a list of identifiers, which starts a\n",
    "new history session. You then download the records with EFetch by\n",
    "referring to the session (instead of the identifiers).\n",
    "\n",
    "### Searching for and downloading sequences using the history\n",
    "\n",
    "Suppose we want to search and download all the *Opuntia* rpl16\n",
    "nucleotide sequences, and store them in a FASTA file. As shown in\n",
    "Section \\[sec:entrez-search-fetch-genbank\\], we can naively combine\n",
    "`Bio.Entrez.esearch()` to get a list of GI numbers, and then call\n",
    "`Bio.Entrez.efetch()` to download them all.\n",
    "\n",
    "However, the approved approach is to run the search with the history\n",
    "feature. Then, we can fetch the results by reference to the search\n",
    "results - which the NCBI can anticipate and cache.\n",
    "\n",
    "To do this, call `Bio.Entrez.esearch()` as normal, but with the\n",
    "additional argument of `usehistory=\"y\"`,\n",
    "\n"
   ]
  },
  {
   "cell_type": "code",
   "execution_count": null,
   "metadata": {},
   "outputs": [],
   "source": [
    "from Bio import Entrez\n",
    "Entrez.email = \"history.user@example.com\"\n",
    "search_handle = Entrez.esearch(db=\"nucleotide\",term=\"Opuntia[orgn] and rpl16\", usehistory=\"y\")\n",
    "search_results = Entrez.read(search_handle)\n",
    "search_handle.close()"
   ]
  },
  {
   "cell_type": "markdown",
   "metadata": {},
   "source": [
    "\n",
    "When you get the XML output back, it will still include the usual search\n",
    "results. However, you also get given two additional pieces of information, the\n",
    "```WebEnv``` session cookie, and the ```QueryKey```:"
   ]
  },
  {
   "cell_type": "code",
   "execution_count": null,
   "metadata": {},
   "outputs": [],
   "source": [
    "gi_list = search_results[\"IdList\"]\n",
    "count = int(search_results[\"Count\"])\n",
    "assert count == len(gi_list)\n",
    "print(\"The WebEnv is {}\".format(search_results[\"WebEnv\"]))\n",
    "print(\"The QueryKey is {}\".format(search_results[\"QueryKey\"]))"
   ]
  },
  {
   "cell_type": "markdown",
   "metadata": {},
   "source": [
    "\n",
    "Having stored these values in variables <span>session\\_cookie</span> and\n",
    "<span>query\\_key</span> we can use them as parameters to\n",
    "`Bio.Entrez.efetch()` instead of giving the GI numbers as identifiers.\n",
    "\n",
    "While for small searches you might be OK downloading everything at once,\n",
    "it is better to download in batches. You use the <span>retstart</span>\n",
    "and <span>retmax</span> parameters to specify which range of search\n",
    "results you want returned (starting entry using zero-based counting, and\n",
    "maximum number of results to return). Sometimes you will get\n",
    "intermittent errors from Entrez, HTTPError 5XX, we use a try except\n",
    "pause retry block to address this. For example,\n",
    "\n"
   ]
  },
  {
   "cell_type": "markdown",
   "metadata": {},
   "source": [
    "```\n",
    "from Bio import Entrez\n",
    "import time\n",
    "try:\n",
    "    from urllib.error import HTTPError  # for Python 3\n",
    "except ImportError:\n",
    "    from urllib2 import HTTPError  # for Python 2\n",
    "batch_size = 3\n",
    "out_handle = open(\"orchid_rpl16.fasta\", \"w\")\n",
    "for start in range(0, count, batch_size):\n",
    "    end = min(count, start+batch_size)\n",
    "    print(\"Going to download record %i to %i\" % (start+1, end))\n",
    "    attempt = 1\n",
    "    while attempt <= 3:\n",
    "        try:\n",
    "            fetch_handle = Entrez.efetch(db=\"nucleotide\", rettype=\"fasta\", retmode=\"text\",\n",
    "                                         retstart=start, retmax=batch_size,\n",
    "                                         webenv=webenv, query_key=query_key)\n",
    "        except HTTPError as err:\n",
    "            if 500 <= err.code <= 599:\n",
    "                print(\"Received error from server %s\" % err)\n",
    "                print(\"Attempt %i of 3\" % attempt)\n",
    "                attempt += 1\n",
    "                time.sleep(15)\n",
    "            else:\n",
    "                raise\n",
    "    data = fetch_handle.read()\n",
    "    fetch_handle.close()\n",
    "    out_handle.write(data)\n",
    "out_handle.close()\n",
    "\n",
    "```"
   ]
  },
  {
   "cell_type": "markdown",
   "metadata": {},
   "source": [
    "\n",
    "For illustrative purposes, this example downloaded the FASTA records in\n",
    "batches of three. Unless you are downloading genomes or chromosomes, you\n",
    "would normally pick a larger batch size.\n",
    "\n",
    "### Searching for and downloading abstracts using the history\n",
    "\n",
    "Here is another history example, searching for papers published in the\n",
    "last year about the *Opuntia*, and then downloading them into a file in\n",
    "MedLine format:\n",
    "\n"
   ]
  },
  {
   "cell_type": "markdown",
   "metadata": {},
   "source": [
    "```\n",
    "from Bio import Entrez\n",
    "import time\n",
    "try:\n",
    "    from urllib.error import HTTPError  # for Python 3\n",
    "except ImportError:\n",
    "    from urllib2 import HTTPError  # for Python 2\n",
    "Entrez.email = \"history.user@example.com\"\n",
    "search_results = Entrez.read(Entrez.esearch(db=\"pubmed\",\n",
    "                                            term=\"Opuntia[ORGN]\",\n",
    "                                            reldate=365, datetype=\"pdat\",\n",
    "                                            usehistory=\"y\"))\n",
    "count = int(search_results[\"Count\"])\n",
    "print(\"Found %i results\" % count)\n",
    "\n",
    "batch_size = 10\n",
    "out_handle = open(\"recent_orchid_papers.txt\", \"w\")\n",
    "for start in range(0,count,batch_size):\n",
    "    end = min(count, start+batch_size)\n",
    "    print(\"Going to download record %i to %i\" % (start+1, end))\n",
    "    attempt = 1\n",
    "    while attempt <= 3:\n",
    "        try:\n",
    "            fetch_handle = Entrez.efetch(db=\"pubmed\",rettype=\"medline\",\n",
    "                                         retmode=\"text\",retstart=start,\n",
    "                                         retmax=batch_size,\n",
    "                                         webenv=search_results[\"WebEnv\"],\n",
    "                                         query_key=search_results[\"QueryKey\"])\n",
    "        except HTTPError as err:\n",
    "            if 500 <= err.code <= 599:\n",
    "                print(\"Received error from server %s\" % err)\n",
    "                print(\"Attempt %i of 3\" % attempt)\n",
    "                attempt += 1\n",
    "                time.sleep(15)\n",
    "            else:\n",
    "                raise\n",
    "    data = fetch_handle.read()\n",
    "    fetch_handle.close()\n",
    "    out_handle.write(data)\n",
    "out_handle.close()\n",
    "\n",
    "```"
   ]
  },
  {
   "cell_type": "markdown",
   "metadata": {},
   "source": [
    "\n",
    "At the time of writing, this gave 28 matches - but because this is a\n",
    "date dependent search, this will of course vary. As described in\n",
    "Section \\[subsec:entrez-and-medline\\] above, you can then use\n",
    "`Bio.Medline` to parse the saved records.\n",
    "\n",
    "### Searching for citations {#sec:elink-citations}\n",
    "\n",
    "Back in Section \\[sec:elink\\] we mentioned ELink can be used to search\n",
    "for citations of a given paper. Unfortunately this only covers journals\n",
    "indexed for PubMed Central (doing it for all the journals in PubMed\n",
    "would mean a lot more work for the NIH). Let’s try this for the\n",
    "Biopython PDB parser paper, PubMed ID 14630660:\n",
    "\n"
   ]
  },
  {
   "cell_type": "code",
   "execution_count": null,
   "metadata": {},
   "outputs": [],
   "source": [
    "from Bio import Entrez\n",
    "Entrez.email = \"A.N.Other@example.com\"\n",
    "pmid = \"14630660\"\n",
    "results = Entrez.read(Entrez.elink(dbfrom=\"pubmed\", db=\"pmc\",\n",
    "LinkName=\"pubmed_pmc_refs\", from_uid=pmid))\n",
    "pmc_ids = [link[\"Id\"] for link in results[0][\"LinkSetDb\"][0][\"Link\"]]\n",
    "pmc_ids"
   ]
  },
  {
   "cell_type": "markdown",
   "metadata": {},
   "source": [
    "\n",
    "Great - eleven articles. But why hasn’t the Biopython application note\n",
    "been found (PubMed ID 19304878)? Well, as you might have guessed from\n",
    "the variable names, there are not actually PubMed IDs, but PubMed\n",
    "Central IDs. Our application note is the third citing paper in that\n",
    "list, PMCID 2682512.\n",
    "\n",
    "So, what if (like me) you’d rather get back a list of PubMed IDs? Well\n",
    "we can call ELink again to translate them. This becomes a two step\n",
    "process, so by now you should expect to use the history feature to\n",
    "accomplish it (Section [History and WebEnv](#Using-the-history-and-WebEnv)).\n",
    "\n",
    "But first, taking the more straightforward approach of making a second\n",
    "(separate) call to ELink:\n",
    "\n"
   ]
  },
  {
   "cell_type": "code",
   "execution_count": null,
   "metadata": {},
   "outputs": [],
   "source": [
    "results2 = Entrez.read(Entrez.elink(dbfrom=\"pmc\", db=\"pubmed\", LinkName=\"pmc_pubmed\",\n",
    "from_uid=\",\".join(pmc_ids)))\n",
    "pubmed_ids = [link[\"Id\"] for link in results2[0][\"LinkSetDb\"][0][\"Link\"]]\n",
    "pubmed_ids\n"
   ]
  },
  {
   "cell_type": "code",
   "execution_count": null,
   "metadata": {},
   "outputs": [],
   "source": []
  }
 ],
 "metadata": {
  "kernelspec": {
   "display_name": "Python 3",
   "language": "python",
   "name": "python3"
  },
  "language_info": {
   "codemirror_mode": {
    "name": "ipython",
    "version": 3
   },
   "file_extension": ".py",
   "mimetype": "text/x-python",
   "name": "python",
   "nbconvert_exporter": "python",
   "pygments_lexer": "ipython3",
   "version": "3.5.1"
  }
 },
 "nbformat": 4,
 "nbformat_minor": 0
}
