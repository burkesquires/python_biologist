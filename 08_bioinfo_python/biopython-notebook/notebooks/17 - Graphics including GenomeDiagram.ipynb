{
 "cells": [
  {
   "cell_type": "markdown",
   "metadata": {},
   "source": [
    "**Source of the materials**: Biopython cookbook (adapted)"
   ]
  },
  {
   "cell_type": "code",
   "execution_count": null,
   "metadata": {},
   "outputs": [],
   "source": [
    "## conda install reportlab"
   ]
  },
  {
   "cell_type": "code",
   "execution_count": null,
   "metadata": {
    "jupyter": {
     "outputs_hidden": false
    }
   },
   "outputs": [],
   "source": [
    "#Lets load notebook's Image\n",
    "from IPython.core.display import Image "
   ]
  },
  {
   "cell_type": "code",
   "execution_count": null,
   "metadata": {
    "jupyter": {
     "outputs_hidden": false
    }
   },
   "outputs": [],
   "source": [
    "from reportlab.lib import colors\n",
    "from reportlab.lib.units import cm\n",
    "from Bio.Graphics import GenomeDiagram\n",
    "from Bio import SeqIO"
   ]
  },
  {
   "cell_type": "markdown",
   "metadata": {},
   "source": [
    "# Graphics including GenomeDiagram"
   ]
  },
  {
   "cell_type": "markdown",
   "metadata": {},
   "source": [
    "The Bio.Graphics module depends on the third party Python library **ReportLab**. Although focused on producing PDF files, **ReportLab can also create encapsulated postscript (EPS) and (SVG) files**. In addition to these vector based images, provided certain further dependencies such as the **Python Imaging Library (PIL)** are installed, **ReportLab can also output bitmap images (including JPEG, PNG, GIF, BMP and PICT formats)**."
   ]
  },
  {
   "cell_type": "markdown",
   "metadata": {},
   "source": [
    "## GenomeDiagram"
   ]
  },
  {
   "cell_type": "markdown",
   "metadata": {},
   "source": [
    "### Introduction"
   ]
  },
  {
   "cell_type": "markdown",
   "metadata": {},
   "source": [
    "The **Bio.Graphics.GenomeDiagram** module was added to Biopython 1.50, having previously been available as a separate Python module dependent on Biopython.\n",
    "\n",
    "As the name might suggest, GenomeDiagram was designed for drawing whole genomes, in particular prokaryotic genomes, either as linear diagrams (optionally broken up into fragments to fit better) or as circular wheel diagrams. It proved also well suited to drawing quite detailed figures for smaller genomes such as phage, plasmids or mitochrondia.\n",
    "\n",
    "This module is easiest to use if you have your genome loaded as a SeqRecord object containing lots of SeqFeature objects - for example as loaded from a GenBank file."
   ]
  },
  {
   "cell_type": "markdown",
   "metadata": {},
   "source": [
    "### Diagrams, tracks, feature-sets and features"
   ]
  },
  {
   "cell_type": "markdown",
   "metadata": {},
   "source": [
    "GenomeDiagram uses a nested set of objects. At the top level, you have a diagram object representing a sequence (or sequence region) along the horizontal axis (or circle). A diagram can contain one or more tracks, shown stacked vertically (or radially on circular diagrams). These will typically all have the same length and represent the same sequence region. You might use one track to show the gene locations, another to show regulatory regions, and a third track to show the GC percentage.\n",
    "\n",
    "The most commonly used type of track will contain features, bundled together in feature-sets. You might choose to use one feature-set for all your CDS features, and another for tRNA features. This isn’t required - they can all go in the same feature-set, but it makes it easier to update the properties of just selected features (e.g. make all the tRNA features red).\n",
    "\n",
    "There are two main ways to build up a complete diagram. Firstly, the top down approach where you create a diagram object, and then using its methods add track(s), and use the track methods to add feature-set(s), and use their methods to add the features. Secondly, you can create the individual objects separately (in whatever order suits your code), and then combine them."
   ]
  },
  {
   "cell_type": "markdown",
   "metadata": {},
   "source": [
    "### A top down example"
   ]
  },
  {
   "cell_type": "markdown",
   "metadata": {},
   "source": [
    "We’re going to draw a whole genome from a SeqRecord object read in from a GenBank file. This example uses the pPCP1 plasmid from Yersinia pestis biovar Microtus (<a href=\"data/NC_005816.gb\">NC_005816.gb</a>)"
   ]
  },
  {
   "cell_type": "code",
   "execution_count": null,
   "metadata": {
    "jupyter": {
     "outputs_hidden": false
    }
   },
   "outputs": [],
   "source": [
    "record = SeqIO.read(\"data/NC_005816.gb\", \"genbank\")"
   ]
  },
  {
   "cell_type": "markdown",
   "metadata": {},
   "source": [
    "We’re using a top down approach, so after loading in our sequence we next create an empty diagram, then add an (empty) track, and to that add an (empty) feature set:"
   ]
  },
  {
   "cell_type": "code",
   "execution_count": null,
   "metadata": {
    "jupyter": {
     "outputs_hidden": false
    }
   },
   "outputs": [],
   "source": [
    "gd_diagram = GenomeDiagram.Diagram(\"Yersinia pestis biovar Microtus plasmid pPCP1\")\n",
    "gd_track_for_features = gd_diagram.new_track(1, name=\"Annotated Features\")\n",
    "gd_feature_set = gd_track_for_features.new_set()"
   ]
  },
  {
   "cell_type": "markdown",
   "metadata": {},
   "source": [
    "Now the fun part - we take each gene SeqFeature object in our SeqRecord, and use it to generate a feature on the diagram. We’re going to color them blue, alternating between a dark blue and a light blue."
   ]
  },
  {
   "cell_type": "code",
   "execution_count": null,
   "metadata": {
    "jupyter": {
     "outputs_hidden": false
    }
   },
   "outputs": [],
   "source": [
    "for feature in record.features:\n",
    "    if feature.type != \"gene\":\n",
    "        #Exclude this feature\n",
    "        continue\n",
    "    if len(gd_feature_set) % 2 == 0:\n",
    "        color = colors.blue\n",
    "    else:\n",
    "        color = colors.lightblue\n",
    "    gd_feature_set.add_feature(feature, color=color, label=True)"
   ]
  },
  {
   "cell_type": "markdown",
   "metadata": {},
   "source": [
    "Now we come to actually making the output file. This happens in two steps, first we call the draw method, which creates all the shapes using ReportLab objects. Then we call the write method which renders these to the requested file format. Note you can output in multiple file formats:"
   ]
  },
  {
   "cell_type": "code",
   "execution_count": null,
   "metadata": {
    "jupyter": {
     "outputs_hidden": false
    }
   },
   "outputs": [],
   "source": [
    "gd_diagram.draw(format=\"linear\", orientation=\"landscape\", pagesize='A4',\n",
    "                fragments=4, start=0, end=len(record))\n",
    "gd_diagram.write(\"data/plasmid_linear.png\", \"png\")"
   ]
  },
  {
   "cell_type": "markdown",
   "metadata": {},
   "source": [
    "Lets have a look at the previous one:\n",
    "<img src=\"data/plasmid_linear.png\">"
   ]
  },
  {
   "cell_type": "markdown",
   "metadata": {},
   "source": [
    "Notice that the fragments argument which we set to four controls how many pieces the genome gets broken up into.\n",
    "\n",
    "If you want to do a circular figure, then try this:"
   ]
  },
  {
   "cell_type": "code",
   "execution_count": null,
   "metadata": {
    "jupyter": {
     "outputs_hidden": false
    }
   },
   "outputs": [],
   "source": [
    "gd_diagram.draw(format=\"circular\", circular=True, pagesize=(20*cm,20*cm),\n",
    "                start=0, end=len(record), circle_core=0.7)\n",
    "gd_diagram.write(\"data/plasmid_circular.png\", \"PNG\")\n",
    "Image(\"data/plasmid_circular.png\")"
   ]
  },
  {
   "cell_type": "markdown",
   "metadata": {},
   "source": [
    "These figures are not very exciting, but we’ve only just got started."
   ]
  },
  {
   "cell_type": "markdown",
   "metadata": {},
   "source": [
    "### A bottom up example"
   ]
  },
  {
   "cell_type": "markdown",
   "metadata": {},
   "source": [
    "Now let’s produce exactly the same figures, but using the bottom up approach. This means we create the different objects directly (and this can be done in almost any order) and then combine them."
   ]
  },
  {
   "cell_type": "code",
   "execution_count": null,
   "metadata": {
    "jupyter": {
     "outputs_hidden": false
    }
   },
   "outputs": [],
   "source": [
    "record = SeqIO.read(\"data/NC_005816.gb\", \"genbank\")\n",
    "\n",
    "#Create the feature set and its feature objects,\n",
    "gd_feature_set = GenomeDiagram.FeatureSet()\n",
    "for feature in record.features:\n",
    "    if feature.type != \"gene\":\n",
    "        #Exclude this feature\n",
    "        continue\n",
    "    if len(gd_feature_set) % 2 == 0:\n",
    "        color = colors.blue\n",
    "    else:\n",
    "        color = colors.lightblue\n",
    "    gd_feature_set.add_feature(feature, color=color, label=True)\n",
    "#(this for loop is the same as in the previous example)\n",
    "\n",
    "#Create a track, and a diagram\n",
    "gd_track_for_features = GenomeDiagram.Track(name=\"Annotated Features\")\n",
    "gd_diagram = GenomeDiagram.Diagram(\"Yersinia pestis biovar Microtus plasmid pPCP1\")\n",
    "\n",
    "#Now have to glue the bits together...\n",
    "gd_track_for_features.add_set(gd_feature_set)\n",
    "gd_diagram.add_track(gd_track_for_features, 1)"
   ]
  },
  {
   "cell_type": "markdown",
   "metadata": {},
   "source": [
    "You can now call the draw and write methods as before to produce a linear or circular diagram, using the code at the end of the top-down example above. The figures should be identical."
   ]
  },
  {
   "cell_type": "markdown",
   "metadata": {},
   "source": [
    "### Features without a SeqFeature"
   ]
  },
  {
   "cell_type": "markdown",
   "metadata": {},
   "source": [
    "In the above example we used a SeqRecord’s SeqFeature objects to build our diagram. Sometimes you won’t have SeqFeature objects, but just the coordinates for a feature you want to draw. You have to create minimal SeqFeature object, but this is easy:"
   ]
  },
  {
   "cell_type": "code",
   "execution_count": null,
   "metadata": {
    "jupyter": {
     "outputs_hidden": false
    }
   },
   "outputs": [],
   "source": [
    "from Bio.SeqFeature import SeqFeature, FeatureLocation\n",
    "my_seq_feature = SeqFeature(FeatureLocation(50,100),strand=+1)"
   ]
  },
  {
   "cell_type": "markdown",
   "metadata": {},
   "source": [
    "For strand, use +1 for the forward strand, -1 for the reverse strand, and None for both. Here is a short self contained example:"
   ]
  },
  {
   "cell_type": "code",
   "execution_count": null,
   "metadata": {
    "jupyter": {
     "outputs_hidden": false
    }
   },
   "outputs": [],
   "source": [
    "gdd = GenomeDiagram.Diagram('Test Diagram')\n",
    "gdt_features = gdd.new_track(1, greytrack=False)\n",
    "gds_features = gdt_features.new_set()\n",
    "\n",
    "#Add three features to show the strand options,\n",
    "feature = SeqFeature(FeatureLocation(25, 125), strand=+1)\n",
    "gds_features.add_feature(feature, name=\"Forward\", label=True)\n",
    "feature = SeqFeature(FeatureLocation(150, 250), strand=None)\n",
    "gds_features.add_feature(feature, name=\"Strandless\", label=True)\n",
    "feature = SeqFeature(FeatureLocation(275, 375), strand=-1)\n",
    "gds_features.add_feature(feature, name=\"Reverse\", label=True)\n",
    "\n",
    "gdd.draw(format='linear', pagesize=(15*cm,4*cm), fragments=1,\n",
    "         start=0, end=400)\n",
    "gdd.write(\"data/GD_labels_default.png\", \"png\")\n",
    "Image(\"data/GD_labels_default.png\")"
   ]
  },
  {
   "cell_type": "markdown",
   "metadata": {},
   "source": [
    "The top part of the image in the next subsection shows the output (in the default feature color, pale green).\n",
    "\n",
    "Notice that we have used the name argument here to specify the caption text for these features. This is discussed in more detail next."
   ]
  },
  {
   "cell_type": "markdown",
   "metadata": {},
   "source": [
    "### Feature captions"
   ]
  },
  {
   "cell_type": "markdown",
   "metadata": {},
   "source": [
    "Recall we used the following (where feature was a SeqFeature object) to add a feature to the diagram:"
   ]
  },
  {
   "cell_type": "code",
   "execution_count": null,
   "metadata": {
    "jupyter": {
     "outputs_hidden": false
    }
   },
   "outputs": [],
   "source": [
    "gd_feature_set.add_feature(feature, color=color, label=True)"
   ]
  },
  {
   "cell_type": "markdown",
   "metadata": {},
   "source": [
    "In the example above the SeqFeature annotation was used to pick a sensible caption for the features. By default the following possible entries under the SeqFeature object’s qualifiers dictionary are used: gene, label, name, locus_tag, and product. More simply, you can specify a name directly:"
   ]
  },
  {
   "cell_type": "code",
   "execution_count": null,
   "metadata": {
    "jupyter": {
     "outputs_hidden": false
    }
   },
   "outputs": [],
   "source": [
    "gd_feature_set.add_feature(feature, color=color, label=True, name=\"My Gene\")"
   ]
  },
  {
   "cell_type": "markdown",
   "metadata": {},
   "source": [
    "In addition to the caption text for each feature’s label, you can also choose the font, position (this defaults to the start of the sigil, you can also choose the middle or at the end) and orientation (for linear diagrams only, where this defaults to rotated by 45 degrees):"
   ]
  },
  {
   "cell_type": "code",
   "execution_count": null,
   "metadata": {
    "jupyter": {
     "outputs_hidden": false
    }
   },
   "outputs": [],
   "source": [
    "#Large font, parallel with the track\n",
    "gd_feature_set.add_feature(feature, label=True, color=\"green\",\n",
    "                           label_size=25, label_angle=0)\n",
    "\n",
    "#Very small font, perpendicular to the track (towards it)\n",
    "gd_feature_set.add_feature(feature, label=True, color=\"purple\",\n",
    "                           label_position=\"end\",\n",
    "                           label_size=4, label_angle=90)\n",
    "\n",
    "#Small font, perpendicular to the track (away from it)\n",
    "gd_feature_set.add_feature(feature, label=True, color=\"blue\",\n",
    "                           label_position=\"middle\",\n",
    "                           label_size=6, label_angle=-90)"
   ]
  },
  {
   "cell_type": "markdown",
   "metadata": {},
   "source": [
    "Combining each of these three fragments with the complete example in the previous section should give something like this:"
   ]
  },
  {
   "cell_type": "code",
   "execution_count": null,
   "metadata": {
    "jupyter": {
     "outputs_hidden": false
    }
   },
   "outputs": [],
   "source": [
    "gdd.draw(format='linear', pagesize=(15*cm,4*cm), fragments=1,\n",
    "         start=0, end=400)\n",
    "gdd.write(\"data/GD_labels.png\", \"png\")\n",
    "Image(\"data/GD_labels.png\")"
   ]
  },
  {
   "cell_type": "markdown",
   "metadata": {},
   "source": [
    "We’ve not shown it here, but you can also set label_color to control the label’s color.\n",
    "\n",
    "You’ll notice the default font is quite small - this makes sense because you will usually be drawing many (small) features on a page, not just a few large ones as shown here."
   ]
  },
  {
   "cell_type": "markdown",
   "metadata": {},
   "source": [
    "### Feature sigils"
   ]
  },
  {
   "cell_type": "markdown",
   "metadata": {},
   "source": [
    "The examples above have all just used the default sigil for the feature, a plain box, which was all that was available in the last publicly released standalone version of GenomeDiagram. Arrow sigils were included when GenomeDiagram was added to Biopython 1.50:"
   ]
  },
  {
   "cell_type": "code",
   "execution_count": null,
   "metadata": {
    "jupyter": {
     "outputs_hidden": false
    }
   },
   "outputs": [],
   "source": [
    "#Default uses a BOX sigil\n",
    "gd_feature_set.add_feature(feature)\n",
    "\n",
    "#You can make this explicit:\n",
    "gd_feature_set.add_feature(feature, sigil=\"BOX\")\n",
    "\n",
    "#Or opt for an arrow:\n",
    "gd_feature_set.add_feature(feature, sigil=\"ARROW\")\n",
    "\n",
    "#Box with corners cut off (making it an octagon)\n",
    "gd_feature_set.add_feature(feature, sigil=\"OCTO\")\n",
    "\n",
    "#Box with jagged edges (useful for showing breaks in contains)\n",
    "gd_feature_set.add_feature(feature, sigil=\"JAGGY\")\n",
    "\n",
    "#Arrow which spans the axis with strand used only for direction\n",
    "gd_feature_set.add_feature(feature, sigil=\"BIGARROW\")"
   ]
  },
  {
   "cell_type": "markdown",
   "metadata": {},
   "source": [
    "These are shown below. Most sigils fit into a bounding box (as given by the default BOX sigil), either above or below the axis for the forward or reverse strand, or straddling it (double the height) for strand-less features. The BIGARROW sigil is different, always straddling the axis with the direction taken from the feature’s stand."
   ]
  },
  {
   "cell_type": "markdown",
   "metadata": {},
   "source": [
    "### Arrow sigils"
   ]
  },
  {
   "cell_type": "markdown",
   "metadata": {},
   "source": [
    "We introduced the arrow sigils in the previous section. There are two additional options to adjust the shapes of the arrows, firstly the thickness of the arrow shaft, given as a proportion of the height of the bounding box:"
   ]
  },
  {
   "cell_type": "code",
   "execution_count": null,
   "metadata": {
    "jupyter": {
     "outputs_hidden": false
    }
   },
   "outputs": [],
   "source": [
    "#Full height shafts, giving pointed boxes:\n",
    "gd_feature_set.add_feature(feature, sigil=\"ARROW\", color=\"brown\",\n",
    "                           arrowshaft_height=1.0)\n",
    "#Or, thin shafts:                      \n",
    "gd_feature_set.add_feature(feature, sigil=\"ARROW\", color=\"teal\",\n",
    "                           arrowshaft_height=0.2)\n",
    "#Or, very thin shafts:\n",
    "gd_feature_set.add_feature(feature, sigil=\"ARROW\", color=\"darkgreen\",\n",
    "                           arrowshaft_height=0.1)"
   ]
  },
  {
   "cell_type": "markdown",
   "metadata": {},
   "source": [
    "The results are shown below:"
   ]
  },
  {
   "cell_type": "code",
   "execution_count": null,
   "metadata": {
    "jupyter": {
     "outputs_hidden": false
    }
   },
   "outputs": [],
   "source": []
  },
  {
   "cell_type": "markdown",
   "metadata": {},
   "source": [
    "Secondly, the length of the arrow head - given as a proportion of the height of the bounding box (defaulting to 0.5, or 50%):"
   ]
  },
  {
   "cell_type": "code",
   "execution_count": null,
   "metadata": {
    "jupyter": {
     "outputs_hidden": false
    }
   },
   "outputs": [],
   "source": [
    "#Short arrow heads:\n",
    "gd_feature_set.add_feature(feature, sigil=\"ARROW\", color=\"blue\",\n",
    "                           arrowhead_length=0.25)\n",
    "#Or, longer arrow heads:\n",
    "gd_feature_set.add_feature(feature, sigil=\"ARROW\", color=\"orange\",\n",
    "                           arrowhead_length=1)\n",
    "#Or, very very long arrow heads (i.e. all head, no shaft, so triangles):\n",
    "gd_feature_set.add_feature(feature, sigil=\"ARROW\", color=\"red\",\n",
    "                           arrowhead_length=10000)"
   ]
  },
  {
   "cell_type": "markdown",
   "metadata": {},
   "source": [
    "The results are shown below:"
   ]
  },
  {
   "cell_type": "code",
   "execution_count": null,
   "metadata": {
    "jupyter": {
     "outputs_hidden": false
    }
   },
   "outputs": [],
   "source": []
  },
  {
   "cell_type": "markdown",
   "metadata": {},
   "source": [
    "Biopython 1.61 adds a new BIGARROW sigil which always stradles the axis, pointing left for the reverse strand or right otherwise:"
   ]
  },
  {
   "cell_type": "code",
   "execution_count": null,
   "metadata": {
    "jupyter": {
     "outputs_hidden": false
    }
   },
   "outputs": [],
   "source": [
    "#A large arrow straddling the axis:\n",
    "gd_feature_set.add_feature(feature, sigil=\"BIGARROW\")"
   ]
  },
  {
   "cell_type": "markdown",
   "metadata": {},
   "source": [
    "All the shaft and arrow head options shown above for the ARROW sigil can be used for the BIGARROW sigil too."
   ]
  },
  {
   "cell_type": "markdown",
   "metadata": {},
   "source": [
    "### A nice example"
   ]
  },
  {
   "cell_type": "markdown",
   "metadata": {},
   "source": [
    "Now let’s return to the pPCP1 plasmid from Yersinia pestis biovar Microtus, and the top down approach used above, but take advantage of the sigil options we’ve now discussed. This time we’ll use arrows for the genes, and overlay them with strand-less features (as plain boxes) showing the position of some restriction digest sites."
   ]
  },
  {
   "cell_type": "code",
   "execution_count": null,
   "metadata": {
    "jupyter": {
     "outputs_hidden": false
    }
   },
   "outputs": [],
   "source": [
    "record = SeqIO.read(\"data/NC_005816.gb\", \"genbank\")\n",
    "\n",
    "gd_diagram = GenomeDiagram.Diagram(record.id)\n",
    "gd_track_for_features = gd_diagram.new_track(1, name=\"Annotated Features\")\n",
    "gd_feature_set = gd_track_for_features.new_set()\n",
    "\n",
    "for feature in record.features:\n",
    "    if feature.type != \"gene\":\n",
    "        #Exclude this feature\n",
    "        continue\n",
    "    if len(gd_feature_set) % 2 == 0:\n",
    "        color = colors.blue\n",
    "    else:\n",
    "        color = colors.lightblue\n",
    "    gd_feature_set.add_feature(feature, sigil=\"ARROW\",\n",
    "                               color=color, label=True,\n",
    "                               label_size = 14, label_angle=0)\n",
    "\n",
    "#I want to include some strandless features, so for an example\n",
    "#will use EcoRI recognition sites etc.\n",
    "for site, name, color in [(\"GAATTC\",\"EcoRI\",colors.green),\n",
    "                          (\"CCCGGG\",\"SmaI\",colors.orange),\n",
    "                          (\"AAGCTT\",\"HindIII\",colors.red),\n",
    "                          (\"GGATCC\",\"BamHI\",colors.purple)]:\n",
    "    index = 0\n",
    "    while True:\n",
    "        index  = record.seq.find(site, start=index)\n",
    "        if index == -1 : break\n",
    "        feature = SeqFeature(FeatureLocation(index, index+len(site)))\n",
    "        gd_feature_set.add_feature(feature, color=color, name=name,\n",
    "                                   label=True, label_size = 10,\n",
    "                                   label_color=color)\n",
    "        index += len(site)\n",
    "\n",
    "gd_diagram.draw(format=\"linear\", pagesize='A4', fragments=4,\n",
    "                start=0, end=len(record))\n",
    "gd_diagram.write(\"data/plasmid_linear_nice.png\", \"png\")\n",
    "\n",
    "Image(\"data/plasmid_linear_nice.png\")"
   ]
  },
  {
   "cell_type": "code",
   "execution_count": null,
   "metadata": {
    "jupyter": {
     "outputs_hidden": false
    }
   },
   "outputs": [],
   "source": [
    "gd_diagram.draw(format=\"circular\", circular=True, pagesize=(20*cm,20*cm),\n",
    "                start=0, end=len(record), circle_core = 0.5)\n",
    "gd_diagram.write(\"data/plasmid_circular_nice.png\", \"png\")\n",
    "\n",
    "Image(\"data/plasmid_circular_nice.png\")"
   ]
  },
  {
   "cell_type": "markdown",
   "metadata": {},
   "source": [
    "### Multiple tracks"
   ]
  },
  {
   "cell_type": "markdown",
   "metadata": {},
   "source": [
    "All the examples so far have used a single track, but you can have more than one track – for example show the genes on one, and repeat regions on another. In this example we’re going to show three phage genomes side by side to scale, inspired by Figure 6 in Proux et al. (2002). We’ll need the GenBank files for the following three phage:\n",
    "\n",
    "- NC_002703 – Lactococcus phage Tuc2009, complete genome (38347 bp)\n",
    "- AF323668 – Bacteriophage bIL285, complete genome (35538 bp)\n",
    "- NC_003212 – Listeria innocua Clip11262, complete genome, of which we are focussing only on integrated prophage 5 (similar length).\n",
    "\n",
    "You can download these using Entrez if you like. For the third record we’ve worked out where the phage is integrated into the genome, and slice the record to extract it, and must also reverse complement to match the orientation of the first two phage:"
   ]
  },
  {
   "cell_type": "code",
   "execution_count": null,
   "metadata": {
    "jupyter": {
     "outputs_hidden": false
    }
   },
   "outputs": [],
   "source": [
    "A_rec = SeqIO.read(\"data/NC_002703.gbk\", \"gb\")\n",
    "B_rec = SeqIO.read(\"data/AF323668.gbk\", \"gb\")"
   ]
  },
  {
   "cell_type": "markdown",
   "metadata": {},
   "source": [
    "The figure we are imitating used different colors for different gene functions. One way to do this is to edit the GenBank file to record color preferences for each feature - something Sanger’s Artemis editor does, and which GenomeDiagram should understand. Here however, we’ll just hard code three lists of colors.\n",
    "\n",
    "Note that the annotation in the GenBank files doesn’t exactly match that shown in Proux et al., they have drawn some unannotated genes."
   ]
  },
  {
   "cell_type": "code",
   "execution_count": null,
   "metadata": {
    "jupyter": {
     "outputs_hidden": false
    }
   },
   "outputs": [],
   "source": [
    "from reportlab.lib.colors import red, grey, orange, green, brown, blue, lightblue, purple\n",
    "\n",
    "A_colors = [red]*5 + [grey]*7 + [orange]*2 + [grey]*2 + [orange] + [grey]*11 + [green]*4 \\\n",
    "         + [grey] + [green]*2 + [grey, green] + [brown]*5 + [blue]*4 + [lightblue]*5 \\\n",
    "         + [grey, lightblue] + [purple]*2 + [grey]\n",
    "B_colors = [red]*6 + [grey]*8 + [orange]*2 + [grey] + [orange] + [grey]*21 + [green]*5 \\\n",
    "         + [grey] + [brown]*4 + [blue]*3 + [lightblue]*3 + [grey]*5 + [purple]*2"
   ]
  },
  {
   "cell_type": "markdown",
   "metadata": {},
   "source": [
    "Now to draw them – this time we add three tracks to the diagram, and also notice they are given different start/end values to reflect their different lengths."
   ]
  },
  {
   "cell_type": "code",
   "execution_count": null,
   "metadata": {
    "jupyter": {
     "outputs_hidden": false
    }
   },
   "outputs": [],
   "source": [
    "name = \"data/Proux Fig 6\"\n",
    "gd_diagram = GenomeDiagram.Diagram(name)\n",
    "max_len = 0\n",
    "for record, gene_colors in zip([A_rec, B_rec], [A_colors, B_colors]):\n",
    "    max_len = max(max_len, len(record))\n",
    "    gd_track_for_features = gd_diagram.new_track(1,\n",
    "                            name=record.name,\n",
    "                            greytrack=True,\n",
    "                            start=0, end=len(record))\n",
    "    gd_feature_set = gd_track_for_features.new_set()\n",
    "\n",
    "    i = 0\n",
    "    for feature in record.features:\n",
    "        if feature.type != \"gene\":\n",
    "            #Exclude this feature                                                                                                   \n",
    "            continue\n",
    "        gd_feature_set.add_feature(feature, sigil=\"ARROW\",\n",
    "                                   color=gene_colors[i], label=True,\n",
    "                                   name = str(i+1),\n",
    "                                   label_position=\"start\",\n",
    "                                   label_size = 6, label_angle=0)\n",
    "        i+=1\n",
    "\n",
    "gd_diagram.draw(format=\"linear\", pagesize='A4', fragments=1,\n",
    "                start=0, end=max_len)\n",
    "gd_diagram.write(name + \".png\", \"png\")\n",
    "Image(name + \".png\")"
   ]
  },
  {
   "cell_type": "markdown",
   "metadata": {},
   "source": [
    "I did wonder why in the original manuscript there were no red or orange genes marked in the bottom phage. Another important point is here the phage are shown with different lengths - this is because they are all drawn to the same scale (they are different lengths).\n",
    "\n",
    "The key difference from the published figure is they have color-coded links between similar proteins – which is what we will do in the next section."
   ]
  },
  {
   "cell_type": "markdown",
   "metadata": {},
   "source": [
    "### Cross-Links between tracks"
   ]
  },
  {
   "cell_type": "markdown",
   "metadata": {},
   "source": [
    "Biopython 1.59 added the ability to draw cross links between tracks - both simple linear diagrams as we will show here, but also linear diagrams split into fragments and circular diagrams.\n",
    "\n",
    "Continuing the example from the previous section inspired by Figure 6 from Proux et al. 2002, we would need a list of cross links between pairs of genes, along with a score or color to use. Realistically you might extract this from a BLAST file computationally, but here I have manually typed them in.\n",
    "\n",
    "My naming convention continues to refer to the three phage as A, B and C. Here are the links we want to show between A and B, given as a list of tuples (percentage similarity score, gene in A, gene in B)."
   ]
  },
  {
   "cell_type": "code",
   "execution_count": null,
   "metadata": {
    "jupyter": {
     "outputs_hidden": false
    }
   },
   "outputs": [],
   "source": [
    "#Tuc2009 (NC_002703) vs bIL285 (AF323668)\n",
    "A_vs_B = [\n",
    "    (99, \"Tuc2009_01\", \"int\"),\n",
    "    (33, \"Tuc2009_03\", \"orf4\"),\n",
    "    (94, \"Tuc2009_05\", \"orf6\"),\n",
    "    (100,\"Tuc2009_06\", \"orf7\"),\n",
    "    (97, \"Tuc2009_07\", \"orf8\"),\n",
    "    (98, \"Tuc2009_08\", \"orf9\"),\n",
    "    (98, \"Tuc2009_09\", \"orf10\"),\n",
    "    (100,\"Tuc2009_10\", \"orf12\"),\n",
    "    (100,\"Tuc2009_11\", \"orf13\"),\n",
    "    (94, \"Tuc2009_12\", \"orf14\"),\n",
    "    (87, \"Tuc2009_13\", \"orf15\"),\n",
    "    (94, \"Tuc2009_14\", \"orf16\"),\n",
    "    (94, \"Tuc2009_15\", \"orf17\"),\n",
    "    (88, \"Tuc2009_17\", \"rusA\"),\n",
    "    (91, \"Tuc2009_18\", \"orf20\"),\n",
    "    (93, \"Tuc2009_19\", \"orf22\"),\n",
    "    (71, \"Tuc2009_20\", \"orf23\"),\n",
    "    (51, \"Tuc2009_22\", \"orf27\"),\n",
    "    (97, \"Tuc2009_23\", \"orf28\"),\n",
    "    (88, \"Tuc2009_24\", \"orf29\"),\n",
    "    (26, \"Tuc2009_26\", \"orf38\"),\n",
    "    (19, \"Tuc2009_46\", \"orf52\"),\n",
    "    (77, \"Tuc2009_48\", \"orf54\"),\n",
    "    (91, \"Tuc2009_49\", \"orf55\"),\n",
    "    (95, \"Tuc2009_52\", \"orf60\"), \n",
    "]"
   ]
  },
  {
   "cell_type": "markdown",
   "metadata": {},
   "source": [
    "For the first and last phage these identifiers are locus tags, for the middle phage there are no locus tags so I’ve used gene names instead. The following little helper function lets us lookup a feature using either a locus tag or gene name:"
   ]
  },
  {
   "cell_type": "code",
   "execution_count": null,
   "metadata": {
    "jupyter": {
     "outputs_hidden": false
    }
   },
   "outputs": [],
   "source": [
    "def get_feature(features, id, tags=[\"locus_tag\", \"gene\"]):\n",
    "    \"\"\"Search list of SeqFeature objects for an identifier under the given tags.\"\"\"\n",
    "    for f in features:\n",
    "        for key in tags:\n",
    "            #tag may not be present in this feature \n",
    "            for x in f.qualifiers.get(key, []):\n",
    "                if x == id:\n",
    "                     return f\n",
    "    raise KeyError(id)"
   ]
  },
  {
   "cell_type": "markdown",
   "metadata": {},
   "source": [
    "We can now turn those list of identifier pairs into SeqFeature pairs, and thus find their location co-ordinates. We can now add all that code and the following snippet to the previous example (just before the gd_diagram.draw(...) line – see the finished example script <a href=\"data/Proux_et_al_2002_Figure_6.py\">Proux_et_al_2002_Figure_6.py</a> included in the Doc/examples folder of the Biopython source code) to add cross links to the figure:"
   ]
  },
  {
   "cell_type": "code",
   "execution_count": null,
   "metadata": {
    "jupyter": {
     "outputs_hidden": false
    }
   },
   "outputs": [],
   "source": [
    "from Bio.Graphics.GenomeDiagram import CrossLink\n",
    "from reportlab.lib import colors\n",
    "#Note it might have been clearer to assign the track numbers explicitly...                                                          \n",
    "for rec_X, tn_X, rec_Y, tn_Y, X_vs_Y in [(A_rec, 2, B_rec, 1, A_vs_B)]:\n",
    "    track_X = gd_diagram.tracks[tn_X]\n",
    "    track_Y = gd_diagram.tracks[tn_Y]\n",
    "    for score, id_X, id_Y in X_vs_Y:\n",
    "        feature_X = get_feature(rec_X.features, id_X)\n",
    "        feature_Y = get_feature(rec_Y.features, id_Y)\n",
    "        color = colors.linearlyInterpolatedColor(colors.white, colors.firebrick, 0, 100, score)\n",
    "        link_xy = CrossLink((track_X, feature_X.location.start, feature_X.location.end),\n",
    "                            (track_Y, feature_Y.location.start, feature_Y.location.end),\n",
    "                            color, colors.lightgrey)\n",
    "        gd_diagram.cross_track_links.append(link_xy)\n",
    "gd_diagram.draw(format=\"linear\", pagesize='A4', fragments=1,\n",
    "                start=0, end=max_len)\n",
    "gd_diagram.write(\"data/cross.png\", \"png\")\n",
    "Image(\"data/cross.png\")"
   ]
  },
  {
   "cell_type": "markdown",
   "metadata": {},
   "source": [
    "There are several important pieces to this code. First the GenomeDiagram object has a cross_track_links attribute which is just a list of CrossLink objects. Each CrossLink object takes two sets of track-specific co-ordinates (here given as tuples, you can alternatively use a GenomeDiagram.Feature object instead). You can optionally supply a colour, border color, and say if this link should be drawn flipped (useful for showing inversions).\n",
    "\n",
    "You can also see how we turn the BLAST percentage identity score into a colour, interpolating between white (0%) and a dark red (100%). In this example we don’t have any problems with overlapping cross-links. One way to tackle that is to use transparency in ReportLab, by using colors with their alpha channel set. However, this kind of shaded color scheme combined with overlap transparency would be difficult to interpret. The result:"
   ]
  },
  {
   "cell_type": "markdown",
   "metadata": {},
   "source": [
    "There is still a lot more that can be done within Biopython to help improve this figure. First of all, the cross links in this case are between proteins which are drawn in a strand specific manor. It can help to add a background region (a feature using the ‘BOX’ sigil) on the feature track to extend the cross link. Also, we could reduce the vertical height of the feature tracks to allocate more to the links instead – one way to do that is to allocate space for empty tracks. Furthermore, in cases like this where there are no large gene overlaps, we can use the axis-straddling BIGARROW sigil, which allows us to further reduce the vertical space needed for the track. These improvements are demonstrated in the example script <a href=\"data/Proux_et_al_2002_Figure_6.py\">Proux_et_al_2002_Figure_6.py</a>."
   ]
  },
  {
   "cell_type": "markdown",
   "metadata": {},
   "source": [
    "Beyond that, finishing touches you might want to do manually in a vector image editor include fine tuning the placement of gene labels, and adding other custom annotation such as highlighting particular regions.\n",
    "\n",
    "Although not really necessary in this example since none of the cross-links overlap, using a transparent color in ReportLab is a very useful technique for superimposing multiple links. However, in this case a shaded color scheme should be avoided."
   ]
  },
  {
   "cell_type": "markdown",
   "metadata": {},
   "source": [
    "## Chromosomes"
   ]
  },
  {
   "cell_type": "markdown",
   "metadata": {},
   "source": [
    "The Bio.Graphics.BasicChromosome module allows drawing of chromosomes. There is an example in Jupe et al. (2012) (open access) using colors to highlight different gene families."
   ]
  },
  {
   "cell_type": "markdown",
   "metadata": {},
   "source": [
    "### Simple Chromosomes"
   ]
  },
  {
   "cell_type": "markdown",
   "metadata": {},
   "source": [
    "**Important**: To continue this example you have first to download a few chromosomes from Arabidopsis thaliana, the code to help you is here:\n",
    "\n",
    "**Very important**: This is slow and clogs the network, you only need to do this once (even if you close the notebook as the download will be persistent)"
   ]
  },
  {
   "cell_type": "code",
   "execution_count": null,
   "metadata": {
    "jupyter": {
     "outputs_hidden": false
    }
   },
   "outputs": [],
   "source": [
    "from ftplib import FTP\n",
    "ftp = FTP('ftp.ncbi.nlm.nih.gov')\n",
    "print(\"Logging in\")\n",
    "ftp.login()\n",
    "ftp.cwd('genomes/archive/old_genbank/A_thaliana/OLD/')\n",
    "print(\"Starting download - This can be slow!\")\n",
    "for chro, name in [\n",
    "        (\"CHR_I\", \"NC_003070.fna\"), (\"CHR_I\", \"NC_003070.gbk\"),\n",
    "        (\"CHR_II\", \"NC_003071.fna\"), (\"CHR_II\", \"NC_003071.gbk\"),\n",
    "        (\"CHR_III\", \"NC_003072.fna\"), (\"CHR_III\", \"NC_003072.gbk\"),\n",
    "        (\"CHR_IV\", \"NC_003073.fna\"), (\"CHR_IV\", \"NC_003073.gbk\"),\n",
    "        (\"CHR_V\", \"NC_003074.fna\"), (\"CHR_V\", \"NC_003074.gbk\")]:\n",
    "    print(\"Downloading\", chro, name)\n",
    "    ftp.retrbinary('RETR %s/%s' % (chro, name), open('data/%s' % name, 'wb').write)\n",
    "ftp.quit()\n",
    "print('Done')"
   ]
  },
  {
   "cell_type": "markdown",
   "metadata": {},
   "source": [
    "Here is a very simple example - for which we’ll use Arabidopsis thaliana.\n",
    "\n",
    "You can skip this bit, but first I downloaded the five sequenced chromosomes from the NCBI’s FTP site (per the code above) and then parsed them with Bio.SeqIO to find out their lengths. You could use the GenBank files for this, but it is faster to use the FASTA files for the whole chromosomes:"
   ]
  },
  {
   "cell_type": "code",
   "execution_count": null,
   "metadata": {
    "jupyter": {
     "outputs_hidden": false
    }
   },
   "outputs": [],
   "source": [
    "from Bio import SeqIO\n",
    "entries = [(\"Chr I\", \"NC_003070.fna\"),\n",
    "           (\"Chr II\", \"NC_003071.fna\"),\n",
    "           (\"Chr III\", \"NC_003072.fna\"),\n",
    "           (\"Chr IV\", \"NC_003073.fna\"),\n",
    "           (\"Chr V\", \"NC_003074.fna\")]\n",
    "for (name, filename) in entries:\n",
    "   record = SeqIO.read(\"data/\" + filename, \"fasta\")\n",
    "   print(name, len(record))"
   ]
  },
  {
   "cell_type": "markdown",
   "metadata": {},
   "source": [
    "This gave the lengths of the five chromosomes, which we’ll now use in the following short demonstration of the BasicChromosome module:"
   ]
  },
  {
   "cell_type": "code",
   "execution_count": null,
   "metadata": {
    "jupyter": {
     "outputs_hidden": false
    }
   },
   "outputs": [],
   "source": [
    "from reportlab.lib.units import cm\n",
    "from Bio.Graphics import BasicChromosome\n",
    "\n",
    "entries = [(\"Chr I\", 30432563),\n",
    "           (\"Chr II\", 19705359),\n",
    "           (\"Chr III\", 23470805),\n",
    "           (\"Chr IV\", 18585042),\n",
    "           (\"Chr V\", 26992728)]\n",
    "\n",
    "max_len = 30432563 #Could compute this\n",
    "telomere_length = 1000000 #For illustration\n",
    "         \n",
    "chr_diagram = BasicChromosome.Organism(output_format=\"png\")\n",
    "chr_diagram.page_size = (29.7*cm, 21*cm) #A4 landscape\n",
    "\n",
    "for name, length in entries:\n",
    "    cur_chromosome = BasicChromosome.Chromosome(name)\n",
    "    #Set the scale to the MAXIMUM length plus the two telomeres in bp,\n",
    "    #want the same scale used on all five chromosomes so they can be\n",
    "    #compared to each other\n",
    "    cur_chromosome.scale_num = max_len + 2 * telomere_length\n",
    "\n",
    "    #Add an opening telomere\n",
    "    start = BasicChromosome.TelomereSegment()\n",
    "    start.scale = telomere_length\n",
    "    cur_chromosome.add(start)\n",
    "\n",
    "    #Add a body - using bp as the scale length here.\n",
    "    body = BasicChromosome.ChromosomeSegment()\n",
    "    body.scale = length\n",
    "    cur_chromosome.add(body)\n",
    "\n",
    "    #Add a closing telomere\n",
    "    end = BasicChromosome.TelomereSegment(inverted=True)\n",
    "    end.scale = telomere_length\n",
    "    cur_chromosome.add(end)\n",
    "\n",
    "    #This chromosome is done\n",
    "    chr_diagram.add(cur_chromosome)\n",
    "\n",
    "chr_diagram.draw(\"data/simple_chrom.png\", \"Arabidopsis thaliana\")\n",
    "Image(\"data/simple_chrom.png\")"
   ]
  },
  {
   "cell_type": "markdown",
   "metadata": {},
   "source": [
    "This example is deliberately short and sweet. The next example shows the location of features of interest."
   ]
  },
  {
   "cell_type": "markdown",
   "metadata": {},
   "source": [
    "Continuing from the previous example, let’s also show the tRNA genes. We’ll get their locations by parsing the GenBank files for the five Arabidopsis thaliana chromosomes. You’ll need to download these files from the NCBI FTP site."
   ]
  },
  {
   "cell_type": "code",
   "execution_count": null,
   "metadata": {
    "jupyter": {
     "outputs_hidden": false
    }
   },
   "outputs": [],
   "source": [
    "entries = [(\"Chr I\", \"NC_003070.gbk\"),\n",
    "           (\"Chr II\", \"NC_003071.gbk\"),\n",
    "           (\"Chr III\", \"NC_003072.gbk\"),\n",
    "           (\"Chr IV\", \"NC_003073.gbk\"),\n",
    "           (\"Chr V\", \"NC_003074.gbk\")]\n",
    "\n",
    "max_len = 30432563 #Could compute this\n",
    "telomere_length = 1000000 #For illustration\n",
    "\n",
    "chr_diagram = BasicChromosome.Organism(output_format=\"png\")\n",
    "chr_diagram.page_size = (29.7*cm, 21*cm) #A4 landscape\n",
    "\n",
    "for index, (name, filename) in enumerate(entries):\n",
    "    record = SeqIO.read(\"data/\" + filename,\"genbank\")\n",
    "    length = len(record)\n",
    "    features = [f for f in record.features if f.type==\"tRNA\"]\n",
    "    #Record an Artemis style integer color in the feature's qualifiers,\n",
    "    #1 = Black, 2 = Red, 3 = Green, 4 = blue, 5 =cyan, 6 = purple \n",
    "    for f in features: f.qualifiers[\"color\"] = [index+2]\n",
    "\n",
    "    cur_chromosome = BasicChromosome.Chromosome(name)\n",
    "    #Set the scale to the MAXIMUM length plus the two telomeres in bp,\n",
    "    #want the same scale used on all five chromosomes so they can be\n",
    "    #compared to each other\n",
    "    cur_chromosome.scale_num = max_len + 2 * telomere_length\n",
    "\n",
    "    #Add an opening telomere\n",
    "    start = BasicChromosome.TelomereSegment()\n",
    "    start.scale = telomere_length\n",
    "    cur_chromosome.add(start)\n",
    "\n",
    "    #Add a body - again using bp as the scale length here.\n",
    "    body = BasicChromosome.AnnotatedChromosomeSegment(length, features)\n",
    "    body.scale = length\n",
    "    cur_chromosome.add(body)\n",
    "\n",
    "    #Add a closing telomere\n",
    "    end = BasicChromosome.TelomereSegment(inverted=True)\n",
    "    end.scale = telomere_length\n",
    "    cur_chromosome.add(end)\n",
    "\n",
    "    #This chromosome is done\n",
    "    chr_diagram.add(cur_chromosome)\n",
    "\n",
    "chr_diagram.draw(\"data/tRNA_chrom.png\", \"Arabidopsis thaliana\")\n",
    "Image(\"data/tRNA_chrom.png\")"
   ]
  },
  {
   "cell_type": "code",
   "execution_count": null,
   "metadata": {
    "jupyter": {
     "outputs_hidden": false
    }
   },
   "outputs": [],
   "source": []
  }
 ],
 "metadata": {
  "kernelspec": {
   "display_name": "Python 3 (ipykernel)",
   "language": "python",
   "name": "python3"
  },
  "language_info": {
   "codemirror_mode": {
    "name": "ipython",
    "version": 3
   },
   "file_extension": ".py",
   "mimetype": "text/x-python",
   "name": "python",
   "nbconvert_exporter": "python",
   "pygments_lexer": "ipython3",
   "version": "3.9.7"
  }
 },
 "nbformat": 4,
 "nbformat_minor": 4
}
