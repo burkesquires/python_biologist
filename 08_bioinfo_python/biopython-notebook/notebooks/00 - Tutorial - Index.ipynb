{
 "cells": [
  {
   "cell_type": "markdown",
   "metadata": {},
   "source": [
    "**Source of the materials**: Biopython cookbook (adapted)\n",
    "<font color='red'>Status: Draft</font>"
   ]
  },
  {
   "cell_type": "markdown",
   "metadata": {},
   "source": [
    "<img src=\"images/biopython.jpg\">"
   ]
  },
  {
   "cell_type": "markdown",
   "metadata": {},
   "source": [
    "# Biopython\n",
    "Tutorial and Cookbook\n",
    "--------------------\n",
    "[1 - Introduction](01%20-%20Introduction.ipynb)\n",
    "\n",
    "[2 - Quick Start](02%20-%20Quick%20Start.ipynb)\n",
    "\n",
    "[3 - Sequence Objects](03%20-%20Sequence%20Objects.ipynb)\n",
    "\n",
    "[4 - Sequence Annotation objects](04%20-%20Sequence%20Annotation%20objects.ipynb)\n",
    "\n",
    "[5 - Sequence Input and Output](05%20-%20Sequence%20Input%20and%20Output.ipynb)\n",
    "\n",
    "[6 - Multiple Sequence Alignment objects](06%20-%20Multiple%20Sequence%20Alignment%20objects.ipynb)\n",
    "\n",
    "[7 - Blast](07%20-%20Blast.ipynb)\n",
    "\n",
    "[8 - BLAST and other sequence search tools (experimental code)](08%20-%20BLAST%20and%20other%20sequence%20search%20tools%20(experimental%20code).ipynb)\n",
    "\n",
    "[9 - Accessing NCBI’s Entrez databases](09%20-%20Accessing%20NCBIs%20Entrez%20databases.ipynb)\n",
    "\n",
    "[10 - Swiss-Prot and ExPASy](10%20-%20Swiss-Prot%20and%20ExPASy.ipynb)\n",
    "\n",
    "[11 - Going 3D - The PDB module](11%20-%20Going%203D%20-%20The%20PDB%20module.ipynb)\n",
    "\n",
    "[12 - Bio.PopGen - Population Genetics](12%20-%20Bio.PopGen%20-%20Population%20Genetics.ipynb)\n",
    "\n",
    "[13 - Phylogenetics with Bio.Phylo](13%20-%20Phylogenetics%20with%20Bio.Phylo.ipynb)\n",
    "\n",
    "[14 - Sequence motif analysis using Bio.motifs](14%20-%20Sequence%20motif%20analysis%20using%20Bio.motifs.ipynb)\n",
    "\n",
    "[15 - Cluster Analysis](15%20-%20Cluster%20Analysis.ipynb)\n",
    "\n",
    "[16 - Supervised learning methods](16%20-%20Supervised%20learning%20methods.ipynb)\n",
    "\n",
    "[17 - Graphics including GenomeDiagram](17%20-%20Graphics%20including%20GenomeDiagram.ipynb)\n",
    "\n",
    "[18 - KEGG](18%20-%20KEGG.ipynb)\n",
    "\n",
    "[19 - Cookbook – Cool things to do with it](19%20-%20Cookbook%20-%20Cool%20things%20to%20do%20with%20it.ipynb)\n",
    "\n",
    "[20 - The Biopython testing](20%20-%20The%20Biopython%20testing.ipynb)\n",
    "\n",
    "[21 - Advanced](21%20-%20Advanced.ipynb)\n",
    "\n",
    "[22 - Where to go from here – contributing to Biopython](22%20-%20Where%20to%20go%20from%20here%20-%20contributing%20to%20Biopython.ipynb)\n",
    "\n",
    "[23 - Appendix, Useful stuff about Python](23%20-%20Appendix%2C%20Useful%20stuff%20about%20Python.ipynb)\n",
    "\n",
    "[Credits](99%20-%20Credits.ipynb)\n",
    "\n",
    "[References](99%20-%20References.ipynb)\n"
   ]
  },
  {
   "cell_type": "code",
   "execution_count": null,
   "metadata": {
    "collapsed": true
   },
   "outputs": [],
   "source": []
  }
 ],
 "metadata": {
  "kernelspec": {
   "display_name": "Python 3",
   "language": "python",
   "name": "python3"
  },
  "language_info": {
   "codemirror_mode": {
    "name": "ipython",
    "version": 3
   },
   "file_extension": ".py",
   "mimetype": "text/x-python",
   "name": "python",
   "nbconvert_exporter": "python",
   "pygments_lexer": "ipython3",
   "version": "3.5.1"
  }
 },
 "nbformat": 4,
 "nbformat_minor": 0
}
