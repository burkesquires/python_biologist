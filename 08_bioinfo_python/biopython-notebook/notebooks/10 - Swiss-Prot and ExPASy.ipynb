{
 "cells": [
  {
   "cell_type": "markdown",
   "metadata": {},
   "source": [
    "**Source of the materials**: Biopython cookbook (adapted)\n",
    "<font color='red'>Status: Draft</font>"
   ]
  },
  {
   "cell_type": "markdown",
   "metadata": {},
   "source": [
    "Swiss-Prot and ExPASy {#chapter:swiss_prot}\n",
    "=====================\n",
    "\n",
    "Parsing Swiss-Prot files\n",
    "------------------------\n",
    "\n",
    "Swiss-Prot (<http://www.expasy.org/sprot>) is a hand-curated database of\n",
    "protein sequences. Biopython can parse the “plain text” Swiss-Prot file\n",
    "format, which is still used for the UniProt Knowledgebase which combined\n",
    "Swiss-Prot, TrEMBL and PIR-PSD. We do not (yet) support the UniProtKB\n",
    "XML file format.\n",
    "\n",
    "### Parsing Swiss-Prot records\n",
    "\n",
    "In Section \\[sec:SeqIO\\_ExPASy\\_and\\_SwissProt\\], we described how to\n",
    "extract the sequence of a Swiss-Prot record as a `SeqRecord` object.\n",
    "Alternatively, you can store the Swiss-Prot record in a\n",
    "`Bio.SwissProt.Record` object, which in fact stores the complete\n",
    "information contained in the Swiss-Prot record. In this section, we\n",
    "describe how to extract `Bio.SwissProt.Record` objects from a Swiss-Prot\n",
    "file.\n",
    "\n",
    "To parse a Swiss-Prot record, we first get a handle to a Swiss-Prot\n",
    "record. There are several ways to do so, depending on where and how the\n",
    "Swiss-Prot record is stored:\n",
    "\n",
    "-   Open a Swiss-Prot file locally:\n",
    "    `>>> handle = open(\"myswissprotfile.dat\")`\n",
    "\n",
    "-   Open a gzipped Swiss-Prot file:\n",
    "\n"
   ]
  },
  {
   "cell_type": "code",
   "execution_count": null,
   "metadata": {},
   "outputs": [],
   "source": [
    "import gzip\n",
    "handle = gzip.open(\"myswissprotfile.dat.gz\")\n"
   ]
  },
  {
   "cell_type": "markdown",
   "metadata": {},
   "source": [
    "\n",
    "-   Open a Swiss-Prot file over the internet:\n",
    "\n"
   ]
  },
  {
   "cell_type": "code",
   "execution_count": null,
   "metadata": {},
   "outputs": [],
   "source": [
    "import urllib.request\n",
    "handle = urllib.request.urlopen(\"http://www.somelocation.org/data/someswissprotfile.dat\")\n"
   ]
  },
  {
   "cell_type": "markdown",
   "metadata": {},
   "source": [
    "\n",
    "-   Open a Swiss-Prot file over the internet from the ExPASy database\n",
    "    (see section \\[subsec:expasy\\_swissprot\\]):\n",
    "\n"
   ]
  },
  {
   "cell_type": "code",
   "execution_count": null,
   "metadata": {},
   "outputs": [],
   "source": [
    "from Bio import ExPASy\n",
    "handle = ExPASy.get_sprot_raw(myaccessionnumber)\n"
   ]
  },
  {
   "cell_type": "markdown",
   "metadata": {},
   "source": [
    "\n",
    "The key point is that for the parser, it doesn’t matter how the handle\n",
    "was created, as long as it points to data in the Swiss-Prot format.\n",
    "\n",
    "We can use `Bio.SeqIO` as described in\n",
    "Section \\[sec:SeqIO\\_ExPASy\\_and\\_SwissProt\\] to get file format\n",
    "agnostic `SeqRecord` objects. Alternatively, we can use `Bio.SwissProt`\n",
    "get `Bio.SwissProt.Record` objects, which are a much closer match to the\n",
    "underlying file format.\n",
    "\n",
    "To read one Swiss-Prot record from the handle, we use the function\n",
    "`read()`:\n",
    "\n"
   ]
  },
  {
   "cell_type": "code",
   "execution_count": null,
   "metadata": {},
   "outputs": [],
   "source": [
    "from Bio import SwissProt\n",
    "record = SwissProt.read(handle)"
   ]
  },
  {
   "cell_type": "markdown",
   "metadata": {},
   "source": [
    "\n",
    "This function should be used if the handle points to exactly one\n",
    "Swiss-Prot record. It raises a `ValueError` if no Swiss-Prot record was\n",
    "found, and also if more than one record was found.\n",
    "\n",
    "We can now print out some information about this record:\n",
    "\n"
   ]
  },
  {
   "cell_type": "code",
   "execution_count": null,
   "metadata": {},
   "outputs": [],
   "source": [
    "print(record.description)"
   ]
  },
  {
   "cell_type": "code",
   "execution_count": null,
   "metadata": {},
   "outputs": [],
   "source": [
    "for ref in record.references:\n",
    "    print(\"authors:\", ref.authors)\n",
    "    print(\"title:\", ref.title)"
   ]
  },
  {
   "cell_type": "code",
   "execution_count": null,
   "metadata": {},
   "outputs": [],
   "source": [
    "print(record.organism_classification)"
   ]
  },
  {
   "cell_type": "markdown",
   "metadata": {},
   "source": [
    "\n",
    "To parse a file that contains more than one Swiss-Prot record, we use\n",
    "the `parse` function instead. This function allows us to iterate over\n",
    "the records in the file.\n",
    "\n",
    "For example, let’s parse the full Swiss-Prot database and collect all\n",
    "the descriptions. You can download this from the [ExPAYs FTP\n",
    "site](ftp://ftp.expasy.org/databases/uniprot/current_release/knowledgebase/complete/uniprot_sprot.dat.gz)\n",
    "as a single gzipped-file `uniprot_sprot.dat.gz` (about 300MB). This is a\n",
    "compressed file containing a single file, `uniprot_sprot.dat` (over\n",
    "1.5GB).\n",
    "\n",
    "As described at the start of this section, you can use the Python\n",
    "library `gzip` to open and uncompress a `.gz` file, like this:\n",
    "\n"
   ]
  },
  {
   "cell_type": "code",
   "execution_count": null,
   "metadata": {},
   "outputs": [],
   "source": [
    "import gzip\n",
    "handle = gzip.open(\"data/uniprot_sprot.dat.gz\")"
   ]
  },
  {
   "cell_type": "markdown",
   "metadata": {},
   "source": [
    "\n",
    "However, uncompressing a large file takes time, and each time you open\n",
    "the file for reading in this way, it has to be decompressed on the fly.\n",
    "So, if you can spare the disk space you’ll save time in the long run if\n",
    "you first decompress the file to disk, to get the `uniprot_sprot.dat`\n",
    "file inside. Then you can open the file for reading as usual:\n",
    "\n"
   ]
  },
  {
   "cell_type": "code",
   "execution_count": null,
   "metadata": {},
   "outputs": [],
   "source": [
    "handle = open(\"data/uniprot_sprot.dat\")\n"
   ]
  },
  {
   "cell_type": "markdown",
   "metadata": {},
   "source": [
    "\n",
    "As of June 2009, the full Swiss-Prot database downloaded from ExPASy\n",
    "contained 468851 Swiss-Prot records. One concise way to build up a list\n",
    "of the record descriptions is with a list comprehension:\n",
    "\n"
   ]
  },
  {
   "cell_type": "code",
   "execution_count": null,
   "metadata": {},
   "outputs": [],
   "source": [
    "from Bio import SwissProt\n",
    "handle = open(\"data/uniprot_sprot.dat\")\n",
    "descriptions = [record.description for record in SwissProt.parse(handle)]\n",
    "len(descriptions)\n"
   ]
  },
  {
   "cell_type": "code",
   "execution_count": null,
   "metadata": {},
   "outputs": [],
   "source": [
    "descriptions[:5]\n"
   ]
  },
  {
   "cell_type": "markdown",
   "metadata": {},
   "source": [
    "\n",
    "Or, using a for loop over the record iterator:\n",
    "\n"
   ]
  },
  {
   "cell_type": "code",
   "execution_count": null,
   "metadata": {},
   "outputs": [],
   "source": [
    "from Bio import SwissProt\n",
    "descriptions = []\n",
    "handle = open(\"data/uniprot_sprot.dat\")\n",
    "for record in SwissProt.parse(handle):\n",
    "    descriptions.append(record.description)"
   ]
  },
  {
   "cell_type": "code",
   "execution_count": null,
   "metadata": {},
   "outputs": [],
   "source": [
    "len(descriptions)"
   ]
  },
  {
   "cell_type": "markdown",
   "metadata": {},
   "source": [
    "\n",
    "Because this is such a large input file, either way takes about eleven\n",
    "minutes on my new desktop computer (using the uncompressed\n",
    "`uniprot_sprot.dat` file as input).\n",
    "\n",
    "It is equally easy to extract any kind of information you’d like from\n",
    "Swiss-Prot records. To see the members of a Swiss-Prot record, use\n",
    "\n"
   ]
  },
  {
   "cell_type": "code",
   "execution_count": null,
   "metadata": {},
   "outputs": [],
   "source": [
    "dir(record)"
   ]
  },
  {
   "cell_type": "markdown",
   "metadata": {},
   "source": [
    "\n",
    "### Parsing the Swiss-Prot keyword and category list\n",
    "\n",
    "Swiss-Prot also distributes a file `keywlist.txt`, which lists the\n",
    "keywords and categories used in Swiss-Prot. The file contains entries in\n",
    "the following form:\n",
    "\n"
   ]
  },
  {
   "cell_type": "markdown",
   "metadata": {},
   "source": [
    "```\n",
    "ID   2Fe-2S.\n",
    "AC   KW-0001\n",
    "DE   Protein which contains at least one 2Fe-2S iron-sulfur cluster: 2 iron\n",
    "DE   atoms complexed to 2 inorganic sulfides and 4 sulfur atoms of\n",
    "DE   cysteines from the protein.\n",
    "SY   Fe2S2; [2Fe-2S] cluster; [Fe2S2] cluster; Fe2/S2 (inorganic) cluster;\n",
    "SY   Di-mu-sulfido-diiron; 2 iron, 2 sulfur cluster binding.\n",
    "GO   GO:0051537; 2 iron, 2 sulfur cluster binding\n",
    "HI   Ligand: Iron; Iron-sulfur; 2Fe-2S.\n",
    "HI   Ligand: Metal-binding; 2Fe-2S.\n",
    "CA   Ligand.\n",
    "//\n",
    "ID   3D-structure.\n",
    "AC   KW-0002\n",
    "DE   Protein, or part of a protein, whose three-dimensional structure has\n",
    "DE   been resolved experimentally (for example by X-ray crystallography or\n",
    "DE   NMR spectroscopy) and whose coordinates are available in the PDB\n",
    "DE   database. Can also be used for theoretical models.\n",
    "HI   Technical term: 3D-structure.\n",
    "CA   Technical term.\n",
    "//\n",
    "ID   3Fe-4S.\n",
    "...\n",
    "\n",
    "```"
   ]
  },
  {
   "cell_type": "markdown",
   "metadata": {},
   "source": [
    "\n",
    "The entries in this file can be parsed by the `parse` function in the\n",
    "`Bio.SwissProt.KeyWList` module. Each entry is then stored as a\n",
    "`Bio.SwissProt.KeyWList.Record`, which is a Python dictionary.\n",
    "\n"
   ]
  },
  {
   "cell_type": "code",
   "execution_count": null,
   "metadata": {},
   "outputs": [],
   "source": [
    "from Bio.SwissProt import KeyWList\n",
    "handle = open(\"data/keywlist.txt\")\n",
    "records = KeyWList.parse(handle)\n",
    "for record in records:\n",
    "    print(record['ID'])\n",
    "    print(record['DE'])"
   ]
  },
  {
   "cell_type": "markdown",
   "metadata": {},
   "source": [
    "\n",
    "This prints\n",
    "\n"
   ]
  },
  {
   "cell_type": "markdown",
   "metadata": {},
   "source": [
    "```\n",
    "2Fe-2S.\n",
    "Protein which contains at least one 2Fe-2S iron-sulfur cluster: 2 iron atoms\n",
    "complexed to 2 inorganic sulfides and 4 sulfur atoms of cysteines from the\n",
    "protein.\n",
    "...\n",
    "\n",
    "```"
   ]
  },
  {
   "cell_type": "markdown",
   "metadata": {},
   "source": [
    "\n",
    "Parsing Prosite records\n",
    "-----------------------\n",
    "\n",
    "Prosite is a database containing protein domains, protein families,\n",
    "functional sites, as well as the patterns and profiles to recognize\n",
    "them. Prosite was developed in parallel with Swiss-Prot. In Biopython, a\n",
    "Prosite record is represented by the `Bio.ExPASy.Prosite.Record` class,\n",
    "whose members correspond to the different fields in a Prosite record.\n",
    "\n",
    "In general, a Prosite file can contain more than one Prosite records.\n",
    "For example, the full set of Prosite records, which can be downloaded as\n",
    "a single file (`prosite.dat`) from the [ExPASy FTP\n",
    "site](ftp://ftp.expasy.org/databases/prosite/prosite.dat), contains 2073\n",
    "records (version 20.24 released on 4 December 2007). To parse such a\n",
    "file, we again make use of an iterator:\n",
    "\n"
   ]
  },
  {
   "cell_type": "code",
   "execution_count": null,
   "metadata": {},
   "outputs": [],
   "source": [
    "from Bio.ExPASy import Prosite\n",
    "handle = open(\"myprositefile.dat\")\n",
    "records = Prosite.parse(handle)"
   ]
  },
  {
   "cell_type": "markdown",
   "metadata": {},
   "source": [
    "\n",
    "We can now take the records one at a time and print out some\n",
    "information. For example, using the file containing the complete Prosite\n",
    "database, we’d find\n",
    "\n"
   ]
  },
  {
   "cell_type": "code",
   "execution_count": null,
   "metadata": {},
   "outputs": [],
   "source": [
    "from Bio.ExPASy import Prosite\n",
    "handle = open(\"prosite.dat\")\n",
    "records = Prosite.parse(handle)\n",
    "record = next(records)\n",
    "record.accession"
   ]
  },
  {
   "cell_type": "code",
   "execution_count": null,
   "metadata": {},
   "outputs": [],
   "source": [
    "record.name"
   ]
  },
  {
   "cell_type": "code",
   "execution_count": null,
   "metadata": {},
   "outputs": [],
   "source": [
    "record.pdoc"
   ]
  },
  {
   "cell_type": "code",
   "execution_count": null,
   "metadata": {},
   "outputs": [],
   "source": [
    "record = next(records)\n",
    "record.accession"
   ]
  },
  {
   "cell_type": "code",
   "execution_count": null,
   "metadata": {},
   "outputs": [],
   "source": [
    "record.name"
   ]
  },
  {
   "cell_type": "code",
   "execution_count": null,
   "metadata": {},
   "outputs": [],
   "source": [
    "record.pdoc"
   ]
  },
  {
   "cell_type": "code",
   "execution_count": null,
   "metadata": {},
   "outputs": [],
   "source": [
    "record = next(records)\n",
    "record.accession"
   ]
  },
  {
   "cell_type": "code",
   "execution_count": null,
   "metadata": {},
   "outputs": [],
   "source": [
    "record.name"
   ]
  },
  {
   "cell_type": "code",
   "execution_count": null,
   "metadata": {},
   "outputs": [],
   "source": [
    "record.pdoc"
   ]
  },
  {
   "cell_type": "markdown",
   "metadata": {},
   "source": [
    "\n",
    "and so on. If you’re interested in how many Prosite records there are,\n",
    "you could use\n",
    "\n"
   ]
  },
  {
   "cell_type": "code",
   "execution_count": null,
   "metadata": {},
   "outputs": [],
   "source": [
    "from Bio.ExPASy import Prosite\n",
    "handle = open(\"prosite.dat\")\n",
    "records = Prosite.parse(handle)\n",
    "n = 0\n",
    "for record in records:\n",
    "    n += 1"
   ]
  },
  {
   "cell_type": "code",
   "execution_count": null,
   "metadata": {},
   "outputs": [],
   "source": [
    "n"
   ]
  },
  {
   "cell_type": "markdown",
   "metadata": {},
   "source": [
    "\n",
    "To read exactly one Prosite from the handle, you can use the `read`\n",
    "function:\n",
    "\n"
   ]
  },
  {
   "cell_type": "code",
   "execution_count": null,
   "metadata": {},
   "outputs": [],
   "source": [
    "from Bio.ExPASy import Prosite\n",
    "handle = open(\"mysingleprositerecord.dat\")\n",
    "record = Prosite.read(handle)"
   ]
  },
  {
   "cell_type": "markdown",
   "metadata": {},
   "source": [
    "\n",
    "This function raises a ValueError if no Prosite record is found, and\n",
    "also if more than one Prosite record is found.\n",
    "\n",
    "Parsing Prosite documentation records\n",
    "-------------------------------------\n",
    "\n",
    "In the Prosite example above, the `record.pdoc` accession numbers\n",
    "`'PDOC00001'`, `'PDOC00004'`, `'PDOC00005'` and so on refer to Prosite\n",
    "documentation. The Prosite documentation records are available from\n",
    "ExPASy as individual files, and as one file (`prosite.doc`) containing\n",
    "all Prosite documentation records.\n",
    "\n",
    "We use the parser in `Bio.ExPASy.Prodoc` to parse Prosite documentation\n",
    "records. For example, to create a list of all accession numbers of\n",
    "Prosite documentation record, you can use\n",
    "\n"
   ]
  },
  {
   "cell_type": "code",
   "execution_count": null,
   "metadata": {},
   "outputs": [],
   "source": [
    "from Bio.ExPASy import Prodoc\n",
    "handle = open(\"prosite.doc\")\n",
    "records = Prodoc.parse(handle)\n",
    "accessions = [record.accession for record in records]"
   ]
  },
  {
   "cell_type": "markdown",
   "metadata": {},
   "source": [
    "\n",
    "Again a `read()` function is provided to read exactly one Prosite\n",
    "documentation record from the handle.\n",
    "\n",
    "Parsing Enzyme records\n",
    "----------------------\n",
    "\n",
    "ExPASy’s Enzyme database is a repository of information on enzyme\n",
    "nomenclature. A typical Enzyme record looks as follows:\n",
    "\n"
   ]
  },
  {
   "cell_type": "markdown",
   "metadata": {},
   "source": [
    "```\n",
    "ID   3.1.1.34\n",
    "DE   Lipoprotein lipase.\n",
    "AN   Clearing factor lipase.\n",
    "AN   Diacylglycerol lipase.\n",
    "AN   Diglyceride lipase.\n",
    "CA   Triacylglycerol + H(2)O = diacylglycerol + a carboxylate.\n",
    "CC   -!- Hydrolyzes triacylglycerols in chylomicrons and very low-density\n",
    "CC       lipoproteins (VLDL).\n",
    "CC   -!- Also hydrolyzes diacylglycerol.\n",
    "PR   PROSITE; PDOC00110;\n",
    "DR   P11151, LIPL_BOVIN ;  P11153, LIPL_CAVPO ;  P11602, LIPL_CHICK ;\n",
    "DR   P55031, LIPL_FELCA ;  P06858, LIPL_HUMAN ;  P11152, LIPL_MOUSE ;\n",
    "DR   O46647, LIPL_MUSVI ;  P49060, LIPL_PAPAN ;  P49923, LIPL_PIG   ;\n",
    "DR   Q06000, LIPL_RAT   ;  Q29524, LIPL_SHEEP ;\n",
    "//\n",
    "\n",
    "```"
   ]
  },
  {
   "cell_type": "markdown",
   "metadata": {},
   "source": [
    "\n",
    "In this example, the first line shows the EC (Enzyme Commission) number\n",
    "of lipoprotein lipase (second line). Alternative names of lipoprotein\n",
    "lipase are “clearing factor lipase”, “diacylglycerol lipase”, and\n",
    "“diglyceride lipase” (lines 3 through 5). The line starting with “CA”\n",
    "shows the catalytic activity of this enzyme. Comment lines start with\n",
    "“CC”. The “PR” line shows references to the Prosite Documentation\n",
    "records, and the “DR” lines show references to Swiss-Prot records. Not\n",
    "of these entries are necessarily present in an Enzyme record.\n",
    "\n",
    "In Biopython, an Enzyme record is represented by the\n",
    "`Bio.ExPASy.Enzyme.Record` class. This record derives from a Python\n",
    "dictionary and has keys corresponding to the two-letter codes used in\n",
    "Enzyme files. To read an Enzyme file containing one Enzyme record, use\n",
    "the `read` function in `Bio.ExPASy.Enzyme`:\n",
    "\n"
   ]
  },
  {
   "cell_type": "code",
   "execution_count": null,
   "metadata": {},
   "outputs": [],
   "source": [
    "from Bio.ExPASy import Enzyme\n",
    "with open(\"data/lipoprotein.txt\") as handle:\n",
    "    record = Enzyme.read(handle)"
   ]
  },
  {
   "cell_type": "code",
   "execution_count": null,
   "metadata": {},
   "outputs": [],
   "source": [
    "record[\"ID\"]"
   ]
  },
  {
   "cell_type": "code",
   "execution_count": null,
   "metadata": {},
   "outputs": [],
   "source": [
    "record[\"DE\"]"
   ]
  },
  {
   "cell_type": "code",
   "execution_count": null,
   "metadata": {},
   "outputs": [],
   "source": [
    "record[\"AN\"]"
   ]
  },
  {
   "cell_type": "code",
   "execution_count": null,
   "metadata": {},
   "outputs": [],
   "source": [
    "record[\"CA\"]"
   ]
  },
  {
   "cell_type": "code",
   "execution_count": null,
   "metadata": {},
   "outputs": [],
   "source": [
    "record[\"PR\"]"
   ]
  },
  {
   "cell_type": "markdown",
   "metadata": {},
   "source": [
    "\n"
   ]
  },
  {
   "cell_type": "code",
   "execution_count": null,
   "metadata": {},
   "outputs": [],
   "source": [
    "record[\"CC\"]"
   ]
  },
  {
   "cell_type": "code",
   "execution_count": null,
   "metadata": {},
   "outputs": [],
   "source": [
    "record[\"DR\"]"
   ]
  },
  {
   "cell_type": "markdown",
   "metadata": {},
   "source": [
    "\n",
    "The `read` function raises a ValueError if no Enzyme record is found,\n",
    "and also if more than one Enzyme record is found.\n",
    "\n",
    "The full set of Enzyme records can be downloaded as a single file\n",
    "(`enzyme.dat`) from the [ExPASy FTP\n",
    "site](ftp://ftp.expasy.org/databases/enzyme/enzyme.dat), containing 4877\n",
    "records (release of 3 March 2009). To parse such a file containing\n",
    "multiple Enzyme records, use the `parse` function in `Bio.ExPASy.Enzyme`\n",
    "to obtain an iterator:\n",
    "\n"
   ]
  },
  {
   "cell_type": "code",
   "execution_count": null,
   "metadata": {},
   "outputs": [],
   "source": [
    "from Bio.ExPASy import Enzyme\n",
    "handle = open(\"enzyme.dat\")\n",
    "records = Enzyme.parse(handle)"
   ]
  },
  {
   "cell_type": "markdown",
   "metadata": {},
   "source": [
    "\n",
    "We can now iterate over the records one at a time. For example, we can\n",
    "make a list of all EC numbers for which an Enzyme record is available:\n",
    "\n"
   ]
  },
  {
   "cell_type": "code",
   "execution_count": null,
   "metadata": {},
   "outputs": [],
   "source": [
    "ecnumbers = [record[\"ID\"] for record in records]"
   ]
  },
  {
   "cell_type": "markdown",
   "metadata": {},
   "source": [
    "\n",
    "Accessing the ExPASy server\n",
    "---------------------------\n",
    "\n",
    "Swiss-Prot, Prosite, and Prosite documentation records can be downloaded\n",
    "from the ExPASy web server at <http://www.expasy.org>. Six kinds of\n",
    "queries are available from ExPASy:\n",
    "\n",
    "get\\_prodoc\\_entry\n",
    "\n",
    ":   To download a Prosite documentation record in HTML format\n",
    "\n",
    "get\\_prosite\\_entry\n",
    "\n",
    ":   To download a Prosite record in HTML format\n",
    "\n",
    "get\\_prosite\\_raw\n",
    "\n",
    ":   To download a Prosite or Prosite documentation record in raw format\n",
    "\n",
    "get\\_sprot\\_raw\n",
    "\n",
    ":   To download a Swiss-Prot record in raw format\n",
    "\n",
    "sprot\\_search\\_ful\n",
    "\n",
    ":   To search for a Swiss-Prot record\n",
    "\n",
    "sprot\\_search\\_de\n",
    "\n",
    ":   To search for a Swiss-Prot record\n",
    "\n",
    "To access this web server from a Python script, we use the `Bio.ExPASy`\n",
    "module.\n",
    "\n",
    "### Retrieving a Swiss-Prot record {#subsec:expasy_swissprot}\n",
    "\n",
    "Let’s say we are looking at chalcone synthases for Orchids (see\n",
    "section \\[sec:orchids\\] for some justification for looking for\n",
    "interesting things about orchids). Chalcone synthase is involved in\n",
    "flavanoid biosynthesis in plants, and flavanoids make lots of cool\n",
    "things like pigment colors and UV protectants.\n",
    "\n",
    "If you do a search on Swiss-Prot, you can find three orchid proteins for\n",
    "Chalcone Synthase, id numbers O23729, O23730, O23731. Now, let’s write a\n",
    "script which grabs these, and parses out some interesting information.\n",
    "\n",
    "First, we grab the records, using the `get_sprot_raw()` function of\n",
    "`Bio.ExPASy`. This function is very nice since you can feed it an id and\n",
    "get back a handle to a raw text record (no HTML to mess with!). We can\n",
    "the use `Bio.SwissProt.read` to pull out the Swiss-Prot record, or\n",
    "`Bio.SeqIO.read` to get a SeqRecord. The following code accomplishes\n",
    "what I just wrote:\n",
    "\n"
   ]
  },
  {
   "cell_type": "code",
   "execution_count": null,
   "metadata": {},
   "outputs": [],
   "source": [
    "from Bio import ExPASy\n",
    "from Bio import SwissProt"
   ]
  },
  {
   "cell_type": "code",
   "execution_count": null,
   "metadata": {},
   "outputs": [],
   "source": [
    "accessions = [\"O23729\", \"O23730\", \"O23731\"]\n",
    "records = []"
   ]
  },
  {
   "cell_type": "code",
   "execution_count": null,
   "metadata": {},
   "outputs": [],
   "source": [
    "for accession in accessions:\n",
    "    handle = ExPASy.get_sprot_raw(accession)\n",
    "    record = SwissProt.read(handle)\n",
    "    records.append(record)"
   ]
  },
  {
   "cell_type": "markdown",
   "metadata": {},
   "source": [
    "\n",
    "If the accession number you provided to `ExPASy.get_sprot_raw` does not\n",
    "exist, then `SwissProt.read(handle)` will raise a `ValueError`. You can\n",
    "catch `ValueException` exceptions to detect invalid accession numbers:\n",
    "\n"
   ]
  },
  {
   "cell_type": "code",
   "execution_count": null,
   "metadata": {},
   "outputs": [],
   "source": [
    "for accession in accessions:\n",
    "    handle = ExPASy.get_sprot_raw(accession)\n",
    "    try:\n",
    "        record = SwissProt.read(handle)\n",
    "    except ValueException:\n",
    "        print(\"WARNING: Accession %s not found\" % accession)\n",
    "    records.append(record)"
   ]
  },
  {
   "cell_type": "markdown",
   "metadata": {},
   "source": [
    "\n",
    "### Searching Swiss-Prot\n",
    "\n",
    "Now, you may remark that I knew the records’ accession numbers\n",
    "beforehand. Indeed, `get_sprot_raw()` needs either the entry name or an\n",
    "accession number. When you don’t have them handy, you can use one of the\n",
    "`sprot_search_de()` or `sprot_search_ful()` functions.\n",
    "\n",
    "`sprot_search_de()` searches in the ID, DE, GN, OS and OG lines;\n",
    "`sprot_search_ful()` searches in (nearly) all the fields. They are\n",
    "detailed on <http://www.expasy.org/cgi-bin/sprot-search-de> and\n",
    "<http://www.expasy.org/cgi-bin/sprot-search-ful> respectively. Note that\n",
    "they don’t search in TrEMBL by default (argument `trembl`). Note also\n",
    "that they return HTML pages; however, accession numbers are quite easily\n",
    "extractable:\n",
    "\n"
   ]
  },
  {
   "cell_type": "code",
   "execution_count": null,
   "metadata": {},
   "outputs": [],
   "source": [
    "from Bio import ExPASy\n",
    "import re"
   ]
  },
  {
   "cell_type": "code",
   "execution_count": null,
   "metadata": {},
   "outputs": [],
   "source": [
    "handle = ExPASy.sprot_search_de(\"Orchid Chalcone Synthase\")\n",
    "# or:\n",
    "# handle = ExPASy.sprot_search_ful(\"Orchid and {Chalcone Synthase}\")\n",
    "html_results = handle.read()\n",
    "if \"Number of sequences found\" in html_results:\n",
    "    ids = re.findall(r'HREF=\"/uniprot/(\\w+)\"', html_results)\n",
    "else:\n",
    "    ids = re.findall(r'href=\"/cgi-bin/niceprot\\.pl\\?(\\w+)\"', html_results)"
   ]
  },
  {
   "cell_type": "markdown",
   "metadata": {},
   "source": [
    "\n",
    "### Retrieving Prosite and Prosite documentation records\n",
    "\n",
    "Prosite and Prosite documentation records can be retrieved either in\n",
    "HTML format, or in raw format. To parse Prosite and Prosite\n",
    "documentation records with Biopython, you should retrieve the records in\n",
    "raw format. For other purposes, however, you may be interested in these\n",
    "records in HTML format.\n",
    "\n",
    "To retrieve a Prosite or Prosite documentation record in raw format, use\n",
    "`get_prosite_raw()`. For example, to download a Prosite record and print\n",
    "it out in raw text format, use\n",
    "\n"
   ]
  },
  {
   "cell_type": "code",
   "execution_count": null,
   "metadata": {},
   "outputs": [],
   "source": [
    "from Bio import ExPASy\n",
    "handle = ExPASy.get_prosite_raw('PS00001')\n",
    "text = handle.read()\n",
    "print(text)"
   ]
  },
  {
   "cell_type": "markdown",
   "metadata": {},
   "source": [
    "\n",
    "To retrieve a Prosite record and parse it into a `Bio.Prosite.Record`\n",
    "object, use\n",
    "\n"
   ]
  },
  {
   "cell_type": "code",
   "execution_count": null,
   "metadata": {},
   "outputs": [],
   "source": [
    "from Bio import ExPASy\n",
    "from Bio import Prosite\n",
    "handle = ExPASy.get_prosite_raw('PS00001')\n",
    "record = Prosite.read(handle)"
   ]
  },
  {
   "cell_type": "markdown",
   "metadata": {},
   "source": [
    "\n",
    "The same function can be used to retrieve a Prosite documentation record\n",
    "and parse it into a `Bio.ExPASy.Prodoc.Record` object:\n",
    "\n"
   ]
  },
  {
   "cell_type": "code",
   "execution_count": null,
   "metadata": {},
   "outputs": [],
   "source": [
    "from Bio import ExPASy\n",
    "from Bio.ExPASy import Prodoc\n",
    "handle = ExPASy.get_prosite_raw('PDOC00001')\n",
    "record = Prodoc.read(handle)"
   ]
  },
  {
   "cell_type": "markdown",
   "metadata": {},
   "source": [
    "\n",
    "For non-existing accession numbers, `ExPASy.get_prosite_raw` returns a\n",
    "handle to an emptry string. When faced with an empty string,\n",
    "`Prosite.read` and `Prodoc.read` will raise a ValueError. You can catch\n",
    "these exceptions to detect invalid accession numbers.\n",
    "\n",
    "The functions `get_prosite_entry()` and `get_prodoc_entry()` are used to\n",
    "download Prosite and Prosite documentation records in HTML format. To\n",
    "create a web page showing one Prosite record, you can use\n",
    "\n"
   ]
  },
  {
   "cell_type": "code",
   "execution_count": null,
   "metadata": {},
   "outputs": [],
   "source": [
    "from Bio import ExPASy\n",
    "handle = ExPASy.get_prosite_entry('PS00001')\n",
    "html = handle.read()\n",
    "output = open(\"myprositerecord.html\", \"w\")\n",
    "output.write(html)\n",
    "output.close()"
   ]
  },
  {
   "cell_type": "markdown",
   "metadata": {},
   "source": [
    "\n",
    "and similarly for a Prosite documentation record:\n",
    "\n"
   ]
  },
  {
   "cell_type": "code",
   "execution_count": null,
   "metadata": {},
   "outputs": [],
   "source": [
    "from Bio import ExPASy\n",
    "handle = ExPASy.get_prodoc_entry('PDOC00001')\n",
    "html = handle.read()\n",
    "output = open(\"myprodocrecord.html\", \"w\")\n",
    "output.write(html)\n",
    "output.close()"
   ]
  },
  {
   "cell_type": "markdown",
   "metadata": {},
   "source": [
    "\n",
    "For these functions, an invalid accession number returns an error\n",
    "message in HTML format.\n",
    "\n",
    "Scanning the Prosite database\n",
    "-----------------------------\n",
    "\n",
    "[ScanProsite](http://www.expasy.org/tools/scanprosite/) allows you to\n",
    "scan protein sequences online against the Prosite database by providing\n",
    "a UniProt or PDB sequence identifier or the sequence itself. For more\n",
    "information about ScanProsite, please see the [ScanProsite\n",
    "documentation](http://www.expasy.org/tools/scanprosite/scanprosite-doc.html)\n",
    "as well as the [documentation for programmatic access of\n",
    "ScanProsite](http://www.expasy.org/tools/scanprosite/ScanPrositeREST.html).\n",
    "\n",
    "You can use Biopython’s `Bio.ExPASy.ScanProsite` module to scan the\n",
    "Prosite database from Python. This module both helps you to access\n",
    "ScanProsite programmatically, and to parse the results returned by\n",
    "ScanProsite. To scan for Prosite patterns in the following protein\n",
    "sequence:\n",
    "\n"
   ]
  },
  {
   "cell_type": "markdown",
   "metadata": {},
   "source": [
    "```\n",
    "MEHKEVVLLLLLFLKSGQGEPLDDYVNTQGASLFSVTKKQLGAGSIEECAAKCEEDEEFT\n",
    "CRAFQYHSKEQQCVIMAENRKSSIIIRMRDVVLFEKKVYLSECKTGNGKNYRGTMSKTKN\n",
    "\n",
    "```"
   ]
  },
  {
   "cell_type": "markdown",
   "metadata": {},
   "source": [
    "\n",
    "you can use the following code:\n",
    "\n"
   ]
  },
  {
   "cell_type": "code",
   "execution_count": null,
   "metadata": {},
   "outputs": [],
   "source": [
    "sequence = \"MEHKEVVLLLLLFLKSGQGEPLDDYVNTQGASLFSVTKKQLGAGSIEECAAKCEEDEEFT"
   ]
  },
  {
   "cell_type": "code",
   "execution_count": null,
   "metadata": {},
   "outputs": [],
   "source": [
    "from Bio.ExPASy import ScanProsite\n",
    "handle = ScanProsite.scan(seq=sequence)"
   ]
  },
  {
   "cell_type": "markdown",
   "metadata": {},
   "source": [
    "\n",
    "By executing `handle.read()`, you can obtain the search results in raw\n",
    "XML format. Instead, let’s use `Bio.ExPASy.ScanProsite.read` to parse\n",
    "the raw XML into a Python object:\n",
    "\n"
   ]
  },
  {
   "cell_type": "code",
   "execution_count": null,
   "metadata": {},
   "outputs": [],
   "source": [
    "result = ScanProsite.read(handle)\n",
    "type(result)"
   ]
  },
  {
   "cell_type": "markdown",
   "metadata": {},
   "source": [
    "\n",
    "A `Bio.ExPASy.ScanProsite.Record` object is derived from a list, with\n",
    "each element in the list storing one ScanProsite hit. This object also\n",
    "stores the number of hits, as well as the number of search sequences, as\n",
    "returned by ScanProsite. This ScanProsite search resulted in six hits:\n",
    "\n"
   ]
  },
  {
   "cell_type": "code",
   "execution_count": null,
   "metadata": {},
   "outputs": [],
   "source": [
    "result.n_seq"
   ]
  },
  {
   "cell_type": "code",
   "execution_count": null,
   "metadata": {},
   "outputs": [],
   "source": [
    "result.n_match"
   ]
  },
  {
   "cell_type": "code",
   "execution_count": null,
   "metadata": {},
   "outputs": [],
   "source": [
    "len(result)"
   ]
  },
  {
   "cell_type": "code",
   "execution_count": null,
   "metadata": {},
   "outputs": [],
   "source": [
    "result[0]"
   ]
  },
  {
   "cell_type": "code",
   "execution_count": null,
   "metadata": {},
   "outputs": [],
   "source": [
    "result[1]"
   ]
  },
  {
   "cell_type": "code",
   "execution_count": null,
   "metadata": {},
   "outputs": [],
   "source": [
    "result[2]"
   ]
  },
  {
   "cell_type": "code",
   "execution_count": null,
   "metadata": {},
   "outputs": [],
   "source": [
    "result[3]"
   ]
  },
  {
   "cell_type": "code",
   "execution_count": null,
   "metadata": {},
   "outputs": [],
   "source": [
    "result[4]"
   ]
  },
  {
   "cell_type": "code",
   "execution_count": null,
   "metadata": {},
   "outputs": [],
   "source": [
    "result[5]"
   ]
  },
  {
   "cell_type": "markdown",
   "metadata": {},
   "source": [
    "\n",
    "Other ScanProsite parameters can be passed as keyword arguments; see the\n",
    "[documentation for programmatic access of\n",
    "ScanProsite](http://www.expasy.org/tools/scanprosite/ScanPrositeREST.html)\n",
    "for more information. As an example, passing `lowscore=1` to include\n",
    "matches with low level scores lets use find one additional hit:\n",
    "\n"
   ]
  },
  {
   "cell_type": "code",
   "execution_count": null,
   "metadata": {},
   "outputs": [],
   "source": [
    "handle = ScanProsite.scan(seq=sequence, lowscore=1)\n",
    "result = ScanProsite.read(handle)\n",
    "result.n_match"
   ]
  }
 ],
 "metadata": {
  "kernelspec": {
   "display_name": "Python 3",
   "language": "python",
   "name": "python3"
  },
  "language_info": {
   "codemirror_mode": {
    "name": "ipython",
    "version": 3
   },
   "file_extension": ".py",
   "mimetype": "text/x-python",
   "name": "python",
   "nbconvert_exporter": "python",
   "pygments_lexer": "ipython3",
   "version": "3.5.1"
  }
 },
 "nbformat": 4,
 "nbformat_minor": 0
}
