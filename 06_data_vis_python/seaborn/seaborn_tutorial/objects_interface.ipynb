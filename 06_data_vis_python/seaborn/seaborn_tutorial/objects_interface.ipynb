{
 "cells": [
  {
   "cell_type": "raw",
   "id": "0",
   "metadata": {},
   "source": [
    ".. _objects_tutorial:\n",
    "\n",
    ".. currentmodule:: seaborn.objects\n",
    "\n",
    "The seaborn.objects interface\n",
    "=============================\n",
    "\n",
    "The `seaborn.objects` namespace was introduced in version 0.12 as a completely new interface for making seaborn plots. It offers a more consistent and flexible API, comprising a collection of composable classes for transforming and plotting data. In contrast to the existing `seaborn` functions, the new interface aims to support end-to-end plot specification and customization without dropping down to matplotlib (although it will remain possible to do so if necessary).\n",
    "\n",
    ".. note::\n",
    "    The objects interface is currently experimental and incomplete. It is stable enough for serious use, but there certainly are some rough edges and missing features."
   ]
  },
  {
   "cell_type": "code",
   "execution_count": null,
   "id": "1",
   "metadata": {
    "tags": [
     "hide"
    ]
   },
   "outputs": [],
   "source": [
    "import seaborn as sns\n",
    "import matplotlib as mpl\n",
    "tips = sns.load_dataset(\"tips\")\n",
    "penguins = sns.load_dataset(\"penguins\").dropna()\n",
    "diamonds = sns.load_dataset(\"diamonds\")\n",
    "healthexp = sns.load_dataset(\"healthexp\").sort_values([\"Country\", \"Year\"]).query(\"Year <= 2020\")"
   ]
  },
  {
   "cell_type": "raw",
   "id": "2",
   "metadata": {},
   "source": [
    "Specifying a plot and mapping data\n",
    "----------------------------------\n",
    "\n",
    "The objects interface should be imported with the following convention:"
   ]
  },
  {
   "cell_type": "code",
   "execution_count": null,
   "id": "3",
   "metadata": {},
   "outputs": [],
   "source": [
    "import seaborn.objects as so"
   ]
  },
  {
   "cell_type": "raw",
   "id": "4",
   "metadata": {},
   "source": [
    "The `seaborn.objects` namespace will provide access to all of the relevant classes. The most important is :class:`Plot`. You specify plots by instantiating a :class:`Plot` object and calling its methods. Let's see a simple example:"
   ]
  },
  {
   "cell_type": "code",
   "execution_count": null,
   "id": "5",
   "metadata": {},
   "outputs": [],
   "source": [
    "(\n",
    "    so.Plot(penguins, x=\"bill_length_mm\", y=\"bill_depth_mm\")\n",
    "    .add(so.Dot())\n",
    ")"
   ]
  },
  {
   "cell_type": "raw",
   "id": "6",
   "metadata": {},
   "source": [
    "This code, which produces a scatter plot, should look reasonably familiar. Just as when using :func:`seaborn.scatterplot`, we passed a tidy dataframe (`penguins`) and assigned two of its columns to the `x` and `y` coordinates of the plot. But instead of starting with the type of chart and then adding some data assignments, here we started with the data assignments and then added a graphical element.\n",
    "\n",
    "Setting properties\n",
    "~~~~~~~~~~~~~~~~~~\n",
    "\n",
    "The :class:`Dot` class is an example of a :class:`Mark`: an object that graphically represents data values. Each mark will have a number of properties that can be set to change its appearance:"
   ]
  },
  {
   "cell_type": "code",
   "execution_count": null,
   "id": "7",
   "metadata": {},
   "outputs": [],
   "source": [
    "(\n",
    "    so.Plot(penguins, x=\"bill_length_mm\", y=\"bill_depth_mm\")\n",
    "    .add(so.Dot(color=\"g\", pointsize=4))\n",
    ")"
   ]
  },
  {
   "cell_type": "raw",
   "id": "8",
   "metadata": {},
   "source": [
    "Mapping properties\n",
    "~~~~~~~~~~~~~~~~~~\n",
    "\n",
    "As with seaborn's functions, it is also possible to *map* data values to various graphical properties:"
   ]
  },
  {
   "cell_type": "code",
   "execution_count": null,
   "id": "9",
   "metadata": {},
   "outputs": [],
   "source": [
    "(\n",
    "    so.Plot(\n",
    "        penguins, x=\"bill_length_mm\", y=\"bill_depth_mm\",\n",
    "        color=\"species\", pointsize=\"body_mass_g\",\n",
    "    )\n",
    "    .add(so.Dot())\n",
    ")"
   ]
  },
  {
   "cell_type": "raw",
   "id": "10",
   "metadata": {},
   "source": [
    "While this basic functionality is not novel, an important difference from the function API is that properties are mapped using the same parameter names that would set them directly (instead of having `hue` vs. `color`, etc.). What matters is *where* the property is defined: passing a value when you initialize :class:`Dot` will set it directly, whereas assigning a variable when you set up the :class:`Plot` will *map* the corresponding data.\n",
    "\n",
    "Beyond this difference, the objects interface also allows a much wider range of mark properties to be mapped:"
   ]
  },
  {
   "cell_type": "code",
   "execution_count": null,
   "id": "11",
   "metadata": {},
   "outputs": [],
   "source": [
    "(\n",
    "    so.Plot(\n",
    "        penguins, x=\"bill_length_mm\", y=\"bill_depth_mm\",\n",
    "        edgecolor=\"sex\", edgewidth=\"body_mass_g\",\n",
    "    )\n",
    "    .add(so.Dot(color=\".8\"))\n",
    ")"
   ]
  },
  {
   "cell_type": "raw",
   "id": "12",
   "metadata": {},
   "source": [
    "Defining groups\n",
    "~~~~~~~~~~~~~~~\n",
    "\n",
    "The :class:`Dot` mark represents each data point independently, so the assignment of a variable to a property only has the effect of changing each dot's appearance. For marks that group or connect observations, such as :class:`Line`, it also determines the number of distinct graphical elements:"
   ]
  },
  {
   "cell_type": "code",
   "execution_count": null,
   "id": "13",
   "metadata": {},
   "outputs": [],
   "source": [
    "(\n",
    "    so.Plot(healthexp, x=\"Year\", y=\"Life_Expectancy\", color=\"Country\")\n",
    "    .add(so.Line())\n",
    ")"
   ]
  },
  {
   "cell_type": "raw",
   "id": "14",
   "metadata": {},
   "source": [
    "It is also possible to define a grouping without changing any visual properties, by using `group`:"
   ]
  },
  {
   "cell_type": "code",
   "execution_count": null,
   "id": "15",
   "metadata": {},
   "outputs": [],
   "source": [
    "(\n",
    "    so.Plot(healthexp, x=\"Year\", y=\"Life_Expectancy\", group=\"Country\")\n",
    "    .add(so.Line())\n",
    ")"
   ]
  },
  {
   "cell_type": "raw",
   "id": "16",
   "metadata": {},
   "source": [
    "Transforming data before plotting\n",
    "---------------------------------\n",
    "\n",
    "Statistical transformation\n",
    "~~~~~~~~~~~~~~~~~~~~~~~~~~\n",
    "\n",
    "As with many seaborn functions, the objects interface supports statistical transformations. These are performed by :class:`Stat` objects, such as :class:`Agg`:"
   ]
  },
  {
   "cell_type": "code",
   "execution_count": null,
   "id": "17",
   "metadata": {},
   "outputs": [],
   "source": [
    "(\n",
    "    so.Plot(penguins, x=\"species\", y=\"body_mass_g\")\n",
    "    .add(so.Bar(), so.Agg())\n",
    ")"
   ]
  },
  {
   "cell_type": "raw",
   "id": "18",
   "metadata": {},
   "source": [
    "In the function interface, statistical transformations are possible with some visual representations (e.g. :func:`seaborn.barplot`) but not others (e.g. :func:`seaborn.scatterplot`). The objects interface more cleanly separates representation and transformation, allowing you to compose :class:`Mark` and :class:`Stat` objects:"
   ]
  },
  {
   "cell_type": "code",
   "execution_count": null,
   "id": "19",
   "metadata": {},
   "outputs": [],
   "source": [
    "(\n",
    "    so.Plot(penguins, x=\"species\", y=\"body_mass_g\")\n",
    "    .add(so.Dot(pointsize=10), so.Agg())\n",
    ")"
   ]
  },
  {
   "cell_type": "raw",
   "id": "20",
   "metadata": {},
   "source": [
    "When forming groups by mapping properties, the :class:`Stat` transformation is applied to each group separately:"
   ]
  },
  {
   "cell_type": "code",
   "execution_count": null,
   "id": "21",
   "metadata": {},
   "outputs": [],
   "source": [
    "(\n",
    "    so.Plot(penguins, x=\"species\", y=\"body_mass_g\", color=\"sex\")\n",
    "    .add(so.Dot(pointsize=10), so.Agg())\n",
    ")"
   ]
  },
  {
   "cell_type": "raw",
   "id": "22",
   "metadata": {},
   "source": [
    "Resolving overplotting\n",
    "~~~~~~~~~~~~~~~~~~~~~~\n",
    "\n",
    "Some seaborn functions also have mechanisms that automatically resolve overplotting, as when :func:`seaborn.barplot` \"dodges\" bars once `hue` is assigned. The objects interface has less complex default behavior. Bars representing multiple groups will overlap by default:"
   ]
  },
  {
   "cell_type": "code",
   "execution_count": null,
   "id": "23",
   "metadata": {},
   "outputs": [],
   "source": [
    "(\n",
    "    so.Plot(penguins, x=\"species\", y=\"body_mass_g\", color=\"sex\")\n",
    "    .add(so.Bar(), so.Agg())\n",
    ")"
   ]
  },
  {
   "cell_type": "raw",
   "id": "24",
   "metadata": {},
   "source": [
    "Nevertheless, it is possible to compose the :class:`Bar` mark with the :class:`Agg` stat and a second transformation, implemented by :class:`Dodge`:"
   ]
  },
  {
   "cell_type": "code",
   "execution_count": null,
   "id": "25",
   "metadata": {},
   "outputs": [],
   "source": [
    "(\n",
    "    so.Plot(penguins, x=\"species\", y=\"body_mass_g\", color=\"sex\")\n",
    "    .add(so.Bar(), so.Agg(), so.Dodge())\n",
    ")"
   ]
  },
  {
   "cell_type": "raw",
   "id": "26",
   "metadata": {},
   "source": [
    "The :class:`Dodge` class is an example of a :class:`Move` transformation, which is like a :class:`Stat` but only adjusts `x` and `y` coordinates. The :class:`Move` classes can be applied with any mark, and it's not necessary to use a :class:`Stat` first:"
   ]
  },
  {
   "cell_type": "code",
   "execution_count": null,
   "id": "27",
   "metadata": {},
   "outputs": [],
   "source": [
    "(\n",
    "    so.Plot(penguins, x=\"species\", y=\"body_mass_g\", color=\"sex\")\n",
    "    .add(so.Dot(), so.Dodge())\n",
    ")"
   ]
  },
  {
   "cell_type": "raw",
   "id": "28",
   "metadata": {},
   "source": [
    "It's also possible to apply multiple :class:`Move` operations in sequence:"
   ]
  },
  {
   "cell_type": "code",
   "execution_count": null,
   "id": "29",
   "metadata": {},
   "outputs": [],
   "source": [
    "(\n",
    "    so.Plot(penguins, x=\"species\", y=\"body_mass_g\", color=\"sex\")\n",
    "    .add(so.Dot(), so.Dodge(), so.Jitter(.3))\n",
    ")"
   ]
  },
  {
   "cell_type": "raw",
   "id": "30",
   "metadata": {},
   "source": [
    "Creating variables through transformation\n",
    "~~~~~~~~~~~~~~~~~~~~~~~~~~~~~~~~~~~~~~~~~\n",
    "\n",
    "The :class:`Agg` stat requires both `x` and `y` to already be defined, but variables can also be *created* through statistical transformation. For example, the :class:`Hist` stat requires only one of `x` *or* `y` to be defined, and it will create the other by counting observations:"
   ]
  },
  {
   "cell_type": "code",
   "execution_count": null,
   "id": "31",
   "metadata": {},
   "outputs": [],
   "source": [
    "(\n",
    "    so.Plot(penguins, x=\"species\")\n",
    "    .add(so.Bar(), so.Hist())\n",
    ")"
   ]
  },
  {
   "cell_type": "raw",
   "id": "32",
   "metadata": {},
   "source": [
    "The :class:`Hist` stat will also create new `x` values (by binning) when given numeric data:"
   ]
  },
  {
   "cell_type": "code",
   "execution_count": null,
   "id": "33",
   "metadata": {},
   "outputs": [],
   "source": [
    "(\n",
    "    so.Plot(penguins, x=\"flipper_length_mm\")\n",
    "    .add(so.Bars(), so.Hist())\n",
    ")"
   ]
  },
  {
   "cell_type": "raw",
   "id": "34",
   "metadata": {},
   "source": [
    "Notice how we used :class:`Bars`, rather than :class:`Bar` for the plot with the continuous `x` axis. These two marks are related, but :class:`Bars` has different defaults and works better for continuous histograms. It also produces a different, more efficient matplotlib artist. You will find the pattern of singular/plural marks elsewhere. The plural version is typically optimized for cases with larger numbers of marks.\n",
    "\n",
    "Some transforms accept both `x` and `y`, but add *interval* data for each coordinate. This is particularly relevant for plotting error bars after aggregating:"
   ]
  },
  {
   "cell_type": "code",
   "execution_count": null,
   "id": "35",
   "metadata": {},
   "outputs": [],
   "source": [
    "(\n",
    "    so.Plot(penguins, x=\"body_mass_g\", y=\"species\", color=\"sex\")\n",
    "    .add(so.Range(), so.Est(errorbar=\"sd\"), so.Dodge())\n",
    "    .add(so.Dot(), so.Agg(), so.Dodge())\n",
    ")"
   ]
  },
  {
   "cell_type": "raw",
   "id": "36",
   "metadata": {},
   "source": [
    "Orienting marks and transforms\n",
    "~~~~~~~~~~~~~~~~~~~~~~~~~~~~~~\n",
    "\n",
    "When aggregating, dodging, and drawing a bar, the `x` and `y` variables are treated differently. Each operation has the concept of an *orientation*. The :class:`Plot` tries to determine the orientation automatically based on the data types of the variables. For instance, if we flip the assignment of `species` and `body_mass_g`, we'll get the same plot, but oriented horizontally:"
   ]
  },
  {
   "cell_type": "code",
   "execution_count": null,
   "id": "37",
   "metadata": {},
   "outputs": [],
   "source": [
    "(\n",
    "    so.Plot(penguins, x=\"body_mass_g\", y=\"species\", color=\"sex\")\n",
    "    .add(so.Bar(), so.Agg(), so.Dodge())\n",
    ")"
   ]
  },
  {
   "cell_type": "raw",
   "id": "38",
   "metadata": {},
   "source": [
    "Sometimes, the correct orientation is ambiguous, as when both the `x` and `y` variables are numeric. In these cases, you can be explicit by passing the `orient` parameter to :meth:`Plot.add`:"
   ]
  },
  {
   "cell_type": "code",
   "execution_count": null,
   "id": "39",
   "metadata": {},
   "outputs": [],
   "source": [
    "(\n",
    "    so.Plot(tips, x=\"total_bill\", y=\"size\", color=\"time\")\n",
    "    .add(so.Bar(), so.Agg(), so.Dodge(), orient=\"y\")\n",
    ")"
   ]
  },
  {
   "cell_type": "raw",
   "id": "40",
   "metadata": {},
   "source": [
    "Building and displaying the plot\n",
    "--------------------------------\n",
    "\n",
    "Most examples this far have produced a single subplot with just one kind of mark on it. But :class:`Plot` does not limit you to this.\n",
    "\n",
    "Adding multiple layers\n",
    "~~~~~~~~~~~~~~~~~~~~~~\n",
    "\n",
    "More complex single-subplot graphics can be created by calling :meth:`Plot.add` repeatedly. Each time it is called, it defines a *layer* in the plot. For example, we may want to add a scatterplot (now using :class:`Dots`) and then a regression fit:"
   ]
  },
  {
   "cell_type": "code",
   "execution_count": null,
   "id": "41",
   "metadata": {},
   "outputs": [],
   "source": [
    "(\n",
    "    so.Plot(tips, x=\"total_bill\", y=\"tip\")\n",
    "    .add(so.Dots())\n",
    "    .add(so.Line(), so.PolyFit())\n",
    ")"
   ]
  },
  {
   "cell_type": "raw",
   "id": "42",
   "metadata": {},
   "source": [
    "Variable mappings that are defined in the :class:`Plot` constructor will be used for all layers:"
   ]
  },
  {
   "cell_type": "code",
   "execution_count": null,
   "id": "43",
   "metadata": {},
   "outputs": [],
   "source": [
    "(\n",
    "    so.Plot(tips, x=\"total_bill\", y=\"tip\", color=\"time\")\n",
    "    .add(so.Dots())\n",
    "    .add(so.Line(), so.PolyFit())\n",
    ")"
   ]
  },
  {
   "cell_type": "raw",
   "id": "44",
   "metadata": {},
   "source": [
    "Layer-specific mappings\n",
    "~~~~~~~~~~~~~~~~~~~~~~~\n",
    "\n",
    "You can also define a mapping such that it is used only in a specific layer. This is accomplished by defining the mapping within the call to :class:`Plot.add` for the relevant layer:"
   ]
  },
  {
   "cell_type": "code",
   "execution_count": null,
   "id": "45",
   "metadata": {},
   "outputs": [],
   "source": [
    "(\n",
    "    so.Plot(tips, x=\"total_bill\", y=\"tip\")\n",
    "    .add(so.Dots(), color=\"time\")\n",
    "    .add(so.Line(color=\".2\"), so.PolyFit())\n",
    ")"
   ]
  },
  {
   "cell_type": "raw",
   "id": "46",
   "metadata": {},
   "source": [
    "Alternatively, define the layer for the entire plot, but *remove* it from a specific layer by setting the variable to `None`:"
   ]
  },
  {
   "cell_type": "code",
   "execution_count": null,
   "id": "47",
   "metadata": {},
   "outputs": [],
   "source": [
    "(\n",
    "    so.Plot(tips, x=\"total_bill\", y=\"tip\", color=\"time\")\n",
    "    .add(so.Dots())\n",
    "    .add(so.Line(color=\".2\"), so.PolyFit(), color=None)\n",
    ")"
   ]
  },
  {
   "cell_type": "raw",
   "id": "48",
   "metadata": {},
   "source": [
    "To recap, there are three ways to specify the value of a mark property: (1) by mapping a variable in all layers, (2) by mapping a variable in a specific layer, and (3) by setting the property directly:"
   ]
  },
  {
   "cell_type": "code",
   "execution_count": null,
   "id": "49",
   "metadata": {
    "tags": [
     "hide-input"
    ]
   },
   "outputs": [],
   "source": [
    "from io import StringIO\n",
    "from IPython.display import SVG\n",
    "C = sns.color_palette(\"deep\")\n",
    "f = mpl.figure.Figure(figsize=(7, 3))\n",
    "ax = f.subplots()\n",
    "fontsize = 18\n",
    "ax.add_artist(mpl.patches.Rectangle((.13, .53), .45, .09, color=C[0], alpha=.3))\n",
    "ax.add_artist(mpl.patches.Rectangle((.22, .43), .235, .09, color=C[1], alpha=.3))\n",
    "ax.add_artist(mpl.patches.Rectangle((.49, .43), .26, .09, color=C[2], alpha=.3))\n",
    "ax.text(.05, .55, \"Plot(data, 'x', 'y', color='var1')\", size=fontsize, color=\".2\")\n",
    "ax.text(.05, .45, \".add(Dot(pointsize=10), marker='var2')\", size=fontsize, color=\".2\")\n",
    "annots = [\n",
    "    (\"Mapped\\nin all layers\", (.35, .65), (0, 45)),\n",
    "    (\"Set directly\", (.35, .4), (0, -45)),\n",
    "    (\"Mapped\\nin this layer\", (.63, .4), (0, -45)),\n",
    "]\n",
    "for i, (text, xy, xytext) in enumerate(annots):\n",
    "    ax.annotate(\n",
    "        text, xy, xytext,\n",
    "        textcoords=\"offset points\", fontsize=14, ha=\"center\", va=\"center\",\n",
    "        arrowprops=dict(arrowstyle=\"->\", color=C[i]), color=C[i],\n",
    "    )\n",
    "ax.set_axis_off()\n",
    "f.subplots_adjust(0, 0, 1, 1)\n",
    "f.savefig(s:=StringIO(), format=\"svg\")\n",
    "SVG(s.getvalue())"
   ]
  },
  {
   "cell_type": "raw",
   "id": "50",
   "metadata": {},
   "source": [
    "Faceting and pairing subplots\n",
    "~~~~~~~~~~~~~~~~~~~~~~~~~~~~~\n",
    "\n",
    "As with seaborn's figure-level functions (:func:`seaborn.displot`, :func:`seaborn.catplot`, etc.), the :class:`Plot` interface can also produce figures with multiple \"facets\", or subplots containing subsets of data. This is accomplished with the :meth:`Plot.facet` method:"
   ]
  },
  {
   "cell_type": "code",
   "execution_count": null,
   "id": "51",
   "metadata": {},
   "outputs": [],
   "source": [
    "(\n",
    "    so.Plot(penguins, x=\"flipper_length_mm\")\n",
    "    .facet(\"species\")\n",
    "    .add(so.Bars(), so.Hist())\n",
    ")"
   ]
  },
  {
   "cell_type": "raw",
   "id": "52",
   "metadata": {},
   "source": [
    "Call :meth:`Plot.facet` with the variables that should be used to define the columns and/or rows of the plot:"
   ]
  },
  {
   "cell_type": "code",
   "execution_count": null,
   "id": "53",
   "metadata": {},
   "outputs": [],
   "source": [
    "(\n",
    "    so.Plot(penguins, x=\"flipper_length_mm\")\n",
    "    .facet(col=\"species\", row=\"sex\")\n",
    "    .add(so.Bars(), so.Hist())\n",
    ")"
   ]
  },
  {
   "cell_type": "raw",
   "id": "54",
   "metadata": {},
   "source": [
    "You can facet using a variable with a larger number of levels by \"wrapping\" across the other dimension:"
   ]
  },
  {
   "cell_type": "code",
   "execution_count": null,
   "id": "55",
   "metadata": {},
   "outputs": [],
   "source": [
    "(\n",
    "    so.Plot(healthexp, x=\"Year\", y=\"Life_Expectancy\")\n",
    "    .facet(col=\"Country\", wrap=3)\n",
    "    .add(so.Line())\n",
    ")"
   ]
  },
  {
   "cell_type": "markdown",
   "id": "56",
   "metadata": {},
   "source": [
    "All layers will be faceted unless you explicitly exclude them, which can be useful for providing additional context on each subplot:"
   ]
  },
  {
   "cell_type": "code",
   "execution_count": null,
   "id": "57",
   "metadata": {},
   "outputs": [],
   "source": [
    "(\n",
    "    so.Plot(healthexp, x=\"Year\", y=\"Life_Expectancy\")\n",
    "    .facet(\"Country\", wrap=3)\n",
    "    .add(so.Line(alpha=.3), group=\"Country\", col=None)\n",
    "    .add(so.Line(linewidth=3))\n",
    ")"
   ]
  },
  {
   "cell_type": "raw",
   "id": "58",
   "metadata": {},
   "source": [
    "An alternate way to produce subplots is :meth:`Plot.pair`. Like :class:`seaborn.PairGrid`, this draws all of the data on each subplot, using different variables for the x and/or y coordinates:"
   ]
  },
  {
   "cell_type": "code",
   "execution_count": null,
   "id": "59",
   "metadata": {},
   "outputs": [],
   "source": [
    "(\n",
    "    so.Plot(penguins, y=\"body_mass_g\", color=\"species\")\n",
    "    .pair(x=[\"bill_length_mm\", \"bill_depth_mm\"])\n",
    "    .add(so.Dots())\n",
    ")"
   ]
  },
  {
   "cell_type": "raw",
   "id": "60",
   "metadata": {},
   "source": [
    "You can combine faceting and pairing so long as the operations add subplots on opposite dimensions:"
   ]
  },
  {
   "cell_type": "code",
   "execution_count": null,
   "id": "61",
   "metadata": {},
   "outputs": [],
   "source": [
    "(\n",
    "    so.Plot(penguins, y=\"body_mass_g\", color=\"species\")\n",
    "    .pair(x=[\"bill_length_mm\", \"bill_depth_mm\"])\n",
    "    .facet(row=\"sex\")\n",
    "    .add(so.Dots())\n",
    ")"
   ]
  },
  {
   "cell_type": "raw",
   "id": "62",
   "metadata": {},
   "source": [
    "Integrating with matplotlib\n",
    "~~~~~~~~~~~~~~~~~~~~~~~~~~~\n",
    "\n",
    "There may be cases where you want multiple subplots to appear in a figure with a more complex structure than what :meth:`Plot.facet` or :meth:`Plot.pair` can provide. The current solution is to delegate figure setup to matplotlib and to supply the matplotlib object that :class:`Plot` should use with the :meth:`Plot.on` method. This object can be either a :class:`matplotlib.axes.Axes`, :class:`matplotlib.figure.Figure`, or :class:`matplotlib.figure.SubFigure`; the latter is most useful for constructing bespoke subplot layouts:"
   ]
  },
  {
   "cell_type": "code",
   "execution_count": null,
   "id": "63",
   "metadata": {},
   "outputs": [],
   "source": [
    "f = mpl.figure.Figure(figsize=(8, 4))\n",
    "sf1, sf2 = f.subfigures(1, 2)\n",
    "(\n",
    "    so.Plot(penguins, x=\"body_mass_g\", y=\"flipper_length_mm\")\n",
    "    .add(so.Dots())\n",
    "    .on(sf1)\n",
    "    .plot()\n",
    ")\n",
    "(\n",
    "    so.Plot(penguins, x=\"body_mass_g\")\n",
    "    .facet(row=\"sex\")\n",
    "    .add(so.Bars(), so.Hist())\n",
    "    .on(sf2)\n",
    "    .plot()\n",
    ")"
   ]
  },
  {
   "cell_type": "raw",
   "id": "64",
   "metadata": {},
   "source": [
    "Building and displaying the plot\n",
    "~~~~~~~~~~~~~~~~~~~~~~~~~~~~~~~~\n",
    "\n",
    "An important thing to know is that :class:`Plot` methods clone the object they are called on and return that clone instead of updating the object in place. This means that you can define a common plot spec and then produce several variations on it.\n",
    "\n",
    "So, take this basic specification:"
   ]
  },
  {
   "cell_type": "code",
   "execution_count": null,
   "id": "65",
   "metadata": {},
   "outputs": [],
   "source": [
    "p = so.Plot(healthexp, \"Year\", \"Spending_USD\", color=\"Country\")"
   ]
  },
  {
   "cell_type": "raw",
   "id": "66",
   "metadata": {},
   "source": [
    "We could use it to draw a line plot:"
   ]
  },
  {
   "cell_type": "code",
   "execution_count": null,
   "id": "67",
   "metadata": {},
   "outputs": [],
   "source": [
    "p.add(so.Line())"
   ]
  },
  {
   "cell_type": "raw",
   "id": "68",
   "metadata": {},
   "source": [
    "Or perhaps a stacked area plot:"
   ]
  },
  {
   "cell_type": "code",
   "execution_count": null,
   "id": "69",
   "metadata": {},
   "outputs": [],
   "source": [
    "p.add(so.Area(), so.Stack())"
   ]
  },
  {
   "cell_type": "raw",
   "id": "70",
   "metadata": {},
   "source": [
    "The :class:`Plot` methods are fully declarative. Calling them updates the plot spec, but it doesn't actually do any plotting. One consequence of this is that methods can be called in any order, and many of them can be called multiple times.\n",
    "\n",
    "When does the plot actually get rendered? :class:`Plot` is optimized for use in notebook environments. The rendering is automatically triggered when the :class:`Plot` gets displayed in the Jupyter REPL. That's why we didn't see anything in the example above, where we defined a :class:`Plot` but assigned it to `p` rather than letting it return out to the REPL.\n",
    "\n",
    "To see a plot in a notebook, either return it from the final line of a cell or call Jupyter's built-in `display` function on the object. The notebook integration bypasses :mod:`matplotlib.pyplot` entirely, but you can use its figure-display machinery in other contexts by calling :meth:`Plot.show`.\n",
    "\n",
    "You can also save the plot to a file (or buffer) by calling :meth:`Plot.save`."
   ]
  },
  {
   "cell_type": "raw",
   "id": "71",
   "metadata": {},
   "source": [
    "Customizing the appearance\n",
    "--------------------------\n",
    "\n",
    "The new interface aims to support a deep amount of customization through :class:`Plot`, reducing the need to switch gears and use matplotlib functionality directly. (But please be patient; not all of the features needed to achieve this goal have been implemented!)\n",
    "\n",
    "Parameterizing scales\n",
    "~~~~~~~~~~~~~~~~~~~~~\n",
    "\n",
    "All of the data-dependent properties are controlled by the concept of a :class:`Scale` and the :meth:`Plot.scale` method. This method accepts several different types of arguments. One possibility, which is closest to the use of scales in matplotlib, is to pass the name of a function that transforms the coordinates:"
   ]
  },
  {
   "cell_type": "code",
   "execution_count": null,
   "id": "72",
   "metadata": {},
   "outputs": [],
   "source": [
    "(\n",
    "    so.Plot(diamonds, x=\"carat\", y=\"price\")\n",
    "    .add(so.Dots())\n",
    "    .scale(y=\"log\")\n",
    ")"
   ]
  },
  {
   "cell_type": "raw",
   "id": "73",
   "metadata": {},
   "source": [
    ":meth:`Plot.scale` can also control the mappings for semantic properties like `color`. You can directly pass it any argument that you would pass to the `palette` parameter in seaborn's function interface:"
   ]
  },
  {
   "cell_type": "code",
   "execution_count": null,
   "id": "74",
   "metadata": {},
   "outputs": [],
   "source": [
    "(\n",
    "    so.Plot(diamonds, x=\"carat\", y=\"price\", color=\"clarity\")\n",
    "    .add(so.Dots())\n",
    "    .scale(color=\"flare\")\n",
    ")"
   ]
  },
  {
   "cell_type": "raw",
   "id": "75",
   "metadata": {},
   "source": [
    "Another option is to provide a tuple of `(min, max)` values, controlling the range that the scale should map into. This works both for numeric properties and for colors:"
   ]
  },
  {
   "cell_type": "code",
   "execution_count": null,
   "id": "76",
   "metadata": {},
   "outputs": [],
   "source": [
    "(\n",
    "    so.Plot(diamonds, x=\"carat\", y=\"price\", color=\"clarity\", pointsize=\"carat\")\n",
    "    .add(so.Dots())\n",
    "    .scale(color=(\"#88c\", \"#555\"), pointsize=(2, 10))\n",
    ")"
   ]
  },
  {
   "cell_type": "raw",
   "id": "77",
   "metadata": {},
   "source": [
    "For additional control, you can pass a :class:`Scale` object. There are several different types of :class:`Scale`, each with appropriate parameters. For example, :class:`Continuous` lets you define the input domain (`norm`), the output range (`values`), and the function that maps between them (`trans`), while :class:`Nominal` allows you to specify an ordering:"
   ]
  },
  {
   "cell_type": "code",
   "execution_count": null,
   "id": "78",
   "metadata": {},
   "outputs": [],
   "source": [
    "(\n",
    "    so.Plot(diamonds, x=\"carat\", y=\"price\", color=\"carat\", marker=\"cut\")\n",
    "    .add(so.Dots())\n",
    "    .scale(\n",
    "        color=so.Continuous(\"crest\", norm=(0, 3), trans=\"sqrt\"),\n",
    "        marker=so.Nominal([\"o\", \"+\", \"x\"], order=[\"Ideal\", \"Premium\", \"Good\"]),\n",
    "    )\n",
    ")"
   ]
  },
  {
   "cell_type": "raw",
   "id": "79",
   "metadata": {},
   "source": [
    "Customizing legends and ticks\n",
    "~~~~~~~~~~~~~~~~~~~~~~~~~~~~~\n",
    "\n",
    "The :class:`Scale` objects are also how you specify which values should appear as tick labels / in the legend, along with how they appear. For example, the :meth:`Continuous.tick` method lets you control the density or locations of the ticks, and the :meth:`Continuous.label` method lets you modify the format:"
   ]
  },
  {
   "cell_type": "code",
   "execution_count": null,
   "id": "80",
   "metadata": {},
   "outputs": [],
   "source": [
    "(\n",
    "    so.Plot(diamonds, x=\"carat\", y=\"price\", color=\"carat\")\n",
    "    .add(so.Dots())\n",
    "    .scale(\n",
    "        x=so.Continuous().tick(every=0.5),\n",
    "        y=so.Continuous().label(like=\"${x:.0f}\"),\n",
    "        color=so.Continuous().tick(at=[1, 2, 3, 4]),\n",
    "    )\n",
    ")"
   ]
  },
  {
   "cell_type": "raw",
   "id": "81",
   "metadata": {},
   "source": [
    "Customizing limits, labels, and titles\n",
    "~~~~~~~~~~~~~~~~~~~~~~~~~~~~~~~~~~~~~~\n",
    "\n",
    ":class:`Plot` has a number of methods for simple customization, including :meth:`Plot.label`, :meth:`Plot.limit`, and :meth:`Plot.share`:"
   ]
  },
  {
   "cell_type": "code",
   "execution_count": null,
   "id": "82",
   "metadata": {},
   "outputs": [],
   "source": [
    "(\n",
    "    so.Plot(penguins, x=\"body_mass_g\", y=\"species\", color=\"island\")\n",
    "    .facet(col=\"sex\")\n",
    "    .add(so.Dot(), so.Jitter(.5))\n",
    "    .share(x=False)\n",
    "    .limit(y=(2.5, -.5))\n",
    "    .label(\n",
    "        x=\"Body mass (g)\", y=\"\",\n",
    "        color=str.capitalize,\n",
    "        title=\"{} penguins\".format,\n",
    "    )\n",
    ")"
   ]
  },
  {
   "cell_type": "raw",
   "id": "83",
   "metadata": {},
   "source": [
    "Theme customization\n",
    "~~~~~~~~~~~~~~~~~~~\n",
    "\n",
    "Finally, :class:`Plot` supports data-independent theming through the :class:`Plot.theme` method. Currently, this method accepts a dictionary of matplotlib rc parameters. You can set them directly and/or pass a package of parameters from seaborn's theming functions:"
   ]
  },
  {
   "cell_type": "code",
   "execution_count": null,
   "id": "84",
   "metadata": {},
   "outputs": [],
   "source": [
    "from seaborn import axes_style\n",
    "theme_dict = {**axes_style(\"whitegrid\"), \"grid.linestyle\": \":\"}\n",
    "so.Plot().theme(theme_dict)"
   ]
  },
  {
   "cell_type": "raw",
   "id": "85",
   "metadata": {},
   "source": [
    "To change the theme for all :class:`Plot` instances, update the settings in :attr:`Plot.config`:"
   ]
  },
  {
   "cell_type": "code",
   "execution_count": null,
   "id": "86",
   "metadata": {},
   "outputs": [],
   "source": [
    "so.Plot.config.theme.update(theme_dict)"
   ]
  }
 ],
 "metadata": {
  "kernelspec": {
   "display_name": "py310",
   "language": "python",
   "name": "py310"
  },
  "language_info": {
   "codemirror_mode": {
    "name": "ipython",
    "version": 3
   },
   "file_extension": ".py",
   "mimetype": "text/x-python",
   "name": "python",
   "nbconvert_exporter": "python",
   "pygments_lexer": "ipython3",
   "version": "3.10.6"
  }
 },
 "nbformat": 4,
 "nbformat_minor": 5
}
