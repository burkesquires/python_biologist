{
 "cells": [
  {
   "cell_type": "markdown",
   "id": "4ef0237b",
   "metadata": {
    "_cell_guid": "b1076dfc-b9ad-4769-8c92-a6c4dae69d19",
    "_uuid": "8f2839f25d086af736a60e9eeb907d3b93b6e0e5",
    "papermill": {
     "duration": 0.046835,
     "end_time": "2022-01-02T18:22:36.546589",
     "exception": false,
     "start_time": "2022-01-02T18:22:36.499754",
     "status": "completed"
    },
    "tags": []
   },
   "source": [
    "# A Look at Python Data Viz Library\n",
    "\n",
    "In this notebook we look at all the major plotting libraries in python."
   ]
  },
  {
   "cell_type": "code",
   "execution_count": null,
   "id": "025bd706",
   "metadata": {
    "papermill": {
     "duration": 13.060521,
     "end_time": "2022-01-02T18:22:49.652226",
     "exception": false,
     "start_time": "2022-01-02T18:22:36.591705",
     "status": "completed"
    },
    "tags": []
   },
   "outputs": [],
   "source": [
    "# Load nb_black to make code consistent\n",
    "# !cp -r ../nbblack-code-base/nb_black-1.0.7 .\n",
    "# !pip install nb_black-1.0.7/nb_black-1.0.7/ > /dev/null\n",
    "# %load_ext lab_black"
   ]
  },
  {
   "cell_type": "code",
   "execution_count": null,
   "id": "ac011712",
   "metadata": {
    "papermill": {
     "duration": 0.056097,
     "end_time": "2022-01-02T18:22:49.754349",
     "exception": false,
     "start_time": "2022-01-02T18:22:49.698252",
     "status": "completed"
    },
    "tags": []
   },
   "outputs": [],
   "source": [
    "# Gotta import these.\n",
    "import pandas as pd\n",
    "import numpy as np"
   ]
  },
  {
   "cell_type": "markdown",
   "id": "87632424",
   "metadata": {
    "papermill": {
     "duration": 0.045507,
     "end_time": "2022-01-02T18:22:49.845385",
     "exception": false,
     "start_time": "2022-01-02T18:22:49.799878",
     "status": "completed"
    },
    "tags": []
   },
   "source": [
    "# **Matplotlib**\n",
    "## gitub stars: 14k\n",
    "\n",
    "[<img src=\"https://matplotlib.org/stable/_images/sphx_glr_logos2_003.png\" width=\"250\"/>](matplotlib.png)\n",
    "\n",
    "Positives:\n",
    "- ✔️ Most solid plotting library in python.\n",
    "- ✔️ Customization to do almost anything.\n",
    "- ✔️ Widely used and other packages build off of it.\n",
    "\n",
    "Negatives:\n",
    "- ❌ Hard learn at first.\n",
    "- ❌ Complex plots can be code heavy.\n",
    "- ❌ Not best for interactive plots."
   ]
  },
  {
   "cell_type": "code",
   "execution_count": null,
   "id": "6ff0e34d",
   "metadata": {
    "papermill": {
     "duration": 0.053874,
     "end_time": "2022-01-02T18:22:49.945108",
     "exception": false,
     "start_time": "2022-01-02T18:22:49.891234",
     "status": "completed"
    },
    "tags": []
   },
   "outputs": [],
   "source": [
    "# The imports\n",
    "import matplotlib as mpl\n",
    "import matplotlib.pyplot as plt"
   ]
  },
  {
   "cell_type": "code",
   "execution_count": null,
   "id": "89c82dba",
   "metadata": {
    "papermill": {
     "duration": 0.284377,
     "end_time": "2022-01-02T18:22:50.276022",
     "exception": false,
     "start_time": "2022-01-02T18:22:49.991645",
     "status": "completed"
    },
    "tags": []
   },
   "outputs": [],
   "source": [
    "fig, ax = plt.subplots(figsize=(12, 5))  # Create a figure containing a single axes.\n",
    "ax.plot([1, 2, 3, 4], [1, 4, 2, 3])\n",
    "# Plot some data on the axes.\n",
    "plt.show()"
   ]
  },
  {
   "cell_type": "code",
   "execution_count": null,
   "id": "b340c2a7",
   "metadata": {
    "papermill": {
     "duration": 0.385766,
     "end_time": "2022-01-02T18:22:50.708749",
     "exception": false,
     "start_time": "2022-01-02T18:22:50.322983",
     "status": "completed"
    },
    "tags": []
   },
   "outputs": [],
   "source": [
    "b = np.matrix([[1, 2], [3, 4]])\n",
    "b_asarray = np.asarray(b)\n",
    "np.random.seed(19680801)  # seed the random number generator.\n",
    "data = {\"a\": np.arange(50), \"c\": np.random.randint(0, 50, 50), \"d\": np.random.randn(50)}\n",
    "data[\"b\"] = data[\"a\"] + 10 * np.random.randn(50)\n",
    "data[\"d\"] = np.abs(data[\"d\"]) * 100\n",
    "\n",
    "fig, ax = plt.subplots(figsize=(12, 5), layout=\"constrained\")\n",
    "ax.scatter(\"a\", \"b\", c=\"c\", s=\"d\", data=data)\n",
    "ax.set_xlabel(\"entry a\")\n",
    "ax.set_ylabel(\"entry b\")"
   ]
  },
  {
   "cell_type": "code",
   "execution_count": null,
   "id": "bb0f42e2",
   "metadata": {
    "papermill": {
     "duration": 0.321245,
     "end_time": "2022-01-02T18:22:51.078637",
     "exception": false,
     "start_time": "2022-01-02T18:22:50.757392",
     "status": "completed"
    },
    "tags": []
   },
   "outputs": [],
   "source": [
    "data1, data2, data3, data4 = np.random.randn(4, 100)  # make 4 random data sets\n",
    "fig, ax = plt.subplots(figsize=(12, 5))\n",
    "ax.plot(data1, \"o\", label=\"data1\")\n",
    "ax.plot(data2, \"d\", label=\"data2\")\n",
    "ax.plot(data3, \"v\", label=\"data3\")\n",
    "ax.plot(data4, \"s\", label=\"data4\")\n",
    "ax.legend()"
   ]
  },
  {
   "cell_type": "code",
   "execution_count": null,
   "id": "30905e55",
   "metadata": {
    "papermill": {
     "duration": 0.738314,
     "end_time": "2022-01-02T18:22:51.867581",
     "exception": false,
     "start_time": "2022-01-02T18:22:51.129267",
     "status": "completed"
    },
    "tags": []
   },
   "outputs": [],
   "source": [
    "mu, sigma = 115, 15\n",
    "x = mu + sigma * np.random.randn(10000)\n",
    "fig, ax = plt.subplots(figsize=(12, 5), layout=\"constrained\")\n",
    "# the histogram of the data\n",
    "n, bins, patches = ax.hist(x, 50, density=1, facecolor=\"C0\", alpha=0.75)\n",
    "\n",
    "ax.set_xlabel(\"Length [cm]\")\n",
    "ax.set_ylabel(\"Probability\")\n",
    "ax.set_title(\"Aardvark lengths\\n (not really)\")\n",
    "ax.text(75, 0.025, r\"$\\mu=115,\\ \\sigma=15$\")\n",
    "ax.axis([55, 175, 0, 0.03])\n",
    "ax.grid(True)"
   ]
  },
  {
   "cell_type": "code",
   "execution_count": null,
   "id": "f3960515",
   "metadata": {
    "papermill": {
     "duration": 2.270144,
     "end_time": "2022-01-02T18:22:54.209618",
     "exception": false,
     "start_time": "2022-01-02T18:22:51.939474",
     "status": "completed"
    },
    "tags": []
   },
   "outputs": [],
   "source": [
    "X, Y = np.meshgrid(np.linspace(-3, 3, 128), np.linspace(-3, 3, 128))\n",
    "Z = (1 - X / 2 + X ** 5 + Y ** 3) * np.exp(-(X ** 2) - Y ** 2)\n",
    "\n",
    "fig, axs = plt.subplots(2, 2, figsize=(15, 15), layout=\"constrained\")\n",
    "pc = axs[0, 0].pcolormesh(X, Y, Z, vmin=-1, vmax=1, cmap=\"RdBu_r\")\n",
    "fig.colorbar(pc, ax=axs[0, 0])\n",
    "axs[0, 0].set_title(\"pcolormesh()\")\n",
    "\n",
    "co = axs[0, 1].contourf(X, Y, Z, levels=np.linspace(-1.25, 1.25, 11))\n",
    "fig.colorbar(co, ax=axs[0, 1])\n",
    "axs[0, 1].set_title(\"contourf()\")\n",
    "\n",
    "pc = axs[1, 0].imshow(\n",
    "    Z ** 2 * 100, cmap=\"plasma\", norm=mpl.colors.LogNorm(vmin=0.01, vmax=100)\n",
    ")\n",
    "fig.colorbar(pc, ax=axs[1, 0], extend=\"both\")\n",
    "axs[1, 0].set_title(\"imshow() with LogNorm()\")\n",
    "\n",
    "pc = axs[1, 1].scatter(data1, data2, c=data3, cmap=\"RdBu_r\")\n",
    "fig.colorbar(pc, ax=axs[1, 1], extend=\"both\")\n",
    "axs[1, 1].set_title(\"scatter()\")"
   ]
  },
  {
   "cell_type": "markdown",
   "id": "b9130c66",
   "metadata": {
    "papermill": {
     "duration": 0.05534,
     "end_time": "2022-01-02T18:22:54.320575",
     "exception": false,
     "start_time": "2022-01-02T18:22:54.265235",
     "status": "completed"
    },
    "tags": []
   },
   "source": [
    "# **Seaborn**\n",
    "## github stars: 9k\n",
    "[<img src=\"https://seaborn.pydata.org/_images/logo-wide-lightbg.svg\" width=\"250\"/>](image.png)\n",
    "\n",
    "Positives:\n",
    "- ✔️ Standard plots out of the box\n",
    "- ✔️ Perfect for statisical anaylsis.\n",
    "- ✔️ Fast to use for standard plots\n",
    "\n",
    "Negatives:\n",
    "- ❌ Built on top of matplotlib\n",
    "- ❌ Less ability to customize"
   ]
  },
  {
   "cell_type": "code",
   "execution_count": null,
   "id": "43d29178",
   "metadata": {
    "papermill": {
     "duration": 1.054589,
     "end_time": "2022-01-02T18:22:55.429876",
     "exception": false,
     "start_time": "2022-01-02T18:22:54.375287",
     "status": "completed"
    },
    "tags": []
   },
   "outputs": [],
   "source": [
    "# The import\n",
    "import seaborn as sns"
   ]
  },
  {
   "cell_type": "markdown",
   "id": "509d1b62",
   "metadata": {
    "papermill": {
     "duration": 0.054175,
     "end_time": "2022-01-02T18:22:55.538248",
     "exception": false,
     "start_time": "2022-01-02T18:22:55.484073",
     "status": "completed"
    },
    "tags": []
   },
   "source": [
    "## Relative Between two features"
   ]
  },
  {
   "cell_type": "code",
   "execution_count": null,
   "id": "c24cad32",
   "metadata": {
    "papermill": {
     "duration": 1.727699,
     "end_time": "2022-01-02T18:22:57.320679",
     "exception": false,
     "start_time": "2022-01-02T18:22:55.592980",
     "status": "completed"
    },
    "tags": []
   },
   "outputs": [],
   "source": [
    "# Load an example dataset\n",
    "tips = sns.load_dataset(\"tips\")\n",
    "\n",
    "# Create a visualization\n",
    "sns.relplot(\n",
    "    data=tips,\n",
    "    x=\"total_bill\",\n",
    "    y=\"tip\",\n",
    "    col=\"time\",\n",
    "    hue=\"smoker\",\n",
    "    style=\"smoker\",\n",
    "    size=\"size\",\n",
    ")\n",
    "plt.show()"
   ]
  },
  {
   "cell_type": "markdown",
   "id": "44c2c4ed",
   "metadata": {
    "papermill": {
     "duration": 0.056149,
     "end_time": "2022-01-02T18:22:57.433251",
     "exception": false,
     "start_time": "2022-01-02T18:22:57.377102",
     "status": "completed"
    },
    "tags": []
   },
   "source": [
    "## Statistical Estimation"
   ]
  },
  {
   "cell_type": "code",
   "execution_count": null,
   "id": "21fbd2f1",
   "metadata": {
    "papermill": {
     "duration": 3.369454,
     "end_time": "2022-01-02T18:23:00.859089",
     "exception": false,
     "start_time": "2022-01-02T18:22:57.489635",
     "status": "completed"
    },
    "tags": []
   },
   "outputs": [],
   "source": [
    "fmri = sns.load_dataset(\"fmri\")\n",
    "sns.relplot(\n",
    "    data=fmri,\n",
    "    kind=\"line\",\n",
    "    x=\"timepoint\",\n",
    "    y=\"signal\",\n",
    "    col=\"region\",\n",
    "    hue=\"event\",\n",
    "    style=\"event\",\n",
    ")\n",
    "plt.show()"
   ]
  },
  {
   "cell_type": "markdown",
   "id": "f3cf8641",
   "metadata": {
    "papermill": {
     "duration": 0.058824,
     "end_time": "2022-01-02T18:23:00.977578",
     "exception": false,
     "start_time": "2022-01-02T18:23:00.918754",
     "status": "completed"
    },
    "tags": []
   },
   "source": [
    "## Categorical Plot"
   ]
  },
  {
   "cell_type": "code",
   "execution_count": null,
   "id": "9eb906c0",
   "metadata": {
    "papermill": {
     "duration": 0.487207,
     "end_time": "2022-01-02T18:23:01.524139",
     "exception": false,
     "start_time": "2022-01-02T18:23:01.036932",
     "status": "completed"
    },
    "tags": []
   },
   "outputs": [],
   "source": [
    "sns.catplot(\n",
    "    data=tips, kind=\"swarm\", x=\"day\", y=\"total_bill\", hue=\"smoker\", height=5, aspect=2.3\n",
    ")\n",
    "plt.show()"
   ]
  },
  {
   "cell_type": "code",
   "execution_count": null,
   "id": "ce7fba78",
   "metadata": {
    "papermill": {
     "duration": 0.532147,
     "end_time": "2022-01-02T18:23:02.117555",
     "exception": false,
     "start_time": "2022-01-02T18:23:01.585408",
     "status": "completed"
    },
    "tags": []
   },
   "outputs": [],
   "source": [
    "sns.catplot(\n",
    "    data=tips,\n",
    "    kind=\"violin\",\n",
    "    x=\"day\",\n",
    "    y=\"total_bill\",\n",
    "    hue=\"smoker\",\n",
    "    split=True,\n",
    "    height=5,\n",
    "    aspect=2.3,\n",
    ")"
   ]
  },
  {
   "cell_type": "code",
   "execution_count": null,
   "id": "5461ae78",
   "metadata": {
    "papermill": {
     "duration": 0.591795,
     "end_time": "2022-01-02T18:23:02.773433",
     "exception": false,
     "start_time": "2022-01-02T18:23:02.181638",
     "status": "completed"
    },
    "tags": []
   },
   "outputs": [],
   "source": [
    "sns.catplot(\n",
    "    data=tips, kind=\"bar\", x=\"day\", y=\"total_bill\", hue=\"smoker\", height=5, aspect=2.3\n",
    ")\n",
    "plt.show()"
   ]
  },
  {
   "cell_type": "code",
   "execution_count": null,
   "id": "be41383f",
   "metadata": {
    "papermill": {
     "duration": 1.723944,
     "end_time": "2022-01-02T18:23:04.561641",
     "exception": false,
     "start_time": "2022-01-02T18:23:02.837697",
     "status": "completed"
    },
    "tags": []
   },
   "outputs": [],
   "source": [
    "penguins = sns.load_dataset(\"penguins\")\n",
    "sns.jointplot(\n",
    "    data=penguins, x=\"flipper_length_mm\", y=\"bill_length_mm\", hue=\"species\", height=10\n",
    ")"
   ]
  },
  {
   "cell_type": "code",
   "execution_count": null,
   "id": "bbfeb431",
   "metadata": {
    "papermill": {
     "duration": 5.24284,
     "end_time": "2022-01-02T18:23:09.873095",
     "exception": false,
     "start_time": "2022-01-02T18:23:04.630255",
     "status": "completed"
    },
    "tags": []
   },
   "outputs": [],
   "source": [
    "sns.pairplot(data=penguins, hue=\"species\")"
   ]
  },
  {
   "cell_type": "code",
   "execution_count": null,
   "id": "df5aa934",
   "metadata": {
    "papermill": {
     "duration": 0.78797,
     "end_time": "2022-01-02T18:23:10.739557",
     "exception": false,
     "start_time": "2022-01-02T18:23:09.951587",
     "status": "completed"
    },
    "tags": []
   },
   "outputs": [],
   "source": [
    "sns.relplot(\n",
    "    data=penguins, x=\"bill_length_mm\", y=\"bill_depth_mm\", hue=\"body_mass_g\", height=10\n",
    ")"
   ]
  },
  {
   "cell_type": "markdown",
   "id": "01320e34",
   "metadata": {
    "papermill": {
     "duration": 0.081535,
     "end_time": "2022-01-02T18:23:10.903973",
     "exception": false,
     "start_time": "2022-01-02T18:23:10.822438",
     "status": "completed"
    },
    "tags": []
   },
   "source": [
    "# **Bokeh**\n",
    "\n",
    "[<img src=\"https://static.bokeh.org/branding/logos/bokeh-logo@2x.jpg\" width=\"250\"/>](image.png)\n",
    "\n",
    "Positives:\n",
    "- ✔️ Interactive plots made easy.\n",
    "- ✔️ Lots of customization options.\n",
    "- ✔️ Like matplotlib but interactive\n",
    "\n",
    "Negatives:\n",
    "- ❌ like matplotlib but interactive\n",
    "- ❌ Code heavy"
   ]
  },
  {
   "cell_type": "code",
   "execution_count": null,
   "id": "d1c72adb",
   "metadata": {
    "papermill": {
     "duration": 0.685015,
     "end_time": "2022-01-02T18:23:11.671978",
     "exception": false,
     "start_time": "2022-01-02T18:23:10.986963",
     "status": "completed"
    },
    "tags": []
   },
   "outputs": [],
   "source": [
    "# import\n",
    "from bokeh.plotting import figure\n",
    "from bokeh.io import output_notebook, push_notebook, show\n",
    "\n",
    "output_notebook()"
   ]
  },
  {
   "cell_type": "code",
   "execution_count": null,
   "id": "a7ded2d5",
   "metadata": {
    "papermill": {
     "duration": 0.164047,
     "end_time": "2022-01-02T18:23:11.919826",
     "exception": false,
     "start_time": "2022-01-02T18:23:11.755779",
     "status": "completed"
    },
    "tags": []
   },
   "outputs": [],
   "source": [
    "# prepare some data\n",
    "x = [1, 2, 3, 4, 5]\n",
    "y = [6, 7, 2, 4, 5]\n",
    "\n",
    "# create a new plot with a title and axis labels\n",
    "p = figure(title=\"Simple line example\", x_axis_label=\"x\", y_axis_label=\"y\")\n",
    "\n",
    "# add a line renderer with legend and line thickness to the plot\n",
    "p.line(x, y, legend_label=\"Temp.\", line_width=2)\n",
    "\n",
    "# show the results\n",
    "show(p)"
   ]
  },
  {
   "cell_type": "code",
   "execution_count": null,
   "id": "8b411ae8",
   "metadata": {
    "papermill": {
     "duration": 0.20846,
     "end_time": "2022-01-02T18:23:12.212676",
     "exception": false,
     "start_time": "2022-01-02T18:23:12.004216",
     "status": "completed"
    },
    "tags": []
   },
   "outputs": [],
   "source": [
    "# prepare some data\n",
    "x = [1, 2, 3, 4, 5]\n",
    "y1 = [6, 7, 2, 4, 5]\n",
    "y2 = [2, 3, 4, 5, 6]\n",
    "y3 = [4, 5, 5, 7, 2]\n",
    "\n",
    "# create a new plot with a title and axis labels\n",
    "p = figure(title=\"Multiple line example\", x_axis_label=\"x\", y_axis_label=\"y\")\n",
    "\n",
    "# add multiple renderers\n",
    "p.line(x, y1, legend_label=\"Temp.\", color=\"blue\", line_width=2)\n",
    "p.line(x, y2, legend_label=\"Rate\", color=\"red\", line_width=2)\n",
    "p.line(x, y3, legend_label=\"Objects\", color=\"green\", line_width=2)\n",
    "\n",
    "# show the results\n",
    "show(p)"
   ]
  },
  {
   "cell_type": "code",
   "execution_count": null,
   "id": "1948c06c",
   "metadata": {
    "papermill": {
     "duration": 0.292997,
     "end_time": "2022-01-02T18:23:12.591652",
     "exception": false,
     "start_time": "2022-01-02T18:23:12.298655",
     "status": "completed"
    },
    "tags": []
   },
   "outputs": [],
   "source": [
    "from bokeh.layouts import row\n",
    "\n",
    "# prepare some data\n",
    "x = list(range(11))\n",
    "y0 = x\n",
    "y1 = [10 - i for i in x]\n",
    "y2 = [abs(i - 5) for i in x]\n",
    "\n",
    "# create three plots with one renderer each\n",
    "s1 = figure(width=250, height=250, background_fill_color=\"#fafafa\")\n",
    "s1.circle(x, y0, size=12, color=\"#53777a\", alpha=0.8)\n",
    "\n",
    "s2 = figure(width=250, height=250, background_fill_color=\"#fafafa\")\n",
    "s2.triangle(x, y1, size=12, color=\"#c02942\", alpha=0.8)\n",
    "\n",
    "s3 = figure(width=250, height=250, background_fill_color=\"#fafafa\")\n",
    "s3.square(x, y2, size=12, color=\"#d95b43\", alpha=0.8)\n",
    "\n",
    "# put the results in a row that automatically adjusts\n",
    "# to the browser window's width\n",
    "show(row(children=[s1, s2, s3], sizing_mode=\"scale_width\"))"
   ]
  },
  {
   "cell_type": "code",
   "execution_count": null,
   "id": "2f22e1cb",
   "metadata": {
    "papermill": {
     "duration": 0.221828,
     "end_time": "2022-01-02T18:23:12.900311",
     "exception": false,
     "start_time": "2022-01-02T18:23:12.678483",
     "status": "completed"
    },
    "tags": []
   },
   "outputs": [],
   "source": [
    "import numpy as np\n",
    "\n",
    "from bokeh.plotting import figure, show\n",
    "\n",
    "# generate some data\n",
    "N = 1000\n",
    "x = np.random.random(size=N) * 100\n",
    "y = np.random.random(size=N) * 100\n",
    "\n",
    "# generate radii and colors based on data\n",
    "radii = y / 100 * 2\n",
    "colors = [\"#%02x%02x%02x\" % (255, int(round(value * 255 / 100)), 255) for value in y]\n",
    "\n",
    "# create a new plot with a specific size\n",
    "p = figure(\n",
    "    title=\"Vectorized colors and radii example\",\n",
    "    sizing_mode=\"stretch_width\",\n",
    "    max_width=1200,\n",
    "    height=400,\n",
    ")\n",
    "\n",
    "# add circle renderer\n",
    "p.circle(\n",
    "    x, y, radius=radii, fill_color=colors, fill_alpha=0.6, line_color=\"lightgrey\",\n",
    ")\n",
    "\n",
    "# show the results\n",
    "show(p)"
   ]
  },
  {
   "cell_type": "code",
   "execution_count": null,
   "id": "b5aa3fd6",
   "metadata": {
    "papermill": {
     "duration": 0.249176,
     "end_time": "2022-01-02T18:23:13.238556",
     "exception": false,
     "start_time": "2022-01-02T18:23:12.989380",
     "status": "completed"
    },
    "tags": []
   },
   "outputs": [],
   "source": [
    "from bokeh.layouts import layout\n",
    "from bokeh.models import Div, RangeSlider, Spinner\n",
    "from bokeh.plotting import figure, show\n",
    "\n",
    "# prepare some data\n",
    "x = [1, 2, 3, 4, 5, 6, 7, 8, 9, 10]\n",
    "y = [4, 5, 5, 7, 2, 6, 4, 9, 1, 3]\n",
    "\n",
    "# create plot with circle glyphs\n",
    "p = figure(x_range=(1, 9), width=500, height=250)\n",
    "points = p.circle(x=x, y=y, size=30, fill_color=\"#21a7df\")\n",
    "\n",
    "# set up textarea (div)\n",
    "div = Div(\n",
    "    text=\"\"\"\n",
    "          <p>Select the circle's size using this control element:</p>\n",
    "          \"\"\",\n",
    "    width=200,\n",
    "    height=30,\n",
    ")\n",
    "\n",
    "# set up spinner\n",
    "spinner = Spinner(\n",
    "    title=\"Circle size\", low=0, high=60, step=5, value=points.glyph.size, width=200,\n",
    ")\n",
    "spinner.js_link(\"value\", points.glyph, \"size\")\n",
    "\n",
    "# set up RangeSlider\n",
    "range_slider = RangeSlider(\n",
    "    title=\"Adjust x-axis range\",\n",
    "    start=0,\n",
    "    end=10,\n",
    "    step=1,\n",
    "    value=(p.x_range.start, p.x_range.end),\n",
    ")\n",
    "range_slider.js_link(\"value\", p.x_range, \"start\", attr_selector=0)\n",
    "range_slider.js_link(\"value\", p.x_range, \"end\", attr_selector=1)\n",
    "\n",
    "# create layout\n",
    "layout = layout([[div, spinner], [range_slider], [p],])\n",
    "\n",
    "# show result\n",
    "show(layout)"
   ]
  },
  {
   "cell_type": "code",
   "execution_count": null,
   "id": "2e9ee24d",
   "metadata": {
    "papermill": {
     "duration": 0.305411,
     "end_time": "2022-01-02T18:23:13.634295",
     "exception": false,
     "start_time": "2022-01-02T18:23:13.328884",
     "status": "completed"
    },
    "tags": []
   },
   "outputs": [],
   "source": [
    "from bokeh.io import output_file, show\n",
    "from bokeh.models import ColumnDataSource\n",
    "from bokeh.palettes import Spectral6\n",
    "from bokeh.plotting import figure\n",
    "\n",
    "output_file(\"colormapped_bars.html\")\n",
    "\n",
    "fruits = [\"Apples\", \"Pears\", \"Nectarines\", \"Plums\", \"Grapes\", \"Strawberries\"]\n",
    "counts = [5, 3, 4, 2, 4, 6]\n",
    "\n",
    "source = ColumnDataSource(data=dict(fruits=fruits, counts=counts, color=Spectral6))\n",
    "\n",
    "p = figure(\n",
    "    x_range=fruits,\n",
    "    y_range=(0, 9),\n",
    "    height=500,\n",
    "    width=1000,\n",
    "    title=\"Fruit counts\",\n",
    "    toolbar_location=None,\n",
    "    tools=\"\",\n",
    ")\n",
    "\n",
    "p.vbar(\n",
    "    x=\"fruits\",\n",
    "    top=\"counts\",\n",
    "    width=0.9,\n",
    "    color=\"color\",\n",
    "    legend_field=\"fruits\",\n",
    "    source=source,\n",
    ")\n",
    "\n",
    "p.xgrid.grid_line_color = None\n",
    "p.legend.orientation = \"horizontal\"\n",
    "p.legend.location = \"top_center\"\n",
    "\n",
    "show(p)"
   ]
  },
  {
   "cell_type": "code",
   "execution_count": null,
   "id": "680e0771",
   "metadata": {
    "papermill": {
     "duration": 0.370133,
     "end_time": "2022-01-02T18:23:14.094811",
     "exception": false,
     "start_time": "2022-01-02T18:23:13.724678",
     "status": "completed"
    },
    "tags": []
   },
   "outputs": [],
   "source": [
    "import pandas as pd\n",
    "\n",
    "from bokeh.io import output_file, show\n",
    "from bokeh.models import (\n",
    "    BasicTicker,\n",
    "    ColorBar,\n",
    "    ColumnDataSource,\n",
    "    LinearColorMapper,\n",
    "    PrintfTickFormatter,\n",
    ")\n",
    "from bokeh.plotting import figure\n",
    "from bokeh.sampledata.unemployment1948 import data\n",
    "from bokeh.transform import transform\n",
    "\n",
    "output_file(\"unemploymemt.html\")\n",
    "\n",
    "data.Year = data.Year.astype(str)\n",
    "data = data.set_index(\"Year\")\n",
    "data.drop(\"Annual\", axis=1, inplace=True)\n",
    "data.columns.name = \"Month\"\n",
    "\n",
    "# reshape to 1D array or rates with a month and year for each row.\n",
    "df = pd.DataFrame(data.stack(), columns=[\"rate\"]).reset_index()\n",
    "\n",
    "source = ColumnDataSource(df)\n",
    "\n",
    "# this is the colormap from the original NYTimes plot\n",
    "colors = [\n",
    "    \"#75968f\",\n",
    "    \"#a5bab7\",\n",
    "    \"#c9d9d3\",\n",
    "    \"#e2e2e2\",\n",
    "    \"#dfccce\",\n",
    "    \"#ddb7b1\",\n",
    "    \"#cc7878\",\n",
    "    \"#933b41\",\n",
    "    \"#550b1d\",\n",
    "]\n",
    "mapper = LinearColorMapper(palette=colors, low=df.rate.min(), high=df.rate.max())\n",
    "\n",
    "p = figure(\n",
    "    width=1000,\n",
    "    height=500,\n",
    "    title=\"US unemployment 1948—2016\",\n",
    "    x_range=list(data.index),\n",
    "    y_range=list(reversed(data.columns)),\n",
    "    toolbar_location=None,\n",
    "    tools=\"\",\n",
    "    x_axis_location=\"above\",\n",
    ")\n",
    "\n",
    "p.rect(\n",
    "    x=\"Year\",\n",
    "    y=\"Month\",\n",
    "    width=1,\n",
    "    height=1,\n",
    "    source=source,\n",
    "    line_color=None,\n",
    "    fill_color=transform(\"rate\", mapper),\n",
    ")\n",
    "\n",
    "color_bar = ColorBar(\n",
    "    color_mapper=mapper,\n",
    "    ticker=BasicTicker(desired_num_ticks=len(colors)),\n",
    "    formatter=PrintfTickFormatter(format=\"%d%%\"),\n",
    ")\n",
    "\n",
    "p.add_layout(color_bar, \"right\")\n",
    "\n",
    "p.axis.axis_line_color = None\n",
    "p.axis.major_tick_line_color = None\n",
    "p.axis.major_label_text_font_size = \"7px\"\n",
    "p.axis.major_label_standoff = 0\n",
    "p.xaxis.major_label_orientation = 1.0\n",
    "\n",
    "show(p)"
   ]
  },
  {
   "cell_type": "code",
   "execution_count": null,
   "id": "97920c3a",
   "metadata": {
    "papermill": {
     "duration": 0.715739,
     "end_time": "2022-01-02T18:23:14.903687",
     "exception": false,
     "start_time": "2022-01-02T18:23:14.187948",
     "status": "completed"
    },
    "tags": []
   },
   "outputs": [],
   "source": [
    "import networkx as nx\n",
    "\n",
    "from bokeh.io import output_file, show\n",
    "from bokeh.models import (\n",
    "    BoxSelectTool,\n",
    "    Circle,\n",
    "    EdgesAndLinkedNodes,\n",
    "    HoverTool,\n",
    "    MultiLine,\n",
    "    NodesAndLinkedEdges,\n",
    "    Plot,\n",
    "    Range1d,\n",
    "    TapTool,\n",
    ")\n",
    "from bokeh.palettes import Spectral4\n",
    "from bokeh.plotting import from_networkx\n",
    "\n",
    "G = nx.karate_club_graph()\n",
    "\n",
    "plot = Plot(\n",
    "    width=400, height=400, x_range=Range1d(-1.1, 1.1), y_range=Range1d(-1.1, 1.1)\n",
    ")\n",
    "plot.title.text = \"Graph Interaction Demonstration\"\n",
    "\n",
    "plot.add_tools(HoverTool(tooltips=None), TapTool(), BoxSelectTool())\n",
    "\n",
    "graph_renderer = from_networkx(G, nx.circular_layout, scale=1, center=(0, 0))\n",
    "\n",
    "graph_renderer.node_renderer.glyph = Circle(size=15, fill_color=Spectral4[0])\n",
    "graph_renderer.node_renderer.selection_glyph = Circle(size=15, fill_color=Spectral4[2])\n",
    "graph_renderer.node_renderer.hover_glyph = Circle(size=15, fill_color=Spectral4[1])\n",
    "\n",
    "graph_renderer.edge_renderer.glyph = MultiLine(\n",
    "    line_color=\"#CCCCCC\", line_alpha=0.8, line_width=5\n",
    ")\n",
    "graph_renderer.edge_renderer.selection_glyph = MultiLine(\n",
    "    line_color=Spectral4[2], line_width=5\n",
    ")\n",
    "graph_renderer.edge_renderer.hover_glyph = MultiLine(\n",
    "    line_color=Spectral4[1], line_width=5\n",
    ")\n",
    "\n",
    "graph_renderer.selection_policy = NodesAndLinkedEdges()\n",
    "graph_renderer.inspection_policy = EdgesAndLinkedNodes()\n",
    "\n",
    "plot.renderers.append(graph_renderer)\n",
    "\n",
    "output_file(\"interactive_graphs.html\")\n",
    "show(plot)"
   ]
  },
  {
   "cell_type": "markdown",
   "id": "cc677428",
   "metadata": {
    "papermill": {
     "duration": 0.094554,
     "end_time": "2022-01-02T18:23:15.092309",
     "exception": false,
     "start_time": "2022-01-02T18:23:14.997755",
     "status": "completed"
    },
    "tags": []
   },
   "source": [
    "# **Plotly Express**\n",
    "## github stars: 657\n",
    "\n",
    "\n",
    "[<img src=\"https://upload.wikimedia.org/wikipedia/commons/3/37/Plotly-logo-01-square.png\" width=\"250\"/>](image.png)\n",
    "\n",
    "Positives:\n",
    "- ✔️ Quickly make interactive plots\n",
    "- ✔️ Like seaborn but interactive\n",
    "- ✔️ Maps are 🔥🔥🔥\n",
    "\n",
    "Negatives:\n",
    "- ❌ Hard to customize\n",
    "- ❌ Some default plots (bar) look gross"
   ]
  },
  {
   "cell_type": "code",
   "execution_count": null,
   "id": "add491e4",
   "metadata": {
    "papermill": {
     "duration": 1.243997,
     "end_time": "2022-01-02T18:23:16.429998",
     "exception": false,
     "start_time": "2022-01-02T18:23:15.186001",
     "status": "completed"
    },
    "tags": []
   },
   "outputs": [],
   "source": [
    "# The import\n",
    "import plotly.express as px"
   ]
  },
  {
   "cell_type": "code",
   "execution_count": null,
   "id": "88fd706d",
   "metadata": {
    "papermill": {
     "duration": 1.191979,
     "end_time": "2022-01-02T18:23:17.715563",
     "exception": false,
     "start_time": "2022-01-02T18:23:16.523584",
     "status": "completed"
    },
    "tags": []
   },
   "outputs": [],
   "source": [
    "df = px.data.iris()\n",
    "fig = px.scatter(\n",
    "    df,\n",
    "    x=\"sepal_width\",\n",
    "    y=\"sepal_length\",\n",
    "    color=\"species\",\n",
    "    size=\"petal_length\",\n",
    "    hover_data=[\"petal_width\"],\n",
    ")\n",
    "fig.show()"
   ]
  },
  {
   "cell_type": "code",
   "execution_count": null,
   "id": "b65d43d4",
   "metadata": {
    "papermill": {
     "duration": 0.270368,
     "end_time": "2022-01-02T18:23:18.084569",
     "exception": false,
     "start_time": "2022-01-02T18:23:17.814201",
     "status": "completed"
    },
    "tags": []
   },
   "outputs": [],
   "source": [
    "df = px.data.tips()\n",
    "fig = px.scatter(\n",
    "    df, x=\"total_bill\", y=\"tip\", color=\"smoker\", facet_col=\"sex\", facet_row=\"time\"\n",
    ")\n",
    "fig.show()"
   ]
  },
  {
   "cell_type": "code",
   "execution_count": null,
   "id": "6a9837f5",
   "metadata": {
    "papermill": {
     "duration": 0.193521,
     "end_time": "2022-01-02T18:23:18.378523",
     "exception": false,
     "start_time": "2022-01-02T18:23:18.185002",
     "status": "completed"
    },
    "tags": []
   },
   "outputs": [],
   "source": [
    "df = px.data.gapminder().query(\"continent == 'Oceania'\")\n",
    "fig = px.line(df, x=\"year\", y=\"lifeExp\", color=\"country\", markers=True)\n",
    "fig.show()"
   ]
  },
  {
   "cell_type": "code",
   "execution_count": null,
   "id": "74a9f610",
   "metadata": {
    "papermill": {
     "duration": 0.194011,
     "end_time": "2022-01-02T18:23:18.669939",
     "exception": false,
     "start_time": "2022-01-02T18:23:18.475928",
     "status": "completed"
    },
    "tags": []
   },
   "outputs": [],
   "source": [
    "df = px.data.tips()\n",
    "fig = px.bar(df, x=\"sex\", y=\"total_bill\", color=\"smoker\", barmode=\"group\")\n",
    "fig.show()"
   ]
  },
  {
   "cell_type": "code",
   "execution_count": null,
   "id": "ee178a7c",
   "metadata": {
    "papermill": {
     "duration": 0.208373,
     "end_time": "2022-01-02T18:23:18.976053",
     "exception": false,
     "start_time": "2022-01-02T18:23:18.767680",
     "status": "completed"
    },
    "tags": []
   },
   "outputs": [],
   "source": [
    "df = px.data.iris()\n",
    "fig = px.scatter_matrix(\n",
    "    df,\n",
    "    dimensions=[\"sepal_width\", \"sepal_length\", \"petal_width\", \"petal_length\"],\n",
    "    color=\"species\",\n",
    ")\n",
    "fig.show()"
   ]
  },
  {
   "cell_type": "code",
   "execution_count": null,
   "id": "b57a94be",
   "metadata": {
    "papermill": {
     "duration": 0.20379,
     "end_time": "2022-01-02T18:23:19.279306",
     "exception": false,
     "start_time": "2022-01-02T18:23:19.075516",
     "status": "completed"
    },
    "tags": []
   },
   "outputs": [],
   "source": [
    "df = px.data.iris()\n",
    "fig = px.parallel_coordinates(\n",
    "    df,\n",
    "    color=\"species_id\",\n",
    "    labels={\n",
    "        \"species_id\": \"Species\",\n",
    "        \"sepal_width\": \"Sepal Width\",\n",
    "        \"sepal_length\": \"Sepal Length\",\n",
    "        \"petal_width\": \"Petal Width\",\n",
    "        \"petal_length\": \"Petal Length\",\n",
    "    },\n",
    "    color_continuous_scale=px.colors.diverging.Tealrose,\n",
    "    color_continuous_midpoint=2,\n",
    ")\n",
    "fig.show()"
   ]
  },
  {
   "cell_type": "code",
   "execution_count": null,
   "id": "2e027524",
   "metadata": {
    "papermill": {
     "duration": 0.198764,
     "end_time": "2022-01-02T18:23:19.578312",
     "exception": false,
     "start_time": "2022-01-02T18:23:19.379548",
     "status": "completed"
    },
    "tags": []
   },
   "outputs": [],
   "source": [
    "df = px.data.tips()\n",
    "fig = px.parallel_categories(\n",
    "    df, color=\"size\", color_continuous_scale=px.colors.sequential.Inferno\n",
    ")\n",
    "fig.show()"
   ]
  },
  {
   "cell_type": "code",
   "execution_count": null,
   "id": "dce09eb7",
   "metadata": {
    "papermill": {
     "duration": 0.217872,
     "end_time": "2022-01-02T18:23:19.895795",
     "exception": false,
     "start_time": "2022-01-02T18:23:19.677923",
     "status": "completed"
    },
    "tags": []
   },
   "outputs": [],
   "source": [
    "df = px.data.gapminder()\n",
    "fig = px.scatter(\n",
    "    df.query(\"year==2007\"),\n",
    "    x=\"gdpPercap\",\n",
    "    y=\"lifeExp\",\n",
    "    size=\"pop\",\n",
    "    color=\"continent\",\n",
    "    hover_name=\"country\",\n",
    "    log_x=True,\n",
    "    size_max=60,\n",
    ")\n",
    "fig.show()"
   ]
  },
  {
   "cell_type": "code",
   "execution_count": null,
   "id": "9bcafb14",
   "metadata": {
    "papermill": {
     "duration": 0.31369,
     "end_time": "2022-01-02T18:23:20.335979",
     "exception": false,
     "start_time": "2022-01-02T18:23:20.022289",
     "status": "completed"
    },
    "tags": []
   },
   "outputs": [],
   "source": [
    "df = px.data.gapminder().query(\"year == 2007\")\n",
    "fig = px.sunburst(\n",
    "    df,\n",
    "    path=[\"continent\", \"country\"],\n",
    "    values=\"pop\",\n",
    "    color=\"lifeExp\",\n",
    "    hover_data=[\"iso_alpha\"],\n",
    ")\n",
    "fig.show()"
   ]
  },
  {
   "cell_type": "code",
   "execution_count": null,
   "id": "966c7232",
   "metadata": {
    "papermill": {
     "duration": 0.222473,
     "end_time": "2022-01-02T18:23:20.660811",
     "exception": false,
     "start_time": "2022-01-02T18:23:20.438338",
     "status": "completed"
    },
    "tags": []
   },
   "outputs": [],
   "source": [
    "df = px.data.tips()\n",
    "fig = px.violin(\n",
    "    df, y=\"tip\", x=\"smoker\", color=\"sex\", box=True, points=\"all\", hover_data=df.columns\n",
    ")\n",
    "fig.show()"
   ]
  },
  {
   "cell_type": "code",
   "execution_count": null,
   "id": "a81315cd",
   "metadata": {
    "papermill": {
     "duration": 0.212824,
     "end_time": "2022-01-02T18:23:20.977196",
     "exception": false,
     "start_time": "2022-01-02T18:23:20.764372",
     "status": "completed"
    },
    "tags": []
   },
   "outputs": [],
   "source": [
    "df = px.data.carshare()\n",
    "fig = px.scatter_mapbox(\n",
    "    df,\n",
    "    lat=\"centroid_lat\",\n",
    "    lon=\"centroid_lon\",\n",
    "    color=\"peak_hour\",\n",
    "    size=\"car_hours\",\n",
    "    color_continuous_scale=px.colors.cyclical.IceFire,\n",
    "    size_max=15,\n",
    "    zoom=10,\n",
    "    mapbox_style=\"carto-positron\",\n",
    ")\n",
    "fig.show()"
   ]
  },
  {
   "cell_type": "code",
   "execution_count": null,
   "id": "ca67e38a",
   "metadata": {
    "papermill": {
     "duration": 0.465803,
     "end_time": "2022-01-02T18:23:21.547894",
     "exception": false,
     "start_time": "2022-01-02T18:23:21.082091",
     "status": "completed"
    },
    "tags": []
   },
   "outputs": [],
   "source": [
    "df = px.data.election()\n",
    "fig = px.scatter_3d(\n",
    "    df,\n",
    "    x=\"Joly\",\n",
    "    y=\"Coderre\",\n",
    "    z=\"Bergeron\",\n",
    "    color=\"winner\",\n",
    "    size=\"total\",\n",
    "    hover_name=\"district\",\n",
    "    symbol=\"result\",\n",
    "    color_discrete_map={\"Joly\": \"blue\", \"Bergeron\": \"green\", \"Coderre\": \"red\"},\n",
    ")\n",
    "fig.show()"
   ]
  },
  {
   "cell_type": "markdown",
   "id": "8e98dcce",
   "metadata": {
    "papermill": {
     "duration": 0.107661,
     "end_time": "2022-01-02T18:23:21.760624",
     "exception": false,
     "start_time": "2022-01-02T18:23:21.652963",
     "status": "completed"
    },
    "tags": []
   },
   "source": [
    "# **plotnine** (ggplot)\n",
    "## github stars: 2.9k\n",
    "[<img src=\"https://plotnine.readthedocs.io/en/stable/_images/logo-180.png\" height=\"75\"/>](image.png)\n",
    "\n",
    "Positives:\n",
    "- ✔️ Pretty!\n",
    "- ✔️ Based on ggplot for R lovers.\n",
    "\n",
    "Negatives:\n",
    "- ❌ Unique coding syntax\n",
    "- ❌ Not as developed (bad docs)"
   ]
  },
  {
   "cell_type": "code",
   "execution_count": null,
   "id": "70f276c5-3486-466a-bf7f-6e76a4530319",
   "metadata": {},
   "outputs": [],
   "source": [
    "pip install plotnine"
   ]
  },
  {
   "cell_type": "code",
   "execution_count": null,
   "id": "3a3124f8",
   "metadata": {
    "papermill": {
     "duration": 3.395858,
     "end_time": "2022-01-02T18:23:25.261009",
     "exception": false,
     "start_time": "2022-01-02T18:23:21.865151",
     "status": "completed"
    },
    "tags": []
   },
   "outputs": [],
   "source": [
    "from plotnine import ggplot, geom_point, aes, stat_smooth, facet_wrap\n",
    "from plotnine.data import mtcars\n",
    "\n",
    "(\n",
    "    ggplot(mtcars, aes(\"wt\", \"mpg\", color=\"factor(gear)\"))\n",
    "    + geom_point()\n",
    "    + stat_smooth(method=\"lm\")\n",
    "    + facet_wrap(\"~gear\")\n",
    ")"
   ]
  },
  {
   "cell_type": "code",
   "execution_count": null,
   "id": "12bc8b28",
   "metadata": {
    "papermill": {
     "duration": 0.574007,
     "end_time": "2022-01-02T18:23:25.946211",
     "exception": false,
     "start_time": "2022-01-02T18:23:25.372204",
     "status": "completed"
    },
    "tags": []
   },
   "outputs": [],
   "source": [
    "from plotnine import geom_col, geom_path, scale_color_discrete\n",
    "\n",
    "n = 10\n",
    "df = pd.DataFrame(\n",
    "    {\n",
    "        \"x\": np.arange(n),\n",
    "        \"y\": np.arange(n),\n",
    "        \"yfit\": np.arange(n) + np.tile([-0.2, 0.2], n // 2),\n",
    "        \"cat\": [\"a\", \"b\"] * (n // 2),\n",
    "    }\n",
    ")\n",
    "\n",
    "(\n",
    "    ggplot(df)\n",
    "    + geom_col(aes(\"x\", \"y\", fill=\"cat\"))\n",
    "    + geom_point(aes(\"x\", y=\"yfit\", color=\"cat\"))\n",
    "    + geom_path(aes(\"x\", y=\"yfit\", color=\"cat\"))\n",
    "    + scale_color_discrete(l=0.4)  # new\n",
    ")"
   ]
  },
  {
   "cell_type": "code",
   "execution_count": null,
   "id": "789a3857",
   "metadata": {
    "papermill": {
     "duration": 0.498214,
     "end_time": "2022-01-02T18:23:26.553558",
     "exception": false,
     "start_time": "2022-01-02T18:23:26.055344",
     "status": "completed"
    },
    "tags": []
   },
   "outputs": [],
   "source": [
    "from plotnine import geom_line, scale_color_hue, ggtitle\n",
    "\n",
    "df2 = pd.DataFrame(\n",
    "    {\n",
    "        \"letter\": [\"Alpha\", \"Beta\", \"Delta\", \"Gamma\"] * 2,\n",
    "        \"pos\": [1, 2, 3, 4] * 2,\n",
    "        \"num_of_letters\": [5, 4, 5, 5] * 2,\n",
    "    }\n",
    ")\n",
    "\n",
    "(\n",
    "    ggplot(df2)\n",
    "    + geom_col(aes(x=\"letter\", y=\"pos\", fill=\"letter\"))\n",
    "    + geom_line(aes(x=\"letter\", y=\"num_of_letters\", color=\"letter\"), size=1)\n",
    "    + scale_color_hue(l=0.45)  # some contrast to make the lines stick out\n",
    "    + ggtitle(\"Greek Letter Analysis\")\n",
    ")"
   ]
  },
  {
   "cell_type": "markdown",
   "id": "fbd2f05a",
   "metadata": {
    "papermill": {
     "duration": 0.11,
     "end_time": "2022-01-02T18:23:26.774009",
     "exception": false,
     "start_time": "2022-01-02T18:23:26.664009",
     "status": "completed"
    },
    "tags": []
   },
   "source": [
    "# **Altair**\n",
    "## github stars: 7.1k\n",
    "\n",
    "Positives:\n",
    "- ✔️  Declarative Visualization\n",
    "\n",
    "Negatives:\n",
    "- ❌  Declarative Visualization\n",
    "\n",
    "From their docs:\n",
    "**We believe that these challenges can be addressed without the creation of yet another visualization library that has a programmatic API and built-in rendering. Altair's approach to building visualizations uses a layered design that leverages the full capabilities of existing visualization libraries:**"
   ]
  },
  {
   "cell_type": "code",
   "execution_count": null,
   "id": "f3d8c636-27b8-4afc-b66b-bd1560f58359",
   "metadata": {},
   "outputs": [],
   "source": [
    "!pip install altair"
   ]
  },
  {
   "cell_type": "code",
   "execution_count": null,
   "id": "a4f04f51",
   "metadata": {
    "papermill": {
     "duration": 9.245051,
     "end_time": "2022-01-02T18:23:36.130059",
     "exception": false,
     "start_time": "2022-01-02T18:23:26.885008",
     "status": "completed"
    },
    "tags": []
   },
   "outputs": [],
   "source": [
    "!pip install vega_datasets > /dev/null"
   ]
  },
  {
   "cell_type": "code",
   "execution_count": null,
   "id": "4541c3b4",
   "metadata": {
    "papermill": {
     "duration": 0.293851,
     "end_time": "2022-01-02T18:23:36.534965",
     "exception": false,
     "start_time": "2022-01-02T18:23:36.241114",
     "status": "completed"
    },
    "tags": []
   },
   "outputs": [],
   "source": [
    "import altair as alt\n",
    "\n",
    "# load a simple dataset as a pandas DataFrame\n",
    "from vega_datasets import data\n",
    "\n",
    "cars = data.cars()\n",
    "\n",
    "alt.Chart(cars).mark_point().encode(\n",
    "    x=\"Horsepower\", y=\"Miles_per_Gallon\", color=\"Origin\",\n",
    ")"
   ]
  },
  {
   "cell_type": "markdown",
   "id": "0579474e",
   "metadata": {
    "papermill": {
     "duration": 0.112256,
     "end_time": "2022-01-02T18:23:36.761816",
     "exception": false,
     "start_time": "2022-01-02T18:23:36.649560",
     "status": "completed"
    },
    "tags": []
   },
   "source": [
    "# **Pandas**\n",
    "\n",
    "[<img src=\"https://upload.wikimedia.org/wikipedia/commons/thumb/e/ed/Pandas_logo.svg/2560px-Pandas_logo.svg.png\" width=\"250\"/>](image.png)\n",
    "\n",
    "Pandas is a plotting library? Yes! It uses matplotlib backed.\n",
    "\n",
    "Positives:\n",
    "- ✔️ Plot directly from a dataframe. No other imports.\n",
    "- ✔️ Suprisingly has a lot of plotting options.\n",
    "- ✔️ Great starting point for matplotlib plots\n",
    "\n",
    "Negatives:\n",
    "- ❌ Not interactive\n",
    "- ❌ Plain and simple"
   ]
  },
  {
   "cell_type": "code",
   "execution_count": null,
   "id": "cc1cb37f",
   "metadata": {
    "papermill": {
     "duration": 1.284848,
     "end_time": "2022-01-02T18:23:38.160887",
     "exception": false,
     "start_time": "2022-01-02T18:23:36.876039",
     "status": "completed"
    },
    "tags": []
   },
   "outputs": [],
   "source": [
    "!wget https://raw.githubusercontent.com/pandas-dev/pandas/master/doc/data/air_quality_no2.csv > /dev/null"
   ]
  },
  {
   "cell_type": "code",
   "execution_count": null,
   "id": "80337d02",
   "metadata": {
    "papermill": {
     "duration": 0.419266,
     "end_time": "2022-01-02T18:23:38.695017",
     "exception": false,
     "start_time": "2022-01-02T18:23:38.275751",
     "status": "completed"
    },
    "tags": []
   },
   "outputs": [],
   "source": [
    "import pandas as pd\n",
    "\n",
    "air_quality = pd.read_csv(\"air_quality_no2.csv\", engine=\"python\")\n",
    "air_quality.plot(figsize=(15, 5))"
   ]
  },
  {
   "cell_type": "code",
   "execution_count": null,
   "id": "33411b15",
   "metadata": {
    "papermill": {
     "duration": 0.365195,
     "end_time": "2022-01-02T18:23:39.178194",
     "exception": false,
     "start_time": "2022-01-02T18:23:38.812999",
     "status": "completed"
    },
    "tags": []
   },
   "outputs": [],
   "source": [
    "air_quality.plot.scatter(\n",
    "    x=\"station_london\", y=\"station_paris\", alpha=0.5, figsize=(15, 5)\n",
    ")"
   ]
  },
  {
   "cell_type": "code",
   "execution_count": null,
   "id": "addb852d",
   "metadata": {
    "papermill": {
     "duration": 0.348451,
     "end_time": "2022-01-02T18:23:39.646670",
     "exception": false,
     "start_time": "2022-01-02T18:23:39.298219",
     "status": "completed"
    },
    "tags": []
   },
   "outputs": [],
   "source": [
    "air_quality.plot.box(figsize=(15, 5))"
   ]
  },
  {
   "cell_type": "code",
   "execution_count": null,
   "id": "6312d06f",
   "metadata": {
    "papermill": {
     "duration": 0.994575,
     "end_time": "2022-01-02T18:23:40.762844",
     "exception": false,
     "start_time": "2022-01-02T18:23:39.768269",
     "status": "completed"
    },
    "tags": []
   },
   "outputs": [],
   "source": [
    "air_quality.plot.area(figsize=(12, 8), subplots=True)"
   ]
  },
  {
   "cell_type": "markdown",
   "id": "d0177e69",
   "metadata": {
    "papermill": {
     "duration": 0.124482,
     "end_time": "2022-01-02T18:23:41.012274",
     "exception": false,
     "start_time": "2022-01-02T18:23:40.887792",
     "status": "completed"
    },
    "tags": []
   },
   "source": [
    "# What did I miss?\n",
    "Let me know in the comments!"
   ]
  }
 ],
 "metadata": {
  "kernelspec": {
   "display_name": "Python 3 (ipykernel)",
   "language": "python",
   "name": "python3"
  },
  "language_info": {
   "codemirror_mode": {
    "name": "ipython",
    "version": 3
   },
   "file_extension": ".py",
   "mimetype": "text/x-python",
   "name": "python",
   "nbconvert_exporter": "python",
   "pygments_lexer": "ipython3",
   "version": "3.9.12"
  },
  "papermill": {
   "default_parameters": {},
   "duration": 75.869203,
   "end_time": "2022-01-02T18:23:42.552255",
   "environment_variables": {},
   "exception": null,
   "input_path": "__notebook__.ipynb",
   "output_path": "__notebook__.ipynb",
   "parameters": {},
   "start_time": "2022-01-02T18:22:26.683052",
   "version": "2.3.3"
  }
 },
 "nbformat": 4,
 "nbformat_minor": 5
}
