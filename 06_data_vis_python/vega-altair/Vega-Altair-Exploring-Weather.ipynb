{
 "cells": [
  {
   "cell_type": "markdown",
   "id": "6ac05e58-5d5f-4b37-9b8f-706ff2aaae97",
   "metadata": {},
   "source": [
    "# Vega-Altair: Declarative Visualization in Python"
   ]
  },
  {
   "cell_type": "markdown",
   "id": "2ea63c35-c56d-4f11-8fc3-1dc03f9a5596",
   "metadata": {},
   "source": [
    "## Exploring Seattle Weather"
   ]
  },
  {
   "cell_type": "markdown",
   "id": "3670d1dd-5f5b-49bd-8365-a49a8ba8972c",
   "metadata": {},
   "source": [
    "Source:https://altair-viz.github.io/case_studies/exploring-weather.html\n",
    "\n",
    "---\n",
    "\n",
    "See the [Vega-Altair Gallery](https://altair-viz.github.io/gallery/index.html)\n",
    "\n",
    "See the [Basic Statistical Visualization with Altair](https://altair-viz.github.io/getting_started/starting.html#starting) "
   ]
  },
  {
   "cell_type": "markdown",
   "id": "064382dd-617e-456f-9c26-f1cb2471d6b7",
   "metadata": {},
   "source": [
    "### Installation:"
   ]
  },
  {
   "cell_type": "code",
   "execution_count": null,
   "id": "d420c110-6398-40e5-96ed-350d89034a63",
   "metadata": {
    "tags": []
   },
   "outputs": [],
   "source": [
    "# !pip install altair vega_datasets"
   ]
  },
  {
   "cell_type": "code",
   "execution_count": null,
   "id": "eff5c1b0-b243-4ec0-907c-b6766d84a27b",
   "metadata": {
    "tags": []
   },
   "outputs": [],
   "source": [
    "# !conda install -c conda-forge altair vega_datasets"
   ]
  },
  {
   "cell_type": "markdown",
   "id": "555c9e7f-330f-4595-ace1-6fe3608047b0",
   "metadata": {},
   "source": [
    "---"
   ]
  },
  {
   "cell_type": "markdown",
   "id": "13ab903a-5abe-46e8-ba27-50cacb4580ca",
   "metadata": {},
   "source": [
    "For this tutorial, we will create visualizations to explore weather data for Seattle, taken from NOAA. The dataset is a CSV file with columns for the temperature (in Celsius), precipitation (in millimeters), wind speed (in meter/second), and weather type. We have one row for each day from January 1st, 2012 to December 31st, 2015.\n",
    "\n",
    "Altair is designed to work with data in the form of Pandas dataframes, and contains a loader for this and other built-in datasets:"
   ]
  },
  {
   "cell_type": "code",
   "execution_count": null,
   "id": "df60f5eb-c410-4fe2-92ac-437004015425",
   "metadata": {
    "tags": []
   },
   "outputs": [],
   "source": [
    "from vega_datasets import data\n",
    "\n",
    "df = data.seattle_weather()\n",
    "df.head()"
   ]
  },
  {
   "cell_type": "markdown",
   "id": "b0152517-faf1-49a2-a90b-8299dde6ee1d",
   "metadata": {},
   "source": [
    "The data is loaded from the web and stored in a Pandas DataFrame, and from here we can explore it with Altair.\n",
    "\n",
    "Let’s start by looking at the precipitation, using tick marks to see the distribution of precipitation values:"
   ]
  },
  {
   "cell_type": "code",
   "execution_count": null,
   "id": "9b1f29a3-0725-4b72-a7a5-69c58005b1c6",
   "metadata": {
    "tags": []
   },
   "outputs": [],
   "source": [
    "import altair as alt\n",
    "\n",
    "alt.Chart(df).mark_tick().encode(\n",
    "    x='precipitation',\n",
    ")"
   ]
  },
  {
   "cell_type": "markdown",
   "id": "214057c3-019d-4edf-876b-3d8fe7b3c42c",
   "metadata": {},
   "source": [
    "It looks as though precipitation is skewed towards lower values; that is, when it rains in Seattle, it usually doesn’t rain very much. It is difficult to see patterns across continuous variables, and so to better see this, we can create a histogram of the precipitation data. For this we first discretize the precipitation values by adding a binning to x. Additionally, we set our encoding channel y with count. The result is a histogram of precipitation values:"
   ]
  },
  {
   "cell_type": "code",
   "execution_count": null,
   "id": "3bfb38fc-2898-45c3-b240-248b903969a8",
   "metadata": {
    "tags": []
   },
   "outputs": [],
   "source": [
    "alt.Chart(df).mark_bar().encode(\n",
    "    alt.X('precipitation').bin(),\n",
    "    y='count()'\n",
    ")"
   ]
  },
  {
   "cell_type": "markdown",
   "id": "5b0fd58e-69e1-4f7f-85f1-9473ef61fcac",
   "metadata": {},
   "source": [
    "Next, let’s look at how precipitation in Seattle changes throughout the year. Altair natively supports dates and discretization of dates when we set the type to temporal (shorthand T). For example, in the following plot, we compute the total precipitation for each month. To discretize the data into months, we can use a month binning (see TimeUnit for more information about this and other timeUnit binnings):"
   ]
  },
  {
   "cell_type": "code",
   "execution_count": null,
   "id": "3f6cbcd6-79e9-4732-9bb6-a03c54913acc",
   "metadata": {
    "tags": []
   },
   "outputs": [],
   "source": [
    "alt.Chart(df).mark_line().encode(\n",
    "    x='month(date):T',\n",
    "    y='average(precipitation)'\n",
    ")"
   ]
  },
  {
   "cell_type": "markdown",
   "id": "b30b91c2-862b-4eb3-810e-c082c2ee031c",
   "metadata": {},
   "source": [
    "This chart shows that in Seattle the precipitation in the winter is, on average, much higher than summer (an unsurprising observation to those who live there!). By changing the mapping of encoding channels to data features, you can begin to explore the relationships within the data.\n",
    "\n",
    "When looking at precipitation and temperature, we might want to aggregate by year and month (yearmonth) rather than just month. This allows us to see seasonal trends, with daily variation smoothed out. We might also wish to see the maximum and minimum temperature in each month:"
   ]
  },
  {
   "cell_type": "code",
   "execution_count": null,
   "id": "49f2854b-766c-4465-9bb1-a16012d89d9a",
   "metadata": {
    "tags": []
   },
   "outputs": [],
   "source": [
    "alt.Chart(df).mark_line().encode(\n",
    "    x='yearmonth(date):T',\n",
    "    y='max(temp_max)',\n",
    ")"
   ]
  },
  {
   "cell_type": "markdown",
   "id": "f02ae990-9c35-4d4e-b092-436596c921ae",
   "metadata": {},
   "source": [
    "In this chart, it looks as though the maximum temperature is increasing from year to year over the course of this relatively short baseline. To look closer into this, let’s instead look at the mean of the maximum daily temperatures for each year:"
   ]
  },
  {
   "cell_type": "code",
   "execution_count": null,
   "id": "b94610e1-0512-48f1-8233-9b6a4f07ee5b",
   "metadata": {
    "tags": []
   },
   "outputs": [],
   "source": [
    "alt.Chart(df).mark_line().encode(\n",
    "    x='year(date):T',\n",
    "    y='mean(temp_max)',\n",
    ")"
   ]
  },
  {
   "cell_type": "markdown",
   "id": "a4ded2e7-313f-4836-bc46-8ecebbf0d231",
   "metadata": {},
   "source": [
    "This can be a little clearer if we use a bar plot and mark the year as an “ordinal” (ordered category) type. For aesthetic reasons, let’s make the bar chart horizontal by assigning the ordinal value to the y-axis:"
   ]
  },
  {
   "cell_type": "code",
   "execution_count": null,
   "id": "74db77a6-1c63-412a-8397-6717f9c3f1c2",
   "metadata": {
    "tags": []
   },
   "outputs": [],
   "source": [
    "alt.Chart(df).mark_bar().encode(\n",
    "    x='mean(temp_max)',\n",
    "    y='year(date):O'\n",
    ")"
   ]
  },
  {
   "cell_type": "markdown",
   "id": "229e06e1-f16f-49a1-9a65-9df53ded41ba",
   "metadata": {},
   "source": [
    "The chart indicates that the annual average of the daily high temperatures increased over the course of these four years, a fact that you can confirm for minimum daily temperatures as well.\n",
    "\n",
    "You might also wonder how the daily temperature range changes throughout the year. For this, we have to add a computation to derive a new field, which can be done by adding a calculate transform:"
   ]
  },
  {
   "cell_type": "code",
   "execution_count": null,
   "id": "c292e13e-75fe-4a6b-84a9-a819731e48b0",
   "metadata": {
    "tags": []
   },
   "outputs": [],
   "source": [
    "alt.Chart(df).mark_bar().encode(\n",
    "    x='mean(temp_range):Q',\n",
    "    y='year(date):O'\n",
    ").transform_calculate(\n",
    "    temp_range=\"datum.temp_max - datum.temp_min\"\n",
    ")"
   ]
  },
  {
   "cell_type": "markdown",
   "id": "5cb9b516-dfe6-4c6a-92e6-454774f536b2",
   "metadata": {},
   "source": [
    "Note that this calculation doesn’t actually do any data manipulation in Python, but rather encodes and stores the operations within the plot specification, where they will be calculated by the renderer.\n",
    "\n",
    "Of course, the same calculation could be done by using Pandas manipulations to explicitly add a column to the dataframe; the disadvantage there is that the derived values would have to be stored in the plot specification rather than computed on-demand in the browser.\n",
    "\n",
    "Next we will explore the weather field, which encodes a categorical variable describing the weather on a given day. We might wish to know how different kinds of weather (e.g. sunny days or rainy days) are distributed throughout the year. To answer this, we can discretize the date by month and then count the number of records on the y-Axis. We then break down the bars by the weather type by mapping this column to a color channel. When a bar chart has a field mapped to color, Altair will automatically stack the bars atop each other:"
   ]
  },
  {
   "cell_type": "code",
   "execution_count": null,
   "id": "30a7bb82-5e1c-4884-962a-6589cc60e4f0",
   "metadata": {
    "tags": []
   },
   "outputs": [],
   "source": [
    "alt.Chart(df).mark_bar().encode(\n",
    "    x='month(date):N',\n",
    "    y='count()',\n",
    "    color='weather',\n",
    ")"
   ]
  },
  {
   "cell_type": "markdown",
   "id": "82c1627a-c270-416a-a777-141a2983415b",
   "metadata": {},
   "source": [
    "The default color palette’s semantics might not match our expectation. For example, we probably do not expect “sun” (sunny) to be purple. We can tune the chart by providing a color scale range that maps the values from the weather field to meaningful colors, using standard hex color codes:"
   ]
  },
  {
   "cell_type": "code",
   "execution_count": null,
   "id": "28e5a968-1324-47f4-b5de-6c674063c5b6",
   "metadata": {
    "tags": []
   },
   "outputs": [],
   "source": [
    "scale = alt.Scale(domain=['sun', 'fog', 'drizzle', 'rain', 'snow'],\n",
    "                  range=['#e7ba52', '#c7c7c7', '#aec7e8', '#1f77b4', '#9467bd'])"
   ]
  },
  {
   "cell_type": "markdown",
   "id": "3124e7cc-ade2-4fee-872f-8830be76d123",
   "metadata": {},
   "source": [
    "This scale can be passed to the color encoding to be applied to the plot style. In addition, we can customize the titles for the axis and legend to make the meaning of the plot more clear:"
   ]
  },
  {
   "cell_type": "code",
   "execution_count": null,
   "id": "ecc42692-ffec-4ef3-a5d9-d1c01b15520a",
   "metadata": {
    "tags": []
   },
   "outputs": [],
   "source": [
    "alt.Chart(df).mark_bar().encode(\n",
    "    x=alt.X('month(date):N').title('Month of the year'),\n",
    "    y='count()',\n",
    "    color=alt.Color('weather', legend=alt.Legend(title='Weather type'), scale=scale),\n",
    ")"
   ]
  },
  {
   "cell_type": "markdown",
   "id": "951a31a4-2d3e-4246-915b-e81caebeff5f",
   "metadata": {},
   "source": [
    "Combining the above ideas lets us create any number of flexible visualizations of this dataset. For example, here is a plot that uses the customizations we have developed above to explore the relationship between weather, precipitation, maximum temperature, and temperature range, configured to use a larger canvas and to allow interactive panning and zooming with the mouse:"
   ]
  },
  {
   "cell_type": "code",
   "execution_count": null,
   "id": "8c333477-1482-4b6c-b9dd-4484536baf65",
   "metadata": {
    "tags": []
   },
   "outputs": [],
   "source": [
    "alt.Chart(df).mark_point().encode(\n",
    "    alt.X('temp_max').title('Maximum Daily Temperature (C)'),\n",
    "    alt.Y('temp_range:Q').title('Daily Temperature Range (C)'),\n",
    "    alt.Color('weather').scale(scale),\n",
    "    alt.Size('precipitation').scale(range=[1, 200])\n",
    ").transform_calculate(\n",
    "    \"temp_range\", \"datum.temp_max - datum.temp_min\"\n",
    ").properties(\n",
    "    width=600,\n",
    "    height=400\n",
    ").interactive()"
   ]
  },
  {
   "cell_type": "markdown",
   "id": "53fb5f88-e44f-4051-b3da-c4f25ba34ebd",
   "metadata": {},
   "source": [
    "This gives us even more insight into the weather patterns in Seattle: rainy and foggy days tend to be cooler with a narrower range of temperatures, while warmer days tend to be dry and sunny, with a wider spread between low and high temperature.\n",
    "\n",
    "You can take this even further using Altair’s building blocks for multi-panel charts and interactions. For example, we might construct a histogram of days by weather type:"
   ]
  },
  {
   "cell_type": "code",
   "execution_count": null,
   "id": "bd6acb0b-b34f-4b6c-962d-9f642597a346",
   "metadata": {
    "tags": []
   },
   "outputs": [],
   "source": [
    "alt.Chart(df).mark_bar().encode(\n",
    "    x='count()',\n",
    "    y='weather:N',\n",
    "    color=alt.Color('weather:N').scale(scale),\n",
    ")"
   ]
  },
  {
   "cell_type": "markdown",
   "id": "ed39c407-cfa2-4390-9923-cdbaeaa2f2a9",
   "metadata": {},
   "source": [
    "And now we can vertically concatenate this histogram to the points plot above, and add a brush selection tool such that the histogram reflects the content of the selection (for more information on selections, see Interactive Charts):"
   ]
  },
  {
   "cell_type": "code",
   "execution_count": null,
   "id": "2ef44f9e-e538-43fd-970a-136208d5d2ee",
   "metadata": {
    "tags": []
   },
   "outputs": [],
   "source": [
    "brush = alt.selection_interval()\n",
    "\n",
    "points = alt.Chart().mark_point().encode(\n",
    "    alt.X('temp_max:Q').title('Maximum Daily Temperature (C)'),\n",
    "    alt.Y('temp_range:Q').title('Daily Temperature Range (C)'),\n",
    "    color=alt.condition(brush, 'weather:N', alt.value('lightgray'), scale=scale),\n",
    "    size=alt.Size('precipitation:Q').scale(range=[1, 200])\n",
    ").transform_calculate(\n",
    "    \"temp_range\", \"datum.temp_max - datum.temp_min\"\n",
    ").properties(\n",
    "    width=600,\n",
    "    height=400\n",
    ").add_params(\n",
    "    brush\n",
    ")\n",
    "\n",
    "bars = alt.Chart().mark_bar().encode(\n",
    "    x='count()',\n",
    "    y='weather:N',\n",
    "    color=alt.Color('weather:N').scale(scale),\n",
    ").transform_calculate(\n",
    "    \"temp_range\", \"datum.temp_max - datum.temp_min\"\n",
    ").transform_filter(\n",
    "    brush\n",
    ").properties(\n",
    "    width=600\n",
    ")\n",
    "\n",
    "alt.vconcat(points, bars, data=df)"
   ]
  },
  {
   "cell_type": "markdown",
   "id": "6d0c60bf-8cdf-4793-a57d-992e1ad51581",
   "metadata": {},
   "source": [
    "This chart, containing concatenations, data transformations, selections, and customized axes labels and data scales, shows the power of the grammar behind Altair: you can create a complex chart from a small number of building blocks.\n",
    "\n",
    "This is the end of this tutorial where you have seen various ways to bin and aggregate data, derive new fields, and customize your charts. You can find more visualizations in the Example Gallery. If you want to further customize your charts, you can refer to Altair’s API Reference."
   ]
  },
  {
   "cell_type": "code",
   "execution_count": null,
   "id": "a638a3b3-6eba-4e71-9b27-042c981d9b7c",
   "metadata": {},
   "outputs": [],
   "source": []
  }
 ],
 "metadata": {
  "kernelspec": {
   "display_name": "Python 3 (ipykernel)",
   "language": "python",
   "name": "python3"
  },
  "language_info": {
   "codemirror_mode": {
    "name": "ipython",
    "version": 3
   },
   "file_extension": ".py",
   "mimetype": "text/x-python",
   "name": "python",
   "nbconvert_exporter": "python",
   "pygments_lexer": "ipython3",
   "version": "3.11.4"
  }
 },
 "nbformat": 4,
 "nbformat_minor": 5
}
