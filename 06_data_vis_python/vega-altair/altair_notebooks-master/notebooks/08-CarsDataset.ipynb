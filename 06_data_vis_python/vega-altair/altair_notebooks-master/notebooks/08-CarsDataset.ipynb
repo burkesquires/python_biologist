{
 "cells": [
  {
   "cell_type": "markdown",
   "metadata": {},
   "source": [
    "# Exploratory Visualization of the Cars Dataset"
   ]
  },
  {
   "cell_type": "markdown",
   "metadata": {},
   "source": [
    "## Imports"
   ]
  },
  {
   "cell_type": "code",
   "execution_count": null,
   "metadata": {},
   "outputs": [],
   "source": [
    "import pandas as pd\n",
    "import altair as alt"
   ]
  },
  {
   "cell_type": "markdown",
   "metadata": {},
   "source": [
    "## Load the dataset"
   ]
  },
  {
   "cell_type": "code",
   "execution_count": null,
   "metadata": {},
   "outputs": [],
   "source": [
    "from vega_datasets import data\n",
    "cars = data.cars()"
   ]
  },
  {
   "cell_type": "code",
   "execution_count": null,
   "metadata": {},
   "outputs": [],
   "source": [
    "cars.head()"
   ]
  },
  {
   "cell_type": "markdown",
   "metadata": {},
   "source": [
    "## Exploration"
   ]
  },
  {
   "cell_type": "markdown",
   "metadata": {},
   "source": [
    "First, let's explore what makes a car perform well. In this case, the `Acceleration` column will be used as proxy for performance. First, let's look at how acceleration is related to weight and the number of cylinders:"
   ]
  },
  {
   "cell_type": "code",
   "execution_count": null,
   "metadata": {},
   "outputs": [],
   "source": [
    "alt.Chart(cars).mark_point().encode(\n",
    "    x='Weight_in_lbs',\n",
    "    y='Acceleration',\n",
    "    color='Cylinders:N'\n",
    ")"
   ]
  },
  {
   "cell_type": "markdown",
   "metadata": {},
   "source": [
    "Here we see that lighter cars tends to have higher acceleration. This make sense from Newton's law which says that $a=F/m$.\n",
    "\n",
    "Now look at the relationship between acceleration and displacement:"
   ]
  },
  {
   "cell_type": "code",
   "execution_count": null,
   "metadata": {},
   "outputs": [],
   "source": [
    "alt.Chart(cars).mark_point().encode(\n",
    "    x='Displacement',\n",
    "    y='Acceleration',\n",
    ")"
   ]
  },
  {
   "cell_type": "markdown",
   "metadata": {},
   "source": [
    "This is a little surprising as you would expect larger displacement to be related to larger engines that have more horsepower, which would give rise to greater acceleration. Instead, larger engines have smaller acceleration. To understand what is going on, let's start to include both the horsepower and the geographical region in the visualization:"
   ]
  },
  {
   "cell_type": "code",
   "execution_count": null,
   "metadata": {},
   "outputs": [],
   "source": [
    "alt.Chart(cars).mark_point().encode(\n",
    "    x='Displacement',\n",
    "    y='Weight_in_lbs',\n",
    "    color='Horsepower',\n",
    "    row='Origin'\n",
    ").properties(\n",
    "    width=400, height=150\n",
    ")"
   ]
  },
  {
   "cell_type": "markdown",
   "metadata": {},
   "source": [
    "This shows a lot:\n",
    "\n",
    "1. The larger displayment engines that have more horsepower are from the United States.\n",
    "2. The cars from Japan and Europe have smaller displacement/horsepower engine and are lighter.\n",
    "3. It is exactly the large horsepower cars from the United States that are heavier. Thus, even though they have more horsepower, their excess weight causes them to be slower than their smaller horsepower peers.\n",
    "\n",
    "Thus, it appears that one of the main trends in this dataset is the difference in cars between geographic regions. Let's see if this also holds true in the cylinders of the engines by looking at a normalized stacked bar chart:"
   ]
  },
  {
   "cell_type": "code",
   "execution_count": null,
   "metadata": {},
   "outputs": [],
   "source": [
    "alt.Chart(cars).mark_bar().encode(\n",
    "    alt.Y('Origin'),\n",
    "    alt.X('*:Q', aggregate='count', sort='descending', stack='normalize'),\n",
    "    alt.Color('Cylinders:N')\n",
    ")"
   ]
  },
  {
   "cell_type": "markdown",
   "metadata": {},
   "source": [
    "This is pretty amazing; over 70% of the cars from the United States have 6 and 8 cylinder engines, while in Europe and Japan, no cars have 8 cylinders and less than 10% have 6! Obviously, this should have a huge effect on the fuel efficiency of the cars. Here is a histogram of the MPG grouped by the geographic region:"
   ]
  },
  {
   "cell_type": "code",
   "execution_count": null,
   "metadata": {},
   "outputs": [],
   "source": [
    "alt.Chart(cars).mark_bar().encode(\n",
    "    alt.X('Miles_per_Gallon', bin=alt.Bin(maxbins=20)),\n",
    "    alt.Y('count(*):Q'),\n",
    "    alt.Color('Origin')\n",
    ").properties(\n",
    "    height=150\n",
    ")"
   ]
  },
  {
   "cell_type": "markdown",
   "metadata": {},
   "source": [
    "Here is some of this information as a table, with the text/color of the cell encoding the number of entries for that row and column:"
   ]
  },
  {
   "cell_type": "code",
   "execution_count": null,
   "metadata": {},
   "outputs": [],
   "source": [
    "base = alt.Chart().encode(\n",
    "    x='Cylinders:O',\n",
    "    y='Origin:O',\n",
    "    opacity=alt.value(0.5)\n",
    ").properties(\n",
    "    width=400,\n",
    "    height=80\n",
    ")\n",
    "\n",
    "background = base.mark_rect().encode(\n",
    "    color='count(*):Q'\n",
    ")\n",
    "\n",
    "alt.layer(\n",
    "    base.mark_rect().encode(color='count(*):Q'),\n",
    "    base.mark_text().encode(text='count(*):Q'),\n",
    "    data=cars\n",
    ").configure_scale(\n",
    "    bandPaddingInner=0,\n",
    "    bandPaddingOuter=0\n",
    ").configure_text(\n",
    "    baseline='middle'\n",
    ")"
   ]
  },
  {
   "cell_type": "markdown",
   "metadata": {},
   "source": [
    "Finally, let's look at how the average MPG by origin is trending over time:"
   ]
  },
  {
   "cell_type": "code",
   "execution_count": null,
   "metadata": {},
   "outputs": [],
   "source": [
    "alt.Chart(cars).mark_line().encode(\n",
    "    alt.X('Year:T', timeUnit='year'),\n",
    "    alt.Y('Miles_per_Gallon:Q', aggregate='mean'),\n",
    "    alt.Color('Origin:N')\n",
    ").properties(\n",
    "    height=150\n",
    ")"
   ]
  },
  {
   "cell_type": "markdown",
   "metadata": {},
   "source": [
    "The USA might be consistently behind Europe and Japan, but at least there was a steady increase in fuel efficiency over time."
   ]
  }
 ],
 "metadata": {
  "anaconda-cloud": {},
  "kernelspec": {
   "display_name": "Python 3",
   "language": "python",
   "name": "python3"
  },
  "language_info": {
   "codemirror_mode": {
    "name": "ipython",
    "version": 3
   },
   "file_extension": ".py",
   "mimetype": "text/x-python",
   "name": "python",
   "nbconvert_exporter": "python",
   "pygments_lexer": "ipython3",
   "version": "3.7.6"
  }
 },
 "nbformat": 4,
 "nbformat_minor": 4
}
