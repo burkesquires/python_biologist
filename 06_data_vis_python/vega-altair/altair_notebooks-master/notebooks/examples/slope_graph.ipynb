{
 "cells": [
  {
   "cell_type": "markdown",
   "metadata": {},
   "source": [
    "Slope Graph\n",
    "-----------------------\n",
    "This example shows how to make Slope Graph.\n"
   ]
  },
  {
   "cell_type": "code",
   "execution_count": null,
   "metadata": {},
   "outputs": [],
   "source": [
    "\n",
    "import altair as alt\n",
    "alt.data_transformers.enable('json')\n",
    "from vega_datasets import data\n",
    "\n",
    "source = data.barley()\n",
    "\n",
    "# The year here is stored by pandas as an integer. When treating columns as dates,\n",
    "# it is best to use either a string representation or a datetime representation.\n",
    "source.year = source.year.astype(str)\n",
    "\n",
    "alt.Chart(source).mark_line().encode(\n",
    "    x='year',\n",
    "    y='median(yield)',\n",
    "    color='site'\n",
    ")\n"
   ]
  }
 ],
 "metadata": {
  "kernelspec": {
   "display_name": "Python 3",
   "env": {},
   "interrupt_mode": "signal",
   "language": "python",
   "metadata": {},
   "name": "python3"
  },
  "language": "python"
 },
 "nbformat": 4,
 "nbformat_minor": 2
}
