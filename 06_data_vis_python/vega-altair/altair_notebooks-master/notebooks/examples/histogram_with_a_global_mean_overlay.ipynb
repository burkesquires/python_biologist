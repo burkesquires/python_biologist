{
 "cells": [
  {
   "cell_type": "markdown",
   "metadata": {},
   "source": [
    "Histogram with a Global Mean Overlay\n",
    "------------------------------------\n",
    "This example shows a histogram with a global mean overlay.\n"
   ]
  },
  {
   "cell_type": "code",
   "execution_count": null,
   "metadata": {},
   "outputs": [],
   "source": [
    "\n",
    "import altair as alt\n",
    "alt.data_transformers.enable('json')\n",
    "from vega_datasets import data\n",
    "\n",
    "source = data.movies.url\n",
    "\n",
    "bar = alt.Chart(source).mark_bar().encode(\n",
    "    alt.X('IMDB_Rating:Q', bin=True, axis=None),\n",
    "    alt.Y('count()')\n",
    ")\n",
    "\n",
    "rule = alt.Chart(source).mark_rule(color='red').encode(\n",
    "    x='mean(IMDB_Rating):Q',\n",
    "    size=alt.value(5)\n",
    ")\n",
    "\n",
    "bar + rule\n"
   ]
  }
 ],
 "metadata": {
  "kernelspec": {
   "display_name": "Python 3",
   "env": {},
   "interrupt_mode": "signal",
   "language": "python",
   "metadata": {},
   "name": "python3"
  },
  "language": "python"
 },
 "nbformat": 4,
 "nbformat_minor": 2
}
