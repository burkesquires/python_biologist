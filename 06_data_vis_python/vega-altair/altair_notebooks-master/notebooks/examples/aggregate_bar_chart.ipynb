{
 "cells": [
  {
   "cell_type": "markdown",
   "metadata": {},
   "source": [
    "Horizontal Aggregate Bar Chart\n",
    "------------------------------\n",
    "This example is a bar chart showing the distribution of US population\n",
    "by age in the year 2000.\n"
   ]
  },
  {
   "cell_type": "code",
   "execution_count": null,
   "metadata": {},
   "outputs": [],
   "source": [
    "\n",
    "import altair as alt\n",
    "alt.data_transformers.enable('json')\n",
    "from altair.expr import datum\n",
    "\n",
    "from vega_datasets import data\n",
    "pop = data.population.url\n",
    "\n",
    "alt.Chart(pop).mark_bar().encode(\n",
    "    x=alt.X('sum(people):Q', axis=alt.Axis(title='population')),\n",
    "    y='age:O'\n",
    ").properties(\n",
    "    height=300,\n",
    "    width=300\n",
    ").transform_filter(\n",
    "    datum.year == 2000\n",
    ")\n"
   ]
  }
 ],
 "metadata": {
  "kernelspec": {
   "display_name": "Python 3",
   "env": {},
   "interrupt_mode": "signal",
   "language": "python",
   "metadata": {},
   "name": "python3"
  },
  "language": "python"
 },
 "nbformat": 4,
 "nbformat_minor": 2
}
