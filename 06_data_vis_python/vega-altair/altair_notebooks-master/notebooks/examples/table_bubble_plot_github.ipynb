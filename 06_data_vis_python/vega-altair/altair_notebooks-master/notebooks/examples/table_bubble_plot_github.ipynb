{
 "cells": [
  {
   "cell_type": "markdown",
   "metadata": {},
   "source": [
    "Table Bubble Plot (Github Punch Card)\n",
    "-------------------------------------\n",
    "This example shows github contributions by the day of week and hour of the day.\n"
   ]
  },
  {
   "cell_type": "code",
   "execution_count": null,
   "metadata": {},
   "outputs": [],
   "source": [
    "# category: basic charts\n",
    "\n",
    "import altair as alt\n",
    "alt.data_transformers.enable('json')\n",
    "from vega_datasets import data\n",
    "\n",
    "source = data.github.url\n",
    "\n",
    "alt.Chart(source).mark_circle().encode(\n",
    "    alt.X('time:O', timeUnit='hours'),\n",
    "    alt.Y('time:O', timeUnit='day'),\n",
    "    size='sum(count):Q'\n",
    ")\n"
   ]
  }
 ],
 "metadata": {
  "kernelspec": {
   "display_name": "Python 3",
   "env": {},
   "interrupt_mode": "signal",
   "language": "python",
   "metadata": {},
   "name": "python3"
  },
  "language": "python"
 },
 "nbformat": 4,
 "nbformat_minor": 2
}
