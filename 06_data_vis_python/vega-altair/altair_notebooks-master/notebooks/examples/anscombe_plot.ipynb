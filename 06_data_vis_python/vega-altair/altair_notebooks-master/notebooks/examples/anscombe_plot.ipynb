{
 "cells": [
  {
   "cell_type": "markdown",
   "metadata": {},
   "source": [
    "Anscombe's Quartet\n",
    "------------------\n",
    "\n",
    "This example shows how to use the column channel to make a trellis plot. Anscombe's Quartet is a famous dataset constructed by Francis Anscombe. Common summary statistics are identical for each subset of the data, despite the subsets having vastly different characteristics.\n"
   ]
  },
  {
   "cell_type": "code",
   "execution_count": null,
   "metadata": {},
   "outputs": [],
   "source": [
    "\n",
    "import altair as alt\n",
    "alt.data_transformers.enable('json')\n",
    "from vega_datasets import data\n",
    "\n",
    "anscombe = data.anscombe()\n",
    "\n",
    "alt.Chart(anscombe).mark_circle().encode(\n",
    "    alt.X('X', scale=alt.Scale(zero=False)),\n",
    "    alt.Y('Y', scale=alt.Scale(zero=False)),\n",
    "    column='Series'\n",
    ").properties(\n",
    "    width=150,\n",
    "    height=150\n",
    ")\n"
   ]
  }
 ],
 "metadata": {
  "kernelspec": {
   "display_name": "Python 3",
   "env": {},
   "interrupt_mode": "signal",
   "language": "python",
   "metadata": {},
   "name": "python3"
  },
  "language": "python"
 },
 "nbformat": 4,
 "nbformat_minor": 2
}
