{
 "cells": [
  {
   "cell_type": "markdown",
   "metadata": {},
   "source": [
    "Gantt Chart\n",
    "-----------------\n",
    "This example shows how to make a simple Gantt chart.\n"
   ]
  },
  {
   "cell_type": "code",
   "execution_count": null,
   "metadata": {},
   "outputs": [],
   "source": [
    "# category: basic charts\n",
    "\n",
    "import altair as alt\n",
    "alt.data_transformers.enable('json')\n",
    "import pandas as pd\n",
    "\n",
    "data = pd.DataFrame([\n",
    "    {\"task\": \"A\", \"start\": 1, \"end\": 3},\n",
    "    {\"task\": \"B\", \"start\": 3, \"end\": 8},\n",
    "    {\"task\": \"C\", \"start\": 8, \"end\": 10}\n",
    "])\n",
    "\n",
    "alt.Chart(data).mark_bar().encode(\n",
    "    x='start',\n",
    "    x2='end',\n",
    "    y='task'\n",
    ")\n"
   ]
  }
 ],
 "metadata": {
  "kernelspec": {
   "display_name": "Python 3",
   "env": {},
   "interrupt_mode": "signal",
   "language": "python",
   "metadata": {},
   "name": "python3"
  },
  "language": "python"
 },
 "nbformat": 4,
 "nbformat_minor": 2
}
