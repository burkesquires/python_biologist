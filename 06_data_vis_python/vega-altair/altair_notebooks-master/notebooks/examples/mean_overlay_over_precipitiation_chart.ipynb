{
 "cells": [
  {
   "cell_type": "markdown",
   "metadata": {},
   "source": [
    "Layered Bar Chart with Line as Mean\n",
    "-----------------------------------\n",
    "This example shows mean overlay over precipitation chart.\n"
   ]
  },
  {
   "cell_type": "code",
   "execution_count": null,
   "metadata": {},
   "outputs": [],
   "source": [
    "\n",
    "import altair as alt\n",
    "alt.data_transformers.enable('json')\n",
    "from vega_datasets import data\n",
    "\n",
    "source = data.seattle_weather()\n",
    "\n",
    "bar = alt.Chart(source).mark_bar().encode(\n",
    "    alt.X('date:O', timeUnit='month'),\n",
    "    alt.Y('mean(precipitation):Q')\n",
    ")\n",
    "\n",
    "rule = alt.Chart(source).mark_rule(color='red').encode(\n",
    "    y='mean(precipitation)',\n",
    "    size=alt.value(3)\n",
    ")\n",
    "\n",
    "bar + rule\n"
   ]
  }
 ],
 "metadata": {
  "kernelspec": {
   "display_name": "Python 3",
   "env": {},
   "interrupt_mode": "signal",
   "language": "python",
   "metadata": {},
   "name": "python3"
  },
  "language": "python"
 },
 "nbformat": 4,
 "nbformat_minor": 2
}
