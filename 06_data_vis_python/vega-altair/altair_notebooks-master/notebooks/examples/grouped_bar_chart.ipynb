{
 "cells": [
  {
   "cell_type": "markdown",
   "metadata": {},
   "source": [
    "Grouped Bar Chart\n",
    "-----------------------\n",
    "This example shows a population broken out by gender and age for a specific year.\n",
    "The grouping is achieved by building a trellis plot with narrow column\n",
    "encoded on the age groups and x-axes encoded on gender.\n"
   ]
  },
  {
   "cell_type": "code",
   "execution_count": null,
   "metadata": {},
   "outputs": [],
   "source": [
    "\n",
    "import altair as alt\n",
    "alt.data_transformers.enable('json')\n",
    "from altair.expr import datum, if_\n",
    "from vega_datasets import data\n",
    "\n",
    "source = data.population.url\n",
    "\n",
    "alt.Chart(source).mark_bar(stroke='transparent').encode(\n",
    "    alt.X('gender:N', scale=alt.Scale(rangeStep=12), axis=alt.Axis(title='')),\n",
    "    alt.Y('sum(people):Q', axis=alt.Axis(title='population', grid=False)),\n",
    "    color=alt.Color('gender:N', scale=alt.Scale(range=[\"#EA98D2\", \"#659CCA\"])),\n",
    "    column='age:O'\n",
    ").configure_view(\n",
    "    stroke='transparent'\n",
    ").configure_axis(\n",
    "    domainWidth=0.8\n",
    ").transform_filter(\n",
    "    datum.year == 2000\n",
    ").transform_calculate(\n",
    "    'gender', if_(datum.sex == 2, 'Female', 'Male')\n",
    ")\n"
   ]
  }
 ],
 "metadata": {
  "kernelspec": {
   "display_name": "Python 3",
   "env": {},
   "interrupt_mode": "signal",
   "language": "python",
   "metadata": {},
   "name": "python3"
  },
  "language": "python"
 },
 "nbformat": 4,
 "nbformat_minor": 2
}
