{
 "cells": [
  {
   "cell_type": "markdown",
   "metadata": {},
   "source": [
    "Line Chart with Percent axis\n",
    "----------------------------\n",
    "This example shows how to format the tick labels of the\n",
    "y-axis of a chart as percentages.\n"
   ]
  },
  {
   "cell_type": "code",
   "execution_count": null,
   "metadata": {},
   "outputs": [],
   "source": [
    "\n",
    "import altair as alt\n",
    "alt.data_transformers.enable('json')\n",
    "from altair.expr import datum\n",
    "from vega_datasets import data\n",
    "\n",
    "source = data.jobs.url\n",
    "\n",
    "alt.Chart(source).mark_line().encode(\n",
    "    alt.X('year:O'),\n",
    "    alt.Y('perc:Q', axis=alt.Axis(format='%')),\n",
    "    color='sex:N'\n",
    ").properties(\n",
    "    title='Percent of work-force working as Welders'\n",
    ").transform_filter(\n",
    "    datum.job == 'Welder'\n",
    ")\n"
   ]
  }
 ],
 "metadata": {
  "kernelspec": {
   "display_name": "Python 3",
   "env": {},
   "interrupt_mode": "signal",
   "language": "python",
   "metadata": {},
   "name": "python3"
  },
  "language": "python"
 },
 "nbformat": 4,
 "nbformat_minor": 2
}
