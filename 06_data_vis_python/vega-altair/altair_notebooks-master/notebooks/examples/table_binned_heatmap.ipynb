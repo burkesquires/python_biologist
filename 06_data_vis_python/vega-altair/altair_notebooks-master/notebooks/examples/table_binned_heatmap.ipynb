{
 "cells": [
  {
   "cell_type": "markdown",
   "metadata": {},
   "source": [
    "Table Binned Heatmap\n",
    "-----------------------\n",
    "This example shows how to make a heatmap.\n"
   ]
  },
  {
   "cell_type": "code",
   "execution_count": null,
   "metadata": {},
   "outputs": [],
   "source": [
    "# category: basic charts\n",
    "\n",
    "import altair as alt\n",
    "alt.data_transformers.enable('json')\n",
    "from vega_datasets import data\n",
    "\n",
    "source = data.movies.url\n",
    "\n",
    "alt.Chart(source).mark_rect().encode(\n",
    "    alt.X('IMDB_Rating:Q', bin=alt.Bin(maxbins=60)),\n",
    "    alt.Y('Rotten_Tomatoes_Rating:Q', bin=alt.Bin(maxbins=40)),\n",
    "    alt.Color('count(IMDB_Rating):Q', scale=alt.Scale(scheme='greenblue'))\n",
    ")\n"
   ]
  }
 ],
 "metadata": {
  "kernelspec": {
   "display_name": "Python 3",
   "env": {},
   "interrupt_mode": "signal",
   "language": "python",
   "metadata": {},
   "name": "python3"
  },
  "language": "python"
 },
 "nbformat": 4,
 "nbformat_minor": 2
}
