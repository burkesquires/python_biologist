{
 "cells": [
  {
   "cell_type": "markdown",
   "metadata": {},
   "source": [
    "Histogram\n",
    "-----------------\n",
    "This example shows how to make a basic histogram, based on the vega-lite docs\n",
    "https://vega.github.io/vega-lite/examples/histogram.html\n"
   ]
  },
  {
   "cell_type": "code",
   "execution_count": null,
   "metadata": {},
   "outputs": [],
   "source": [
    "# category: basic charts\n",
    "\n",
    "import altair as alt\n",
    "alt.data_transformers.enable('json')\n",
    "from vega_datasets import data\n",
    "\n",
    "movies = data.movies.url\n",
    "\n",
    "alt.Chart(movies).mark_bar().encode(\n",
    "    alt.X(\"IMDB_Rating:Q\", bin=True),\n",
    "    y='count()',\n",
    ")\n"
   ]
  }
 ],
 "metadata": {
  "kernelspec": {
   "display_name": "Python 3",
   "env": {},
   "interrupt_mode": "signal",
   "language": "python",
   "metadata": {},
   "name": "python3"
  },
  "language": "python"
 },
 "nbformat": 4,
 "nbformat_minor": 2
}
