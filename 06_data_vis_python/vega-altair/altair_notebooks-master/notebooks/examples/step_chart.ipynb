{
 "cells": [
  {
   "cell_type": "markdown",
   "metadata": {},
   "source": [
    "Step Chart\n",
    "----------\n",
    "This example shows Google's stock price over time.\n",
    "This uses the \"step-after\" interpolation scheme.\n",
    "The full list of interpolation options includes 'linear',\n",
    "'linear-closed', 'step', 'step-before', 'step-after', 'basis',\n",
    "'basis-open', 'basis-closed', 'cardinal', 'cardinal-open',\n",
    "'cardinal-closed', 'bundle', and 'monotone'.\n"
   ]
  },
  {
   "cell_type": "code",
   "execution_count": null,
   "metadata": {},
   "outputs": [],
   "source": [
    "# category: basic charts\n",
    "\n",
    "import altair as alt\n",
    "alt.data_transformers.enable('json')\n",
    "from altair.expr import datum\n",
    "from vega_datasets import data\n",
    "\n",
    "stocks = data.stocks()\n",
    "\n",
    "alt.Chart(stocks).mark_line(interpolate='step-after').encode(\n",
    "    x='date',\n",
    "    y='price'\n",
    ").transform_filter(\n",
    "    datum.symbol == 'GOOG'\n",
    ")\n"
   ]
  }
 ],
 "metadata": {
  "kernelspec": {
   "display_name": "Python 3",
   "env": {},
   "interrupt_mode": "signal",
   "language": "python",
   "metadata": {},
   "name": "python3"
  },
  "language": "python"
 },
 "nbformat": 4,
 "nbformat_minor": 2
}
