{
 "cells": [
  {
   "cell_type": "markdown",
   "metadata": {},
   "source": [
    "# Altair: Statistical Visualization for Python"
   ]
  },
  {
   "cell_type": "markdown",
   "metadata": {},
   "source": [
    "[Altair](http://github.com/altair-viz/altair/) provides a declarative Python API for statistical visualization, built on top of [Vega-Lite](http://vega.github.io/vega-lite/).\n",
    "\n",
    "The notebooks listed here provide a set of tutorials and examples of Altair's use. For more complete documentation, see [Altair's Documentation](http://altair-viz.github.io/).\n",
    "\n",
    "Please note that these notebooks assume Altair version 2.0 or later:"
   ]
  },
  {
   "cell_type": "code",
   "execution_count": null,
   "metadata": {},
   "outputs": [],
   "source": [
    "import altair\n",
    "altair.__version__"
   ]
  },
  {
   "cell_type": "markdown",
   "metadata": {},
   "source": [
    "## About Altair\n",
    "\n",
    "Altair is built on [Vega-Lite](http://vega.github.io/vega-lite/). From the Vega-lite documentation:\n",
    "\n",
    "> Vega-Lite specifications describe visualizations as mappings from data to properties of graphical marks (e.g., points or bars). It automatically produces visualization components including axes, legends, and scales. It then determines properties of these components based on a set of carefully designed rules. This approach allows Vega-Lite specifications to be succinct and expressive, but also provide user control. As Vega-Lite is designed for analysis, it supports data transformations such as aggregation, binning, filtering, sorting, and visual transformations including stacking and faceting.\n",
    "\n",
    "The key feature of this declarative approach is that the user is free to think about the data, rather than the mechanics of the visualization. Vega-Lite specifications are expressed in JavaScript Object Notation (JSON), a cross-platform format often used for storage of nested and/or hierarchical data. Altair builds a Python layer on top of this, so that rather than writing raw JSON strings the user can write declarative Python code."
   ]
  },
  {
   "cell_type": "markdown",
   "metadata": {},
   "source": [
    "## Quick Altair example"
   ]
  },
  {
   "cell_type": "markdown",
   "metadata": {},
   "source": [
    "Here is a quick example of the Altair API in action:"
   ]
  },
  {
   "cell_type": "code",
   "execution_count": null,
   "metadata": {},
   "outputs": [],
   "source": [
    "import altair as alt\n",
    "from vega_datasets import data\n",
    "\n",
    "cars = data.cars()\n",
    "\n",
    "chart = alt.Chart(cars).mark_circle().encode(\n",
    "    x='Horsepower',\n",
    "    y='Miles_per_Gallon',\n",
    "    color='Origin',\n",
    ")\n",
    "\n",
    "chart"
   ]
  },
  {
   "cell_type": "markdown",
   "metadata": {},
   "source": [
    "In most cases, the data passed to the ``Chart`` will be a standard Pandas dataframe, as we can see here:"
   ]
  },
  {
   "cell_type": "code",
   "execution_count": null,
   "metadata": {},
   "outputs": [],
   "source": [
    "cars.head()"
   ]
  },
  {
   "cell_type": "markdown",
   "metadata": {},
   "source": [
    "Under the hood, Altair interprets the input and constructs a Python dictionary of the vega-lite specification (removing the data for clarity):"
   ]
  },
  {
   "cell_type": "code",
   "execution_count": null,
   "metadata": {},
   "outputs": [],
   "source": [
    "dct = chart.to_dict()\n",
    "dct.pop('datasets')  # leave out dataset for clarity\n",
    "dct"
   ]
  },
  {
   "cell_type": "markdown",
   "metadata": {},
   "source": [
    "When converted to JSON, this spec is exactly in the form expected by Vega-Lite."
   ]
  },
  {
   "cell_type": "markdown",
   "metadata": {},
   "source": [
    "## Comparison to Matplotlib"
   ]
  },
  {
   "cell_type": "markdown",
   "metadata": {},
   "source": [
    "To clarify the declarative nature of Altair, we perform the same visualization with [Matplotlib](http://matplotlib.org/):"
   ]
  },
  {
   "cell_type": "code",
   "execution_count": null,
   "metadata": {},
   "outputs": [],
   "source": [
    "%matplotlib inline\n",
    "import matplotlib.pyplot as plt"
   ]
  },
  {
   "cell_type": "code",
   "execution_count": null,
   "metadata": {},
   "outputs": [],
   "source": [
    "for origin, group in cars.groupby('Origin'):\n",
    "    plt.plot(group['Horsepower'], group['Miles_per_Gallon'],\n",
    "             'o', label=origin)\n",
    "plt.legend(title='Origin')\n",
    "plt.xlabel('Horsepower')\n",
    "plt.ylabel('Miles_per_Gallon');\n",
    "plt.grid(True)"
   ]
  },
  {
   "cell_type": "markdown",
   "metadata": {},
   "source": [
    "With matplotlib, the user has to manually perform a group-by operation and label the axes and legend.\n",
    "By contrast, with Altair's declarative approach, the user only has to specify *what* should happen, not *how*."
   ]
  },
  {
   "cell_type": "markdown",
   "metadata": {},
   "source": [
    "## Documentation\n",
    "\n",
    "You can learn more about Altair at its documentation site:\n",
    "\n",
    "- [Altair Documentation](http://altair-viz.github.io)\n",
    "\n",
    "Additionally, it can be useful when using Altair to understand the Vega-Lite library that underlies it. Vega-Lite's documentation can be found here:\n",
    "\n",
    "- [Vega-Lite Documentation](https://vega.github.io/vega-lite/docs/)"
   ]
  },
  {
   "cell_type": "markdown",
   "metadata": {},
   "source": [
    "## Index of Notebooks\n",
    "\n",
    "This repository contains a number of notebooks that provide a tutorial and examples of Altair's usage:\n",
    "\n",
    "- [Tutorial](02-Tutorial.ipynb)\n",
    "- [Scatter Charts](03-ScatterCharts.ipynb)\n",
    "- [Bar Charts](04-BarCharts.ipynb)\n",
    "- [Line Charts](05-LineCharts.ipynb)\n",
    "- [Area Charts](06-AreaCharts.ipynb)\n",
    "- [Layered Charts](07-LayeredCharts.ipynb)\n",
    "- [Cars Dataset](08-CarsDataset.ipynb)\n",
    "- [Example: Measles Data](09-Measles.ipynb)\n",
    "\n",
    "If you are browsing these notebooks on Github or nbviewer, a live version of these notebooks is available by clicking on the following badge:\n",
    "\n",
    "[![Binder](https://mybinder.org/badge_logo.svg)](https://mybinder.org/v2/gh/altair-viz/altair_notebooks/master?urlpath=lab/tree/notebooks/Index.ipynb)\n",
    "\n",
    "In addition, you can see a number of Altair example plots in [Altair's example gallery](https://altair-viz.github.io/gallery/)."
   ]
  }
 ],
 "metadata": {
  "anaconda-cloud": {},
  "kernelspec": {
   "display_name": "Python 3",
   "language": "python",
   "name": "python3"
  },
  "language_info": {
   "codemirror_mode": {
    "name": "ipython",
    "version": 3
   },
   "file_extension": ".py",
   "mimetype": "text/x-python",
   "name": "python",
   "nbconvert_exporter": "python",
   "pygments_lexer": "ipython3",
   "version": "3.7.6"
  },
  "nav_menu": {},
  "toc": {
   "navigate_menu": true,
   "number_sections": true,
   "sideBar": true,
   "threshold": "1",
   "toc_cell": false,
   "toc_section_display": "block",
   "toc_window_display": false
  }
 },
 "nbformat": 4,
 "nbformat_minor": 4
}
