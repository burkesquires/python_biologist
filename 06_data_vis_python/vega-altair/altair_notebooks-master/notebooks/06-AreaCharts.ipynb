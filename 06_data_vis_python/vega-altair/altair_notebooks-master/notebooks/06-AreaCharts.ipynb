{
 "cells": [
  {
   "cell_type": "markdown",
   "metadata": {},
   "source": [
    "# Area Charts"
   ]
  },
  {
   "cell_type": "code",
   "execution_count": null,
   "metadata": {},
   "outputs": [],
   "source": [
    "import altair as alt"
   ]
  },
  {
   "cell_type": "code",
   "execution_count": null,
   "metadata": {},
   "outputs": [],
   "source": [
    "from vega_datasets import data\n",
    "unemp = data.unemployment_across_industries()"
   ]
  },
  {
   "cell_type": "markdown",
   "metadata": {},
   "source": [
    "## Simple area chart"
   ]
  },
  {
   "cell_type": "code",
   "execution_count": null,
   "metadata": {},
   "outputs": [],
   "source": [
    "alt.Chart(unemp).mark_area().encode(\n",
    "    alt.X('date:T', axis=alt.Axis(format='%Y', labelAngle=0)),\n",
    "    y='sum(count):Q'\n",
    ")"
   ]
  },
  {
   "cell_type": "markdown",
   "metadata": {},
   "source": [
    "## Stacked area chart"
   ]
  },
  {
   "cell_type": "code",
   "execution_count": null,
   "metadata": {},
   "outputs": [],
   "source": [
    "alt.Chart(unemp).mark_area().encode(\n",
    "    alt.X('date:T',\n",
    "        timeUnit='yearmonth',\n",
    "        axis=alt.Axis(format='%Y', labelAngle=0, title='year')\n",
    "    ),\n",
    "    alt.Y('sum(count):Q'),\n",
    "    alt.Color('series:N',\n",
    "        scale=alt.Scale(scheme=\"category20b\")\n",
    "    )\n",
    ")"
   ]
  },
  {
   "cell_type": "markdown",
   "metadata": {},
   "source": [
    "## Normalized area chart"
   ]
  },
  {
   "cell_type": "code",
   "execution_count": null,
   "metadata": {},
   "outputs": [],
   "source": [
    "alt.Chart(unemp).mark_area().encode(\n",
    "    alt.X('date:T',\n",
    "        timeUnit='yearmonth',\n",
    "        axis=alt.Axis(format='%Y', labelAngle=0, title='year')\n",
    "    ),\n",
    "    alt.Y('sum(count)',\n",
    "        stack='normalize'\n",
    "    ),\n",
    "    alt.Color('series:N',\n",
    "        scale=alt.Scale(scheme=\"category20b\")\n",
    "    )\n",
    ")"
   ]
  },
  {
   "cell_type": "markdown",
   "metadata": {},
   "source": [
    "## Streamgraph"
   ]
  },
  {
   "cell_type": "code",
   "execution_count": null,
   "metadata": {},
   "outputs": [],
   "source": [
    "alt.Chart(unemp).mark_area().encode(\n",
    "    alt.X('date:T', timeUnit='yearmonth',\n",
    "      axis=alt.Axis(format='%Y', labelAngle=0, title='year')),\n",
    "    alt.Y('sum(count)',\n",
    "        stack='center'\n",
    "    ),\n",
    "    color=alt.Color('series:N', scale=alt.Scale(scheme=\"category20b\"))\n",
    ")"
   ]
  },
  {
   "cell_type": "markdown",
   "metadata": {},
   "source": [
    "## Steamgraph with Hover Selection"
   ]
  },
  {
   "cell_type": "code",
   "execution_count": null,
   "metadata": {},
   "outputs": [],
   "source": [
    "hover = alt.selection_single(on='mouseover')\n",
    "\n",
    "alt.Chart(unemp).mark_area().encode(\n",
    "    alt.X('date:T', timeUnit='yearmonth',\n",
    "      axis=alt.Axis(format='%Y', labelAngle=0, title='year')),\n",
    "    alt.Y('sum(count)',\n",
    "        stack='center'\n",
    "    ),\n",
    "    color=alt.Color('series:N', scale=alt.Scale(scheme=\"category20b\")),\n",
    "    opacity=alt.condition(hover, alt.value(1.0), alt.value(0.5))\n",
    ").properties(\n",
    "    selection=hover\n",
    ")"
   ]
  }
 ],
 "metadata": {
  "anaconda-cloud": {},
  "kernelspec": {
   "display_name": "Python 3",
   "language": "python",
   "name": "python3"
  },
  "language_info": {
   "codemirror_mode": {
    "name": "ipython",
    "version": 3
   },
   "file_extension": ".py",
   "mimetype": "text/x-python",
   "name": "python",
   "nbconvert_exporter": "python",
   "pygments_lexer": "ipython3",
   "version": "3.7.6"
  }
 },
 "nbformat": 4,
 "nbformat_minor": 4
}
