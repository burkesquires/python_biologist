{
 "cells": [
  {
   "cell_type": "markdown",
   "metadata": {},
   "source": [
    "# Measles Incidence in Altair"
   ]
  },
  {
   "cell_type": "markdown",
   "metadata": {},
   "source": [
    "This is an example of reproducing the Wall Street Journal's famous [Measles Incidence Plot](http://graphics.wsj.com/infectious-diseases-and-vaccines/#b02g20t20w15) in Python using [Altair](http://github.com/ellisonbg/altair/)."
   ]
  },
  {
   "cell_type": "markdown",
   "metadata": {},
   "source": [
    "## The Data\n",
    "\n",
    "We'll start by downloading the data. Fortunately, others have made the data available in an easily digestible form; a github search revealed the dataset in CSV format here:"
   ]
  },
  {
   "cell_type": "code",
   "execution_count": null,
   "metadata": {},
   "outputs": [],
   "source": [
    "import pandas as pd\n",
    "url = 'https://raw.githubusercontent.com/blmoore/blogR/master/data/measles_incidence.csv'\n",
    "data = pd.read_csv(url, skiprows=2, na_values='-')\n",
    "data.head()"
   ]
  },
  {
   "cell_type": "markdown",
   "metadata": {},
   "source": [
    "## Data Munging with Pandas"
   ]
  },
  {
   "cell_type": "markdown",
   "metadata": {},
   "source": [
    "This data needs to be cleaned-up a bit; we can do this with the Pandas library.\n",
    "We first need to aggregate the incidence data by year:"
   ]
  },
  {
   "cell_type": "code",
   "execution_count": null,
   "metadata": {},
   "outputs": [],
   "source": [
    "annual = data.drop('WEEK', axis=1).groupby('YEAR').sum()\n",
    "annual.head()"
   ]
  },
  {
   "cell_type": "markdown",
   "metadata": {},
   "source": [
    "Next, because Altair is built to handle data where each row corresponds to a single sample, we will stack the data, re-labeling the columns for clarity:"
   ]
  },
  {
   "cell_type": "code",
   "execution_count": null,
   "metadata": {},
   "outputs": [],
   "source": [
    "measles = annual.reset_index()\n",
    "measles = measles.melt('YEAR', var_name='state', value_name='incidence')\n",
    "measles.head()"
   ]
  },
  {
   "cell_type": "markdown",
   "metadata": {},
   "source": [
    "## Initial Visualization"
   ]
  },
  {
   "cell_type": "markdown",
   "metadata": {},
   "source": [
    "Now we can use Altair's syntax for generating a heat map:"
   ]
  },
  {
   "cell_type": "code",
   "execution_count": null,
   "metadata": {},
   "outputs": [],
   "source": [
    "import altair as alt"
   ]
  },
  {
   "cell_type": "code",
   "execution_count": null,
   "metadata": {},
   "outputs": [],
   "source": [
    "alt.Chart(measles).mark_rect().encode(\n",
    "    x='YEAR:O',\n",
    "    y='state:N',\n",
    "    color='incidence'\n",
    ").properties(\n",
    "    width=600,\n",
    "    height=400\n",
    ")"
   ]
  },
  {
   "cell_type": "markdown",
   "metadata": {},
   "source": [
    "## Adjusting Aesthetics"
   ]
  },
  {
   "cell_type": "markdown",
   "metadata": {},
   "source": [
    "All operative components of the visualization appear above, we now just have to adjust the aesthetic features to reproduce the original plot.\n",
    "Altair allows a wide range of flexibility for such adjustments, including size and color of markings, axis labels and titles, and more.\n",
    "\n",
    "Here is the data visualized again with a number of these adjustments:"
   ]
  },
  {
   "cell_type": "code",
   "execution_count": null,
   "metadata": {},
   "outputs": [],
   "source": [
    "# Define a custom colormape using Hex codes & HTML color names\n",
    "colormap = alt.Scale(domain=[0, 100, 200, 300, 1000, 3000],\n",
    "                     range=['#F0F8FF', 'cornflowerblue', 'mediumseagreen', '#FFEE00', 'darkorange', 'firebrick'],\n",
    "                     type='sqrt')\n",
    "\n",
    "alt.Chart(measles).mark_rect().encode(\n",
    "    alt.X('YEAR:O', axis=alt.Axis(title=None, ticks=False)),\n",
    "    alt.Y('state:N', axis=alt.Axis(title=None, ticks=False)),\n",
    "    alt.Color('incidence:Q', sort='ascending', scale=colormap, legend=None)\n",
    ").properties(\n",
    "    width=800,\n",
    "    height=500\n",
    ")"
   ]
  },
  {
   "cell_type": "markdown",
   "metadata": {},
   "source": [
    "The result clearly shows the impact of the the measles vaccine introduced in the mid-1960s."
   ]
  },
  {
   "cell_type": "markdown",
   "metadata": {},
   "source": [
    "## Layering & Selections\n",
    "\n",
    "Here is another view of the data, using layering and selections to allow zooming-in"
   ]
  },
  {
   "cell_type": "code",
   "execution_count": null,
   "metadata": {},
   "outputs": [],
   "source": [
    "hover = alt.selection_single(on='mouseover', nearest=True, fields=['state'], empty='none')\n",
    "\n",
    "line = alt.Chart().mark_line().encode(\n",
    "    alt.X('YEAR:Q',\n",
    "        scale=alt.Scale(zero=False),\n",
    "        axis=alt.Axis(format='f', title='year')\n",
    "    ),\n",
    "    alt.Y('incidence:Q', axis=alt.Axis(title='measles incidence')),\n",
    "    detail='state:N',\n",
    "    opacity=alt.condition(hover, alt.value(1.0), alt.value(0.1))\n",
    ").properties(\n",
    "    width=800,\n",
    "    height=300\n",
    ")\n",
    "\n",
    "point = line.mark_point().encode(\n",
    "    opacity=alt.value(0.0)\n",
    ").properties(\n",
    "    selection=hover\n",
    ")\n",
    "\n",
    "mean = alt.Chart().mark_line().encode(\n",
    "    x=alt.X('YEAR:Q', scale=alt.Scale(zero=False)),\n",
    "    y='mean(incidence):Q',\n",
    "    color=alt.value('black')\n",
    ")\n",
    "\n",
    "text = alt.Chart().mark_text(align='right').encode(\n",
    "    x='min(YEAR):Q',\n",
    "    y='mean(incidence):Q',\n",
    "    text='state:N',\n",
    "    detail='state:N',\n",
    "    opacity=alt.condition(hover, alt.value(1.0), alt.value(0.0))\n",
    ")\n",
    "\n",
    "alt.layer(point, line, mean, text, data=measles).interactive(bind_y=False)"
   ]
  }
 ],
 "metadata": {
  "anaconda-cloud": {},
  "kernelspec": {
   "display_name": "Python 3",
   "language": "python",
   "name": "python3"
  },
  "language_info": {
   "codemirror_mode": {
    "name": "ipython",
    "version": 3
   },
   "file_extension": ".py",
   "mimetype": "text/x-python",
   "name": "python",
   "nbconvert_exporter": "python",
   "pygments_lexer": "ipython3",
   "version": "3.7.6"
  }
 },
 "nbformat": 4,
 "nbformat_minor": 4
}
