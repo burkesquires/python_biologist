{
 "cells": [
  {
   "cell_type": "markdown",
   "metadata": {},
   "source": [
    "# Chart Configuration\n",
    "\n",
    "Altair provides a number of hooks to configure the look of your chart; we don't have time to go into all the available options here, but it is useful to know where and how such configuration settings can be accessed and explored.\n",
    "\n",
    "In general, there are two or three places where the look of a chart can be controlled, each with a greater priority than the last.\n",
    "\n",
    "1. **Top Level Chart Config**. At the top level of an Altair chart, you can specify configuration settings that will apply to every panel or layer in the chart.\n",
    "\n",
    "2. **Local Configuration Settings**. The top-level settings can be over-ridden locally, by specifying local configuration\n",
    "\n",
    "3. **Encoding Values**. If an encoding value is specified, it will take highest precedance, and override the other options.\n",
    "\n",
    "Let's see an example."
   ]
  },
  {
   "cell_type": "code",
   "execution_count": null,
   "metadata": {},
   "outputs": [],
   "source": [
    "import altair as alt"
   ]
  },
  {
   "cell_type": "code",
   "execution_count": null,
   "metadata": {},
   "outputs": [],
   "source": [
    "import numpy as np\n",
    "import pandas as pd\n",
    "np.random.seed(42)\n",
    "\n",
    "data = pd.DataFrame(np.random.randn(100, 2), columns=['x', 'y'])"
   ]
  },
  {
   "cell_type": "markdown",
   "metadata": {},
   "source": [
    "## Example 1: Controlling Marker Properties\n",
    "\n",
    "Suppose you would like to control the color of the markers in a scatter plot: let's see each of the three options for doing this. We'll use a simple datasets of normally-distributed points:"
   ]
  },
  {
   "cell_type": "code",
   "execution_count": null,
   "metadata": {},
   "outputs": [],
   "source": [
    "alt.Chart(data).mark_point().encode(\n",
    "    x='x:Q',\n",
    "    y='y:Q'\n",
    ")"
   ]
  },
  {
   "cell_type": "markdown",
   "metadata": {},
   "source": [
    "### Top-level configuration\n",
    "\n",
    "At the top level, Altair has a ``configure_mark()`` method that allows you to adjust a large number of configuration settings for marks in general, as well as a ``configure_point()`` property that specifically adjusts the properties of points.\n",
    "\n",
    "You can see the availale options in Jupyter in the documentation string, accessed with a question mark:"
   ]
  },
  {
   "cell_type": "code",
   "execution_count": null,
   "metadata": {},
   "outputs": [],
   "source": [
    "alt.Chart.configure_point?"
   ]
  },
  {
   "cell_type": "markdown",
   "metadata": {},
   "source": [
    "This top-level configuration should be thought of as a chart theme: they are the default settings for the aesthetics of all chart elements.\n",
    "Let's use ``configure_point`` to set some properties of points:"
   ]
  },
  {
   "cell_type": "code",
   "execution_count": null,
   "metadata": {},
   "outputs": [],
   "source": [
    "alt.Chart(data).mark_point().encode(\n",
    "    x='x:Q',\n",
    "    y='y:Q'\n",
    ").configure_point(\n",
    "    size=200,\n",
    "    color='red',\n",
    "    filled=True\n",
    ")"
   ]
  },
  {
   "cell_type": "markdown",
   "metadata": {},
   "source": [
    "Many local configurations are available; you can use Jupyter's tab-completion and help features to explore them\n",
    "\n",
    "```python\n",
    "    alt.Chart.configure_     # then the TAB key to see available configurations\n",
    "```"
   ]
  },
  {
   "cell_type": "markdown",
   "metadata": {},
   "source": [
    "## Local Mark Configuration\n",
    "\n",
    "Within the ``mark_point()`` method, you can pass local configurations that will override the top-level configuration settings.\n",
    "The arguments are the same as that of ``configure_mark``."
   ]
  },
  {
   "cell_type": "code",
   "execution_count": null,
   "metadata": {},
   "outputs": [],
   "source": [
    "alt.Chart(data).mark_point(color='green', filled=False).encode(\n",
    "    x='x:Q',\n",
    "    y='y:Q'\n",
    ").configure_point(\n",
    "    size=200,\n",
    "    color='red',\n",
    "    filled=True\n",
    ")"
   ]
  },
  {
   "cell_type": "markdown",
   "metadata": {},
   "source": [
    "Notice here that the \"color\" and \"fill\" configurations are overridden by the local configurations, but the \"size\" remains the same as before."
   ]
  },
  {
   "cell_type": "markdown",
   "metadata": {},
   "source": [
    "## Encoding Configuration\n",
    "\n",
    "Finally, the highest precedence setting is the \"encoding\" setting. Here let's set the color to \"steelblue\" within the encoding:"
   ]
  },
  {
   "cell_type": "code",
   "execution_count": null,
   "metadata": {},
   "outputs": [],
   "source": [
    "alt.Chart(data).mark_point(color='green', filled=False).encode(\n",
    "    x='x:Q',\n",
    "    y='y:Q',\n",
    "    color=alt.value('steelblue')\n",
    ").configure_point(\n",
    "    size=200,\n",
    "    color='red',\n",
    "    filled=True\n",
    ")"
   ]
  },
  {
   "cell_type": "markdown",
   "metadata": {},
   "source": [
    "Now this is a bit of a contrived example, but it's useful to help grasp the various places that properties of marks can be set."
   ]
  },
  {
   "cell_type": "markdown",
   "metadata": {},
   "source": [
    "## Example 2: Chart and Axis Titles\n",
    "\n",
    "Chart and axis titles are set automatically based on the data source, but sometimes it is useful to change them.\n",
    "For example, here is a histogram of the above data:"
   ]
  },
  {
   "cell_type": "code",
   "execution_count": null,
   "metadata": {},
   "outputs": [],
   "source": [
    "alt.Chart(data).mark_bar().encode(\n",
    "    x=alt.X('x', bin=True),\n",
    "    y=alt.Y('count()')\n",
    ")"
   ]
  },
  {
   "cell_type": "markdown",
   "metadata": {},
   "source": [
    "We can explicitly set the axis titles using the ``title`` argument to the encoding:"
   ]
  },
  {
   "cell_type": "code",
   "execution_count": null,
   "metadata": {},
   "outputs": [],
   "source": [
    "alt.Chart(data).mark_bar().encode(\n",
    "    x=alt.X('x', bin=True, title='binned x values'),\n",
    "    y=alt.Y('count()', title='counts in x')\n",
    ")"
   ]
  },
  {
   "cell_type": "markdown",
   "metadata": {},
   "source": [
    "Likewise, we can set the ``title`` property of the chart within the chart properties:"
   ]
  },
  {
   "cell_type": "code",
   "execution_count": null,
   "metadata": {},
   "outputs": [],
   "source": [
    "alt.Chart(data).mark_bar().encode(\n",
    "    x=alt.X('x', bin=True, title='binned x values'),\n",
    "    y=alt.Y('count()', title='counts in x')\n",
    ").properties(\n",
    "    title='A histogram'\n",
    ")"
   ]
  },
  {
   "cell_type": "markdown",
   "metadata": {},
   "source": [
    "## Example 3: Axis Properties\n",
    "\n",
    "If you would like to set the properties of the axes, including grid lines, you can use the encodings'``axis`` argument."
   ]
  },
  {
   "cell_type": "code",
   "execution_count": null,
   "metadata": {},
   "outputs": [],
   "source": [
    "alt.Chart(data).mark_bar().encode(\n",
    "    x=alt.X('x', bin=True, axis=alt.Axis(labelAngle=45)),\n",
    "    y=alt.Y('count()', axis=alt.Axis(labels=False, ticks=False, title=None))\n",
    ")"
   ]
  },
  {
   "cell_type": "markdown",
   "metadata": {},
   "source": [
    "Note that some of these values can be adjusted at the top-level configuration as well, if you want them to apply to the chart as a whole. For example:"
   ]
  },
  {
   "cell_type": "code",
   "execution_count": null,
   "metadata": {},
   "outputs": [],
   "source": [
    "alt.Chart(data).mark_bar().encode(\n",
    "    x=alt.X('x', bin=True),\n",
    "    y=alt.Y('count()', axis=alt.Axis(labels=False, ticks=False, title=None))\n",
    ").configure_axisX(\n",
    "    labelAngle=45\n",
    ")"
   ]
  },
  {
   "cell_type": "markdown",
   "metadata": {},
   "source": [
    "## Example 4: Scale properties & axis limits\n",
    "\n",
    "Each encoding also has a ``scale`` that allows you to adjust things like axis limits and other scale properties."
   ]
  },
  {
   "cell_type": "code",
   "execution_count": null,
   "metadata": {},
   "outputs": [],
   "source": [
    "alt.Chart(data).mark_point().encode(\n",
    "    x=alt.X('x:Q', scale=alt.Scale(domain=[-5, 5])),\n",
    "    y=alt.Y('y:Q', scale=alt.Scale(domain=[-5, 5])),\n",
    ")"
   ]
  },
  {
   "cell_type": "markdown",
   "metadata": {},
   "source": [
    "Note that if you shrink the scale to smaller than the range of the data, the data will extend beyond the scale by default:"
   ]
  },
  {
   "cell_type": "code",
   "execution_count": null,
   "metadata": {},
   "outputs": [],
   "source": [
    "alt.Chart(data).mark_point().encode(\n",
    "    x=alt.X('x:Q', scale=alt.Scale(domain=[-3, 1])),\n",
    "    y=alt.Y('y:Q', scale=alt.Scale(domain=[-3, 1])),\n",
    ")"
   ]
  },
  {
   "cell_type": "markdown",
   "metadata": {},
   "source": [
    "Not hiding data is a useful default in exploratory visualization, because it prevents you from inadvertently missing data points.\n",
    "\n",
    "If you would like the markers to be clipped beyond the range of the scales, you can set the ``clip`` property of marks:"
   ]
  },
  {
   "cell_type": "code",
   "execution_count": null,
   "metadata": {},
   "outputs": [],
   "source": [
    "alt.Chart(data).mark_point(clip=True).encode(\n",
    "    x=alt.X('x:Q', scale=alt.Scale(domain=[-3, 1])),\n",
    "    y=alt.Y('y:Q', scale=alt.Scale(domain=[-3, 1])),\n",
    ")"
   ]
  },
  {
   "cell_type": "markdown",
   "metadata": {},
   "source": [
    "Another useful approach is to instead \"clamp\" the data to the extremes of the scale, keeping it visible even when it is out of range:"
   ]
  },
  {
   "cell_type": "code",
   "execution_count": null,
   "metadata": {},
   "outputs": [],
   "source": [
    "alt.Chart(data).mark_point().encode(\n",
    "    x=alt.X('x:Q', scale=alt.Scale(domain=[-3, 1], clamp=True)),\n",
    "    y=alt.Y('y:Q', scale=alt.Scale(domain=[-3, 1], clamp=True)),\n",
    ").interactive()"
   ]
  },
  {
   "cell_type": "markdown",
   "metadata": {},
   "source": [
    "## Example 5: Color Scales\n",
    "\n",
    "Sometimes it's useful to manually adjust a color scale used"
   ]
  },
  {
   "cell_type": "code",
   "execution_count": null,
   "metadata": {},
   "outputs": [],
   "source": [
    "from vega_datasets import data\n",
    "weather = data.seattle_weather()\n",
    "weather.head()"
   ]
  },
  {
   "cell_type": "code",
   "execution_count": null,
   "metadata": {},
   "outputs": [],
   "source": [
    "alt.Chart(weather).mark_point().encode(\n",
    "    x='date:T',\n",
    "    y='temp_max:Q',\n",
    "    color='weather:N'\n",
    ")"
   ]
  },
  {
   "cell_type": "markdown",
   "metadata": {},
   "source": [
    "You can change the color scheme by using the color scale property, and by referencing any of [Vega's named color schemes](https://vega.github.io/vega/docs/schemes/#reference):"
   ]
  },
  {
   "cell_type": "code",
   "execution_count": null,
   "metadata": {},
   "outputs": [],
   "source": [
    "alt.Chart(weather).mark_point().encode(\n",
    "    x='date:T',\n",
    "    y='temp_max:Q',\n",
    "    color=alt.Color('weather:N', scale=alt.Scale(scheme=\"dark2\"))\n",
    ")"
   ]
  },
  {
   "cell_type": "markdown",
   "metadata": {},
   "source": [
    "Alternatively, you can create your own color scheme by specifying a color domain and range:"
   ]
  },
  {
   "cell_type": "code",
   "execution_count": null,
   "metadata": {},
   "outputs": [],
   "source": [
    "colorscale = alt.Scale(domain=['sun', 'fog', 'drizzle', 'rain', 'snow'],\n",
    "                       range=['goldenrod', 'gray', 'lightblue', 'steelblue', 'midnightblue'])\n",
    "\n",
    "alt.Chart(weather).mark_point().encode(\n",
    "    x='date:T',\n",
    "    y='temp_max:Q',\n",
    "    color=alt.Color('weather:N', scale=colorscale)\n",
    ")"
   ]
  },
  {
   "cell_type": "markdown",
   "metadata": {},
   "source": [
    "## Exercise: Adjusting Plots\n",
    "\n",
    "Take about 10 minutes now and practice adjusting the aesthetics of your plots.\n",
    "\n",
    "Use your favorite visualization from the previous exercise, and adjust the aesthetics of the plot:\n",
    "\n",
    "- customize the look of the marks (size, strokewidth, etc.)\n",
    "- change axes and plot titles\n",
    "- change the x and y limits\n",
    "\n",
    "Use tab-completion on ``alt.Chart.configure_`` to see the various configuration options, then use ``?`` to see the documentation on what the options do."
   ]
  }
 ],
 "metadata": {
  "kernelspec": {
   "display_name": "Python 3",
   "language": "python",
   "name": "python3"
  },
  "language_info": {
   "codemirror_mode": {
    "name": "ipython",
    "version": 3
   },
   "file_extension": ".py",
   "mimetype": "text/x-python",
   "name": "python",
   "nbconvert_exporter": "python",
   "pygments_lexer": "ipython3",
   "version": "3.7.6"
  }
 },
 "nbformat": 4,
 "nbformat_minor": 4
}
