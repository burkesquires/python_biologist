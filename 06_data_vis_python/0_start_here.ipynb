{
 "cells": [
  {
   "cell_type": "markdown",
   "metadata": {},
   "source": [
    "# Python Data Visualization"
   ]
  },
  {
   "cell_type": "markdown",
   "metadata": {},
   "source": [
    "---"
   ]
  },
  {
   "cell_type": "markdown",
   "metadata": {},
   "source": [
    "## Outline\n",
    "- Data visualiation Concepts\n",
    "- Selecting the Right Graph\n",
    "- Python data visualization packages\n",
    "    - Seaborn\n",
    "    - Vega-Altair\n",
    "    - Matplotlib\n",
    "    - Bokeh\n",
    "    - Other\n",
    "    \n",
    "---"
   ]
  },
  {
   "cell_type": "markdown",
   "metadata": {},
   "source": [
    "## Data Visualization Concepts\n",
    "    - PowerPoint"
   ]
  },
  {
   "cell_type": "markdown",
   "metadata": {},
   "source": [
    "## Selecting the Right Graph\n",
    "\n",
    "If you are not sure which graph to use for your data or how to program it, you can:\n",
    "\n",
    "- Choosing a good chart pdf\n",
    "- Answer some simple questions to determine the correct graph\n",
    "    - https://www.data-to-viz.com\n",
    "- Review a gallery of figures\n",
    "    - [Python Graph Gallery](https://python-graph-gallery.com)\n",
    "    "
   ]
  },
  {
   "cell_type": "markdown",
   "metadata": {},
   "source": [
    "---"
   ]
  },
  {
   "cell_type": "markdown",
   "metadata": {
    "tags": []
   },
   "source": [
    "## Python Data Visualization Packages\n",
    "\n",
    "- **Seaborn**\n",
    "    - [Introduction](seaborn/seaborn_tutorial/introduction.ipynb)\n",
    "- **Vega-Altair** Declarative Visualization\n",
    "    - [Introduction](vega-altair/Vega-Altair-Exploring-Weather.ipynb)\n",
    "    - [Vega-Altair Gallery](https://altair-viz.github.io/gallery/index.html)\n",
    "- **Matplotlib** (https://jakevdp.github.io/PythonDataScienceHandbook/)\n",
    "    - [**Introduction-To-Matplotlib**](PythonDataScienceHandbook/notebooks/04.00-Introduction-To-Matplotlib.ipynb)\n",
    "    - [**Simple-Line-Plots**](PythonDataScienceHandbook/notebooks/04.01-Simple-Line-Plots.ipynb)\n",
    "    - [**Simple-Scatter-Plots**](PythonDataScienceHandbook/notebooks/04.02-Simple-Scatter-Plots.ipynb)\n",
    "    - [**Errorbars**](PythonDataScienceHandbook/notebooks/04.03-Errorbars.ipynb)\n",
    "    - [Density-and-Contour-Plots](PythonDataScienceHandbook/notebooks/04.04-Density-and-Contour-Plots.ipynb)\n",
    "    - [**Histograms-and-Binnings**](PythonDataScienceHandbook/notebooks/04.05-Histograms-and-Binnings.ipynb)\n",
    "    - [**Customizing-Legends**](PythonDataScienceHandbook/notebooks/04.06-Customizing-Legends.ipynb)\n",
    "    - [Customizing-Colorbars](PythonDataScienceHandbook/notebooks/04.07-Customizing-Colorbars.ipynb)\n",
    "    - [**Multiple-Subplots**](PythonDataScienceHandbook/notebooks/04.08-Multiple-Subplots.ipynb)\n",
    "    - [Text-and-Annotation](PythonDataScienceHandbook/notebooks/04.09-Text-and-Annotation.ipynb)\n",
    "    - [Customizing-Ticks](PythonDataScienceHandbook/notebooks/04.10-Customizing-Ticks.ipynb)\n",
    "    - [Settings-and-Stylesheets](PythonDataScienceHandbook/notebooks/04.11-Settings-and-Stylesheets.ipynb)\n",
    "    - [Three-Dimensional-Plotting](PythonDataScienceHandbook/notebooks/04.12-Three-Dimensional-Plotting.ipynb)\n",
    "    - [Geographic-Data-With-Basemap](PythonDataScienceHandbook/notebooks/04.13-Geographic-Data-With-Basemap.ipynb)\n",
    "\n",
    "- **bokeh (Demo)**\n",
    "    - [bokeh](https://bokeh.pydata.org/)\n",
    "    - Demo `bokeh` notebooks in folder"
   ]
  },
  {
   "cell_type": "markdown",
   "metadata": {},
   "source": [
    "#### - Other Packages (https://mode.com/blog/python-data-visualization-libraries/)\n",
    "- [Plotnine(ggplot)(Grammer of Graphics)](https://github.com/has2k1/plotnine.git)\n",
    "    - [Gallery](https://plotnine.readthedocs.io/en/stable/gallery.html)\n",
    "- pygal\n",
    "- Plotly\n",
    "- [geoplotlib](https://github.com/andrea-cuttone/geoplotlib)\n",
    "- Gleam\n",
    "- missingno\n",
    "- Leather\n",
    "- Folium\n"
   ]
  },
  {
   "cell_type": "code",
   "execution_count": null,
   "metadata": {},
   "outputs": [],
   "source": []
  }
 ],
 "metadata": {
  "kernelspec": {
   "display_name": "Python 3 (ipykernel)",
   "language": "python",
   "name": "python3"
  },
  "language_info": {
   "codemirror_mode": {
    "name": "ipython",
    "version": 3
   },
   "file_extension": ".py",
   "mimetype": "text/x-python",
   "name": "python",
   "nbconvert_exporter": "python",
   "pygments_lexer": "ipython3",
   "version": "3.11.4"
  }
 },
 "nbformat": 4,
 "nbformat_minor": 4
}
