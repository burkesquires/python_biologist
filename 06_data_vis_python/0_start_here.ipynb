{
 "cells": [
  {
   "cell_type": "markdown",
   "metadata": {},
   "source": [
    "# Python Data Visualization"
   ]
  },
  {
   "cell_type": "markdown",
   "metadata": {},
   "source": [
    "---"
   ]
  },
  {
   "cell_type": "markdown",
   "metadata": {},
   "source": [
    "## Python Graph Gallery\n",
    "\n",
    "[Python Graph Gallery](https://python-graph-gallery.com)"
   ]
  },
  {
   "cell_type": "markdown",
   "metadata": {},
   "source": [
    "---"
   ]
  },
  {
   "cell_type": "markdown",
   "metadata": {
    "tags": []
   },
   "source": [
    "## Python Data Visualization Packages\n",
    "\n",
    "- 12 Data Visualization Libraries\n",
    "    - https://mode.com/blog/python-data-visualization-libraries/\n",
    "        - Matplotlib\n",
    "        - Seaborn\n",
    "        - Plotnine(ggplot)\n",
    "        - Bokeh\n",
    "        - pygal\n",
    "        - Plotly\n",
    "        - geoplotlib\n",
    "        - Gleam\n",
    "        - missingno\n",
    "        - Leather\n",
    "        - Altair\n",
    "        - Folium\n",
    "\n",
    "\n",
    "- **Matplotlib** (https://jakevdp.github.io/PythonDataScienceHandbook/)\n",
    "    - [**Introduction-To-Matplotlib**](PythonDataScienceHandbook-master/notebooks/04.00-Introduction-To-Matplotlib.ipynb)\n",
    "    - [**Simple-Line-Plots**](PythonDataScienceHandbook-master/notebooks/04.01-Simple-Line-Plots.ipynb)\n",
    "    - [**Simple-Scatter-Plots**](PythonDataScienceHandbook-master/notebooks/04.02-Simple-Scatter-Plots.ipynb)\n",
    "    - [**Errorbars**](PythonDataScienceHandbook-master/notebooks/04.03-Errorbars.ipynb)\n",
    "    - [Density-and-Contour-Plots](PythonDataScienceHandbook-master/notebooks/04.04-Density-and-Contour-Plots.ipynb)\n",
    "    - [**Histograms-and-Binnings**](PythonDataScienceHandbook-master/notebooks/04.05-Histograms-and-Binnings.ipynb)\n",
    "    - [**Customizing-Legends**](PythonDataScienceHandbook-master/notebooks/04.06-Customizing-Legends.ipynb)\n",
    "    - [Customizing-Colorbars](PythonDataScienceHandbook-master/notebooks/04.07-Customizing-Colorbars.ipynb)\n",
    "    - [**Multiple-Subplots**](PythonDataScienceHandbook-master/notebooks/04.08-Multiple-Subplots.ipynb)\n",
    "    - [Text-and-Annotation](PythonDataScienceHandbook-master/notebooks/04.09-Text-and-Annotation.ipynb)\n",
    "    - [Customizing-Ticks](PythonDataScienceHandbook-master/notebooks/04.10-Customizing-Ticks.ipynb)\n",
    "    - [Settings-and-Stylesheets](PythonDataScienceHandbook-master/notebooks/04.11-Settings-and-Stylesheets.ipynb)\n",
    "    - [Three-Dimensional-Plotting](PythonDataScienceHandbook-master/notebooks/04.12-Three-Dimensional-Plotting.ipynb)\n",
    "    - [Geographic-Data-With-Basemap](PythonDataScienceHandbook-master/notebooks/04.13-Geographic-Data-With-Basemap.ipynb)\n",
    "\n",
    "\n",
    "- **Seaborn**\n",
    "    - [Visualization-With-Seaborn](PythonDataScienceHandbook-master/notebooks/04.14-Visualization-With-Seaborn.ipynb)\n",
    "\n",
    "\n",
    "- **Altair** => Declarative Visualization\n",
    "    - [Index](altair-tutorial-master/notebooks/index.ipynb)\n",
    "    - [Altair Gallery](https://altair-viz.github.io/gallery/index.html) \n",
    "\n",
    "\n",
    "- **Plotnine** (Grammer of Graphics):\n",
    "    - [plotnine](https://github.com/has2k1/plotnine.git)\n",
    "    - https://plotnine.readthedocs.io/en/stable/gallery.html\n",
    "\n",
    "\n",
    "- **bokeh (Demo)**\n",
    "    - [bokeh](https://bokeh.pydata.org/)\n",
    "    - Demo `bokeh` notebooks in folder\n",
    "\n",
    "## Other\n",
    "\n",
    "- Geographical Plots\n",
    "    - https://github.com/andrea-cuttone/geoplotlib"
   ]
  },
  {
   "cell_type": "code",
   "execution_count": null,
   "metadata": {},
   "outputs": [],
   "source": []
  }
 ],
 "metadata": {
  "kernelspec": {
   "display_name": "Python 3 (ipykernel)",
   "language": "python",
   "name": "python3"
  },
  "language_info": {
   "codemirror_mode": {
    "name": "ipython",
    "version": 3
   },
   "file_extension": ".py",
   "mimetype": "text/x-python",
   "name": "python",
   "nbconvert_exporter": "python",
   "pygments_lexer": "ipython3",
   "version": "3.9.12"
  }
 },
 "nbformat": 4,
 "nbformat_minor": 4
}
