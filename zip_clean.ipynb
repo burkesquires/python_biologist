{
 "cells": [
  {
   "cell_type": "markdown",
   "metadata": {},
   "source": [
    "# Clean up Notebooks and Zip (before uploading to GitHub)"
   ]
  },
  {
   "cell_type": "markdown",
   "metadata": {},
   "source": [
    "---"
   ]
  },
  {
   "cell_type": "code",
   "execution_count": null,
   "metadata": {},
   "outputs": [],
   "source": [
    "pip install --upgrade nbstripout"
   ]
  },
  {
   "cell_type": "code",
   "execution_count": null,
   "metadata": {},
   "outputs": [],
   "source": [
    "!nbstripout --install"
   ]
  },
  {
   "cell_type": "code",
   "execution_count": null,
   "metadata": {},
   "outputs": [],
   "source": [
    "# !nbstripout"
   ]
  },
  {
   "cell_type": "code",
   "execution_count": null,
   "metadata": {},
   "outputs": [],
   "source": [
    "# pip install clean_ipynb"
   ]
  },
  {
   "cell_type": "markdown",
   "metadata": {},
   "source": [
    "---"
   ]
  },
  {
   "cell_type": "markdown",
   "metadata": {},
   "source": [
    "## Clean Output from Notebooks Using `nbstripout`"
   ]
  },
  {
   "cell_type": "code",
   "execution_count": null,
   "metadata": {},
   "outputs": [],
   "source": [
    "!nbstripout -h"
   ]
  },
  {
   "cell_type": "code",
   "execution_count": null,
   "metadata": {},
   "outputs": [],
   "source": [
    "%%bash\n",
    "# The string `{}' is replaced by the current file name being processed\n",
    "find ./ -type f -name \"*.ipynb\" -exec nbstripout \"{}\" \\;"
   ]
  },
  {
   "cell_type": "markdown",
   "metadata": {},
   "source": [
    "## Archive Directories"
   ]
  },
  {
   "cell_type": "code",
   "execution_count": null,
   "metadata": {},
   "outputs": [],
   "source": [
    "dirs = [\n",
    "    \"01_intro_command_line\",\n",
    "    \"02_jupyter_anaconda\",\n",
    "    \"03_intro_programming\",\n",
    "    \"04_python_programming\",\n",
    "    \"05_python_data_analysis\",\n",
    "    \"06_data_vis_python\",\n",
    "    \"07_intermediate_python\",\n",
    "    \"08_bioinfo_python\",\n",
    "    \"09_python_workflows\",\n",
    "    \"10_databases\",\n",
    "    \"11_scikit-learn\"\n",
    "]\n",
    "\n",
    "for directory in dirs:\n",
    "    \n",
    "    zip_path = '-r ./zip_archives/{}.zip ./{} -x \"*/.*\"'.format(directory, directory)\n",
    "    \n",
    "    if directory == \"08_bioinfo_python\":\n",
    "        zip_path = '-r ./zip_archives/{}.zip ./{} -x \\*.snakemake\\* -x \"*/.*\"'.format(directory, directory)\n",
    "    elif directory == \"10_databases\":\n",
    "        zip_path = '-r ./zip_archives/{}.zip ./{} -x \\datasets\\* -x \"*/.*\"'.format(directory, directory)\n",
    "\n",
    "    print(zip_path)\n",
    "    !zip {zip_path}"
   ]
  },
  {
   "cell_type": "code",
   "execution_count": null,
   "metadata": {},
   "outputs": [],
   "source": [
    "!ls -ls ./zip_archives/"
   ]
  },
  {
   "cell_type": "code",
   "execution_count": null,
   "metadata": {},
   "outputs": [],
   "source": []
  }
 ],
 "metadata": {
  "kernelspec": {
   "display_name": "Python 3 (ipykernel)",
   "language": "python",
   "name": "python3"
  },
  "language_info": {
   "codemirror_mode": {
    "name": "ipython",
    "version": 3
   },
   "file_extension": ".py",
   "mimetype": "text/x-python",
   "name": "python",
   "nbconvert_exporter": "python",
   "pygments_lexer": "ipython3",
   "version": "3.9.12"
  }
 },
 "nbformat": 4,
 "nbformat_minor": 4
}
