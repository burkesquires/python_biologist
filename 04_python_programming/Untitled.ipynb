{
 "cells": [
  {
   "cell_type": "markdown",
   "id": "0",
   "metadata": {},
   "source": [
    "Installation instructions\n",
    "\n",
    "Please download and install the Anaconda python distribution installer found at:\n",
    "\n",
    "https://www.anaconda.com/download/\n",
    "\n",
    "This single download, when run, installs the python programming language, conda installer, Anaconda Navigotor, and many python packages.\n",
    "\n",
    "\n",
    "Download the files for today's class from my github page at:\n",
    "\n",
    "https://github.com/burkesquires/python_biologist/blob/master/zip_archives/04_python_programming.zip\n",
    "\n",
    "\n",
    "To setup your computer to write programs using the python programming language:\n",
    "\n",
    "Download the Anaconda Distribution here:\n",
    "\n",
    "https://www.anaconda.com/download/\n",
    "\n",
    "Install the distribution in your home directory. You should not need any admin privileges for this.\n",
    "\n",
    "To start the Jupyter notebook:\n",
    "\n",
    "From the Anaconda Navigator click \"Jupyterlab\"\n",
    "From the terminal type \"jupyter lab\" or \"./anaconda3/bin/jupyter lab\""
   ]
  }
 ],
 "metadata": {
  "kernelspec": {
   "display_name": "Python 3 (ipykernel)",
   "language": "python",
   "name": "python3"
  },
  "language_info": {
   "codemirror_mode": {
    "name": "ipython",
    "version": 3
   },
   "file_extension": ".py",
   "mimetype": "text/x-python",
   "name": "python",
   "nbconvert_exporter": "python",
   "pygments_lexer": "ipython3",
   "version": "3.11.4"
  }
 },
 "nbformat": 4,
 "nbformat_minor": 5
}
