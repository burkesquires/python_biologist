{
 "cells": [
  {
   "cell_type": "markdown",
   "metadata": {
    "slideshow": {
     "slide_type": "slide"
    }
   },
   "source": [
    "# Introduction to Python Programming"
   ]
  },
  {
   "cell_type": "markdown",
   "metadata": {
    "slideshow": {
     "slide_type": "fragment"
    }
   },
   "source": [
    "<img align=left src=\"https://www.python.org/static/community_logos/python-logo-master-v3-TM.png\">"
   ]
  },
  {
   "cell_type": "markdown",
   "metadata": {},
   "source": [
    "This seminar is part of the __NIAID BCBB Python Programming for Biologist Series__. You can find materials for this and other no-cost seminars at the [NIAID Bioinformatics Portal](http://bioinformatics.niaid.nih.gov) or [my GitHub page](http://github.com/burkesquires/python_biologist)"
   ]
  },
  {
   "cell_type": "markdown",
   "metadata": {
    "slideshow": {
     "slide_type": "skip"
    }
   },
   "source": [
    "---"
   ]
  },
  {
   "cell_type": "markdown",
   "metadata": {},
   "source": [
    "## Learning Objectives"
   ]
  },
  {
   "cell_type": "markdown",
   "metadata": {
    "slideshow": {
     "slide_type": "slide"
    }
   },
   "source": [
    "- Enable you to recognize and code written in python programming language\n",
    "- Enable you to adapt python source code for your purpose\n",
    "- Enable you to run python code in three or more ways\n",
    "- Enable you to understand the advantages and disadvantages of using integrated development environments (IDE)\n",
    "- Prepare you for the remaining seminars"
   ]
  },
  {
   "cell_type": "markdown",
   "metadata": {},
   "source": [
    "---"
   ]
  },
  {
   "cell_type": "markdown",
   "metadata": {},
   "source": [
    "## Outline\n",
    "- Why learn python?\n",
    "- Learnign python by solving a task\n"
   ]
  },
  {
   "cell_type": "markdown",
   "metadata": {
    "slideshow": {
     "slide_type": "slide"
    }
   },
   "source": [
    "# Why Python?\n",
    "\n",
    "<img src=\"http://imgs.xkcd.com/comics/python.png\">"
   ]
  },
  {
   "cell_type": "markdown",
   "metadata": {
    "slideshow": {
     "slide_type": "skip"
    }
   },
   "source": [
    "---"
   ]
  },
  {
   "cell_type": "code",
   "execution_count": null,
   "metadata": {
    "slideshow": {
     "slide_type": "skip"
    }
   },
   "outputs": [],
   "source": [
    "import this"
   ]
  },
  {
   "cell_type": "markdown",
   "metadata": {
    "slideshow": {
     "slide_type": "skip"
    }
   },
   "source": [
    "---"
   ]
  },
  {
   "cell_type": "markdown",
   "metadata": {},
   "source": [
    "The \"Hello World\" program in four different programming languages\n",
    "\n",
    "C++\n",
    "```C++\n",
    "#include <iostream>\n",
    "int main()\n",
    "{\n",
    "    std::count << \"Hello World” << std::endl;\n",
    "    return 0;\n",
    "}\n",
    "```\n",
    "Java\n",
    "```Java\n",
    "public class HelloWorld { \n",
    "    public static void main (String[] args) {\n",
    "        System.out.println(\"Hello World!\"); \n",
    "    }\n",
    "}\n",
    "```\n",
    "Python\n",
    "```python\n",
    "print(“Hello World!”)\n",
    "```\n",
    "\n",
    "R\n",
    "```R\n",
    "print(\"Hello World!\", quote = FALSE)\n",
    "```"
   ]
  },
  {
   "cell_type": "markdown",
   "metadata": {},
   "source": [
    "## Why Learn Python?"
   ]
  },
  {
   "cell_type": "markdown",
   "metadata": {},
   "source": [
    "**Easy Syntax**\n",
    "Python's syntax is easy to learn, so both non-programmers and programmers can start programming right away.\n",
    "\n",
    "**Readability**\n",
    "Python's syntax is very clear, so it is easy to understand program code. Python is often referred to as \"executable pseudo-code\" because its syntax mostly follows the conventions used by programmers to outline their ideas without the formal verbosity of code in most programming languages.\n",
    "\n",
    "**High-Level Language**\n",
    "Python looks more like a readable, human language than like a low-level language. This gives you the ability to program at a faster rate than a low-level language will allow you.\n",
    "\n",
    "**Object oriented programming**\n",
    "Object-oriented programming allows you to create data structures that can be re-used, which reduces the amount of repetitive work that you'll need to do. Programming languages usually define objects with namespaces, like class or def, and objects can edit themselves by using keyword, like this or self. \n",
    "\n",
    "**It's Free**\n",
    "Python is both free and open-source. The Python Software Foundation distributes pre-made binaries that are freely available for use on all major operating systems called `CPython`. You can get CPython's source-code, too.\n",
    "\n",
    "**Cross-platform**\n",
    "Python runs on all major operating systems like Microsoft Windows, Linux, and Mac OS X. A version called [`micropython`](https://micropython.org/) also can run on microcontrollers, small single-board computers like the arduino and Raspberry Pi.\n",
    "\n",
    "**Easy installation**\n",
    "Python, and many of its most popular packages, especially for data science, are easily installable with the [Anaconda distribution](https://www.anaconda.com/download/)\n",
    "\n",
    "**Widely Supported**\n",
    "Python has an active support community with many web sites, mailing lists, and USENET \"netnews\" groups that attract a large number of knowledgeable and helpful contributes.\n",
    "\n",
    "**It's Safe**\n",
    "Python doesn't have pointers like other C-based languages, making it much more reliable. Along with that, errors never pass silently unless they're explicitly silenced. This allows you to see and read why the program crashed and where to correct your error.\n",
    "\n",
    "**Batteries Included**\n",
    "Python is famous for being the \"batteries are included\" language. There are over 300 standard library modules which contain modules and classes for a wide variety of programming tasks.\n",
    "\n",
    "**Extensible**\n",
    "In addition to the standard libraries there are extensive collections of freely available add-on modules, libraries, frameworks, and tool-kits. These generally conform to similar standards and conventions.\n",
    "\n",
    "Source: [wikiversity/python_concept](https://en.wikiversity.org/wiki/Python_Concepts/Why_learn_Python)"
   ]
  },
  {
   "cell_type": "markdown",
   "metadata": {},
   "source": [
    "## Popular Python Package - \"Scientific Python Stack\""
   ]
  },
  {
   "cell_type": "markdown",
   "metadata": {},
   "source": [
    "<img src=\"images/scientific_python_stack_2017.png\">"
   ]
  },
  {
   "cell_type": "markdown",
   "metadata": {},
   "source": [
    "- [Python](https://www.python.org/), a general purpose programming language. It is interpreted and dynamically typed and is very suited for interactive work and quick prototyping, while being powerful enough to write large applications in.\n",
    "- [NumPy](http://www.numpy.org/), the fundamental package for numerical computation. It defines the numerical array and matrix types and basic operations on them.\n",
    "- [SciPy](https://www.scipy.org/scipylib/index.html), a collection of numerical algorithms and domain-specific toolboxes, including signal processing, optimization, statistics and much more.\n",
    "- [Matplotlib](http://matplotlib.org/), a mature and popular plotting package, that provides publication-quality 2D plotting as well as rudimentary 3D plotting\n",
    "\n",
    "__Data and computation__:\n",
    "\n",
    "- [pandas](http://pandas.pydata.org/), providing high-performance, easy to use data structures.\n",
    "- [SymPy](http://www.sympy.org/), for symbolic mathematics and computer algebra.\n",
    "- [scikit-image](http://scikit-image.org/) is a collection of algorithms for image processing.\n",
    "- [scikit-learn](http://scikit-learn.org/) is a collection of algorithms and tools for machine learning.\n",
    "- [h5py](http://www.h5py.org/) and [PyTables](http://www.pytables.org/) can both access data stored in the HDF5 format.\n",
    "\n",
    "__Productivity and high-performance computing__:\n",
    "\n",
    "- [IPython](http://ipython.org/), a rich interactive interface, letting you quickly process data and test ideas.\n",
    "- [Jupyter](http://jupyter.org/) notebook provides IPython functionality and more in your web browser, allowing you to document your computation in an easily reproducible form.\n",
    "- [Cython](http://cython.org/) extends Python syntax so that you can conveniently build C extensions, either to speed up critical code, or to integrate with C/C++ libraries.\n",
    "- [Dramatiq](https://dramatiq.io), [Dask](https://dask.readthedocs.io/), [Joblib](https://joblib.readthedocs.io/) or [IPyParallel](https://ipyparallel.readthedocs.io/) for distributed processing with a focus on numeric data.\n",
    "\n",
    "__Quality assurance__:\n",
    "\n",
    "- [nose](https://nose.readthedocs.org/en/latest/), a framework for testing Python code, being phased out in preference for [pytest](https://docs.pytest.org/).\n",
    "- [numpydoc](https://github.com/numpy/numpydoc), a standard and library for documenting Scientific Python libraries.\n",
    "\n",
    "Bioinformatics\n",
    "- [biopythpn](https://www.biopython.org) - python bioinformatics / computational biology / molecular biolofy package\n",
    "- [bioconda](bioconda.org) - `conda` channel and repository of common `unix` bioinformaitcs software\n",
    "\n",
    "[Adapted from https://www.scipy.org/about.html]"
   ]
  },
  {
   "cell_type": "markdown",
   "metadata": {},
   "source": [
    "## Python IDEs"
   ]
  },
  {
   "cell_type": "markdown",
   "metadata": {},
   "source": [
    "We will be using the `Jupyter notebook` and `IPython` kernel in the semianr series, but there are a number other Python development environments. These include\n",
    "\n",
    "\n",
    "- [PyCharm](pycharm.com), Community and Pro editions\n",
    "- Spyder, included in hte Anaconda install\n",
    "- [Thorny - Python IDE for beginners](https://thonny.org/\n",
    "- many others"
   ]
  },
  {
   "cell_type": "markdown",
   "metadata": {},
   "source": [
    "---"
   ]
  },
  {
   "cell_type": "markdown",
   "metadata": {},
   "source": [
    "# Learning Python with an Example"
   ]
  },
  {
   "cell_type": "markdown",
   "metadata": {},
   "source": [
    "## Analyze a given data file"
   ]
  },
  {
   "cell_type": "markdown",
   "metadata": {},
   "source": [
    "Souce: http://www.gapminder.org/data/"
   ]
  },
  {
   "cell_type": "markdown",
   "metadata": {},
   "source": [
    "Lets use our command line / linux skills to view the data file we have been given. We added the data file to a new directory that is in the same parent directory of this filder. \n",
    "\n",
    "Remeber to get a list of the files in the curent folder using the Jupyter / IPython magic:"
   ]
  },
  {
   "cell_type": "markdown",
   "metadata": {},
   "source": [
    "    !ls -l <directory>"
   ]
  },
  {
   "cell_type": "code",
   "execution_count": null,
   "metadata": {},
   "outputs": [],
   "source": []
  },
  {
   "cell_type": "markdown",
   "metadata": {},
   "source": [
    "In the Windows OS you can use `!dir` to get the list."
   ]
  },
  {
   "cell_type": "markdown",
   "metadata": {},
   "source": [
    "Lets use some more magic to take a quick look at the data file:"
   ]
  },
  {
   "cell_type": "markdown",
   "metadata": {},
   "source": [
    "    !head ../data/gapminder.csv"
   ]
  },
  {
   "cell_type": "code",
   "execution_count": null,
   "metadata": {},
   "outputs": [],
   "source": []
  },
  {
   "cell_type": "markdown",
   "metadata": {},
   "source": [
    "What can we tell about our data file?"
   ]
  },
  {
   "cell_type": "markdown",
   "metadata": {},
   "source": [
    "---"
   ]
  },
  {
   "cell_type": "markdown",
   "metadata": {},
   "source": [
    "### Variables\n",
    "\n",
    "Create a new variable and use it to store the name of our file"
   ]
  },
  {
   "cell_type": "markdown",
   "metadata": {},
   "source": [
    "```python\n",
    "data_file = '../data/gapminder.csv'\n",
    "```"
   ]
  },
  {
   "cell_type": "code",
   "execution_count": null,
   "metadata": {},
   "outputs": [],
   "source": [
    "data_file = '../data/gapminder.csv'"
   ]
  },
  {
   "cell_type": "markdown",
   "metadata": {},
   "source": [
    "Lets' print the variable to make sure it has been stored:"
   ]
  },
  {
   "cell_type": "markdown",
   "metadata": {
    "slideshow": {
     "slide_type": "fragment"
    }
   },
   "source": [
    "```python\n",
    "print(data_file)\n",
    "```"
   ]
  },
  {
   "cell_type": "code",
   "execution_count": null,
   "metadata": {},
   "outputs": [],
   "source": []
  },
  {
   "cell_type": "markdown",
   "metadata": {},
   "source": [
    "**Side Notes**\n",
    "\n",
    "Python variables _MUST_ start with a letter but can have any combination of numbers or letters after that.\n",
    "\n",
    "[Python Style Guide: Function and Variable Names](https://www.python.org/dev/peps/pep-0008/#function-and-variable-names)\n",
    "> Function names should be lowercase, with words separated by underscores as necessary to improve readability.\n",
    "\n",
    "> Variable names follow the same convention as function names.\n",
    "\n",
    "> mixedCase is allowed only in contexts where that's already the prevailing style (e.g. threading.py), to retain backwards compatibility.\n",
    "\n",
    "We can also see many more examples of syntax in the [`Learn Python3 in Y Minutes`](https://learnxinyminutes.com/docs/python3/) website"
   ]
  },
  {
   "cell_type": "markdown",
   "metadata": {},
   "source": [
    "## Everything in Python is an Object!"
   ]
  },
  {
   "cell_type": "markdown",
   "metadata": {},
   "source": [
    "Everything in python is an object. Let's see what type of object our varaible is:"
   ]
  },
  {
   "cell_type": "markdown",
   "metadata": {},
   "source": [
    "```python\n",
    "type(data_file)\n",
    "```"
   ]
  },
  {
   "cell_type": "code",
   "execution_count": null,
   "metadata": {},
   "outputs": [],
   "source": []
  },
  {
   "cell_type": "markdown",
   "metadata": {
    "slideshow": {
     "slide_type": "fragment"
    }
   },
   "source": [
    "### Comments\n",
    "\n",
    "Anything after the pound sign (#) is ignored by the python interpreter; great for explaing what is going on in your code"
   ]
  },
  {
   "cell_type": "markdown",
   "metadata": {
    "slideshow": {
     "slide_type": "fragment"
    }
   },
   "source": [
    "```python\n",
    "# Single line comments start with a number symbol.\n",
    "\n",
    "\"\"\" Multiline strings can be written\n",
    "    using three \"s, and are often used\n",
    "    as documentation.\n",
    "\"\"\"\n",
    "\n",
    "type(data_file)\n",
    "```"
   ]
  },
  {
   "cell_type": "markdown",
   "metadata": {},
   "source": [
    "### File I/O\n"
   ]
  },
  {
   "cell_type": "markdown",
   "metadata": {},
   "source": [
    "Open a file, process its contents, and make sure to close it"
   ]
  },
  {
   "cell_type": "markdown",
   "metadata": {},
   "source": [
    "```python\n",
    "f = open(data_file)\n",
    "\n",
    "type(f)\n",
    "```"
   ]
  },
  {
   "cell_type": "code",
   "execution_count": null,
   "metadata": {},
   "outputs": [],
   "source": []
  },
  {
   "cell_type": "markdown",
   "metadata": {},
   "source": [
    "```python\n",
    "f = open(data_file)\n",
    "\n",
    "print(f.readline())\n",
    "```"
   ]
  },
  {
   "cell_type": "code",
   "execution_count": null,
   "metadata": {},
   "outputs": [],
   "source": []
  },
  {
   "cell_type": "markdown",
   "metadata": {},
   "source": [
    "A more \"pythonic\" way of using _open_ is to preced it using __with__\n",
    "\n",
    "```python\n",
    "with open(data_file) as f:\n",
    "\n",
    "print(f.readline())\n",
    "```"
   ]
  },
  {
   "cell_type": "code",
   "execution_count": null,
   "metadata": {},
   "outputs": [],
   "source": []
  },
  {
   "cell_type": "markdown",
   "metadata": {},
   "source": [
    "## \"Batteries Included\""
   ]
  },
  {
   "cell_type": "markdown",
   "metadata": {},
   "source": [
    "\"Batteries included\" referes to the large amount of functionality that is built within the [python standard library](https://docs.python.org/3/library/index.html)."
   ]
  },
  {
   "cell_type": "markdown",
   "metadata": {},
   "source": [
    "One example of a module from the python standard library is __csv__, which enables one to read and write csv files. Modules in the PS are already installed on your compuer BUT you do have to _import_ them before their first use ina  python script."
   ]
  },
  {
   "cell_type": "markdown",
   "metadata": {},
   "source": [
    "```python\n",
    "import csv\n",
    "```"
   ]
  },
  {
   "cell_type": "code",
   "execution_count": null,
   "metadata": {},
   "outputs": [],
   "source": []
  },
  {
   "cell_type": "markdown",
   "metadata": {},
   "source": [
    "Lets get some information on _csv_"
   ]
  },
  {
   "cell_type": "markdown",
   "metadata": {},
   "source": [
    "```python\n",
    "help(csv)\n",
    "```"
   ]
  },
  {
   "cell_type": "code",
   "execution_count": null,
   "metadata": {},
   "outputs": [],
   "source": []
  },
  {
   "cell_type": "markdown",
   "metadata": {},
   "source": [
    "```python\n",
    "# open a file, process its contents, and make sure to close it\n",
    "\n",
    "with open(data_file) as f:\n",
    "\n",
    "    reader = csv.reader(f)\n",
    "    \n",
    "    for row in reader:\n",
    "\n",
    "        print(row)\n",
    "```"
   ]
  },
  {
   "cell_type": "code",
   "execution_count": null,
   "metadata": {},
   "outputs": [],
   "source": []
  },
  {
   "cell_type": "markdown",
   "metadata": {},
   "source": [
    "We will use a package called pandas when we learn about data analysis but the csv module is useful here."
   ]
  },
  {
   "cell_type": "markdown",
   "metadata": {},
   "source": [
    "We could have read the file line-by-line and used the __split__ to split the string into elements.\n",
    "\n",
    "```python\n",
    "fields = line.split(“,”)\n",
    "```\n",
    "\n",
    "fields would be the equivelent of row."
   ]
  },
  {
   "cell_type": "markdown",
   "metadata": {},
   "source": [
    "```python\n",
    "# open a file, process its contents, and make sure to close it\n",
    "\n",
    "with open(data_file) as f:\n",
    "\n",
    "    reader = csv.reader(f)\n",
    "\n",
    "    for row in reader:\n",
    "\n",
    "        country = row[0]\n",
    "        continent = row[1]\n",
    "        year = row[2]\n",
    "        lifeExp = row[3]\n",
    "        pop = row[4]\n",
    "        gdpPercap = row[5]\n",
    "\n",
    "        print(country, continent, year, lifeExp, pop, gdpPercap)\n",
    "```"
   ]
  },
  {
   "cell_type": "code",
   "execution_count": null,
   "metadata": {},
   "outputs": [],
   "source": []
  },
  {
   "cell_type": "markdown",
   "metadata": {},
   "source": [
    "## Functions"
   ]
  },
  {
   "cell_type": "markdown",
   "metadata": {},
   "source": [
    "```python\n",
    "def extract_column_data(row):\n",
    "    \n",
    "    country = row[0]\n",
    "    continent = row[1]\n",
    "    year = row[2]\n",
    "    lifeExp = row[3]\n",
    "    pop = row[4]\n",
    "    gdpPercap = row[5]\n",
    "\n",
    "    return (country, continent, year, lifeExp, pop, gdpPercap)\n",
    "```"
   ]
  },
  {
   "cell_type": "code",
   "execution_count": null,
   "metadata": {},
   "outputs": [],
   "source": []
  },
  {
   "cell_type": "markdown",
   "metadata": {},
   "source": [
    "```python\n",
    "with open(data_file) as f:\n",
    "\n",
    "    reader = csv.reader(f)\n",
    "    \n",
    "    for row in reader:\n",
    "        \n",
    "        col_data = extract_column_data(row)\n",
    "\n",
    "        print(col_data)\n",
    "```"
   ]
  },
  {
   "cell_type": "code",
   "execution_count": null,
   "metadata": {},
   "outputs": [],
   "source": []
  },
  {
   "cell_type": "markdown",
   "metadata": {},
   "source": [
    "We can also set default arguments by assigning names and values:"
   ]
  },
  {
   "cell_type": "markdown",
   "metadata": {},
   "source": [
    "```python\n",
    "def extract_column_data(row, country_col=0, continent_col=1, year_col=3, pop_col=4, gdpPercap_col=5):\n",
    "    \n",
    "    country = row[country_col]\n",
    "    continent = row[continent_col]\n",
    "    year = row[year_col]\n",
    "    lifeExp = row[lifeExp]\n",
    "    pop = row[pop_col]\n",
    "    gdpPercap = row[gdpPercap_col]\n",
    "\n",
    "    return (country, continent, year, lifeExp, pop, gdpPercap)\n",
    "```"
   ]
  },
  {
   "cell_type": "code",
   "execution_count": null,
   "metadata": {},
   "outputs": [],
   "source": []
  },
  {
   "cell_type": "markdown",
   "metadata": {},
   "source": [
    "```python\n",
    "with open(data_file) as f:\n",
    "\n",
    "    reader = csv.reader(f)\n",
    "    \n",
    "    for row in reader:\n",
    "        \n",
    "        country, continent, year, lifeExp, pop, gdpPercap = extract_column_data(row)\n",
    "\n",
    "        print(country, continent, year, lifeExp, pop, gdpPercap)\n",
    "```"
   ]
  },
  {
   "cell_type": "code",
   "execution_count": null,
   "metadata": {},
   "outputs": [],
   "source": []
  },
  {
   "cell_type": "markdown",
   "metadata": {},
   "source": [
    "### More _pythonic_\n",
    "\n",
    "Let Python automatically unpack the values!"
   ]
  },
  {
   "cell_type": "markdown",
   "metadata": {},
   "source": [
    "```python\n",
    "# unpack all the variables on a single line\n",
    "\n",
    "with open(data_file) as f:\n",
    "\n",
    "    reader = csv.reader(f)\n",
    "    \n",
    "    for row in reader:\n",
    "\n",
    "        country, continent, year, lifeExp, pop, gdpPercap = row\n",
    "\n",
    "        print(country, continent, year, lifeExp, pop, gdpPercap)\n",
    "```"
   ]
  },
  {
   "cell_type": "markdown",
   "metadata": {},
   "source": [
    "[Python function guidance](https://jeffknupp.com/blog/2018/10/11/write-better-python-functions/)"
   ]
  },
  {
   "cell_type": "markdown",
   "metadata": {},
   "source": [
    "How do we store the data that we have?\n",
    "\n",
    "One way to do it is to save the data to a file as we extract it."
   ]
  },
  {
   "cell_type": "markdown",
   "metadata": {
    "slideshow": {
     "slide_type": "slide"
    }
   },
   "source": [
    "# Reading and Writing Files"
   ]
  },
  {
   "cell_type": "markdown",
   "metadata": {
    "slideshow": {
     "slide_type": "slide"
    }
   },
   "source": [
    "## Writing to a File"
   ]
  },
  {
   "cell_type": "markdown",
   "metadata": {},
   "source": [
    "We have to open a file for writing BEFORE we can write to it. We can use the relative path or we can also give an absolute path like `/Users/username/Documents/dna.txt`"
   ]
  },
  {
   "cell_type": "markdown",
   "metadata": {},
   "source": [
    "```python\n",
    "# create an output file\n",
    "output_file_handle = open(\"../data/gapminder_output.csv\", \"w\")\n",
    "\n",
    "# unpack all the variables on a single line\n",
    "\n",
    "with open(data_file) as f:\n",
    "\n",
    "    reader = csv.reader(f)\n",
    "    \n",
    "    for row in reader:\n",
    "\n",
    "        country, continent, year, lifeExp, pop, gdpPercap = row\n",
    "\n",
    "        output_file_handle.write('%s, %s, %s, %s, %s, %s\\n' % (country, continent, year, lifeExp, pop, gdpPercap))\n",
    "\n",
    "output_file_handle.close()\n",
    "```"
   ]
  },
  {
   "cell_type": "markdown",
   "metadata": {},
   "source": [
    "You can see what type of object, `output_file_handle`, is by using the `type` function.\n",
    "\n",
    "```python\n",
    "type(output_file_handle)\n",
    "```"
   ]
  },
  {
   "cell_type": "markdown",
   "metadata": {
    "slideshow": {
     "slide_type": "slide"
    }
   },
   "source": [
    "## Reading a file"
   ]
  },
  {
   "cell_type": "markdown",
   "metadata": {},
   "source": [
    "Lets se if we did in fact create a file..."
   ]
  },
  {
   "cell_type": "markdown",
   "metadata": {},
   "source": [
    "    !ls"
   ]
  },
  {
   "cell_type": "code",
   "execution_count": null,
   "metadata": {},
   "outputs": [],
   "source": []
  },
  {
   "cell_type": "markdown",
   "metadata": {},
   "source": [
    "    !cat ../data/gapminder_output.csv"
   ]
  },
  {
   "cell_type": "code",
   "execution_count": null,
   "metadata": {},
   "outputs": [],
   "source": []
  },
  {
   "cell_type": "markdown",
   "metadata": {
    "slideshow": {
     "slide_type": "fragment"
    }
   },
   "source": [
    "```python\n",
    "output_file_handle = open(\"../data/gapminder_output.csv\", \"r\")\n",
    "\n",
    "output_file_contents = output_file_handle.read()\n",
    "\n",
    "print(output_file_contents)\n",
    "\n",
    "# remember to close the file\n",
    "\n",
    "output_file_handle.close()\n",
    "```"
   ]
  },
  {
   "cell_type": "markdown",
   "metadata": {
    "slideshow": {
     "slide_type": "slide"
    }
   },
   "source": [
    "## Looping through File, Line by Line"
   ]
  },
  {
   "cell_type": "markdown",
   "metadata": {
    "slideshow": {
     "slide_type": "fragment"
    }
   },
   "source": [
    "In a new cell below type, and run:"
   ]
  },
  {
   "cell_type": "markdown",
   "metadata": {
    "slideshow": {
     "slide_type": "fragment"
    }
   },
   "source": [
    "```python\n",
    "file = open(\"../data/gapminder_output.csv\")\n",
    "\n",
    "for line in file:\n",
    "    \n",
    "    print(line)\n",
    "```"
   ]
  },
  {
   "cell_type": "markdown",
   "metadata": {
    "slideshow": {
     "slide_type": "slide"
    }
   },
   "source": [
    "## Lists"
   ]
  },
  {
   "cell_type": "markdown",
   "metadata": {},
   "source": [
    "```python\n",
    "country_list = []\n",
    "year_list = []\n",
    "lifeExp_list = []\n",
    "```"
   ]
  },
  {
   "cell_type": "markdown",
   "metadata": {},
   "source": [
    "```python\n",
    "with open(data_file) as f:\n",
    "\n",
    "    reader = csv.reader(f)\n",
    "    \n",
    "    for row in reader:\n",
    "        \n",
    "        country, continent, year, lifeExp, pop, gdpPercap = row\n",
    "\n",
    "        country_list.append(country)\n",
    "        \n",
    "        year_list.append(year)\n",
    "        \n",
    "        lifeExp_list.append(lifeExp)\n",
    "```"
   ]
  },
  {
   "cell_type": "markdown",
   "metadata": {},
   "source": [
    "```python\n",
    "len(country_list)\n",
    "```"
   ]
  },
  {
   "cell_type": "markdown",
   "metadata": {},
   "source": [
    "```python\n",
    "len(year_list)\n",
    "```"
   ]
  },
  {
   "cell_type": "markdown",
   "metadata": {},
   "source": [
    "```python\n",
    "len(lifeExp_list)\n",
    "```"
   ]
  },
  {
   "cell_type": "markdown",
   "metadata": {},
   "source": [
    "```python\n",
    "country_list[0]\n",
    "```"
   ]
  },
  {
   "cell_type": "markdown",
   "metadata": {},
   "source": [
    "So we have lists of samples, generations and mutations values. We we just plot this? No...\n",
    "\n",
    "Lets see what are the unique values of sample list:"
   ]
  },
  {
   "cell_type": "markdown",
   "metadata": {},
   "source": [
    "```python\n",
    "set(country_list)\n",
    "```"
   ]
  },
  {
   "cell_type": "markdown",
   "metadata": {},
   "source": [
    "Remember that in our graph we want to plot out each sample as a separate line."
   ]
  },
  {
   "cell_type": "markdown",
   "metadata": {},
   "source": [
    "So we need to save each set of sample data to a new list."
   ]
  },
  {
   "cell_type": "markdown",
   "metadata": {},
   "source": [
    "## Conditionals"
   ]
  },
  {
   "cell_type": "markdown",
   "metadata": {},
   "source": [
    "Remember what the code looked like before:"
   ]
  },
  {
   "cell_type": "markdown",
   "metadata": {},
   "source": [
    "```python\n",
    "with open(data_file) as f:\n",
    "\n",
    "        reader = csv.reader(f)\n",
    "\n",
    "        for row in reader:\n",
    "\n",
    "            country, continent, year, lifeExp, pop, gdpPercap = row\n",
    "\n",
    "            country_list.append(country)\n",
    "\n",
    "            year_list.append(year)\n",
    "\n",
    "            lifeExp_list.append(lifeExp)\n",
    "```"
   ]
  },
  {
   "cell_type": "markdown",
   "metadata": {},
   "source": [
    "```python\n",
    "with open(data_file) as f:\n",
    "\n",
    "        reader = csv.reader(f)\n",
    "\n",
    "        for row in reader:\n",
    "\n",
    "            country, continent, year, lifeExp, pop, gdpPercap = row\n",
    "\n",
    "            if country == 'United States':\n",
    "\n",
    "                country_list.append(country)\n",
    "\n",
    "                year_list.append(year)\n",
    "\n",
    "                lifeExp_list.append(lifeExp)\n",
    "```"
   ]
  },
  {
   "cell_type": "markdown",
   "metadata": {
    "slideshow": {
     "slide_type": "slide"
    }
   },
   "source": [
    "# Dictionaries"
   ]
  },
  {
   "cell_type": "markdown",
   "metadata": {},
   "source": [
    "```python\n",
    "from collections import defaultdict    \n",
    "    \n",
    "gap_dict = defaultdict(list)\n",
    "\n",
    "with open(data_file) as f:\n",
    "\n",
    "    reader = csv.reader(f)\n",
    "    \n",
    "    next(reader) # skip the header line\n",
    "    \n",
    "    for row in reader:\n",
    "        \n",
    "        country, continent, year, lifeExp, pop, gdpPercap = row\n",
    "\n",
    "        country_year = \"%s-%s\" % (country, year)\n",
    "        \n",
    "        gap_dict[country].append([year, lifeExp])\n",
    "```"
   ]
  },
  {
   "cell_type": "markdown",
   "metadata": {},
   "source": [
    "```python\n",
    "gap_dict\n",
    "```"
   ]
  },
  {
   "cell_type": "markdown",
   "metadata": {},
   "source": [
    "```python\n",
    "# tuples\n",
    "\n",
    "nucleotides = ('A', 'T', 'C', 'G');\n",
    "\n",
    "years = (2000, 2001, 2002)\n",
    "\n",
    "countries  = ('United States', 'South Africa');\n",
    "```"
   ]
  },
  {
   "cell_type": "markdown",
   "metadata": {},
   "source": [
    "```python\n",
    "import numpy as np\n",
    "import matplotlib.pyplot as plt\n",
    "    \n",
    "for country in countries:\n",
    "    \n",
    "    data_list = gap_dict[country]\n",
    "\n",
    "    x, y = zip(*data_list)\n",
    "\n",
    "    plt.scatter(x, y)\n",
    "\n",
    "    plt.plot(x, y, '-o')\n",
    "\n",
    "plt.show()\n",
    "```"
   ]
  },
  {
   "cell_type": "markdown",
   "metadata": {},
   "source": [
    "To see examples of possible plots and code check out the gallery at the matplotlib [website](http://matplotlib.org/gallery.html)"
   ]
  },
  {
   "cell_type": "markdown",
   "metadata": {},
   "source": [
    "## Additional Dictionary example"
   ]
  },
  {
   "cell_type": "markdown",
   "metadata": {
    "slideshow": {
     "slide_type": "slide"
    }
   },
   "source": [
    "```python\n",
    "dna = \"AATGATCGATCGTACGCTGAAATGATCGATCGTACGCTGAAATGATCGATCGTACGCTGAAATGATCGATCGTACGCTGAAATGATCGATCGTACGCTGA\"\n",
    "\n",
    "counts = {}\n",
    "\n",
    "for base1 in ['A', 'T', 'G', 'C']:\n",
    "    for base2 in ['A', 'T', 'G', 'C']:\n",
    "        for base3 in ['A', 'T', 'G', 'C']:\n",
    "            trinucleotide = base1 + base2 + base3\n",
    "            count = dna.count(trinucleotide)\n",
    "            counts[trinucleotide] = count\n",
    "            \n",
    "print(counts)\n",
    "```"
   ]
  },
  {
   "cell_type": "markdown",
   "metadata": {
    "slideshow": {
     "slide_type": "skip"
    }
   },
   "source": [
    "---"
   ]
  },
  {
   "cell_type": "markdown",
   "metadata": {
    "slideshow": {
     "slide_type": "slide"
    }
   },
   "source": [
    "# Regular Expressions"
   ]
  },
  {
   "cell_type": "markdown",
   "metadata": {
    "slideshow": {
     "slide_type": "slide"
    }
   },
   "source": [
    "## Patterns in Biology"
   ]
  },
  {
   "cell_type": "markdown",
   "metadata": {
    "slideshow": {
     "slide_type": "fragment"
    }
   },
   "source": [
    "There are a lot of patterns in biology:\n",
    "\n",
    "- protein domains\n",
    "- DNA transcription factor binding motifs\n",
    "- restriction enzyme cut sites\n",
    "- runs of mononucleotides\n",
    "\n",
    "Many problems that we want to solve that require more flexible patterns:\n",
    "\n",
    "- Given a DNA sequence, what's the length of the poly-A tail?\n",
    "- Given a gene accession name, extract the part between the third character and the underscore\n",
    "- Given a protein sequence, determine if it contains this highly-redundant domain motif"
   ]
  },
  {
   "cell_type": "markdown",
   "metadata": {
    "slideshow": {
     "slide_type": "slide"
    }
   },
   "source": [
    "## Regular expression module"
   ]
  },
  {
   "cell_type": "markdown",
   "metadata": {
    "slideshow": {
     "slide_type": "fragment"
    }
   },
   "source": [
    "To search for these patterns, we use the regular expression module “re”. \n",
    "\n",
    "```python\n",
    "re.search(pattern, string)\n",
    "```"
   ]
  },
  {
   "cell_type": "markdown",
   "metadata": {
    "slideshow": {
     "slide_type": "fragment"
    }
   },
   "source": [
    "```python\n",
    "import re\n",
    "import numpy as np\n",
    "```"
   ]
  },
  {
   "cell_type": "code",
   "execution_count": null,
   "metadata": {},
   "outputs": [],
   "source": []
  },
  {
   "cell_type": "markdown",
   "metadata": {
    "slideshow": {
     "slide_type": "fragment"
    }
   },
   "source": [
    "```python\n",
    "dna = \"ATCGCGAATTCAC\"\n",
    "\n",
    "if re.search(r\"GAATTC\", dna):\n",
    "    print(\"restriction site found!\")\n",
    "```"
   ]
  },
  {
   "cell_type": "code",
   "execution_count": null,
   "metadata": {},
   "outputs": [],
   "source": []
  },
  {
   "cell_type": "markdown",
   "metadata": {
    "slideshow": {
     "slide_type": "fragment"
    }
   },
   "source": [
    "```python\n",
    "if re.search(r\"GC(A|T|G|C)AA\", dna):\n",
    "    print(\"restriction site found!\")\n",
    "```"
   ]
  },
  {
   "cell_type": "code",
   "execution_count": null,
   "metadata": {},
   "outputs": [],
   "source": []
  },
  {
   "cell_type": "markdown",
   "metadata": {
    "slideshow": {
     "slide_type": "fragment"
    }
   },
   "source": [
    "```python\n",
    "dna = \"ATCGCA\"\n",
    "if re.search(r\"GC[ATGC]+\", dna):\n",
    "    print(\"restriction site found!\")\n",
    "```"
   ]
  },
  {
   "cell_type": "code",
   "execution_count": null,
   "metadata": {},
   "outputs": [],
   "source": []
  },
  {
   "cell_type": "markdown",
   "metadata": {
    "slideshow": {
     "slide_type": "slide"
    }
   },
   "source": [
    "## Get String and Position of Match"
   ]
  },
  {
   "cell_type": "markdown",
   "metadata": {
    "slideshow": {
     "slide_type": "fragment"
    }
   },
   "source": [
    "Get the string that matched\n",
    "\n",
    "In a new cell below type, and run:"
   ]
  },
  {
   "cell_type": "markdown",
   "metadata": {
    "slideshow": {
     "slide_type": "fragment"
    }
   },
   "source": [
    "```python\n",
    "dna = \"ATGAATAACGTACGTACGACTG\"\n",
    "\n",
    "# store the match object in the variable m\n",
    "\n",
    "m = re.search(r\"GA([AT]{3})AC([ATGC]{2})AC\", dna)\n",
    "\n",
    "print(\"entire match: \" + m.group())\n",
    "\n",
    "print(\"first bit: \" + m.group(1))\n",
    "\n",
    "print(\"second bit: \" + m.group(2))\n",
    "```"
   ]
  },
  {
   "cell_type": "code",
   "execution_count": null,
   "metadata": {},
   "outputs": [],
   "source": []
  },
  {
   "cell_type": "markdown",
   "metadata": {
    "slideshow": {
     "slide_type": "fragment"
    }
   },
   "source": [
    "Get the positions of the match"
   ]
  },
  {
   "cell_type": "markdown",
   "metadata": {
    "slideshow": {
     "slide_type": "fragment"
    }
   },
   "source": [
    "```python\n",
    "print(\"start: \" + str(m.start()))\n",
    "\n",
    "print(\"end: \" + str(m.end()))\n",
    "```"
   ]
  },
  {
   "cell_type": "code",
   "execution_count": null,
   "metadata": {},
   "outputs": [],
   "source": []
  },
  {
   "cell_type": "markdown",
   "metadata": {
    "slideshow": {
     "slide_type": "skip"
    }
   },
   "source": [
    "```python\n",
    "import re\n",
    "m = re.search(\"[ATGC]\", 'ATCG')\n",
    "re?\n",
    "```"
   ]
  },
  {
   "cell_type": "code",
   "execution_count": null,
   "metadata": {},
   "outputs": [],
   "source": []
  },
  {
   "cell_type": "markdown",
   "metadata": {
    "slideshow": {
     "slide_type": "slide"
    }
   },
   "source": [
    "# Files, Programs, & User Input"
   ]
  },
  {
   "cell_type": "markdown",
   "metadata": {
    "slideshow": {
     "slide_type": "slide"
    }
   },
   "source": [
    "## Basic File Manipulation"
   ]
  },
  {
   "cell_type": "markdown",
   "metadata": {
    "slideshow": {
     "slide_type": "fragment"
    }
   },
   "source": [
    "Rename a file\n",
    "\n",
    "In a new cell below type, and run:\n",
    "\n",
    "```python\n",
    "import os\n",
    "\n",
    "os.rename(\"old.txt\", \"new.txt\")\n",
    "```\n",
    "\n",
    "Rename a folder\n",
    "\n",
    "```python\n",
    "os.rename(\"/home/martin/old_folder\", \"/home/martin/new_folder\")\n",
    "```\n",
    "\n",
    "Check to see if a file exists\n",
    "\n",
    "```python\n",
    "if os.path.exists(\"/home/martin/email.txt\"):\n",
    "    print(\"You have mail!\")\n",
    "```"
   ]
  },
  {
   "cell_type": "markdown",
   "metadata": {},
   "source": [
    "```python\n",
    "import os\n",
    "```"
   ]
  },
  {
   "cell_type": "code",
   "execution_count": null,
   "metadata": {},
   "outputs": [],
   "source": []
  },
  {
   "cell_type": "markdown",
   "metadata": {
    "slideshow": {
     "slide_type": "fragment"
    }
   },
   "source": [
    "Remove a file\n",
    "\n",
    "```python\n",
    "os.remove(\"/home/martin/unwanted_file.txt\")\n",
    "\n",
    "```\n",
    "Remove empty folder\n",
    "\n",
    "```python\n",
    "os.rmdir(\"/home/martin/emtpy\")\n",
    "```\n",
    "\n",
    "\n",
    "To delete a folder and all the files in it, use shutil.rmtree\n",
    "\n",
    "```python\n",
    "from shutil import rmtree\n",
    "\n",
    "    shutil.rmtree(\"home/martin/full\")\n",
    "```"
   ]
  },
  {
   "cell_type": "markdown",
   "metadata": {
    "slideshow": {
     "slide_type": "slide"
    }
   },
   "source": [
    "## Running External Programs"
   ]
  },
  {
   "cell_type": "markdown",
   "metadata": {
    "slideshow": {
     "slide_type": "fragment"
    }
   },
   "source": [
    "Run an external program\n",
    "\n",
    "In a new cell below type, and run:\n",
    "    \n",
    "```python\n",
    "import subprocess\n",
    "\n",
    "    subprocess.call(\"/bin/date\")\n",
    "\n",
    "```\n",
    "\n",
    "Run an external program with options\n",
    "\n",
    "```python\n",
    "subprocess.call(\"/bin/date +%B\", shell=True)\n",
    "```\n",
    "\n",
    "\n",
    "Saving program output\n",
    "\n",
    "```python\n",
    "current_month = subprocess.check_output(\"/bin/date +%B\", shell=True)\n",
    "```"
   ]
  },
  {
   "cell_type": "markdown",
   "metadata": {
    "slideshow": {
     "slide_type": "slide"
    }
   },
   "source": [
    "Now using IPython magic:"
   ]
  },
  {
   "cell_type": "code",
   "execution_count": null,
   "metadata": {
    "slideshow": {
     "slide_type": "fragment"
    }
   },
   "outputs": [],
   "source": [
    "!date"
   ]
  },
  {
   "cell_type": "markdown",
   "metadata": {
    "slideshow": {
     "slide_type": "slide"
    }
   },
   "source": [
    "## User Input"
   ]
  },
  {
   "cell_type": "markdown",
   "metadata": {
    "slideshow": {
     "slide_type": "fragment"
    }
   },
   "source": [
    "Interactive user input\n",
    "\n",
    "In a new cell below type, and run:\n",
    "\n",
    "```python\n",
    "accession = input(\"Enter the accession name\")\n",
    "\n",
    "```\n",
    "        # do something with the accession variable\n",
    "\n",
    "Capture command line arguments\n",
    "\n",
    "```python\n",
    "import sys\n",
    "\n",
    "    print(sys.argv)\n",
    "\n",
    "    # python myprogram.py one two three\n",
    "\n",
    "    # sys.argv[1] return script name\n",
    "```"
   ]
  },
  {
   "cell_type": "markdown",
   "metadata": {
    "slideshow": {
     "slide_type": "skip"
    }
   },
   "source": [
    "---"
   ]
  },
  {
   "cell_type": "markdown",
   "metadata": {
    "slideshow": {
     "slide_type": "slide"
    }
   },
   "source": [
    "# To conclude…"
   ]
  },
  {
   "cell_type": "markdown",
   "metadata": {},
   "source": [
    "## Learning Objectives"
   ]
  },
  {
   "cell_type": "markdown",
   "metadata": {
    "slideshow": {
     "slide_type": "slide"
    }
   },
   "source": [
    "- Enable you to recognize and code written in python programming language\n",
    "- Enable you to adapt python source code for your purpose\n",
    "- Enable you to run python code in three or more ways\n",
    "- Enable you to understand the advantages and disadvantages of using integrated development environments (IDE)\n",
    "- Prepare you for the remaining seminars"
   ]
  },
  {
   "cell_type": "markdown",
   "metadata": {
    "slideshow": {
     "slide_type": "skip"
    }
   },
   "source": [
    "---"
   ]
  },
  {
   "cell_type": "markdown",
   "metadata": {
    "slideshow": {
     "slide_type": "slide"
    }
   },
   "source": [
    "# Resources"
   ]
  },
  {
   "cell_type": "markdown",
   "metadata": {
    "slideshow": {
     "slide_type": "fragment"
    }
   },
   "source": [
    "Official Documentation\n",
    "\n",
    "* [The Python Official Docs](http://docs.python.org/3/)\n",
    "* [Official Style Guide for Python](https://www.python.org/dev/peps/pep-0008/)\n",
    "\n",
    "Awesome Python\n",
    "* [A curated list of awesome Python frameworks, libraries and software](https://github.com/vinta/awesome-python)\n",
    "\n",
    "Training Resources\n",
    "\n",
    "* [A Crash Course in Python for Scientists](http://nbviewer.jupyter.org/gist/anonymous/5924718)\n",
    "* [First Steps With Python](https://realpython.com/learn/python-first-steps/)\n",
    "- http://interactivepython.org/runestone/default/user/login\n",
    "- http://www.pythonforbeginners.com\n",
    "- http://www.pythontutor.com/visualize.html#mode=display\n",
    "- https://groklearning.com\n",
    "- https://www.pythonanywhere.com/\n",
    "* [Hitchhiker's Guide to Python](http://docs.python-guide.org/en/latest/)\n",
    "* [Python 3 Computer Science Circles](http://cscircles.cemc.uwaterloo.ca/)\n",
    "* [Dive Into Python 3](http://www.diveintopython3.net/index.html)\n",
    "* [Python Course](http://www.python-course.eu/index.php)\n",
    "* [30 Python Language Features and Tricks You May Not Know About](http://sahandsaba.com/thirty-python-language-features-and-tricks-you-may-not-know.html)\n",
    "\n",
    "\n",
    "Free eBook in HTML / PDF\n",
    "\n",
    "* [Automate the Boring Stuff with Python](https://automatetheboringstuff.com)\n",
    "- [Python for Everybody: Exploring Data In Python 3 (free ebook)](https://www.pythonlearn.com/book.php)\n",
    "- [How to Think Like A Computer Scientist (free ebook)](http://www.greenteapress.com/thinkpython/)\n",
    "- [Python for Biologists](http://pythonforbiologists.com)\n",
    "- [PyData 101 talk](https://speakerdeck.com/jakevdp/pydata-101)\n",
    "- http://interactivepython.org/runestone/default/user/login\n",
    "- http://openbookproject.net/books/bpp4awd/index.html\n",
    "\n",
    "\n",
    "Python Regular Expressions (pattern matching)\n",
    "\n",
    "- http://www.pyregex.com\n",
    "- http://pythex.org\n",
    "\n",
    "\n",
    "Python CheatSheets\n",
    "\n",
    "- https://www.pythonsheets.com\n",
    "\n",
    "Project Ideas\n",
    "\n",
    "* [Ideas for Python Projects](http://pythonpracticeprojects.com)\n",
    "\n",
    "Python Developer Survey\n",
    "\n",
    "- https://www.jetbrains.com/research/python-developers-survey-2017/\n",
    "\n",
    "Video\n",
    "\n",
    "- [PyVideo.org](https://pyvideo.org/)"
   ]
  },
  {
   "cell_type": "markdown",
   "metadata": {
    "slideshow": {
     "slide_type": "skip"
    }
   },
   "source": [
    "---"
   ]
  },
  {
   "cell_type": "markdown",
   "metadata": {
    "slideshow": {
     "slide_type": "slide"
    }
   },
   "source": [
    "# Q & A"
   ]
  },
  {
   "cell_type": "markdown",
   "metadata": {
    "slideshow": {
     "slide_type": "fragment"
    }
   },
   "source": [
    "Collaborations welcome\n",
    "\n",
    "R. Burke Squires - richard dot squires at nih dot gov\n",
    "\n",
    "or\n",
    "\n",
    "ScienceApps at niaid.nih.gov"
   ]
  },
  {
   "cell_type": "code",
   "execution_count": null,
   "metadata": {},
   "outputs": [],
   "source": []
  }
 ],
 "metadata": {
  "anaconda-cloud": {},
  "gist_id": "cedf51e5d24af8694bfe",
  "kernelspec": {
   "display_name": "Python 3 (ipykernel)",
   "language": "python",
   "name": "python3"
  },
  "language_info": {
   "codemirror_mode": {
    "name": "ipython",
    "version": 3
   },
   "file_extension": ".py",
   "mimetype": "text/x-python",
   "name": "python",
   "nbconvert_exporter": "python",
   "pygments_lexer": "ipython3",
   "version": "3.9.12"
  }
 },
 "nbformat": 4,
 "nbformat_minor": 4
}
