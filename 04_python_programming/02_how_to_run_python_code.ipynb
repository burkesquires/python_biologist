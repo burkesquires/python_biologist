{
 "cells": [
  {
   "cell_type": "markdown",
   "metadata": {
    "slideshow": {
     "slide_type": "fragment"
    }
   },
   "source": [
    "<img align=left src=\"https://www.python.org/static/community_logos/python-logo-master-v3-TM.png\">"
   ]
  },
  {
   "cell_type": "markdown",
   "metadata": {},
   "source": [
    "---\n",
    "- Author: R. Burke Squires\n",
    "- This presentation is part of the [__Scientific Python Training Series__](https://github.com/burkesquires/scientific_python_training).\n",
    "---"
   ]
  },
  {
   "cell_type": "markdown",
   "metadata": {
    "slideshow": {
     "slide_type": "slide"
    }
   },
   "source": [
    "# How to Run a Python Program:\n",
    "\n",
    "1. Within an __interpreter__\n",
    "    1. The `python` interpreter\n",
    "    1. The `IPython` interpreter\n",
    "1. Execute a __python file (.py)__ with an interpreter\n",
    "1. Using the __Jupyter Notebook__\n",
    "1. Use an Integrated Development Environment (__IDE__)\n",
    "    1. PyCharm\n",
    "    1. Spyder\n",
    "    1. Visual Studio Code\n",
    "\n",
    "Bonus: In the cloud"
   ]
  },
  {
   "cell_type": "markdown",
   "metadata": {},
   "source": [
    "---"
   ]
  },
  {
   "cell_type": "markdown",
   "metadata": {
    "slideshow": {
     "slide_type": "fragment"
    }
   },
   "source": [
    "# 1. Run python commands within a `python` interpreter"
   ]
  },
  {
   "cell_type": "markdown",
   "metadata": {
    "slideshow": {
     "slide_type": "fragment"
    }
   },
   "source": [
    "### Running python code within the standard `python` interpreter "
   ]
  },
  {
   "cell_type": "markdown",
   "metadata": {
    "slideshow": {
     "slide_type": "fragment"
    }
   },
   "source": [
    "This is _usually_ done with short code snippets for testing or to run a small program. We will see why shortly.\n",
    "\n",
    "1.1. Open a terminal emulator:\n",
    "    1. _Terminal (Mac)_ or \n",
    "    1. _Command Prompt (Windows)_\n",
    "\n",
    "1.2. Start the `python` interpreter by typing __python__ in your _Terminal_ or _Command Prompt_ and hit __Enter__.\n",
    "```python\n",
    "$ python\n",
    "```\n",
    "You should see something that looks like this:\n",
    "```python\n",
    "Python 3.9.12 (main, Jun  1 2022, 06:36:29) \n",
    "[Clang 12.0.0 ] :: Anaconda, Inc. on darwin\n",
    "Type \"help\", \"copyright\", \"credits\" or \"license\" for more information.\n",
    ">>> \n",
    "```"
   ]
  },
  {
   "cell_type": "markdown",
   "metadata": {
    "slideshow": {
     "slide_type": "fragment"
    }
   },
   "source": [
    "1.3. Type\n",
    "```python\n",
    "print(\"Hello World\")\n",
    "```    \n",
    "    and hit __Enter__. What do you see? \n",
    "1.4. Type __exit()__ to exit"
   ]
  },
  {
   "cell_type": "markdown",
   "metadata": {
    "slideshow": {
     "slide_type": "fragment"
    }
   },
   "source": [
    "### Run python commands within the _IPython_ interpreter"
   ]
  },
  {
   "cell_type": "markdown",
   "metadata": {
    "slideshow": {
     "slide_type": "fragment"
    }
   },
   "source": [
    "1. You can also try this with the __IPython__ interpreter by typing __ipython__ and hitting __Enter__. You will see soemthing like this:\n",
    "\n",
    "```python\n",
    "$ ipython\n",
    "Python 3.9.12 (main, Jun  1 2022, 06:36:29) \n",
    "Type 'copyright', 'credits' or 'license' for more information\n",
    "IPython 8.4.0 -- An enhanced Interactive Python. Type '?' for help.\n",
    "\n",
    "In [1]:  \n",
    "```     \n",
    "1. Type __quit()__ to exit"
   ]
  },
  {
   "cell_type": "markdown",
   "metadata": {},
   "source": [
    "---"
   ]
  },
  {
   "cell_type": "markdown",
   "metadata": {
    "slideshow": {
     "slide_type": "slide"
    }
   },
   "source": [
    "# Running a `Python` File (.py) Through a `Python` Interpreter"
   ]
  },
  {
   "cell_type": "markdown",
   "metadata": {},
   "source": [
    "To create a python file, also known as a source code file, we will need to use a program called a __text editor__. A text editor enables you to write text but without any formatting or overhead that a traditional word processor program, such as Mirosoft Word, requires.\n",
    "\n",
    "Popular Text editors:\n",
    "\n",
    "__Mac__:\n",
    "- Built-in\n",
    "    - `TextEdit` (If you want to use `TextEdit` need to change defualt format from _rtf_ to _txt_ in Preferences, close and reopen to use)\n",
    "    - `nano` / `emacs` / `vi` (in the Terminal)\n",
    "- Open source:\n",
    "    - [`Atom`](https://atom.io)\n",
    "- Commercial (but try before you buy)\n",
    "    - [`BBEdit`](bbedit.com)\n",
    "    - [`Sublime Text`](https://www.sublimetext.com)\n",
    "\n",
    "__Windows__:\n",
    "- Built-in\n",
    "    - `NotePad` (included with OS)\n",
    "- Open source:\n",
    "    - [`Atom`](https://atom.io)\n",
    "    - [`Notepad++`](https://notepad-plus-plus.org/)\n",
    "\n",
    "__Linux__ (command line):\n",
    "- Built-in\n",
    "    - `nano` /`emacs` / `vi`\n"
   ]
  },
  {
   "cell_type": "markdown",
   "metadata": {},
   "source": [
    "### Making your first source code file:"
   ]
  },
  {
   "cell_type": "markdown",
   "metadata": {
    "slideshow": {
     "slide_type": "fragment"
    }
   },
   "source": [
    "1. Open a text editor and type:\n",
    "```python\n",
    "print(‘hello world’)\n",
    "```\n",
    "1. Save the file as as text file \"hello_world.py\" \n",
    "\n",
    "    - __Note__: Make sure there is not an extra extension on the end of the file, such as \".txt\"\n",
    "    \n",
    "1. To run the script, in the Terminal (or DOS prompt) type:\n",
    "```python\n",
    "$ python hello_world.py\n",
    "```\n",
    "1. Hit `return`.\n",
    "\n",
    "You should see:\n",
    "```python\n",
    "hello world\n",
    "```"
   ]
  },
  {
   "cell_type": "markdown",
   "metadata": {},
   "source": [
    "---"
   ]
  },
  {
   "cell_type": "markdown",
   "metadata": {
    "slideshow": {
     "slide_type": "slide"
    }
   },
   "source": [
    "# 3. Using the Jupyter Notebook"
   ]
  },
  {
   "cell_type": "markdown",
   "metadata": {},
   "source": [
    "The third way to run `python` code is through a `Jupyter Notebook` such as this. This assumes that you have a `python` kernel installed and running with hte `Jupyter Notebook`, which is the usualy way to run a `Jupyter Notebook`, especially if you installed the `Anaconda Python/R distribution`."
   ]
  },
  {
   "cell_type": "markdown",
   "metadata": {},
   "source": [
    "To run code in a `Jupyter Notebook`, insert a `code` _cell_:\n",
    "1. Click once on _this cell_ to select it, then\n",
    "1. Click on the __+__ button above.\n",
    "\n",
    "To run code in a `code` cell:\n",
    "1. Click in the new `code` cell below\n",
    "1. Type in the `python` code:\n",
    "```python\n",
    "print(\"Hello world\")\n",
    "```\n",
    "1. Click the `Run` button above."
   ]
  },
  {
   "cell_type": "markdown",
   "metadata": {
    "slideshow": {
     "slide_type": "skip"
    }
   },
   "source": [
    "---"
   ]
  },
  {
   "cell_type": "markdown",
   "metadata": {
    "slideshow": {
     "slide_type": "slide"
    }
   },
   "source": [
    "# 4. Use an Integrated Development Environment (IDE)"
   ]
  },
  {
   "cell_type": "markdown",
   "metadata": {
    "slideshow": {
     "slide_type": "slide"
    }
   },
   "source": [
    "Integrated development environments or IDEs for short, as the name implies, offer an intreface that _integrates_ a text editor with a file browser, windows to display variable values, help, and a number of features that enhance the development of `python` programs.\n",
    "\n",
    "There are many `python` IDEs, you can see a list [here](https://wiki.python.org/moin/IntegratedDevelopmentEnvironments) and [here](https://en.wikipedia.org/wiki/Comparison_of_integrated_development_environments#Python). If you would like to learn more about IDEs, see RealPython's \"[Python IDEs and Code Editors (Guide)](https://realpython.com/python-ides-code-editors-guide/)\"."
   ]
  },
  {
   "cell_type": "markdown",
   "metadata": {
    "slideshow": {
     "slide_type": "slide"
    }
   },
   "source": [
    "#### [__PyCharm__](http://www.jetbrains.com/pycharm/)\n",
    "\n",
    "- Code completion, on-the-fly error highlighting, auto-fixes, etc.\n",
    "- Automated code refactorings and rich navigation capabilities\n",
    "- Integrated debugger and unit testing support\n",
    "- Native version control system (VCS) integrations\n",
    "- Customizable UI and key-bindings, with VIM emulation available\n",
    "- Free Community edition\n",
    "- Now support Jupyter Notebook editing and running.\n",
    "\n",
    "<img src=\"https://www.jetbrains.com/pycharm/img/screenshots/complexLook@2x.jpg\" width=\"600\">"
   ]
  },
  {
   "cell_type": "markdown",
   "metadata": {
    "slideshow": {
     "slide_type": "fragment"
    }
   },
   "source": [
    "#### [Spyder](http://code.google.com/p/spyderlib/)\n",
    "- Installed as part of Anaconda distribution\n",
    "- Many of the same features as PyCharm\n",
    "\n",
    "<img src=\"https://github.com/spyder-ide/spyder/blob/master/img_src/screenshot.png?raw=true\" width=\"600\">"
   ]
  },
  {
   "cell_type": "markdown",
   "metadata": {},
   "source": [
    "#### [Visual Studio Code](https://code.visualstudio.com)\n",
    "\n",
    "You can see an overview of VS Code with `python` support [here](https://code.visualstudio.com/docs/languages/python).\n",
    "\n",
    "<img src=\"https://code.visualstudio.com/assets/docs/python/tutorial/debug-step-01.png\" width=\"600\">\n"
   ]
  },
  {
   "cell_type": "markdown",
   "metadata": {
    "slideshow": {
     "slide_type": "skip"
    }
   },
   "source": [
    "---"
   ]
  },
  {
   "cell_type": "markdown",
   "metadata": {
    "slideshow": {
     "slide_type": "slide"
    }
   },
   "source": [
    "#### You can also run Python in the Cloud\n",
    "\n",
    "- [Python Anywhere](https://www.pythonanywhere.com)\n",
    "- [Online Python](https://www.online-python.com)\n",
    "- [Python Fiddle: Python Cloud IDE](http://pythonfiddle.com)\n",
    "\n",
    "- Google's [Colaboratory](https://colab.research.google.com) enables you to write and run python code in a hosted Jupyter notebook\n",
    "\n",
    "See also: https://wiki.python.org/moin/FreeHosts"
   ]
  },
  {
   "cell_type": "markdown",
   "metadata": {},
   "source": [
    "### Python in the Browser\n",
    "\n",
    "- https://pyscript.net\n",
    "- https://realpython.com/pyscript-python-in-browser/"
   ]
  },
  {
   "cell_type": "code",
   "execution_count": null,
   "metadata": {},
   "outputs": [],
   "source": []
  }
 ],
 "metadata": {
  "anaconda-cloud": {},
  "gist_id": "cedf51e5d24af8694bfe",
  "kernelspec": {
   "display_name": "Python 3 (ipykernel)",
   "language": "python",
   "name": "python3"
  },
  "language_info": {
   "codemirror_mode": {
    "name": "ipython",
    "version": 3
   },
   "file_extension": ".py",
   "mimetype": "text/x-python",
   "name": "python",
   "nbconvert_exporter": "python",
   "pygments_lexer": "ipython3",
   "version": "3.9.12"
  }
 },
 "nbformat": 4,
 "nbformat_minor": 4
}
