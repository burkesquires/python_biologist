{
 "cells": [
  {
   "cell_type": "markdown",
   "metadata": {},
   "source": [
    "# Introduction to the Python Programming Language"
   ]
  },
  {
   "cell_type": "markdown",
   "metadata": {},
   "source": [
    "<img align=center src=\"https://www.python.org/static/community_logos/python-logo-master-v3-TM.png\">"
   ]
  },
  {
   "cell_type": "markdown",
   "metadata": {},
   "source": [
    "---\n",
    "- Author: R. Burke Squires\n",
    "- This presentation is part of the [__Python Programming for Biologists Series__](https://github.com/burkesquires/python_biologist)\n",
    "- Source: Includes material adapted from [Learn Python3 in Y Minutes](https://learnxinyminutes.com/docs/python3/)\n",
    "---"
   ]
  },
  {
   "cell_type": "markdown",
   "metadata": {},
   "source": [
    "## Writing a Python program to convert temperatures"
   ]
  },
  {
   "cell_type": "markdown",
   "metadata": {},
   "source": [
    "In the notebook we will learn how to use the `python` programming language to write a program or script that converts temperatures between Fahrenheit to Celsius and back. As you may recall, Fahrenheit and centigrade are two temperature scales in use today. The Fahrenheit scale was developed by the German physicist Daniel Gabriel Fahrenheit. In the Fahrenheit scale, water freezes at 32 degrees and boils at 212 degrees. The centigrade scale, which is also called the Celsius scale, was developed by Swedish astronomer Andres Celsius. In the centigrade scale, water freezes at 0 degrees and boils at 100 degrees. \n",
    "\n",
    "The formula to convert temperatures from degrees Fahrenheit to degrees Celsius is:\n",
    "\n",
    "__Fahrenheit to Celsius formula:__ $$°C = \\frac{(°F - 32) 5}{9}$$ \n",
    "\n",
    "or in plain English, from your existing temperature value subtract 32, then multiply by 5, then divide by 9.\n",
    "\n",
    "The centigrade to Fahrenheit conversion formula is:\n",
    "\n",
    "__Celsius to Fahrenheit formula:__ $$°F = \\frac{°C 9}{5} + 32$$ \n",
    "\n",
    "or in plain English, multiple by 9, then divide by 5, then add 32."
   ]
  },
  {
   "cell_type": "markdown",
   "metadata": {},
   "source": [
    "In our example, we will assume that we have a temperatures measurement that we want to convert. Later in this tutorial we will extend the script to allow it to work on any number of temperature measurements.\n",
    "\n",
    "To begin with, lets us think about what steps we would use if we were converting a temperature manually:\n",
    "\n",
    "### Steps to convert a temperature\n",
    "\n",
    "1. \n",
    "1. \n",
    "1.\n",
    "1."
   ]
  },
  {
   "cell_type": "markdown",
   "metadata": {},
   "source": [
    "We can now convert that to pseudocode:\n",
    "\n",
    "### Pseudocode\n",
    "\n",
    "1. Read in a temperature\n",
    "1. Determine existing scale\n",
    "1. Convert temperature to new scale\n",
    "1. Print new temperature"
   ]
  },
  {
   "cell_type": "markdown",
   "metadata": {},
   "source": [
    "---"
   ]
  },
  {
   "cell_type": "markdown",
   "metadata": {},
   "source": [
    "## Contents\n",
    "- Data Types\n",
    "- Variables\n",
    "- Operators (Math with Python)\n",
    "- Functions\n",
    "- List\n",
    "- Loops\n",
    "- Strings\n",
    "- Files\n",
    "- Conditionals\n",
    "- Dictionaries\n",
    "- Modules"
   ]
  },
  {
   "cell_type": "markdown",
   "metadata": {},
   "source": [
    "## Data Types in `python`\n",
    "\n",
    "Integers or `int`s are typed just as you would expect; no symbols or extra characters are needed.\n",
    "```python\n",
    "x = 100\n",
    "```\n",
    "Floating point number (decimal numbers) or `float`s just add a decimal\n",
    "```python\n",
    "y = 32.0\n",
    "```"
   ]
  },
  {
   "cell_type": "code",
   "execution_count": null,
   "metadata": {},
   "outputs": [],
   "source": [
    "# Practice by typing the code above:\n",
    "x = 100\n",
    "y = 32.0"
   ]
  },
  {
   "cell_type": "markdown",
   "metadata": {},
   "source": [
    "Other data types include:\n",
    "\n",
    "Strings (`str`), which we will look at in more depth later. Here we have a string of four characters, which we would understand are four nucleotides.\n",
    "```python\n",
    "seq = 'ATCG'   \n",
    "```\n",
    "A List (or array) is a set of numbers, strings, etc or any combination there of.\n",
    "```python\n",
    "nt = ['A', 'C', 'G', 'T']\n",
    "```"
   ]
  },
  {
   "cell_type": "code",
   "execution_count": null,
   "metadata": {},
   "outputs": [],
   "source": [
    "# Practice by typing the code above:\n",
    "seq = \"ATCG\"\n",
    "nt = ['A', 'C', 'G', \"T\"]"
   ]
  },
  {
   "cell_type": "markdown",
   "metadata": {},
   "source": [
    "> #### Do You Want To Know More About..._Primitive Data Types_   (Adapted from [source](https://learnxinyminutes.com/docs/python3/))\n",
    "> \n",
    "> You have numbers:\n",
    "> ```python\n",
    "> 3 # => 3\n",
    "> ```\n",
    "> Math is what you would expect:\n",
    "> ```python\n",
    "> 1 + 1   # => 2\n",
    "> 8 - 1   # => 7\n",
    "> 10 * 2  # => 20\n",
    "> 35 / 5  # => 7.0\n",
    "> ```\n",
    "> Boolean values are primitives (Note: the capitalization)\n",
    "> ```python\n",
    "> True\n",
    "> False\n",
    "> ```\n",
    "> Negate with `not`\n",
    "> ```python\n",
    "> not True   # => False\n",
    "> not False  # => True\n",
    "> ```\n",
    "> Boolean Operators\n",
    "> Note \"and\" and \"or\" are case-sensitive\n",
    "> ```python\n",
    "> True and False  # => False\n",
    "> False or True   # => True\n",
    "> ```\n",
    "> True and False are actually 1 and 0 but with different keywords\n",
    "> ```python\n",
    "> True + True # => 2\n",
    "> True * 8    # => 8\n",
    "> False - 5   # => -5\n",
    "> ```\n",
    "> Comparison operators look at the numerical value of True and False\n",
    "> ```python\n",
    "> 0 == False  # => True\n",
    "> 1 == True   # => True\n",
    "> 2 == True   # => False\n",
    "> -5 != False # => True\n",
    "> ```\n",
    "> Using boolean logical operators on ints casts them to booleans for evaluation, but their non-cast value is returned\n",
    "> Don't mix up with bool(ints) and bitwise and/or (&, |)\n",
    "> ```python\n",
    "> bool(0)     # => False\n",
    "> bool(4)     # => True\n",
    "> bool(-6)    # => True\n",
    "> 0 and 2     # => 0\n",
    "> -5 or 0     # => -5\n",
    "> ```"
   ]
  },
  {
   "cell_type": "markdown",
   "metadata": {},
   "source": [
    "---"
   ]
  },
  {
   "cell_type": "markdown",
   "metadata": {},
   "source": [
    "## Variables"
   ]
  },
  {
   "cell_type": "markdown",
   "metadata": {},
   "source": [
    "- Unlike other programming languages, in `python` you do not need to use a command or keyword to declare a variable\n",
    "- A variable is created the moment you first assign a value to it\n",
    "- Variables _should_ have meaningful names and must start with a letter"
   ]
  },
  {
   "cell_type": "markdown",
   "metadata": {},
   "source": [
    "```python\n",
    "temp = 32.0\n",
    "\n",
    "f_temp = 32.0\n",
    "\n",
    "temperature_fahrenheit = 32.0\n",
    "```"
   ]
  },
  {
   "cell_type": "code",
   "execution_count": null,
   "metadata": {},
   "outputs": [],
   "source": [
    "# Practice by typing the code above:\n",
    "f_temp = 32.0\n",
    "\n"
   ]
  },
  {
   "cell_type": "markdown",
   "metadata": {},
   "source": [
    "> #### Want To Know More About... _Variables_\n",
    "> There are no declarations, only assignments.\n",
    "> The convention is to use `lower_case_with_underscores`\n",
    "> ```python\n",
    "> some_var = 5\n",
    "> some_var  # => 5\n",
    "> ```\n",
    ">\n",
    ">\n",
    "> Accessing a previously unassigned variable is an exception.\n",
    "> See Control Flow to learn more about exception handling.\n",
    "> ```python\n",
    "> some_unknown_var  # Raises a NameError\n",
    "> ```\n",
    ">\n",
    "> if can be used as an expression\n",
    "> Equivalent of C's '?:' ternary operator\n",
    "> ```python\n",
    "> \"yahoo!\" if 3 > 2 else 2  # => \"yahoo!\"\n",
    "> ```"
   ]
  },
  {
   "cell_type": "markdown",
   "metadata": {},
   "source": [
    "---"
   ]
  },
  {
   "cell_type": "markdown",
   "metadata": {},
   "source": [
    "## Doing Math with `python`"
   ]
  },
  {
   "cell_type": "markdown",
   "metadata": {},
   "source": [
    "To do math in `python`, we type the equation out using the `+`, `-`, `*`, `/` operators.\n",
    "\n",
    "Recall, that the formula to convert temperatures in Celsius to Fahrenheit is:\n",
    "\n",
    "$$°F = \\frac{ °C  x  9 }{5} + 32$$ \n",
    "\n",
    "\n",
    "As an example, if we want to convert 40.0 degrees Celsius to Fahrenheit we would write:\n",
    "\n",
    "$$°F = \\frac{ 40°C  x  9 }{5} + 32$$\n",
    "\n",
    "Which is equivalent to:\n",
    "\n",
    "40 X 9 / 5 + 32\n",
    "\n",
    "What should the answer be?\n",
    "\n",
    "Did you get 104.0?"
   ]
  },
  {
   "cell_type": "markdown",
   "metadata": {},
   "source": [
    "### Arithmetic Operators in `Python`\n",
    "\n",
    "Arithmetic operators are used with numeric values to perform common mathematical operations:\n",
    "\n",
    "|Operator|Name|Example|\n",
    "|---|---|---|\n",
    "|+|Addition|x + y|\n",
    "|-|Subtraction|x - y|\n",
    "|*|Multiplication|x * y|\n",
    "|/|Division|x / y|\n",
    "|%|Modulus|x % y|\n",
    "|**|Exponentiation|x ** y| \n",
    "|//|Floor division|x // y|"
   ]
  },
  {
   "cell_type": "markdown",
   "metadata": {},
   "source": [
    "To convert 40.0 degrees Celsius to Fahrenheit we would type:\n",
    "    \n",
    "```python\n",
    "40.0 * (9 / 5) + 32\n",
    "```"
   ]
  },
  {
   "cell_type": "code",
   "execution_count": null,
   "metadata": {},
   "outputs": [],
   "source": [
    "# Practice by typing the code above:\n",
    "\n",
    "40.0 * 9/5 + 32"
   ]
  },
  {
   "cell_type": "markdown",
   "metadata": {},
   "source": [
    "What answer did you get? Did you get 104.0?\n",
    "\n",
    "What happens if you do not add the parenthesis?"
   ]
  },
  {
   "cell_type": "markdown",
   "metadata": {},
   "source": [
    "> #### Do You Want To Know More About..._Math_\n",
    "> \n",
    "> Result of integer division truncated down both for positive and negative.\n",
    "> ```python\n",
    "> 5 // 3       # => 1\n",
    "> 5.0 // 3.0   # => 1.0 # works on floats too\n",
    "> -5 // 3      # => -2\n",
    "> -5.0 // 3.0  # => -2.0\n",
    "> ```\n",
    "> The result of division is always a float\n",
    "> ```python\n",
    "> 10.0 / 3  # => 3.3333333333333335\n",
    "> ```\n",
    "> Modulo operation\n",
    "> ```python\n",
    "> 7 % 3  # => 1\n",
    "> ```\n",
    "> Exponentiation (x**y, x to the yth power)\n",
    "> ```python\n",
    "> 2**3  # => 8\n",
    "> ```\n",
    "> Enforce precedence with parentheses\n",
    "> ```python\n",
    "> (1 + 3) * 2  # => 8\n",
    "> ```"
   ]
  },
  {
   "cell_type": "markdown",
   "metadata": {},
   "source": [
    "---"
   ]
  },
  {
   "cell_type": "markdown",
   "metadata": {},
   "source": [
    "## Writing Functions"
   ]
  },
  {
   "cell_type": "markdown",
   "metadata": {},
   "source": [
    "Beginning with the formula we just saw, what parts of this change each time to calculate a conversion?\n",
    "```python\n",
    "40.0 * (9 / 5) + 32\n",
    "```\n",
    "The `40.0` temperature changes, right.\n",
    "\n",
    "If we replace the temperature with a variable, `temp`, then the equation becomes:\n",
    "```python\n",
    "temp * (9 / 5) + 32\n",
    "```\n",
    "but how do we set the value of `temp`?\n",
    "\n",
    "```python\n",
    "temp = 40.0\n",
    "temp * (9 / 5) + 32\n",
    "```\n",
    "If you run this script do you get the same answer as before? Try it:"
   ]
  },
  {
   "cell_type": "code",
   "execution_count": null,
   "metadata": {},
   "outputs": [],
   "source": [
    "# Practice by typing the code above:\n",
    "c_temp = 40.0\n",
    "c_temp * (9/5) + 32\n"
   ]
  },
  {
   "cell_type": "markdown",
   "metadata": {},
   "source": [
    "So we have a formula that allows us to change the starting temperature but it will only output to the screen or standard out. That will not do! :-)\n",
    "\n",
    "Lets change our code to save our converted temperature to a new variable.\n",
    "```python\n",
    "temp = 10\n",
    "new_temp = temp * 9 / 5 + 32\n",
    "```\n",
    "So now, we can access our `new_temp` to get our new temperature."
   ]
  },
  {
   "cell_type": "markdown",
   "metadata": {},
   "source": [
    "Now, we can add a line of code to define a python function. \n",
    "\n",
    "The `def` or define keyword in python starts a function definition and the line ends with a colon or `:`.\n",
    "\n",
    "```python\n",
    "def convert_c_to_f(temp):\n",
    "    new_temp = temp * 9 / 5 + 32\n",
    "    return new_temp\n",
    "```\n",
    "Note that we have to define a function name, `convert_c_to_f` and provide one parameter `temp`.\n",
    "\n",
    "We also add the `return` keyword to return the value of the new temperature."
   ]
  },
  {
   "cell_type": "code",
   "execution_count": null,
   "metadata": {},
   "outputs": [],
   "source": [
    "# Practice by typing the code above:\n",
    "\n",
    "c_temp = 0\n",
    "\n",
    "def convert_c_to_f(c_temp):\n",
    "    # new_temp = c_temp * (9/5) + 32\n",
    "    # return new_temp\n",
    "\n",
    "    return c_temp * (9/5) + 32\n",
    "    \n",
    "f_temp = convert_c_to_f(c_temp)\n",
    "\n",
    "print(f_temp)\n"
   ]
  },
  {
   "cell_type": "code",
   "execution_count": null,
   "metadata": {},
   "outputs": [],
   "source": [
    "temp_list = [0, 32, 100]\n",
    "new_temps = []\n",
    "\n",
    "for temp in temp_list:\n",
    "    new_temps.append(convert_c_to_f(temp))"
   ]
  },
  {
   "cell_type": "markdown",
   "metadata": {},
   "source": [
    "Now recall that defining a function is only half of the task. We also have to _call_ the function to execute it.\n",
    "\n",
    "To _call_ our function we write:\n",
    "\n",
    "```python\n",
    "c_temp = 40.0\n",
    "f_temp = convert_c_to_f(c_temp)\n",
    "print(f_temp)\n",
    "```\n",
    "\n",
    "Note that the function code must be run in the Jupyter Notebook before you _call_ if if they are in two difference cells, as they are here."
   ]
  },
  {
   "cell_type": "code",
   "execution_count": null,
   "metadata": {},
   "outputs": [],
   "source": [
    "# Practice by typing the code above:\n",
    "\n",
    "c_temp = 10\n"
   ]
  },
  {
   "cell_type": "markdown",
   "metadata": {},
   "source": [
    "__Discussion__\n",
    "\n",
    "- Why not just copy and paste the original formula or the formula with our variable?\n",
    "- We could also skip the step of saving an intermediate variable `new_temp` and return it directly. Why might we NOT want to do this?"
   ]
  },
  {
   "cell_type": "markdown",
   "metadata": {},
   "source": [
    "Now we will enhance the function a little to be more explicit and rename our input temperature as well as _cast_ or convert our input temperature to a floating point number. \n",
    "\n",
    "We will also add a new function for Fahrenheit to Celsius conversion.\n",
    "\n",
    "Here are the two functions, with an additional step to convert the incoming temperature to a floating point number:\n",
    "\n",
    "```python\n",
    "def convert_c_to_f(c_temp):\n",
    "    f_temp = (float(c_temp) * 9 / 5 + 32)\n",
    "    return f_temp\n",
    "\n",
    "def convert_f_to_c(f_temp):\n",
    "    c_temp = (float(f_temp) - 32) * 5 / 9\n",
    "    return c_temp\n",
    "```"
   ]
  },
  {
   "cell_type": "code",
   "execution_count": null,
   "metadata": {},
   "outputs": [],
   "source": [
    "# Practice by typing the code above:\n",
    "\n",
    "def convert_c_to_f(c_temp):\n",
    "    f_temp = (float(c_temp) * 9 / 5 + 32)\n",
    "    return f_temp\n",
    "\n",
    "def convert_f_to_c(f_temp):\n",
    "    c_temp = (float(f_temp) - 32) * 5 / 9\n",
    "    return c_temp\n",
    "\n",
    "convert_c_to_f(input())"
   ]
  },
  {
   "cell_type": "code",
   "execution_count": null,
   "metadata": {},
   "outputs": [],
   "source": [
    "float(\"10\")"
   ]
  },
  {
   "cell_type": "code",
   "execution_count": null,
   "metadata": {},
   "outputs": [],
   "source": [
    "%whos"
   ]
  },
  {
   "cell_type": "markdown",
   "metadata": {},
   "source": [
    "> __Do You Want To Know More About...*Functions*__\n",
    "> \n",
    "> Use \"def\" to create new functions\n",
    "> ```python\n",
    "> def add(x, y):\n",
    ">     print(\"x is {} and y is {}\".format(x, y))\n",
    ">     return x + y  # Return values with a return statement\n",
    "> ```\n",
    ">Calling functions with parameters\n",
    "> ```python\n",
    "> add(5, 6)  # => prints out \"x is 5 and y is 6\" and returns 11\n",
    "> ```\n",
    ">Another way to call functions is with keyword arguments\n",
    "> ```python\n",
    "> add(y=6, x=5)  # Keyword arguments can arrive in any order.\n",
    "> ```\n",
    ">You can define functions that take a variable number of positional arguments\n",
    "> ```python\n",
    "> def varargs(*args):\n",
    ">     return args\n",
    "> varargs(1, 2, 3)  # => (1, 2, 3)\n",
    "> ```\n",
    "> ```python\n",
    "> all_the_args(1, 2, a=3, b=4) prints:\n",
    ">     (1, 2)\n",
    ">     {\"a\": 3, \"b\": 4}\n",
    "> ```\n",
    "> When calling functions, you can do the opposite of args/kwargs!\n",
    "\n",
    "> Use * to expand tuples and use ** to expand kwargs.\n",
    "> ```python\n",
    "> args = (1, 2, 3, 4)\n",
    "> kwargs = {\"a\": 3, \"b\": 4}\n",
    "> all_the_args(*args)            # equivalent to all_the_args(1, 2, 3, 4)\n",
    "> ```\n",
    "> Returning multiple values (with tuple assignments)\n",
    "> ```python\n",
    "> def swap(x, y):\n",
    ">     return y, x \n",
    "> ```\n",
    "> Return multiple values as a tuple without the parenthesis. \n",
    "> (Note: parenthesis have been excluded but can be included)\n",
    "> ```python\n",
    "> x = 1\n",
    "> y = 2\n",
    "> x, y = swap(x, y)     # => x = 2, y = 1\n",
    "> (x, y) = swap(x,y)    # Again parenthesis have been excluded but can be included.\n",
    "> ```"
   ]
  },
  {
   "cell_type": "markdown",
   "metadata": {},
   "source": [
    "---"
   ]
  },
  {
   "cell_type": "markdown",
   "metadata": {},
   "source": [
    "## Testing our Code"
   ]
  },
  {
   "cell_type": "markdown",
   "metadata": {},
   "source": [
    "Testing our code gives an opportunity to prove to ourselves (and anyone else) that our code works as expected."
   ]
  },
  {
   "cell_type": "markdown",
   "metadata": {},
   "source": [
    "```python\n",
    "import unittest\n",
    "\n",
    "assert(convert_c_to_f(32.0) == 89.6)\n",
    "assert(convert_f_to_c(212.0) == 100.0)\n",
    "```\n",
    "No errors means to code works as expected.\n",
    "\n",
    "Try changing any number above and rerun the cell to test again."
   ]
  },
  {
   "cell_type": "code",
   "execution_count": null,
   "metadata": {},
   "outputs": [],
   "source": [
    "import unittest\n",
    "\n",
    "assert(convert_c_to_f(32.0) == 89.5)\n",
    "assert(convert_f_to_c(212.0) == 100.0)"
   ]
  },
  {
   "cell_type": "markdown",
   "metadata": {},
   "source": [
    "---"
   ]
  },
  {
   "cell_type": "markdown",
   "metadata": {},
   "source": [
    "# Lists"
   ]
  },
  {
   "cell_type": "markdown",
   "metadata": {},
   "source": [
    "Above we used our new function to convert one temperature at a time. Next, we are going to learn about `lists` and how we can use them to do many temperature conversions at once."
   ]
  },
  {
   "cell_type": "markdown",
   "metadata": {},
   "source": [
    "In `python` lists are created using the square brackets `[`, `]` like this:\n",
    "```python\n",
    "f_temps = [0.0, 32.0, 100.0, 212.0]\n",
    "```\n",
    "\n",
    "To convert our entire list of temperatures, we will look at loops in a moment but before we do that, we can look at how to convert individual elements of our list. \n",
    "\n",
    "To access the first element of the list, we write this:\n",
    "```python\n",
    "f_temps[0]\n",
    "```\n",
    "\n",
    "This demonstrates to use that `python` is a zero-based language, meaning that indicies start with 0 instead of 1."
   ]
  },
  {
   "cell_type": "code",
   "execution_count": null,
   "metadata": {},
   "outputs": [],
   "source": [
    "# Practice by typing the code above:\n",
    "\n",
    "f_temps = [0.0, 23.0, 100, 212.0]"
   ]
  },
  {
   "cell_type": "markdown",
   "metadata": {},
   "source": [
    "We can also compute how many temperatures are in our list using:\n",
    "```python\n",
    "len(f_temps)\n",
    "```"
   ]
  },
  {
   "cell_type": "code",
   "execution_count": null,
   "metadata": {},
   "outputs": [],
   "source": [
    "# Practice by typing the code above:\n",
    "\n",
    "len(f_temps)\n"
   ]
  },
  {
   "cell_type": "markdown",
   "metadata": {},
   "source": [
    "> __Do You Want To Know More About...*Functions*__\n",
    "> \n",
    "> Lists store sequences\n",
    "> ```python\n",
    "> li = []\n",
    "> ```\n",
    "> You can start with a prefilled list\n",
    "> ```python\n",
    "> other_li = [4, 5, 6]\n",
    "> ```\n",
    "> Add stuff to the end of a list with append\n",
    "> ```python\n",
    "> li.append(1)    # li is now [1]\n",
    "> li.append(2)    # li is now [1, 2]\n",
    "> li.append(4)    # li is now [1, 2, 4]\n",
    "> li.append(3)    # li is now [1, 2, 4, 3]\n",
    "> ```\n",
    "> Remove from the end with pop\n",
    "> ```python\n",
    "> li.pop()        # => 3 and li is now [1, 2, 4]\n",
    "> ```\n",
    "> Let's put it back\n",
    "> ```python\n",
    "> li.append(3)    # li is now [1, 2, 4, 3] again.\n",
    "> ```\n",
    "> Access a list like you would any array\n",
    "> ```python\n",
    "> li[0]   # => 1\n",
    "> ```\n",
    "> Look at the last element\n",
    "> ```python\n",
    "> li[-1]  # => 3\n",
    "> ```\n",
    "> Looking out of bounds is an IndexError\n",
    "> ```python\n",
    "> li[4]  # Raises an IndexError\n",
    "> ```\n",
    "> You can look at ranges with slice syntax.\n",
    "> The start index is included, the end index is not\n",
    "> (It's a closed/open range for you mathy types.)\n",
    "> ```python\n",
    "> li[1:3]   # => [2, 4]\n",
    "> ```\n",
    "> Omit the beginning and return the list\n",
    "> ```python\n",
    "> li[2:]    # => [4, 3]\n",
    "> ```\n",
    "> Omit the end and return the list\n",
    "> ```python\n",
    "> li[:3]    # => [1, 2, 4]\n",
    "> ```\n",
    "> Select every second entry\n",
    "> ```python\n",
    "> li[::2]   # =>[1, 4]\n",
    "> ```\n",
    "> Return a reversed copy of the list\n",
    "> ```python\n",
    "> li[::-1]  # => [3, 4, 2, 1]\n",
    "> ```\n",
    "> Use any combination of these to make advanced slices\n",
    "> ```python\n",
    "> li[start:end:step]\n",
    "> ```\n",
    "> Make a one layer deep copy using slices\n",
    "> ```python\n",
    "> li2 = li[:]  # => li2 = [1, 2, 4, 3] but (li2 is li) will result in false.\n",
    "> ```\n",
    "> Remove arbitrary elements from a list with \"del\"\n",
    "> ```python\n",
    "> del li[2]  # li is now [1, 2, 3]\n",
    "> ```\n",
    "> Remove first occurrence of a value\n",
    "> ```python\n",
    "> li.remove(2)  # li is now [1, 3]\n",
    "> li.remove(2)  # Raises a ValueError as 2 is not in the list\n",
    "> ```\n",
    "> Insert an element at a specific index\n",
    "> ```python\n",
    "> li.insert(1, 2)  # li is now [1, 2, 3] again\n",
    "> ```\n",
    "> Get the index of the first item found matching the argument\n",
    "> ```python\n",
    "> li.index(2)  # => 1\n",
    "> li.index(4)  # Raises a ValueError as 4 is not in the list\n",
    "> ```\n",
    "> You can add lists\n",
    "> Note: values for li and for other_li are not modified.\n",
    "> ```python\n",
    "> li + other_li  # => [1, 2, 3, 4, 5, 6]\n",
    "> ```\n",
    "> Concatenate lists with \"extend()\"\n",
    "> ```python\n",
    "> li.extend(other_li)  # Now li is [1, 2, 3, 4, 5, 6]\n",
    "> ```\n",
    "> Check for existence in a list with \"in\"\n",
    "> ```python\n",
    "> 1 in li  # => True\n",
    "> ```"
   ]
  },
  {
   "cell_type": "markdown",
   "metadata": {},
   "source": [
    "---"
   ]
  },
  {
   "cell_type": "markdown",
   "metadata": {},
   "source": [
    "## Loops"
   ]
  },
  {
   "cell_type": "markdown",
   "metadata": {},
   "source": [
    "As we saw above, following the opening of a file in python, there is a very simple `loop` implementation, shown below:\n",
    "```python\n",
    "for line in f:\n",
    "    print(line)\n",
    "```\n",
    "\n",
    "Here we see that there is a keyword `for` to start the loop, followed by a variable to refer to each of the indiVIdual elements being looped over, the `in` keYword, and finally, the object being interacted or looped over. In this case `f`."
   ]
  },
  {
   "cell_type": "markdown",
   "metadata": {},
   "source": [
    "```python\n",
    "with open(\"f_temps.txt\") as f:\n",
    "    \n",
    "    for line in f:\n",
    "        \n",
    "        temp = float(line)\n",
    "        new_temp = convert_f_to_c(temp)\n",
    "        \n",
    "        print(\"{} deg. F = {} deg. C\".format(temp, new_temp))\n",
    "```"
   ]
  },
  {
   "cell_type": "code",
   "execution_count": null,
   "metadata": {},
   "outputs": [],
   "source": [
    "# Practice by typing the code above:\n",
    "\n",
    "for temp in f_temps:\n",
    "        \n",
    "        temp = float(temp)\n",
    "        new_temp = convert_f_to_c(temp)\n",
    "        \n",
    "        print(\"{:2.3f} deg. F = {:2.2f} deg. C\".format(temp, new_temp))"
   ]
  },
  {
   "cell_type": "markdown",
   "metadata": {},
   "source": [
    "> __Do You Want To Know More About...*Loops*__\n",
    ">\n",
    "> For loops iterate over lists prints:\n",
    ">    dog is a mammal\n",
    ">    cat is a mammal\n",
    ">    mouse is a mammal\n",
    "> ```python\n",
    "> for animal in [\"dog\", \"cat\", \"mouse\"]:\n",
    ">     print(\"{} is a mammal\".format(animal))\n",
    "> ```\n",
    "> `range(number)` returns an iterable of numbers from zero to the given number prints:\n",
    "> 0\n",
    "> 1\n",
    "> 2\n",
    "> 3\n",
    "> ```python\n",
    "> for i in range(4):\n",
    ">     print(i)\n",
    "> ```\n",
    "> `range(lower, upper)` returns an iterable of numbers from the lower number to the upper number prints:\n",
    ">   4\n",
    ">   5\n",
    ">   6\n",
    ">   7\n",
    "> ```python\n",
    "> for i in range(4, 8):\n",
    ">     print(i)\n",
    "> ```\n",
    ">`range(lower, upper, step)` returns an iterable of numbers from the lower number to the upper number, while incrementing by step. If step is not indicated, the default value is 1. prints:\n",
    ">    4\n",
    ">    6\n",
    "> ```python\n",
    "> for i in range(4, 8, 2):\n",
    ">     print(i)\n",
    "> ```\n",
    "> While loops go until a condition is no longer met prints:\n",
    ">    0\n",
    ">    1\n",
    ">    2\n",
    ">    3\n",
    "> ```python\n",
    "> x = 0\n",
    "> while x < 4:\n",
    ">     print(x)\n",
    ">     x += 1  # Shorthand for x = x + 1\n",
    "> ```"
   ]
  },
  {
   "cell_type": "markdown",
   "metadata": {},
   "source": [
    "---"
   ]
  },
  {
   "cell_type": "markdown",
   "metadata": {},
   "source": [
    "## String Formatting"
   ]
  },
  {
   "cell_type": "markdown",
   "metadata": {},
   "source": [
    "Did you notice that tHe last line of the `with` code above ended with an odd statement using `format`? That is THE current _pythonic_ way of formatting a string. Use curly brackets \"{}\" as place holder for variables, the keyword `format` and the substitution values in parenthesis. You can even space out the formatting so that the COLUMNS line up. Try this code out:"
   ]
  },
  {
   "cell_type": "markdown",
   "metadata": {},
   "source": [
    "```python\n",
    "with open(\"f_temps.txt\") as f:\n",
    "    \n",
    "    for line in f:\n",
    "        \n",
    "        temp = float(line)\n",
    "        new_temp = convert_f_to_c(temp)\n",
    "        \n",
    "        print(\"{:8.2f} deg. F = {:8.2f} deg. C\".format(temp, new_temp))\n",
    "```"
   ]
  },
  {
   "cell_type": "code",
   "execution_count": null,
   "metadata": {},
   "outputs": [],
   "source": [
    "# Practice by typing the code above:\n",
    "\n",
    "with open(\"f_temps.txt\") as f:\n",
    "    \n",
    "    for line in f:\n",
    "        \n",
    "        temp = float(line)\n",
    "        new_temp = convert_f_to_c(temp)\n",
    "        \n",
    "        print(\"{:6.2f} deg. F = {:8.2f} deg. C\".format(temp, new_temp))"
   ]
  },
  {
   "cell_type": "markdown",
   "metadata": {},
   "source": [
    "> __Do You Want To Know More About...*Strings*__\n",
    "> \n",
    "> Strings are created with \" or '\n",
    "> ```python\n",
    "> \"This is a string.\"\n",
    "> 'This is also a string.'\n",
    "> ```\n",
    "> Strings can be added too! But try not to do this.\n",
    "> ```python\n",
    "> \"Hello \" + \"world!\"  # => \"Hello world!\"\n",
    "> ```\n",
    "> String literals (but not variables) can be concatenated without using '+'\n",
    "> ```python\n",
    "> \"Hello \" \"world!\"    # => \"Hello world!\"\n",
    "> ```\n",
    "> A string can be treated like a list of characters\n",
    "> ```python\n",
    "> \"This is a string\"[0]  # => 'T'\n",
    "> ```\n",
    "> You can find the length of a string\n",
    "> ```python\n",
    "> len(\"This is a string\")  # => 16\n",
    "> ```\n",
    "> .format can be used to format strings, like this:\n",
    "> ```python\n",
    "> \"{} can be {}\".format(\"Strings\", \"interpolated\")  # => \"Strings can be interpolated\"\n",
    "> ```\n",
    "> You can repeat the formatting arguments to save some typing.\n",
    "> ```python\n",
    "> \"{0} be nimble, {0} be quick, {0} jump over the {1}\".format(\"Jack\", \"candle stick\") # => \"Jack be nimble, Jack be quick, Jack jump over the candle stick\"\n",
    "> ```\n",
    "> You can use keywords if you don't want to count.\n",
    "> ```python\n",
    "> \"{name} wants to eat {food}\".format(name=\"Bob\", food=\"lasagna\")  # => \"Bob wants to eat lasagna\"\n",
    "> ```\n",
    "> If your Python 3 code also needs to run on Python 2.5 and below, you can also still use the old style of formatting:\n",
    "> ```python\n",
    "> \"%s can be %s the %s way\" % (\"Strings\", \"interpolated\", \"old\")  # => \"Strings can be interpolated the old way\"\n",
    "> ```\n",
    "> You can also format using f-strings or formatted string literals (in Python 3.6+)\n",
    "> ```python\n",
    "> name = \"Reiko\"\n",
    "> f\"She said her name is {name}.\" # => \"She said her name is Reiko\"\n",
    "> ```\n",
    "> You can basically put any Python statement inside the braces and it will be output in the string.\n",
    "> ```python\n",
    "> f\"{name} is {len(name)} characters long.\"\n",
    "> ```"
   ]
  },
  {
   "cell_type": "markdown",
   "metadata": {},
   "source": [
    "---"
   ]
  },
  {
   "cell_type": "markdown",
   "metadata": {},
   "source": [
    "## Working with Files"
   ]
  },
  {
   "cell_type": "markdown",
   "metadata": {},
   "source": [
    "Now that we have functions to compute the changes of temperatures from one scale to another, we can calculate the changes of many temperatures at one time.\n",
    "\n",
    "To demonstrate how to convert many temperatures at one time, we will use some simple text files to store our temperatures.\n",
    "\n",
    "To create a temperature files we __could__:\n",
    "    1. Open a text editor, type in our text, save the file and return to our python program OR\n",
    "    2. Write a short python script to save some data to a file\n",
    "\n",
    "__BUT__ with Jupyter notebook we can use come Jupyter _magic_ to create that file for us while we stay right here in the Jupyter notebook.\n",
    "\n",
    "To do this we use the `%%writefile` Jupyter magic command, add the file name after it (with extension), then the information we want in the file in the rest of the cell.\n",
    "\n",
    "Run each cell to create the file."
   ]
  },
  {
   "cell_type": "code",
   "execution_count": null,
   "metadata": {},
   "outputs": [],
   "source": [
    "%%writefile c_temps.txt\n",
    "0.0\n",
    "32.0\n",
    "100.0\n",
    "212.0"
   ]
  },
  {
   "cell_type": "code",
   "execution_count": null,
   "metadata": {},
   "outputs": [],
   "source": [
    "%%writefile f_temps.txt\n",
    "0.0\n",
    "32.0\n",
    "100.0"
   ]
  },
  {
   "cell_type": "code",
   "execution_count": null,
   "metadata": {},
   "outputs": [],
   "source": [
    "!ls\n",
    "!ls /"
   ]
  },
  {
   "cell_type": "markdown",
   "metadata": {},
   "source": [
    "## Files"
   ]
  },
  {
   "cell_type": "markdown",
   "metadata": {},
   "source": [
    "Now we want to open one of the files, read the temperates line-by-line and convert each temperature, printing it to the screen."
   ]
  },
  {
   "cell_type": "markdown",
   "metadata": {},
   "source": [
    "To read data from a file we will use the `open()` function built into `python`.\n",
    "\n",
    "We will also use the _pythonic_ way of accessing files BY using the `with` keyword, as we see below.\n",
    "```python\n",
    "with open(\"f_temps.txt\") as f:\n",
    "    \n",
    "    for line in f:\n",
    "        \n",
    "        print(line)\n",
    "```"
   ]
  },
  {
   "cell_type": "code",
   "execution_count": null,
   "metadata": {},
   "outputs": [],
   "source": [
    "# Practice by typing the code above:\n",
    "\n",
    "\n"
   ]
  },
  {
   "cell_type": "markdown",
   "metadata": {},
   "source": [
    "> __Do You Want To Know More About...*With*__\n",
    "> \n",
    "> \"The `with` statement simplifies exception handling by encapsulating common preparation and cleanup tasks in so-called context managers. The `with` statement is used to wrap the execution of a block with methods defined by a context manager. This allows common try…except…finally usage patterns to be encapsulated for convenient reuse.\" [Source](http://lofic.github.io/tips/python-with_statement.html)\n",
    ">\n",
    "> \"A good way to see `with` used effectively is by looking at examples in the Python standard library. A well-known example involves the open() function:\n",
    "> ```python\n",
    "> with open('hello.txt', 'w') as f:\n",
    ">     f.write('hello, world!')\n",
    "> ```\n",
    "> Opening files using the with statement is generally recommended because it ensures that open file descriptors are closed automatically after program execution leaves the context of the with statement. Internally, the above code sample translates to something like this:\n",
    "> ```python\n",
    "> f = open('hello.txt', 'w')\n",
    "> try:\n",
    ">     f.write('hello, world')\n",
    "> finally:\n",
    ">     f.close()\n",
    "> ```\n",
    "> [Source](https://dbader.org/blog/python-context-managers-and-with-statement)"
   ]
  },
  {
   "cell_type": "markdown",
   "metadata": {},
   "source": [
    "The above code reads the temperature from a file and prints them out, BUT we have not yet converted them. We will look at loops, which we see above, and in the discussion of the loop we will use out temperature conversion functions."
   ]
  },
  {
   "cell_type": "markdown",
   "metadata": {},
   "source": [
    "__Discussion__:\n",
    "- What would happen if we did not have a function to convert the temperature but wanted to convert many temperatures?"
   ]
  },
  {
   "cell_type": "markdown",
   "metadata": {},
   "source": [
    "---"
   ]
  },
  {
   "cell_type": "markdown",
   "metadata": {},
   "source": [
    "## If Statements & Conditionals"
   ]
  },
  {
   "cell_type": "markdown",
   "metadata": {},
   "source": [
    "Python supports the usual logical conditions from mathematics:\n",
    "\n",
    "|Conditional|Name|Example|\n",
    "|---|---|---|\n",
    "|==|Equals|a == b|\n",
    "|!=|Not Equals|a != b|\n",
    "|<|Less than|a < b|\n",
    "|<=|Less than or equal to|a <= b|\n",
    "|>|Greater than|a > b|\n",
    "|>=|Greater than or equal to|a >= b|\n",
    "\n",
    "These conditions can be used in several ways, most commonly in \"if statements\" and loops.\n",
    "\n",
    "An \"if statement\" is written by using the `if` keyword, followed by a conditional statement and a colon \":\", as shown below. The line immediately following the colon MUST be indented for `python` to know what code or statements are part of the `if` statement, etc. In an effort to make `python` code more readable, `python` replaces the nested `if` statements with the `elif` or `else...if` keyword. This allows you to test many conditions while not getting lost in nested logic statements."
   ]
  },
  {
   "cell_type": "markdown",
   "metadata": {},
   "source": [
    "```python\n",
    "temps = 'f'\n",
    "\n",
    "# We have copied these functions from above\n",
    "\n",
    "def convert_c_to_f(c_temp):\n",
    "    f_temp = (float(c_temp) * 9 / 5 + 32)\n",
    "    return f_temp\n",
    "\n",
    "def convert_f_to_c(f_temp):\n",
    "    c_temp = (float(f_temp) - 32) * 5 / 9\n",
    "    return c_temp\n",
    "\n",
    "# New code starts here\n",
    "\n",
    "def convert_temp(scale, conversion_function):\n",
    "    \n",
    "    opposite_scale = {\"C\": \"F\", \"F\": \"C\"}\n",
    "    \n",
    "    file_name = \"{}_temps.txt\".format(scale)\n",
    "    \n",
    "    with open(file_name) as f:\n",
    "        \n",
    "        for line in f:\n",
    "\n",
    "            temp = float(line)\n",
    "            \n",
    "            new_temp = conversion_function(temp)\n",
    "\n",
    "            print(\"{:8.2f} deg. {} = {:8.2f} deg. {}\".format(temp, \n",
    "                                                             str.upper(scale), \n",
    "                                                             new_temp, \n",
    "                                                             opposite_scale[str.upper(scale)]))\n",
    "    \n",
    "if temps == 'c':\n",
    "\n",
    "    convert_temp(\"c\", convert_c_to_f)\n",
    "\n",
    "elif temps == 'f':\n",
    "\n",
    "    convert_temp(\"f\", convert_f_to_c)\n",
    "```"
   ]
  },
  {
   "cell_type": "code",
   "execution_count": null,
   "metadata": {},
   "outputs": [],
   "source": [
    "# Practice by typing the code above:\n",
    "\n",
    "temps = 'c'\n",
    "\n",
    "# We have copied these functions from above\n",
    "\n",
    "def convert_c_to_f(c_temp):\n",
    "    f_temp = (float(c_temp) * 9 / 5 + 32)\n",
    "    return f_temp\n",
    "\n",
    "def convert_f_to_c(f_temp):\n",
    "    c_temp = (float(f_temp) - 32) * 5 / 9\n",
    "    return c_temp\n",
    "\n",
    "# New code starts here\n",
    "\n",
    "def convert_temp(scale, conversion_function):\n",
    "    \n",
    "    opposite_scale = {\"C\": \"F\", \"F\": \"C\"}\n",
    "    \n",
    "    file_name = \"{}_temps.txt\".format(scale)\n",
    "    \n",
    "    with open(file_name) as f:\n",
    "        \n",
    "        for line in f:\n",
    "\n",
    "            temp = float(line)\n",
    "            \n",
    "            new_temp = conversion_function(temp)\n",
    "\n",
    "            print(\"{:8.2f} deg. {} = {:8.2f} deg. {}\".format(temp, \n",
    "                                                             str.upper(scale), \n",
    "                                                             new_temp, \n",
    "                                                             opposite_scale[str.upper(scale)]))\n",
    "    \n",
    "if temps == 'c':\n",
    "\n",
    "    convert_temp(\"c\", convert_c_to_f)\n",
    "\n",
    "elif temps == 'f':\n",
    "\n",
    "    convert_temp(\"f\", convert_f_to_c)"
   ]
  },
  {
   "cell_type": "markdown",
   "metadata": {},
   "source": [
    "> __Do You Want To Know More About...*If Statements*__\n",
    ">\n",
    "> Indentation is significant in Python! Convention is to use four spaces, not tabs. This prints \"some_var is smaller than 10\"\n",
    "> ```python\n",
    "> if some_var > 10:\n",
    ">     print(\"some_var is totally bigger than 10.\")\n",
    "> elif some_var < 10:    # This elif clause is optional.\n",
    ">     print(\"some_var is smaller than 10.\")\n",
    "> else:                  # This is optional too.\n",
    ">     print(\"some_var is indeed 10.\")\n",
    "> ```"
   ]
  },
  {
   "cell_type": "markdown",
   "metadata": {},
   "source": [
    "__Try This...__\n",
    "\n",
    "- Try using the `input()` function above, instead of hard coding a temperature scale, to request input from a user."
   ]
  },
  {
   "cell_type": "markdown",
   "metadata": {},
   "source": [
    "---"
   ]
  },
  {
   "cell_type": "markdown",
   "metadata": {},
   "source": [
    "## Dictionaries"
   ]
  },
  {
   "cell_type": "markdown",
   "metadata": {},
   "source": [
    "Dictionaries are data structures with key, value pairs. Each key must be unique and the values can be repeated. The real strength of dictionaries is being able to find values quickly from a large set of keys.\n",
    "\n",
    "One can use dictionary to record metadata or comments about some temperatures\n",
    "\n",
    "We can create an empty dictionary using the statement:\n",
    "```python\n",
    "important_temps = {}\n",
    "```\n",
    "\n",
    "Then we can add a few important temps to our dictionary:\n",
    "\n",
    "```python\n",
    "important_temps[32] = \"Water freezes (if F scale)\"\n",
    "important_temps[0] = \"Water freezes (if C scale)\"\n",
    "important_temps[212] = \"Water boils (if F scale)\"\n",
    "important_temps[100] = \"Water boils (if C scale)\"\n",
    "\n",
    "important_temps[32]\n",
    "```"
   ]
  },
  {
   "cell_type": "code",
   "execution_count": null,
   "metadata": {},
   "outputs": [],
   "source": [
    "# Practice by typing the code above:\n",
    "\n"
   ]
  },
  {
   "cell_type": "markdown",
   "metadata": {},
   "source": [
    "Next, try entering a number or temperature that is __NOT__ in the dictionary. Try:\n",
    "```python\n",
    "important_temps[31]\n",
    "```"
   ]
  },
  {
   "cell_type": "markdown",
   "metadata": {},
   "source": [
    "> __Do You Want To Know More About...*Dictionaries*__\n",
    ">\n",
    "> Dictionaries store mappings from keys to values\n",
    "> ```python\n",
    "> empty_dict = {}\n",
    "> ```\n",
    "> Here is a prefilled dictionary\n",
    "> ```python\n",
    "> filled_dict = {\"one\": 1, \"two\": 2, \"three\": 3}\n",
    "> ```\n",
    "> Note keys for dictionaries have to be immutable types. This is to ensure that\n",
    "> the key can be converted to a constant hash value for quick look-ups.\n",
    "> Immutable types include ints, floats, strings, tuples.\n",
    "> ```python\n",
    "> invalid_dict = {[1,2,3]: \"123\"}  # => Raises a TypeError: unhashable type: 'list'\n",
    "> valid_dict = {(1,2,3):[1,2,3]}   # Values can be of any type, however.\n",
    "> ```\n",
    "> Look up values with []\n",
    "> ```python\n",
    "> filled_dict[\"one\"]  # => 1\n",
    "> ```\n",
    "> Get all keys as an iterable with \"keys()\". We need to wrap the call in list() to turn it into a list. We'll talk about those later.  Note - for Python versions <3.7, dictionary key ordering is not guaranteed. Your results might not match the example below exactly. However, as of Python 3.7, dictionary items maintain the order at which they are inserted into the dictionary.\n",
    "> ```python\n",
    "> list(filled_dict.keys())  # => [\"three\", \"two\", \"one\"] in Python <3.7\n",
    "> list(filled_dict.keys())  # => [\"one\", \"two\", \"three\"] in Python 3.7+\n",
    "> ```\n",
    "> Get all values as an iterable with \"values()\". Once again we need to wrap it in list() to get it out of the iterable. Note - Same as above regarding key ordering.\n",
    "> ```python\n",
    "> list(filled_dict.values())  # => [3, 2, 1]  in Python <3.7\n",
    "> list(filled_dict.values())  # => [1, 2, 3] in Python 3.7+\n",
    "> ```\n",
    "> Check for existence of keys in a dictionary with \"in\"\n",
    "> ```python\n",
    "> \"one\" in filled_dict  # => True\n",
    "> 1 in filled_dict      # => False\n",
    "> ```\n",
    "> Looking up a non-existing key is a KeyError\n",
    "> ```python\n",
    "> filled_dict[\"four\"]  # KeyError\n",
    "> ```\n",
    "> Use \"get()\" method to avoid the KeyError\n",
    "> ```python\n",
    "> filled_dict.get(\"one\")      # => 1\n",
    "> filled_dict.get(\"four\")     # => None\n",
    "> ```\n",
    "> The get method supports a default argument when the value is missing\n",
    "> ```python\n",
    "> filled_dict.get(\"one\", 4)   # => 1\n",
    "> filled_dict.get(\"four\", 4)  # => 4\n",
    "> ```\n",
    "> \"setdefault()\" inserts into a dictionary only if the given key isn't present\n",
    "> ```python\n",
    "> filled_dict.setdefault(\"five\", 5)  # filled_dict[\"five\"] is set to 5\n",
    "> filled_dict.setdefault(\"five\", 6)  # filled_dict[\"five\"] is still 5\n",
    "> ```\n",
    "> Adding to a dictionary\n",
    "> ```python\n",
    "> filled_dict.update({\"four\":4})  # => {\"one\": 1, \"two\": 2, \"three\": 3, \"four\": 4}\n",
    "> filled_dict[\"four\"] = 4         # another way to add to dict\n",
    "> ```\n",
    "> Remove keys from a dictionary with del\n",
    "> ```python\n",
    "> del filled_dict[\"one\"]  # Removes the key \"one\" from filled dict\n",
    "> ```\n",
    "> From Python 3.5 you can also use the additional unpacking options\n",
    "> ```python\n",
    "> {'a': 1, **{'b': 2}}  # => {'a': 1, 'b': 2}\n",
    "> {'a': 1, **{'a': 2}}  # => {'a': 2}\n",
    "> ```"
   ]
  },
  {
   "cell_type": "markdown",
   "metadata": {},
   "source": [
    "A better illustration of dictionaries, but not related to our temperature theme, is the example below. Here we use three `for` loops to create a dictionary of all possible DNA triples or codons. Then we could the frequency of each codon in the DNA sequence provided. This gives a better illustration of how we do not want to manually setup all 64 options but dictionaries enable us to search instantly for the frequency of any of the 64 options.\n",
    "\n",
    "```python\n",
    "dna = \"AATGATCGATCGTACGCTGAAATGATCGATCGTACGCTGAAATGATCGATCGTACGCTGAAATGATCGATCGTACGCTGAAATGATCGATCGTACGCTGA\"\n",
    "\n",
    "counts = {}\n",
    "\n",
    "for base1 in ['A', 'T', 'G', 'C']:\n",
    "    for base2 in ['A', 'T', 'G', 'C']:\n",
    "        for base3 in ['A', 'T', 'G', 'C']:\n",
    "            trinucleotide = base1 + base2 + base3\n",
    "            count = dna.count(trinucleotide)\n",
    "            counts[trinucleotide] = count\n",
    "            \n",
    "counts[\"AAA\"]\n",
    "```"
   ]
  },
  {
   "cell_type": "code",
   "execution_count": null,
   "metadata": {},
   "outputs": [],
   "source": [
    "# Practice by typing the code above:\n",
    "\n",
    "dna = \"AATGATCGATCGTACGCTGAAATGATCGATCGTACGCTGAAATGATCGATCGTACGCTGAAATGATCGATCGTACGCTGAAATGATCGATCGTACGCTGA\"\n",
    "\n",
    "counts = {}\n",
    "\n",
    "for base1 in ['A', 'T', 'G', 'C']:\n",
    "    for base2 in ['A', 'T', 'G', 'C']:\n",
    "        for base3 in ['A', 'T', 'G', 'C']:\n",
    "            trinucleotide = base1 + base2 + base3\n",
    "            count = dna.count(trinucleotide)\n",
    "            counts[trinucleotide] = count\n",
    "            \n",
    "counts[\"AAA\"]\n"
   ]
  },
  {
   "cell_type": "markdown",
   "metadata": {},
   "source": [
    "Do you want to see this code will run step-by-step? Click [here](https://pythontutor.com/visualize.html#code=dna%20%3D%20%22AATGATCGATCGTACGCTGAAATGATCGATCGTACGCTGAAATGATCGATCGTACGCTGAAATGATCGATCGTACGCTGAAATGATCGATCGTACGCTGA%22%0A%0Acounts%20%3D%20%7B%7D%0A%0Afor%20base1%20in%20%5B'A',%20'T',%20'G',%20'C'%5D%3A%0A%20%20%20%20for%20base2%20in%20%5B'A',%20'T',%20'G',%20'C'%5D%3A%0A%20%20%20%20%20%20%20%20for%20base3%20in%20%5B'A',%20'T',%20'G',%20'C'%5D%3A%0A%20%20%20%20%20%20%20%20%20%20%20%20trinucleotide%20%3D%20base1%20%2B%20base2%20%2B%20base3%0A%20%20%20%20%20%20%20%20%20%20%20%20count%20%3D%20dna.count%28trinucleotide%29%0A%20%20%20%20%20%20%20%20%20%20%20%20counts%5Btrinucleotide%5D%20%3D%20count%0A%20%20%20%20%20%20%20%20%20%20%20%20%0Acounts%5B%22AAA%22%5D&cumulative=false&curInstr=300&heapPrimitives=nevernest&mode=display&origin=opt-frontend.js&py=3&rawInputLstJSON=%5B%5D&textReferences=false)"
   ]
  },
  {
   "cell_type": "markdown",
   "metadata": {},
   "source": [
    "---"
   ]
  },
  {
   "cell_type": "markdown",
   "metadata": {},
   "source": [
    "## Modules and Imports"
   ]
  },
  {
   "cell_type": "markdown",
   "metadata": {},
   "source": [
    "One of the many reasons `python` is popular is because it hosts a large standard library of available functions or methods for programmers to use, but also because of the extensive community that has created thousands of `python` packages for anyone to use.\n",
    "\n",
    "These packages offer many features but most importantly they are tested (in most cases).\n",
    "\n",
    "To use a package from the standard library or somewhere else, we must `import` the package so that `python` knows where to find the methods we want to use. In an example below, we will save our temperature conversion functions to a file and import them to use them.\n",
    "\n",
    "We will rename the functions slightly as proof that we are importing our functions and not just using the ones from above.\n",
    "\n",
    "Run the `code` cell below to save our functions to a module."
   ]
  },
  {
   "cell_type": "code",
   "execution_count": null,
   "metadata": {},
   "outputs": [],
   "source": [
    "%%writefile temp_converter.py\n",
    "def convert_temp_c_to_f(c_temp):\n",
    "    f_temp = (float(c_temp) * 9 / 5 + 32)\n",
    "    return f_temp\n",
    "\n",
    "def convert_temp_f_to_c(f_temp):\n",
    "    c_temp = (float(f_temp) - 32) * 5 / 9\n",
    "    return c_temp"
   ]
  },
  {
   "cell_type": "markdown",
   "metadata": {},
   "source": [
    "Now we want to import our code and use it to campute temperature conversions."
   ]
  },
  {
   "cell_type": "markdown",
   "metadata": {},
   "source": [
    "```python\n",
    "import temp_converter\n",
    "\n",
    "temp_converter.convert_temp_c_to_f(100)\n",
    "```"
   ]
  },
  {
   "cell_type": "code",
   "execution_count": null,
   "metadata": {},
   "outputs": [],
   "source": [
    "# Practice by typing the code above:\n",
    "\n",
    "import temp_converter\n",
    "\n",
    "temp_converter.convert_temp_f_to_c(100)\n"
   ]
  },
  {
   "cell_type": "markdown",
   "metadata": {},
   "source": [
    "> __Do You Want To Know More About...*Modules*__\n",
    ">\n",
    "> You can import modules\n",
    "> ```python\n",
    "> import math\n",
    "> print(math.sqrt(16))  # => 4.0\n",
    "> ```\n",
    "> You can get specific functions from a module\n",
    "> ```python\n",
    "> from math import ceil, floor\n",
    "> print(ceil(3.7))   # => 4.0\n",
    "> print(floor(3.7))  # => 3.0\n",
    "> ```\n",
    "> You can import all functions from a module.\n",
    "> Warning: this is not recommended\n",
    "> ```python\n",
    "> from math import *\n",
    "> ```\n",
    "> You can shorten module names\n",
    "> ```python\n",
    "> import math as m\n",
    "> math.sqrt(16) == m.sqrt(16)  # => True\n",
    "> ```\n",
    "> Python modules are just ordinary Python files. You can write your own, and import them. The name of the module is the same as the name of the file. You can find out which functions and attributes are defined in a module.\n",
    "> ```python\n",
    "> import math\n",
    "> dir(math)\n",
    "> ```\n",
    "> If you have a Python script named math.py in the same folder as your current script, the file math.py will be loaded instead of the built-in Python module. This happens because the local folder has priority over Python's built-in libraries."
   ]
  },
  {
   "cell_type": "markdown",
   "metadata": {},
   "source": [
    "Now extend the conversion to include Kelvin\n",
    "\n",
    "BUT instead of reusing the code for F to C or C to F conversions, use the functions above\n",
    "\n",
    "    def convert_c_to_k(c_temp):\n",
    "    \n",
    "    def convert_k_to_c(k_temp):\n",
    "    \n",
    "    def convert_f_to_k(f_temp):\n",
    "    \n",
    "    def convert_k_to_f(k_temp):\n",
    "\n"
   ]
  },
  {
   "cell_type": "markdown",
   "metadata": {},
   "source": [
    "---"
   ]
  },
  {
   "cell_type": "markdown",
   "metadata": {},
   "source": [
    "## Clean Up"
   ]
  },
  {
   "cell_type": "code",
   "execution_count": null,
   "metadata": {},
   "outputs": [],
   "source": [
    "# Clean up files that were created above:\n",
    "import os\n",
    "if os.path.exists(\"temp_converter.py\"): os.remove(\"temp_converter.py\")\n",
    "if os.path.exists(\"c_temps.txt\"): os.remove(\"c_temps.txt\")\n",
    "if os.path.exists(\"f_temps.txt\"): os.remove(\"f_temps.txt\")"
   ]
  },
  {
   "cell_type": "markdown",
   "metadata": {},
   "source": [
    "---"
   ]
  },
  {
   "cell_type": "markdown",
   "metadata": {},
   "source": [
    "### __To Learn More...__\n",
    "\n",
    "About reading and writing files using `python` check out these resources:\n",
    "\n",
    "- [Python 3 Documentation](https://docs.python.org/3/tutorial/inputoutput.html#reading-and-writing-files)\n",
    "- [REALPython Reading and Writing CSV Files in Python Tutorial](https://realpython.com/python-csv/)"
   ]
  },
  {
   "cell_type": "markdown",
   "metadata": {},
   "source": [
    "## Resources:\n",
    "\n",
    "- [Learn Python3 in Y Minutes](https://learnxinyminutes.com/docs/python3/)\n",
    "- [W3 School Python tutorial](https://www.w3schools.com/python/default.asp)\n"
   ]
  },
  {
   "cell_type": "code",
   "execution_count": null,
   "metadata": {},
   "outputs": [],
   "source": []
  }
 ],
 "metadata": {
  "interpreter": {
   "hash": "2025436a2361348f1995cc0c66e1d414762b540160a3b2cdddeaeef2a55575bf"
  },
  "kernel_info": {
   "name": "python3"
  },
  "kernelspec": {
   "display_name": "Python 3 (ipykernel)",
   "language": "python",
   "name": "python3"
  },
  "language_info": {
   "codemirror_mode": {
    "name": "ipython",
    "version": 3
   },
   "file_extension": ".py",
   "mimetype": "text/x-python",
   "name": "python",
   "nbconvert_exporter": "python",
   "pygments_lexer": "ipython3",
   "version": "3.9.12"
  },
  "nteract": {
   "version": "0.15.0"
  }
 },
 "nbformat": 4,
 "nbformat_minor": 4
}
