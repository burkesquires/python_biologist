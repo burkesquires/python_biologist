{
 "cells": [
  {
   "cell_type": "markdown",
   "metadata": {},
   "source": [
    "# Python Workflows"
   ]
  },
  {
   "cell_type": "markdown",
   "metadata": {},
   "source": [
    "---"
   ]
  },
  {
   "cell_type": "markdown",
   "metadata": {},
   "source": [
    "#### Best\n",
    "\n",
    "- Python workflow package, validation, logging"
   ]
  },
  {
   "cell_type": "markdown",
   "metadata": {},
   "source": [
    "## `snakemake` Introduction"
   ]
  },
  {
   "cell_type": "markdown",
   "metadata": {},
   "source": [
    "---"
   ]
  },
  {
   "cell_type": "markdown",
   "metadata": {},
   "source": [
    "## snakemake"
   ]
  },
  {
   "cell_type": "markdown",
   "metadata": {},
   "source": [
    "- [2024 snakemake tutorial slides](https://slides.com/johanneskoester/snakemake-tutorial)\n",
    "\n",
    "\n",
    "- [Tutorial](https://snakemake.readthedocs.io/en/stable/tutorial/tutorial.html#)\n",
    "    - [Start the demo](https://snakemake.readthedocs.io/en/stable/tutorial/setup.html#run-tutorial-for-free-in-the-cloud-via-gitpod)\n",
    "\n",
    "\n",
    "\n",
    "- [Best Practices](https://snakemake.readthedocs.io/en/stable/snakefiles/best_practices.html)"
   ]
  },
  {
   "cell_type": "markdown",
   "metadata": {},
   "source": [
    "We Would Like a Tool That\n",
    "\n",
    "- can figure out how to run a whole workflow based on a set of rules for transforming one file type to another \n",
    "- is reproducible\n",
    "- reruns steps if necessary (input files change or processing steps change)\n",
    "- runs any necessary steps automatically as new data is added"
   ]
  },
  {
   "cell_type": "markdown",
   "metadata": {},
   "source": [
    "### Snakemake Is a Rule Based Dependency Tracker"
   ]
  },
  {
   "cell_type": "markdown",
   "metadata": {},
   "source": [
    "#### Rules"
   ]
  },
  {
   "cell_type": "markdown",
   "metadata": {},
   "source": [
    "Rules describe how to transform one file type into another. Files are identified based on constant parts of their name (e.g. .fastq, _fastqc.zip, ...)"
   ]
  },
  {
   "cell_type": "markdown",
   "metadata": {},
   "source": [
    "#### Dependancy Tracker"
   ]
  },
  {
   "cell_type": "markdown",
   "metadata": {},
   "source": [
    "Snakemake automatically determines what files are needed to produce a certain file type based on the rules. This information is used to calculate a dependency tree for the whole workflow. Rules are only executed if their outputs either don't exist or are older than the input files."
   ]
  },
  {
   "cell_type": "markdown",
   "metadata": {},
   "source": [
    "There Are Many Such Tools\n",
    "- make, ninja, scons, waf, ruffus, jug,\n",
    "- Rake, bpipe, paver, Galaxy, ..."
   ]
  },
  {
   "cell_type": "markdown",
   "metadata": {},
   "source": [
    "#### So Why Use `snakemake`?"
   ]
  },
  {
   "cell_type": "markdown",
   "metadata": {},
   "source": [
    "- Snakefiles are python code - i.e. a real programming language is available\n",
    "- designed with bioinformatics in mind\n",
    "- easy to offload processes to cluster nodes\n",
    "- advanced pattern matching\n",
    "- multiple input and output files\n",
    "- many bonus features: configuration, wrappers,\n",
    "- target lists, graphs of workflow, reports, ...\n",
    "- keeps track of code changes in rules"
   ]
  },
  {
   "cell_type": "markdown",
   "metadata": {},
   "source": [
    "Chair of Bioinformatics Research Group, Boku University Vienna, Austria\n",
    "\"We have initially tested several systems, including, Bpipe [9], Moa [https://github.com/mfiers/Moa], Ruffus [28], and Snakemake [10]. We have since focused on exploring Snakemake due to, among other features, __its make-like workflow definition, simple integration with Python, Bash code portability, ease of porting workflows to a cluster, intuitive parallelization, and ongoing active development__. We are currently working on extending Snakemake with a lightweight modular system for development cycle control and policy-based specification of rules and requirements that supports an in-flow enforcement of consistency constraints. We have developed and validated a proof-of-concept prototype of the mechanism and automated the code generation of rules.\" [Source](https://biologydirect.biomedcentral.com/articles/10.1186/s13062-015-0071-8)"
   ]
  },
  {
   "cell_type": "markdown",
   "metadata": {},
   "source": [
    "It is almost impossible to cover all available workflow management systems, but I can give you a few points: \n",
    "* compared to GNU Make, Snakemake is more flexible, supporting e.g. multiple output files, Python scripting, conditional inputs, arbitrary resource constraints, cluster execution with DRMAA. \n",
    "* Snakefiles can look very clean and readable (almost self documenting). \n",
    "* Snakemake allows you to easily separate workflow logic from analysis logic (in the form of e.g. external scripts), without having to write boilerplate code. This further supports readability and also code re-use. \n",
    "* We are building a library of Snakemake wrappers around popular bioinformatics tools. \n",
    "* Soon, Snakemake will support the automatic installation of the software dependencies of your workflow e.g. via Bioconda. This allows to deploy and execute a workflow on a new machine in a single step.\n",
    "[Johannes Köster](https://groups.google.com/forum/#!topic/snakemake/X_sGS6EiY-M)"
   ]
  },
  {
   "cell_type": "markdown",
   "metadata": {},
   "source": [
    "## Resources:\n",
    "\n",
    "__`snakemake`__\n",
    "\n",
    "- Reference: https://academic.oup.com/bioinformatics/article/28/19/2520/290322/Snakemake-a-scalable-bioinformatics-workflow\n",
    "- http://snakemake.readthedocs.io/en/stable/tutorial/tutorial.html#tutorial\n",
    "- [2024 snakemake tutorial slides](https://slides.com/johanneskoester/snakemake-tutorial)\n",
    "- Jeremy Leipzig, _[A review of bioinformaics pipeline frameworks](https://doi.org/10.1093/bib/bbw020)_. Briefings in Bioinformatics. 2016 \n",
    "- Johannes Köster  Sven Rahmann, - [Snakemake—a scalable bioinformatics workflow engine](https://academic.oup.com/bioinformatics/article/28/19/2520/290322) Bioinformatics, Volume 28, Issue 19, 1 October 2012\n",
    "- [snakemake wrappers](https://snakemake-wrappers.readthedocs.io/en/stable/index.html)\n",
    "- [snakemake RNASeq example](https://github.com/seandavi/SnakemakeRNASeqExample)\n",
    "\n",
    "- [Awesome Pipeline](https://github.com/pditommaso/awesome-pipeline) GitHub page"
   ]
  },
  {
   "cell_type": "code",
   "execution_count": null,
   "metadata": {},
   "outputs": [],
   "source": []
  }
 ],
 "metadata": {
  "kernelspec": {
   "display_name": "Python 3 (ipykernel)",
   "language": "python",
   "name": "python3"
  },
  "language_info": {
   "codemirror_mode": {
    "name": "ipython",
    "version": 3
   },
   "file_extension": ".py",
   "mimetype": "text/x-python",
   "name": "python",
   "nbconvert_exporter": "python",
   "pygments_lexer": "ipython3",
   "version": "3.12.2"
  }
 },
 "nbformat": 4,
 "nbformat_minor": 4
}
