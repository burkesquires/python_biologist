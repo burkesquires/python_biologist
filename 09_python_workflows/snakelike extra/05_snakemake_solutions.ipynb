{
 "cells": [
  {
   "cell_type": "markdown",
   "metadata": {},
   "source": [
    "# `snakemake` Short Tutorial"
   ]
  },
  {
   "cell_type": "markdown",
   "metadata": {},
   "source": [
    "Solutions\n",
    "---------\n",
    "\n",
    "Only read this if you have a problem with one of the steps."
   ]
  },
  {
   "cell_type": "markdown",
   "metadata": {},
   "source": [
    "if you get an error, please manually create \"envs\" folder"
   ]
  },
  {
   "cell_type": "code",
   "execution_count": null,
   "metadata": {},
   "outputs": [],
   "source": [
    "%%writefile envs/mapping.yaml\n",
    "channels:\n",
    "    - bioconda\n",
    "    - conda-forge\n",
    "dependencies:\n",
    "    - bwa =0.7.17\n",
    "    - samtools =1.9"
   ]
  },
  {
   "cell_type": "markdown",
   "metadata": {},
   "source": [
    "### Step 2\n",
    "\n",
    "The rule should look like this:"
   ]
  },
  {
   "cell_type": "code",
   "execution_count": null,
   "metadata": {},
   "outputs": [],
   "source": [
    "%%writefile Snakefile\n",
    "rule bwa:\n",
    "    input:\n",
    "        \"data/genome.fa\",\n",
    "        \"data/samples/A.fastq\"\n",
    "    output:\n",
    "        \"mapped/A.bam\"\n",
    "    conda:\n",
    "        \"envs/mapping.yaml\"\n",
    "    shell:\n",
    "        \"bwa mem {input} | samtools view -Sb - > {output}\""
   ]
  },
  {
   "cell_type": "markdown",
   "metadata": {},
   "source": [
    "### Step 3\n",
    "\n",
    "The rule should look like this:"
   ]
  },
  {
   "cell_type": "markdown",
   "metadata": {},
   "source": [
    "    rule bwa:\n",
    "        input:\n",
    "            \"data/genome.fa\",\n",
    "            \"data/samples/{sample}.fastq\"\n",
    "        output:\n",
    "            \"mapped/{sample}.bam\"\n",
    "        conda:\n",
    "            \"envs/mapping.yaml\"\n",
    "        shell:\n",
    "            \"bwa mem {input} | samtools view -Sb - > {output}\""
   ]
  },
  {
   "cell_type": "markdown",
   "metadata": {},
   "source": [
    "### Step 4\n",
    "\n",
    "The rule should look like this:\n",
    "\n",
    "    rule sort:\n",
    "        input:\n",
    "            \"mapped/{sample}.bam\"\n",
    "        output:\n",
    "            \"mapped/{sample}.sorted.bam\"\n",
    "        conda:\n",
    "            \"envs/mapping.yaml\"\n",
    "        shell:\n",
    "            \"samtools sort -o {output} {input}\""
   ]
  },
  {
   "cell_type": "markdown",
   "metadata": {},
   "source": [
    "### Step 5\n",
    "\n",
    "The rule should look like this:\n",
    "\n",
    "    samples = [\"A\", \"B\", \"C\"]\n",
    "\n",
    "    rule call:\n",
    "      input:\n",
    "          fa=\"data/genome.fa\",\n",
    "          bam=expand(\"mapped/{sample}.sorted.bam\", sample=samples)\n",
    "      output:\n",
    "          \"calls/all.vcf\"\n",
    "      conda:\n",
    "          \"envs/calling.yaml\"\n",
    "      shell:\n",
    "          \"samtools mpileup -g -f {input.fa} {input.bam} | \"\n",
    "          \"bcftools call -mv - > {output}\""
   ]
  },
  {
   "cell_type": "markdown",
   "metadata": {},
   "source": [
    "### Step 6\n",
    "\n",
    "The rule should look like this:\n",
    "\n",
    "    rule stats:\n",
    "        input:\n",
    "            \"calls/all.vcf\"\n",
    "        output:\n",
    "            \"plots/quals.svg\"\n",
    "        conda:\n",
    "            \"envs/stats.yaml\"\n",
    "        script:\n",
    "            \"scripts/plot-quals.py\""
   ]
  },
  {
   "cell_type": "markdown",
   "metadata": {},
   "source": [
    "### Step 7\n",
    "\n",
    "The rule should look like this:\n",
    "\n",
    "    rule all:\n",
    "        input:\n",
    "            \"calls/all.vcf\",\n",
    "            \"plots/quals.svg\"\n",
    "\n",
    "It has to appear as first rule in the `Snakefile`."
   ]
  },
  {
   "cell_type": "markdown",
   "metadata": {},
   "source": [
    "### Step 8\n",
    "\n",
    "The complete workflow should look like this:"
   ]
  },
  {
   "cell_type": "code",
   "execution_count": null,
   "metadata": {},
   "outputs": [],
   "source": [
    "%%writefile Snakefile\n",
    "samples = [\"A\", \"B\", \"C\"]\n",
    "\n",
    "rule all:\n",
    "    input:\n",
    "        \"calls/all.vcf\",\n",
    "        \"plots/quals.svg\"\n",
    "\n",
    "        \n",
    "rule bwa:\n",
    "    input:\n",
    "        \"data/genome.fa\",\n",
    "        \"data/samples/{sample}.fastq\"\n",
    "    output:\n",
    "        temp(\"mapped/{sample}.bam\")\n",
    "    conda:\n",
    "        \"envs/mapping.yaml\"\n",
    "    threads: 8\n",
    "    shell:\n",
    "        \"bwa mem -t {threads} {input} | samtools view -Sb - > {output}\"\n",
    "\n",
    "\n",
    "rule sort:\n",
    "    input:\n",
    "        \"mapped/{sample}.bam\"\n",
    "    output:\n",
    "        \"mapped/{sample}.sorted.bam\"\n",
    "    conda:\n",
    "        \"envs/mapping.yaml\"\n",
    "    shell:\n",
    "        \"samtools sort -o {output} {input}\"\n",
    "\n",
    "\n",
    "\n",
    "rule call:\n",
    "    input:\n",
    "        fa=\"data/genome.fa\",\n",
    "        bam=expand(\"mapped/{sample}.sorted.bam\", sample=samples)\n",
    "    output:\n",
    "        \"calls/all.vcf\"\n",
    "    conda:\n",
    "        \"envs/calling.yaml\"\n",
    "    shell:\n",
    "        \"samtools mpileup -g -f {input.fa} {input.bam} | \"\n",
    "        \"bcftools call -mv - > {output}\"\n",
    "\n",
    "        \n",
    "rule stats:\n",
    "    input:\n",
    "        \"calls/all.vcf\"\n",
    "    output:\n",
    "        report(\"plots/quals.svg\", caption=\"report/calling.rst\")\n",
    "    conda:\n",
    "        \"envs/stats.yaml\"\n",
    "    script:\n",
    "        \"scripts/plot-quals.py\""
   ]
  },
  {
   "cell_type": "code",
   "execution_count": null,
   "metadata": {},
   "outputs": [],
   "source": []
  }
 ],
 "metadata": {
  "kernelspec": {
   "display_name": "Python 3 (ipykernel)",
   "language": "python",
   "name": "python3"
  },
  "language_info": {
   "codemirror_mode": {
    "name": "ipython",
    "version": 3
   },
   "file_extension": ".py",
   "mimetype": "text/x-python",
   "name": "python",
   "nbconvert_exporter": "python",
   "pygments_lexer": "ipython3",
   "version": "3.12.2"
  }
 },
 "nbformat": 4,
 "nbformat_minor": 4
}
