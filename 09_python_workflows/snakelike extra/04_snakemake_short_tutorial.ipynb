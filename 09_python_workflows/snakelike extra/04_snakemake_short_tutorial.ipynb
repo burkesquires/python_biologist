{
 "cells": [
  {
   "cell_type": "markdown",
   "metadata": {},
   "source": [
    "# `snakemake` Short Tutorial"
   ]
  },
  {
   "cell_type": "markdown",
   "metadata": {},
   "source": [
    "Short tutorial\n",
    "==============\n",
    "\n",
    "Here we provide a short tutorial that guides you through the main\n",
    "features of Snakemake. Note that this is not suited to learn Snakemake\n",
    "from scratch, rather to give a first impression. To really learn\n",
    "Snakemake (starting from something simple, and extending towards\n",
    "advanced features), use the main tutorial.\n",
    "\n",
    "This document shows all steps performed in the official [Snakemake live\n",
    "demo](https://youtu.be/hPrXcUUp70Y), such that it becomes possible to\n",
    "follow them at your own pace. Solutions to each step can be found at the\n",
    "bottom of this document.\n",
    "\n",
    "The examples presented in this tutorial come from Bioinformatics.\n",
    "However, Snakemake is a general-purpose workflow management system for\n",
    "any discipline. For an explanation of the steps you will perform here,\n",
    "have a look at tutorial-background. More thorough explanations are\n",
    "provided in the full tutorial."
   ]
  },
  {
   "cell_type": "markdown",
   "metadata": {},
   "source": [
    "Prerequisites\n",
    "-------------\n",
    "\n",
    "First, install Snakemake via Conda, as outlined in conda-install. The\n",
    "minimal version of Snakemake is sufficient for this demo."
   ]
  },
  {
   "cell_type": "code",
   "execution_count": 1,
   "metadata": {},
   "outputs": [
    {
     "name": "stdout",
     "output_type": "stream",
     "text": [
      "Channels:\n",
      " - bioconda\n",
      " - conda-forge\n",
      " - defaults\n",
      "Platform: osx-arm64\n",
      "Collecting package metadata (repodata.json): done\n",
      "Solving environment: done\n",
      "\n",
      "# All requested packages already installed.\n",
      "\n",
      "\n",
      "Note: you may need to restart the kernel to use updated packages.\n"
     ]
    }
   ],
   "source": [
    "conda install -c bioconda -c conda-forge snakemake"
   ]
  },
  {
   "cell_type": "markdown",
   "metadata": {},
   "source": [
    "Second, download and unpack the test data needed for this example from\n",
    "[here](https://github.com/snakemake/snakemake-tutorial-data), e.g., via\n",
    "\n",
    "    #    mkdir snakemake-demo\n",
    "    #    cd snakemake-demo\n",
    "    #    wget https://github.com/snakemake/snakemake-tutorial-data/archive/v5.4.5.tar.gz\n",
    "    #    tar --wildcards -xf v5.2.3.tar.bz2 --strip 1 \"*/data\""
   ]
  },
  {
   "cell_type": "markdown",
   "metadata": {},
   "source": [
    "Step 1\n",
    "------\n",
    "\n",
    "First, create an empty workflow in the current directory with:"
   ]
  },
  {
   "cell_type": "code",
   "execution_count": 2,
   "metadata": {},
   "outputs": [],
   "source": [
    "!touch Snakefile"
   ]
  },
  {
   "cell_type": "markdown",
   "metadata": {},
   "source": [
    "Once a Snakefile is present, you can perform a dry run of Snakemake with:"
   ]
  },
  {
   "cell_type": "code",
   "execution_count": 3,
   "metadata": {},
   "outputs": [
    {
     "name": "stdout",
     "output_type": "stream",
     "text": [
      "\u001b[32mhost: Burkes-MacBook-Pro.local\u001b[0m\n",
      "\u001b[33mBuilding DAG of jobs...\u001b[0m\n",
      "\u001b[31mWorkflowError:\n",
      "Target rules may not contain wildcards. Please specify concrete files or a rule without wildcards at the command line, or have a rule without wildcards at the very top of your workflow (e.g. the typical \"rule all\" which just collects all results you want to generate in the end).\u001b[0m\n"
     ]
    }
   ],
   "source": [
    "!snakemake -n"
   ]
  },
  {
   "cell_type": "markdown",
   "metadata": {},
   "source": [
    "Since the Snakefile is empty, it will report that nothing has to be\n",
    "done. In the next steps, we will gradually fill the Snakefile with an\n",
    "example analysis workflow."
   ]
  },
  {
   "cell_type": "markdown",
   "metadata": {},
   "source": [
    "Step 2\n",
    "------\n",
    "\n",
    "The data folder in your working directory looks as follows:\n",
    "\n",
    "    data\n",
    "    ├── genome.fa\n",
    "    ├── genome.fa.amb\n",
    "    ├── genome.fa.ann\n",
    "    ├── genome.fa.bwt\n",
    "    ├── genome.fa.fai\n",
    "    ├── genome.fa.pac\n",
    "    ├── genome.fa.sa\n",
    "    └── samples\n",
    "        ├── A.fastq\n",
    "        ├── B.fastq\n",
    "        └── C.fastq\n",
    "\n",
    "You will create a workflow that maps the sequencing samples in the\n",
    "`data/samples` folder to the reference genome `data/genome.fa`. Then,\n",
    "you will call genomic variants over the mapped samples, and create an\n",
    "example plot."
   ]
  },
  {
   "cell_type": "markdown",
   "metadata": {},
   "source": [
    "    rule replace_with_rule_name:\n",
    "        input:\n",
    "            ***add_input_files\n",
    "        output:\n",
    "            temp( ***add_directory_here )\n",
    "        conda:\n",
    "            ***add_environment_file\n",
    "        threads: ***add_number\n",
    "        shell:\n",
    "            ***add_shell_command"
   ]
  },
  {
   "cell_type": "code",
   "execution_count": 4,
   "metadata": {},
   "outputs": [
    {
     "name": "stdout",
     "output_type": "stream",
     "text": [
      "Overwriting Snakefile\n"
     ]
    }
   ],
   "source": [
    "%%writefile Snakefile\n",
    "rule bwa:\n",
    "    input:\n",
    "        \"data/genome.fa\",\n",
    "        \"data/samples/A.fastq\"\n",
    "    output:\n",
    "        \"mapped/A.bam\"\n",
    "    conda:\n",
    "        \"mapping.yaml\"\n",
    "    shell:\n",
    "        \"bwa mem {input} | samtools view -Sb - > {output}\""
   ]
  },
  {
   "cell_type": "markdown",
   "metadata": {},
   "source": [
    "First, create a rule called `bwa`, with input files\n",
    "\n",
    "-   `data/genome.fa`\n",
    "-   `data/samples/A.fastq`\n",
    "\n",
    "and output file\n",
    "\n",
    "-   `mapped/A.bam`\n",
    "\n",
    "To generate output from input, use the shell command\n",
    "\n",
    "    \"bwa mem {input} | samtools view -Sb - > {output}\""
   ]
  },
  {
   "cell_type": "markdown",
   "metadata": {},
   "source": [
    "Providing a shell command is not enough to run your workflow on an unprepared system. For reproducibility, you also have to provide the required software stack and define the desired version. This can be done with the [Conda package manager](https://conda.io), which is directly integrated with Snakemake: add a directive `conda: \"envs/mapping.yaml\"`\n",
    "that points to a [Conda environment definition](https://conda.io/docs/user-guide/tasks/manage-environments.html?highlight=environment#creating-an-environment-file-manually),\n",
    "with the following content"
   ]
  },
  {
   "cell_type": "code",
   "execution_count": 5,
   "metadata": {},
   "outputs": [
    {
     "name": "stdout",
     "output_type": "stream",
     "text": [
      "Overwriting mapping.yaml\n"
     ]
    }
   ],
   "source": [
    "%%writefile mapping.yaml\n",
    "channels:\n",
    "    - bioconda\n",
    "    - conda-forge\n",
    "dependencies:\n",
    "    - bwa\n",
    "    - samtools"
   ]
  },
  {
   "cell_type": "markdown",
   "metadata": {},
   "source": [
    "Upon execution, Snakemake will automatically create that environment, and execute the shell command within."
   ]
  },
  {
   "cell_type": "markdown",
   "metadata": {},
   "source": [
    "Now, test your workflow by simulating the creation of the file\n",
    "`mapped/A.bam` via"
   ]
  },
  {
   "cell_type": "code",
   "execution_count": 6,
   "metadata": {},
   "outputs": [
    {
     "name": "stdout",
     "output_type": "stream",
     "text": [
      "\u001b[32mhost: Burkes-MacBook-Pro.local\u001b[0m\n",
      "\u001b[33mBuilding DAG of jobs...\u001b[0m\n",
      "\u001b[33mNothing to be done (all requested files are present and up to date).\u001b[0m\n"
     ]
    }
   ],
   "source": [
    "!snakemake --use-conda -n mapped/A.bam"
   ]
  },
  {
   "cell_type": "markdown",
   "metadata": {},
   "source": [
    "to perform a dry-run and"
   ]
  },
  {
   "cell_type": "code",
   "execution_count": 7,
   "metadata": {},
   "outputs": [
    {
     "name": "stdout",
     "output_type": "stream",
     "text": [
      "\u001b[33mAssuming unrestricted shared filesystem usage.\u001b[0m\n",
      "\u001b[32mhost: Burkes-MacBook-Pro.local\u001b[0m\n",
      "\u001b[33mBuilding DAG of jobs...\u001b[0m\n",
      "\u001b[35mYour conda installation is not configured to use strict channel priorities. This is however important for having robust and correct environments (for details, see https://conda-forge.org/docs/user/tipsandtricks.html). Please consider to configure strict priorities by executing 'conda config --set channel_priority strict'.\u001b[0m\n",
      "\u001b[33mNothing to be done (all requested files are present and up to date).\u001b[0m\n"
     ]
    }
   ],
   "source": [
    "!snakemake --use-conda mapped/A.bam"
   ]
  },
  {
   "cell_type": "markdown",
   "metadata": {},
   "source": [
    "to perform the actual execution."
   ]
  },
  {
   "cell_type": "markdown",
   "metadata": {},
   "source": [
    "Step 3\n",
    "------\n",
    "\n",
    "Now, generalize the rule `bwa` by replacing the concrete sample name `A`\n",
    "with a wildcard `{sample}` in input and output file the rule `bwa`. This\n",
    "way, Snakemake can apply the rule to map any of the three available\n",
    "samples to the reference genome.\n",
    "\n",
    "Test this by creating the file `mapped/B.bam`."
   ]
  },
  {
   "cell_type": "code",
   "execution_count": 8,
   "metadata": {},
   "outputs": [
    {
     "name": "stdout",
     "output_type": "stream",
     "text": [
      "Overwriting Snakefile\n"
     ]
    }
   ],
   "source": [
    "%%writefile Snakefile\n",
    "rule bwa:\n",
    "    input:\n",
    "        \"data/genome.fa\",\n",
    "        \"data/samples/{sample}.fastq\"\n",
    "    output:\n",
    "        \"mapped/{sample}.bam\"\n",
    "    conda:\n",
    "        \"mapping.yaml\"\n",
    "    shell:\n",
    "        \"bwa mem {input} | samtools view -Sb - > {output}\"\n",
    "        "
   ]
  },
  {
   "cell_type": "code",
   "execution_count": 9,
   "metadata": {},
   "outputs": [
    {
     "name": "stdout",
     "output_type": "stream",
     "text": [
      "\u001b[33mAssuming unrestricted shared filesystem usage.\u001b[0m\n",
      "\u001b[32mhost: Burkes-MacBook-Pro.local\u001b[0m\n",
      "\u001b[33mBuilding DAG of jobs...\u001b[0m\n",
      "\u001b[35mYour conda installation is not configured to use strict channel priorities. This is however important for having robust and correct environments (for details, see https://conda-forge.org/docs/user/tipsandtricks.html). Please consider to configure strict priorities by executing 'conda config --set channel_priority strict'.\u001b[0m\n",
      "\u001b[33mNothing to be done (all requested files are present and up to date).\u001b[0m\n"
     ]
    }
   ],
   "source": [
    "!snakemake --use-conda mapped/B.bam"
   ]
  },
  {
   "cell_type": "markdown",
   "metadata": {},
   "source": [
    "Step 4\n",
    "------\n",
    "\n",
    "Next, create a rule `sort` that sorts the obtained `.bam` file by\n",
    "genomic coordinate. The rule should have the input file\n",
    "\n",
    "-   `mapped/{sample}.bam`\n",
    "\n",
    "and the output file\n",
    "\n",
    "-   `mapped/{sample}.sorted.bam`\n",
    "\n",
    "and uses the shell command\n",
    "\n",
    "    samtools sort -o {output} {input}\n",
    "\n",
    "to perform the sorting. Moreover, use the same `conda:` directive as for\n",
    "the previous rule."
   ]
  },
  {
   "cell_type": "code",
   "execution_count": 10,
   "metadata": {},
   "outputs": [
    {
     "name": "stdout",
     "output_type": "stream",
     "text": [
      "Overwriting Snakefile\n"
     ]
    }
   ],
   "source": [
    "%%writefile Snakefile\n",
    "rule bwa:\n",
    "    input:\n",
    "        \"data/genome.fa\",\n",
    "        \"data/samples/{sample}.fastq\"\n",
    "    output:\n",
    "        temp(\"mapped/{sample}.bam\")\n",
    "    conda:\n",
    "        \"mapping.yaml\"\n",
    "    threads: 8\n",
    "    shell:\n",
    "        \"bwa mem -t {threads} {input} | samtools view -Sb - > {output}\"\n",
    "\n",
    "\n",
    "rule sort:\n",
    "    input:\n",
    "        \"mapped/{sample}.bam\"\n",
    "    output:\n",
    "        \"mapped/{sample}.sorted.bam\"\n",
    "    conda:\n",
    "        \"mapping.yaml\"\n",
    "    shell:\n",
    "        \"samtools sort -o {output} {input}\""
   ]
  },
  {
   "cell_type": "markdown",
   "metadata": {},
   "source": [
    "Test your workflow with"
   ]
  },
  {
   "cell_type": "code",
   "execution_count": 11,
   "metadata": {},
   "outputs": [
    {
     "name": "stdout",
     "output_type": "stream",
     "text": [
      "\u001b[32mhost: Burkes-MacBook-Pro.local\u001b[0m\n",
      "\u001b[33mBuilding DAG of jobs...\u001b[0m\n",
      "\u001b[33mJob stats:\n",
      "job      count\n",
      "-----  -------\n",
      "bwa          1\n",
      "sort         1\n",
      "total        2\n",
      "\u001b[0m\n",
      "\u001b[32m\u001b[0m\n",
      "\u001b[32m[Mon Oct 21 16:08:22 2024]\u001b[0m\n",
      "\u001b[32mrule bwa:\n",
      "    input: data/genome.fa, data/samples/A.fastq\n",
      "    output: mapped/A.bam\n",
      "    jobid: 1\n",
      "    reason: Code has changed since last execution\n",
      "    wildcards: sample=A\n",
      "    threads: 8\n",
      "    resources: tmpdir=<TBD>\u001b[0m\n",
      "\u001b[32m\u001b[0m\n",
      "\u001b[32m\u001b[0m\n",
      "\u001b[32m[Mon Oct 21 16:08:22 2024]\u001b[0m\n",
      "\u001b[32mrule sort:\n",
      "    input: mapped/A.bam\n",
      "    output: mapped/A.sorted.bam\n",
      "    jobid: 0\n",
      "    reason: Input files updated by another job: mapped/A.bam\n",
      "    wildcards: sample=A\n",
      "    resources: tmpdir=<TBD>\u001b[0m\n",
      "\u001b[32m\u001b[0m\n",
      "\u001b[33mWould remove temporary output mapped/A.bam\u001b[0m\n",
      "\u001b[33mJob stats:\n",
      "job      count\n",
      "-----  -------\n",
      "bwa          1\n",
      "sort         1\n",
      "total        2\n",
      "\u001b[0m\n",
      "\u001b[33mReasons:\n",
      "    (check individual jobs above for details)\n",
      "    code has changed since last execution:\n",
      "        bwa\n",
      "    input files updated by another job:\n",
      "        sort\u001b[0m\n",
      "\u001b[33mSome jobs were triggered by provenance information, see 'reason' section in the rule displays above.\n",
      "If you prefer that only modification time is used to determine whether a job shall be executed, use the command line option '--rerun-triggers mtime' (also see --help).\n",
      "If you are sure that a change for a certain output file (say, <outfile>) won't change the result (e.g. because you just changed the formatting of a script or environment definition), you can also wipe its metadata to skip such a trigger via 'snakemake --cleanup-metadata <outfile>'. \u001b[0m\n",
      "\u001b[33mRules with provenance triggered jobs: bwa\u001b[0m\n",
      "\u001b[33m\u001b[0m\n",
      "\u001b[33m\u001b[0m\n",
      "\u001b[33mThis was a dry-run (flag -n). The order of jobs does not reflect the order of execution.\u001b[0m\n"
     ]
    }
   ],
   "source": [
    "!snakemake --use-conda -n mapped/A.sorted.bam"
   ]
  },
  {
   "cell_type": "markdown",
   "metadata": {},
   "source": [
    "and"
   ]
  },
  {
   "cell_type": "code",
   "execution_count": 12,
   "metadata": {},
   "outputs": [
    {
     "name": "stdout",
     "output_type": "stream",
     "text": [
      "\u001b[33mAssuming unrestricted shared filesystem usage.\u001b[0m\n",
      "\u001b[32mhost: Burkes-MacBook-Pro.local\u001b[0m\n",
      "\u001b[33mBuilding DAG of jobs...\u001b[0m\n",
      "\u001b[35mYour conda installation is not configured to use strict channel priorities. This is however important for having robust and correct environments (for details, see https://conda-forge.org/docs/user/tipsandtricks.html). Please consider to configure strict priorities by executing 'conda config --set channel_priority strict'.\u001b[0m\n",
      "\u001b[33mUsing shell: /bin/bash\u001b[0m\n",
      "\u001b[33mProvided cores: 10\u001b[0m\n",
      "\u001b[33mRules claiming more threads will be scaled down.\u001b[0m\n",
      "\u001b[33mJob stats:\n",
      "job      count\n",
      "-----  -------\n",
      "bwa          1\n",
      "sort         1\n",
      "total        2\n",
      "\u001b[0m\n",
      "\u001b[33mSelect jobs to execute...\u001b[0m\n",
      "\u001b[33mExecute 1 jobs...\u001b[0m\n",
      "\u001b[32m\u001b[0m\n",
      "\u001b[32m[Mon Oct 21 16:08:23 2024]\u001b[0m\n",
      "\u001b[32mlocalrule bwa:\n",
      "    input: data/genome.fa, data/samples/A.fastq\n",
      "    output: mapped/A.bam\n",
      "    jobid: 1\n",
      "    reason: Code has changed since last execution\n",
      "    wildcards: sample=A\n",
      "    threads: 8\n",
      "    resources: tmpdir=/var/folders/pd/ft957f5s59g4m8br4tf9fqw80000gn/T\u001b[0m\n",
      "\u001b[32m\u001b[0m\n",
      "\u001b[33mActivating conda environment: .snakemake/conda/bf4422152ff2f64fdaa4a7d19a45a360_\u001b[0m\n",
      "[M::bwa_idx_load_from_disk] read 0 ALT contigs\n",
      "[M::process] read 25000 sequences (2525000 bp)...\n",
      "[M::mem_process_seqs] Processed 25000 reads in 0.638 CPU sec, 0.081 real sec\n",
      "[main] Version: 0.7.18-r1243-dirty\n",
      "[main] CMD: bwa mem -t 8 data/genome.fa data/samples/A.fastq\n",
      "[main] Real time: 0.166 sec; CPU: 0.653 sec\n",
      "\u001b[32m[Mon Oct 21 16:08:24 2024]\u001b[0m\n",
      "\u001b[32mFinished job 1.\u001b[0m\n",
      "\u001b[32m1 of 2 steps (50%) done\u001b[0m\n",
      "\u001b[33mSelect jobs to execute...\u001b[0m\n",
      "\u001b[33mExecute 1 jobs...\u001b[0m\n",
      "\u001b[32m\u001b[0m\n",
      "\u001b[32m[Mon Oct 21 16:08:24 2024]\u001b[0m\n",
      "\u001b[32mlocalrule sort:\n",
      "    input: mapped/A.bam\n",
      "    output: mapped/A.sorted.bam\n",
      "    jobid: 0\n",
      "    reason: Input files updated by another job: mapped/A.bam\n",
      "    wildcards: sample=A\n",
      "    resources: tmpdir=/var/folders/pd/ft957f5s59g4m8br4tf9fqw80000gn/T\u001b[0m\n",
      "\u001b[32m\u001b[0m\n",
      "\u001b[33mActivating conda environment: .snakemake/conda/bf4422152ff2f64fdaa4a7d19a45a360_\u001b[0m\n",
      "\u001b[32m[Mon Oct 21 16:08:24 2024]\u001b[0m\n",
      "\u001b[32mFinished job 0.\u001b[0m\n",
      "\u001b[32m2 of 2 steps (100%) done\u001b[0m\n",
      "\u001b[33mRemoving temporary output mapped/A.bam.\u001b[0m\n",
      "\u001b[33mComplete log: .snakemake/log/2024-10-21T160822.576396.snakemake.log\u001b[0m\n"
     ]
    }
   ],
   "source": [
    "!snakemake --use-conda mapped/A.sorted.bam"
   ]
  },
  {
   "cell_type": "code",
   "execution_count": null,
   "metadata": {},
   "outputs": [],
   "source": []
  },
  {
   "cell_type": "markdown",
   "metadata": {},
   "source": [
    "Step 5\n",
    "------\n",
    "\n",
    "Now, we aggregate over all samples to perform a joint calling of genomic variants. First, we define a variable\n",
    "\n",
    "    samples = [\"A\", \"B\", \"C\"]\n",
    "\n",
    "at the top of the `Snakefile`. This serves as a definition of the samples over which we would want to aggregate. In real life, you would want to use an external sample sheet or a [config\n",
    "file](http://snakemake.readthedocs.io/en/stable/tutorial/advanced.html#step-2-config-files) for things like this.\n",
    "\n",
    "For aggregation over many files, Snakemake provides the helper function `expand` (see [the\n",
    "docs](http://snakemake.readthedocs.io/en/stable/tutorial/basics.html#step-5-calling-genomic-variants)). Create a rule `call` with input files\n",
    "\n",
    "-   `fa=\"data/genome.fa\"`\n",
    "-   `bam=expand(\"mapped/{sample}.sorted.bam\", sample=samples)`\n",
    "\n",
    "output file\n",
    "\n",
    "-   `\"calls/all.vcf\"`\n",
    "\n",
    "and shell command\n",
    "\n",
    "    samtools mpileup -g -f {input.fa} {input.bam} | bcftools call -mv - > {output}"
   ]
  },
  {
   "cell_type": "code",
   "execution_count": 13,
   "metadata": {},
   "outputs": [
    {
     "name": "stdout",
     "output_type": "stream",
     "text": [
      "Overwriting Snakefile\n"
     ]
    }
   ],
   "source": [
    "%%writefile Snakefile\n",
    "samples = [\"A\", \"B\", \"C\"]\n",
    "\n",
    "rule call:\n",
    "    input:\n",
    "        fa=\"data/genome.fa\",\n",
    "        bam=expand(\"mapped/{sample}.sorted.bam\", sample=samples)\n",
    "    output:\n",
    "        \"calls/all.vcf\"\n",
    "    conda:\n",
    "        \"calling.yaml\"\n",
    "    shell:\n",
    "        \"samtools mpileup -g -f {input.fa} {input.bam} | \"\n",
    "        \"bcftools call -mv - > {output}\"\n",
    "\n",
    "rule bwa:\n",
    "    input:\n",
    "        \"data/genome.fa\",\n",
    "        \"data/samples/{sample}.fastq\"\n",
    "    output:\n",
    "        temp(\"mapped/{sample}.bam\")\n",
    "    conda:\n",
    "        \"mapping.yaml\"\n",
    "    threads: 8\n",
    "    shell:\n",
    "        \"bwa mem -t {threads} {input} | samtools view -Sb - > {output}\"\n",
    "\n",
    "\n",
    "rule sort:\n",
    "    input:\n",
    "        \"mapped/{sample}.bam\"\n",
    "    output:\n",
    "        \"mapped/{sample}.sorted.bam\"\n",
    "    conda:\n",
    "        \"mapping.yaml\"\n",
    "    shell:\n",
    "        \"samtools sort -o {output} {input}\""
   ]
  },
  {
   "cell_type": "markdown",
   "metadata": {},
   "source": [
    "Further, define a new conda environment file with the following content:"
   ]
  },
  {
   "cell_type": "code",
   "execution_count": 18,
   "metadata": {},
   "outputs": [
    {
     "name": "stdout",
     "output_type": "stream",
     "text": [
      "Overwriting calling.yaml\n"
     ]
    }
   ],
   "source": [
    "%%writefile calling.yaml\n",
    "channels:\n",
    "    - bioconda\n",
    "    - conda-forge\n",
    "dependencies:\n",
    "    - bcftools\n",
    "    - samtools"
   ]
  },
  {
   "cell_type": "code",
   "execution_count": 19,
   "metadata": {},
   "outputs": [
    {
     "name": "stdout",
     "output_type": "stream",
     "text": [
      "\u001b[33mAssuming unrestricted shared filesystem usage.\u001b[0m\n",
      "\u001b[32mhost: Burkes-MacBook-Pro.local\u001b[0m\n",
      "\u001b[33mBuilding DAG of jobs...\u001b[0m\n",
      "\u001b[35mYour conda installation is not configured to use strict channel priorities. This is however important for having robust and correct environments (for details, see https://conda-forge.org/docs/user/tipsandtricks.html). Please consider to configure strict priorities by executing 'conda config --set channel_priority strict'.\u001b[0m\n",
      "\u001b[33mCreating conda environment calling.yaml...\u001b[0m\n",
      "\u001b[33mDownloading and installing remote packages.\u001b[0m\n",
      "\u001b[33mEnvironment for /Users/burkesquires/Documents/GitHub/python_biologist/09_python_workflows/calling.yaml created (location: .snakemake/conda/bd6c4fb5461f3faf0648eb0f013d7755_)\u001b[0m\n",
      "\u001b[33mUsing shell: /bin/bash\u001b[0m\n",
      "\u001b[33mProvided cores: 10\u001b[0m\n",
      "\u001b[33mRules claiming more threads will be scaled down.\u001b[0m\n",
      "\u001b[33mJob stats:\n",
      "job      count\n",
      "-----  -------\n",
      "bwa          2\n",
      "call         1\n",
      "sort         2\n",
      "total        5\n",
      "\u001b[0m\n",
      "\u001b[33mSelect jobs to execute...\u001b[0m\n",
      "\u001b[31mTraceback (most recent call last):\n",
      "\n",
      "  File \"/opt/anaconda3/lib/python3.12/site-packages/snakemake/cli.py\", line 2100, in args_to_api\n",
      "    dag_api.execute_workflow(\n",
      "\n",
      "  File \"/opt/anaconda3/lib/python3.12/site-packages/snakemake/api.py\", line 595, in execute_workflow\n",
      "    workflow.execute(\n",
      "\n",
      "  File \"/opt/anaconda3/lib/python3.12/site-packages/snakemake/workflow.py\", line 1264, in execute\n",
      "    raise e\n",
      "\n",
      "  File \"/opt/anaconda3/lib/python3.12/site-packages/snakemake/workflow.py\", line 1260, in execute\n",
      "    success = self.scheduler.schedule()\n",
      "              ^^^^^^^^^^^^^^^^^^^^^^^^^\n",
      "\n",
      "  File \"/opt/anaconda3/lib/python3.12/site-packages/snakemake/scheduler.py\", line 282, in schedule\n",
      "    run = self.job_selector(needrun)\n",
      "          ^^^^^^^^^^^^^^^^^^^^^^^^^^\n",
      "\n",
      "  File \"/opt/anaconda3/lib/python3.12/site-packages/snakemake/scheduler.py\", line 495, in job_selector\n",
      "    return self._job_selector(jobs)\n",
      "           ^^^^^^^^^^^^^^^^^^^^^^^^\n",
      "\n",
      "  File \"/opt/anaconda3/lib/python3.12/site-packages/snakemake/scheduler.py\", line 627, in job_selector_ilp\n",
      "    status = self._solve_ilp(prob, time_limit=10)\n",
      "             ^^^^^^^^^^^^^^^^^^^^^^^^^^^^^^^^^^^^\n",
      "\n",
      "  File \"/opt/anaconda3/lib/python3.12/site-packages/snakemake/scheduler.py\", line 676, in _solve_ilp\n",
      "    return prob.solve(solver)\n",
      "           ^^^^^^^^^^^^^^^^^^\n",
      "\n",
      "  File \"/opt/anaconda3/lib/python3.12/site-packages/pulp/pulp.py\", line 1883, in solve\n",
      "    status = solver.actualSolve(self, **kwargs)\n",
      "             ^^^^^^^^^^^^^^^^^^^^^^^^^^^^^^^^^^\n",
      "\n",
      "  File \"/opt/anaconda3/lib/python3.12/site-packages/pulp/apis/coin_api.py\", line 112, in actualSolve\n",
      "    return self.solve_CBC(lp, **kwargs)\n",
      "           ^^^^^^^^^^^^^^^^^^^^^^^^^^^^\n",
      "\n",
      "  File \"/opt/anaconda3/lib/python3.12/site-packages/pulp/apis/coin_api.py\", line 181, in solve_CBC\n",
      "    raise PulpSolverError(\n",
      "\n",
      "pulp.apis.core.PulpSolverError: Pulp: Error while trying to execute, use msg=True for more detailscbc\n",
      "\u001b[0m\n"
     ]
    }
   ],
   "source": [
    "!snakemake --use-conda"
   ]
  },
  {
   "cell_type": "markdown",
   "metadata": {},
   "source": [
    "Step 6\n",
    "------\n",
    "\n",
    "Finally, we strive to calculate some exemplary statistics. This time, we\n",
    "don’t use a shell command, but rather employ Snakemake’s ability to\n",
    "integrate with scripting languages like R and Python.\n",
    "\n",
    "First, we create a rule `stats` with input file\n",
    "\n",
    "-   `\"calls/all.vcf\"`\n",
    "\n",
    "and output file\n",
    "\n",
    "-   `\"plots/quals.svg\"`.\n",
    "\n",
    "Instead of a shell command, we write\n",
    "\n",
    "    script:\n",
    "        \"scripts/plot-quals.py\""
   ]
  },
  {
   "cell_type": "markdown",
   "metadata": {},
   "source": [
    "and create the corresponding script and its containing folder in our working directory with\n",
    "\n",
    "    mkdir scripts\n",
    "    touch scripts/plot-quals.py\n",
    "\n",
    "We open the script in the editor and add the following content\n",
    "\n",
    "    import matplotlib\n",
    "    matplotlib.use(\"Agg\")\n",
    "    import matplotlib.pyplot as plt\n",
    "    from pysam import VariantFile\n",
    "\n",
    "    quals = [record.qual for record in VariantFile(snakemake.input[0])]\n",
    "    plt.hist(quals)\n",
    "\n",
    "    plt.savefig(snakemake.output[0])\n",
    "\n",
    "As you can see, instead of writing a command line parser for passing parameters like input and output files, you have direct access to the properties of the rule via a magic `snakemake` object, that Snakemake automatically inserts into the script before executing the rule."
   ]
  },
  {
   "cell_type": "code",
   "execution_count": 21,
   "metadata": {},
   "outputs": [
    {
     "name": "stdout",
     "output_type": "stream",
     "text": [
      "Writing plot-quals.py\n"
     ]
    }
   ],
   "source": [
    "%%writefile plot-quals.py\n",
    "import matplotlib\n",
    "matplotlib.use(\"Agg\")\n",
    "import matplotlib.pyplot as plt\n",
    "from pysam import VariantFile\n",
    "\n",
    "quals = [record.qual for record in VariantFile(snakemake.input[0])]\n",
    "plt.hist(quals)\n",
    "\n",
    "plt.savefig(snakemake.output[0])"
   ]
  },
  {
   "cell_type": "code",
   "execution_count": 22,
   "metadata": {},
   "outputs": [
    {
     "name": "stdout",
     "output_type": "stream",
     "text": [
      "Overwriting Snakefile\n"
     ]
    }
   ],
   "source": [
    "%%writefile Snakefile\n",
    "samples = [\"A\", \"B\", \"C\"]\n",
    "\n",
    "rule bwa:\n",
    "    input:\n",
    "        \"data/genome.fa\",\n",
    "        \"data/samples/{sample}.fastq\"\n",
    "    output:\n",
    "        temp(\"mapped/{sample}.bam\")\n",
    "    conda:\n",
    "        \"mapping.yaml\"\n",
    "    threads: 8\n",
    "    shell:\n",
    "        \"bwa mem -t {threads} {input} | samtools view -Sb - > {output}\"\n",
    "\n",
    "rule sort:\n",
    "    input:\n",
    "        \"mapped/{sample}.bam\"\n",
    "    output:\n",
    "        \"mapped/{sample}.sorted.bam\n",
    "    conda:\n",
    "        \"mapping.yaml\"\n",
    "    shell:\n",
    "        \"samtools sort -o {output} {input}\"\n",
    "\n",
    "rule call:\n",
    "    input:\n",
    "        fa = \"data/genome.fa\",\n",
    "        bam = expand(\"mapped/{sample}.sorted.bam\", sample=samples)\n",
    "    output:\n",
    "        \"calls/all.vcf\"\n",
    "    conda:\n",
    "        \"calling.yaml\"\n",
    "    shell:\n",
    "        \"samtools mpileup -g -f {input.fa} {input.bam} | \"\n",
    "        \"bcftools call -mv - > {output}\"\n",
    "\n",
    "rule stats:\n",
    "    input:\n",
    "        \"calls/all.vcf\"\n",
    "    output:\n",
    "        \"plots/quals.svg\"\n",
    "    conda:\n",
    "        \"stats.yaml\"\n",
    "    script:\n",
    "        \"plot-quals.py\""
   ]
  },
  {
   "cell_type": "markdown",
   "metadata": {},
   "source": [
    "Finally, we have to define a conda environment for the rule, say `envs/stats.yaml`, that provides the required Python packages to execute the script:"
   ]
  },
  {
   "cell_type": "code",
   "execution_count": 25,
   "metadata": {},
   "outputs": [
    {
     "name": "stdout",
     "output_type": "stream",
     "text": [
      "Overwriting stats.yaml\n"
     ]
    }
   ],
   "source": [
    "%%writefile stats.yaml\n",
    "channels:\n",
    "    - bioconda\n",
    "    - conda-forge\n",
    "dependencies:\n",
    "    - pysam\n",
    "    - matplotlib\n",
    " "
   ]
  },
  {
   "cell_type": "markdown",
   "metadata": {},
   "source": [
    "Make sure to test your workflow with"
   ]
  },
  {
   "cell_type": "code",
   "execution_count": 31,
   "metadata": {},
   "outputs": [
    {
     "name": "stdout",
     "output_type": "stream",
     "text": [
      "\u001b[33mAssuming unrestricted shared filesystem usage.\u001b[0m\n",
      "\u001b[32mhost: Burkes-MacBook-Pro.local\u001b[0m\n",
      "\u001b[33mBuilding DAG of jobs...\u001b[0m\n",
      "\u001b[33mUsing shell: /bin/bash\u001b[0m\n",
      "\u001b[33mProvided cores: 10\u001b[0m\n",
      "\u001b[33mRules claiming more threads will be scaled down.\u001b[0m\n",
      "\u001b[33mConda environments: ignored\u001b[0m\n",
      "\u001b[33mJob stats:\n",
      "job      count\n",
      "-----  -------\n",
      "bwa          2\n",
      "call         1\n",
      "sort         2\n",
      "stats        1\n",
      "total        6\n",
      "\u001b[0m\n",
      "\u001b[33mSelect jobs to execute...\u001b[0m\n",
      "\u001b[31mTraceback (most recent call last):\n",
      "\n",
      "  File \"/opt/anaconda3/lib/python3.12/site-packages/snakemake/cli.py\", line 2100, in args_to_api\n",
      "    dag_api.execute_workflow(\n",
      "\n",
      "  File \"/opt/anaconda3/lib/python3.12/site-packages/snakemake/api.py\", line 595, in execute_workflow\n",
      "    workflow.execute(\n",
      "\n",
      "  File \"/opt/anaconda3/lib/python3.12/site-packages/snakemake/workflow.py\", line 1264, in execute\n",
      "    raise e\n",
      "\n",
      "  File \"/opt/anaconda3/lib/python3.12/site-packages/snakemake/workflow.py\", line 1260, in execute\n",
      "    success = self.scheduler.schedule()\n",
      "              ^^^^^^^^^^^^^^^^^^^^^^^^^\n",
      "\n",
      "  File \"/opt/anaconda3/lib/python3.12/site-packages/snakemake/scheduler.py\", line 282, in schedule\n",
      "    run = self.job_selector(needrun)\n",
      "          ^^^^^^^^^^^^^^^^^^^^^^^^^^\n",
      "\n",
      "  File \"/opt/anaconda3/lib/python3.12/site-packages/snakemake/scheduler.py\", line 495, in job_selector\n",
      "    return self._job_selector(jobs)\n",
      "           ^^^^^^^^^^^^^^^^^^^^^^^^\n",
      "\n",
      "  File \"/opt/anaconda3/lib/python3.12/site-packages/snakemake/scheduler.py\", line 627, in job_selector_ilp\n",
      "    status = self._solve_ilp(prob, time_limit=10)\n",
      "             ^^^^^^^^^^^^^^^^^^^^^^^^^^^^^^^^^^^^\n",
      "\n",
      "  File \"/opt/anaconda3/lib/python3.12/site-packages/snakemake/scheduler.py\", line 676, in _solve_ilp\n",
      "    return prob.solve(solver)\n",
      "           ^^^^^^^^^^^^^^^^^^\n",
      "\n",
      "  File \"/opt/anaconda3/lib/python3.12/site-packages/pulp/pulp.py\", line 1883, in solve\n",
      "    status = solver.actualSolve(self, **kwargs)\n",
      "             ^^^^^^^^^^^^^^^^^^^^^^^^^^^^^^^^^^\n",
      "\n",
      "  File \"/opt/anaconda3/lib/python3.12/site-packages/pulp/apis/coin_api.py\", line 112, in actualSolve\n",
      "    return self.solve_CBC(lp, **kwargs)\n",
      "           ^^^^^^^^^^^^^^^^^^^^^^^^^^^^\n",
      "\n",
      "  File \"/opt/anaconda3/lib/python3.12/site-packages/pulp/apis/coin_api.py\", line 181, in solve_CBC\n",
      "    raise PulpSolverError(\n",
      "\n",
      "pulp.apis.core.PulpSolverError: Pulp: Error while trying to execute, use msg=True for more detailscbc\n",
      "\u001b[0m\n"
     ]
    }
   ],
   "source": [
    "!snakemake plots/quals.svg"
   ]
  },
  {
   "cell_type": "markdown",
   "metadata": {},
   "source": [
    "Step 7\n",
    "------\n",
    "\n",
    "So far, we have always specified a target file at the command line when\n",
    "invoking Snakemake. When no target file is specified, Snakemake tries to\n",
    "execute the first rule in the `Snakefile`. We can use this property to\n",
    "define default target files.\n",
    "\n",
    "At the top of your `Snakefile` define a rule `all`, with input files\n",
    "\n",
    "-   `\"calls/all.vcf\"`\n",
    "-   `\"plots/quals.svg\"`\n",
    "\n",
    "and neither a shell command nor output files. This rule simply serves as\n",
    "an indicator of what shall be collected as results."
   ]
  },
  {
   "cell_type": "code",
   "execution_count": 27,
   "metadata": {},
   "outputs": [
    {
     "name": "stdout",
     "output_type": "stream",
     "text": [
      "Overwriting Snakefile\n"
     ]
    }
   ],
   "source": [
    "%%writefile Snakefile\n",
    "samples = [\"A\", \"B\", \"C\"]\n",
    "\n",
    "rule all:\n",
    "    input:\n",
    "        \"calls/all.vcf\",\n",
    "        \"plots/quals.svg\"\n",
    "\n",
    "        \n",
    "rule bwa:\n",
    "    input:\n",
    "        \"data/genome.fa\",\n",
    "        \"data/samples/{sample}.fastq\"\n",
    "    output:\n",
    "        temp(\"mapped/{sample}.bam\")\n",
    "    conda:\n",
    "        \"mapping.yaml\"\n",
    "    threads: 8\n",
    "    shell:\n",
    "        \"bwa mem -t {threads} {input} | samtools view -Sb - > {output}\"\n",
    "\n",
    "\n",
    "rule sort:\n",
    "    input:\n",
    "        \"mapped/{sample}.bam\"\n",
    "    output:\n",
    "        \"mapped/{sample}.sorted.bam\"\n",
    "    conda:\n",
    "        \"mapping.yaml\"\n",
    "    shell:\n",
    "        \"samtools sort -o {output} {input}\"\n",
    "\n",
    "\n",
    "\n",
    "rule call:\n",
    "    input:\n",
    "        fa=\"data/genome.fa\",\n",
    "        bam=expand(\"mapped/{sample}.sorted.bam\", sample=samples)\n",
    "    output:\n",
    "        \"calls/all.vcf\"\n",
    "    conda:\n",
    "        \"calling.yaml\"\n",
    "    shell:\n",
    "        \"samtools mpileup -g -f {input.fa} {input.bam} | \"\n",
    "        \"bcftools call -mv - > {output}\"\n",
    "\n",
    "        \n",
    "rule stats:\n",
    "    input:\n",
    "        \"calls/all.vcf\"\n",
    "    output:\n",
    "        report(\"plots/quals.svg\", caption=\"report/calling.rst\")\n",
    "    conda:\n",
    "        \"stats.yaml\"\n",
    "    script:\n",
    "        \"plot-quals.py\""
   ]
  },
  {
   "cell_type": "code",
   "execution_count": 28,
   "metadata": {},
   "outputs": [
    {
     "name": "stdout",
     "output_type": "stream",
     "text": [
      "\u001b[33mAssuming unrestricted shared filesystem usage.\u001b[0m\n",
      "\u001b[32mhost: Burkes-MacBook-Pro.local\u001b[0m\n",
      "\u001b[33mBuilding DAG of jobs...\u001b[0m\n",
      "\u001b[35mYour conda installation is not configured to use strict channel priorities. This is however important for having robust and correct environments (for details, see https://conda-forge.org/docs/user/tipsandtricks.html). Please consider to configure strict priorities by executing 'conda config --set channel_priority strict'.\u001b[0m\n",
      "\u001b[33mUsing shell: /bin/bash\u001b[0m\n",
      "\u001b[33mProvided cores: 10\u001b[0m\n",
      "\u001b[33mRules claiming more threads will be scaled down.\u001b[0m\n",
      "\u001b[33mJob stats:\n",
      "job      count\n",
      "-----  -------\n",
      "all          1\n",
      "bwa          2\n",
      "call         1\n",
      "sort         2\n",
      "stats        1\n",
      "total        7\n",
      "\u001b[0m\n",
      "\u001b[33mSelect jobs to execute...\u001b[0m\n",
      "\u001b[31mTraceback (most recent call last):\n",
      "\n",
      "  File \"/opt/anaconda3/lib/python3.12/site-packages/snakemake/cli.py\", line 2100, in args_to_api\n",
      "    dag_api.execute_workflow(\n",
      "\n",
      "  File \"/opt/anaconda3/lib/python3.12/site-packages/snakemake/api.py\", line 595, in execute_workflow\n",
      "    workflow.execute(\n",
      "\n",
      "  File \"/opt/anaconda3/lib/python3.12/site-packages/snakemake/workflow.py\", line 1264, in execute\n",
      "    raise e\n",
      "\n",
      "  File \"/opt/anaconda3/lib/python3.12/site-packages/snakemake/workflow.py\", line 1260, in execute\n",
      "    success = self.scheduler.schedule()\n",
      "              ^^^^^^^^^^^^^^^^^^^^^^^^^\n",
      "\n",
      "  File \"/opt/anaconda3/lib/python3.12/site-packages/snakemake/scheduler.py\", line 282, in schedule\n",
      "    run = self.job_selector(needrun)\n",
      "          ^^^^^^^^^^^^^^^^^^^^^^^^^^\n",
      "\n",
      "  File \"/opt/anaconda3/lib/python3.12/site-packages/snakemake/scheduler.py\", line 495, in job_selector\n",
      "    return self._job_selector(jobs)\n",
      "           ^^^^^^^^^^^^^^^^^^^^^^^^\n",
      "\n",
      "  File \"/opt/anaconda3/lib/python3.12/site-packages/snakemake/scheduler.py\", line 627, in job_selector_ilp\n",
      "    status = self._solve_ilp(prob, time_limit=10)\n",
      "             ^^^^^^^^^^^^^^^^^^^^^^^^^^^^^^^^^^^^\n",
      "\n",
      "  File \"/opt/anaconda3/lib/python3.12/site-packages/snakemake/scheduler.py\", line 676, in _solve_ilp\n",
      "    return prob.solve(solver)\n",
      "           ^^^^^^^^^^^^^^^^^^\n",
      "\n",
      "  File \"/opt/anaconda3/lib/python3.12/site-packages/pulp/pulp.py\", line 1883, in solve\n",
      "    status = solver.actualSolve(self, **kwargs)\n",
      "             ^^^^^^^^^^^^^^^^^^^^^^^^^^^^^^^^^^\n",
      "\n",
      "  File \"/opt/anaconda3/lib/python3.12/site-packages/pulp/apis/coin_api.py\", line 112, in actualSolve\n",
      "    return self.solve_CBC(lp, **kwargs)\n",
      "           ^^^^^^^^^^^^^^^^^^^^^^^^^^^^\n",
      "\n",
      "  File \"/opt/anaconda3/lib/python3.12/site-packages/pulp/apis/coin_api.py\", line 181, in solve_CBC\n",
      "    raise PulpSolverError(\n",
      "\n",
      "pulp.apis.core.PulpSolverError: Pulp: Error while trying to execute, use msg=True for more detailscbc\n",
      "\u001b[0m\n"
     ]
    }
   ],
   "source": [
    "!snakemake --use-conda"
   ]
  },
  {
   "cell_type": "code",
   "execution_count": null,
   "metadata": {},
   "outputs": [],
   "source": [
    "# !rm plots/quals.svg calls/all.vcf mapped/*"
   ]
  },
  {
   "cell_type": "markdown",
   "metadata": {},
   "source": [
    "Step 8\n",
    "------\n",
    "\n",
    "As a last step, we strive to annotate our workflow with some additional\n",
    "information."
   ]
  },
  {
   "cell_type": "markdown",
   "metadata": {},
   "source": [
    "### Automatic reports\n",
    "\n",
    "Snakemake can automatically create HTML reports with"
   ]
  },
  {
   "cell_type": "code",
   "execution_count": null,
   "metadata": {},
   "outputs": [],
   "source": [
    "conda install imagemagick"
   ]
  },
  {
   "cell_type": "code",
   "execution_count": null,
   "metadata": {},
   "outputs": [],
   "source": [
    "conda install pygraphviz"
   ]
  },
  {
   "cell_type": "code",
   "execution_count": null,
   "metadata": {},
   "outputs": [],
   "source": []
  },
  {
   "cell_type": "markdown",
   "metadata": {},
   "source": [
    "Such a report contains runtime statistics, a visualization of the\n",
    "workflow topology, used software and data provenance information.\n",
    "\n",
    "In addition, you can mark any output file generated in your workflow for\n",
    "inclusion into the report. It will be encoded directly into the report,\n",
    "such that it can be, e.g., emailed as a self-contained document. The\n",
    "reader (e.g., a collaborator of yours) can at any time download the\n",
    "enclosed results from the report for further use, e.g., in a manuscript\n",
    "you write together. In this example, please mark the output file\n",
    "`\"plots/quals.svg\"` for inclusion by replacing it with\n",
    "`report(\"plots/quals.svg\", caption=\"report/calling.rst\")` and adding a\n",
    "file `report/calling.rst`, containing some description of the output\n",
    "file. This description will be presented as caption in the resulting\n",
    "report."
   ]
  },
  {
   "cell_type": "code",
   "execution_count": null,
   "metadata": {},
   "outputs": [],
   "source": [
    "%%writefile report/calling.rst\n",
    "This is a short description of the project that is the subject of the report."
   ]
  },
  {
   "cell_type": "code",
   "execution_count": null,
   "metadata": {},
   "outputs": [],
   "source": [
    "!snakemake --report report.html"
   ]
  },
  {
   "cell_type": "markdown",
   "metadata": {},
   "source": [
    "### Threads\n",
    "\n",
    "The first rule `bwa` can in theory use multiple threads. You can make\n",
    "Snakemake aware of this, such that the information can be used for\n",
    "scheduling. Add a directive `threads: 8` to the rule and alter the shell\n",
    "command to\n",
    "\n",
    "    bwa mem -t {threads} {input} | samtools view -Sb - > {output}\n",
    "\n",
    "This passes the threads defined in the rule as a command line argument\n",
    "to the `bwa` process."
   ]
  },
  {
   "cell_type": "markdown",
   "metadata": {},
   "source": [
    "### Temporary files\n",
    "\n",
    "The output of the `bwa` rule becomes superfluous once the sorted version\n",
    "of the `.bam` file is generated by the rule `sort`. Snakemake can\n",
    "automatically delete the superfluous output once it is not needed\n",
    "anymore. For this, mark the output as temporary by replacing\n",
    "`\"mapped/{sample}.bam\"` in the rule `bwa` with\n",
    "`temp(\"mapped/{sample}.bam\")`."
   ]
  },
  {
   "cell_type": "markdown",
   "metadata": {},
   "source": [
    "---"
   ]
  },
  {
   "cell_type": "markdown",
   "metadata": {},
   "source": [
    "## Draw a graph of the workflow"
   ]
  },
  {
   "cell_type": "code",
   "execution_count": null,
   "metadata": {},
   "outputs": [],
   "source": [
    "!snakemake --dag | dot -Tsvg > dag.svg"
   ]
  },
  {
   "cell_type": "markdown",
   "metadata": {},
   "source": [
    "## Clean Up"
   ]
  },
  {
   "cell_type": "code",
   "execution_count": null,
   "metadata": {},
   "outputs": [],
   "source": [
    "!rm Snakefile dag.svg mapped/* envs/* scripts/* report.html report/*"
   ]
  },
  {
   "cell_type": "code",
   "execution_count": null,
   "metadata": {},
   "outputs": [],
   "source": []
  }
 ],
 "metadata": {
  "kernelspec": {
   "display_name": "Python 3 (ipykernel)",
   "language": "python",
   "name": "python3"
  },
  "language_info": {
   "codemirror_mode": {
    "name": "ipython",
    "version": 3
   },
   "file_extension": ".py",
   "mimetype": "text/x-python",
   "name": "python",
   "nbconvert_exporter": "python",
   "pygments_lexer": "ipython3",
   "version": "3.12.4"
  }
 },
 "nbformat": 4,
 "nbformat_minor": 4
}
