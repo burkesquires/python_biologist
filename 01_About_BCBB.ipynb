{
 "cells": [
  {
   "cell_type": "markdown",
   "metadata": {},
   "source": [
    "# About the BCBB..."
   ]
  },
  {
   "cell_type": "markdown",
   "metadata": {},
   "source": [
    "---"
   ]
  },
  {
   "cell_type": "markdown",
   "metadata": {},
   "source": [
    "### National Institute of Allergy and Infectious Diseases (NIAID)"
   ]
  },
  {
   "cell_type": "markdown",
   "metadata": {},
   "source": [
    "### Office of Cyber Infrastructure and Computational Biology (OCICB)"
   ]
  },
  {
   "cell_type": "markdown",
   "metadata": {},
   "source": [
    "## Bioinformatics and Computational Biosciences Branch (BCBB)\n",
    "\n",
    "https://www.niaid.nih.gov/research/bioinformatics-computational-biosciences-branch\n",
    "\n",
    "- Compuatational Biologists\n",
    "- Bioinformaitcs Software Developers\n",
    "- Project Management & Analysis Professionals"
   ]
  },
  {
   "cell_type": "markdown",
   "metadata": {},
   "source": [
    "## BCBB Services\n",
    "\n",
    "- Provide collaborative consulting with NIAID intramural researchers (and on occasiono others)\n",
    "- Develop Computational Biology related tools and services\n",
    "- Offer training on the NIH campus\n",
    "\n",
    "## NIAID Bioinformatics Portal\n",
    "        \n",
    "http://bioinformatics.niaid.nih.gov/\n",
    "\n",
    "\n",
    "## Email us at:\n",
    "    \n",
    "bioinformatics - at - niaid.nih.gov\n"
   ]
  },
  {
   "cell_type": "code",
   "execution_count": null,
   "metadata": {},
   "outputs": [],
   "source": []
  }
 ],
 "metadata": {
  "kernelspec": {
   "display_name": "Python 3 (ipykernel)",
   "language": "python",
   "name": "python3"
  },
  "language_info": {
   "codemirror_mode": {
    "name": "ipython",
    "version": 3
   },
   "file_extension": ".py",
   "mimetype": "text/x-python",
   "name": "python",
   "nbconvert_exporter": "python",
   "pygments_lexer": "ipython3",
   "version": "3.10.9"
  }
 },
 "nbformat": 4,
 "nbformat_minor": 4
}
