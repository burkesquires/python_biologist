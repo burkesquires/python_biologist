{
 "cells": [
  {
   "cell_type": "markdown",
   "metadata": {
    "slideshow": {
     "slide_type": "fragment"
    }
   },
   "source": [
    "<img align=left src=\"https://www.python.org/static/community_logos/python-logo-master-v3-TM.png\">"
   ]
  },
  {
   "cell_type": "markdown",
   "metadata": {
    "slideshow": {
     "slide_type": "skip"
    }
   },
   "source": [
    "# Resources"
   ]
  },
  {
   "cell_type": "markdown",
   "metadata": {},
   "source": [
    "## What can you do with python?\n",
    "---\n",
    "- https://automatetheboringstuff.com/\n",
    "- https://medium.freecodecamp.org/what-can-you-do-with-python-the-3-main-applications-518db9a68a78\n",
    "- https://www.python.org/about/apps/\n",
    "- https://intersog.com/blog/some-cool-things-you-can-do-with-python/\n",
    "- https://realpython.com/what-can-i-do-with-python/\n",
    "    "
   ]
  },
  {
   "cell_type": "markdown",
   "metadata": {
    "slideshow": {
     "slide_type": "skip"
    }
   },
   "source": [
    "## Official Python Documentation\n",
    "\n",
    "* [The Python Official Docs](http://docs.python.org/3/)\n",
    "* [Official Style Guide for Python](https://www.python.org/dev/peps/pep-0008/)"
   ]
  },
  {
   "cell_type": "markdown",
   "metadata": {
    "slideshow": {
     "slide_type": "skip"
    }
   },
   "source": [
    "## Resources of Resources\n",
    "\n",
    "* [Awesome Python - A curated list of awesome Python frameworks, libraries and software](https://github.com/vinta/awesome-python)"
   ]
  },
  {
   "cell_type": "markdown",
   "metadata": {
    "slideshow": {
     "slide_type": "skip"
    }
   },
   "source": [
    "## Visualize How Python Executes A Program\n",
    "- http://www.pythontutor.com/visualize.html#mode=display\n",
    "\n",
    "   \n",
    "## Training Resources\n",
    "- [Practice Python](http://www.practicepython.org)\n",
    "- [Python For Beginners](http://www.pythonforbeginners.com)\n",
    "* [RealPython Tutorials](https://realpython.com)\n",
    "    * [REALPYTHON First Steps With Python](https://realpython.com/learn/python-first-steps/)\n",
    "    * [REALPython Reading and Writing CSV Files in Python Tutorial](https://realpython.com/python-csv/)\n",
    "* [Grok Learning - Intro to Programming (Python)](https://groklearning.com/course/intro-python-1/)\n",
    "* [Hitchhiker's Guide to Python](http://docs.python-guide.org/en/latest/)\n",
    "* [Dive Into Python 3](http://www.diveintopython3.net/index.html)\n",
    "* [Computer Science Circles - Python 3](http://cscircles.cemc.uwaterloo.ca/)\n",
    "* [A Crash Course in Python for Scientists - Jupyter Notebook](http://nbviewer.jupyter.org/gist/anonymous/5924718)\n",
    "* [Interactive Textbooks](http://interactivepython.org/runestone/default/user/login)\n",
    "* [Python Course](http://www.python-course.eu/index.php)\n",
    "* [30 Python Language Features and Tricks You May Not Know About](http://sahandsaba.com/thirty-python-language-features-and-tricks-you-may-not-know.html)"
   ]
  },
  {
   "cell_type": "markdown",
   "metadata": {
    "slideshow": {
     "slide_type": "skip"
    }
   },
   "source": [
    "## Free eBook in HTML / PDF\n",
    "\n",
    "* [Automate the Boring Stuff with Python](https://automatetheboringstuff.com)\n",
    "- [Python for Everybody: Exploring Data In Python 3 (free ebook)](https://www.pythonlearn.com/book.php)\n",
    "- [How to Think Like A Computer Scientist (free ebook)](http://www.greenteapress.com/thinkpython/)\n",
    "- [Python for Biologists](http://pythonforbiologists.com)\n",
    "- [PyData 101 talk](https://speakerdeck.com/jakevdp/pydata-101)\n",
    "- http://interactivepython.org/runestone/default/user/login\n",
    "- http://openbookproject.net/books/bpp4awd/index.html"
   ]
  },
  {
   "cell_type": "markdown",
   "metadata": {
    "slideshow": {
     "slide_type": "skip"
    }
   },
   "source": [
    "## Video\n",
    "\n",
    "- [PyVideo.org](https://pyvideo.org/)\n",
    "- [PyCon](https://www.youtube.com/channel/UCsX05-2sVSH7Nx3zuk3NYuQ)\n",
    "- [PyData](https://www.youtube.com/channel/UCOjD18EJYcsBog4IozkF_7w)"
   ]
  },
  {
   "cell_type": "markdown",
   "metadata": {
    "slideshow": {
     "slide_type": "skip"
    }
   },
   "source": [
    "## Python Regular Expressions (pattern matching)\n",
    "\n",
    "- http://www.pyregex.com\n",
    "- http://pythex.org"
   ]
  },
  {
   "cell_type": "markdown",
   "metadata": {
    "slideshow": {
     "slide_type": "skip"
    }
   },
   "source": [
    "## Python CheatSheets\n",
    "\n",
    "- https://www.pythonsheets.com"
   ]
  },
  {
   "cell_type": "markdown",
   "metadata": {
    "slideshow": {
     "slide_type": "skip"
    }
   },
   "source": [
    "## Project Ideas\n",
    "\n",
    "* [Ideas for Python Projects](http://pythonpracticeprojects.com)"
   ]
  },
  {
   "cell_type": "markdown",
   "metadata": {
    "slideshow": {
     "slide_type": "skip"
    }
   },
   "source": [
    "## Python Developer Survey\n",
    "\n",
    "- https://www.jetbrains.com/research/python-developers-survey-2017/"
   ]
  },
  {
   "cell_type": "markdown",
   "metadata": {},
   "source": []
  },
  {
   "cell_type": "markdown",
   "metadata": {
    "slideshow": {
     "slide_type": "skip"
    }
   },
   "source": [
    "---"
   ]
  },
  {
   "cell_type": "markdown",
   "metadata": {
    "slideshow": {
     "slide_type": "skip"
    }
   },
   "source": [
    "Visualize Python Code execution:\n",
    "- http://www.pythontutor.com/visualize.html"
   ]
  },
  {
   "cell_type": "markdown",
   "metadata": {},
   "source": [
    "Python Programming Tutorial Videos\n",
    "- https://www.youtube.com/playlist?list=PLi01XoE8jYohWFPpC17Z-wWhPOSuh8Er-"
   ]
  },
  {
   "cell_type": "markdown",
   "metadata": {},
   "source": [
    "Pretty Printed - Python Web Development Video Courses\n",
    "- https://prettyprinted.com"
   ]
  },
  {
   "cell_type": "markdown",
   "metadata": {},
   "source": [
    "Automate the Boring Stuff\n",
    "- Book https://www.amazon.com/gp/product/B00WJ049VU/ref=as_li_qf_sp_asin_il_tl?ie=UTF8&camp=1789&creative=9325&creativeASIN=B00WJ049VU&linkCode=as2&tag=mickensblo-20&linkId=4IESNYH6IUN52LNU\n"
   ]
  },
  {
   "cell_type": "markdown",
   "metadata": {},
   "source": [
    "Head First Python: A Brain-Friendly Guide\n",
    "- https://www.amazon.com/gp/product/1491919531/ref=as_li_qf_asin_il_tl?ie=UTF8&tag=mickensblo-20&creative=9325&linkCode=as2&creativeASIN=1491919531&linkId=a8f7a74c7f83a96ebeb5ecd66912b9fb"
   ]
  },
  {
   "cell_type": "markdown",
   "metadata": {},
   "source": [
    "CodeCombat python learning for kids\n",
    "- https://codecombat.com"
   ]
  },
  {
   "cell_type": "markdown",
   "metadata": {},
   "source": [
    "# By Seminar Topic"
   ]
  },
  {
   "cell_type": "markdown",
   "metadata": {},
   "source": [
    "Jupyter Notebook\n",
    "\n",
    "http://www.blog.pythonlibrary.org/2018/10/09/how-to-export-jupyter-notebooks-into-other-formats/\n",
    "\n",
    "\n",
    "\n",
    "Markdown\n",
    "- [Markdown Table Generator](https://www.tablesgenerator.com/markdown_tables)\n",
    "\n",
    "\n",
    "\n",
    "Programming Concepts\n",
    "\n",
    "Resources\n",
    "Algorithms\n",
    "https://www.manning.com/books/grokking-algorithms\n",
    "https://www.toptal.com/developers/sorting-algorithms\n",
    "\n",
    "General python\n",
    "https://docs.python.org/3/tutorial/index.html\n"
   ]
  },
  {
   "cell_type": "markdown",
   "metadata": {},
   "source": [
    "Pandas Data Analysis\n",
    "---\n",
    "[Python for Data Analysis](http://shop.oreilly.com/product/0636920023784.do) Wes McKinney"
   ]
  },
  {
   "cell_type": "markdown",
   "metadata": {},
   "source": [
    "## Run Python in the Cloud\n",
    "- [PythonAnywhere](https://www.pythonanywhere.com/)"
   ]
  },
  {
   "cell_type": "code",
   "execution_count": null,
   "metadata": {},
   "outputs": [],
   "source": []
  }
 ],
 "metadata": {
  "anaconda-cloud": {},
  "gist_id": "cedf51e5d24af8694bfe",
  "kernelspec": {
   "display_name": "Python 3 (ipykernel)",
   "language": "python",
   "name": "python3"
  },
  "language_info": {
   "codemirror_mode": {
    "name": "ipython",
    "version": 3
   },
   "file_extension": ".py",
   "mimetype": "text/x-python",
   "name": "python",
   "nbconvert_exporter": "python",
   "pygments_lexer": "ipython3",
   "version": "3.9.12"
  }
 },
 "nbformat": 4,
 "nbformat_minor": 4
}
